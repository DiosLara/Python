{
 "cells": [
  {
   "cell_type": "markdown",
   "metadata": {
    "id": "DZjnVR1QyvY3"
   },
   "source": [
    "# Data Cleaning "
   ]
  },
  {
   "cell_type": "code",
   "execution_count": 1,
   "metadata": {
    "id": "ZNXANOcnyvY8"
   },
   "outputs": [],
   "source": [
    "import numpy as np\n",
    "from sklearn.impute import SimpleImputer\n",
    "import pandas as pd \n",
    "import matplotlib.pyplot as plt\n",
    "import seaborn as sns"
   ]
  },
  {
   "cell_type": "code",
   "execution_count": 2,
   "metadata": {
    "id": "WTd7HVXzyvY-"
   },
   "outputs": [],
   "source": [
    "Devops = pd.read_csv(\"D:/yesss.csv\")"
   ]
  },
  {
   "cell_type": "code",
   "execution_count": 3,
   "metadata": {
    "id": "gprp1O_ZyvY_"
   },
   "outputs": [],
   "source": [
    "#Fill the 'Raised to Date', 'Deal Size', 'Total Invested Equity'with Mean\n",
    "Devops['Raised to Date'] = Devops['Raised to Date'].fillna(Devops['Raised to Date'].mean())\n",
    "Devops['Deal Size'] = Devops['Deal Size'].fillna(Devops['Deal Size'].mean())\n",
    "Devops['Total Invested Equity'] = Devops['Total Invested Equity'].fillna(Devops['Total Invested Equity'].mean())"
   ]
  },
  {
   "cell_type": "code",
   "execution_count": 4,
   "metadata": {
    "id": "fWp3HG5vyvZB"
   },
   "outputs": [],
   "source": [
    "#Fill the 'Current Employees'with Median\n",
    "Devops['Current Employees'] = Devops['Current Employees'].fillna(Devops['Current Employees'].median())"
   ]
  },
  {
   "cell_type": "code",
   "execution_count": 5,
   "metadata": {
    "id": "2ES-1rTmyvZC"
   },
   "outputs": [],
   "source": [
    "#Fill the \"# Investors','# New Investors' with 0 for NaN\n",
    "Devops['# Investors'] = Devops['# Investors'].fillna(0)\n",
    "Devops['# New Investors'] = Devops['# New Investors'].fillna(0)"
   ]
  },
  {
   "cell_type": "code",
   "execution_count": 6,
   "metadata": {
    "id": "rsUSW1TxyvZD"
   },
   "outputs": [],
   "source": [
    "#Fill the \"VC Round' with 'No Round' for NaN\n",
    "Devops['VC Round'] = Devops['VC Round'].fillna('No Round')\n",
    "\n",
    "#Fill the \"Financing status' with 'No Round' for NaN\n",
    "Devops['Financing Status'] = Devops['Financing Status'].fillna('None')\n",
    "\n",
    "#Fill the \"Year Founded\" with Mode\n",
    "Devops['Year Founded'] = Devops['Year Founded'].fillna(2014)"
   ]
  },
  {
   "cell_type": "code",
   "execution_count": 7,
   "metadata": {
    "id": "mD9_uvclyvZE"
   },
   "outputs": [],
   "source": [
    "# Fill the Premoney Valuation, Post Valuation with -1\n",
    "Devops['Pre-money Valuation'] = Devops['Pre-money Valuation'].fillna(-1)\n",
    "Devops['Post Valuation'] = Devops['Post Valuation'].fillna(-1)\n",
    "\n",
    "#Fill the \"%Acquired\", \"price per Shae\" columns with 0\n",
    "Devops['% Acquired'] = Devops['% Acquired'].fillna(0)\n",
    "Devops['Price per Share'] = Devops['Price per Share'].fillna(0)\n",
    "\n",
    "\n",
    "#Fill the Series column with \"No categorization\"\n",
    "Devops['Series'] = Devops['Series'].fillna('No Categorization')"
   ]
  },
  {
   "cell_type": "code",
   "execution_count": 8,
   "metadata": {
    "colab": {
     "base_uri": "https://localhost:8080/"
    },
    "id": "DahHmZySyvZF",
    "outputId": "6147efad-83b2-454c-d2c9-18a8183db9e0",
    "scrolled": true
   },
   "outputs": [
    {
     "data": {
      "text/plain": [
       "Deal ID                     False\n",
       "Company ID                  False\n",
       "Primary Industry Sector     False\n",
       "Primary Industry Group      False\n",
       "Primary Industry Code       False\n",
       "All Industries              False\n",
       "Verticals                   False\n",
       "Keywords                    False\n",
       "Current Financing Status    False\n",
       "Current Business Status     False\n",
       "Universe                    False\n",
       "CEO PBId                     True\n",
       "CEO Education                True\n",
       "Deal No.                    False\n",
       "Deal ID.1                   False\n",
       "Deal Date                   False\n",
       "Deal Size                   False\n",
       "Deal Size Status            False\n",
       "Pre-money Valuation         False\n",
       "Post Valuation              False\n",
       "% Acquired                  False\n",
       "Raised to Date              False\n",
       "VC Round                    False\n",
       "Price per Share             False\n",
       "Series                      False\n",
       "Deal Type                   False\n",
       "Deal Class                  False\n",
       "Total Invested Equity       False\n",
       "Deal Status                 False\n",
       "Business Status             False\n",
       "Financing Status            False\n",
       "# Investors                 False\n",
       "# New Investors             False\n",
       "# Follow-on Investors       False\n",
       "Current Employees           False\n",
       "Native Currency of Deal     False\n",
       "HQ Location                 False\n",
       "HQ Global Region            False\n",
       "HQ Global Sub Region        False\n",
       "Company City                False\n",
       "Company Country             False\n",
       "Year Founded                False\n",
       "dtype: bool"
      ]
     },
     "execution_count": 8,
     "metadata": {},
     "output_type": "execute_result"
    }
   ],
   "source": [
    "Devops.isna().any()"
   ]
  },
  {
   "cell_type": "code",
   "execution_count": 10,
   "metadata": {
    "id": "vhETYpbZyvZH"
   },
   "outputs": [],
   "source": [
    "#Save the column after we are done \n",
    "Devops.to_csv(\"D:/DevOps_Cleaned.csv\", index=False)"
   ]
  },
  {
   "cell_type": "code",
   "execution_count": null,
   "metadata": {
    "id": "AJcV6sRtyvZI"
   },
   "outputs": [],
   "source": []
  },
  {
   "cell_type": "code",
   "execution_count": null,
   "metadata": {
    "id": "FAUNRj1yyvZJ"
   },
   "outputs": [],
   "source": []
  },
  {
   "cell_type": "markdown",
   "metadata": {},
   "source": [
    "# Boruta feature engineering (using R Studio)"
   ]
  },
  {
   "cell_type": "code",
   "execution_count": null,
   "metadata": {},
   "outputs": [],
   "source": [
    "#Input the dataset inside\n",
    "library(Boruta)\n",
    "DevOps<- read.csv('D:/DevOps_Cleaned.csv')\n",
    "library(caTools)                            #Split the dataset \n",
    "\n",
    "\n",
    "#Drop the Columns that are not related \n",
    "DevOps[ , c('Deal.ID', 'Company.ID','CEO.PBId','CEO.Education','HQ.Global.Sub.Region','Company.City')] <- list(NULL)\n",
    "\n",
    "\n",
    "##########FEATURE IMPORTANCE ANALYSIS WITH BORUTA FOR Premoney valuation#################################\n",
    "#Drop the Post Valuation \n",
    "DevOps_PreMoneyValuation = subset(DevOps, select = -c(Post.Valuation) )\n",
    "\n",
    "#Create copy of the original dataset remove the medical results columns \n",
    "DevOps_train_1 = DevOps_PreMoneyValuation\n",
    "\n",
    "#Perform Boruta analysis on the training set \n",
    "set.seed(100)\n",
    "boruta_analysis_1 = Boruta(Pre.money.Valuation~., data = DevOps_train_1, maxRuns=200)\n",
    "\n",
    "#Plot the Boruta results abd see the dataframe \n",
    "plot(boruta_analysis_1,las=2,main=\"Boruta Analysis: Feature Importance for Pre.money.Valuation\")\n",
    "as.data.frame(boruta_analysis_1$finalDecision)\n",
    "print(boruta_analysis_1)\n",
    "\n",
    "#Get all the confirmed columns as we see here \n",
    "final.boruta <- TentativeRoughFix(boruta_analysis_1)\n",
    "getSelectedAttributes(final.boruta, withTentative = F)\n",
    "\n",
    "#Create the data frame of the final result derived from Boruta.\n",
    "boruta.df <- attStats(final.boruta)\n",
    "class(boruta.df)\n",
    "print(boruta.df)\n",
    "\n",
    "\n",
    "##########FEATURE IMPORTANCE ANALYSIS WITH BORUTA FOR Postmoney valuation#################################\n",
    "#Drop the Post Valuation \n",
    "DevOps_PostValuation = subset(DevOps, select = -c(Pre.money.Valuation) )\n",
    "\n",
    "#Create copy of the original dataset remove the medical results columns \n",
    "DevOps_train_2 = DevOps_PostValuation\n",
    "\n",
    "#Perform Boruta analysis on the training set \n",
    "set.seed(110)\n",
    "boruta_analysis_2 = Boruta(Post.Valuation~., data = DevOps_train_2, maxRuns=200)\n",
    "\n",
    "#Plot the Boruta results abd see the dataframe \n",
    "plot(boruta_analysis_2,las=2,main=\"Boruta Analysis: Feature Importance for Post.Valuation \")\n",
    "as.data.frame(boruta_analysis_2$finalDecision)\n",
    "print(boruta_analysis_2)\n",
    "\n",
    "#Get all the confirmed columns as we see here \n",
    "final.boruta <- TentativeRoughFix(boruta_analysis_2)\n",
    "getSelectedAttributes(final.boruta, withTentative = F)\n",
    "\n",
    "#Create the data frame of the final result derived from Boruta.\n",
    "boruta.df <- attStats(final.boruta)\n",
    "class(boruta.df)\n",
    "print(boruta.df)\n"
   ]
  },
  {
   "cell_type": "code",
   "execution_count": null,
   "metadata": {},
   "outputs": [],
   "source": []
  },
  {
   "cell_type": "code",
   "execution_count": null,
   "metadata": {},
   "outputs": [],
   "source": []
  },
  {
   "cell_type": "markdown",
   "metadata": {
    "id": "npUrLxQyyvZK"
   },
   "source": [
    "# Regression analysis"
   ]
  },
  {
   "cell_type": "markdown",
   "metadata": {
    "id": "cwIG8ASQyvZM"
   },
   "source": [
    "After performing the Boruta analysis with R, I will do the rest in Python "
   ]
  },
  {
   "cell_type": "code",
   "execution_count": 10,
   "metadata": {
    "id": "NmhW2NQHyvZM"
   },
   "outputs": [],
   "source": [
    "#Install additionall packages \n",
    "import random\n",
    "import numpy as np\n",
    "import pandas as pd\n",
    "import matplotlib.pyplot as plt \n",
    "\n",
    "\n",
    "from sklearn.preprocessing import StandardScaler, LabelEncoder\n",
    "from sklearn.model_selection import train_test_split\n",
    "from sklearn.metrics import  r2_score, mean_squared_error \n",
    "from sklearn.preprocessing import StandardScaler \n",
    "from sklearn.preprocessing import KBinsDiscretizer\n",
    "from sklearn.ensemble import RandomForestRegressor\n",
    "from sklearn.tree import DecisionTreeRegressor\n",
    "from sklearn.linear_model import LinearRegression \n",
    "from sklearn.linear_model import Ridge"
   ]
  },
  {
   "cell_type": "markdown",
   "metadata": {
    "id": "pUGYy17ryvZN"
   },
   "source": [
    "### Premoney"
   ]
  },
  {
   "cell_type": "code",
   "execution_count": 11,
   "metadata": {
    "id": "oyfvQNeHyvZP"
   },
   "outputs": [],
   "source": [
    "#Assign the values to X and Y \n",
    "X_pre = Devops[[\"Deal Size\", \"% Acquired\", \"Raised to Date\",\"VC Round\",\n",
    "                                 \"Price per Share\",\"Series\",\"Deal Type\", \"Total Invested Equity\",\n",
    "                                 \"Current Employees\", \"HQ Global Region\", \"Company Country\"]]\n",
    "y_pre= Devops[[\"Pre-money Valuation\"]]"
   ]
  },
  {
   "cell_type": "code",
   "execution_count": 12,
   "metadata": {
    "id": "iRVinlXvyvZQ"
   },
   "outputs": [],
   "source": [
    "#Transform dataset into workable format\n",
    "encode=LabelEncoder()\n",
    "X_pre = X_pre.apply(encode.fit_transform)\n",
    "\n",
    "\n",
    "#Splitting the training set and test set \n",
    "random.seed(111)\n",
    "X_train_pre, X_test_pre, y_train_pre, y_test_pre = train_test_split(X_pre, y_pre, test_size =0.25, random_state=42)"
   ]
  },
  {
   "cell_type": "code",
   "execution_count": 13,
   "metadata": {
    "colab": {
     "base_uri": "https://localhost:8080/"
    },
    "id": "A4-rNeW3yvZQ",
    "outputId": "73b2ccf2-bcb8-42e5-f9b8-6fe00e3d33bc"
   },
   "outputs": [
    {
     "data": {
      "text/plain": [
       "Ridge()"
      ]
     },
     "execution_count": 13,
     "metadata": {},
     "output_type": "execute_result"
    }
   ],
   "source": [
    "#Building the regressor and fit the dataset in\n",
    "#Random Forest\n",
    "regressor_pre1 = RandomForestRegressor(n_estimators=100, criterion='mse', random_state=42, n_jobs=-1)\n",
    "regressor_pre1.fit(X_train_pre, y_train_pre.squeeze())\n",
    "\n",
    "#Decision Tree\n",
    "regressor_pre2 = DecisionTreeRegressor(random_state= 0)\n",
    "regressor_pre2.fit(X_train_pre, y_train_pre)\n",
    "\n",
    "#Ridge Regression\n",
    "regressor_pre3 = Ridge(alpha=1.0)\n",
    "regressor_pre3.fit(X_train_pre, y_train_pre)"
   ]
  },
  {
   "cell_type": "code",
   "execution_count": 14,
   "metadata": {
    "colab": {
     "base_uri": "https://localhost:8080/"
    },
    "id": "_Tx1IGsTyvZS",
    "outputId": "457371f7-4bcd-4ead-beb2-513fc033cc77"
   },
   "outputs": [
    {
     "name": "stdout",
     "output_type": "stream",
     "text": [
      "PRE MONEY VALUTION\n",
      "Random Forest\n",
      "MSE- train: 11727.508, test: 39093.378\n",
      "R^2- train: 0.963, test: 0.809\n",
      "-----------------------------------------------------\n",
      "Decision Tree\n",
      "MSE- train: 0.000, test: 126837.930\n",
      "R^2c train: 1.000, test: 0.381\n",
      "-----------------------------------------------------\n",
      "Ridge Regression\n",
      "MSE- train: 239609.639, test: 143237.836\n",
      "R^2- train: 0.251, test: 0.301\n"
     ]
    }
   ],
   "source": [
    "#Model accuracties and validation analysis\n",
    "print('PRE MONEY VALUTION')\n",
    "\n",
    "#Random forest\n",
    "y_train_pre_preds1 = regressor_pre1.predict(X_train_pre)\n",
    "y_test_pre_preds1 = regressor_pre1.predict(X_test_pre)\n",
    "print('Random Forest')\n",
    "print('MSE- train: %.3f, test: %.3f' % (mean_squared_error(y_train_pre, y_train_pre_preds1), mean_squared_error(y_test_pre, y_test_pre_preds1)))\n",
    "print('R^2- train: %.3f, test: %.3f' % (r2_score(y_train_pre, y_train_pre_preds1),r2_score(y_test_pre, y_test_pre_preds1)))\n",
    "print('-----------------------------------------------------')\n",
    "\n",
    "#Decision Tree\n",
    "y_train_pre_preds2 = regressor_pre2.predict(X_train_pre)\n",
    "y_test_pre_preds2 = regressor_pre2.predict(X_test_pre)\n",
    "print('Decision Tree')\n",
    "print('MSE- train: %.3f, test: %.3f' % ( mean_squared_error(y_train_pre, y_train_pre_preds2), mean_squared_error(y_test_pre, y_test_pre_preds2)))\n",
    "print('R^2c train: %.3f, test: %.3f' % ( r2_score(y_train_pre, y_train_pre_preds2),r2_score(y_test_pre, y_test_pre_preds2)))\n",
    "print('-----------------------------------------------------')\n",
    "\n",
    "\n",
    "#Ridge Regression\n",
    "y_train_pre_preds3 = regressor_pre3.predict(X_train_pre)\n",
    "y_test_pre_preds3 = regressor_pre3.predict(X_test_pre)\n",
    "print('Ridge Regression')\n",
    "print('MSE- train: %.3f, test: %.3f' % ( mean_squared_error(y_train_pre, y_train_pre_preds3), mean_squared_error(y_test_pre, y_test_pre_preds3)))\n",
    "print('R^2- train: %.3f, test: %.3f' % ( r2_score(y_train_pre, y_train_pre_preds3),r2_score(y_test_pre, y_test_pre_preds3)))"
   ]
  },
  {
   "cell_type": "markdown",
   "metadata": {
    "id": "gSEaxx4pyvZU"
   },
   "source": [
    "Because the value is too small for Ridge Regression, we will drop it for Post Valuation "
   ]
  },
  {
   "cell_type": "markdown",
   "metadata": {
    "id": "HdsByTvsyvZU"
   },
   "source": [
    "### Postmoney"
   ]
  },
  {
   "cell_type": "code",
   "execution_count": 15,
   "metadata": {
    "id": "VrQbposJyvZV"
   },
   "outputs": [],
   "source": [
    "#Assign the values to X and Y \n",
    "X_post = Devops[[\"Deal Size\", \"% Acquired\", \"Raised to Date\",\"VC Round\",\n",
    "                                 \"Price per Share\",\"Series\",\"Deal Type\", \"Total Invested Equity\",\n",
    "                                  \"Financing Status\", \"# Investors\" , \"Current Employees\", \"HQ Location\",\n",
    "                                  \"HQ Global Region\", \"Company Country\", \"Year Founded\"]]\n",
    "y_post= Devops[[\"Post Valuation\"]]"
   ]
  },
  {
   "cell_type": "code",
   "execution_count": 16,
   "metadata": {
    "id": "dDvCUd54yvZW"
   },
   "outputs": [],
   "source": [
    "#Transform dataset into workable format\n",
    "encode=LabelEncoder()\n",
    "X_post = X_post.apply(encode.fit_transform)\n",
    "\n",
    "\n",
    "#Splitting the training set and test set \n",
    "random.seed(112)\n",
    "X_train_post, X_test_post, y_train_post, y_test_post = train_test_split(X_post, y_post, test_size =0.25, random_state=42)"
   ]
  },
  {
   "cell_type": "code",
   "execution_count": 17,
   "metadata": {
    "colab": {
     "base_uri": "https://localhost:8080/"
    },
    "id": "YiRLYlfbyvZY",
    "outputId": "9ed0707b-35f1-4bbd-fcd2-5972a81d61c4"
   },
   "outputs": [
    {
     "data": {
      "text/plain": [
       "DecisionTreeRegressor(random_state=0)"
      ]
     },
     "execution_count": 17,
     "metadata": {},
     "output_type": "execute_result"
    }
   ],
   "source": [
    "#Building the regressor and fit the dataset in\n",
    "#Random Forest\n",
    "regressor_post1 = RandomForestRegressor(n_estimators=100, criterion='mse', random_state=42, n_jobs=-1)\n",
    "regressor_post1.fit(X_train_post, y_train_post.squeeze())\n",
    "\n",
    "#Decision Tree\n",
    "regressor_post2 = DecisionTreeRegressor(random_state= 0)\n",
    "regressor_post2.fit(X_train_post, y_train_post)"
   ]
  },
  {
   "cell_type": "code",
   "execution_count": 18,
   "metadata": {
    "colab": {
     "base_uri": "https://localhost:8080/"
    },
    "id": "SMSUwvOMyvZb",
    "outputId": "b412624e-fe69-4d89-c040-9ebf8ef0a464"
   },
   "outputs": [
    {
     "name": "stdout",
     "output_type": "stream",
     "text": [
      "POST VALUATION\n",
      "Random Forest\n",
      "MSE- train: 12950.033, test: 42631.631\n",
      "R^2- train: 0.965, test: 0.820\n",
      "-----------------------------------------------------\n",
      "Decision Tree\n",
      "MSE- train: 0.000, test: 73829.949\n",
      "R^2- train: 1.000, test: 0.688\n"
     ]
    }
   ],
   "source": [
    "#Model accuracties and validation analysis\n",
    "print('POST VALUATION')\n",
    "\n",
    "\n",
    "#Random forest\n",
    "y_train_post_preds1 = regressor_post1.predict(X_train_post)\n",
    "y_test_post_preds1 = regressor_post1.predict(X_test_post)\n",
    "print('Random Forest')\n",
    "print('MSE- train: %.3f, test: %.3f' % (mean_squared_error(y_train_post, y_train_post_preds1), mean_squared_error(y_test_post, y_test_post_preds1)))\n",
    "print('R^2- train: %.3f, test: %.3f' % (r2_score(y_train_post, y_train_post_preds1),r2_score(y_test_post, y_test_post_preds1)))\n",
    "print('-----------------------------------------------------')\n",
    "\n",
    "#Decision Tree\n",
    "y_train_post_preds2 = regressor_post2.predict(X_train_post)\n",
    "y_test_post_preds2 = regressor_post2.predict(X_test_post)\n",
    "print('Decision Tree')\n",
    "print('MSE- train: %.3f, test: %.3f' % ( mean_squared_error(y_train_post, y_train_post_preds2), mean_squared_error(y_test_post, y_test_post_preds2)))\n",
    "print('R^2- train: %.3f, test: %.3f' % ( r2_score(y_train_post, y_train_post_preds2),r2_score(y_test_post, y_test_post_preds2)))\n"
   ]
  },
  {
   "cell_type": "code",
   "execution_count": null,
   "metadata": {
    "id": "whpR07LayvZd"
   },
   "outputs": [],
   "source": []
  },
  {
   "cell_type": "code",
   "execution_count": null,
   "metadata": {
    "id": "a2BO9eQlyvZd"
   },
   "outputs": [],
   "source": []
  },
  {
   "cell_type": "markdown",
   "metadata": {
    "id": "2q4e8RewyvZe"
   },
   "source": [
    "# Improving the models"
   ]
  },
  {
   "cell_type": "markdown",
   "metadata": {
    "id": "4paXP_pByvZf"
   },
   "source": [
    "### K-fold cross validation"
   ]
  },
  {
   "cell_type": "code",
   "execution_count": 19,
   "metadata": {
    "colab": {
     "base_uri": "https://localhost:8080/"
    },
    "id": "bjgcQgxOyvZf",
    "outputId": "5f3f003b-d8e3-4336-be7c-b340d8330abc"
   },
   "outputs": [
    {
     "name": "stderr",
     "output_type": "stream",
     "text": [
      "C:\\Users\\HP\\Anaconda3\\lib\\site-packages\\sklearn\\model_selection\\_validation.py:531: DataConversionWarning: A column-vector y was passed when a 1d array was expected. Please change the shape of y to (n_samples,), for example using ravel().\n",
      "  estimator.fit(X_train, y_train, **fit_params)\n",
      "C:\\Users\\HP\\Anaconda3\\lib\\site-packages\\sklearn\\model_selection\\_validation.py:531: DataConversionWarning: A column-vector y was passed when a 1d array was expected. Please change the shape of y to (n_samples,), for example using ravel().\n",
      "  estimator.fit(X_train, y_train, **fit_params)\n",
      "C:\\Users\\HP\\Anaconda3\\lib\\site-packages\\sklearn\\model_selection\\_validation.py:531: DataConversionWarning: A column-vector y was passed when a 1d array was expected. Please change the shape of y to (n_samples,), for example using ravel().\n",
      "  estimator.fit(X_train, y_train, **fit_params)\n",
      "C:\\Users\\HP\\Anaconda3\\lib\\site-packages\\sklearn\\model_selection\\_validation.py:531: DataConversionWarning: A column-vector y was passed when a 1d array was expected. Please change the shape of y to (n_samples,), for example using ravel().\n",
      "  estimator.fit(X_train, y_train, **fit_params)\n",
      "C:\\Users\\HP\\Anaconda3\\lib\\site-packages\\sklearn\\model_selection\\_validation.py:531: DataConversionWarning: A column-vector y was passed when a 1d array was expected. Please change the shape of y to (n_samples,), for example using ravel().\n",
      "  estimator.fit(X_train, y_train, **fit_params)\n",
      "C:\\Users\\HP\\Anaconda3\\lib\\site-packages\\sklearn\\model_selection\\_validation.py:531: DataConversionWarning: A column-vector y was passed when a 1d array was expected. Please change the shape of y to (n_samples,), for example using ravel().\n",
      "  estimator.fit(X_train, y_train, **fit_params)\n",
      "C:\\Users\\HP\\Anaconda3\\lib\\site-packages\\sklearn\\model_selection\\_validation.py:531: DataConversionWarning: A column-vector y was passed when a 1d array was expected. Please change the shape of y to (n_samples,), for example using ravel().\n",
      "  estimator.fit(X_train, y_train, **fit_params)\n",
      "C:\\Users\\HP\\Anaconda3\\lib\\site-packages\\sklearn\\model_selection\\_validation.py:531: DataConversionWarning: A column-vector y was passed when a 1d array was expected. Please change the shape of y to (n_samples,), for example using ravel().\n",
      "  estimator.fit(X_train, y_train, **fit_params)\n",
      "C:\\Users\\HP\\Anaconda3\\lib\\site-packages\\sklearn\\model_selection\\_validation.py:531: DataConversionWarning: A column-vector y was passed when a 1d array was expected. Please change the shape of y to (n_samples,), for example using ravel().\n",
      "  estimator.fit(X_train, y_train, **fit_params)\n",
      "C:\\Users\\HP\\Anaconda3\\lib\\site-packages\\sklearn\\model_selection\\_validation.py:531: DataConversionWarning: A column-vector y was passed when a 1d array was expected. Please change the shape of y to (n_samples,), for example using ravel().\n",
      "  estimator.fit(X_train, y_train, **fit_params)\n"
     ]
    },
    {
     "name": "stdout",
     "output_type": "stream",
     "text": [
      "R^2 of Prevalue Random Forest folds are:  [ 0.72657822  0.23103399  0.92449948  0.96040389 -0.1532754   0.23168322\n",
      "  0.63462776  0.84304347  0.67177795 -0.27132277]\n",
      "Mean of the RD R^2 is:  0.48\n",
      "STD of the RD R^2 is:  0.421\n"
     ]
    }
   ],
   "source": [
    "#Cross Validation for Prevalue's Random Forest\n",
    "from sklearn.model_selection import cross_val_score\n",
    "R2_pre = cross_val_score(estimator = regressor_pre1, X = X_train_pre, y = y_train_pre, cv = 10, scoring = 'r2' )\n",
    "                            #estimator: estimator object implementing 'fit'. The object that u use to fit the model. we called 'classifier' above \n",
    "                            #cv:the number of folds u want to split teh training set into. Most common is 10\n",
    "                            #We can check the accurracies here if we want.\n",
    "#Now we take the mean and std of the accuracies then we can know how well the model perform \n",
    "a1= R2_pre.mean()\n",
    "a2= R2_pre.std()\n",
    "print('R^2 of Prevalue Random Forest folds are: ',R2_pre)\n",
    "print('Mean of the RD R^2 is: ',round(a1,3))\n",
    "print('STD of the RD R^2 is: ',round(a2,3))"
   ]
  },
  {
   "cell_type": "code",
   "execution_count": 20,
   "metadata": {
    "colab": {
     "base_uri": "https://localhost:8080/"
    },
    "id": "E83GEidSyvZg",
    "outputId": "26c68df4-1a1a-4061-a03e-f98bdee17bde"
   },
   "outputs": [
    {
     "name": "stderr",
     "output_type": "stream",
     "text": [
      "C:\\Users\\HP\\Anaconda3\\lib\\site-packages\\sklearn\\model_selection\\_validation.py:531: DataConversionWarning: A column-vector y was passed when a 1d array was expected. Please change the shape of y to (n_samples,), for example using ravel().\n",
      "  estimator.fit(X_train, y_train, **fit_params)\n",
      "C:\\Users\\HP\\Anaconda3\\lib\\site-packages\\sklearn\\model_selection\\_validation.py:531: DataConversionWarning: A column-vector y was passed when a 1d array was expected. Please change the shape of y to (n_samples,), for example using ravel().\n",
      "  estimator.fit(X_train, y_train, **fit_params)\n",
      "C:\\Users\\HP\\Anaconda3\\lib\\site-packages\\sklearn\\model_selection\\_validation.py:531: DataConversionWarning: A column-vector y was passed when a 1d array was expected. Please change the shape of y to (n_samples,), for example using ravel().\n",
      "  estimator.fit(X_train, y_train, **fit_params)\n",
      "C:\\Users\\HP\\Anaconda3\\lib\\site-packages\\sklearn\\model_selection\\_validation.py:531: DataConversionWarning: A column-vector y was passed when a 1d array was expected. Please change the shape of y to (n_samples,), for example using ravel().\n",
      "  estimator.fit(X_train, y_train, **fit_params)\n",
      "C:\\Users\\HP\\Anaconda3\\lib\\site-packages\\sklearn\\model_selection\\_validation.py:531: DataConversionWarning: A column-vector y was passed when a 1d array was expected. Please change the shape of y to (n_samples,), for example using ravel().\n",
      "  estimator.fit(X_train, y_train, **fit_params)\n",
      "C:\\Users\\HP\\Anaconda3\\lib\\site-packages\\sklearn\\model_selection\\_validation.py:531: DataConversionWarning: A column-vector y was passed when a 1d array was expected. Please change the shape of y to (n_samples,), for example using ravel().\n",
      "  estimator.fit(X_train, y_train, **fit_params)\n",
      "C:\\Users\\HP\\Anaconda3\\lib\\site-packages\\sklearn\\model_selection\\_validation.py:531: DataConversionWarning: A column-vector y was passed when a 1d array was expected. Please change the shape of y to (n_samples,), for example using ravel().\n",
      "  estimator.fit(X_train, y_train, **fit_params)\n",
      "C:\\Users\\HP\\Anaconda3\\lib\\site-packages\\sklearn\\model_selection\\_validation.py:531: DataConversionWarning: A column-vector y was passed when a 1d array was expected. Please change the shape of y to (n_samples,), for example using ravel().\n",
      "  estimator.fit(X_train, y_train, **fit_params)\n",
      "C:\\Users\\HP\\Anaconda3\\lib\\site-packages\\sklearn\\model_selection\\_validation.py:531: DataConversionWarning: A column-vector y was passed when a 1d array was expected. Please change the shape of y to (n_samples,), for example using ravel().\n",
      "  estimator.fit(X_train, y_train, **fit_params)\n",
      "C:\\Users\\HP\\Anaconda3\\lib\\site-packages\\sklearn\\model_selection\\_validation.py:531: DataConversionWarning: A column-vector y was passed when a 1d array was expected. Please change the shape of y to (n_samples,), for example using ravel().\n",
      "  estimator.fit(X_train, y_train, **fit_params)\n"
     ]
    },
    {
     "name": "stdout",
     "output_type": "stream",
     "text": [
      "R^2 of PostValue Random Forest folds are:  [ 0.86371967  0.42666836  0.91390033  0.90356983 -0.24090354  0.3613858\n",
      "  0.61175546  0.80660106  0.71845119  0.11358891]\n",
      "Mean of the RD R^2 is:  0.548\n",
      "STD of the RD R^2 is:  0.363\n"
     ]
    }
   ],
   "source": [
    "#Cross Validation for PostValue's Random Forest \n",
    "from sklearn.model_selection import cross_val_score\n",
    "R2_post = cross_val_score(estimator = regressor_post1, X = X_train_post, y = y_train_post, cv = 10, scoring = 'r2' )\n",
    "\n",
    "a3= R2_post.mean()\n",
    "a4= R2_post.std()\n",
    "print('R^2 of PostValue Random Forest folds are: ',R2_post)\n",
    "print('Mean of the RD R^2 is: ',round(a3,3))\n",
    "print('STD of the RD R^2 is: ',round(a4,3))"
   ]
  },
  {
   "cell_type": "markdown",
   "metadata": {
    "id": "m--kil9myvZi"
   },
   "source": [
    "### Grid Search "
   ]
  },
  {
   "cell_type": "code",
   "execution_count": 27,
   "metadata": {
    "colab": {
     "base_uri": "https://localhost:8080/"
    },
    "id": "6QbnHTk-yvZr",
    "outputId": "7f186117-2adf-47bf-d79c-c21b6ee2f44c"
   },
   "outputs": [
    {
     "name": "stdout",
     "output_type": "stream",
     "text": [
      "Best R^2 of Grid Search for PreValue RF:  0.7379953329822534\n",
      "Best Parameters of Grid Search for PreValue RF:  {'bootstrap': False, 'max_depth': 20, 'max_features': 'sqrt', 'n_estimators': 10}\n"
     ]
    },
    {
     "name": "stderr",
     "output_type": "stream",
     "text": [
      "C:\\Users\\HP\\Anaconda3\\lib\\site-packages\\sklearn\\model_selection\\_search.py:765: DataConversionWarning: A column-vector y was passed when a 1d array was expected. Please change the shape of y to (n_samples,), for example using ravel().\n",
      "  self.best_estimator_.fit(X, y, **fit_params)\n"
     ]
    }
   ],
   "source": [
    "#Appplying the Grid search to find the best model and best parameters for for PreValue's Random Forest\n",
    "from sklearn.model_selection import GridSearchCV\n",
    "parameters = [{'bootstrap': [True, False],\n",
    "                'max_depth': [10, 20, 30, None],\n",
    "                'max_features': ['auto', 'sqrt'],\n",
    "                 'n_estimators': [10, 30, 200,300]}]                    \n",
    "                    #Find the parameters (key identifiers) that we can optimize \n",
    "                    #Input a list of dictionaries, then we have key identifiers that weill be tested with the grid serach model and the grid search model will find the best one \n",
    "grid_search_pre = GridSearchCV(estimator = regressor_pre1,\n",
    "                           param_grid = parameters,\n",
    "                           scoring = 'r2',\n",
    "                           cv = 10,\n",
    "                           n_jobs = -1)\n",
    "                    #estimator: our machine learning model\n",
    "                    #param_gid: 'parameters' are teh thigns we try to compare \n",
    "                    #scoring: the metrics, it can be anything - accuracy, precision,recall,etc.Accuracy is the most common one \n",
    "                    #cv: the k in kfold cross validation, the true grid will evalute the accuracy on each of fold \n",
    "                    #n_jobs=-1: in case we will use this on the big dataset  \n",
    "grid_search_pre  = grid_search_pre.fit(X_train_pre, y_train_pre)\n",
    "best_R2_pre = grid_search_pre.best_score_\n",
    "best_parameters_pre = grid_search_pre.best_params_\n",
    "\n",
    "print('Best R^2 of Grid Search for PreValue RF: ',best_R2_pre)\n",
    "print('Best Parameters of Grid Search for PreValue RF: ',best_parameters_pre)"
   ]
  },
  {
   "cell_type": "code",
   "execution_count": 28,
   "metadata": {
    "colab": {
     "base_uri": "https://localhost:8080/"
    },
    "id": "juf5JW2H6PAu",
    "outputId": "e9bb48b4-c4e1-4470-8795-7ba70ab33f2a"
   },
   "outputs": [
    {
     "name": "stdout",
     "output_type": "stream",
     "text": [
      "Best R^2 of Grid Search for PostValue RF :  0.7126914562524338\n",
      "Best Parameters of Grid Search for PostValue RF:  {'bootstrap': False, 'max_depth': None, 'max_features': 'sqrt', 'n_estimators': 10}\n"
     ]
    },
    {
     "name": "stderr",
     "output_type": "stream",
     "text": [
      "C:\\Users\\HP\\Anaconda3\\lib\\site-packages\\sklearn\\model_selection\\_search.py:765: DataConversionWarning: A column-vector y was passed when a 1d array was expected. Please change the shape of y to (n_samples,), for example using ravel().\n",
      "  self.best_estimator_.fit(X, y, **fit_params)\n"
     ]
    }
   ],
   "source": [
    "#Appplying the Grid search to find the best model and best parameters for for PostValue's Random Forest\n",
    "grid_search_post = GridSearchCV(estimator = regressor_post1,\n",
    "                           param_grid = parameters,\n",
    "                           scoring = 'r2',\n",
    "                           cv = 10,\n",
    "                           n_jobs = -1)  \n",
    "grid_search_post  = grid_search_post.fit(X_train_post, y_train_post)\n",
    "best_R2_post = grid_search_post.best_score_\n",
    "best_parameters_post = grid_search_post.best_params_\n",
    "\n",
    "print('Best R^2 of Grid Search for PostValue RF : ',best_R2_post)\n",
    "print('Best Parameters of Grid Search for PostValue RF: ',best_parameters_post)"
   ]
  },
  {
   "cell_type": "code",
   "execution_count": 26,
   "metadata": {
    "id": "G3vRre3h64in"
   },
   "outputs": [
    {
     "name": "stdout",
     "output_type": "stream",
     "text": [
      "Optimized Random Forest for PreValuation\n",
      "MSE- test: 60472.714\n",
      "R^2- test: 0.705\n",
      "-----------------------------------------------------\n",
      "Optimized Random Forest for PostValuation\n",
      "MSE- test: 52246.255\n",
      "R^2- test: 0.779\n"
     ]
    }
   ],
   "source": [
    "#Applying The best model to the test set \n",
    "#PreValuation dataset \n",
    "regressor_preOptimized = RandomForestRegressor(n_estimators=10, criterion='mse', random_state=42, n_jobs=-1,\n",
    "                                               bootstrap= False, max_depth = 20, max_features = 'sqrt')\n",
    "regressor_preOptimized.fit(X_train_pre, y_train_pre.squeeze())\n",
    "y_test_preOptimized_preds = regressor_preOptimized.predict(X_test_pre)\n",
    "print('Optimized Random Forest for PreValuation')\n",
    "print('MSE- test: %.3f' % (mean_squared_error(y_test_pre, y_test_preOptimized_preds)))\n",
    "print('R^2- test: %.3f' % (r2_score(y_test_pre, y_test_preOptimized_preds)))\n",
    "print('-----------------------------------------------------')\n",
    "\n",
    "#PostValuation dataset \n",
    "regressor_postOptimized = RandomForestRegressor(n_estimators=10, criterion='mse', random_state=42, n_jobs=-1,\n",
    "                                                bootstrap= False, max_depth = None, max_features = 'sqrt')\n",
    "regressor_postOptimized.fit(X_train_post, y_train_post.squeeze())\n",
    "y_test_postOptimized_preds = regressor_postOptimized.predict(X_test_post)\n",
    "print('Optimized Random Forest for PostValuation')\n",
    "print('MSE- test: %.3f' % (mean_squared_error(y_test_post, y_test_postOptimized_preds)))\n",
    "print('R^2- test: %.3f' % (r2_score(y_test_post, y_test_postOptimized_preds)))\n"
   ]
  },
  {
   "cell_type": "code",
   "execution_count": null,
   "metadata": {},
   "outputs": [],
   "source": []
  }
 ],
 "metadata": {
  "accelerator": "GPU",
  "colab": {
   "collapsed_sections": [],
   "name": "XN's Lukas part-FINAL.ipynb",
   "provenance": [],
   "toc_visible": true
  },
  "kernelspec": {
   "display_name": "Python 3",
   "language": "python",
   "name": "python3"
  },
  "language_info": {
   "codemirror_mode": {
    "name": "ipython",
    "version": 3
   },
   "file_extension": ".py",
   "mimetype": "text/x-python",
   "name": "python",
   "nbconvert_exporter": "python",
   "pygments_lexer": "ipython3",
   "version": "3.7.3"
  }
 },
 "nbformat": 4,
 "nbformat_minor": 1
}
