{
 "cells": [
  {
   "cell_type": "code",
   "execution_count": 1,
   "metadata": {},
   "outputs": [],
   "source": [
    "# Importing the libraries \n",
    "import sys\n",
    "import numpy as np \n",
    "import pandas as pd \n",
    "import os "
   ]
  },
  {
   "cell_type": "markdown",
   "metadata": {},
   "source": [
    "### Table: ABSTRACTS"
   ]
  },
  {
   "cell_type": "code",
   "execution_count": 2,
   "metadata": {},
   "outputs": [
    {
     "name": "stdout",
     "output_type": "stream",
     "text": [
      "The number of articles are: 167470\n"
     ]
    },
    {
     "name": "stderr",
     "output_type": "stream",
     "text": [
      "C:\\Users\\HP\\Anaconda3\\lib\\site-packages\\IPython\\core\\interactiveshell.py:3063: DtypeWarning: Columns (5,6,13,14,16) have mixed types.Specify dtype option on import or set low_memory=False.\n",
      "  interactivity=interactivity, compiler=compiler, result=result)\n"
     ]
    }
   ],
   "source": [
    "#Import the information\n",
    "df=pd.read_csv('E:/NorthEastern University/XN-Hackathon Covid/Kaggle Data/metadata.csv') \n",
    "print('The number of articles are:',df.shape[0])"
   ]
  },
  {
   "cell_type": "code",
   "execution_count": 3,
   "metadata": {},
   "outputs": [],
   "source": [
    "#Select only title, abstract, date, link to the article, and authors\n",
    "tablesAbstract= df [['title', 'abstract', 'publish_time', 'url', 'authors']]"
   ]
  },
  {
   "cell_type": "code",
   "execution_count": 4,
   "metadata": {},
   "outputs": [
    {
     "name": "stderr",
     "output_type": "stream",
     "text": [
      "C:\\Users\\HP\\Anaconda3\\lib\\site-packages\\ipykernel_launcher.py:2: SettingWithCopyWarning: \n",
      "A value is trying to be set on a copy of a slice from a DataFrame.\n",
      "Try using .loc[row_indexer,col_indexer] = value instead\n",
      "\n",
      "See the caveats in the documentation: https://pandas.pydata.org/pandas-docs/stable/user_guide/indexing.html#returning-a-view-versus-a-copy\n",
      "  \n"
     ]
    },
    {
     "data": {
      "text/html": [
       "<div>\n",
       "<style scoped>\n",
       "    .dataframe tbody tr th:only-of-type {\n",
       "        vertical-align: middle;\n",
       "    }\n",
       "\n",
       "    .dataframe tbody tr th {\n",
       "        vertical-align: top;\n",
       "    }\n",
       "\n",
       "    .dataframe thead th {\n",
       "        text-align: right;\n",
       "    }\n",
       "</style>\n",
       "<table border=\"1\" class=\"dataframe\">\n",
       "  <thead>\n",
       "    <tr style=\"text-align: right;\">\n",
       "      <th></th>\n",
       "      <th>title</th>\n",
       "      <th>abstract</th>\n",
       "      <th>publish_time</th>\n",
       "      <th>url</th>\n",
       "      <th>authors</th>\n",
       "      <th>words</th>\n",
       "    </tr>\n",
       "  </thead>\n",
       "  <tbody>\n",
       "    <tr>\n",
       "      <th>0</th>\n",
       "      <td>Clinical features of culture-proven Mycoplasma...</td>\n",
       "      <td>OBJECTIVE: This retrospective chart review des...</td>\n",
       "      <td>2001-07-04</td>\n",
       "      <td>https://www.ncbi.nlm.nih.gov/pmc/articles/PMC3...</td>\n",
       "      <td>Madani, Tariq A; Al-Ghamdi, Aisha A</td>\n",
       "      <td>[OBJECTIVE, This, retrospective, chart, review...</td>\n",
       "    </tr>\n",
       "    <tr>\n",
       "      <th>1</th>\n",
       "      <td>Nitric oxide: a pro-inflammatory mediator in l...</td>\n",
       "      <td>Inflammatory diseases of the respiratory tract...</td>\n",
       "      <td>2000-08-15</td>\n",
       "      <td>https://www.ncbi.nlm.nih.gov/pmc/articles/PMC5...</td>\n",
       "      <td>Vliet, Albert van der; Eiserich, Jason P; Cros...</td>\n",
       "      <td>[Inflammatory, diseases, of, the, respiratory,...</td>\n",
       "    </tr>\n",
       "    <tr>\n",
       "      <th>2</th>\n",
       "      <td>Surfactant protein-D and pulmonary host defense</td>\n",
       "      <td>Surfactant protein-D (SP-D) participates in th...</td>\n",
       "      <td>2000-08-25</td>\n",
       "      <td>https://www.ncbi.nlm.nih.gov/pmc/articles/PMC5...</td>\n",
       "      <td>Crouch, Erika C</td>\n",
       "      <td>[Surfactant, protein, D, SP, D, participates, ...</td>\n",
       "    </tr>\n",
       "  </tbody>\n",
       "</table>\n",
       "</div>"
      ],
      "text/plain": [
       "                                               title  \\\n",
       "0  Clinical features of culture-proven Mycoplasma...   \n",
       "1  Nitric oxide: a pro-inflammatory mediator in l...   \n",
       "2    Surfactant protein-D and pulmonary host defense   \n",
       "\n",
       "                                            abstract publish_time  \\\n",
       "0  OBJECTIVE: This retrospective chart review des...   2001-07-04   \n",
       "1  Inflammatory diseases of the respiratory tract...   2000-08-15   \n",
       "2  Surfactant protein-D (SP-D) participates in th...   2000-08-25   \n",
       "\n",
       "                                                 url  \\\n",
       "0  https://www.ncbi.nlm.nih.gov/pmc/articles/PMC3...   \n",
       "1  https://www.ncbi.nlm.nih.gov/pmc/articles/PMC5...   \n",
       "2  https://www.ncbi.nlm.nih.gov/pmc/articles/PMC5...   \n",
       "\n",
       "                                             authors  \\\n",
       "0                Madani, Tariq A; Al-Ghamdi, Aisha A   \n",
       "1  Vliet, Albert van der; Eiserich, Jason P; Cros...   \n",
       "2                                    Crouch, Erika C   \n",
       "\n",
       "                                               words  \n",
       "0  [OBJECTIVE, This, retrospective, chart, review...  \n",
       "1  [Inflammatory, diseases, of, the, respiratory,...  \n",
       "2  [Surfactant, protein, D, SP, D, participates, ...  "
      ]
     },
     "execution_count": 4,
     "metadata": {},
     "output_type": "execute_result"
    }
   ],
   "source": [
    "#Seperate the words in the Abstract columns \n",
    "tablesAbstract['words']=  tablesAbstract.abstract.str.strip().str.split('[\\W_]+')\n",
    "tablesAbstract = tablesAbstract[tablesAbstract.words.str.len() > 0]\n",
    "                                        #rid of all the input that have the Words column less than 0 \n",
    "tablesAbstract.head(3)"
   ]
  },
  {
   "cell_type": "code",
   "execution_count": 5,
   "metadata": {},
   "outputs": [
    {
     "name": "stdout",
     "output_type": "stream",
     "text": [
      "The number of articles after reduction is: 122492\n"
     ]
    }
   ],
   "source": [
    "print('The number of articles after reduction is:', tablesAbstract.shape[0])"
   ]
  },
  {
   "cell_type": "markdown",
   "metadata": {},
   "source": [
    "# ==> We will analyze what the articles available in the dataset and then also search online resources for each questions "
   ]
  },
  {
   "cell_type": "markdown",
   "metadata": {},
   "source": [
    "# -------------------------------------------------------------------------------------------------------------"
   ]
  },
  {
   "cell_type": "markdown",
   "metadata": {},
   "source": [
    "Scraping the web using beautifulsoup4 and Google "
   ]
  },
  {
   "cell_type": "code",
   "execution_count": 6,
   "metadata": {},
   "outputs": [
    {
     "name": "stdout",
     "output_type": "stream",
     "text": [
      "Requirement already satisfied: google in c:\\users\\hp\\anaconda3\\lib\\site-packages (3.0.0)Note: you may need to restart the kernel to use updated packages.\n",
      "\n",
      "Requirement already satisfied: beautifulsoup4 in c:\\users\\hp\\anaconda3\\lib\\site-packages (from google) (4.9.0)\n",
      "Requirement already satisfied: soupsieve>1.2 in c:\\users\\hp\\anaconda3\\lib\\site-packages (from beautifulsoup4->google) (2.0)\n"
     ]
    }
   ],
   "source": [
    "pip install google"
   ]
  },
  {
   "cell_type": "code",
   "execution_count": 7,
   "metadata": {},
   "outputs": [
    {
     "name": "stdout",
     "output_type": "stream",
     "text": [
      "Requirement already satisfied: beautifulsoup4 in c:\\users\\hp\\anaconda3\\lib\\site-packages (4.9.0)\n",
      "Requirement already satisfied: soupsieve>1.2 in c:\\users\\hp\\anaconda3\\lib\\site-packages (from beautifulsoup4) (2.0)\n",
      "Note: you may need to restart the kernel to use updated packages.\n"
     ]
    }
   ],
   "source": [
    "pip install beautifulsoup4"
   ]
  },
  {
   "cell_type": "markdown",
   "metadata": {},
   "source": [
    "# 1/ Efforts to increase capacity on existing diagnostic platforms and tap into existing surveillance platforms."
   ]
  },
  {
   "cell_type": "code",
   "execution_count": 13,
   "metadata": {},
   "outputs": [],
   "source": [
    "#Create different sets with specialized terms  from our questions \n",
    "Q1_a = tablesAbstract[tablesAbstract['abstract'].str.contains(' diagnostic platform')]\n",
    "Q1_b = tablesAbstract[tablesAbstract['abstract'].str.contains(' surveillance platform')]"
   ]
  },
  {
   "cell_type": "code",
   "execution_count": 16,
   "metadata": {},
   "outputs": [
    {
     "data": {
      "text/plain": [
       "(42, 6)"
      ]
     },
     "execution_count": 16,
     "metadata": {},
     "output_type": "execute_result"
    }
   ],
   "source": [
    "#Concatenitng the dataframes into one table per question and dropping null value \n",
    "Q1 = pd.concat([Q1_a,Q1_b])\n",
    "Q1.dropna(inplace=True)\n",
    "Q1.shape"
   ]
  },
  {
   "cell_type": "code",
   "execution_count": 17,
   "metadata": {},
   "outputs": [
    {
     "data": {
      "text/html": [
       "<div>\n",
       "<style scoped>\n",
       "    .dataframe tbody tr th:only-of-type {\n",
       "        vertical-align: middle;\n",
       "    }\n",
       "\n",
       "    .dataframe tbody tr th {\n",
       "        vertical-align: top;\n",
       "    }\n",
       "\n",
       "    .dataframe thead th {\n",
       "        text-align: right;\n",
       "    }\n",
       "</style>\n",
       "<table border=\"1\" class=\"dataframe\">\n",
       "  <thead>\n",
       "    <tr style=\"text-align: right;\">\n",
       "      <th></th>\n",
       "      <th>title</th>\n",
       "      <th>abstract</th>\n",
       "      <th>publish_time</th>\n",
       "      <th>url</th>\n",
       "      <th>authors</th>\n",
       "      <th>words</th>\n",
       "    </tr>\n",
       "  </thead>\n",
       "  <tbody>\n",
       "    <tr>\n",
       "      <th>615</th>\n",
       "      <td>The Microbial Detection Array Combined with Ra...</td>\n",
       "      <td>A common technique used for sensitive and spec...</td>\n",
       "      <td>2011-08-10</td>\n",
       "      <td>https://www.ncbi.nlm.nih.gov/pmc/articles/PMC3...</td>\n",
       "      <td>Erlandsson, Lena; Rosenstierne, Maiken W.; McL...</td>\n",
       "      <td>[A, common, technique, used, for, sensitive, a...</td>\n",
       "    </tr>\n",
       "    <tr>\n",
       "      <th>790</th>\n",
       "      <td>Use and Evaluation of Molecular Diagnostics fo...</td>\n",
       "      <td>Comprehensive microbiological testing will be ...</td>\n",
       "      <td>2012-03-08</td>\n",
       "      <td>https://academic.oup.com/cid/article-pdf/54/su...</td>\n",
       "      <td>Bhat, Niranjan; O'Brien, Katherine L.; Karron,...</td>\n",
       "      <td>[Comprehensive, microbiological, testing, will...</td>\n",
       "    </tr>\n",
       "    <tr>\n",
       "      <th>1841</th>\n",
       "      <td>Strand-Specific Quantitative Reverse Transcrip...</td>\n",
       "      <td>Arenaviruses are bi-segmented, single-stranded...</td>\n",
       "      <td>2015-05-15</td>\n",
       "      <td>https://www.ncbi.nlm.nih.gov/pmc/articles/PMC4...</td>\n",
       "      <td>Haist, Kelsey; Ziegler, Christopher; Botten, J...</td>\n",
       "      <td>[Arenaviruses, are, bi, segmented, single, str...</td>\n",
       "    </tr>\n",
       "    <tr>\n",
       "      <th>3386</th>\n",
       "      <td>Direct nucleic acid analysis of mosquitoes for...</td>\n",
       "      <td>Manipulation of natural mosquito populations u...</td>\n",
       "      <td>2018-08-30</td>\n",
       "      <td>https://www.ncbi.nlm.nih.gov/pmc/articles/PMC6...</td>\n",
       "      <td>Bhadra, Sanchita; Riedel, Timothy E.; Saldaña,...</td>\n",
       "      <td>[Manipulation, of, natural, mosquito, populati...</td>\n",
       "    </tr>\n",
       "    <tr>\n",
       "      <th>3722</th>\n",
       "      <td>Diagnostic tests for Crimean-Congo haemorrhagi...</td>\n",
       "      <td>Crimean-Congo haemorrhagic fever (CCHF) is a w...</td>\n",
       "      <td>2019-02-20</td>\n",
       "      <td>https://www.ncbi.nlm.nih.gov/pmc/articles/PMC6...</td>\n",
       "      <td>Mazzola, Laura T; Kelly-Cirino, Cassandra</td>\n",
       "      <td>[Crimean, Congo, haemorrhagic, fever, CCHF, is...</td>\n",
       "    </tr>\n",
       "  </tbody>\n",
       "</table>\n",
       "</div>"
      ],
      "text/plain": [
       "                                                  title  \\\n",
       "615   The Microbial Detection Array Combined with Ra...   \n",
       "790   Use and Evaluation of Molecular Diagnostics fo...   \n",
       "1841  Strand-Specific Quantitative Reverse Transcrip...   \n",
       "3386  Direct nucleic acid analysis of mosquitoes for...   \n",
       "3722  Diagnostic tests for Crimean-Congo haemorrhagi...   \n",
       "\n",
       "                                               abstract publish_time  \\\n",
       "615   A common technique used for sensitive and spec...   2011-08-10   \n",
       "790   Comprehensive microbiological testing will be ...   2012-03-08   \n",
       "1841  Arenaviruses are bi-segmented, single-stranded...   2015-05-15   \n",
       "3386  Manipulation of natural mosquito populations u...   2018-08-30   \n",
       "3722  Crimean-Congo haemorrhagic fever (CCHF) is a w...   2019-02-20   \n",
       "\n",
       "                                                    url  \\\n",
       "615   https://www.ncbi.nlm.nih.gov/pmc/articles/PMC3...   \n",
       "790   https://academic.oup.com/cid/article-pdf/54/su...   \n",
       "1841  https://www.ncbi.nlm.nih.gov/pmc/articles/PMC4...   \n",
       "3386  https://www.ncbi.nlm.nih.gov/pmc/articles/PMC6...   \n",
       "3722  https://www.ncbi.nlm.nih.gov/pmc/articles/PMC6...   \n",
       "\n",
       "                                                authors  \\\n",
       "615   Erlandsson, Lena; Rosenstierne, Maiken W.; McL...   \n",
       "790   Bhat, Niranjan; O'Brien, Katherine L.; Karron,...   \n",
       "1841  Haist, Kelsey; Ziegler, Christopher; Botten, J...   \n",
       "3386  Bhadra, Sanchita; Riedel, Timothy E.; Saldaña,...   \n",
       "3722          Mazzola, Laura T; Kelly-Cirino, Cassandra   \n",
       "\n",
       "                                                  words  \n",
       "615   [A, common, technique, used, for, sensitive, a...  \n",
       "790   [Comprehensive, microbiological, testing, will...  \n",
       "1841  [Arenaviruses, are, bi, segmented, single, str...  \n",
       "3386  [Manipulation, of, natural, mosquito, populati...  \n",
       "3722  [Crimean, Congo, haemorrhagic, fever, CCHF, is...  "
      ]
     },
     "execution_count": 17,
     "metadata": {},
     "output_type": "execute_result"
    }
   ],
   "source": [
    "#Articles that we have\n",
    "Q1.head(5)"
   ]
  },
  {
   "cell_type": "markdown",
   "metadata": {},
   "source": [
    "Online Search "
   ]
  },
  {
   "cell_type": "code",
   "execution_count": 19,
   "metadata": {},
   "outputs": [
    {
     "name": "stdout",
     "output_type": "stream",
     "text": [
      "https://www.hhs.gov/about/news/2020/03/13/hhs-funds-development-covid-19-diagnostic-tests.html\n",
      "https://www.hhs.gov/about/news/2020/03/09/hhs-supports-development-of-first-high-throughput-covid-19-diagnostic-test.html\n",
      "https://www.nature.com/articles/d41586-020-00827-6\n",
      "https://www.abbott.com/coronavirus.html\n",
      "https://www.abbott.com/coronavirus/covid-19-faq.html\n",
      "https://www.abbott.com/corpnewsroom/product-and-innovation/tackling-the-coronavirus.html\n",
      "https://www.abbott.com/corpnewsroom/product-and-innovation/abbott-launches-novel-coronavirus-test.html\n",
      "https://abbott.mediaroom.com/2020-03-27-Abbott-Launches-Molecular-Point-of-Care-Test-to-Detect-Novel-Coronavirus-in-as-Little-as-Five-Minutes\n",
      "https://www.sciencemag.org/news/2020/04/nih-launches-competition-speed-covid-19-diagnostics\n",
      "https://techcrunch.com/2020/02/29/fda-allows-new-diagnostic-technologies-to-test-for-coronavirus-before-receiving-emergency-approvals/\n",
      "https://www.cdc.gov/coronavirus/2019-ncov/php/open-america/surveillance-data-analytics.html\n",
      "https://www.cdc.gov/coronavirus/2019-ncov/covid-data/faq-surveillance.html\n",
      "https://onezero.medium.com/the-pandemic-is-a-trojan-horse-for-surveillance-programs-around-the-world-887fa6f12ec9\n",
      "https://foreignpolicy.com/2020/04/10/coronavirus-pandemic-surveillance-privacy-big-data/\n",
      "https://www.reuters.com/article/us-health-coronavirus-spy-specialreport/special-report-cyber-intel-firms-pitch-governments-on-spy-tools-to-trace-coronavirus-idUSKCN22A2G1\n",
      "https://www.govtech.com/security/Digital-Surveillance-Can-Help-Bring-the-Coronavirus-Pandemic-Under-Control--but-Also-Threatens-Privacy.html\n",
      "https://www.nejm.org/doi/full/10.1056/NEJMc2008646?query=featured_coronavirus\n",
      "https://www.who.int/docs/default-source/coronaviruse/global-surveillance-for-covid-v-19-final200321-rev.pdf?ua=1\n",
      "https://www.wsj.com/articles/to-track-virus-governments-weigh-surveillance-tools-that-push-privacy-limits-11584479841\n",
      "https://www.wsj.com/articles/coronavirus-paves-way-for-new-age-of-digital-surveillance-11586963028\n"
     ]
    }
   ],
   "source": [
    "try: \n",
    "    from googlesearch import search \n",
    "except ImportError:  \n",
    "    print(\"Error/Not found\") \n",
    "### Browsing the sourses using different search terms: \n",
    "search1_1 = \"corona efforts on diagnostic platforms \"\n",
    "search1_2 = \"corona efforts on surveillance platforms.\"\n",
    "\n",
    "##limit to the first 10 relevant links:\n",
    "for a in search(search1_1, tld=\"co.in\", num=10, stop=10, pause=2): \n",
    "    print(a)\n",
    "for a in search(search1_2, tld=\"co.in\", num=10, stop=10, pause=2): \n",
    "    print(a)"
   ]
  },
  {
   "cell_type": "markdown",
   "metadata": {},
   "source": [
    "# 2/ Recruitment, support, and coordination of local expertise and capacity (public, private—commercial, and non-profit, including academic), including legal, ethical, communications, and operational issues."
   ]
  },
  {
   "cell_type": "code",
   "execution_count": 25,
   "metadata": {},
   "outputs": [],
   "source": [
    "#Create different sets with specialized terms  from our questions \n",
    "Q2_a = tablesAbstract[tablesAbstract['abstract'].str.contains(' local expertise')]\n",
    "Q2_b = tablesAbstract[tablesAbstract['abstract'].str.contains(' local capacity')]"
   ]
  },
  {
   "cell_type": "code",
   "execution_count": 29,
   "metadata": {},
   "outputs": [
    {
     "data": {
      "text/plain": [
       "(16, 6)"
      ]
     },
     "execution_count": 29,
     "metadata": {},
     "output_type": "execute_result"
    }
   ],
   "source": [
    "#Concatenitng the dataframes into one table per question and dropping null value \n",
    "Q2 = pd.concat([Q2_a,Q2_b])\n",
    "Q2.dropna(inplace=True)\n",
    "Q2.shape"
   ]
  },
  {
   "cell_type": "code",
   "execution_count": 30,
   "metadata": {},
   "outputs": [
    {
     "data": {
      "text/html": [
       "<div>\n",
       "<style scoped>\n",
       "    .dataframe tbody tr th:only-of-type {\n",
       "        vertical-align: middle;\n",
       "    }\n",
       "\n",
       "    .dataframe tbody tr th {\n",
       "        vertical-align: top;\n",
       "    }\n",
       "\n",
       "    .dataframe thead th {\n",
       "        text-align: right;\n",
       "    }\n",
       "</style>\n",
       "<table border=\"1\" class=\"dataframe\">\n",
       "  <thead>\n",
       "    <tr style=\"text-align: right;\">\n",
       "      <th></th>\n",
       "      <th>title</th>\n",
       "      <th>abstract</th>\n",
       "      <th>publish_time</th>\n",
       "      <th>url</th>\n",
       "      <th>authors</th>\n",
       "      <th>words</th>\n",
       "    </tr>\n",
       "  </thead>\n",
       "  <tbody>\n",
       "    <tr>\n",
       "      <th>1930</th>\n",
       "      <td>Improving health aid for a better planet: The ...</td>\n",
       "      <td>BACKGROUND: International development assistan...</td>\n",
       "      <td>2015-08-19</td>\n",
       "      <td>https://www.ncbi.nlm.nih.gov/pmc/articles/PMC4...</td>\n",
       "      <td>Sridhar, Devi; Car, Josip; Chopra, Mickey; Cam...</td>\n",
       "      <td>[BACKGROUND, International, development, assis...</td>\n",
       "    </tr>\n",
       "    <tr>\n",
       "      <th>4512</th>\n",
       "      <td>Approaches for patients with very high MELD sc...</td>\n",
       "      <td>In the era of the “sickest first” policy, pati...</td>\n",
       "      <td>2019-02-23</td>\n",
       "      <td>https://www.ncbi.nlm.nih.gov/pmc/articles/PMC7...</td>\n",
       "      <td>Artru, Florent; Samuel, Didier</td>\n",
       "      <td>[In, the, era, of, the, sickest, first, policy...</td>\n",
       "    </tr>\n",
       "    <tr>\n",
       "      <th>11246</th>\n",
       "      <td>Noninvasive respiratory support in the hypoxae...</td>\n",
       "      <td>Hypoxaemia is a potential life-threatening yet...</td>\n",
       "      <td>2020-03-10</td>\n",
       "      <td>https://www.ncbi.nlm.nih.gov/pmc/articles/PMC7...</td>\n",
       "      <td>Leone, Marc; Einav, Sharon; Chiumello, Davide;...</td>\n",
       "      <td>[Hypoxaemia, is, a, potential, life, threateni...</td>\n",
       "    </tr>\n",
       "    <tr>\n",
       "      <th>53217</th>\n",
       "      <td>Combined pharmacomechanical thrombolysis of co...</td>\n",
       "      <td>Treatment options for portomesenteric venous t...</td>\n",
       "      <td>2014</td>\n",
       "      <td>https://doi.org/10.1007/s00270-013-0568-4; htt...</td>\n",
       "      <td>Lorenz, Jonathan M; Bennett, Shelby; Patel, Ja...</td>\n",
       "      <td>[Treatment, options, for, portomesenteric, ven...</td>\n",
       "    </tr>\n",
       "    <tr>\n",
       "      <th>53832</th>\n",
       "      <td>Endoscopic management of acute necrotizing pan...</td>\n",
       "      <td>1: ESGE suggests using contrast-enhanced compu...</td>\n",
       "      <td>2018</td>\n",
       "      <td>https://doi.org/10.1055/a-0588-5365; https://w...</td>\n",
       "      <td>Arvanitakis, Marianna; Dumonceau, Jean-Marc; A...</td>\n",
       "      <td>[1, ESGE, suggests, using, contrast, enhanced,...</td>\n",
       "    </tr>\n",
       "  </tbody>\n",
       "</table>\n",
       "</div>"
      ],
      "text/plain": [
       "                                                   title  \\\n",
       "1930   Improving health aid for a better planet: The ...   \n",
       "4512   Approaches for patients with very high MELD sc...   \n",
       "11246  Noninvasive respiratory support in the hypoxae...   \n",
       "53217  Combined pharmacomechanical thrombolysis of co...   \n",
       "53832  Endoscopic management of acute necrotizing pan...   \n",
       "\n",
       "                                                abstract publish_time  \\\n",
       "1930   BACKGROUND: International development assistan...   2015-08-19   \n",
       "4512   In the era of the “sickest first” policy, pati...   2019-02-23   \n",
       "11246  Hypoxaemia is a potential life-threatening yet...   2020-03-10   \n",
       "53217  Treatment options for portomesenteric venous t...         2014   \n",
       "53832  1: ESGE suggests using contrast-enhanced compu...         2018   \n",
       "\n",
       "                                                     url  \\\n",
       "1930   https://www.ncbi.nlm.nih.gov/pmc/articles/PMC4...   \n",
       "4512   https://www.ncbi.nlm.nih.gov/pmc/articles/PMC7...   \n",
       "11246  https://www.ncbi.nlm.nih.gov/pmc/articles/PMC7...   \n",
       "53217  https://doi.org/10.1007/s00270-013-0568-4; htt...   \n",
       "53832  https://doi.org/10.1055/a-0588-5365; https://w...   \n",
       "\n",
       "                                                 authors  \\\n",
       "1930   Sridhar, Devi; Car, Josip; Chopra, Mickey; Cam...   \n",
       "4512                      Artru, Florent; Samuel, Didier   \n",
       "11246  Leone, Marc; Einav, Sharon; Chiumello, Davide;...   \n",
       "53217  Lorenz, Jonathan M; Bennett, Shelby; Patel, Ja...   \n",
       "53832  Arvanitakis, Marianna; Dumonceau, Jean-Marc; A...   \n",
       "\n",
       "                                                   words  \n",
       "1930   [BACKGROUND, International, development, assis...  \n",
       "4512   [In, the, era, of, the, sickest, first, policy...  \n",
       "11246  [Hypoxaemia, is, a, potential, life, threateni...  \n",
       "53217  [Treatment, options, for, portomesenteric, ven...  \n",
       "53832  [1, ESGE, suggests, using, contrast, enhanced,...  "
      ]
     },
     "execution_count": 30,
     "metadata": {},
     "output_type": "execute_result"
    }
   ],
   "source": [
    "#Articles that we have\n",
    "Q2.head(5)"
   ]
  },
  {
   "cell_type": "markdown",
   "metadata": {},
   "source": [
    "Online Search"
   ]
  },
  {
   "cell_type": "code",
   "execution_count": 32,
   "metadata": {},
   "outputs": [
    {
     "name": "stdout",
     "output_type": "stream",
     "text": [
      "https://www.astho.org/COVID-19/A-National-Approach-for-Contact-Tracing/\n",
      "https://www.who.int/docs/default-source/coronaviruse/covid-strategy-update-14april2020.pdf?sfvrsn=29da3ba0_19\n",
      "https://www.cdc.gov/coronavirus/2019-ncov/php/open-america/staffing.html\n",
      "https://www.va.gov/opa/docs/VHA_COVID_19_03232020_vF_1.pdf\n",
      "https://covid.oumy.com/question-set/kaggle-news/recruitment-support-and-coordination-of-local-expertise-and-capacity-public-private-commercial-and-non-profit-including.html\n",
      "https://www.facs.org/covid-19/clinical-guidance/rmoc-setup\n",
      "https://www.health.gov.au/sites/default/files/documents/2020/02/australian-health-sector-emergency-response-plan-for-novel-coronavirus-covid-19_2.pdf\n",
      "https://www.nashp.org/how-states-are-ramping-up-their-covid-19-contact-tracing-capacity/\n",
      "https://www.health.state.mn.us/about/org/ch/epr/eprfactsheet.html\n",
      "http://www.oecd.org/coronavirus/policy-responses/the-territorial-impact-of-covid-19-managing-the-crisis-across-levels-of-government-d3e314e1/\n",
      "https://www.unocha.org/sites/unocha/files/Global-Humanitarian-Response-Plan-COVID-19.pdf\n",
      "https://www.healthaffairs.org/do/10.1377/hblog20200408.928642/full/\n",
      "https://www.healthaffairs.org/do/10.1377/hblog20200414.197056/full/\n",
      "https://www.paho.org/disasters/index.php?option=com_content&view=article&id=699:about-us&Itemid=918&lang=en\n",
      "https://www.af.mil/News/Article-Display/Article/2184415/air-force-update-for-covid-19/\n",
      "https://www.worldbank.org/en/news/press-release/2020/04/02/world-bank-group-launches-first-operations-for-covid-19-coronavirus-emergency-health-support-strengthening-developing-country-responses\n",
      "https://www.phe.gov/Preparedness/planning/hpp/reports/Documents/2017-2022-healthcare-pr-capablities.pdf\n",
      "https://reporting.unhcr.org/sites/default/files/COVID-19%20appeal%20-%20REVISED%20-%20FINAL.pdf\n",
      "https://www.shrm.org/resourcesandtools/tools-and-samples/toolkits/pages/recruitinginternallyandexternally.aspx\n",
      "https://www2.deloitte.com/us/en/insights/economy/covid-19/governments-respond-to-covid-19.html\n"
     ]
    }
   ],
   "source": [
    "try: \n",
    "    from googlesearch import search \n",
    "except ImportError:  \n",
    "    print(\"Error/Not found\") \n",
    "### Browsing the sourses using different search terms: \n",
    "search2_1 = \"corona  Recruitment, support, and coordination of local expertise and capacity\"\n",
    "\n",
    "\n",
    "##limit to the first 10 relevant links:\n",
    "for a in search(search2_1, tld=\"co.in\", num=20, stop=20, pause=2): \n",
    "    print(a)"
   ]
  },
  {
   "cell_type": "markdown",
   "metadata": {},
   "source": [
    "# 3/ National guidance and guidelines about best practices to states (e.g., how states might leverage universities and private laboratories for testing purposes, communications to public health officials and the public).\n"
   ]
  },
  {
   "cell_type": "code",
   "execution_count": 56,
   "metadata": {},
   "outputs": [],
   "source": [
    "#Create different sets with specialized terms  from our questions \n",
    "Q3_a = tablesAbstract[tablesAbstract['abstract'].str.contains('national guidance')]\n",
    "Q3_b = tablesAbstract[tablesAbstract['abstract'].str.contains('states')]\n",
    "Q3_c = tablesAbstract[tablesAbstract['abstract'].str.contains('testing')]\n",
    "Q3_d = Q3_c[Q3_c['abstract'].str.contains(' private laboratories')]\n",
    "Q3_e = Q3_c[Q3_c['abstract'].str.contains(' universities')]"
   ]
  },
  {
   "cell_type": "code",
   "execution_count": 58,
   "metadata": {},
   "outputs": [
    {
     "data": {
      "text/plain": [
       "(1453, 6)"
      ]
     },
     "execution_count": 58,
     "metadata": {},
     "output_type": "execute_result"
    }
   ],
   "source": [
    "#Concatenitng the dataframes into one table per question and dropping null value \n",
    "Q3 = pd.concat([Q3_a, Q3_b, Q3_d, Q3_e])\n",
    "Q3.dropna(inplace=True)\n",
    "Q3.shape"
   ]
  },
  {
   "cell_type": "code",
   "execution_count": 59,
   "metadata": {},
   "outputs": [
    {
     "data": {
      "text/html": [
       "<div>\n",
       "<style scoped>\n",
       "    .dataframe tbody tr th:only-of-type {\n",
       "        vertical-align: middle;\n",
       "    }\n",
       "\n",
       "    .dataframe tbody tr th {\n",
       "        vertical-align: top;\n",
       "    }\n",
       "\n",
       "    .dataframe thead th {\n",
       "        text-align: right;\n",
       "    }\n",
       "</style>\n",
       "<table border=\"1\" class=\"dataframe\">\n",
       "  <thead>\n",
       "    <tr style=\"text-align: right;\">\n",
       "      <th></th>\n",
       "      <th>title</th>\n",
       "      <th>abstract</th>\n",
       "      <th>publish_time</th>\n",
       "      <th>url</th>\n",
       "      <th>authors</th>\n",
       "      <th>words</th>\n",
       "    </tr>\n",
       "  </thead>\n",
       "  <tbody>\n",
       "    <tr>\n",
       "      <th>15457</th>\n",
       "      <td>Toxicity Evaluation and Human Health Risk Asse...</td>\n",
       "      <td>Prior to the 1970s, principles involving the f...</td>\n",
       "      <td>2005-07-07</td>\n",
       "      <td>https://www.ncbi.nlm.nih.gov/pmc/articles/PMC7...</td>\n",
       "      <td>Rodriguez-Proteau, Rosita; Grant, Roberta L.</td>\n",
       "      <td>[Prior, to, the, 1970s, principles, involving,...</td>\n",
       "    </tr>\n",
       "    <tr>\n",
       "      <th>40500</th>\n",
       "      <td>Evaluation of triage methods used to select pa...</td>\n",
       "      <td>BACKGROUND Triage methods are necessary in eme...</td>\n",
       "      <td>2010</td>\n",
       "      <td>https://doi.org/10.3310/hta14460-03; https://w...</td>\n",
       "      <td>Goodacre, S; Challen, K; Wilson, R; Campbell, M</td>\n",
       "      <td>[BACKGROUND, Triage, methods, are, necessary, ...</td>\n",
       "    </tr>\n",
       "    <tr>\n",
       "      <th>59523</th>\n",
       "      <td>Commentary: how will interventional oncology n...</td>\n",
       "      <td>Whereas clinical trials of cancer drugs have m...</td>\n",
       "      <td>2018</td>\n",
       "      <td>https://doi.org/10.1259/bjr.20170643; https://...</td>\n",
       "      <td>Sharma, Ricky A; Fumi, Lucio; Audisio, Riccard...</td>\n",
       "      <td>[Whereas, clinical, trials, of, cancer, drugs,...</td>\n",
       "    </tr>\n",
       "    <tr>\n",
       "      <th>60718</th>\n",
       "      <td>How to verify the death of a patient.</td>\n",
       "      <td>When a patient dies, it is important that nurs...</td>\n",
       "      <td>2020-05-26</td>\n",
       "      <td>https://doi.org/10.7748/ns.2020.e11561; https:...</td>\n",
       "      <td>Churcher, Clare Elizabeth; Dowie, Iwan</td>\n",
       "      <td>[When, a, patient, dies, it, is, important, th...</td>\n",
       "    </tr>\n",
       "    <tr>\n",
       "      <th>63562</th>\n",
       "      <td>International comparison of guidelines for man...</td>\n",
       "      <td>BACKGROUND The COVID-19 pandemic threatens glo...</td>\n",
       "      <td>2020-06-15</td>\n",
       "      <td>https://doi.org/10.1038/s41390-020-0976-5; htt...</td>\n",
       "      <td>Lavizzari, Anna; Klingenberg, Claus; Profit, J...</td>\n",
       "      <td>[BACKGROUND, The, COVID, 19, pandemic, threate...</td>\n",
       "    </tr>\n",
       "  </tbody>\n",
       "</table>\n",
       "</div>"
      ],
      "text/plain": [
       "                                                   title  \\\n",
       "15457  Toxicity Evaluation and Human Health Risk Asse...   \n",
       "40500  Evaluation of triage methods used to select pa...   \n",
       "59523  Commentary: how will interventional oncology n...   \n",
       "60718              How to verify the death of a patient.   \n",
       "63562  International comparison of guidelines for man...   \n",
       "\n",
       "                                                abstract publish_time  \\\n",
       "15457  Prior to the 1970s, principles involving the f...   2005-07-07   \n",
       "40500  BACKGROUND Triage methods are necessary in eme...         2010   \n",
       "59523  Whereas clinical trials of cancer drugs have m...         2018   \n",
       "60718  When a patient dies, it is important that nurs...   2020-05-26   \n",
       "63562  BACKGROUND The COVID-19 pandemic threatens glo...   2020-06-15   \n",
       "\n",
       "                                                     url  \\\n",
       "15457  https://www.ncbi.nlm.nih.gov/pmc/articles/PMC7...   \n",
       "40500  https://doi.org/10.3310/hta14460-03; https://w...   \n",
       "59523  https://doi.org/10.1259/bjr.20170643; https://...   \n",
       "60718  https://doi.org/10.7748/ns.2020.e11561; https:...   \n",
       "63562  https://doi.org/10.1038/s41390-020-0976-5; htt...   \n",
       "\n",
       "                                                 authors  \\\n",
       "15457       Rodriguez-Proteau, Rosita; Grant, Roberta L.   \n",
       "40500    Goodacre, S; Challen, K; Wilson, R; Campbell, M   \n",
       "59523  Sharma, Ricky A; Fumi, Lucio; Audisio, Riccard...   \n",
       "60718             Churcher, Clare Elizabeth; Dowie, Iwan   \n",
       "63562  Lavizzari, Anna; Klingenberg, Claus; Profit, J...   \n",
       "\n",
       "                                                   words  \n",
       "15457  [Prior, to, the, 1970s, principles, involving,...  \n",
       "40500  [BACKGROUND, Triage, methods, are, necessary, ...  \n",
       "59523  [Whereas, clinical, trials, of, cancer, drugs,...  \n",
       "60718  [When, a, patient, dies, it, is, important, th...  \n",
       "63562  [BACKGROUND, The, COVID, 19, pandemic, threate...  "
      ]
     },
     "execution_count": 59,
     "metadata": {},
     "output_type": "execute_result"
    }
   ],
   "source": [
    "#Articles that we have\n",
    "Q3.head(5)"
   ]
  },
  {
   "cell_type": "markdown",
   "metadata": {},
   "source": [
    "Online Search"
   ]
  },
  {
   "cell_type": "code",
   "execution_count": 61,
   "metadata": {},
   "outputs": [
    {
     "name": "stdout",
     "output_type": "stream",
     "text": [
      "https://www.cdc.gov/coronavirus/2019-ncov/community/guidance-business-response.html\n",
      "https://www.cdc.gov/coronavirus/2019-ncov/hcp/managing-workplace-fatigue.html\n",
      "https://www.cdc.gov/niosh/topics/hierarchy/default.html\n",
      "https://www.cdc.gov/coronavirus/2019-ncov/community/office-buildings.html\n",
      "https://www.cdc.gov/coronavirus/2019-ncov/communication/guidance-list.html\n",
      "https://www.cdc.gov/coronavirus/2019-ncov/animals/service-therapy-animals.html\n",
      "https://www.cdc.gov/coronavirus/2019-ncov/lab/lab-safety-practices.html\n",
      "https://www.cdc.gov/coronavirus/2019-ncov/hcp/direct-service-providers.html\n",
      "https://www.whitehouse.gov/wp-content/uploads/2020/03/03.16.20_coronavirus-guidance_8.5x11_315PM.pdf\n",
      "https://www.whitehouse.gov/openingamerica/\n",
      "https://www.fema.gov/coronavirus/best-practices\n",
      "https://www.fema.gov/media-library-data/1587131519031-6501ee8a0ce72004832fa37141c53bc0/PPE_FACTSHEET.pdf\n",
      "https://www.nsc.org/work-safety/safety-topics/coronavirus/federal-guidelines\n",
      "https://www.nih.gov/news-events/news-releases/expert-us-panel-develops-nih-treatment-guidelines-covid-19\n",
      "https://www.osha.gov/SLTC/covid-19/\n",
      "https://www.health.state.mn.us/diseases/coronavirus/guidance.html\n",
      "https://www.nice.org.uk/about/what-we-do/our-programmes/nice-guidance/nice-guidelines\n",
      "https://fire-in.eu/single-pages/coronavirus-european-countries-share-their-best-practices\n",
      "https://www.fda.gov/emergency-preparedness-and-response/coronavirus-disease-2019-covid-19/covid-19-related-guidance-documents-industry-fda-staff-and-other-stakeholders\n",
      "https://www.jointcommission.org/en/covid-19/\n"
     ]
    }
   ],
   "source": [
    "try: \n",
    "    from googlesearch import search \n",
    "except ImportError:  \n",
    "    print(\"Error/Not found\") \n",
    "### Browsing the sourses using different search terms: \n",
    "search3_1 = \"corona  national guidance and guidelines about best practices\"\n",
    "\n",
    "\n",
    "##limit to the first 10 relevant links:\n",
    "for a in search(search3_1, tld=\"co.in\", num=20, stop=20, pause=2): \n",
    "    print(a)"
   ]
  },
  {
   "cell_type": "markdown",
   "metadata": {},
   "source": [
    "# 4/ Development of a point-of-care test (like a rapid influenza test) and rapid bed-side tests, recognizing the tradeoffs between speed, accessibility, and accuracy."
   ]
  },
  {
   "cell_type": "code",
   "execution_count": 83,
   "metadata": {},
   "outputs": [],
   "source": [
    "#Create different sets with specialized terms  from our questions \n",
    "Q4_a = tablesAbstract[tablesAbstract['abstract'].str.contains('point-of-care test')]\n",
    "Q4_b = tablesAbstract[tablesAbstract['abstract'].str.contains('bedside test')]"
   ]
  },
  {
   "cell_type": "code",
   "execution_count": 84,
   "metadata": {},
   "outputs": [
    {
     "data": {
      "text/plain": [
       "(107, 6)"
      ]
     },
     "execution_count": 84,
     "metadata": {},
     "output_type": "execute_result"
    }
   ],
   "source": [
    "#Concatenitng the dataframes into one table per question and dropping null value \n",
    "Q4 = pd.concat([Q4_a,Q4_b])\n",
    "Q4.dropna(inplace=True)\n",
    "Q4.shape"
   ]
  },
  {
   "cell_type": "code",
   "execution_count": 85,
   "metadata": {},
   "outputs": [
    {
     "data": {
      "text/html": [
       "<div>\n",
       "<style scoped>\n",
       "    .dataframe tbody tr th:only-of-type {\n",
       "        vertical-align: middle;\n",
       "    }\n",
       "\n",
       "    .dataframe tbody tr th {\n",
       "        vertical-align: top;\n",
       "    }\n",
       "\n",
       "    .dataframe thead th {\n",
       "        text-align: right;\n",
       "    }\n",
       "</style>\n",
       "<table border=\"1\" class=\"dataframe\">\n",
       "  <thead>\n",
       "    <tr style=\"text-align: right;\">\n",
       "      <th></th>\n",
       "      <th>title</th>\n",
       "      <th>abstract</th>\n",
       "      <th>publish_time</th>\n",
       "      <th>url</th>\n",
       "      <th>authors</th>\n",
       "      <th>words</th>\n",
       "    </tr>\n",
       "  </thead>\n",
       "  <tbody>\n",
       "    <tr>\n",
       "      <th>45</th>\n",
       "      <td>Sequence specific visual detection of LAMP rea...</td>\n",
       "      <td>BACKGROUND: Development of a practical gene po...</td>\n",
       "      <td>2006-01-10</td>\n",
       "      <td>https://www.ncbi.nlm.nih.gov/pmc/articles/PMC1...</td>\n",
       "      <td>Mori, Yasuyoshi; Hirano, Tsuyoshi; Notomi, Tsu...</td>\n",
       "      <td>[BACKGROUND, Development, of, a, practical, ge...</td>\n",
       "    </tr>\n",
       "    <tr>\n",
       "      <th>1449</th>\n",
       "      <td>Development of VHH Antibodies against Dengue V...</td>\n",
       "      <td>The possibility of using variable domain heavy...</td>\n",
       "      <td>2014-04-21</td>\n",
       "      <td>https://www.ncbi.nlm.nih.gov/pmc/articles/PMC3...</td>\n",
       "      <td>Fatima, Aneela; Wang, Haiying; Kang, Keren; Xi...</td>\n",
       "      <td>[The, possibility, of, using, variable, domain...</td>\n",
       "    </tr>\n",
       "    <tr>\n",
       "      <th>1595</th>\n",
       "      <td>Multiplex isothermal solid-phase recombinase p...</td>\n",
       "      <td>We report on the development of an on-chip RPA...</td>\n",
       "      <td>2014-02-18</td>\n",
       "      <td>https://www.ncbi.nlm.nih.gov/pmc/articles/PMC4...</td>\n",
       "      <td>Kersting, Sebastian; Rausch, Valentina; Bier, ...</td>\n",
       "      <td>[We, report, on, the, development, of, an, on,...</td>\n",
       "    </tr>\n",
       "    <tr>\n",
       "      <th>2949</th>\n",
       "      <td>Comparative Diagnostic Performance of the Gran...</td>\n",
       "      <td>OBJECTIVES: Use of point-of-care testing is in...</td>\n",
       "      <td>2017-10-04</td>\n",
       "      <td>https://www.ncbi.nlm.nih.gov/pmc/articles/PMC5...</td>\n",
       "      <td>Pether, Nicola S.; Brothwood, Jessica L.; van ...</td>\n",
       "      <td>[OBJECTIVES, Use, of, point, of, care, testing...</td>\n",
       "    </tr>\n",
       "    <tr>\n",
       "      <th>3723</th>\n",
       "      <td>Diagnostics for Lassa fever virus: a genetical...</td>\n",
       "      <td>Lassa fever virus (LASV) causes acute viral ha...</td>\n",
       "      <td>2019-02-07</td>\n",
       "      <td>https://www.ncbi.nlm.nih.gov/pmc/articles/PMC6...</td>\n",
       "      <td>Mazzola, Laura T; Kelly-Cirino, Cassandra</td>\n",
       "      <td>[Lassa, fever, virus, LASV, causes, acute, vir...</td>\n",
       "    </tr>\n",
       "  </tbody>\n",
       "</table>\n",
       "</div>"
      ],
      "text/plain": [
       "                                                  title  \\\n",
       "45    Sequence specific visual detection of LAMP rea...   \n",
       "1449  Development of VHH Antibodies against Dengue V...   \n",
       "1595  Multiplex isothermal solid-phase recombinase p...   \n",
       "2949  Comparative Diagnostic Performance of the Gran...   \n",
       "3723  Diagnostics for Lassa fever virus: a genetical...   \n",
       "\n",
       "                                               abstract publish_time  \\\n",
       "45    BACKGROUND: Development of a practical gene po...   2006-01-10   \n",
       "1449  The possibility of using variable domain heavy...   2014-04-21   \n",
       "1595  We report on the development of an on-chip RPA...   2014-02-18   \n",
       "2949  OBJECTIVES: Use of point-of-care testing is in...   2017-10-04   \n",
       "3723  Lassa fever virus (LASV) causes acute viral ha...   2019-02-07   \n",
       "\n",
       "                                                    url  \\\n",
       "45    https://www.ncbi.nlm.nih.gov/pmc/articles/PMC1...   \n",
       "1449  https://www.ncbi.nlm.nih.gov/pmc/articles/PMC3...   \n",
       "1595  https://www.ncbi.nlm.nih.gov/pmc/articles/PMC4...   \n",
       "2949  https://www.ncbi.nlm.nih.gov/pmc/articles/PMC5...   \n",
       "3723  https://www.ncbi.nlm.nih.gov/pmc/articles/PMC6...   \n",
       "\n",
       "                                                authors  \\\n",
       "45    Mori, Yasuyoshi; Hirano, Tsuyoshi; Notomi, Tsu...   \n",
       "1449  Fatima, Aneela; Wang, Haiying; Kang, Keren; Xi...   \n",
       "1595  Kersting, Sebastian; Rausch, Valentina; Bier, ...   \n",
       "2949  Pether, Nicola S.; Brothwood, Jessica L.; van ...   \n",
       "3723          Mazzola, Laura T; Kelly-Cirino, Cassandra   \n",
       "\n",
       "                                                  words  \n",
       "45    [BACKGROUND, Development, of, a, practical, ge...  \n",
       "1449  [The, possibility, of, using, variable, domain...  \n",
       "1595  [We, report, on, the, development, of, an, on,...  \n",
       "2949  [OBJECTIVES, Use, of, point, of, care, testing...  \n",
       "3723  [Lassa, fever, virus, LASV, causes, acute, vir...  "
      ]
     },
     "execution_count": 85,
     "metadata": {},
     "output_type": "execute_result"
    }
   ],
   "source": [
    "#Articles that we have\n",
    "Q4.head(5)"
   ]
  },
  {
   "cell_type": "markdown",
   "metadata": {},
   "source": [
    "Online Search"
   ]
  },
  {
   "cell_type": "code",
   "execution_count": 86,
   "metadata": {},
   "outputs": [
    {
     "name": "stdout",
     "output_type": "stream",
     "text": [
      "https://www.who.int/news-room/commentaries/detail/advice-on-the-use-of-point-of-care-immunodiagnostic-tests-for-covid-19\n",
      "https://www.invetechgroup.com/insights/2020/04/poc-detection-coronavirus/\n",
      "https://www.360dx.com/point-care-testing\n",
      "https://www.cebm.net/covid-19/molecular-and-antibody-point-of-care-tests-to-support-the-screening-diagnosis-and-monitoring-of-covid-19/\n",
      "https://www.genengnews.com/virology/coronavirus/first-point-of-care-test-for-covid-19-leveraging-crispr-technology/\n",
      "https://www.fda.gov/news-events/press-announcements/coronavirus-covid-19-update-fda-issues-first-emergency-use-authorization-point-care-diagnostic\n",
      "https://abbott.mediaroom.com/2020-03-27-Abbott-Launches-Molecular-Point-of-Care-Test-to-Detect-Novel-Coronavirus-in-as-Little-as-Five-Minutes\n",
      "https://www.ncbi.nlm.nih.gov/pmc/articles/PMC7273289/\n",
      "https://www.cdc.gov/csels/dls/locs/2020/cdc_posts_updated_poc_testing_biosafety_guidelines_for_COVID-19.html\n",
      "https://www.genomeweb.com/point-care-testing\n",
      "https://www.theverge.com/2020/3/17/21184015/coronavirus-testing-pcr-diagnostic-point-of-care-cdc-techonology\n",
      "https://www.wsj.com/articles/hospitals-companies-race-to-develop-tests-to-spot-coronavirus-linked-illness-11583245423\n",
      "https://www.oecd.org/coronavirus/policy-responses/testing-for-covid-19-a-way-to-lift-confinement-restrictions-89756248/\n",
      "https://www.statnews.com/2020/03/11/cdc-developing-serologic-tests-that-could-reveal-full-scope-of-u-s-coronavirus-outbreak/\n",
      "https://www.scientificamerican.com/article/heres-how-coronavirus-tests-work-and-who-offers-them/\n",
      "https://news.emory.edu/stories/2020/06/coronavirus_research_at_emory/index.html\n",
      "https://cen.acs.org/analytical-chemistry/diagnostics/Companies-racing-develop-COVID-19/98/i14\n",
      "https://a16z.com/2020/04/02/coronavirus-tests/\n",
      "https://www.cdc.gov/coronavirus/2019-ncov/lab/serology-testing.html\n",
      "https://www.bloomberg.com/news/articles/2020-03-21/fda-approves-first-bedside-covid-19-test-by-cepheid\n"
     ]
    }
   ],
   "source": [
    "try: \n",
    "    from googlesearch import search \n",
    "except ImportError:  \n",
    "    print(\"Error/Not found\") \n",
    "### Browsing the sourses using different search terms: \n",
    "search4_1 = \"corona development of a point-of-care test\"\n",
    "search4_2 = \"corona development bed-side tests\"\n",
    "\n",
    "\n",
    "\n",
    "##limit to the first 10 relevant links:\n",
    "for a in search(search4_1, tld=\"co.in\", num=10, stop=10, pause=2): \n",
    "    print(a)\n",
    "for a in search(search4_2, tld=\"co.in\", num=10, stop=10, pause=2): \n",
    "    print(a)\n"
   ]
  },
  {
   "cell_type": "markdown",
   "metadata": {},
   "source": [
    "# 7/ Separation of assay development issues from instruments, and the role of the private sector to help quickly migrate assays onto those devices.\n"
   ]
  },
  {
   "cell_type": "markdown",
   "metadata": {},
   "source": [
    "# 8/ Efforts to track the evolution of the virus (i.e., genetic drift or mutations) and avoid locking into specific reagents and surveillance/detection schemes."
   ]
  },
  {
   "cell_type": "markdown",
   "metadata": {},
   "source": [
    "# 9/ Latency issues and when there is sufficient viral load to detect the pathogen, and understanding of what is needed in terms of biological and environmental sampling.\n"
   ]
  },
  {
   "cell_type": "markdown",
   "metadata": {},
   "source": [
    "# 10/ Use of diagnostics such as host response markers (e.g., cytokines) to detect early disease or predict severe disease progression, which would be important to understanding best clinical practice and efficacy of therapeutic interventions.\n"
   ]
  },
  {
   "cell_type": "markdown",
   "metadata": {},
   "source": [
    "# 11/ Policies and protocols for screening and testing.\n"
   ]
  },
  {
   "cell_type": "code",
   "execution_count": 135,
   "metadata": {},
   "outputs": [],
   "source": [
    "#Create different sets with specialized terms  from our questions \n",
    "Q11_a = tablesAbstract[tablesAbstract['abstract'].str.contains('protocols')]\n",
    "Q11_b = tablesAbstract[tablesAbstract['abstract'].str.contains('policies')]\n",
    "\n",
    "Q11_c = Q11_a[Q11_a['abstract'].str.contains('screening')]\n",
    "Q11_d = Q11_b[Q11_b['abstract'].str.contains('screening' )]\n",
    "Q11_e = Q11_a[Q11_a['abstract'].str.contains('testing')]\n",
    "Q11_f = Q11_b[Q11_b['abstract'].str.contains('testing')]"
   ]
  },
  {
   "cell_type": "code",
   "execution_count": 136,
   "metadata": {},
   "outputs": [
    {
     "data": {
      "text/plain": [
       "(472, 6)"
      ]
     },
     "execution_count": 136,
     "metadata": {},
     "output_type": "execute_result"
    }
   ],
   "source": [
    "#Concatenitng the dataframes into one table per question and dropping null value \n",
    "Q11 = pd.concat([Q11_c,Q11_d,Q11_e,Q11_f])\n",
    "Q11.dropna(inplace=True)\n",
    "Q11.shape"
   ]
  },
  {
   "cell_type": "code",
   "execution_count": 137,
   "metadata": {},
   "outputs": [
    {
     "data": {
      "text/html": [
       "<div>\n",
       "<style scoped>\n",
       "    .dataframe tbody tr th:only-of-type {\n",
       "        vertical-align: middle;\n",
       "    }\n",
       "\n",
       "    .dataframe tbody tr th {\n",
       "        vertical-align: top;\n",
       "    }\n",
       "\n",
       "    .dataframe thead th {\n",
       "        text-align: right;\n",
       "    }\n",
       "</style>\n",
       "<table border=\"1\" class=\"dataframe\">\n",
       "  <thead>\n",
       "    <tr style=\"text-align: right;\">\n",
       "      <th></th>\n",
       "      <th>title</th>\n",
       "      <th>abstract</th>\n",
       "      <th>publish_time</th>\n",
       "      <th>url</th>\n",
       "      <th>authors</th>\n",
       "      <th>words</th>\n",
       "    </tr>\n",
       "  </thead>\n",
       "  <tbody>\n",
       "    <tr>\n",
       "      <th>148</th>\n",
       "      <td>Improved production of human type II procollag...</td>\n",
       "      <td>BACKGROUND: Here we describe a new technical s...</td>\n",
       "      <td>2008-03-27</td>\n",
       "      <td>https://www.ncbi.nlm.nih.gov/pmc/articles/PMC2...</td>\n",
       "      <td>Ruottinen, Maria; Bollok, Monika; Kögler, Mart...</td>\n",
       "      <td>[BACKGROUND, Here, we, describe, a, new, techn...</td>\n",
       "    </tr>\n",
       "    <tr>\n",
       "      <th>1599</th>\n",
       "      <td>Metagenomic Assay for Identification of Microb...</td>\n",
       "      <td>Screening for thousands of viruses and other p...</td>\n",
       "      <td>2014-09-16</td>\n",
       "      <td>https://www.ncbi.nlm.nih.gov/pmc/articles/PMC4...</td>\n",
       "      <td>Baldwin, Don A.; Feldman, Michael; Alwine, Jam...</td>\n",
       "      <td>[Screening, for, thousands, of, viruses, and, ...</td>\n",
       "    </tr>\n",
       "    <tr>\n",
       "      <th>2877</th>\n",
       "      <td>Lessons from a decade of individual-based mode...</td>\n",
       "      <td>BACKGROUND: Individual-based models (IBMs) are...</td>\n",
       "      <td>2017-09-11</td>\n",
       "      <td>https://www.ncbi.nlm.nih.gov/pmc/articles/PMC5...</td>\n",
       "      <td>Willem, Lander; Verelst, Frederik; Bilcke, Jok...</td>\n",
       "      <td>[BACKGROUND, Individual, based, models, IBMs, ...</td>\n",
       "    </tr>\n",
       "    <tr>\n",
       "      <th>10112</th>\n",
       "      <td>Clinical assessment of Optivate(®), a high‐pur...</td>\n",
       "      <td>Summary. Factor VIII (FVIII) concentrates have...</td>\n",
       "      <td>2011-03-04</td>\n",
       "      <td>https://www.ncbi.nlm.nih.gov/pmc/articles/PMC7...</td>\n",
       "      <td>DMOSZYNSKA, A.; KULICZKOWSKI, K.; HELLMANN, A....</td>\n",
       "      <td>[Summary, Factor, VIII, FVIII, concentrates, h...</td>\n",
       "    </tr>\n",
       "    <tr>\n",
       "      <th>11845</th>\n",
       "      <td>Corneal donation for research versus for trans...</td>\n",
       "      <td>Fresh corneal donation is essential for basic ...</td>\n",
       "      <td>2020-05-21</td>\n",
       "      <td>https://www.ncbi.nlm.nih.gov/pmc/articles/PMC7...</td>\n",
       "      <td>Garcin, Thibaud; Pugniet, Jean Loup; Peyragros...</td>\n",
       "      <td>[Fresh, corneal, donation, is, essential, for,...</td>\n",
       "    </tr>\n",
       "  </tbody>\n",
       "</table>\n",
       "</div>"
      ],
      "text/plain": [
       "                                                   title  \\\n",
       "148    Improved production of human type II procollag...   \n",
       "1599   Metagenomic Assay for Identification of Microb...   \n",
       "2877   Lessons from a decade of individual-based mode...   \n",
       "10112  Clinical assessment of Optivate(®), a high‐pur...   \n",
       "11845  Corneal donation for research versus for trans...   \n",
       "\n",
       "                                                abstract publish_time  \\\n",
       "148    BACKGROUND: Here we describe a new technical s...   2008-03-27   \n",
       "1599   Screening for thousands of viruses and other p...   2014-09-16   \n",
       "2877   BACKGROUND: Individual-based models (IBMs) are...   2017-09-11   \n",
       "10112  Summary. Factor VIII (FVIII) concentrates have...   2011-03-04   \n",
       "11845  Fresh corneal donation is essential for basic ...   2020-05-21   \n",
       "\n",
       "                                                     url  \\\n",
       "148    https://www.ncbi.nlm.nih.gov/pmc/articles/PMC2...   \n",
       "1599   https://www.ncbi.nlm.nih.gov/pmc/articles/PMC4...   \n",
       "2877   https://www.ncbi.nlm.nih.gov/pmc/articles/PMC5...   \n",
       "10112  https://www.ncbi.nlm.nih.gov/pmc/articles/PMC7...   \n",
       "11845  https://www.ncbi.nlm.nih.gov/pmc/articles/PMC7...   \n",
       "\n",
       "                                                 authors  \\\n",
       "148    Ruottinen, Maria; Bollok, Monika; Kögler, Mart...   \n",
       "1599   Baldwin, Don A.; Feldman, Michael; Alwine, Jam...   \n",
       "2877   Willem, Lander; Verelst, Frederik; Bilcke, Jok...   \n",
       "10112  DMOSZYNSKA, A.; KULICZKOWSKI, K.; HELLMANN, A....   \n",
       "11845  Garcin, Thibaud; Pugniet, Jean Loup; Peyragros...   \n",
       "\n",
       "                                                   words  \n",
       "148    [BACKGROUND, Here, we, describe, a, new, techn...  \n",
       "1599   [Screening, for, thousands, of, viruses, and, ...  \n",
       "2877   [BACKGROUND, Individual, based, models, IBMs, ...  \n",
       "10112  [Summary, Factor, VIII, FVIII, concentrates, h...  \n",
       "11845  [Fresh, corneal, donation, is, essential, for,...  "
      ]
     },
     "execution_count": 137,
     "metadata": {},
     "output_type": "execute_result"
    }
   ],
   "source": [
    "#Articles that we have\n",
    "Q11.head(5)"
   ]
  },
  {
   "cell_type": "markdown",
   "metadata": {},
   "source": [
    "Online Search"
   ]
  },
  {
   "cell_type": "code",
   "execution_count": 138,
   "metadata": {},
   "outputs": [
    {
     "name": "stdout",
     "output_type": "stream",
     "text": [
      "https://www.cdc.gov/coronavirus/2019-ncov/hcp/dialysis/screening.html\n",
      "https://www.cdc.gov/coronavirus/2019-ncov/global-covid-19/migration-border-health.html\n",
      "https://www.doh.wa.gov/Portals/1/Documents/1600/coronavirus/Employervisitorscreeningguidance.pdf\n",
      "https://www.tsa.gov/coronavirus\n",
      "https://www.tsa.gov/coronavirus/passenger-throughput\n",
      "https://www.tsa.gov/coronavirus/news\n",
      "https://www.tsa.gov/travel/security-screening/whatcanibring/items/disinfecting-wipes\n",
      "https://www.vdh.virginia.gov/coronavirus/vdh-interim-guidance-for-daily-covid-19-screening-of-employees-and-visitors/\n",
      "https://coronavirus.ucsf.edu/campus-protocols/working-onsite\n",
      "https://www.vumc.org/coronavirus/latest-news/mandatory-covid-19-screening-employees-begin-wednesday\n",
      "https://www.cdc.gov/coronavirus/2019-ncov/symptoms-testing/testing.html\n",
      "https://www.cdc.gov/coronavirus/2019-ncov/lab/index.html\n",
      "https://www.cdc.gov/coronavirus/2019-ncov/hcp/testing-overview.html\n",
      "https://www.cdc.gov/coronavirus/2019-ncov/testing/serology-overview.html\n",
      "https://www.fda.gov/regulatory-information/search-fda-guidance-documents/policy-coronavirus-disease-2019-tests-during-public-health-emergency-revised\n",
      "https://www.fda.gov/media/135659/download\n",
      "https://www.asam.org/Quality-Science/covid-19-coronavirus/adjusting-drug-testing-protocols\n",
      "https://www.uwmedicine.org/coronavirus\n",
      "https://www.health.state.mn.us/diseases/coronavirus/hcp/eval.html\n",
      "https://asm.org/Articles/2020/February/Next-Steps-for-Novel-Coronavirus-Medical-Laborator\n"
     ]
    }
   ],
   "source": [
    "try: \n",
    "    from googlesearch import search \n",
    "except ImportError:  \n",
    "    print(\"Error/Not found\") \n",
    "### Browsing the sourses using different search terms: \n",
    "search11_1 = \"corona policies and protocols for screening.\"\n",
    "search11_2 = \"corona policies and protocols for testing\"\n",
    "\n",
    "\n",
    "\n",
    "##limit to the first 10 relevant links:\n",
    "for a in search(search11_1, tld=\"co.in\", num=10, stop=10, pause=2): \n",
    "    print(a)\n",
    "for a in search(search11_2, tld=\"co.in\", num=10, stop=10, pause=2): \n",
    "    print(a)\n"
   ]
  },
  {
   "cell_type": "markdown",
   "metadata": {},
   "source": [
    "# 12/ Policies to mitigate the effects on supplies associated with mass testing, including swabs and reagents."
   ]
  },
  {
   "cell_type": "markdown",
   "metadata": {},
   "source": [
    "# 13/ Technology roadmap for diagnostics."
   ]
  },
  {
   "cell_type": "code",
   "execution_count": 142,
   "metadata": {},
   "outputs": [],
   "source": [
    "#Create different sets with specialized terms  from our questions \n",
    "Q13_a = tablesAbstract[tablesAbstract['abstract'].str.contains('diagnostics')]\n",
    "Q13_b = Q11_a[Q11_a['abstract'].str.contains('technology')]"
   ]
  },
  {
   "cell_type": "code",
   "execution_count": 143,
   "metadata": {},
   "outputs": [
    {
     "data": {
      "text/plain": [
       "(57, 6)"
      ]
     },
     "execution_count": 143,
     "metadata": {},
     "output_type": "execute_result"
    }
   ],
   "source": [
    "#Concatenitng the dataframes into one table per question and dropping null value \n",
    "Q13 = pd.concat([Q13_b])\n",
    "Q13.dropna(inplace=True)\n",
    "Q13.shape"
   ]
  },
  {
   "cell_type": "code",
   "execution_count": 144,
   "metadata": {},
   "outputs": [
    {
     "data": {
      "text/html": [
       "<div>\n",
       "<style scoped>\n",
       "    .dataframe tbody tr th:only-of-type {\n",
       "        vertical-align: middle;\n",
       "    }\n",
       "\n",
       "    .dataframe tbody tr th {\n",
       "        vertical-align: top;\n",
       "    }\n",
       "\n",
       "    .dataframe thead th {\n",
       "        text-align: right;\n",
       "    }\n",
       "</style>\n",
       "<table border=\"1\" class=\"dataframe\">\n",
       "  <thead>\n",
       "    <tr style=\"text-align: right;\">\n",
       "      <th></th>\n",
       "      <th>title</th>\n",
       "      <th>abstract</th>\n",
       "      <th>publish_time</th>\n",
       "      <th>url</th>\n",
       "      <th>authors</th>\n",
       "      <th>words</th>\n",
       "    </tr>\n",
       "  </thead>\n",
       "  <tbody>\n",
       "    <tr>\n",
       "      <th>148</th>\n",
       "      <td>Improved production of human type II procollag...</td>\n",
       "      <td>BACKGROUND: Here we describe a new technical s...</td>\n",
       "      <td>2008-03-27</td>\n",
       "      <td>https://www.ncbi.nlm.nih.gov/pmc/articles/PMC2...</td>\n",
       "      <td>Ruottinen, Maria; Bollok, Monika; Kögler, Mart...</td>\n",
       "      <td>[BACKGROUND, Here, we, describe, a, new, techn...</td>\n",
       "    </tr>\n",
       "    <tr>\n",
       "      <th>1599</th>\n",
       "      <td>Metagenomic Assay for Identification of Microb...</td>\n",
       "      <td>Screening for thousands of viruses and other p...</td>\n",
       "      <td>2014-09-16</td>\n",
       "      <td>https://www.ncbi.nlm.nih.gov/pmc/articles/PMC4...</td>\n",
       "      <td>Baldwin, Don A.; Feldman, Michael; Alwine, Jam...</td>\n",
       "      <td>[Screening, for, thousands, of, viruses, and, ...</td>\n",
       "    </tr>\n",
       "    <tr>\n",
       "      <th>3826</th>\n",
       "      <td>Active Immunoprophylaxis and Vaccine Augmentat...</td>\n",
       "      <td>Plasmid DNA (pDNA) gene delivery is a highly v...</td>\n",
       "      <td>2019-04-01</td>\n",
       "      <td>https://www.ncbi.nlm.nih.gov/pmc/articles/PMC6...</td>\n",
       "      <td>Schommer, Nina N.; Nguyen, Jacklyn; Yung, Brya...</td>\n",
       "      <td>[Plasmid, DNA, pDNA, gene, delivery, is, a, hi...</td>\n",
       "    </tr>\n",
       "    <tr>\n",
       "      <th>12154</th>\n",
       "      <td>Improving gene annotation of complete viral ge...</td>\n",
       "      <td>Gene annotation in viruses often relies upon s...</td>\n",
       "      <td>2003-12-01</td>\n",
       "      <td>https://academic.oup.com/nar/article-pdf/31/23...</td>\n",
       "      <td>Mills, Ryan; Rozanov, Michael; Lomsadze, Alexa...</td>\n",
       "      <td>[Gene, annotation, in, viruses, often, relies,...</td>\n",
       "    </tr>\n",
       "    <tr>\n",
       "      <th>14719</th>\n",
       "      <td>Viruses Present Indoors and Analyses Approaches</td>\n",
       "      <td>Through human history viruses have shown enorm...</td>\n",
       "      <td>2017-06-12</td>\n",
       "      <td>https://www.ncbi.nlm.nih.gov/pmc/articles/PMC7...</td>\n",
       "      <td>Ribeiro, Edna; Leitão, Céu; Cristovam, Elisabe...</td>\n",
       "      <td>[Through, human, history, viruses, have, shown...</td>\n",
       "    </tr>\n",
       "  </tbody>\n",
       "</table>\n",
       "</div>"
      ],
      "text/plain": [
       "                                                   title  \\\n",
       "148    Improved production of human type II procollag...   \n",
       "1599   Metagenomic Assay for Identification of Microb...   \n",
       "3826   Active Immunoprophylaxis and Vaccine Augmentat...   \n",
       "12154  Improving gene annotation of complete viral ge...   \n",
       "14719    Viruses Present Indoors and Analyses Approaches   \n",
       "\n",
       "                                                abstract publish_time  \\\n",
       "148    BACKGROUND: Here we describe a new technical s...   2008-03-27   \n",
       "1599   Screening for thousands of viruses and other p...   2014-09-16   \n",
       "3826   Plasmid DNA (pDNA) gene delivery is a highly v...   2019-04-01   \n",
       "12154  Gene annotation in viruses often relies upon s...   2003-12-01   \n",
       "14719  Through human history viruses have shown enorm...   2017-06-12   \n",
       "\n",
       "                                                     url  \\\n",
       "148    https://www.ncbi.nlm.nih.gov/pmc/articles/PMC2...   \n",
       "1599   https://www.ncbi.nlm.nih.gov/pmc/articles/PMC4...   \n",
       "3826   https://www.ncbi.nlm.nih.gov/pmc/articles/PMC6...   \n",
       "12154  https://academic.oup.com/nar/article-pdf/31/23...   \n",
       "14719  https://www.ncbi.nlm.nih.gov/pmc/articles/PMC7...   \n",
       "\n",
       "                                                 authors  \\\n",
       "148    Ruottinen, Maria; Bollok, Monika; Kögler, Mart...   \n",
       "1599   Baldwin, Don A.; Feldman, Michael; Alwine, Jam...   \n",
       "3826   Schommer, Nina N.; Nguyen, Jacklyn; Yung, Brya...   \n",
       "12154  Mills, Ryan; Rozanov, Michael; Lomsadze, Alexa...   \n",
       "14719  Ribeiro, Edna; Leitão, Céu; Cristovam, Elisabe...   \n",
       "\n",
       "                                                   words  \n",
       "148    [BACKGROUND, Here, we, describe, a, new, techn...  \n",
       "1599   [Screening, for, thousands, of, viruses, and, ...  \n",
       "3826   [Plasmid, DNA, pDNA, gene, delivery, is, a, hi...  \n",
       "12154  [Gene, annotation, in, viruses, often, relies,...  \n",
       "14719  [Through, human, history, viruses, have, shown...  "
      ]
     },
     "execution_count": 144,
     "metadata": {},
     "output_type": "execute_result"
    }
   ],
   "source": [
    "#Articles that we have\n",
    "Q13.head(5)"
   ]
  },
  {
   "cell_type": "markdown",
   "metadata": {},
   "source": [
    "Online Search"
   ]
  },
  {
   "cell_type": "code",
   "execution_count": 145,
   "metadata": {},
   "outputs": [
    {
     "name": "stdout",
     "output_type": "stream",
     "text": [
      "https://www.cdc.gov/coronavirus/2019-ncov/hcp/dialysis/screening.html\n",
      "https://www.cdc.gov/coronavirus/2019-ncov/global-covid-19/migration-border-health.html\n",
      "https://www.doh.wa.gov/Portals/1/Documents/1600/coronavirus/Employervisitorscreeningguidance.pdf\n",
      "https://www.tsa.gov/coronavirus\n",
      "https://www.tsa.gov/coronavirus/passenger-throughput\n",
      "https://www.tsa.gov/coronavirus/news\n",
      "https://www.tsa.gov/travel/security-screening/whatcanibring/items/disinfecting-wipes\n",
      "https://www.vdh.virginia.gov/coronavirus/vdh-interim-guidance-for-daily-covid-19-screening-of-employees-and-visitors/\n",
      "https://coronavirus.ucsf.edu/campus-protocols/working-onsite\n",
      "https://www.vumc.org/coronavirus/latest-news/mandatory-covid-19-screening-employees-begin-wednesday\n"
     ]
    }
   ],
   "source": [
    "try: \n",
    "    from googlesearch import search \n",
    "except ImportError:  \n",
    "    print(\"Error/Not found\") \n",
    "### Browsing the sourses using different search terms: \n",
    "search13_1 = \"corona technology roadmap for diagnostics..\"\n",
    "\n",
    "\n",
    "\n",
    "##limit to the first 10 relevant links:\n",
    "for a in search(search11_1, tld=\"co.in\", num=20, stop=20, pause=2): \n",
    "    print(a)"
   ]
  },
  {
   "cell_type": "markdown",
   "metadata": {},
   "source": [
    "# 14/ Barriers to developing and scaling up new diagnostic tests (e.g., market forces), how future coalition and accelerator models (e.g., Coalition for Epidemic Preparedness Innovations) could provide critical funding for diagnostics, and opportunities for a streamlined regulatory environment."
   ]
  },
  {
   "cell_type": "markdown",
   "metadata": {},
   "source": [
    "# 15/ New platforms and technology (e.g., CRISPR) to improve response times and employ more holistic approaches to COVID-19 and future diseases."
   ]
  },
  {
   "cell_type": "markdown",
   "metadata": {},
   "source": [
    "# 16/ Coupling genomics and diagnostic testing on a large scale."
   ]
  },
  {
   "cell_type": "markdown",
   "metadata": {},
   "source": [
    "# 17/ Enhance capabilities for rapid sequencing and bioinformatics to target regions of the genome that will allow specificity for a particular variant."
   ]
  },
  {
   "cell_type": "markdown",
   "metadata": {},
   "source": [
    "# 18/ Enhance capacity (people, technology, data) for sequencing with advanced analytics for unknown pathogens, and explore capabilities for distinguishing naturally-occurring pathogens from intentional."
   ]
  },
  {
   "cell_type": "code",
   "execution_count": null,
   "metadata": {},
   "outputs": [],
   "source": []
  }
 ],
 "metadata": {
  "kernelspec": {
   "display_name": "Python 3",
   "language": "python",
   "name": "python3"
  },
  "language_info": {
   "codemirror_mode": {
    "name": "ipython",
    "version": 3
   },
   "file_extension": ".py",
   "mimetype": "text/x-python",
   "name": "python",
   "nbconvert_exporter": "python",
   "pygments_lexer": "ipython3",
   "version": "3.7.3"
  }
 },
 "nbformat": 4,
 "nbformat_minor": 4
}
