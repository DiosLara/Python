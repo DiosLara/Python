{
 "cells": [
  {
   "cell_type": "code",
   "execution_count": 2,
   "metadata": {},
   "outputs": [],
   "source": [
    "# Importing the libraries \n",
    "import sys\n",
    "import numpy as np \n",
    "import pandas as pd \n",
    "import os "
   ]
  },
  {
   "cell_type": "markdown",
   "metadata": {},
   "source": [
    "### Table: TABLE Frame with the questions we have"
   ]
  },
  {
   "cell_type": "code",
   "execution_count": 3,
   "metadata": {},
   "outputs": [],
   "source": [
    "#Sub table 1 \n",
    "data1 = {'Question':['Modes of communicating with target high-risk populations (elderly, health care workers).', \n",
    "                    'Management of patients who are underhoused or otherwise lower socioeconomic status.', \n",
    "                    'What are ways to create hospital infrastructure to prevent nosocomial outbreaks and protect uninfected patients?', \n",
    "                    'Methods to control the spread in communities, barriers to compliance',\n",
    "                    'What are recommendations for combating/overcoming resource failures',\n",
    "                    'Other relevant sources']}\n",
    "tbl1 = pd.DataFrame(data1)\n",
    "\n",
    "\n",
    "#Sub table 2\n",
    "data2 = {'From Abstacts file':['Q1_articles_Ways_of_communicating_with_highrisk_pop.csv', 'Q2_Mangmnt_underhoused_or_low_income_patients.csv', 'Q3_Articles_Ways_for_hospitals_prevent_nosocomial_outbreaks_and_protect_uninfected.csv', 'Q4_Articles_Methods_control_spread_in_communities_and_barriers_to_compliance.csv','Q5_Journal_Recommendations_for_overcoming_COVID19_resource_failures.csv','COVID19_Journal_Abrstracts.csv'], \n",
    "        'Online sources file':['Q1_online_Ways_of_communicating_with_highrisk_pop.csv', 'Q2_online_Managing_homeless_or_lowIncome_patients.csv','Q3_online_Ways_hospital_infrastr_prevent_nosocomial_outbreaks_and_protect_uninfected.csv', 'Q4_online_Methods_control_community_spread_and_barriers_to_compliance.csv','Q5_online_Recommendations_for_overcoming_COVID19_resource_failures.csv', 'COVID19_Population_Studies_online.csv']}\n",
    "tbl2 = pd.DataFrame(data2)"
   ]
  },
  {
   "cell_type": "code",
   "execution_count": 4,
   "metadata": {},
   "outputs": [
    {
     "data": {
      "text/html": [
       "<div>\n",
       "<style scoped>\n",
       "    .dataframe tbody tr th:only-of-type {\n",
       "        vertical-align: middle;\n",
       "    }\n",
       "\n",
       "    .dataframe tbody tr th {\n",
       "        vertical-align: top;\n",
       "    }\n",
       "\n",
       "    .dataframe thead th {\n",
       "        text-align: right;\n",
       "    }\n",
       "</style>\n",
       "<table border=\"1\" class=\"dataframe\">\n",
       "  <thead>\n",
       "    <tr style=\"text-align: right;\">\n",
       "      <th></th>\n",
       "      <th>Question</th>\n",
       "      <th>From Abstacts file</th>\n",
       "      <th>Online sources file</th>\n",
       "    </tr>\n",
       "  </thead>\n",
       "  <tbody>\n",
       "    <tr>\n",
       "      <th>0</th>\n",
       "      <td>Modes of communicating with target high-risk p...</td>\n",
       "      <td>Q1_articles_Ways_of_communicating_with_highris...</td>\n",
       "      <td>Q1_online_Ways_of_communicating_with_highrisk_...</td>\n",
       "    </tr>\n",
       "    <tr>\n",
       "      <th>1</th>\n",
       "      <td>Management of patients who are underhoused or ...</td>\n",
       "      <td>Q2_Mangmnt_underhoused_or_low_income_patients.csv</td>\n",
       "      <td>Q2_online_Managing_homeless_or_lowIncome_patie...</td>\n",
       "    </tr>\n",
       "    <tr>\n",
       "      <th>2</th>\n",
       "      <td>What are ways to create hospital infrastructur...</td>\n",
       "      <td>Q3_Articles_Ways_for_hospitals_prevent_nosocom...</td>\n",
       "      <td>Q3_online_Ways_hospital_infrastr_prevent_nosoc...</td>\n",
       "    </tr>\n",
       "    <tr>\n",
       "      <th>3</th>\n",
       "      <td>Methods to control the spread in communities, ...</td>\n",
       "      <td>Q4_Articles_Methods_control_spread_in_communit...</td>\n",
       "      <td>Q4_online_Methods_control_community_spread_and...</td>\n",
       "    </tr>\n",
       "    <tr>\n",
       "      <th>4</th>\n",
       "      <td>What are recommendations for combating/overcom...</td>\n",
       "      <td>Q5_Journal_Recommendations_for_overcoming_COVI...</td>\n",
       "      <td>Q5_online_Recommendations_for_overcoming_COVID...</td>\n",
       "    </tr>\n",
       "    <tr>\n",
       "      <th>5</th>\n",
       "      <td>Other relevant sources</td>\n",
       "      <td>COVID19_Journal_Abrstracts.csv</td>\n",
       "      <td>COVID19_Population_Studies_online.csv</td>\n",
       "    </tr>\n",
       "  </tbody>\n",
       "</table>\n",
       "</div>"
      ],
      "text/plain": [
       "                                            Question  \\\n",
       "0  Modes of communicating with target high-risk p...   \n",
       "1  Management of patients who are underhoused or ...   \n",
       "2  What are ways to create hospital infrastructur...   \n",
       "3  Methods to control the spread in communities, ...   \n",
       "4  What are recommendations for combating/overcom...   \n",
       "5                             Other relevant sources   \n",
       "\n",
       "                                  From Abstacts file  \\\n",
       "0  Q1_articles_Ways_of_communicating_with_highris...   \n",
       "1  Q2_Mangmnt_underhoused_or_low_income_patients.csv   \n",
       "2  Q3_Articles_Ways_for_hospitals_prevent_nosocom...   \n",
       "3  Q4_Articles_Methods_control_spread_in_communit...   \n",
       "4  Q5_Journal_Recommendations_for_overcoming_COVI...   \n",
       "5                     COVID19_Journal_Abrstracts.csv   \n",
       "\n",
       "                                 Online sources file  \n",
       "0  Q1_online_Ways_of_communicating_with_highrisk_...  \n",
       "1  Q2_online_Managing_homeless_or_lowIncome_patie...  \n",
       "2  Q3_online_Ways_hospital_infrastr_prevent_nosoc...  \n",
       "3  Q4_online_Methods_control_community_spread_and...  \n",
       "4  Q5_online_Recommendations_for_overcoming_COVID...  \n",
       "5              COVID19_Population_Studies_online.csv  "
      ]
     },
     "execution_count": 4,
     "metadata": {},
     "output_type": "execute_result"
    }
   ],
   "source": [
    "#Join the two tables together \n",
    "tablesTable=tbl1.join(tbl2)\n",
    "tablesTable.head(10)"
   ]
  },
  {
   "cell_type": "markdown",
   "metadata": {},
   "source": [
    "### Table: ABSTRACTS"
   ]
  },
  {
   "cell_type": "code",
   "execution_count": 6,
   "metadata": {},
   "outputs": [
    {
     "name": "stderr",
     "output_type": "stream",
     "text": [
      "C:\\Users\\HP\\Anaconda3\\lib\\site-packages\\IPython\\core\\interactiveshell.py:3063: DtypeWarning: Columns (5,6,13,14,16) have mixed types.Specify dtype option on import or set low_memory=False.\n",
      "  interactivity=interactivity, compiler=compiler, result=result)\n"
     ]
    },
    {
     "name": "stdout",
     "output_type": "stream",
     "text": [
      "The number of articles are: 167470\n"
     ]
    }
   ],
   "source": [
    "#Import the information\n",
    "df=pd.read_csv('E:/NorthEastern University/XN-Hackathon Covid/Kaggle Data/metadata.csv') \n",
    "print('The number of articles are:',df.shape[0])"
   ]
  },
  {
   "cell_type": "code",
   "execution_count": 5,
   "metadata": {},
   "outputs": [],
   "source": [
    "#Select only title, abstract, date, link to the article, and authors\n",
    "tablesAbstract= df [['title', 'abstract', 'publish_time', 'url', 'authors']]"
   ]
  },
  {
   "cell_type": "code",
   "execution_count": 6,
   "metadata": {},
   "outputs": [
    {
     "name": "stderr",
     "output_type": "stream",
     "text": [
      "C:\\Users\\HP\\Anaconda3\\lib\\site-packages\\ipykernel_launcher.py:2: SettingWithCopyWarning: \n",
      "A value is trying to be set on a copy of a slice from a DataFrame.\n",
      "Try using .loc[row_indexer,col_indexer] = value instead\n",
      "\n",
      "See the caveats in the documentation: https://pandas.pydata.org/pandas-docs/stable/user_guide/indexing.html#returning-a-view-versus-a-copy\n",
      "  \n"
     ]
    },
    {
     "data": {
      "text/html": [
       "<div>\n",
       "<style scoped>\n",
       "    .dataframe tbody tr th:only-of-type {\n",
       "        vertical-align: middle;\n",
       "    }\n",
       "\n",
       "    .dataframe tbody tr th {\n",
       "        vertical-align: top;\n",
       "    }\n",
       "\n",
       "    .dataframe thead th {\n",
       "        text-align: right;\n",
       "    }\n",
       "</style>\n",
       "<table border=\"1\" class=\"dataframe\">\n",
       "  <thead>\n",
       "    <tr style=\"text-align: right;\">\n",
       "      <th></th>\n",
       "      <th>title</th>\n",
       "      <th>abstract</th>\n",
       "      <th>publish_time</th>\n",
       "      <th>url</th>\n",
       "      <th>authors</th>\n",
       "      <th>words</th>\n",
       "    </tr>\n",
       "  </thead>\n",
       "  <tbody>\n",
       "    <tr>\n",
       "      <th>0</th>\n",
       "      <td>Clinical features of culture-proven Mycoplasma...</td>\n",
       "      <td>OBJECTIVE: This retrospective chart review des...</td>\n",
       "      <td>2001-07-04</td>\n",
       "      <td>https://www.ncbi.nlm.nih.gov/pmc/articles/PMC3...</td>\n",
       "      <td>Madani, Tariq A; Al-Ghamdi, Aisha A</td>\n",
       "      <td>[OBJECTIVE, This, retrospective, chart, review...</td>\n",
       "    </tr>\n",
       "    <tr>\n",
       "      <th>1</th>\n",
       "      <td>Nitric oxide: a pro-inflammatory mediator in l...</td>\n",
       "      <td>Inflammatory diseases of the respiratory tract...</td>\n",
       "      <td>2000-08-15</td>\n",
       "      <td>https://www.ncbi.nlm.nih.gov/pmc/articles/PMC5...</td>\n",
       "      <td>Vliet, Albert van der; Eiserich, Jason P; Cros...</td>\n",
       "      <td>[Inflammatory, diseases, of, the, respiratory,...</td>\n",
       "    </tr>\n",
       "    <tr>\n",
       "      <th>2</th>\n",
       "      <td>Surfactant protein-D and pulmonary host defense</td>\n",
       "      <td>Surfactant protein-D (SP-D) participates in th...</td>\n",
       "      <td>2000-08-25</td>\n",
       "      <td>https://www.ncbi.nlm.nih.gov/pmc/articles/PMC5...</td>\n",
       "      <td>Crouch, Erika C</td>\n",
       "      <td>[Surfactant, protein, D, SP, D, participates, ...</td>\n",
       "    </tr>\n",
       "  </tbody>\n",
       "</table>\n",
       "</div>"
      ],
      "text/plain": [
       "                                               title  \\\n",
       "0  Clinical features of culture-proven Mycoplasma...   \n",
       "1  Nitric oxide: a pro-inflammatory mediator in l...   \n",
       "2    Surfactant protein-D and pulmonary host defense   \n",
       "\n",
       "                                            abstract publish_time  \\\n",
       "0  OBJECTIVE: This retrospective chart review des...   2001-07-04   \n",
       "1  Inflammatory diseases of the respiratory tract...   2000-08-15   \n",
       "2  Surfactant protein-D (SP-D) participates in th...   2000-08-25   \n",
       "\n",
       "                                                 url  \\\n",
       "0  https://www.ncbi.nlm.nih.gov/pmc/articles/PMC3...   \n",
       "1  https://www.ncbi.nlm.nih.gov/pmc/articles/PMC5...   \n",
       "2  https://www.ncbi.nlm.nih.gov/pmc/articles/PMC5...   \n",
       "\n",
       "                                             authors  \\\n",
       "0                Madani, Tariq A; Al-Ghamdi, Aisha A   \n",
       "1  Vliet, Albert van der; Eiserich, Jason P; Cros...   \n",
       "2                                    Crouch, Erika C   \n",
       "\n",
       "                                               words  \n",
       "0  [OBJECTIVE, This, retrospective, chart, review...  \n",
       "1  [Inflammatory, diseases, of, the, respiratory,...  \n",
       "2  [Surfactant, protein, D, SP, D, participates, ...  "
      ]
     },
     "execution_count": 6,
     "metadata": {},
     "output_type": "execute_result"
    }
   ],
   "source": [
    "#Seperate the words in the Abstract columns \n",
    "tablesAbstract['words']=  tablesAbstract.abstract.str.strip().str.split('[\\W_]+')\n",
    "tablesAbstract = tablesAbstract[tablesAbstract.words.str.len() > 0]\n",
    "                                        #rid of all the input that have the Words column less than 0 \n",
    "tablesAbstract.head(3)"
   ]
  },
  {
   "cell_type": "code",
   "execution_count": 7,
   "metadata": {},
   "outputs": [
    {
     "name": "stdout",
     "output_type": "stream",
     "text": [
      "The number of articles after reduction is: 122492\n"
     ]
    }
   ],
   "source": [
    "print('The number of articles after reduction is:', tablesAbstract.shape[0])"
   ]
  },
  {
   "cell_type": "markdown",
   "metadata": {},
   "source": [
    "# ==> We will analyze what the articles available in the dataset and then also search online resources for each questions "
   ]
  },
  {
   "cell_type": "markdown",
   "metadata": {},
   "source": [
    "# -------------------------------------------------------------------------------------------------------------"
   ]
  },
  {
   "cell_type": "markdown",
   "metadata": {},
   "source": [
    "# 0/ General information about the COVID "
   ]
  },
  {
   "cell_type": "markdown",
   "metadata": {},
   "source": [
    "Scraping the web using beautifulsoup4 and Google "
   ]
  },
  {
   "cell_type": "code",
   "execution_count": 8,
   "metadata": {},
   "outputs": [
    {
     "name": "stdout",
     "output_type": "stream",
     "text": [
      "Requirement already satisfied: google in c:\\users\\hp\\anaconda3\\lib\\site-packages (3.0.0)\n",
      "Requirement already satisfied: beautifulsoup4 in c:\\users\\hp\\anaconda3\\lib\\site-packages (from google) (4.9.0)\n",
      "Requirement already satisfied: soupsieve>1.2 in c:\\users\\hp\\anaconda3\\lib\\site-packages (from beautifulsoup4->google) (2.0)\n",
      "Note: you may need to restart the kernel to use updated packages.\n"
     ]
    }
   ],
   "source": [
    "pip install google"
   ]
  },
  {
   "cell_type": "code",
   "execution_count": 9,
   "metadata": {},
   "outputs": [
    {
     "name": "stdout",
     "output_type": "stream",
     "text": [
      "Requirement already satisfied: beautifulsoup4 in c:\\users\\hp\\anaconda3\\lib\\site-packages (4.9.0)\n",
      "Requirement already satisfied: soupsieve>1.2 in c:\\users\\hp\\anaconda3\\lib\\site-packages (from beautifulsoup4) (2.0)\n",
      "Note: you may need to restart the kernel to use updated packages.\n"
     ]
    }
   ],
   "source": [
    "pip install beautifulsoup4"
   ]
  },
  {
   "cell_type": "code",
   "execution_count": 10,
   "metadata": {},
   "outputs": [
    {
     "name": "stdout",
     "output_type": "stream",
     "text": [
      "https://www.cdc.gov/coronavirus/2019-ncov/covid-data/serology-surveillance/index.html\n",
      "https://www.cdc.gov/coronavirus/2019-ncov/cases-updates/geographic-seroprevalence-surveys.html\n",
      "https://www.dhs.wisconsin.gov/news/releases/061720.htm\n",
      "https://www.washington.edu/populationhealth/covid-19/\n",
      "https://www.washington.edu/populationhealth/covid-19/covid-19-economic-recovery-research-grants/\n",
      "https://www.washington.edu/populationhealth/covid-19/covid-19-livestream-talks/\n",
      "https://healthitanalytics.com/news/population-health-study-to-estimate-prevalence-of-covid-19-in-ca\n",
      "https://www.thelancet.com/journals/lancet/article/PIIS0140-6736(20)31483-5/fulltext\n",
      "https://www.thelancet.com/journals/langlo/article/PIIS2214-109X(20)30264-3/fulltext\n",
      "https://medium.com/microbial-instincts/population-studies-confirm-risk-factors-for-catching-covid-19-853779e7a3c6\n"
     ]
    }
   ],
   "source": [
    "try: \n",
    "    from googlesearch import search \n",
    "except ImportError:  \n",
    "    print(\"Error/Not found\") \n",
    "                        ### browsing for: COVID 19 population studies  \n",
    "query = \"COVID 19 population studies\"\n",
    "                        ##limit to the first 10 relevant links:\n",
    "for j in search(query, tld=\"co.in\", num=10, stop=10, pause=2): \n",
    "    print(j)  "
   ]
  },
  {
   "cell_type": "code",
   "execution_count": 11,
   "metadata": {},
   "outputs": [
    {
     "data": {
      "text/html": [
       "<div>\n",
       "<style scoped>\n",
       "    .dataframe tbody tr th:only-of-type {\n",
       "        vertical-align: middle;\n",
       "    }\n",
       "\n",
       "    .dataframe tbody tr th {\n",
       "        vertical-align: top;\n",
       "    }\n",
       "\n",
       "    .dataframe thead th {\n",
       "        text-align: right;\n",
       "    }\n",
       "</style>\n",
       "<table border=\"1\" class=\"dataframe\">\n",
       "  <thead>\n",
       "    <tr style=\"text-align: right;\">\n",
       "      <th></th>\n",
       "      <th>url</th>\n",
       "    </tr>\n",
       "  </thead>\n",
       "  <tbody>\n",
       "    <tr>\n",
       "      <th>0</th>\n",
       "      <td>https://www.cdc.gov/coronavirus/2019-ncov/covi...</td>\n",
       "    </tr>\n",
       "    <tr>\n",
       "      <th>1</th>\n",
       "      <td>https://www.cdc.gov/coronavirus/2019-ncov/case...</td>\n",
       "    </tr>\n",
       "    <tr>\n",
       "      <th>2</th>\n",
       "      <td>https://www.dhs.wisconsin.gov/news/releases/06...</td>\n",
       "    </tr>\n",
       "    <tr>\n",
       "      <th>3</th>\n",
       "      <td>https://www.washington.edu/populationhealth/co...</td>\n",
       "    </tr>\n",
       "    <tr>\n",
       "      <th>4</th>\n",
       "      <td>https://www.washington.edu/populationhealth/co...</td>\n",
       "    </tr>\n",
       "    <tr>\n",
       "      <th>5</th>\n",
       "      <td>https://www.washington.edu/populationhealth/co...</td>\n",
       "    </tr>\n",
       "    <tr>\n",
       "      <th>6</th>\n",
       "      <td>https://healthitanalytics.com/news/population-...</td>\n",
       "    </tr>\n",
       "    <tr>\n",
       "      <th>7</th>\n",
       "      <td>https://www.thelancet.com/journals/lancet/arti...</td>\n",
       "    </tr>\n",
       "    <tr>\n",
       "      <th>8</th>\n",
       "      <td>https://www.thelancet.com/journals/langlo/arti...</td>\n",
       "    </tr>\n",
       "    <tr>\n",
       "      <th>9</th>\n",
       "      <td>https://medium.com/microbial-instincts/populat...</td>\n",
       "    </tr>\n",
       "  </tbody>\n",
       "</table>\n",
       "</div>"
      ],
      "text/plain": [
       "                                                 url\n",
       "0  https://www.cdc.gov/coronavirus/2019-ncov/covi...\n",
       "1  https://www.cdc.gov/coronavirus/2019-ncov/case...\n",
       "2  https://www.dhs.wisconsin.gov/news/releases/06...\n",
       "3  https://www.washington.edu/populationhealth/co...\n",
       "4  https://www.washington.edu/populationhealth/co...\n",
       "5  https://www.washington.edu/populationhealth/co...\n",
       "6  https://healthitanalytics.com/news/population-...\n",
       "7  https://www.thelancet.com/journals/lancet/arti...\n",
       "8  https://www.thelancet.com/journals/langlo/arti...\n",
       "9  https://medium.com/microbial-instincts/populat..."
      ]
     },
     "execution_count": 11,
     "metadata": {},
     "output_type": "execute_result"
    }
   ],
   "source": [
    "#Gather all the links we found online to one dataframe \n",
    "COVID_G_Studies={'url': ['https://www.cdc.gov/coronavirus/2019-ncov/covid-data/serology-surveillance/index.html',\n",
    "    'https://www.cdc.gov/coronavirus/2019-ncov/cases-updates/geographic-seroprevalence-surveys.html',\n",
    "    'https://www.dhs.wisconsin.gov/news/releases/061720.htm',\n",
    "    'https://www.washington.edu/populationhealth/covid-19/',\n",
    "    'https://www.washington.edu/populationhealth/covid-19/covid-19-economic-recovery-research-grants/',\n",
    "    'https://www.washington.edu/populationhealth/covid-19/covid-19-livestream-talks/',\n",
    "    'https://healthitanalytics.com/news/population-health-study-to-estimate-prevalence-of-covid-19-in-ca',\n",
    "    'https://www.thelancet.com/journals/lancet/article/PIIS0140-6736(20)31483-5/fulltext',\n",
    "    'https://www.thelancet.com/journals/langlo/article/PIIS2214-109X(20)30264-3/fulltext',\n",
    "    'https://medium.com/microbial-instincts/population-studies-confirm-risk-factors-for-catching-covid-19-853779e7a3c6']}\n",
    "\n",
    "COVID_G_Studies=pd.DataFrame.from_dict(COVID_G_Studies)\n",
    "COVID_G_Studies"
   ]
  },
  {
   "cell_type": "code",
   "execution_count": 12,
   "metadata": {},
   "outputs": [],
   "source": [
    "#Save the dataframe to the below \n",
    "COVID_G_Studies.to_csv('E:/NorthEastern University/XN-Hackathon Covid/Kaggle Data/Q0_Gen_COVID19_Population_Studies.csv') "
   ]
  },
  {
   "cell_type": "markdown",
   "metadata": {},
   "source": [
    "# 1/ Modes of communicating with target high-risk populations (elderly, health care workers)."
   ]
  },
  {
   "cell_type": "code",
   "execution_count": 13,
   "metadata": {},
   "outputs": [],
   "source": [
    "#Create different sets with specialized terms  from our questions \n",
    "Q1_a = tablesAbstract[tablesAbstract['abstract'].str.contains('communicating')]\n",
    "Q1_b = tablesAbstract[tablesAbstract['abstract'].str.contains('with high-risk')]\n",
    "Q1_c = tablesAbstract[tablesAbstract['abstract'].str.contains('elderly')]\n",
    "Q1_d = tablesAbstract[tablesAbstract['abstract'].str.contains('elders')]\n",
    "                                        #choose elders and elderly because if we choose only one then the number of articles is lower \n",
    "Q1_e = tablesAbstract[tablesAbstract['abstract'].str.contains('communicating')]\n",
    "Q1_f = tablesAbstract[tablesAbstract['abstract'].str.contains('health care workers')]\n",
    "Q1_g = tablesAbstract[tablesAbstract['abstract'].str.contains('risk population')]\n"
   ]
  },
  {
   "cell_type": "code",
   "execution_count": 14,
   "metadata": {},
   "outputs": [
    {
     "data": {
      "text/plain": [
       "(2462, 6)"
      ]
     },
     "execution_count": 14,
     "metadata": {},
     "output_type": "execute_result"
    }
   ],
   "source": [
    "#Concatenitng the dataframes into one table per question and dropping null value \n",
    "Q1 = pd.concat([Q1_a,Q1_b,Q1_c,Q1_d,Q1_e,Q1_f,Q1_g])\n",
    "Q1.dropna(inplace=True)\n",
    "Q1.shape"
   ]
  },
  {
   "cell_type": "markdown",
   "metadata": {},
   "source": [
    "We have 2462 articles regarding to the this topic at the moment"
   ]
  },
  {
   "cell_type": "code",
   "execution_count": 15,
   "metadata": {},
   "outputs": [
    {
     "data": {
      "text/html": [
       "<div>\n",
       "<style scoped>\n",
       "    .dataframe tbody tr th:only-of-type {\n",
       "        vertical-align: middle;\n",
       "    }\n",
       "\n",
       "    .dataframe tbody tr th {\n",
       "        vertical-align: top;\n",
       "    }\n",
       "\n",
       "    .dataframe thead th {\n",
       "        text-align: right;\n",
       "    }\n",
       "</style>\n",
       "<table border=\"1\" class=\"dataframe\">\n",
       "  <thead>\n",
       "    <tr style=\"text-align: right;\">\n",
       "      <th></th>\n",
       "      <th>title</th>\n",
       "      <th>abstract</th>\n",
       "      <th>publish_time</th>\n",
       "      <th>url</th>\n",
       "      <th>authors</th>\n",
       "      <th>words</th>\n",
       "    </tr>\n",
       "  </thead>\n",
       "  <tbody>\n",
       "    <tr>\n",
       "      <th>472</th>\n",
       "      <td>A molecular clamp ensures allosteric coordinat...</td>\n",
       "      <td>Although the ribosome is mainly comprised of r...</td>\n",
       "      <td>2010-07-21</td>\n",
       "      <td>https://www.ncbi.nlm.nih.gov/pmc/articles/PMC2...</td>\n",
       "      <td>Meskauskas, Arturas; Dinman, Jonathan D.</td>\n",
       "      <td>[Although, the, ribosome, is, mainly, comprise...</td>\n",
       "    </tr>\n",
       "    <tr>\n",
       "      <th>739</th>\n",
       "      <td>Making sense of perceptions of risk of disease...</td>\n",
       "      <td>BACKGROUND: Maintaining high levels of childho...</td>\n",
       "      <td>2011-12-20</td>\n",
       "      <td>https://www.ncbi.nlm.nih.gov/pmc/articles/PMC3...</td>\n",
       "      <td>Bond, Lyndal; Nolan, Terry</td>\n",
       "      <td>[BACKGROUND, Maintaining, high, levels, of, ch...</td>\n",
       "    </tr>\n",
       "    <tr>\n",
       "      <th>2947</th>\n",
       "      <td>A mechanistic spatio-temporal framework for mo...</td>\n",
       "      <td>In recent years there has been growing availab...</td>\n",
       "      <td>2017-10-30</td>\n",
       "      <td>https://www.ncbi.nlm.nih.gov/pmc/articles/PMC5...</td>\n",
       "      <td>Lau, Max S. Y.; Gibson, Gavin J.; Adrakey, Hol...</td>\n",
       "      <td>[In, recent, years, there, has, been, growing,...</td>\n",
       "    </tr>\n",
       "    <tr>\n",
       "      <th>3107</th>\n",
       "      <td>Health-seeking behavior and transmission dynam...</td>\n",
       "      <td>BACKGROUND: It has been found that health-seek...</td>\n",
       "      <td>2018-03-06</td>\n",
       "      <td>https://www.ncbi.nlm.nih.gov/pmc/articles/PMC5...</td>\n",
       "      <td>You, Shu-Han; Chen, Szu-Chieh; Liao, Chung-Min</td>\n",
       "      <td>[BACKGROUND, It, has, been, found, that, healt...</td>\n",
       "    </tr>\n",
       "    <tr>\n",
       "      <th>4132</th>\n",
       "      <td>Epidemiological and clinical profile of Korean...</td>\n",
       "      <td>The aim of this study was to investigate the e...</td>\n",
       "      <td>2019-09-27</td>\n",
       "      <td>https://www.ncbi.nlm.nih.gov/pmc/articles/PMC6...</td>\n",
       "      <td>Kim, Jiena; Choi, Hyo Jeong; Kim, Ho Jung</td>\n",
       "      <td>[The, aim, of, this, study, was, to, investiga...</td>\n",
       "    </tr>\n",
       "  </tbody>\n",
       "</table>\n",
       "</div>"
      ],
      "text/plain": [
       "                                                  title  \\\n",
       "472   A molecular clamp ensures allosteric coordinat...   \n",
       "739   Making sense of perceptions of risk of disease...   \n",
       "2947  A mechanistic spatio-temporal framework for mo...   \n",
       "3107  Health-seeking behavior and transmission dynam...   \n",
       "4132  Epidemiological and clinical profile of Korean...   \n",
       "\n",
       "                                               abstract publish_time  \\\n",
       "472   Although the ribosome is mainly comprised of r...   2010-07-21   \n",
       "739   BACKGROUND: Maintaining high levels of childho...   2011-12-20   \n",
       "2947  In recent years there has been growing availab...   2017-10-30   \n",
       "3107  BACKGROUND: It has been found that health-seek...   2018-03-06   \n",
       "4132  The aim of this study was to investigate the e...   2019-09-27   \n",
       "\n",
       "                                                    url  \\\n",
       "472   https://www.ncbi.nlm.nih.gov/pmc/articles/PMC2...   \n",
       "739   https://www.ncbi.nlm.nih.gov/pmc/articles/PMC3...   \n",
       "2947  https://www.ncbi.nlm.nih.gov/pmc/articles/PMC5...   \n",
       "3107  https://www.ncbi.nlm.nih.gov/pmc/articles/PMC5...   \n",
       "4132  https://www.ncbi.nlm.nih.gov/pmc/articles/PMC6...   \n",
       "\n",
       "                                                authors  \\\n",
       "472            Meskauskas, Arturas; Dinman, Jonathan D.   \n",
       "739                          Bond, Lyndal; Nolan, Terry   \n",
       "2947  Lau, Max S. Y.; Gibson, Gavin J.; Adrakey, Hol...   \n",
       "3107     You, Shu-Han; Chen, Szu-Chieh; Liao, Chung-Min   \n",
       "4132          Kim, Jiena; Choi, Hyo Jeong; Kim, Ho Jung   \n",
       "\n",
       "                                                  words  \n",
       "472   [Although, the, ribosome, is, mainly, comprise...  \n",
       "739   [BACKGROUND, Maintaining, high, levels, of, ch...  \n",
       "2947  [In, recent, years, there, has, been, growing,...  \n",
       "3107  [BACKGROUND, It, has, been, found, that, healt...  \n",
       "4132  [The, aim, of, this, study, was, to, investiga...  "
      ]
     },
     "execution_count": 15,
     "metadata": {},
     "output_type": "execute_result"
    }
   ],
   "source": [
    "#Articles that we have\n",
    "Q1.head(5)"
   ]
  },
  {
   "cell_type": "code",
   "execution_count": 16,
   "metadata": {},
   "outputs": [],
   "source": [
    "## Saved as CSV file\n",
    "Q1.to_csv('E:/NorthEastern University/XN-Hackathon Covid/Kaggle Data/Q1_Ways_of_communicating_with_highrisk_pop.csv')"
   ]
  },
  {
   "cell_type": "markdown",
   "metadata": {},
   "source": [
    "Online Search "
   ]
  },
  {
   "cell_type": "code",
   "execution_count": 44,
   "metadata": {},
   "outputs": [
    {
     "name": "stdout",
     "output_type": "stream",
     "text": [
      "https://www.cdc.gov/coronavirus/2019-ncov/need-extra-precautions/index.html\n",
      "https://www.cdc.gov/coronavirus/2019-ncov/need-extra-precautions/caregivers-dementia.html\n",
      "https://www.cdc.gov/coronavirus/2019-ncov/need-extra-precautions/racial-ethnic-minorities.html\n",
      "https://www.cdc.gov/coronavirus/2019-ncov/need-extra-precautions/people-with-medical-conditions.html\n",
      "https://www.cdc.gov/healthyweight/assessing/bmi/index.html\n",
      "https://www.cdc.gov/diabetes/managing/flu-sick-days.html\n",
      "https://www.cdc.gov/coronavirus/2019-ncov/community/retirement/checklist.html\n",
      "https://www.cdc.gov/asthma/triggers.html\n",
      "https://sph.washington.edu/news-events/news/partnering-state-health-department-reach-vulnerable-communities-about-covid-19\n",
      "https://www.ncoa.org/blog/managing-the-covid-19-crisis-for-vulnerable-populations/\n",
      "https://www.cdc.gov/coronavirus/2019-ncov/communication/index.html\n",
      "https://www.cdc.gov/coronavirus/2019-ncov/communication/print-resources.html\n",
      "https://www.cdc.gov/coronavirus/2019-ncov/communication/videos.html\n",
      "https://phil.cdc.gov/\n",
      "https://www.cdc.gov/coronavirus/2019-ncov/communication/social-media-toolkit.html\n",
      "https://www.cdc.gov/coronavirus/2019-ncov/need-extra-precautions/communication-toolkit.html\n",
      "https://www.ncbi.nlm.nih.gov/pmc/articles/PMC7158804/\n",
      "https://www.ncbi.nlm.nih.gov/pmc/articles/PMC7158804/#abs0010title\n",
      "https://www.ncbi.nlm.nih.gov/pmc/articles/PMC7158804/#sec1title\n",
      "https://www.ncbi.nlm.nih.gov/pmc/articles/PMC7158804/#idm140171548530864title\n",
      "https://www.cdc.gov/coronavirus/2019-ncov/hcp/telehealth.html\n",
      "https://www.hhs.gov/coronavirus/telehealth/index.html\n",
      "https://www.hhs.gov/coronavirus/telehealth/index.html#hipaa\n",
      "https://www.hhs.gov/coronavirus/telehealth/index.html#waivers\n",
      "https://www.hhs.gov/coronavirus/telehealth/index.html#costsharing\n",
      "https://www.hhs.gov/sites/default/files/telehealth-faqs-508.pdf\n",
      "https://www.cchpca.org/resources/covid-19-telehealth-coverage-policies\n",
      "https://www.nejm.org/doi/full/10.1056/nejmp2003539\n",
      "https://www.acponline.org/practice-resources/covid-19-practice-management-resources/telehealth-coding-and-billing-during-covid-19\n",
      "https://www.medicare.gov/medicare-coronavirus\n"
     ]
    }
   ],
   "source": [
    "try: \n",
    "    from googlesearch import search \n",
    "except ImportError:  \n",
    "    print(\"Error/Not found\") \n",
    "### Browsing the sourses using different search terms: \n",
    "search1_1 = \"ways to reach COVID 19 vulnerable population\"\n",
    "search1_2 = \"communicating with COVID 19 high risk population\"\n",
    "search1_3 = \"telehealth and COVID19\"\n",
    "\n",
    "##limit to the first 10 relevant links:\n",
    "for a in search(search1_1, tld=\"co.in\", num=10, stop=10, pause=2): \n",
    "    print(a)\n",
    "for a in search(search1_2, tld=\"co.in\", num=10, stop=10, pause=2): \n",
    "    print(a)\n",
    "for a in search(search1_3, tld=\"co.in\", num=10, stop=10, pause=2): \n",
    "    print(a)"
   ]
  },
  {
   "cell_type": "code",
   "execution_count": 41,
   "metadata": {},
   "outputs": [],
   "source": [
    "#Manually choose the current relevant sources \n",
    "Q1_Online_Source={'url': ['https://www.cdc.gov/coronavirus/2019-ncov/need-extra-precautions/index.html',\n",
    "                         'https://www.cdc.gov/coronavirus/2019-ncov/need-extra-precautions/caregivers-dementia.html',\n",
    "                         'https://www.cdc.gov/coronavirus/2019-ncov/need-extra-precautions/racial-ethnic-minorities.html',\n",
    "                         'https://www.cdc.gov/coronavirus/2019-ncov/need-extra-precautions/people-with-medical-conditions.html',\n",
    "                         'https://www.cdc.gov/coronavirus/2019-ncov/community/retirement/checklist.html',\n",
    "                         'https://www.cdc.gov/asthma/triggers.html',\n",
    "                         'https://www.cdc.gov/coronavirus/2019-ncov/communication/print-resources.html?Sort=Date%3A%3Adesc',\n",
    "                         'https://www.cdc.gov/coronavirus/2019-ncov/communication/videos.html?Sort=Date%3A%3Adesc',\n",
    "                         'https://www.cdc.gov/coronavirus/2019-ncov/need-extra-precautions/communication-toolkit.html',\n",
    "                         'https://www.hhs.gov/coronavirus/telehealth/index.html',\n",
    "                         'https://sph.washington.edu/news-events/news/partnering-state-health-department-reach-vulnerable-communities-about-covid-19',\n",
    "                         'https://www.ncbi.nlm.nih.gov/pmc/articles/PMC7158804/',\n",
    "                         'https://www.cchpca.org/resources/covid-19-telehealth-coverage-policies',\n",
    "                        'https://www.nejm.org/doi/full/10.1056/nejmp2003539',\n",
    "                        'https://www.acponline.org/practice-resources/covid-19-practice-management-resources/telehealth-coding-and-billing-during-covid-19'\n",
    "]}"
   ]
  },
  {
   "cell_type": "code",
   "execution_count": 53,
   "metadata": {},
   "outputs": [],
   "source": [
    "Q1_Online_Source=pd.DataFrame.from_dict(Q1_Online_Source)\n",
    "Q1_Online_Source.to_csv('E:/NorthEastern University/XN-Hackathon Covid/Kaggle Data/Q1_ZOnline_Sources.csv') "
   ]
  },
  {
   "cell_type": "markdown",
   "metadata": {},
   "source": [
    "# 2/ Management of patients who are underhoused or otherwise lower socioeconomic status."
   ]
  },
  {
   "cell_type": "code",
   "execution_count": 17,
   "metadata": {},
   "outputs": [],
   "source": [
    "#Create different sets with specialized terms  from our questions \n",
    "Q2_a = tablesAbstract[tablesAbstract['abstract'].str.contains('homeless')]\n",
    "Q2_b = tablesAbstract[tablesAbstract['abstract'].str.contains('low income')]\n",
    "Q2_c = tablesAbstract[tablesAbstract['abstract'].str.contains('poor')]\n",
    "Q2_d = tablesAbstract[tablesAbstract['abstract'].str.contains('poverty')]\n",
    "                                        #choose poor, lowincome, poverty because if we choose only one then the number of articles is lower \n",
    "Q2_e = tablesAbstract[tablesAbstract['abstract'].str.contains('housing')]"
   ]
  },
  {
   "cell_type": "code",
   "execution_count": 18,
   "metadata": {},
   "outputs": [
    {
     "data": {
      "text/plain": [
       "(4728, 6)"
      ]
     },
     "execution_count": 18,
     "metadata": {},
     "output_type": "execute_result"
    }
   ],
   "source": [
    "#Concatenitng the dataframes into one table per question and dropping null value \n",
    "Q2 = pd.concat([Q2_a,Q2_b,Q2_c,Q2_d,Q2_e])\n",
    "Q2.dropna(inplace=True)\n",
    "Q2.shape"
   ]
  },
  {
   "cell_type": "markdown",
   "metadata": {},
   "source": [
    "We have 4728 articles regarding to the this topic at the moment"
   ]
  },
  {
   "cell_type": "code",
   "execution_count": 19,
   "metadata": {},
   "outputs": [
    {
     "data": {
      "text/html": [
       "<div>\n",
       "<style scoped>\n",
       "    .dataframe tbody tr th:only-of-type {\n",
       "        vertical-align: middle;\n",
       "    }\n",
       "\n",
       "    .dataframe tbody tr th {\n",
       "        vertical-align: top;\n",
       "    }\n",
       "\n",
       "    .dataframe thead th {\n",
       "        text-align: right;\n",
       "    }\n",
       "</style>\n",
       "<table border=\"1\" class=\"dataframe\">\n",
       "  <thead>\n",
       "    <tr style=\"text-align: right;\">\n",
       "      <th></th>\n",
       "      <th>title</th>\n",
       "      <th>abstract</th>\n",
       "      <th>publish_time</th>\n",
       "      <th>url</th>\n",
       "      <th>authors</th>\n",
       "      <th>words</th>\n",
       "    </tr>\n",
       "  </thead>\n",
       "  <tbody>\n",
       "    <tr>\n",
       "      <th>298</th>\n",
       "      <td>Initial psychological responses to Influenza A...</td>\n",
       "      <td>BACKGROUND: The outbreak of the pandemic flu, ...</td>\n",
       "      <td>2009-10-06</td>\n",
       "      <td>https://www.ncbi.nlm.nih.gov/pmc/articles/PMC2...</td>\n",
       "      <td>Goodwin, Robin; Haque, Shamsul; Neto, Felix; M...</td>\n",
       "      <td>[BACKGROUND, The, outbreak, of, the, pandemic,...</td>\n",
       "    </tr>\n",
       "    <tr>\n",
       "      <th>1938</th>\n",
       "      <td>Upstream Disaster Management to Support People...</td>\n",
       "      <td>The unique context of day-to-day living for pe...</td>\n",
       "      <td>2015-08-18</td>\n",
       "      <td>https://www.ncbi.nlm.nih.gov/pmc/articles/PMC4...</td>\n",
       "      <td>Sundareswaran, Madura; Ghazzawi, Andrea; O'Sul...</td>\n",
       "      <td>[The, unique, context, of, day, to, day, livin...</td>\n",
       "    </tr>\n",
       "    <tr>\n",
       "      <th>3015</th>\n",
       "      <td>Cage size, movement in and out of housing duri...</td>\n",
       "      <td>Upper respiratory infection (URI) is not an in...</td>\n",
       "      <td>2018-01-02</td>\n",
       "      <td>https://www.ncbi.nlm.nih.gov/pmc/articles/PMC5...</td>\n",
       "      <td>Wagner, Denae C.; Kass, Philip H.; Hurley, Kat...</td>\n",
       "      <td>[Upper, respiratory, infection, URI, is, not, ...</td>\n",
       "    </tr>\n",
       "    <tr>\n",
       "      <th>5534</th>\n",
       "      <td>How did the introduction of managed care for t...</td>\n",
       "      <td>Concerns about access under managed care have ...</td>\n",
       "      <td>2003</td>\n",
       "      <td>https://www.ncbi.nlm.nih.gov/pmc/articles/PMC7...</td>\n",
       "      <td>Ettner, Susan L.; Argeriou, Milton; McCarty, D...</td>\n",
       "      <td>[Concerns, about, access, under, managed, care...</td>\n",
       "    </tr>\n",
       "    <tr>\n",
       "      <th>7664</th>\n",
       "      <td>Geographic Distribution of Disaster-Specific E...</td>\n",
       "      <td>OBJECTIVE: We aimed to characterize the geogra...</td>\n",
       "      <td>2016-02-09</td>\n",
       "      <td>https://www.ncbi.nlm.nih.gov/pmc/articles/PMC7...</td>\n",
       "      <td>Lee, David C.; Smith, Silas W.; Carr, Brendan ...</td>\n",
       "      <td>[OBJECTIVE, We, aimed, to, characterize, the, ...</td>\n",
       "    </tr>\n",
       "  </tbody>\n",
       "</table>\n",
       "</div>"
      ],
      "text/plain": [
       "                                                  title  \\\n",
       "298   Initial psychological responses to Influenza A...   \n",
       "1938  Upstream Disaster Management to Support People...   \n",
       "3015  Cage size, movement in and out of housing duri...   \n",
       "5534  How did the introduction of managed care for t...   \n",
       "7664  Geographic Distribution of Disaster-Specific E...   \n",
       "\n",
       "                                               abstract publish_time  \\\n",
       "298   BACKGROUND: The outbreak of the pandemic flu, ...   2009-10-06   \n",
       "1938  The unique context of day-to-day living for pe...   2015-08-18   \n",
       "3015  Upper respiratory infection (URI) is not an in...   2018-01-02   \n",
       "5534  Concerns about access under managed care have ...         2003   \n",
       "7664  OBJECTIVE: We aimed to characterize the geogra...   2016-02-09   \n",
       "\n",
       "                                                    url  \\\n",
       "298   https://www.ncbi.nlm.nih.gov/pmc/articles/PMC2...   \n",
       "1938  https://www.ncbi.nlm.nih.gov/pmc/articles/PMC4...   \n",
       "3015  https://www.ncbi.nlm.nih.gov/pmc/articles/PMC5...   \n",
       "5534  https://www.ncbi.nlm.nih.gov/pmc/articles/PMC7...   \n",
       "7664  https://www.ncbi.nlm.nih.gov/pmc/articles/PMC7...   \n",
       "\n",
       "                                                authors  \\\n",
       "298   Goodwin, Robin; Haque, Shamsul; Neto, Felix; M...   \n",
       "1938  Sundareswaran, Madura; Ghazzawi, Andrea; O'Sul...   \n",
       "3015  Wagner, Denae C.; Kass, Philip H.; Hurley, Kat...   \n",
       "5534  Ettner, Susan L.; Argeriou, Milton; McCarty, D...   \n",
       "7664  Lee, David C.; Smith, Silas W.; Carr, Brendan ...   \n",
       "\n",
       "                                                  words  \n",
       "298   [BACKGROUND, The, outbreak, of, the, pandemic,...  \n",
       "1938  [The, unique, context, of, day, to, day, livin...  \n",
       "3015  [Upper, respiratory, infection, URI, is, not, ...  \n",
       "5534  [Concerns, about, access, under, managed, care...  \n",
       "7664  [OBJECTIVE, We, aimed, to, characterize, the, ...  "
      ]
     },
     "execution_count": 19,
     "metadata": {},
     "output_type": "execute_result"
    }
   ],
   "source": [
    "#Articles that we have\n",
    "Q2.head(5)"
   ]
  },
  {
   "cell_type": "code",
   "execution_count": 20,
   "metadata": {},
   "outputs": [],
   "source": [
    "## Saved as CSV file\n",
    "Q2.to_csv('E:/NorthEastern University/XN-Hackathon Covid/Kaggle Data/Q2_Mangament_underhoused_or_low_income_patients.csv')"
   ]
  },
  {
   "cell_type": "markdown",
   "metadata": {},
   "source": [
    "Online Search"
   ]
  },
  {
   "cell_type": "code",
   "execution_count": 45,
   "metadata": {},
   "outputs": [
    {
     "name": "stdout",
     "output_type": "stream",
     "text": [
      "https://www.cdc.gov/coronavirus/2019-ncov/community/homeless-shelters/index.html\n",
      "https://www.cdc.gov/coronavirus/2019-ncov/community/homeless-shelters/unsheltered-homelessness.html\n",
      "https://www.cdc.gov/coronavirus/2019-ncov/community/homeless-shelters/faqs.html\n",
      "https://www.cdc.gov/coronavirus/2019-ncov/community/homeless-shelters/plan-prepare-respond.html\n",
      "https://www.cdc.gov/mmwr/volumes/69/wr/mm6917e2.htm\n",
      "https://kingcounty.gov/covid/homeless\n",
      "https://www.npr.org/2020/07/11/890000877/arizona-non-profit-provides-housing-the-homeless-who-test-positive-for-coronavir\n",
      "https://www.statnews.com/2020/04/11/coronavirus-san-francisco-homeless-doctors-difficult-choices/\n",
      "https://neighborcare.org/services/homeless-and-housing/\n",
      "https://www.asam.org/Quality-Science/covid-19-coronavirus/homeless-guidance\n",
      "https://www.kff.org/coronavirus-covid-19/issue-brief/low-income-and-communities-of-color-at-higher-risk-of-serious-illness-if-infected-with-coronavirus/\n",
      "http://www.seattle.gov/mayor/covid-19\n",
      "https://www.seattle.gov/mayor/covid-19/covid-19-testing\n",
      "http://www.seattle.gov/mayor/covid-19/covid-19-reopening\n",
      "https://www.seattle.gov/rentinginseattle\n",
      "https://nlihc.org/coronavirus-and-housing-homelessness\n",
      "https://nlihc.org/covid-19-working-groupcalls\n",
      "https://nlihc.org/resource/congressional-leaders-agree-coronavirus-response-package-funding-homelessness-and-housing\n",
      "https://nlihc.org/rental-assistance\n",
      "https://www.sciencedaily.com/releases/2020/05/200526173830.htm\n"
     ]
    }
   ],
   "source": [
    "try: \n",
    "    from googlesearch import search \n",
    "except ImportError:  \n",
    "    print(\"Error/Not found\") \n",
    "### Browsing the sourses using different search terms: \n",
    "search2_1 = \"homeless COVID 19 patients\"\n",
    "search2_2 = \"low income COVID 19 patients\"\n",
    "\n",
    "\n",
    "##limit to the first 10 relevant links:\n",
    "for a in search(search2_1, tld=\"co.in\", num=10, stop=10, pause=2): \n",
    "    print(a)\n",
    "for a in search(search2_2, tld=\"co.in\", num=10, stop=10, pause=2): \n",
    "    print(a)"
   ]
  },
  {
   "cell_type": "code",
   "execution_count": 46,
   "metadata": {},
   "outputs": [],
   "source": [
    "#Manually choose the current relevant sources \n",
    "Q2_Online_Source={'url': ['https://www.cdc.gov/coronavirus/2019-ncov/community/homeless-shelters/index.html',\n",
    "                          'https://www.cdc.gov/coronavirus/2019-ncov/community/homeless-shelters/unsheltered-homelessness.html',\n",
    "                          'https://www.cdc.gov/coronavirus/2019-ncov/community/homeless-shelters/faqs.html',\n",
    "                          'https://www.cdc.gov/coronavirus/2019-ncov/community/homeless-shelters/plan-prepare-respond.html',\n",
    "                          'https://www.cdc.gov/mmwr/volumes/69/wr/mm6917e2.htm',\n",
    "                          'https://kingcounty.gov/depts/health/locations/homeless-health/healthcare-for-the-homeless/covid.aspx',\n",
    "                          'https://www.npr.org/sections/coronavirus-live-updates/2020/07/11/890000877/arizona-non-profit-provides-housing-the-homeless-who-test-positive-for-coronavir',\n",
    "                          'https://www.statnews.com/2020/04/11/coronavirus-san-francisco-homeless-doctors-difficult-choices/',\n",
    "                          'https://neighborcare.org/services/homeless-and-housing/',\n",
    "                          'https://www.kff.org/coronavirus-covid-19/issue-brief/low-income-and-communities-of-color-at-higher-risk-of-serious-illness-if-infected-with-coronavirus/',\n",
    "                          'https://www.asam.org/Quality-Science/covid-19-coronavirus/homeless-guidance',\n",
    "                          'http://www.seattle.gov/mayor/covid-19',\n",
    "                          'https://www.seattle.gov/mayor/covid-19/covid-19-testing',\n",
    "                          'http://www.seattle.gov/mayor/covid-19/covid-19-reopening',\n",
    "                          'https://www.seattle.gov/rentinginseattle',\n",
    "                          'https://nlihc.org/coronavirus-and-housing-homelessness',\n",
    "                          'https://nlihc.org/covid-19-working-groupcalls',\n",
    "                          'https://nlihc.org/resource/congressional-leaders-agree-coronavirus-response-package-funding-homelessness-and-housing',\n",
    "                          'https://www.sciencedaily.com/releases/2020/05/200526173830.htm'\n",
    "                         ]}"
   ]
  },
  {
   "cell_type": "code",
   "execution_count": 52,
   "metadata": {},
   "outputs": [],
   "source": [
    "Q2_Online_Source=pd.DataFrame.from_dict(Q2_Online_Source)\n",
    "Q2_Online_Source.to_csv('E:/NorthEastern University/XN-Hackathon Covid/Kaggle Data/Q2_ZOnline_Sources.csv') "
   ]
  },
  {
   "cell_type": "markdown",
   "metadata": {},
   "source": [
    "# 3/ What are ways to create hospital infrastructure to prevent nosocomial outbreaks and protect uninfected patients?"
   ]
  },
  {
   "cell_type": "code",
   "execution_count": 21,
   "metadata": {},
   "outputs": [],
   "source": [
    "#Create different sets with specialized terms  from our questions \n",
    "Q3_a = tablesAbstract[tablesAbstract['abstract'].str.contains('nosocomial')]\n",
    "Q3_b = tablesAbstract[tablesAbstract['abstract'].str.contains('hospital spread')]\n",
    "Q3_c = tablesAbstract[tablesAbstract['abstract'].str.contains('hospital patients')]\n",
    "Q3_d = tablesAbstract[tablesAbstract['abstract'].str.contains('nosocomial outbreak')]\n",
    "Q3_e = tablesAbstract[tablesAbstract['abstract'].str.contains('hospital infrastructure')]"
   ]
  },
  {
   "cell_type": "code",
   "execution_count": 22,
   "metadata": {},
   "outputs": [
    {
     "data": {
      "text/plain": [
       "(877, 6)"
      ]
     },
     "execution_count": 22,
     "metadata": {},
     "output_type": "execute_result"
    }
   ],
   "source": [
    "#Concatenitng the dataframes into one table per question and dropping null value \n",
    "Q3 = pd.concat([Q3_a,Q3_b,Q3_c,Q3_d, Q3_e])\n",
    "Q3.dropna(inplace=True)\n",
    "Q3.shape"
   ]
  },
  {
   "cell_type": "markdown",
   "metadata": {},
   "source": [
    "We have 877 articles regarding to the first topics at the moment"
   ]
  },
  {
   "cell_type": "code",
   "execution_count": 23,
   "metadata": {},
   "outputs": [
    {
     "data": {
      "text/html": [
       "<div>\n",
       "<style scoped>\n",
       "    .dataframe tbody tr th:only-of-type {\n",
       "        vertical-align: middle;\n",
       "    }\n",
       "\n",
       "    .dataframe tbody tr th {\n",
       "        vertical-align: top;\n",
       "    }\n",
       "\n",
       "    .dataframe thead th {\n",
       "        text-align: right;\n",
       "    }\n",
       "</style>\n",
       "<table border=\"1\" class=\"dataframe\">\n",
       "  <thead>\n",
       "    <tr style=\"text-align: right;\">\n",
       "      <th></th>\n",
       "      <th>title</th>\n",
       "      <th>abstract</th>\n",
       "      <th>publish_time</th>\n",
       "      <th>url</th>\n",
       "      <th>authors</th>\n",
       "      <th>words</th>\n",
       "    </tr>\n",
       "  </thead>\n",
       "  <tbody>\n",
       "    <tr>\n",
       "      <th>332</th>\n",
       "      <td>Multiple lung abscesses due to acinetobacter i...</td>\n",
       "      <td>Acinetobacter species are well-known causes of...</td>\n",
       "      <td>2009-12-18</td>\n",
       "      <td>https://www.ncbi.nlm.nih.gov/pmc/articles/PMC2...</td>\n",
       "      <td>Kokkonouzis, Ioannis; Christou, Ioannis; Athan...</td>\n",
       "      <td>[Acinetobacter, species, are, well, known, cau...</td>\n",
       "    </tr>\n",
       "    <tr>\n",
       "      <th>653</th>\n",
       "      <td>Communicable Diseases Prioritized for Surveill...</td>\n",
       "      <td>INTRODUCTION: To establish strategic prioritie...</td>\n",
       "      <td>2011-10-04</td>\n",
       "      <td>https://www.ncbi.nlm.nih.gov/pmc/articles/PMC3...</td>\n",
       "      <td>Balabanova, Yanina; Gilsdorf, Andreas; Buda, S...</td>\n",
       "      <td>[INTRODUCTION, To, establish, strategic, prior...</td>\n",
       "    </tr>\n",
       "    <tr>\n",
       "      <th>823</th>\n",
       "      <td>Quantifying Type-Specific Reproduction Numbers...</td>\n",
       "      <td>An important determinant of a pathogen's succe...</td>\n",
       "      <td>2012-04-12</td>\n",
       "      <td>https://www.ncbi.nlm.nih.gov/pmc/articles/PMC3...</td>\n",
       "      <td>Cooper, Ben S.; Kypraios, Theodore; Batra, Rah...</td>\n",
       "      <td>[An, important, determinant, of, a, pathogen, ...</td>\n",
       "    </tr>\n",
       "    <tr>\n",
       "      <th>1079</th>\n",
       "      <td>Should lower respiratory tract secretions from...</td>\n",
       "      <td>INTRODUCTION: Influenza is easily overlooked i...</td>\n",
       "      <td>2012-06-14</td>\n",
       "      <td>https://www.ncbi.nlm.nih.gov/pmc/articles/PMC3...</td>\n",
       "      <td>Giannella, Maddalena; Rodríguez-Sánchez, Belen...</td>\n",
       "      <td>[INTRODUCTION, Influenza, is, easily, overlook...</td>\n",
       "    </tr>\n",
       "    <tr>\n",
       "      <th>1624</th>\n",
       "      <td>Identification of Antigenic Proteins of the No...</td>\n",
       "      <td>The continuous expansion of nosocomial infecti...</td>\n",
       "      <td>2014-10-21</td>\n",
       "      <td>https://www.ncbi.nlm.nih.gov/pmc/articles/PMC4...</td>\n",
       "      <td>Hoppe, Sebastian; Bier, Frank F.; von Nickisch...</td>\n",
       "      <td>[The, continuous, expansion, of, nosocomial, i...</td>\n",
       "    </tr>\n",
       "  </tbody>\n",
       "</table>\n",
       "</div>"
      ],
      "text/plain": [
       "                                                  title  \\\n",
       "332   Multiple lung abscesses due to acinetobacter i...   \n",
       "653   Communicable Diseases Prioritized for Surveill...   \n",
       "823   Quantifying Type-Specific Reproduction Numbers...   \n",
       "1079  Should lower respiratory tract secretions from...   \n",
       "1624  Identification of Antigenic Proteins of the No...   \n",
       "\n",
       "                                               abstract publish_time  \\\n",
       "332   Acinetobacter species are well-known causes of...   2009-12-18   \n",
       "653   INTRODUCTION: To establish strategic prioritie...   2011-10-04   \n",
       "823   An important determinant of a pathogen's succe...   2012-04-12   \n",
       "1079  INTRODUCTION: Influenza is easily overlooked i...   2012-06-14   \n",
       "1624  The continuous expansion of nosocomial infecti...   2014-10-21   \n",
       "\n",
       "                                                    url  \\\n",
       "332   https://www.ncbi.nlm.nih.gov/pmc/articles/PMC2...   \n",
       "653   https://www.ncbi.nlm.nih.gov/pmc/articles/PMC3...   \n",
       "823   https://www.ncbi.nlm.nih.gov/pmc/articles/PMC3...   \n",
       "1079  https://www.ncbi.nlm.nih.gov/pmc/articles/PMC3...   \n",
       "1624  https://www.ncbi.nlm.nih.gov/pmc/articles/PMC4...   \n",
       "\n",
       "                                                authors  \\\n",
       "332   Kokkonouzis, Ioannis; Christou, Ioannis; Athan...   \n",
       "653   Balabanova, Yanina; Gilsdorf, Andreas; Buda, S...   \n",
       "823   Cooper, Ben S.; Kypraios, Theodore; Batra, Rah...   \n",
       "1079  Giannella, Maddalena; Rodríguez-Sánchez, Belen...   \n",
       "1624  Hoppe, Sebastian; Bier, Frank F.; von Nickisch...   \n",
       "\n",
       "                                                  words  \n",
       "332   [Acinetobacter, species, are, well, known, cau...  \n",
       "653   [INTRODUCTION, To, establish, strategic, prior...  \n",
       "823   [An, important, determinant, of, a, pathogen, ...  \n",
       "1079  [INTRODUCTION, Influenza, is, easily, overlook...  \n",
       "1624  [The, continuous, expansion, of, nosocomial, i...  "
      ]
     },
     "execution_count": 23,
     "metadata": {},
     "output_type": "execute_result"
    }
   ],
   "source": [
    "#Articles that we have\n",
    "Q3.head(5)"
   ]
  },
  {
   "cell_type": "code",
   "execution_count": 24,
   "metadata": {},
   "outputs": [],
   "source": [
    "## Saved as CSV file\n",
    "Q3.to_csv('E:/NorthEastern University/XN-Hackathon Covid/Kaggle Data/Q3_Ways_for_hospitals_prevent_nosocomial_outbreaks_and_protect_uninfected.csv')"
   ]
  },
  {
   "cell_type": "markdown",
   "metadata": {},
   "source": [
    "Online Search"
   ]
  },
  {
   "cell_type": "code",
   "execution_count": 49,
   "metadata": {},
   "outputs": [
    {
     "name": "stdout",
     "output_type": "stream",
     "text": [
      "https://www.cdc.gov/infectioncontrol/guidelines/isolation/prevention.html\n",
      "https://www.ncbi.nlm.nih.gov/books/NBK2683/\n",
      "https://www.who.int/water_sanitation_health/medicalwaste/148to158.pdf?ua=1\n",
      "https://www.who.int/csr/resources/publications/whocdscsreph200212.pdf\n",
      "https://www.health.ny.gov/professionals/diseases/reporting/communicable/infection/95-14_vre_control_guidelines.htm\n",
      "https://www.cochrane.org/CD011621/protective-clothes-and-equipment-healthcare-workers-prevent-them-catching-coronavirus-and-other\n",
      "http://www.bccdc.ca/resource-gallery/Documents/Guidelines%20and%20Forms/Guidelines%20and%20Manuals/Epid/CD%20Manual/Chapter%203%20-%20IC/InfectionControl_GF_IC_In_Physician_Office.pdf\n",
      "https://www.halyardhealth.com/hai-watch/hai-threats-solutions/mrsa.aspx\n",
      "http://www.southernhealth.nhs.uk/EasysiteWeb/getresource.axd?AssetID=83283&type=full&servicetype=Inline&filename=/Management_of_Used_and_Infected_Linen_V2.pdf\n",
      "https://www.health.state.mn.us/facilities/patientsafety/infectioncontrol/pre/contact.html\n",
      "https://nhcps.com/10-steps-preventing-spread-infection-hospitals/?sa=X&ved=2ahUKEwj26-7Wi8vqAhVaHzQIHXZYBWEQ9QF6BAgHEAI\n",
      "https://nhcps.com/10-steps-preventing-spread-infection-hospitals/\n",
      "https://www.ncbi.nlm.nih.gov/pmc/articles/PMC3963198/\n",
      "https://www.ncbi.nlm.nih.gov/pmc/articles/PMC3963198/#idm140652065323648title\n",
      "https://www.ncbi.nlm.nih.gov/pmc/articles/PMC3963198/#sec1-1title\n",
      "https://www.ncbi.nlm.nih.gov/pmc/articles/PMC3963198/#sec1-2title\n",
      "https://www.ncbi.nlm.nih.gov/pmc/articles/PMC3963198/#sec1-5title\n",
      "https://www.cdc.gov/hai/prevent/prevention.html\n",
      "https://www.cdc.gov/infectioncontrol/index.html\n",
      "https://medlineplus.gov/infectioncontrol.html\n",
      "https://nhcps.com/10-steps-preventing-spread-infection-hospitals/\n",
      "https://www.ncbi.nlm.nih.gov/pmc/articles/PMC3963198/\n",
      "https://www.ncbi.nlm.nih.gov/pmc/articles/PMC3963198/#idm140652065323648title\n",
      "https://www.ncbi.nlm.nih.gov/pmc/articles/PMC3963198/#sec1-1title\n",
      "https://www.ncbi.nlm.nih.gov/pmc/articles/PMC3963198/#sec1-2title\n",
      "https://www.ncbi.nlm.nih.gov/pmc/articles/PMC3963198/#sec1-6title\n",
      "https://www.cdc.gov/hai/prevent/prevention.html\n",
      "https://www.cdc.gov/hai/prevent/infection-control-assessment-tools.html\n",
      "https://www.cdc.gov/hai/prevent/prevention_tools.html\n",
      "https://www.cdc.gov/hai/prevent/tap.html\n"
     ]
    }
   ],
   "source": [
    "try: \n",
    "    from googlesearch import search \n",
    "except ImportError:  \n",
    "    print(\"Error/Not found\") \n",
    "### Browsing the sourses using different search terms: \n",
    "search3_1 = \"prevent contamination of uninfected patients\"\n",
    "search3_2 = \"hospital spread prevention\"\n",
    "search3_3 = \"prevent nosocomial outbreaks in hospitals\"\n",
    "\n",
    "\n",
    "##limit to the first 10 relevant links:\n",
    "for a in search(search3_1, tld=\"co.in\", num=10, stop=10, pause=2): \n",
    "    print(a)\n",
    "for a in search(search3_2, tld=\"co.in\", num=10, stop=10, pause=2): \n",
    "    print(a)\n",
    "for a in search(search3_3, tld=\"co.in\", num=10, stop=10, pause=2): \n",
    "    print(a)"
   ]
  },
  {
   "cell_type": "code",
   "execution_count": 50,
   "metadata": {},
   "outputs": [],
   "source": [
    "#Manually choose the current relevant sources \n",
    "Q3_Online_Source={'url': ['https://www.who.int/water_sanitation_health/medicalwaste/148to158.pdf?ua=1',\n",
    "                         'http://www.bccdc.ca/resource-gallery/Documents/Guidelines%20and%20Forms/Guidelines%20and%20Manuals/Epid/CD%20Manual/Chapter%203%20-%20IC/InfectionControl_GF_IC_In_Physician_Office.pdf',\n",
    "                         'https://www.southernhealth.nhs.uk/EasysiteWeb/getresource.axd?AssetID=83283&type=full&servicetype=Inline&filename=/Management_of_Used_and_Infected_Linen_V2.pdf',\n",
    "                         'https://www.cdc.gov/hai/prevent/tap.html',\n",
    "                         'https://www.cdc.gov/hai/prevent/prevention_tools.html',\n",
    "                         'https://www.cdc.gov/infectioncontrol/guidelines/isolation/prevention.html',\n",
    "                         'https://www.cdc.gov/hai/prevent/prevention.html',\n",
    "                         'https://www.cdc.gov/hai/prevent/infection-control-assessment-tools.html',\n",
    "                         'https://www.ncbi.nlm.nih.gov/books/NBK2683/',\n",
    "                          'https://www.health.ny.gov/professionals/diseases/reporting/communicable/infection/95-14_vre_control_guidelines.htm',\n",
    "                          'https://www.cochrane.org/CD011621/protective-clothes-and-equipment-healthcare-workers-prevent-them-catching-coronavirus-and-other',\n",
    "                          'https://www.health.state.mn.us/facilities/patientsafety/infectioncontrol/pre/contact.html',\n",
    "                          'https://www.ncbi.nlm.nih.gov/pmc/articles/PMC3963198/'\n",
    "                         ]}"
   ]
  },
  {
   "cell_type": "code",
   "execution_count": 54,
   "metadata": {},
   "outputs": [],
   "source": [
    "Q3_Online_Source=pd.DataFrame.from_dict(Q3_Online_Source)\n",
    "Q3_Online_Source.to_csv('E:/NorthEastern University/XN-Hackathon Covid/Kaggle Data/Q3_ZOnline_Sources.csv') "
   ]
  },
  {
   "cell_type": "markdown",
   "metadata": {},
   "source": [
    "# 4/ Methods to control the spread in communities, barriers to compliance"
   ]
  },
  {
   "cell_type": "code",
   "execution_count": 25,
   "metadata": {},
   "outputs": [],
   "source": [
    "#Create different sets with specialized terms  from our questions \n",
    "Q4_a = tablesAbstract[tablesAbstract['abstract'].str.contains('compliance')]\n",
    "Q4_b = tablesAbstract[tablesAbstract['abstract'].str.contains('community spread')]\n",
    "Q4_c = tablesAbstract[tablesAbstract['abstract'].str.contains('prevent spread')]\n",
    "Q4_d = tablesAbstract[tablesAbstract['abstract'].str.contains('methods to prevent')]"
   ]
  },
  {
   "cell_type": "code",
   "execution_count": 26,
   "metadata": {},
   "outputs": [
    {
     "data": {
      "text/plain": [
       "(956, 6)"
      ]
     },
     "execution_count": 26,
     "metadata": {},
     "output_type": "execute_result"
    }
   ],
   "source": [
    "#Concatenitng the dataframes into one table per question and dropping null value \n",
    "Q4 = pd.concat([Q4_a,Q4_b,Q4_c,Q4_d])\n",
    "Q4.dropna(inplace=True)\n",
    "Q4.shape"
   ]
  },
  {
   "cell_type": "markdown",
   "metadata": {},
   "source": [
    "We have 956 articles regarding to the first topics at the moment"
   ]
  },
  {
   "cell_type": "code",
   "execution_count": 27,
   "metadata": {},
   "outputs": [
    {
     "data": {
      "text/html": [
       "<div>\n",
       "<style scoped>\n",
       "    .dataframe tbody tr th:only-of-type {\n",
       "        vertical-align: middle;\n",
       "    }\n",
       "\n",
       "    .dataframe tbody tr th {\n",
       "        vertical-align: top;\n",
       "    }\n",
       "\n",
       "    .dataframe thead th {\n",
       "        text-align: right;\n",
       "    }\n",
       "</style>\n",
       "<table border=\"1\" class=\"dataframe\">\n",
       "  <thead>\n",
       "    <tr style=\"text-align: right;\">\n",
       "      <th></th>\n",
       "      <th>title</th>\n",
       "      <th>abstract</th>\n",
       "      <th>publish_time</th>\n",
       "      <th>url</th>\n",
       "      <th>authors</th>\n",
       "      <th>words</th>\n",
       "    </tr>\n",
       "  </thead>\n",
       "  <tbody>\n",
       "    <tr>\n",
       "      <th>145</th>\n",
       "      <td>A survey of knowledge, attitudes and practices...</td>\n",
       "      <td>BACKGROUND: Several public health strategic in...</td>\n",
       "      <td>2008-03-17</td>\n",
       "      <td>https://www.ncbi.nlm.nih.gov/pmc/articles/PMC2...</td>\n",
       "      <td>Di Giuseppe, Gabriella; Abbate, Rossella; Alba...</td>\n",
       "      <td>[BACKGROUND, Several, public, health, strategi...</td>\n",
       "    </tr>\n",
       "    <tr>\n",
       "      <th>265</th>\n",
       "      <td>Heliox reduces respiratory system resistance i...</td>\n",
       "      <td>INTRODUCTION: Respiratory syncytial virus (RSV...</td>\n",
       "      <td>2009-05-15</td>\n",
       "      <td>https://www.ncbi.nlm.nih.gov/pmc/articles/PMC2...</td>\n",
       "      <td>Kneyber, Martin CJ; van Heerde, Marc; Twisk, J...</td>\n",
       "      <td>[INTRODUCTION, Respiratory, syncytial, virus, ...</td>\n",
       "    </tr>\n",
       "    <tr>\n",
       "      <th>520</th>\n",
       "      <td>Factors Affecting Intention to Receive and Sel...</td>\n",
       "      <td>BACKGROUND: Vaccination was a core component f...</td>\n",
       "      <td>2011-03-11</td>\n",
       "      <td>https://www.ncbi.nlm.nih.gov/pmc/articles/PMC3...</td>\n",
       "      <td>Liao, Qiuyan; Cowling, Benjamin J.; Lam, Wendy...</td>\n",
       "      <td>[BACKGROUND, Vaccination, was, a, core, compon...</td>\n",
       "    </tr>\n",
       "    <tr>\n",
       "      <th>524</th>\n",
       "      <td>Autonomous Targeting of Infectious Superspread...</td>\n",
       "      <td>Infectious disease treatments, both pharmaceut...</td>\n",
       "      <td>2011-03-17</td>\n",
       "      <td>https://www.ncbi.nlm.nih.gov/pmc/articles/PMC3...</td>\n",
       "      <td>Metzger, Vincent T.; Lloyd-Smith, James O.; We...</td>\n",
       "      <td>[Infectious, disease, treatments, both, pharma...</td>\n",
       "    </tr>\n",
       "    <tr>\n",
       "      <th>892</th>\n",
       "      <td>PaCO(2 )and alveolar dead space are more relev...</td>\n",
       "      <td>INTRODUCTION: Our aims in this study were to r...</td>\n",
       "      <td>2011-07-25</td>\n",
       "      <td>https://www.ncbi.nlm.nih.gov/pmc/articles/PMC3...</td>\n",
       "      <td>Charron, Cyril; Repesse, Xavier; Bouferrache, ...</td>\n",
       "      <td>[INTRODUCTION, Our, aims, in, this, study, wer...</td>\n",
       "    </tr>\n",
       "  </tbody>\n",
       "</table>\n",
       "</div>"
      ],
      "text/plain": [
       "                                                 title  \\\n",
       "145  A survey of knowledge, attitudes and practices...   \n",
       "265  Heliox reduces respiratory system resistance i...   \n",
       "520  Factors Affecting Intention to Receive and Sel...   \n",
       "524  Autonomous Targeting of Infectious Superspread...   \n",
       "892  PaCO(2 )and alveolar dead space are more relev...   \n",
       "\n",
       "                                              abstract publish_time  \\\n",
       "145  BACKGROUND: Several public health strategic in...   2008-03-17   \n",
       "265  INTRODUCTION: Respiratory syncytial virus (RSV...   2009-05-15   \n",
       "520  BACKGROUND: Vaccination was a core component f...   2011-03-11   \n",
       "524  Infectious disease treatments, both pharmaceut...   2011-03-17   \n",
       "892  INTRODUCTION: Our aims in this study were to r...   2011-07-25   \n",
       "\n",
       "                                                   url  \\\n",
       "145  https://www.ncbi.nlm.nih.gov/pmc/articles/PMC2...   \n",
       "265  https://www.ncbi.nlm.nih.gov/pmc/articles/PMC2...   \n",
       "520  https://www.ncbi.nlm.nih.gov/pmc/articles/PMC3...   \n",
       "524  https://www.ncbi.nlm.nih.gov/pmc/articles/PMC3...   \n",
       "892  https://www.ncbi.nlm.nih.gov/pmc/articles/PMC3...   \n",
       "\n",
       "                                               authors  \\\n",
       "145  Di Giuseppe, Gabriella; Abbate, Rossella; Alba...   \n",
       "265  Kneyber, Martin CJ; van Heerde, Marc; Twisk, J...   \n",
       "520  Liao, Qiuyan; Cowling, Benjamin J.; Lam, Wendy...   \n",
       "524  Metzger, Vincent T.; Lloyd-Smith, James O.; We...   \n",
       "892  Charron, Cyril; Repesse, Xavier; Bouferrache, ...   \n",
       "\n",
       "                                                 words  \n",
       "145  [BACKGROUND, Several, public, health, strategi...  \n",
       "265  [INTRODUCTION, Respiratory, syncytial, virus, ...  \n",
       "520  [BACKGROUND, Vaccination, was, a, core, compon...  \n",
       "524  [Infectious, disease, treatments, both, pharma...  \n",
       "892  [INTRODUCTION, Our, aims, in, this, study, wer...  "
      ]
     },
     "execution_count": 27,
     "metadata": {},
     "output_type": "execute_result"
    }
   ],
   "source": [
    "#Articles that we have\n",
    "Q4.head(5)"
   ]
  },
  {
   "cell_type": "code",
   "execution_count": 28,
   "metadata": {},
   "outputs": [],
   "source": [
    "## Saved as CSV file\n",
    "Q4.to_csv('E:/NorthEastern University/XN-Hackathon Covid/Kaggle Data/Q4_Methods_control_spread_in_communities_and_barriers_to_compliance.csv')"
   ]
  },
  {
   "cell_type": "markdown",
   "metadata": {},
   "source": [
    "Online Search"
   ]
  },
  {
   "cell_type": "code",
   "execution_count": 1,
   "metadata": {},
   "outputs": [
    {
     "name": "stdout",
     "output_type": "stream",
     "text": [
      "https://nhcps.com/10-steps-preventing-spread-infection-hospitals/\n",
      "https://www.ncbi.nlm.nih.gov/pmc/articles/PMC3963198/\n",
      "https://www.ncbi.nlm.nih.gov/pmc/articles/PMC3963198/#idm140652065323648title\n",
      "https://www.ncbi.nlm.nih.gov/pmc/articles/PMC3963198/#sec1-1title\n",
      "https://www.ncbi.nlm.nih.gov/pmc/articles/PMC3963198/#sec1-2title\n",
      "https://www.ncbi.nlm.nih.gov/pmc/articles/PMC3963198/#sec1-6title\n",
      "https://www.cdc.gov/hai/prevent/prevention.html\n",
      "https://www.cdc.gov/hai/prevent/infection-control-assessment-tools.html\n",
      "https://www.cdc.gov/hai/prevent/prevention_tools.html\n",
      "https://www.cdc.gov/hai/prevent/tap.html\n",
      "https://www.cdc.gov/coronavirus/2019-ncov/prevent-getting-sick/prevention.html\n",
      "https://www.cdc.gov/coronavirus/2019-ncov/prevent-getting-sick/cloth-face-cover-guidance.html\n",
      "https://www.cdc.gov/coronavirus/2019-ncov/community/organizations/meat-poultry-processing-workers-employers.html\n",
      "https://www.cdc.gov/niosh/topics/heatstress/default.html\n",
      "https://wwwnc.cdc.gov/eid/article/26/7/20-1595_article\n",
      "https://www.cdc.gov/coronavirus/2019-ncov/prevent-getting-sick/social-distancing.html\n",
      "https://www.cdc.gov/coronavirus/2019-ncov/daily-life-coping/share-facts.html\n",
      "https://www.cdc.gov/coronavirus/2019-ncov/prevent-getting-sick/prevention-H.pdf\n",
      "https://www.kingcounty.gov/depts/health/covid-19/FAQ.aspx\n",
      "https://www.who.int/emergencies/diseases/novel-coronavirus-2019/advice-for-public\n",
      "https://www.epa.gov/enforcement/covid-19-enforcement-and-compliance-resources\n",
      "https://www.osha.gov/SLTC/covid-19/standards.html\n",
      "https://www.osha.gov/stateplans\n",
      "https://www.osha.gov/memos/2020-05-19/revised-enforcement-guidance-recording-cases-coronavirus-disease-2019-covid-19\n",
      "https://www.osha.gov/recordkeeping/\n",
      "https://www.osha.gov/memos/2020-04-10/enforcement-guidance-recording-cases-coronavirus-disease-2019-covid-19\n",
      "https://www.kingcounty.gov/depts/health/covid-19/workplaces.aspx\n",
      "https://www.kingcounty.gov/depts/health/covid-19/workplaces/report-cases.aspx\n",
      "https://www.kingcounty.gov/depts/health/covid-19/workplaces/food-establishments.aspx\n",
      "https://kingcounty.gov/depts/health/covid-19/care/anti-stigma.aspx\n"
     ]
    }
   ],
   "source": [
    "try: \n",
    "    from googlesearch import search \n",
    "except ImportError:  \n",
    "    print(\"Error/Not found\") \n",
    "### Browsing the sourses using different search terms: \n",
    "search4_1 = \"prevent nosocomial outbreaks in hospitals\"\n",
    "search4_2 = \"prevent COVID community spread\"\n",
    "search4_3 = \"COVID 19 compliance\"\n",
    "\n",
    "\n",
    "##limit to the first 10 relevant links:\n",
    "for a in search(search4_1, tld=\"co.in\", num=10, stop=10, pause=2): \n",
    "    print(a)\n",
    "for a in search(search4_2, tld=\"co.in\", num=10, stop=10, pause=2): \n",
    "    print(a)\n",
    "for a in search(search4_3, tld=\"co.in\", num=10, stop=10, pause=2): \n",
    "    print(a)"
   ]
  },
  {
   "cell_type": "markdown",
   "metadata": {},
   "source": [
    "# 5/ What are recommendations for combating/overcoming resource failures"
   ]
  },
  {
   "cell_type": "code",
   "execution_count": 29,
   "metadata": {},
   "outputs": [],
   "source": [
    "#Create different sets with specialized terms  from our questions \n",
    "Q5_a = tablesAbstract[tablesAbstract['abstract'].str.contains('not reach')]\n",
    "Q5_b = tablesAbstract[tablesAbstract['abstract'].str.contains('improve access')]\n",
    "Q5_c = tablesAbstract[tablesAbstract['abstract'].str.contains('access to resource')]\n",
    "Q5_d = tablesAbstract[tablesAbstract['abstract'].str.contains('outreach')]\n",
    "Q5_e = tablesAbstract[tablesAbstract['abstract'].str.contains('faulty')]\n",
    "Q5_f = tablesAbstract[tablesAbstract['abstract'].str.contains('meet demand')]\n",
    "Q5_g = tablesAbstract[tablesAbstract['abstract'].str.contains('waste')]"
   ]
  },
  {
   "cell_type": "code",
   "execution_count": 30,
   "metadata": {},
   "outputs": [
    {
     "data": {
      "text/plain": [
       "(813, 6)"
      ]
     },
     "execution_count": 30,
     "metadata": {},
     "output_type": "execute_result"
    }
   ],
   "source": [
    "#Concatenitng the dataframes into one table per question and dropping null value \n",
    "Q5 = pd.concat([Q5_a,Q5_b,Q5_c,Q5_d, Q5_e,Q5_f,Q5_g])\n",
    "Q5.dropna(inplace=True)\n",
    "Q5.shape"
   ]
  },
  {
   "cell_type": "markdown",
   "metadata": {},
   "source": [
    "We have 813 articles regarding to the first topics at the moment"
   ]
  },
  {
   "cell_type": "code",
   "execution_count": 31,
   "metadata": {},
   "outputs": [
    {
     "data": {
      "text/html": [
       "<div>\n",
       "<style scoped>\n",
       "    .dataframe tbody tr th:only-of-type {\n",
       "        vertical-align: middle;\n",
       "    }\n",
       "\n",
       "    .dataframe tbody tr th {\n",
       "        vertical-align: top;\n",
       "    }\n",
       "\n",
       "    .dataframe thead th {\n",
       "        text-align: right;\n",
       "    }\n",
       "</style>\n",
       "<table border=\"1\" class=\"dataframe\">\n",
       "  <thead>\n",
       "    <tr style=\"text-align: right;\">\n",
       "      <th></th>\n",
       "      <th>title</th>\n",
       "      <th>abstract</th>\n",
       "      <th>publish_time</th>\n",
       "      <th>url</th>\n",
       "      <th>authors</th>\n",
       "      <th>words</th>\n",
       "    </tr>\n",
       "  </thead>\n",
       "  <tbody>\n",
       "    <tr>\n",
       "      <th>1480</th>\n",
       "      <td>Building Cell Selectivity into CPP-Mediated St...</td>\n",
       "      <td>There is a pressing need for more effective an...</td>\n",
       "      <td>2010-05-14</td>\n",
       "      <td>https://www.ncbi.nlm.nih.gov/pmc/articles/PMC4...</td>\n",
       "      <td>Martín, Irene; Teixidó, Meritxell; Giralt, Ernest</td>\n",
       "      <td>[There, is, a, pressing, need, for, more, effe...</td>\n",
       "    </tr>\n",
       "    <tr>\n",
       "      <th>2014</th>\n",
       "      <td>Is There Any Role of Inhalational Corticostero...</td>\n",
       "      <td>Fat embolism syndrome (FES) is primarily a lun...</td>\n",
       "      <td>2015-09-25</td>\n",
       "      <td>https://www.ncbi.nlm.nih.gov/pmc/articles/PMC4...</td>\n",
       "      <td>Agarwal, Amit Kumar; Sen, Ramesh; Tripathy, Su...</td>\n",
       "      <td>[Fat, embolism, syndrome, FES, is, primarily, ...</td>\n",
       "    </tr>\n",
       "    <tr>\n",
       "      <th>2067</th>\n",
       "      <td>Quantity and Size Distribution of Cough-Genera...</td>\n",
       "      <td>The question of whether influenza is transmitt...</td>\n",
       "      <td>2012-05-31</td>\n",
       "      <td>https://www.ncbi.nlm.nih.gov/pmc/articles/PMC4...</td>\n",
       "      <td>Lindsley, William G.; Pearce, Terri A.; Hudnal...</td>\n",
       "      <td>[The, question, of, whether, influenza, is, tr...</td>\n",
       "    </tr>\n",
       "    <tr>\n",
       "      <th>2359</th>\n",
       "      <td>Common Genetic Polymorphisms within NFκB-Relat...</td>\n",
       "      <td>Invasive Aspergillosis (IA) is an opportunisti...</td>\n",
       "      <td>2016-08-12</td>\n",
       "      <td>https://www.ncbi.nlm.nih.gov/pmc/articles/PMC4...</td>\n",
       "      <td>Lupiañez, Carmen B.; Villaescusa, María T.; Ca...</td>\n",
       "      <td>[Invasive, Aspergillosis, IA, is, an, opportun...</td>\n",
       "    </tr>\n",
       "    <tr>\n",
       "      <th>2904</th>\n",
       "      <td>Effectiveness of a fluid chart in outpatient m...</td>\n",
       "      <td>INTRODUCTION: Dengue infection is the fastest ...</td>\n",
       "      <td>2017-10-04</td>\n",
       "      <td>https://www.ncbi.nlm.nih.gov/pmc/articles/PMC5...</td>\n",
       "      <td>Nasir, Nazrila Hairin; Mohamad, Mohazmi; Lum, ...</td>\n",
       "      <td>[INTRODUCTION, Dengue, infection, is, the, fas...</td>\n",
       "    </tr>\n",
       "  </tbody>\n",
       "</table>\n",
       "</div>"
      ],
      "text/plain": [
       "                                                  title  \\\n",
       "1480  Building Cell Selectivity into CPP-Mediated St...   \n",
       "2014  Is There Any Role of Inhalational Corticostero...   \n",
       "2067  Quantity and Size Distribution of Cough-Genera...   \n",
       "2359  Common Genetic Polymorphisms within NFκB-Relat...   \n",
       "2904  Effectiveness of a fluid chart in outpatient m...   \n",
       "\n",
       "                                               abstract publish_time  \\\n",
       "1480  There is a pressing need for more effective an...   2010-05-14   \n",
       "2014  Fat embolism syndrome (FES) is primarily a lun...   2015-09-25   \n",
       "2067  The question of whether influenza is transmitt...   2012-05-31   \n",
       "2359  Invasive Aspergillosis (IA) is an opportunisti...   2016-08-12   \n",
       "2904  INTRODUCTION: Dengue infection is the fastest ...   2017-10-04   \n",
       "\n",
       "                                                    url  \\\n",
       "1480  https://www.ncbi.nlm.nih.gov/pmc/articles/PMC4...   \n",
       "2014  https://www.ncbi.nlm.nih.gov/pmc/articles/PMC4...   \n",
       "2067  https://www.ncbi.nlm.nih.gov/pmc/articles/PMC4...   \n",
       "2359  https://www.ncbi.nlm.nih.gov/pmc/articles/PMC4...   \n",
       "2904  https://www.ncbi.nlm.nih.gov/pmc/articles/PMC5...   \n",
       "\n",
       "                                                authors  \\\n",
       "1480  Martín, Irene; Teixidó, Meritxell; Giralt, Ernest   \n",
       "2014  Agarwal, Amit Kumar; Sen, Ramesh; Tripathy, Su...   \n",
       "2067  Lindsley, William G.; Pearce, Terri A.; Hudnal...   \n",
       "2359  Lupiañez, Carmen B.; Villaescusa, María T.; Ca...   \n",
       "2904  Nasir, Nazrila Hairin; Mohamad, Mohazmi; Lum, ...   \n",
       "\n",
       "                                                  words  \n",
       "1480  [There, is, a, pressing, need, for, more, effe...  \n",
       "2014  [Fat, embolism, syndrome, FES, is, primarily, ...  \n",
       "2067  [The, question, of, whether, influenza, is, tr...  \n",
       "2359  [Invasive, Aspergillosis, IA, is, an, opportun...  \n",
       "2904  [INTRODUCTION, Dengue, infection, is, the, fas...  "
      ]
     },
     "execution_count": 31,
     "metadata": {},
     "output_type": "execute_result"
    }
   ],
   "source": [
    "#Articles that we have\n",
    "Q5.head(5)"
   ]
  },
  {
   "cell_type": "code",
   "execution_count": 32,
   "metadata": {},
   "outputs": [],
   "source": [
    "## Saved as CSV file\n",
    "Q5.to_csv('E:/NorthEastern University/XN-Hackathon Covid/Kaggle Data/Q5_Recommendations_for_combating_resource_failures.csv')"
   ]
  },
  {
   "cell_type": "markdown",
   "metadata": {},
   "source": [
    "Online Search"
   ]
  },
  {
   "cell_type": "code",
   "execution_count": 3,
   "metadata": {},
   "outputs": [
    {
     "name": "stdout",
     "output_type": "stream",
     "text": [
      "https://www.cdc.gov/coronavirus/2019-ncov/community/large-events/index.html\n",
      "https://www.cdc.gov/coronavirus/2019-ncov/community/large-events/event-planners-and-attendees-faq.html\n",
      "https://www.cdc.gov/coronavirus/2019-ncov/community/large-events/considerations-for-events-gatherings.html\n",
      "https://www.kingcounty.gov/depts/health/covid-19.aspx\n",
      "https://www.kingcounty.gov/depts/health/covid-19/data.aspx\n",
      "https://kingcounty.gov/depts/health/covid-19/care/testing.aspx\n",
      "https://www.kingcounty.gov/depts/health/covid-19/care.aspx\n",
      "https://www.doh.wa.gov/coronavirus/workplace\n",
      "https://www.idsociety.org/contentassets/9ba35522e0964d51a47ae3b22e59fb47/idsa-recommendations-for-reducing-covid-19-distancing_16apr2020_final-.pdf\n",
      "https://www.wsha.org/for-patients/coronavirus/coronavirus-resources-for-hospitals/\n",
      "https://www.cdc.gov/coronavirus/2019-ncov/lab/testing.html\n",
      "https://www.fda.gov/medical-devices/letters-health-care-providers/certain-covid-19-serologyantibody-tests-should-not-be-used-letter-clinical-laboratory-staff-and\n",
      "https://www.fda.gov/medical-devices/emergency-situations-medical-devices/faqs-testing-sars-cov-2\n",
      "https://www.fda.gov/medical-devices/workshops-conferences-medical-devices/webinar-policy-diagnostics-testing-laboratories-certified-perform-high-complexity-testing-under-clia\n",
      "https://www.fda.gov/medical-devices/emergency-situations-medical-devices/eua-authorized-serology-test-performance\n",
      "https://www.fda.gov/medical-devices/workshops-conferences-medical-devices/virtual-town-hall-policy-diagnostics-testing-laboratories-certified-perform-high-complexity-testing\n",
      "https://apps.who.int/iris/rest/bitstreams/1272560/retrieve\n",
      "https://www.modernhealthcare.com/technology/covid-19-testing-problems-started-early-us-still-playing-behind\n",
      "https://www.modernhealthcare.com/technology/labs-face-challenges-creating-diagnosis-testing-covid-19\n",
      "https://www.kingcounty.gov/depts/health/covid-19/care.aspx\n",
      "https://www.cdc.gov/coronavirus/2019-ncov/hcp/ppe-strategy/index.html\n",
      "https://www.cdc.gov/coronavirus/2019-ncov/hcp/ppe-strategy/burn-calculator.html\n",
      "https://www.cdc.gov/coronavirus/2019-ncov/hcp/respirators-strategy/index.html\n",
      "https://www.cdc.gov/coronavirus/2019-ncov/hcp/ppe-strategy/face-masks.html\n",
      "https://www.cdc.gov/hai/pdfs/ppe/PPEslides6-29-04.pdf\n",
      "https://www.facs.org/covid-19/ppe/additional\n",
      "https://www.ncbi.nlm.nih.gov/books/NBK209587/\n",
      "https://www.infectioncontroltoday.com/view/addressing-challenges-ppe-non-compliance\n",
      "https://www.healio.com/news/gastroenterology/20200406/aga-issues-covid19-recommendations-for-ppe-use-during-gi-procedures\n",
      "https://www.fda.gov/medical-devices/personal-protective-equipment-infection-control/questions-about-personal-protective-equipment-ppe\n",
      "http://www.seattle.gov/mayor/covid-19\n",
      "http://www.seattle.gov/mayor/covid-19/covid-19-testing\n",
      "https://www.seattle.gov/mayor/covid-19/covid-19-reopening\n",
      "https://www.seattle.gov/rentinginseattle\n",
      "https://www.jointcommission.org/en/covid-19/\n",
      "https://www.jointcommission.org/covid-19/covid-19-resources/\n",
      "https://www.jointcommission.org/resources/news-and-multimedia/webinars/coronavirus-webinar-replays/cms-covid-19-focused-infection-control-survey-for-acute-and-continuing-care/\n",
      "https://www.jointcommission.org/resources/news-and-multimedia/news/2020/03/statement-on-shortages-of-personal-protective-equipment-amid-covid-19-pandemic/\n",
      "https://www.jointcommission.org/covid-19/dr-mark-chassin-on-covid-19/\n",
      "https://www.cdc.gov/coronavirus/2019-ncov/daily-life-coping/managing-stress-anxiety.html\n"
     ]
    }
   ],
   "source": [
    "try: \n",
    "    from googlesearch import search \n",
    "except ImportError:  \n",
    "    print(\"Error/Not found\") \n",
    "### Browsing the sourses using different search terms: \n",
    "search5_1 = \"recommendations for COVID 19 resources limits\"\n",
    "search5_2 = \"recommendations for COVID 19 testing problems\"\n",
    "search5_3 = \"recommendations for PPE problems\"\n",
    "search5_4 = \"recommendations for improving access to COVID 19 resources\"\n",
    "\n",
    "\n",
    "\n",
    "##limit to the first 10 relevant links:\n",
    "for a in search(search5_1, tld=\"co.in\", num=10, stop=10, pause=2): \n",
    "    print(a)\n",
    "for a in search(search5_2, tld=\"co.in\", num=10, stop=10, pause=2): \n",
    "    print(a)\n",
    "for a in search(search5_3, tld=\"co.in\", num=10, stop=10, pause=2): \n",
    "    print(a)\n",
    "for a in search(search5_4, tld=\"co.in\", num=10, stop=10, pause=2): \n",
    "    print(a)"
   ]
  },
  {
   "cell_type": "code",
   "execution_count": null,
   "metadata": {},
   "outputs": [],
   "source": []
  }
 ],
 "metadata": {
  "kernelspec": {
   "display_name": "Python 3",
   "language": "python",
   "name": "python3"
  },
  "language_info": {
   "codemirror_mode": {
    "name": "ipython",
    "version": 3
   },
   "file_extension": ".py",
   "mimetype": "text/x-python",
   "name": "python",
   "nbconvert_exporter": "python",
   "pygments_lexer": "ipython3",
   "version": "3.7.3"
  }
 },
 "nbformat": 4,
 "nbformat_minor": 4
}
