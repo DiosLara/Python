{
 "cells": [
  {
   "cell_type": "code",
   "execution_count": 5,
   "metadata": {},
   "outputs": [],
   "source": [
    "# Importing the libraries \n",
    "import sys\n",
    "import numpy as np \n",
    "import pandas as pd \n",
    "import os "
   ]
  },
  {
   "cell_type": "markdown",
   "metadata": {},
   "source": [
    "### Table: ABSTRACTS"
   ]
  },
  {
   "cell_type": "code",
   "execution_count": 6,
   "metadata": {},
   "outputs": [
    {
     "name": "stdout",
     "output_type": "stream",
     "text": [
      "The number of articles are: 167470\n"
     ]
    },
    {
     "name": "stderr",
     "output_type": "stream",
     "text": [
      "C:\\Users\\HP\\Anaconda3\\lib\\site-packages\\IPython\\core\\interactiveshell.py:3063: DtypeWarning: Columns (5,6,13,14,16) have mixed types.Specify dtype option on import or set low_memory=False.\n",
      "  interactivity=interactivity, compiler=compiler, result=result)\n"
     ]
    }
   ],
   "source": [
    "#Import the information\n",
    "df=pd.read_csv('E:/NorthEastern University/XN-Hackathon Covid/Kaggle Data/metadata.csv') \n",
    "print('The number of articles are:',df.shape[0])"
   ]
  },
  {
   "cell_type": "code",
   "execution_count": 7,
   "metadata": {},
   "outputs": [],
   "source": [
    "#Select only title, abstract, date, link to the article, and authors\n",
    "tablesAbstract= df [['title', 'abstract', 'publish_time', 'url', 'authors']]"
   ]
  },
  {
   "cell_type": "code",
   "execution_count": 8,
   "metadata": {},
   "outputs": [
    {
     "name": "stderr",
     "output_type": "stream",
     "text": [
      "C:\\Users\\HP\\Anaconda3\\lib\\site-packages\\ipykernel_launcher.py:2: SettingWithCopyWarning: \n",
      "A value is trying to be set on a copy of a slice from a DataFrame.\n",
      "Try using .loc[row_indexer,col_indexer] = value instead\n",
      "\n",
      "See the caveats in the documentation: https://pandas.pydata.org/pandas-docs/stable/user_guide/indexing.html#returning-a-view-versus-a-copy\n",
      "  \n"
     ]
    },
    {
     "data": {
      "text/html": [
       "<div>\n",
       "<style scoped>\n",
       "    .dataframe tbody tr th:only-of-type {\n",
       "        vertical-align: middle;\n",
       "    }\n",
       "\n",
       "    .dataframe tbody tr th {\n",
       "        vertical-align: top;\n",
       "    }\n",
       "\n",
       "    .dataframe thead th {\n",
       "        text-align: right;\n",
       "    }\n",
       "</style>\n",
       "<table border=\"1\" class=\"dataframe\">\n",
       "  <thead>\n",
       "    <tr style=\"text-align: right;\">\n",
       "      <th></th>\n",
       "      <th>title</th>\n",
       "      <th>abstract</th>\n",
       "      <th>publish_time</th>\n",
       "      <th>url</th>\n",
       "      <th>authors</th>\n",
       "      <th>words</th>\n",
       "    </tr>\n",
       "  </thead>\n",
       "  <tbody>\n",
       "    <tr>\n",
       "      <th>0</th>\n",
       "      <td>Clinical features of culture-proven Mycoplasma...</td>\n",
       "      <td>OBJECTIVE: This retrospective chart review des...</td>\n",
       "      <td>2001-07-04</td>\n",
       "      <td>https://www.ncbi.nlm.nih.gov/pmc/articles/PMC3...</td>\n",
       "      <td>Madani, Tariq A; Al-Ghamdi, Aisha A</td>\n",
       "      <td>[OBJECTIVE, This, retrospective, chart, review...</td>\n",
       "    </tr>\n",
       "    <tr>\n",
       "      <th>1</th>\n",
       "      <td>Nitric oxide: a pro-inflammatory mediator in l...</td>\n",
       "      <td>Inflammatory diseases of the respiratory tract...</td>\n",
       "      <td>2000-08-15</td>\n",
       "      <td>https://www.ncbi.nlm.nih.gov/pmc/articles/PMC5...</td>\n",
       "      <td>Vliet, Albert van der; Eiserich, Jason P; Cros...</td>\n",
       "      <td>[Inflammatory, diseases, of, the, respiratory,...</td>\n",
       "    </tr>\n",
       "    <tr>\n",
       "      <th>2</th>\n",
       "      <td>Surfactant protein-D and pulmonary host defense</td>\n",
       "      <td>Surfactant protein-D (SP-D) participates in th...</td>\n",
       "      <td>2000-08-25</td>\n",
       "      <td>https://www.ncbi.nlm.nih.gov/pmc/articles/PMC5...</td>\n",
       "      <td>Crouch, Erika C</td>\n",
       "      <td>[Surfactant, protein, D, SP, D, participates, ...</td>\n",
       "    </tr>\n",
       "  </tbody>\n",
       "</table>\n",
       "</div>"
      ],
      "text/plain": [
       "                                               title  \\\n",
       "0  Clinical features of culture-proven Mycoplasma...   \n",
       "1  Nitric oxide: a pro-inflammatory mediator in l...   \n",
       "2    Surfactant protein-D and pulmonary host defense   \n",
       "\n",
       "                                            abstract publish_time  \\\n",
       "0  OBJECTIVE: This retrospective chart review des...   2001-07-04   \n",
       "1  Inflammatory diseases of the respiratory tract...   2000-08-15   \n",
       "2  Surfactant protein-D (SP-D) participates in th...   2000-08-25   \n",
       "\n",
       "                                                 url  \\\n",
       "0  https://www.ncbi.nlm.nih.gov/pmc/articles/PMC3...   \n",
       "1  https://www.ncbi.nlm.nih.gov/pmc/articles/PMC5...   \n",
       "2  https://www.ncbi.nlm.nih.gov/pmc/articles/PMC5...   \n",
       "\n",
       "                                             authors  \\\n",
       "0                Madani, Tariq A; Al-Ghamdi, Aisha A   \n",
       "1  Vliet, Albert van der; Eiserich, Jason P; Cros...   \n",
       "2                                    Crouch, Erika C   \n",
       "\n",
       "                                               words  \n",
       "0  [OBJECTIVE, This, retrospective, chart, review...  \n",
       "1  [Inflammatory, diseases, of, the, respiratory,...  \n",
       "2  [Surfactant, protein, D, SP, D, participates, ...  "
      ]
     },
     "execution_count": 8,
     "metadata": {},
     "output_type": "execute_result"
    }
   ],
   "source": [
    "#Seperate the words in the Abstract columns \n",
    "tablesAbstract['words']=  tablesAbstract.abstract.str.strip().str.split('[\\W_]+')\n",
    "tablesAbstract = tablesAbstract[tablesAbstract.words.str.len() > 0]\n",
    "                                        #rid of all the input that have the Words column less than 0 \n",
    "tablesAbstract.head(3)"
   ]
  },
  {
   "cell_type": "code",
   "execution_count": 9,
   "metadata": {},
   "outputs": [
    {
     "name": "stdout",
     "output_type": "stream",
     "text": [
      "The number of articles after reduction is: 122492\n"
     ]
    }
   ],
   "source": [
    "print('The number of articles after reduction is:', tablesAbstract.shape[0])"
   ]
  },
  {
   "cell_type": "markdown",
   "metadata": {},
   "source": [
    "# ==> We will analyze what the articles available in the dataset and then also search online resources for each questions "
   ]
  },
  {
   "cell_type": "markdown",
   "metadata": {},
   "source": [
    "# -------------------------------------------------------------------------------------------------------------"
   ]
  },
  {
   "cell_type": "markdown",
   "metadata": {},
   "source": [
    "Scraping the web using beautifulsoup4 and Google "
   ]
  },
  {
   "cell_type": "code",
   "execution_count": 20,
   "metadata": {},
   "outputs": [
    {
     "name": "stdout",
     "output_type": "stream",
     "text": [
      "Requirement already satisfied: google in c:\\users\\hp\\anaconda3\\lib\\site-packages (3.0.0)Note: you may need to restart the kernel to use updated packages.\n",
      "\n",
      "Requirement already satisfied: beautifulsoup4 in c:\\users\\hp\\anaconda3\\lib\\site-packages (from google) (4.9.0)\n",
      "Requirement already satisfied: soupsieve>1.2 in c:\\users\\hp\\anaconda3\\lib\\site-packages (from beautifulsoup4->google) (2.0)\n"
     ]
    }
   ],
   "source": [
    "pip install google"
   ]
  },
  {
   "cell_type": "code",
   "execution_count": 21,
   "metadata": {},
   "outputs": [
    {
     "name": "stdout",
     "output_type": "stream",
     "text": [
      "Requirement already satisfied: beautifulsoup4 in c:\\users\\hp\\anaconda3\\lib\\site-packages (4.9.0)\n",
      "Requirement already satisfied: soupsieve>1.2 in c:\\users\\hp\\anaconda3\\lib\\site-packages (from beautifulsoup4) (2.0)\n",
      "Note: you may need to restart the kernel to use updated packages.\n"
     ]
    }
   ],
   "source": [
    "pip install beautifulsoup4"
   ]
  },
  {
   "cell_type": "markdown",
   "metadata": {},
   "source": [
    "# 1/ What is the best method to combat the hypercoagulable state seen in COVID-19?\n"
   ]
  },
  {
   "cell_type": "code",
   "execution_count": 29,
   "metadata": {},
   "outputs": [],
   "source": [
    "#Create different sets with specialized terms  from our questions \n",
    "Q1_a = tablesAbstract[tablesAbstract['abstract'].str.contains('hypercoagulable')]"
   ]
  },
  {
   "cell_type": "code",
   "execution_count": 32,
   "metadata": {},
   "outputs": [
    {
     "data": {
      "text/plain": [
       "(66, 6)"
      ]
     },
     "execution_count": 32,
     "metadata": {},
     "output_type": "execute_result"
    }
   ],
   "source": [
    "#Concatenitng the dataframes into one table per question and dropping null value \n",
    "Q1 = pd.concat([Q1_a])\n",
    "Q1.dropna(inplace=True)\n",
    "Q1.shape"
   ]
  },
  {
   "cell_type": "code",
   "execution_count": 33,
   "metadata": {},
   "outputs": [
    {
     "data": {
      "text/html": [
       "<div>\n",
       "<style scoped>\n",
       "    .dataframe tbody tr th:only-of-type {\n",
       "        vertical-align: middle;\n",
       "    }\n",
       "\n",
       "    .dataframe tbody tr th {\n",
       "        vertical-align: top;\n",
       "    }\n",
       "\n",
       "    .dataframe thead th {\n",
       "        text-align: right;\n",
       "    }\n",
       "</style>\n",
       "<table border=\"1\" class=\"dataframe\">\n",
       "  <thead>\n",
       "    <tr style=\"text-align: right;\">\n",
       "      <th></th>\n",
       "      <th>title</th>\n",
       "      <th>abstract</th>\n",
       "      <th>publish_time</th>\n",
       "      <th>url</th>\n",
       "      <th>authors</th>\n",
       "      <th>words</th>\n",
       "    </tr>\n",
       "  </thead>\n",
       "  <tbody>\n",
       "    <tr>\n",
       "      <th>25620</th>\n",
       "      <td>Thromboelastography Profiles of Critically Ill...</td>\n",
       "      <td>OBJECTIVES: The rate of thromboembolic events ...</td>\n",
       "      <td>2020-06-23</td>\n",
       "      <td>https://www.ncbi.nlm.nih.gov/pmc/articles/PMC7...</td>\n",
       "      <td>Yuriditsky, Eugene; Horowitz, James M.; Mercha...</td>\n",
       "      <td>[OBJECTIVES, The, rate, of, thromboembolic, ev...</td>\n",
       "    </tr>\n",
       "    <tr>\n",
       "      <th>27193</th>\n",
       "      <td>Inferior Vena Cava Filters: Indications, Outco...</td>\n",
       "      <td>OPINION STATEMENT Filter technology seems rela...</td>\n",
       "      <td>2015</td>\n",
       "      <td>https://doi.org/10.1007/s11936-015-0401-2; htt...</td>\n",
       "      <td>Montgomery, Jennifer P; Kaufman, John A</td>\n",
       "      <td>[OPINION, STATEMENT, Filter, technology, seems...</td>\n",
       "    </tr>\n",
       "    <tr>\n",
       "      <th>28316</th>\n",
       "      <td>A pilot study documenting increased thrombin g...</td>\n",
       "      <td>OBJECTIVE To document if a transient hypercoag...</td>\n",
       "      <td>2018</td>\n",
       "      <td>https://doi.org/10.1111/vec.12778; https://www...</td>\n",
       "      <td>Mays, Erin M; Dorman, David C; McKendry, Colle...</td>\n",
       "      <td>[OBJECTIVE, To, document, if, a, transient, hy...</td>\n",
       "    </tr>\n",
       "    <tr>\n",
       "      <th>29313</th>\n",
       "      <td>Pulmonary embolism in cases of COVID-19.</td>\n",
       "      <td>BACKGROUND Emerging reports indicate a high in...</td>\n",
       "      <td>2020-05-26</td>\n",
       "      <td>https://doi.org/10.4045/tidsskr.20.0366; https...</td>\n",
       "      <td>Tveita, Anders; Hestenes, Siv; Sporastøyl, Eir...</td>\n",
       "      <td>[BACKGROUND, Emerging, reports, indicate, a, h...</td>\n",
       "    </tr>\n",
       "    <tr>\n",
       "      <th>30396</th>\n",
       "      <td>[Late occurrence of pulmonary embolsim in SARS...</td>\n",
       "      <td>Several studies suggested that the acute phase...</td>\n",
       "      <td>2020-07-01</td>\n",
       "      <td>https://doi.org/10.1714/3386.33638; https://ww...</td>\n",
       "      <td>Halasz, Geza; Di Spigno, Francesco; Piepoli, M...</td>\n",
       "      <td>[Several, studies, suggested, that, the, acute...</td>\n",
       "    </tr>\n",
       "  </tbody>\n",
       "</table>\n",
       "</div>"
      ],
      "text/plain": [
       "                                                   title  \\\n",
       "25620  Thromboelastography Profiles of Critically Ill...   \n",
       "27193  Inferior Vena Cava Filters: Indications, Outco...   \n",
       "28316  A pilot study documenting increased thrombin g...   \n",
       "29313           Pulmonary embolism in cases of COVID-19.   \n",
       "30396  [Late occurrence of pulmonary embolsim in SARS...   \n",
       "\n",
       "                                                abstract publish_time  \\\n",
       "25620  OBJECTIVES: The rate of thromboembolic events ...   2020-06-23   \n",
       "27193  OPINION STATEMENT Filter technology seems rela...         2015   \n",
       "28316  OBJECTIVE To document if a transient hypercoag...         2018   \n",
       "29313  BACKGROUND Emerging reports indicate a high in...   2020-05-26   \n",
       "30396  Several studies suggested that the acute phase...   2020-07-01   \n",
       "\n",
       "                                                     url  \\\n",
       "25620  https://www.ncbi.nlm.nih.gov/pmc/articles/PMC7...   \n",
       "27193  https://doi.org/10.1007/s11936-015-0401-2; htt...   \n",
       "28316  https://doi.org/10.1111/vec.12778; https://www...   \n",
       "29313  https://doi.org/10.4045/tidsskr.20.0366; https...   \n",
       "30396  https://doi.org/10.1714/3386.33638; https://ww...   \n",
       "\n",
       "                                                 authors  \\\n",
       "25620  Yuriditsky, Eugene; Horowitz, James M.; Mercha...   \n",
       "27193            Montgomery, Jennifer P; Kaufman, John A   \n",
       "28316  Mays, Erin M; Dorman, David C; McKendry, Colle...   \n",
       "29313  Tveita, Anders; Hestenes, Siv; Sporastøyl, Eir...   \n",
       "30396  Halasz, Geza; Di Spigno, Francesco; Piepoli, M...   \n",
       "\n",
       "                                                   words  \n",
       "25620  [OBJECTIVES, The, rate, of, thromboembolic, ev...  \n",
       "27193  [OPINION, STATEMENT, Filter, technology, seems...  \n",
       "28316  [OBJECTIVE, To, document, if, a, transient, hy...  \n",
       "29313  [BACKGROUND, Emerging, reports, indicate, a, h...  \n",
       "30396  [Several, studies, suggested, that, the, acute...  "
      ]
     },
     "execution_count": 33,
     "metadata": {},
     "output_type": "execute_result"
    }
   ],
   "source": [
    "#Articles that we have\n",
    "Q1.head(5)"
   ]
  },
  {
   "cell_type": "markdown",
   "metadata": {},
   "source": [
    "Online Search "
   ]
  },
  {
   "cell_type": "code",
   "execution_count": 35,
   "metadata": {},
   "outputs": [
    {
     "name": "stdout",
     "output_type": "stream",
     "text": [
      "https://www.uptodate.com/contents/coronavirus-disease-2019-covid-19-hypercoagulability\n",
      "https://www.washingtonpost.com/health/2020/04/22/coronavirus-blood-clots/\n",
      "https://www.covid19treatmentguidelines.nih.gov/antithrombotic-therapy/\n",
      "https://www.cdc.gov/coronavirus/2019-ncov/hcp/clinical-guidance-management-patients.html\n",
      "https://www.facs.org/-/media/files/covid19/umiami_study_uses_of_coagulopathy.ashx\n",
      "https://www.scielo.br/scielo.php?script=sci_arttext&pid=S0066-782X2020000600829&lng=pt&tlng=en\n",
      "https://www.tandfonline.com/doi/full/10.1080/22221751.2020.1741327\n",
      "https://www.acc.org/latest-in-cardiology/articles/2020/04/17/14/42/thrombosis-and-coronavirus-disease-2019-covid-19-faqs-for-current-practice\n",
      "https://www.hematology.org/covid-19/covid-19-and-pulmonary-embolism\n",
      "https://www.nature.com/articles/s41422-020-0327-4\n",
      "https://www.nejm.org/doi/full/10.1056/NEJMc2013656\n",
      "https://www.tctmd.com/news/how-covid-19-promotes-thrombosis-posing-problems-drug-drug-interactions\n",
      "https://www.hematology.org/covid-19/covid-19-and-coagulopathy\n",
      "https://www.doh.wa.gov/Portals/1/Documents/2700/Hyprcoag.pdf\n",
      "https://www.heart.org/en/health-topics/venous-thromboembolism/what-is-excessive-blood-clotting-hypercoagulation\n",
      "https://my.clevelandclinic.org/health/diseases/16788-blood-clotting-disorders-hypercoagulable-states/diagnosis-and-tests\n",
      "https://www.thelancet.com/journals/lanrhe/article/PIIS2665-9913(20)30121-1/fulltext\n",
      "https://ashpublications.org/blood/article/135/23/2033/454646/COVID-19-and-its-implications-for-thrombosis-and\n",
      "https://clinicaltrials.gov/ct2/show/NCT04359212\n",
      "https://www.cureus.com/articles/31792-hypercoagulable-state-in-covid-19-a-case-series-of-three-patients\n"
     ]
    }
   ],
   "source": [
    "try: \n",
    "    from googlesearch import search \n",
    "except ImportError:  \n",
    "    print(\"Error/Not found\") \n",
    "### Browsing the sourses using different search terms: \n",
    "search1_1 = \"best method to combat the hypercoagulable state Corona\"\n",
    "\n",
    "##limit to the first 10 relevant links:\n",
    "for a in search(search1_1, tld=\"co.in\", num=20, stop=20, pause=2): \n",
    "    print(a)"
   ]
  },
  {
   "cell_type": "markdown",
   "metadata": {},
   "source": [
    "# 2/ What is the efficacy of novel therapeutics being tested currently?"
   ]
  },
  {
   "cell_type": "code",
   "execution_count": 40,
   "metadata": {},
   "outputs": [],
   "source": [
    "#Create different sets with specialized terms  from our questions \n",
    "Q2_a = tablesAbstract[tablesAbstract['abstract'].str.contains('novel therapeutics')]\n",
    "Q2_b = Q2_a[Q2_a['abstract'].str.contains('efficacy')]\n",
    "\n"
   ]
  },
  {
   "cell_type": "code",
   "execution_count": 41,
   "metadata": {},
   "outputs": [
    {
     "data": {
      "text/plain": [
       "(9, 6)"
      ]
     },
     "execution_count": 41,
     "metadata": {},
     "output_type": "execute_result"
    }
   ],
   "source": [
    "#Concatenitng the dataframes into one table per question and dropping null value \n",
    "Q2 = pd.concat([Q2_b])\n",
    "Q2.dropna(inplace=True)\n",
    "Q2.shape\n"
   ]
  },
  {
   "cell_type": "code",
   "execution_count": 42,
   "metadata": {},
   "outputs": [
    {
     "data": {
      "text/html": [
       "<div>\n",
       "<style scoped>\n",
       "    .dataframe tbody tr th:only-of-type {\n",
       "        vertical-align: middle;\n",
       "    }\n",
       "\n",
       "    .dataframe tbody tr th {\n",
       "        vertical-align: top;\n",
       "    }\n",
       "\n",
       "    .dataframe thead th {\n",
       "        text-align: right;\n",
       "    }\n",
       "</style>\n",
       "<table border=\"1\" class=\"dataframe\">\n",
       "  <thead>\n",
       "    <tr style=\"text-align: right;\">\n",
       "      <th></th>\n",
       "      <th>title</th>\n",
       "      <th>abstract</th>\n",
       "      <th>publish_time</th>\n",
       "      <th>url</th>\n",
       "      <th>authors</th>\n",
       "      <th>words</th>\n",
       "    </tr>\n",
       "  </thead>\n",
       "  <tbody>\n",
       "    <tr>\n",
       "      <th>26627</th>\n",
       "      <td>Patented small molecule inhibitors of p53-MDM2...</td>\n",
       "      <td>The interaction between p53 and murine double ...</td>\n",
       "      <td>2006</td>\n",
       "      <td>https://doi.org/10.1517/13543776.16.2.165; htt...</td>\n",
       "      <td>Deng, Jinxia; Dayam, Raveendra; Neamati, Nouri</td>\n",
       "      <td>[The, interaction, between, p53, and, murine, ...</td>\n",
       "    </tr>\n",
       "    <tr>\n",
       "      <th>31055</th>\n",
       "      <td>A cerebellopontine angle mouse model for the i...</td>\n",
       "      <td>Neurofibromatosis type II (NF2) is a disease t...</td>\n",
       "      <td>2019</td>\n",
       "      <td>https://doi.org/10.1038/s41596-018-0105-7; htt...</td>\n",
       "      <td>Chen, Jie; Landegger, Lukas D; Sun, Yao; Ren, ...</td>\n",
       "      <td>[Neurofibromatosis, type, II, NF2, is, a, dise...</td>\n",
       "    </tr>\n",
       "    <tr>\n",
       "      <th>49609</th>\n",
       "      <td>Searching for a Lifeline: Transcriptome Profil...</td>\n",
       "      <td>Excess or dysregulated host inflammatory respo...</td>\n",
       "      <td>2017</td>\n",
       "      <td>https://doi.org/10.1159/000457902; https://www...</td>\n",
       "      <td>Kobzik, Lester</td>\n",
       "      <td>[Excess, or, dysregulated, host, inflammatory,...</td>\n",
       "    </tr>\n",
       "    <tr>\n",
       "      <th>90197</th>\n",
       "      <td>Identifying Human Interactors of SARS-CoV-2 Pr...</td>\n",
       "      <td>Motivated by the critical need to identify new...</td>\n",
       "      <td>2020-06-02</td>\n",
       "      <td>https://arxiv.org/pdf/2006.01968v2.pdf</td>\n",
       "      <td>Law, Jeffrey N.; Akers, Kyle; Tasnina, Nure; S...</td>\n",
       "      <td>[Motivated, by, the, critical, need, to, ident...</td>\n",
       "    </tr>\n",
       "    <tr>\n",
       "      <th>114227</th>\n",
       "      <td>Bumped kinase inhibitor 1369 is effective agai...</td>\n",
       "      <td>Cystoisosporosis is a leading diarrheal diseas...</td>\n",
       "      <td>2019-04-02</td>\n",
       "      <td>https://doi.org/10.1016/j.ijpddr.2019.03.004; ...</td>\n",
       "      <td>Shrestha, Aruna; Ojo, Kayode K.; Koston, Flori...</td>\n",
       "      <td>[Cystoisosporosis, is, a, leading, diarrheal, ...</td>\n",
       "    </tr>\n",
       "  </tbody>\n",
       "</table>\n",
       "</div>"
      ],
      "text/plain": [
       "                                                    title  \\\n",
       "26627   Patented small molecule inhibitors of p53-MDM2...   \n",
       "31055   A cerebellopontine angle mouse model for the i...   \n",
       "49609   Searching for a Lifeline: Transcriptome Profil...   \n",
       "90197   Identifying Human Interactors of SARS-CoV-2 Pr...   \n",
       "114227  Bumped kinase inhibitor 1369 is effective agai...   \n",
       "\n",
       "                                                 abstract publish_time  \\\n",
       "26627   The interaction between p53 and murine double ...         2006   \n",
       "31055   Neurofibromatosis type II (NF2) is a disease t...         2019   \n",
       "49609   Excess or dysregulated host inflammatory respo...         2017   \n",
       "90197   Motivated by the critical need to identify new...   2020-06-02   \n",
       "114227  Cystoisosporosis is a leading diarrheal diseas...   2019-04-02   \n",
       "\n",
       "                                                      url  \\\n",
       "26627   https://doi.org/10.1517/13543776.16.2.165; htt...   \n",
       "31055   https://doi.org/10.1038/s41596-018-0105-7; htt...   \n",
       "49609   https://doi.org/10.1159/000457902; https://www...   \n",
       "90197              https://arxiv.org/pdf/2006.01968v2.pdf   \n",
       "114227  https://doi.org/10.1016/j.ijpddr.2019.03.004; ...   \n",
       "\n",
       "                                                  authors  \\\n",
       "26627      Deng, Jinxia; Dayam, Raveendra; Neamati, Nouri   \n",
       "31055   Chen, Jie; Landegger, Lukas D; Sun, Yao; Ren, ...   \n",
       "49609                                      Kobzik, Lester   \n",
       "90197   Law, Jeffrey N.; Akers, Kyle; Tasnina, Nure; S...   \n",
       "114227  Shrestha, Aruna; Ojo, Kayode K.; Koston, Flori...   \n",
       "\n",
       "                                                    words  \n",
       "26627   [The, interaction, between, p53, and, murine, ...  \n",
       "31055   [Neurofibromatosis, type, II, NF2, is, a, dise...  \n",
       "49609   [Excess, or, dysregulated, host, inflammatory,...  \n",
       "90197   [Motivated, by, the, critical, need, to, ident...  \n",
       "114227  [Cystoisosporosis, is, a, leading, diarrheal, ...  "
      ]
     },
     "execution_count": 42,
     "metadata": {},
     "output_type": "execute_result"
    }
   ],
   "source": [
    "#Articles that we have\n",
    "Q2.head(5)"
   ]
  },
  {
   "cell_type": "markdown",
   "metadata": {},
   "source": [
    "Online Search"
   ]
  },
  {
   "cell_type": "code",
   "execution_count": 44,
   "metadata": {},
   "outputs": [
    {
     "name": "stdout",
     "output_type": "stream",
     "text": [
      "https://www.ncbi.nlm.nih.gov/pmc/articles/PMC7263008/\n",
      "https://www.gilead.com/news-and-press/press-room/press-releases/2020/4/gilead-announces-results-from-phase-3-trial-of-investigational-antiviral-remdesivir-in-patients-with-severe-covid-19\n",
      "https://www.who.int/emergencies/diseases/novel-coronavirus-2019/global-research-on-novel-coronavirus-2019-ncov/solidarity-clinical-trial-for-covid-19-treatments\n",
      "https://www.fda.gov/news-events/press-announcements/coronavirus-covid-19-update-fda-takes-new-actions-accelerate-development-novel-prevention-treatment\n",
      "https://health.ucsd.edu/news/releases/Pages/2020-07-09-does-blood-plasma-from-covid-19-survivors-help-patients-with-novel-coronavirus.aspx\n",
      "https://jamanetwork.com/journals/jama/fullarticle/2764727\n",
      "https://clinicaltrials.gov/ct2/show/NCT04345289\n",
      "https://www.clinicaltrialsarena.com/analysis/coronavirus-mers-cov-drugs/\n",
      "https://www.coronavirustoday.com/covid-19-treatments\n",
      "https://www.cdc.gov/coronavirus/2019-ncov/hcp/therapeutic-options.html\n"
     ]
    }
   ],
   "source": [
    "try: \n",
    "    from googlesearch import search \n",
    "except ImportError:  \n",
    "    print(\"Error/Not found\") \n",
    "### Browsing the sourses using different search terms: \n",
    "search2_1 = \" efficacy of novel therapeutics being tested corona\"\n",
    "\n",
    "\n",
    "\n",
    "##limit to the first 10 relevant links:\n",
    "for a in search(search2_1, tld=\"co.in\", num=20, stop=10, pause=2): \n",
    "    print(a)"
   ]
  },
  {
   "cell_type": "code",
   "execution_count": null,
   "metadata": {},
   "outputs": [],
   "source": []
  }
 ],
 "metadata": {
  "kernelspec": {
   "display_name": "Python 3",
   "language": "python",
   "name": "python3"
  },
  "language_info": {
   "codemirror_mode": {
    "name": "ipython",
    "version": 3
   },
   "file_extension": ".py",
   "mimetype": "text/x-python",
   "name": "python",
   "nbconvert_exporter": "python",
   "pygments_lexer": "ipython3",
   "version": "3.7.3"
  }
 },
 "nbformat": 4,
 "nbformat_minor": 4
}
