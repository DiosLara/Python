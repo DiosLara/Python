{
 "cells": [
  {
   "cell_type": "code",
   "execution_count": 2,
   "metadata": {},
   "outputs": [],
   "source": [
    "# Importing the libraries \n",
    "import sys\n",
    "import numpy as np \n",
    "import pandas as pd \n",
    "import os "
   ]
  },
  {
   "cell_type": "markdown",
   "metadata": {},
   "source": [
    "### Table: ABSTRACTS"
   ]
  },
  {
   "cell_type": "code",
   "execution_count": 3,
   "metadata": {},
   "outputs": [
    {
     "name": "stderr",
     "output_type": "stream",
     "text": [
      "C:\\Users\\HP\\Anaconda3\\lib\\site-packages\\IPython\\core\\interactiveshell.py:3063: DtypeWarning: Columns (5,6,13,14,16) have mixed types.Specify dtype option on import or set low_memory=False.\n",
      "  interactivity=interactivity, compiler=compiler, result=result)\n"
     ]
    },
    {
     "name": "stdout",
     "output_type": "stream",
     "text": [
      "The number of articles are: 167470\n"
     ]
    }
   ],
   "source": [
    "#Import the information\n",
    "df=pd.read_csv('E:/NorthEastern University/XN-Hackathon Covid/Kaggle Data/metadata.csv') \n",
    "print('The number of articles are:',df.shape[0])"
   ]
  },
  {
   "cell_type": "code",
   "execution_count": 4,
   "metadata": {},
   "outputs": [],
   "source": [
    "#Select only title, abstract, date, link to the article, and authors\n",
    "tablesAbstract= df [['title', 'abstract', 'publish_time', 'url', 'authors']]"
   ]
  },
  {
   "cell_type": "code",
   "execution_count": 5,
   "metadata": {},
   "outputs": [
    {
     "name": "stderr",
     "output_type": "stream",
     "text": [
      "C:\\Users\\HP\\Anaconda3\\lib\\site-packages\\ipykernel_launcher.py:2: SettingWithCopyWarning: \n",
      "A value is trying to be set on a copy of a slice from a DataFrame.\n",
      "Try using .loc[row_indexer,col_indexer] = value instead\n",
      "\n",
      "See the caveats in the documentation: https://pandas.pydata.org/pandas-docs/stable/user_guide/indexing.html#returning-a-view-versus-a-copy\n",
      "  \n"
     ]
    },
    {
     "data": {
      "text/html": [
       "<div>\n",
       "<style scoped>\n",
       "    .dataframe tbody tr th:only-of-type {\n",
       "        vertical-align: middle;\n",
       "    }\n",
       "\n",
       "    .dataframe tbody tr th {\n",
       "        vertical-align: top;\n",
       "    }\n",
       "\n",
       "    .dataframe thead th {\n",
       "        text-align: right;\n",
       "    }\n",
       "</style>\n",
       "<table border=\"1\" class=\"dataframe\">\n",
       "  <thead>\n",
       "    <tr style=\"text-align: right;\">\n",
       "      <th></th>\n",
       "      <th>title</th>\n",
       "      <th>abstract</th>\n",
       "      <th>publish_time</th>\n",
       "      <th>url</th>\n",
       "      <th>authors</th>\n",
       "      <th>words</th>\n",
       "    </tr>\n",
       "  </thead>\n",
       "  <tbody>\n",
       "    <tr>\n",
       "      <th>0</th>\n",
       "      <td>Clinical features of culture-proven Mycoplasma...</td>\n",
       "      <td>OBJECTIVE: This retrospective chart review des...</td>\n",
       "      <td>2001-07-04</td>\n",
       "      <td>https://www.ncbi.nlm.nih.gov/pmc/articles/PMC3...</td>\n",
       "      <td>Madani, Tariq A; Al-Ghamdi, Aisha A</td>\n",
       "      <td>[OBJECTIVE, This, retrospective, chart, review...</td>\n",
       "    </tr>\n",
       "    <tr>\n",
       "      <th>1</th>\n",
       "      <td>Nitric oxide: a pro-inflammatory mediator in l...</td>\n",
       "      <td>Inflammatory diseases of the respiratory tract...</td>\n",
       "      <td>2000-08-15</td>\n",
       "      <td>https://www.ncbi.nlm.nih.gov/pmc/articles/PMC5...</td>\n",
       "      <td>Vliet, Albert van der; Eiserich, Jason P; Cros...</td>\n",
       "      <td>[Inflammatory, diseases, of, the, respiratory,...</td>\n",
       "    </tr>\n",
       "    <tr>\n",
       "      <th>2</th>\n",
       "      <td>Surfactant protein-D and pulmonary host defense</td>\n",
       "      <td>Surfactant protein-D (SP-D) participates in th...</td>\n",
       "      <td>2000-08-25</td>\n",
       "      <td>https://www.ncbi.nlm.nih.gov/pmc/articles/PMC5...</td>\n",
       "      <td>Crouch, Erika C</td>\n",
       "      <td>[Surfactant, protein, D, SP, D, participates, ...</td>\n",
       "    </tr>\n",
       "  </tbody>\n",
       "</table>\n",
       "</div>"
      ],
      "text/plain": [
       "                                               title  \\\n",
       "0  Clinical features of culture-proven Mycoplasma...   \n",
       "1  Nitric oxide: a pro-inflammatory mediator in l...   \n",
       "2    Surfactant protein-D and pulmonary host defense   \n",
       "\n",
       "                                            abstract publish_time  \\\n",
       "0  OBJECTIVE: This retrospective chart review des...   2001-07-04   \n",
       "1  Inflammatory diseases of the respiratory tract...   2000-08-15   \n",
       "2  Surfactant protein-D (SP-D) participates in th...   2000-08-25   \n",
       "\n",
       "                                                 url  \\\n",
       "0  https://www.ncbi.nlm.nih.gov/pmc/articles/PMC3...   \n",
       "1  https://www.ncbi.nlm.nih.gov/pmc/articles/PMC5...   \n",
       "2  https://www.ncbi.nlm.nih.gov/pmc/articles/PMC5...   \n",
       "\n",
       "                                             authors  \\\n",
       "0                Madani, Tariq A; Al-Ghamdi, Aisha A   \n",
       "1  Vliet, Albert van der; Eiserich, Jason P; Cros...   \n",
       "2                                    Crouch, Erika C   \n",
       "\n",
       "                                               words  \n",
       "0  [OBJECTIVE, This, retrospective, chart, review...  \n",
       "1  [Inflammatory, diseases, of, the, respiratory,...  \n",
       "2  [Surfactant, protein, D, SP, D, participates, ...  "
      ]
     },
     "execution_count": 5,
     "metadata": {},
     "output_type": "execute_result"
    }
   ],
   "source": [
    "#Seperate the words in the Abstract columns \n",
    "tablesAbstract['words']=  tablesAbstract.abstract.str.strip().str.split('[\\W_]+')\n",
    "tablesAbstract = tablesAbstract[tablesAbstract.words.str.len() > 0]\n",
    "                                        #rid of all the input that have the Words column less than 0 \n",
    "tablesAbstract.head(3)"
   ]
  },
  {
   "cell_type": "code",
   "execution_count": 6,
   "metadata": {},
   "outputs": [
    {
     "name": "stdout",
     "output_type": "stream",
     "text": [
      "The number of articles after reduction is: 122492\n"
     ]
    }
   ],
   "source": [
    "print('The number of articles after reduction is:', tablesAbstract.shape[0])"
   ]
  },
  {
   "cell_type": "markdown",
   "metadata": {},
   "source": [
    "# ==> We will analyze what the articles available in the dataset and then also search online resources for each questions "
   ]
  },
  {
   "cell_type": "markdown",
   "metadata": {},
   "source": [
    "# -------------------------------------------------------------------------------------------------------------"
   ]
  },
  {
   "cell_type": "markdown",
   "metadata": {},
   "source": [
    "Scraping the web using beautifulsoup4 and Google "
   ]
  },
  {
   "cell_type": "code",
   "execution_count": 7,
   "metadata": {},
   "outputs": [
    {
     "name": "stdout",
     "output_type": "stream",
     "text": [
      "Requirement already satisfied: google in c:\\users\\hp\\anaconda3\\lib\\site-packages (3.0.0)\n",
      "Requirement already satisfied: beautifulsoup4 in c:\\users\\hp\\anaconda3\\lib\\site-packages (from google) (4.9.0)\n",
      "Requirement already satisfied: soupsieve>1.2 in c:\\users\\hp\\anaconda3\\lib\\site-packages (from beautifulsoup4->google) (2.0)\n",
      "Note: you may need to restart the kernel to use updated packages.\n"
     ]
    }
   ],
   "source": [
    "pip install google"
   ]
  },
  {
   "cell_type": "code",
   "execution_count": 8,
   "metadata": {},
   "outputs": [
    {
     "name": "stdout",
     "output_type": "stream",
     "text": [
      "Requirement already satisfied: beautifulsoup4 in c:\\users\\hp\\anaconda3\\lib\\site-packages (4.9.0)\n",
      "Requirement already satisfied: soupsieve>1.2 in c:\\users\\hp\\anaconda3\\lib\\site-packages (from beautifulsoup4) (2.0)\n",
      "Note: you may need to restart the kernel to use updated packages.\n"
     ]
    }
   ],
   "source": [
    "pip install beautifulsoup4"
   ]
  },
  {
   "cell_type": "markdown",
   "metadata": {},
   "source": [
    "# 1/ Effectiveness of case isolation/isolation of exposed individuals (i.e. quarantine)"
   ]
  },
  {
   "cell_type": "code",
   "execution_count": 12,
   "metadata": {},
   "outputs": [],
   "source": [
    "#Create different sets with specialized terms  from our questions \n",
    "Q1_a = tablesAbstract[tablesAbstract['abstract'].str.contains('isolation','quarantine')]\n",
    "Q1_b = Q1_a[Q1_a['abstract'].str.contains('effectiveness')]"
   ]
  },
  {
   "cell_type": "code",
   "execution_count": 13,
   "metadata": {},
   "outputs": [
    {
     "data": {
      "text/plain": [
       "(153, 6)"
      ]
     },
     "execution_count": 13,
     "metadata": {},
     "output_type": "execute_result"
    }
   ],
   "source": [
    "#Concatenitng the dataframes into one table per question and dropping null value \n",
    "Q1 = pd.concat([Q1_b])\n",
    "Q1.dropna(inplace=True)\n",
    "Q1.shape"
   ]
  },
  {
   "cell_type": "code",
   "execution_count": 14,
   "metadata": {},
   "outputs": [
    {
     "data": {
      "text/html": [
       "<div>\n",
       "<style scoped>\n",
       "    .dataframe tbody tr th:only-of-type {\n",
       "        vertical-align: middle;\n",
       "    }\n",
       "\n",
       "    .dataframe tbody tr th {\n",
       "        vertical-align: top;\n",
       "    }\n",
       "\n",
       "    .dataframe thead th {\n",
       "        text-align: right;\n",
       "    }\n",
       "</style>\n",
       "<table border=\"1\" class=\"dataframe\">\n",
       "  <thead>\n",
       "    <tr style=\"text-align: right;\">\n",
       "      <th></th>\n",
       "      <th>title</th>\n",
       "      <th>abstract</th>\n",
       "      <th>publish_time</th>\n",
       "      <th>url</th>\n",
       "      <th>authors</th>\n",
       "      <th>words</th>\n",
       "    </tr>\n",
       "  </thead>\n",
       "  <tbody>\n",
       "    <tr>\n",
       "      <th>82</th>\n",
       "      <td>The Effectiveness of Contact Tracing in Emergi...</td>\n",
       "      <td>BACKGROUND: Contact tracing plays an important...</td>\n",
       "      <td>2006-12-20</td>\n",
       "      <td>https://www.ncbi.nlm.nih.gov/pmc/articles/PMC1...</td>\n",
       "      <td>Klinkenberg, Don; Fraser, Christophe; Heesterb...</td>\n",
       "      <td>[BACKGROUND, Contact, tracing, plays, an, impo...</td>\n",
       "    </tr>\n",
       "    <tr>\n",
       "      <th>90</th>\n",
       "      <td>The Transmissibility of Highly Pathogenic Avia...</td>\n",
       "      <td>BACKGROUND: With the increased occurrence of o...</td>\n",
       "      <td>2007-04-04</td>\n",
       "      <td>https://www.ncbi.nlm.nih.gov/pmc/articles/PMC1...</td>\n",
       "      <td>Garske, Tini; Clarke, Paul; Ghani, Azra C.</td>\n",
       "      <td>[BACKGROUND, With, the, increased, occurrence,...</td>\n",
       "    </tr>\n",
       "    <tr>\n",
       "      <th>106</th>\n",
       "      <td>Influenza pandemic intervention planning using...</td>\n",
       "      <td>BACKGROUND: Influenza pandemic preparedness pl...</td>\n",
       "      <td>2007-07-13</td>\n",
       "      <td>https://www.ncbi.nlm.nih.gov/pmc/articles/PMC1...</td>\n",
       "      <td>Duerr, Hans P; Brockmann, Stefan O; Piechotows...</td>\n",
       "      <td>[BACKGROUND, Influenza, pandemic, preparedness...</td>\n",
       "    </tr>\n",
       "    <tr>\n",
       "      <th>326</th>\n",
       "      <td>Combination strategies for pandemic influenza ...</td>\n",
       "      <td>BACKGROUND: Individual strategies in pandemic ...</td>\n",
       "      <td>2009-12-10</td>\n",
       "      <td>https://www.ncbi.nlm.nih.gov/pmc/articles/PMC2...</td>\n",
       "      <td>Lee, Vernon J; Lye, David C; Wilder-Smith, Ann...</td>\n",
       "      <td>[BACKGROUND, Individual, strategies, in, pande...</td>\n",
       "    </tr>\n",
       "    <tr>\n",
       "      <th>397</th>\n",
       "      <td>How necessary is a fast testkit for mitigation...</td>\n",
       "      <td>It is widely feared that a novel, highly patho...</td>\n",
       "      <td>2010-07-06</td>\n",
       "      <td>https://www.ncbi.nlm.nih.gov/pmc/articles/PMC2...</td>\n",
       "      <td>Chin, Juxin; Koh, Geoffrey; Lee, Dong-Yup</td>\n",
       "      <td>[It, is, widely, feared, that, a, novel, highl...</td>\n",
       "    </tr>\n",
       "  </tbody>\n",
       "</table>\n",
       "</div>"
      ],
      "text/plain": [
       "                                                 title  \\\n",
       "82   The Effectiveness of Contact Tracing in Emergi...   \n",
       "90   The Transmissibility of Highly Pathogenic Avia...   \n",
       "106  Influenza pandemic intervention planning using...   \n",
       "326  Combination strategies for pandemic influenza ...   \n",
       "397  How necessary is a fast testkit for mitigation...   \n",
       "\n",
       "                                              abstract publish_time  \\\n",
       "82   BACKGROUND: Contact tracing plays an important...   2006-12-20   \n",
       "90   BACKGROUND: With the increased occurrence of o...   2007-04-04   \n",
       "106  BACKGROUND: Influenza pandemic preparedness pl...   2007-07-13   \n",
       "326  BACKGROUND: Individual strategies in pandemic ...   2009-12-10   \n",
       "397  It is widely feared that a novel, highly patho...   2010-07-06   \n",
       "\n",
       "                                                   url  \\\n",
       "82   https://www.ncbi.nlm.nih.gov/pmc/articles/PMC1...   \n",
       "90   https://www.ncbi.nlm.nih.gov/pmc/articles/PMC1...   \n",
       "106  https://www.ncbi.nlm.nih.gov/pmc/articles/PMC1...   \n",
       "326  https://www.ncbi.nlm.nih.gov/pmc/articles/PMC2...   \n",
       "397  https://www.ncbi.nlm.nih.gov/pmc/articles/PMC2...   \n",
       "\n",
       "                                               authors  \\\n",
       "82   Klinkenberg, Don; Fraser, Christophe; Heesterb...   \n",
       "90          Garske, Tini; Clarke, Paul; Ghani, Azra C.   \n",
       "106  Duerr, Hans P; Brockmann, Stefan O; Piechotows...   \n",
       "326  Lee, Vernon J; Lye, David C; Wilder-Smith, Ann...   \n",
       "397          Chin, Juxin; Koh, Geoffrey; Lee, Dong-Yup   \n",
       "\n",
       "                                                 words  \n",
       "82   [BACKGROUND, Contact, tracing, plays, an, impo...  \n",
       "90   [BACKGROUND, With, the, increased, occurrence,...  \n",
       "106  [BACKGROUND, Influenza, pandemic, preparedness...  \n",
       "326  [BACKGROUND, Individual, strategies, in, pande...  \n",
       "397  [It, is, widely, feared, that, a, novel, highl...  "
      ]
     },
     "execution_count": 14,
     "metadata": {},
     "output_type": "execute_result"
    }
   ],
   "source": [
    "#Articles that we have\n",
    "Q1.head(5)"
   ]
  },
  {
   "cell_type": "markdown",
   "metadata": {},
   "source": [
    "Online Search "
   ]
  },
  {
   "cell_type": "code",
   "execution_count": 18,
   "metadata": {},
   "outputs": [
    {
     "name": "stdout",
     "output_type": "stream",
     "text": [
      "https://www.cochrane.org/news/how-effective-quarantine-alone-or-combination-other-public-health-measures-control-coronavirus\n",
      "https://www.cebm.net/covid-19/is-a-14-day-quarantine-effective-against-the-spread-of-covid-19/\n",
      "https://www.sciencedirect.com/science/article/pii/S1201971220301375\n",
      "https://pubmed.ncbi.nlm.nih.gov/32171948/\n",
      "https://www.medrxiv.org/content/10.1101/2020.04.21.20074245v3\n",
      "https://academic.oup.com/aje/article/163/5/479/61137\n",
      "https://www.thelancet.com/journals/laninf/article/PIIS1473-3099(20)30361-3/fulltext\n",
      "https://www.ijidonline.com/article/S1201-9712(20)30137-5/fulltext\n",
      "https://onlinelibrary.wiley.com/doi/abs/10.1002/jmv.25827\n",
      "https://www.healthaffairs.org/do/10.1377/hblog20200609.3306/full/\n",
      "https://www.cdc.gov/mmwr/volumes/69/wr/mm6911e1.htm\n",
      "https://wwwnc.cdc.gov/eid/article/19/2/12-0312_article\n",
      "https://massivesci.com/articles/covid-coronavirus-quarantine-isolation-pandemic/\n",
      "https://www.nejm.org/doi/full/10.1056/NEJMp2004211\n",
      "https://journalofethics.ama-assn.org/article/ethics-quarantine/2003-11\n",
      "https://www.cochranelibrary.com/cdsr/doi/10.1002/14651858.CD013574/full\n",
      "https://www.evidentlycochrane.net/quarantine-covid-19/\n",
      "https://dash.harvard.edu/bitstream/handle/1/42639310/Modeling%20the%20Comparative%20Impact%20of%20Individual%20Quarantine%20vs.%20Active%20Monitoring%20of%20Contacts%20for%20the%20Mitigation%20of%20COVID-19.pdf?sequence=1\n",
      "https://www.nytimes.com/2020/01/26/world/asia/coronavirus-wuhan-china-hubei.html\n",
      "https://www.researchgate.net/publication/339984251_The_effectiveness_of_quarantine_and_isolation_determine_the_trend_of_the_COVID-19_epidemics_in_the_final_phase_of_the_current_outbreak_in_China\n"
     ]
    }
   ],
   "source": [
    "try: \n",
    "    from googlesearch import search \n",
    "except ImportError:  \n",
    "    print(\"Error/Not found\") \n",
    "### Browsing the sourses using different search terms: \n",
    "search1_1 = \"Effectiveness of quarantine of Covid\"\n",
    "\n",
    "##limit to the first 10 relevant links:\n",
    "for a in search(search1_1, tld=\"co.in\", num=20, stop=20, pause=2): \n",
    "    print(a)"
   ]
  },
  {
   "cell_type": "markdown",
   "metadata": {},
   "source": [
    "# 2/ Effectiveness of community contact reduction\n"
   ]
  },
  {
   "cell_type": "code",
   "execution_count": 22,
   "metadata": {},
   "outputs": [],
   "source": [
    "#Create different sets with specialized terms  from our questions \n",
    "Q2_a = tablesAbstract[tablesAbstract['abstract'].str.contains('community contact')]\n",
    "Q2_b = Q2_a[Q2_a['abstract'].str.contains('reduction')]\n"
   ]
  },
  {
   "cell_type": "code",
   "execution_count": 23,
   "metadata": {},
   "outputs": [
    {
     "data": {
      "text/plain": [
       "(3, 6)"
      ]
     },
     "execution_count": 23,
     "metadata": {},
     "output_type": "execute_result"
    }
   ],
   "source": [
    "#Concatenitng the dataframes into one table per question and dropping null value \n",
    "Q2 = pd.concat([Q2_b])\n",
    "Q2.dropna(inplace=True)\n",
    "Q2.shape"
   ]
  },
  {
   "cell_type": "code",
   "execution_count": 24,
   "metadata": {},
   "outputs": [
    {
     "data": {
      "text/html": [
       "<div>\n",
       "<style scoped>\n",
       "    .dataframe tbody tr th:only-of-type {\n",
       "        vertical-align: middle;\n",
       "    }\n",
       "\n",
       "    .dataframe tbody tr th {\n",
       "        vertical-align: top;\n",
       "    }\n",
       "\n",
       "    .dataframe thead th {\n",
       "        text-align: right;\n",
       "    }\n",
       "</style>\n",
       "<table border=\"1\" class=\"dataframe\">\n",
       "  <thead>\n",
       "    <tr style=\"text-align: right;\">\n",
       "      <th></th>\n",
       "      <th>title</th>\n",
       "      <th>abstract</th>\n",
       "      <th>publish_time</th>\n",
       "      <th>url</th>\n",
       "      <th>authors</th>\n",
       "      <th>words</th>\n",
       "    </tr>\n",
       "  </thead>\n",
       "  <tbody>\n",
       "    <tr>\n",
       "      <th>1104</th>\n",
       "      <td>Economic analysis of pandemic influenza mitiga...</td>\n",
       "      <td>BACKGROUND: The threat of emergence of a human...</td>\n",
       "      <td>2013-03-08</td>\n",
       "      <td>https://www.ncbi.nlm.nih.gov/pmc/articles/PMC3...</td>\n",
       "      <td>Kelso, Joel K; Halder, Nilimesh; Postma, Maart...</td>\n",
       "      <td>[BACKGROUND, The, threat, of, emergence, of, a...</td>\n",
       "    </tr>\n",
       "    <tr>\n",
       "      <th>64265</th>\n",
       "      <td>The impact of physical distancing measures aga...</td>\n",
       "      <td>Background During the current pandemic of coro...</td>\n",
       "      <td>2020-05-20</td>\n",
       "      <td>http://medrxiv.org/cgi/content/short/2020.05.1...</td>\n",
       "      <td>Backer, J. A.; Mollema, L.; Klinkenberg, D.; v...</td>\n",
       "      <td>[Background, During, the, current, pandemic, o...</td>\n",
       "    </tr>\n",
       "    <tr>\n",
       "      <th>69941</th>\n",
       "      <td>The Effectiveness of Social Distancing in Miti...</td>\n",
       "      <td>Background The novel coronavirus COVID19 has b...</td>\n",
       "      <td>2020-03-23</td>\n",
       "      <td>https://doi.org/10.1101/2020.03.20.20040055</td>\n",
       "      <td>Milne, George J; Xie, Simon</td>\n",
       "      <td>[Background, The, novel, coronavirus, COVID19,...</td>\n",
       "    </tr>\n",
       "  </tbody>\n",
       "</table>\n",
       "</div>"
      ],
      "text/plain": [
       "                                                   title  \\\n",
       "1104   Economic analysis of pandemic influenza mitiga...   \n",
       "64265  The impact of physical distancing measures aga...   \n",
       "69941  The Effectiveness of Social Distancing in Miti...   \n",
       "\n",
       "                                                abstract publish_time  \\\n",
       "1104   BACKGROUND: The threat of emergence of a human...   2013-03-08   \n",
       "64265  Background During the current pandemic of coro...   2020-05-20   \n",
       "69941  Background The novel coronavirus COVID19 has b...   2020-03-23   \n",
       "\n",
       "                                                     url  \\\n",
       "1104   https://www.ncbi.nlm.nih.gov/pmc/articles/PMC3...   \n",
       "64265  http://medrxiv.org/cgi/content/short/2020.05.1...   \n",
       "69941        https://doi.org/10.1101/2020.03.20.20040055   \n",
       "\n",
       "                                                 authors  \\\n",
       "1104   Kelso, Joel K; Halder, Nilimesh; Postma, Maart...   \n",
       "64265  Backer, J. A.; Mollema, L.; Klinkenberg, D.; v...   \n",
       "69941                        Milne, George J; Xie, Simon   \n",
       "\n",
       "                                                   words  \n",
       "1104   [BACKGROUND, The, threat, of, emergence, of, a...  \n",
       "64265  [Background, During, the, current, pandemic, o...  \n",
       "69941  [Background, The, novel, coronavirus, COVID19,...  "
      ]
     },
     "execution_count": 24,
     "metadata": {},
     "output_type": "execute_result"
    }
   ],
   "source": [
    "#Articles that we have\n",
    "Q2.head(5)"
   ]
  },
  {
   "cell_type": "markdown",
   "metadata": {},
   "source": [
    "Online Search"
   ]
  },
  {
   "cell_type": "code",
   "execution_count": 26,
   "metadata": {},
   "outputs": [
    {
     "name": "stdout",
     "output_type": "stream",
     "text": [
      "https://www.cdc.gov/coronavirus/2019-ncov/php/contact-tracing/strategies-to-reduce-spread.html\n",
      "https://www.cdc.gov/coronavirus/2019-ncov/prevent-getting-sick/social-distancing.html\n",
      "https://medicalxpress.com/news/2020-03-combined-social-distancing-effective-covid-.html\n",
      "https://www.cebm.net/covid-19/are-interventions-such-as-social-distancing-effective-at-reducing-the-risk-of-asymptomatic-healthcare-workers-transmitting-covid-19-infection-to-other-household-members/\n",
      "https://www.cebm.net/covid-19/what-is-the-evidence-to-support-the-2-metre-social-distancing-rule-to-reduce-covid-19-transmission/\n",
      "https://www.ncbi.nlm.nih.gov/pmc/articles/PMC7195988/\n",
      "https://www.fredhutch.org/en/news/center-news/2020/03/covid19---social-distancing--in-seattle-and-beyond.html\n",
      "https://www.thelancet.com/journals/laninf/article/PIIS1473-3099(20)30457-6/fulltext\n",
      "https://www.idsociety.org/contentassets/9ba35522e0964d51a47ae3b22e59fb47/idsa-recommendations-for-reducing-covid-19-distancing_16apr2020_final-.pdf\n",
      "https://www.statnews.com/2020/04/09/social-distancing-controlling-covid-19-which-measures-are-most-effective/\n",
      "https://www.conehealth.com/services/primary-care/social-distancing-faq-how-it-helps-prevent-covid-19-coronavirus-/\n",
      "https://www.who.int/docs/default-source/coronaviruse/covid-strategy-update-14april2020.pdf?sfvrsn=29da3ba0_19\n",
      "https://www.nature.com/articles/s41562-020-0898-6\n",
      "http://www.seattle.gov/mayor/covid-19\n",
      "https://www.doh.wa.gov/Newsroom/Articles/ID/1292/New-report-shows-schools-reopening-is-closely-tied-to-societal-activity\n",
      "https://www.fda.gov/medical-devices/emergency-situations-medical-devices/non-contact-temperature-assessment-devices-during-covid-19-pandemic\n",
      "https://www.pnas.org/content/117/26/14857\n",
      "https://www.healthaffairs.org/doi/10.1377/hlthaff.2020.00818\n",
      "https://www.astho.org/COVID-19/Q-and-A/\n",
      "https://www.ucsf.edu/news/2020/03/416906/why-experts-are-urging-social-distancing-combat-coronavirus-outbreak\n"
     ]
    }
   ],
   "source": [
    "try: \n",
    "    from googlesearch import search \n",
    "except ImportError:  \n",
    "    print(\"Error/Not found\") \n",
    "### Browsing the sourses using different search terms: \n",
    "search2_1 = \"COVID 19 Effectiveness of community contact reduction\"\n",
    "\n",
    "\n",
    "##limit to the first 10 relevant links:\n",
    "for a in search(search2_1, tld=\"co.in\", num=20, stop=20, pause=2): \n",
    "    print(a)"
   ]
  },
  {
   "cell_type": "markdown",
   "metadata": {},
   "source": [
    "# 3/ Effectiveness of inter/inner travel restriction\n"
   ]
  },
  {
   "cell_type": "code",
   "execution_count": 29,
   "metadata": {},
   "outputs": [],
   "source": [
    "#Create different sets with specialized terms  from our questions \n",
    "Q3_a = tablesAbstract[tablesAbstract['abstract'].str.contains('travel restrictions')]\n",
    "Q3_b = Q3_a[Q3_a['abstract'].str.contains('effectiveness')]"
   ]
  },
  {
   "cell_type": "code",
   "execution_count": 30,
   "metadata": {},
   "outputs": [
    {
     "data": {
      "text/plain": [
       "(19, 6)"
      ]
     },
     "execution_count": 30,
     "metadata": {},
     "output_type": "execute_result"
    }
   ],
   "source": [
    "#Concatenitng the dataframes into one table per question and dropping null value \n",
    "Q3 = pd.concat([Q3_b])\n",
    "Q3.dropna(inplace=True)\n",
    "Q3.shape"
   ]
  },
  {
   "cell_type": "code",
   "execution_count": 31,
   "metadata": {},
   "outputs": [
    {
     "data": {
      "text/html": [
       "<div>\n",
       "<style scoped>\n",
       "    .dataframe tbody tr th:only-of-type {\n",
       "        vertical-align: middle;\n",
       "    }\n",
       "\n",
       "    .dataframe tbody tr th {\n",
       "        vertical-align: top;\n",
       "    }\n",
       "\n",
       "    .dataframe thead th {\n",
       "        text-align: right;\n",
       "    }\n",
       "</style>\n",
       "<table border=\"1\" class=\"dataframe\">\n",
       "  <thead>\n",
       "    <tr style=\"text-align: right;\">\n",
       "      <th></th>\n",
       "      <th>title</th>\n",
       "      <th>abstract</th>\n",
       "      <th>publish_time</th>\n",
       "      <th>url</th>\n",
       "      <th>authors</th>\n",
       "      <th>words</th>\n",
       "    </tr>\n",
       "  </thead>\n",
       "  <tbody>\n",
       "    <tr>\n",
       "      <th>1078</th>\n",
       "      <td>Modeling the impact of air, sea, and land trav...</td>\n",
       "      <td>BACKGROUND: During the early stages of a new i...</td>\n",
       "      <td>2012-11-19</td>\n",
       "      <td>https://www.ncbi.nlm.nih.gov/pmc/articles/PMC3...</td>\n",
       "      <td>Chong, Ka Chun; Ying Zee, Benny Chung</td>\n",
       "      <td>[BACKGROUND, During, the, early, stages, of, a...</td>\n",
       "    </tr>\n",
       "    <tr>\n",
       "      <th>31699</th>\n",
       "      <td>An integrative review of the limited evidence ...</td>\n",
       "      <td>In our increasingly interconnected world, the ...</td>\n",
       "      <td>2019</td>\n",
       "      <td>https://doi.org/10.5055/ajdm.2019.0331; https:...</td>\n",
       "      <td>Errett, Nicole A; Sauer, Lauren M; Rutkow, Lainie</td>\n",
       "      <td>[In, our, increasingly, interconnected, world,...</td>\n",
       "    </tr>\n",
       "    <tr>\n",
       "      <th>31943</th>\n",
       "      <td>Effect of non-pharmaceutical interventions to ...</td>\n",
       "      <td>On March 11, 2020, the World Health Organizati...</td>\n",
       "      <td>2020-05-04</td>\n",
       "      <td>https://doi.org/10.1038/s41586-020-2293-x; htt...</td>\n",
       "      <td>Lai, Shengjie; Ruktanonchai, Nick W; Zhou, Lia...</td>\n",
       "      <td>[On, March, 11, 2020, the, World, Health, Orga...</td>\n",
       "    </tr>\n",
       "    <tr>\n",
       "      <th>39707</th>\n",
       "      <td>Quarantine alone or in combination with other ...</td>\n",
       "      <td>BACKGROUND Coronavirus disease 2019 (COVID-19)...</td>\n",
       "      <td>2020-04-08</td>\n",
       "      <td>https://doi.org/10.1002/14651858.cd013574; htt...</td>\n",
       "      <td>Nussbaumer-Streit, Barbara; Mayr, Verena; Dobr...</td>\n",
       "      <td>[BACKGROUND, Coronavirus, disease, 2019, COVID...</td>\n",
       "    </tr>\n",
       "    <tr>\n",
       "      <th>42884</th>\n",
       "      <td>An integrative review of the limited evidence ...</td>\n",
       "      <td>In our increasingly interconnected world, the ...</td>\n",
       "      <td>2020</td>\n",
       "      <td>https://doi.org/10.5055/jem.2020.0446; https:/...</td>\n",
       "      <td>Errett, Nicole A; Sauer, Lauren M; Rutkow, Lainie</td>\n",
       "      <td>[In, our, increasingly, interconnected, world,...</td>\n",
       "    </tr>\n",
       "  </tbody>\n",
       "</table>\n",
       "</div>"
      ],
      "text/plain": [
       "                                                   title  \\\n",
       "1078   Modeling the impact of air, sea, and land trav...   \n",
       "31699  An integrative review of the limited evidence ...   \n",
       "31943  Effect of non-pharmaceutical interventions to ...   \n",
       "39707  Quarantine alone or in combination with other ...   \n",
       "42884  An integrative review of the limited evidence ...   \n",
       "\n",
       "                                                abstract publish_time  \\\n",
       "1078   BACKGROUND: During the early stages of a new i...   2012-11-19   \n",
       "31699  In our increasingly interconnected world, the ...         2019   \n",
       "31943  On March 11, 2020, the World Health Organizati...   2020-05-04   \n",
       "39707  BACKGROUND Coronavirus disease 2019 (COVID-19)...   2020-04-08   \n",
       "42884  In our increasingly interconnected world, the ...         2020   \n",
       "\n",
       "                                                     url  \\\n",
       "1078   https://www.ncbi.nlm.nih.gov/pmc/articles/PMC3...   \n",
       "31699  https://doi.org/10.5055/ajdm.2019.0331; https:...   \n",
       "31943  https://doi.org/10.1038/s41586-020-2293-x; htt...   \n",
       "39707  https://doi.org/10.1002/14651858.cd013574; htt...   \n",
       "42884  https://doi.org/10.5055/jem.2020.0446; https:/...   \n",
       "\n",
       "                                                 authors  \\\n",
       "1078               Chong, Ka Chun; Ying Zee, Benny Chung   \n",
       "31699  Errett, Nicole A; Sauer, Lauren M; Rutkow, Lainie   \n",
       "31943  Lai, Shengjie; Ruktanonchai, Nick W; Zhou, Lia...   \n",
       "39707  Nussbaumer-Streit, Barbara; Mayr, Verena; Dobr...   \n",
       "42884  Errett, Nicole A; Sauer, Lauren M; Rutkow, Lainie   \n",
       "\n",
       "                                                   words  \n",
       "1078   [BACKGROUND, During, the, early, stages, of, a...  \n",
       "31699  [In, our, increasingly, interconnected, world,...  \n",
       "31943  [On, March, 11, 2020, the, World, Health, Orga...  \n",
       "39707  [BACKGROUND, Coronavirus, disease, 2019, COVID...  \n",
       "42884  [In, our, increasingly, interconnected, world,...  "
      ]
     },
     "execution_count": 31,
     "metadata": {},
     "output_type": "execute_result"
    }
   ],
   "source": [
    "#Articles that we have\n",
    "Q3.head(5)"
   ]
  },
  {
   "cell_type": "markdown",
   "metadata": {},
   "source": [
    "Online Search"
   ]
  },
  {
   "cell_type": "code",
   "execution_count": 33,
   "metadata": {},
   "outputs": [
    {
     "name": "stdout",
     "output_type": "stream",
     "text": [
      "https://science.sciencemag.org/content/368/6489/395\n",
      "https://science.sciencemag.org/content/368/6489/395/tab-figures-data\n",
      "https://science.sciencemag.org/content/368/6489/395/tab-article-info\n",
      "https://science.sciencemag.org/content/368/6489/395/tab-e-letters\n",
      "https://www.livescience.com/coronavirus-travel-restrictions-effectiveness.html\n",
      "https://www.sciencedaily.com/releases/2020/02/200213175923.htm\n",
      "https://deohs.washington.edu/edge/blog/are-travel-bans-effective\n",
      "https://www.who.int/bulletin/volumes/92/12/14-135590/en/\n",
      "https://academic.oup.com/jtm/article/doi/10.1093/jtm/taaa081/5842100\n",
      "https://www.devex.com/news/how-effective-are-travel-restrictions-a-look-at-approaches-to-contain-coronavirus-96649\n",
      "https://www.nytimes.com/article/coronavirus-travel-restrictions.html\n",
      "https://www.vox.com/2020/3/12/21176669/travel-ban-trump-coronavirus-china-italy-europe\n",
      "https://www.medrxiv.org/content/10.1101/2020.02.09.20021261v1\n",
      "https://www.cato.org/blog/travel-restrictions-spread-covid-19-what-does-research-say\n",
      "https://www.researchgate.net/publication/339757623_The_effect_of_travel_restrictions_on_the_spread_of_the_2019_novel_coronavirus_COVID-19_outbreak\n",
      "https://www.healio.com/infectious-disease/emerging-diseases/news/online/%7Beb20d926-faba-427e-9d03-65e184be4d9a%7D/experts-wary-about-necessity-effectiveness-of-coronavirus-travel-ban\n",
      "https://www.nationalgeographic.com/science/2020/02/why-travel-restrictions-are-not-stopping-coronavirus-covid-19/\n",
      "https://www.scmp.com/week-asia/opinion/article/3074328/coronavirus-are-travel-bans-effective-way-curb-covid-19s-spread\n",
      "https://www.nafsa.org/regulatory-information/covid-19-restrictions-us-visas-and-entry\n",
      "https://www.siliconrepublic.com/innovation/coronavirus-travel-restrictions-effective\n"
     ]
    }
   ],
   "source": [
    "try: \n",
    "    from googlesearch import search \n",
    "except ImportError:  \n",
    "    print(\"Error/Not found\") \n",
    "### Browsing the sourses using different search terms: \n",
    "search3_1 = \"corona effectiveness of travel restrictions\"\n",
    "\n",
    "\n",
    "\n",
    "##limit to the first 10 relevant links:\n",
    "for a in search(search3_1, tld=\"co.in\", num=20, stop=20, pause=2): \n",
    "    print(a)"
   ]
  },
  {
   "cell_type": "markdown",
   "metadata": {},
   "source": [
    "# 4/ Effectiveness of school distancing"
   ]
  },
  {
   "cell_type": "code",
   "execution_count": 48,
   "metadata": {},
   "outputs": [],
   "source": [
    "#Create different sets with specialized terms  from our questions \n",
    "Q4_a = tablesAbstract[tablesAbstract['abstract'].str.contains('school')]\n",
    "Q4_b = Q4_a[Q4_a['abstract'].str.contains('social distancing')]\n",
    "Q4_c = Q4_b[Q4_b['abstract'].str.contains('effectiveness')]"
   ]
  },
  {
   "cell_type": "code",
   "execution_count": 52,
   "metadata": {},
   "outputs": [
    {
     "data": {
      "text/plain": [
       "(16, 6)"
      ]
     },
     "execution_count": 52,
     "metadata": {},
     "output_type": "execute_result"
    }
   ],
   "source": [
    "#Concatenitng the dataframes into one table per question and dropping null value \n",
    "Q4 = pd.concat([Q4_c])\n",
    "Q4.dropna(inplace=True)\n",
    "Q4.shape"
   ]
  },
  {
   "cell_type": "code",
   "execution_count": 53,
   "metadata": {},
   "outputs": [
    {
     "data": {
      "text/html": [
       "<div>\n",
       "<style scoped>\n",
       "    .dataframe tbody tr th:only-of-type {\n",
       "        vertical-align: middle;\n",
       "    }\n",
       "\n",
       "    .dataframe tbody tr th {\n",
       "        vertical-align: top;\n",
       "    }\n",
       "\n",
       "    .dataframe thead th {\n",
       "        text-align: right;\n",
       "    }\n",
       "</style>\n",
       "<table border=\"1\" class=\"dataframe\">\n",
       "  <thead>\n",
       "    <tr style=\"text-align: right;\">\n",
       "      <th></th>\n",
       "      <th>title</th>\n",
       "      <th>abstract</th>\n",
       "      <th>publish_time</th>\n",
       "      <th>url</th>\n",
       "      <th>authors</th>\n",
       "      <th>words</th>\n",
       "    </tr>\n",
       "  </thead>\n",
       "  <tbody>\n",
       "    <tr>\n",
       "      <th>1104</th>\n",
       "      <td>Economic analysis of pandemic influenza mitiga...</td>\n",
       "      <td>BACKGROUND: The threat of emergence of a human...</td>\n",
       "      <td>2013-03-08</td>\n",
       "      <td>https://www.ncbi.nlm.nih.gov/pmc/articles/PMC3...</td>\n",
       "      <td>Kelso, Joel K; Halder, Nilimesh; Postma, Maart...</td>\n",
       "      <td>[BACKGROUND, The, threat, of, emergence, of, a...</td>\n",
       "    </tr>\n",
       "    <tr>\n",
       "      <th>39707</th>\n",
       "      <td>Quarantine alone or in combination with other ...</td>\n",
       "      <td>BACKGROUND Coronavirus disease 2019 (COVID-19)...</td>\n",
       "      <td>2020-04-08</td>\n",
       "      <td>https://doi.org/10.1002/14651858.cd013574; htt...</td>\n",
       "      <td>Nussbaumer-Streit, Barbara; Mayr, Verena; Dobr...</td>\n",
       "      <td>[BACKGROUND, Coronavirus, disease, 2019, COVID...</td>\n",
       "    </tr>\n",
       "    <tr>\n",
       "      <th>55858</th>\n",
       "      <td>Model for Taking Care of Patients with Early C...</td>\n",
       "      <td>Pending the availability of vaccines to contai...</td>\n",
       "      <td>2020-05-26</td>\n",
       "      <td>https://doi.org/10.3390/ijerph17113751; https:...</td>\n",
       "      <td>Cianetti, Stefano; Pagano, Stefano; Nardone, M...</td>\n",
       "      <td>[Pending, the, availability, of, vaccines, to,...</td>\n",
       "    </tr>\n",
       "    <tr>\n",
       "      <th>64524</th>\n",
       "      <td>Social interventions can lower COVID-19 deaths...</td>\n",
       "      <td>A novel pandemic coronavirus disease (COVID-19...</td>\n",
       "      <td>2020-04-21</td>\n",
       "      <td>http://medrxiv.org/cgi/content/short/2020.04.1...</td>\n",
       "      <td>Paternina-Caicedo, Angel Jose; Choisy, Marc; G...</td>\n",
       "      <td>[A, novel, pandemic, coronavirus, disease, COV...</td>\n",
       "    </tr>\n",
       "    <tr>\n",
       "      <th>65161</th>\n",
       "      <td>The Immediate Effect of COVID-19 Policies on S...</td>\n",
       "      <td>In the absence of a vaccine and effective anti...</td>\n",
       "      <td>2020-04-10</td>\n",
       "      <td>http://medrxiv.org/cgi/content/short/2020.04.0...</td>\n",
       "      <td>Abouk, R.; Heydari, B.</td>\n",
       "      <td>[In, the, absence, of, a, vaccine, and, effect...</td>\n",
       "    </tr>\n",
       "  </tbody>\n",
       "</table>\n",
       "</div>"
      ],
      "text/plain": [
       "                                                   title  \\\n",
       "1104   Economic analysis of pandemic influenza mitiga...   \n",
       "39707  Quarantine alone or in combination with other ...   \n",
       "55858  Model for Taking Care of Patients with Early C...   \n",
       "64524  Social interventions can lower COVID-19 deaths...   \n",
       "65161  The Immediate Effect of COVID-19 Policies on S...   \n",
       "\n",
       "                                                abstract publish_time  \\\n",
       "1104   BACKGROUND: The threat of emergence of a human...   2013-03-08   \n",
       "39707  BACKGROUND Coronavirus disease 2019 (COVID-19)...   2020-04-08   \n",
       "55858  Pending the availability of vaccines to contai...   2020-05-26   \n",
       "64524  A novel pandemic coronavirus disease (COVID-19...   2020-04-21   \n",
       "65161  In the absence of a vaccine and effective anti...   2020-04-10   \n",
       "\n",
       "                                                     url  \\\n",
       "1104   https://www.ncbi.nlm.nih.gov/pmc/articles/PMC3...   \n",
       "39707  https://doi.org/10.1002/14651858.cd013574; htt...   \n",
       "55858  https://doi.org/10.3390/ijerph17113751; https:...   \n",
       "64524  http://medrxiv.org/cgi/content/short/2020.04.1...   \n",
       "65161  http://medrxiv.org/cgi/content/short/2020.04.0...   \n",
       "\n",
       "                                                 authors  \\\n",
       "1104   Kelso, Joel K; Halder, Nilimesh; Postma, Maart...   \n",
       "39707  Nussbaumer-Streit, Barbara; Mayr, Verena; Dobr...   \n",
       "55858  Cianetti, Stefano; Pagano, Stefano; Nardone, M...   \n",
       "64524  Paternina-Caicedo, Angel Jose; Choisy, Marc; G...   \n",
       "65161                             Abouk, R.; Heydari, B.   \n",
       "\n",
       "                                                   words  \n",
       "1104   [BACKGROUND, The, threat, of, emergence, of, a...  \n",
       "39707  [BACKGROUND, Coronavirus, disease, 2019, COVID...  \n",
       "55858  [Pending, the, availability, of, vaccines, to,...  \n",
       "64524  [A, novel, pandemic, coronavirus, disease, COV...  \n",
       "65161  [In, the, absence, of, a, vaccine, and, effect...  "
      ]
     },
     "execution_count": 53,
     "metadata": {},
     "output_type": "execute_result"
    }
   ],
   "source": [
    "#Articles that we have\n",
    "Q4.head(5)"
   ]
  },
  {
   "cell_type": "markdown",
   "metadata": {},
   "source": [
    "Online Search"
   ]
  },
  {
   "cell_type": "code",
   "execution_count": 51,
   "metadata": {},
   "outputs": [
    {
     "name": "stdout",
     "output_type": "stream",
     "text": [
      "https://www.thelancet.com/journals/lanchi/article/PIIS2352-4642(20)30095-X/fulltext\n",
      "https://www.thelancet.com/journals/lanchi/article/PIIS2352-4642(20)30095-X/fulltext#seccestitle10\n",
      "https://www.thelancet.com/journals/lanchi/article/PIIS2352-4642(20)30095-X/fulltext#seccestitle20\n",
      "https://www.thelancet.com/journals/lanchi/article/PIIS2352-4642(20)30095-X/fulltext#seccestitle40\n",
      "https://www.thelancet.com/journals/lanchi/article/PIIS2352-4642(20)30095-X/fulltext#seccestitle90\n",
      "https://www.sciencemag.org/news/2020/07/school-openings-across-globe-suggest-ways-keep-coronavirus-bay-despite-outbreaks\n",
      "https://www.sciencemag.org/news/2020/05/should-schools-reopen-kids-role-pandemic-still-mystery\n",
      "https://www.sciencemag.org/news/2020/03/does-closing-schools-slow-spread-novel-coronavirus\n",
      "https://www.livescience.com/coronavirus-school-closures-impact.html\n",
      "https://services.aap.org/en/pages/2019-novel-coronavirus-covid-19-infections/clinical-guidance/covid-19-planning-considerations-return-to-in-person-education-in-schools/\n",
      "https://www.cdc.gov/coronavirus/2019-ncov/community/schools-childcare/schools.html\n",
      "https://www.cdc.gov/coronavirus/2019-ncov/hcp/ways-operate-effectively.html\n",
      "https://www.cdc.gov/coronavirus/2019-ncov/community/organizations/bus-transit-operator.html\n",
      "https://www.cdc.gov/legionella/about/index.html\n",
      "https://www.cdc.gov/coronavirus/2019-ncov/downloads/considerations-for-school-closure.pdf?fbclid=IwAR04nUvqxW-NPEcw1SJzYI1ZKObIkUAr8TapBG61427dvBO1fqALwIpURTA\n",
      "https://www.bbc.com/news/health-52180783\n",
      "https://www.npr.org/2020/03/26/821921575/the-biggest-distance-learning-experiment-in-history-week-one\n",
      "https://www.health.state.mn.us/diseases/coronavirus/schools/k12planguide.pdf\n",
      "https://www.straitstimes.com/singapore/workplace-distancing-more-effective-than-school-closures-study\n",
      "https://www.nytimes.com/2020/03/10/opinion/coronavirus-school-closing.html\n"
     ]
    }
   ],
   "source": [
    "try: \n",
    "    from googlesearch import search \n",
    "except ImportError:  \n",
    "    print(\"Error/Not found\") \n",
    "### Browsing the sourses using different search terms: \n",
    "search4_1 = \"corona Effectiveness of school distancing \"\n",
    "\n",
    "\n",
    "##limit to the first 10 relevant links:\n",
    "for a in search(search4_1, tld=\"co.in\", num=20, stop=20, pause=2): \n",
    "    print(a)"
   ]
  },
  {
   "cell_type": "markdown",
   "metadata": {},
   "source": [
    "# 5/ Effectiveness of workplace distancing"
   ]
  },
  {
   "cell_type": "code",
   "execution_count": 61,
   "metadata": {},
   "outputs": [],
   "source": [
    "#Create different sets with specialized terms  from our questions \n",
    "Q5_a = tablesAbstract[tablesAbstract['abstract'].str.contains('work')]\n",
    "Q5_b = Q5_a[Q5_a['abstract'].str.contains('social distancing')]\n",
    "Q5_c = Q5_b[Q5_b['abstract'].str.contains('effectiveness')]"
   ]
  },
  {
   "cell_type": "code",
   "execution_count": 62,
   "metadata": {},
   "outputs": [
    {
     "data": {
      "text/plain": [
       "(42, 6)"
      ]
     },
     "execution_count": 62,
     "metadata": {},
     "output_type": "execute_result"
    }
   ],
   "source": [
    "#Concatenitng the dataframes into one table per question and dropping null value \n",
    "Q5 = pd.concat([Q5_c])\n",
    "Q5.dropna(inplace=True)\n",
    "Q5.shape"
   ]
  },
  {
   "cell_type": "code",
   "execution_count": 63,
   "metadata": {},
   "outputs": [
    {
     "data": {
      "text/html": [
       "<div>\n",
       "<style scoped>\n",
       "    .dataframe tbody tr th:only-of-type {\n",
       "        vertical-align: middle;\n",
       "    }\n",
       "\n",
       "    .dataframe tbody tr th {\n",
       "        vertical-align: top;\n",
       "    }\n",
       "\n",
       "    .dataframe thead th {\n",
       "        text-align: right;\n",
       "    }\n",
       "</style>\n",
       "<table border=\"1\" class=\"dataframe\">\n",
       "  <thead>\n",
       "    <tr style=\"text-align: right;\">\n",
       "      <th></th>\n",
       "      <th>title</th>\n",
       "      <th>abstract</th>\n",
       "      <th>publish_time</th>\n",
       "      <th>url</th>\n",
       "      <th>authors</th>\n",
       "      <th>words</th>\n",
       "    </tr>\n",
       "  </thead>\n",
       "  <tbody>\n",
       "    <tr>\n",
       "      <th>26225</th>\n",
       "      <td>Historical and methodological highlights of qu...</td>\n",
       "      <td>The ongoing 2020 coronavirus disease (COVID-19...</td>\n",
       "      <td>2020-05-11</td>\n",
       "      <td>https://doi.org/10.23750/abm.v91i2.9494; https...</td>\n",
       "      <td>Conti, Andrea Alberto</td>\n",
       "      <td>[The, ongoing, 2020, coronavirus, disease, COV...</td>\n",
       "    </tr>\n",
       "    <tr>\n",
       "      <th>31943</th>\n",
       "      <td>Effect of non-pharmaceutical interventions to ...</td>\n",
       "      <td>On March 11, 2020, the World Health Organizati...</td>\n",
       "      <td>2020-05-04</td>\n",
       "      <td>https://doi.org/10.1038/s41586-020-2293-x; htt...</td>\n",
       "      <td>Lai, Shengjie; Ruktanonchai, Nick W; Zhou, Lia...</td>\n",
       "      <td>[On, March, 11, 2020, the, World, Health, Orga...</td>\n",
       "    </tr>\n",
       "    <tr>\n",
       "      <th>32433</th>\n",
       "      <td>General Model for COVID-19 Spreading with Cons...</td>\n",
       "      <td>BACKGROUND The Coronavirus Disease 2019 (COVID...</td>\n",
       "      <td>2020-06-26</td>\n",
       "      <td>https://doi.org/10.2196/18880; https://www.ncb...</td>\n",
       "      <td>Zhan, Choujun; Tse, Chi Kong; Lai, Zhikang; Ch...</td>\n",
       "      <td>[BACKGROUND, The, Coronavirus, Disease, 2019, ...</td>\n",
       "    </tr>\n",
       "    <tr>\n",
       "      <th>36220</th>\n",
       "      <td>Social network-based distancing strategies to ...</td>\n",
       "      <td>Social distancing and isolation have been wide...</td>\n",
       "      <td>2020-06-04</td>\n",
       "      <td>https://doi.org/10.1038/s41562-020-0898-6; htt...</td>\n",
       "      <td>Block, Per; Hoffman, Marion; Raabe, Isabel J; ...</td>\n",
       "      <td>[Social, distancing, and, isolation, have, bee...</td>\n",
       "    </tr>\n",
       "    <tr>\n",
       "      <th>49667</th>\n",
       "      <td>Identifying airborne transmission as the domin...</td>\n",
       "      <td>Various mitigation measures have been implemen...</td>\n",
       "      <td>2020-06-11</td>\n",
       "      <td>https://doi.org/10.1073/pnas.2009637117; https...</td>\n",
       "      <td>Zhang, Renyi; Li, Yixin; Zhang, Annie L; Wang,...</td>\n",
       "      <td>[Various, mitigation, measures, have, been, im...</td>\n",
       "    </tr>\n",
       "  </tbody>\n",
       "</table>\n",
       "</div>"
      ],
      "text/plain": [
       "                                                   title  \\\n",
       "26225  Historical and methodological highlights of qu...   \n",
       "31943  Effect of non-pharmaceutical interventions to ...   \n",
       "32433  General Model for COVID-19 Spreading with Cons...   \n",
       "36220  Social network-based distancing strategies to ...   \n",
       "49667  Identifying airborne transmission as the domin...   \n",
       "\n",
       "                                                abstract publish_time  \\\n",
       "26225  The ongoing 2020 coronavirus disease (COVID-19...   2020-05-11   \n",
       "31943  On March 11, 2020, the World Health Organizati...   2020-05-04   \n",
       "32433  BACKGROUND The Coronavirus Disease 2019 (COVID...   2020-06-26   \n",
       "36220  Social distancing and isolation have been wide...   2020-06-04   \n",
       "49667  Various mitigation measures have been implemen...   2020-06-11   \n",
       "\n",
       "                                                     url  \\\n",
       "26225  https://doi.org/10.23750/abm.v91i2.9494; https...   \n",
       "31943  https://doi.org/10.1038/s41586-020-2293-x; htt...   \n",
       "32433  https://doi.org/10.2196/18880; https://www.ncb...   \n",
       "36220  https://doi.org/10.1038/s41562-020-0898-6; htt...   \n",
       "49667  https://doi.org/10.1073/pnas.2009637117; https...   \n",
       "\n",
       "                                                 authors  \\\n",
       "26225                              Conti, Andrea Alberto   \n",
       "31943  Lai, Shengjie; Ruktanonchai, Nick W; Zhou, Lia...   \n",
       "32433  Zhan, Choujun; Tse, Chi Kong; Lai, Zhikang; Ch...   \n",
       "36220  Block, Per; Hoffman, Marion; Raabe, Isabel J; ...   \n",
       "49667  Zhang, Renyi; Li, Yixin; Zhang, Annie L; Wang,...   \n",
       "\n",
       "                                                   words  \n",
       "26225  [The, ongoing, 2020, coronavirus, disease, COV...  \n",
       "31943  [On, March, 11, 2020, the, World, Health, Orga...  \n",
       "32433  [BACKGROUND, The, Coronavirus, Disease, 2019, ...  \n",
       "36220  [Social, distancing, and, isolation, have, bee...  \n",
       "49667  [Various, mitigation, measures, have, been, im...  "
      ]
     },
     "execution_count": 63,
     "metadata": {},
     "output_type": "execute_result"
    }
   ],
   "source": [
    "#Articles that we have\n",
    "Q5.head(5)"
   ]
  },
  {
   "cell_type": "markdown",
   "metadata": {},
   "source": [
    "Online Search"
   ]
  },
  {
   "cell_type": "code",
   "execution_count": 65,
   "metadata": {
    "scrolled": false
   },
   "outputs": [
    {
     "name": "stdout",
     "output_type": "stream",
     "text": [
      "https://www.ncbi.nlm.nih.gov/pmc/articles/PMC5907354/\n",
      "https://www.cdc.gov/coronavirus/2019-ncov/community/guidance-business-response.html\n",
      "https://www.cdc.gov/niosh/topics/hierarchy/default.html\n",
      "https://www.cdc.gov/coronavirus/2019-ncov/hcp/managing-workplace-fatigue.html\n",
      "https://www.cdc.gov/coronavirus/2019-ncov/community/office-buildings.html\n",
      "https://www.cdc.gov/coronavirus/2019-ncov/prevent-getting-sick/social-distancing.html\n",
      "https://www.osha.gov/Publications/OSHA4027.pdf\n",
      "https://www.thelancet.com/journals/lanpub/article/PIIS2468-2667(20)30073-6/fulltext\n",
      "https://coronavirusexplained.ukri.org/en/article/pub0004/\n",
      "https://www.medrxiv.org/content/10.1101/2020.03.20.20040055v1\n",
      "https://www.psypost.org/2020/05/workplace-social-distancing-can-delay-the-peak-of-a-virus-suggests-study-56707\n",
      "https://www.cebm.net/covid-19/are-interventions-such-as-social-distancing-effective-at-reducing-the-risk-of-asymptomatic-healthcare-workers-transmitting-covid-19-infection-to-other-household-members/\n",
      "https://www.researchgate.net/publication/324627310_Effectiveness_of_workplace_social_distancing_measures_in_reducing_influenza_transmission_A_systematic_review\n",
      "https://www.sccgov.org/sites/covid19/Pages/business-guidance.aspx\n",
      "https://economictimes.indiatimes.com/magazines/panache/its-official-lancet-study-says-social-distancing-most-effective-way-to-stop-coronavirus-from-spreading/articleshow/74811290.cms\n",
      "https://www.americanprogress.org/issues/healthcare/news/2020/03/25/482278/social-distancing-fight-coronavirus-strategy-working-must-continue/\n",
      "https://www.dol.gov/newsroom/releases/osha/osha20200528-0\n",
      "https://www.conehealth.com/services/primary-care/social-distancing-faq-how-it-helps-prevent-covid-19-coronavirus-/\n",
      "https://time.com/5846288/social-distancing-face-masks-covid/\n",
      "https://jamanetwork.com/journals/jama/fullarticle/2764956\n"
     ]
    }
   ],
   "source": [
    "try: \n",
    "    from googlesearch import search \n",
    "except ImportError:  \n",
    "    print(\"Error/Not found\") \n",
    "### Browsing the sourses using different search terms: \n",
    "search5_1 = \"corona Effectiveness of workplace distancing\"\n",
    "\n",
    "\n",
    "##limit to the first 10 relevant links:\n",
    "for a in search(search5_1, tld=\"co.in\", num=20, stop=20, pause=2): \n",
    "    print(a)\n"
   ]
  },
  {
   "cell_type": "code",
   "execution_count": null,
   "metadata": {},
   "outputs": [],
   "source": [
    "\n"
   ]
  },
  {
   "cell_type": "markdown",
   "metadata": {},
   "source": [
    "# 6/ Effectiveness of a multifactorial strategy prevent secondary transmission\n"
   ]
  },
  {
   "cell_type": "code",
   "execution_count": 66,
   "metadata": {},
   "outputs": [],
   "source": [
    "#Create different sets with specialized terms  from our questions \n",
    "Q6_a = tablesAbstract[tablesAbstract['abstract'].str.contains('secondary transmission')]\n",
    "Q6_b = Q6_a[Q6_a['abstract'].str.contains('strategy')]"
   ]
  },
  {
   "cell_type": "code",
   "execution_count": 71,
   "metadata": {},
   "outputs": [
    {
     "data": {
      "text/plain": [
       "(6, 6)"
      ]
     },
     "execution_count": 71,
     "metadata": {},
     "output_type": "execute_result"
    }
   ],
   "source": [
    "#Concatenitng the dataframes into one table per question and dropping null value \n",
    "Q6 = pd.concat([Q6_b])\n",
    "Q6.dropna(inplace=True)\n",
    "Q6.shape"
   ]
  },
  {
   "cell_type": "code",
   "execution_count": 72,
   "metadata": {},
   "outputs": [
    {
     "data": {
      "text/html": [
       "<div>\n",
       "<style scoped>\n",
       "    .dataframe tbody tr th:only-of-type {\n",
       "        vertical-align: middle;\n",
       "    }\n",
       "\n",
       "    .dataframe tbody tr th {\n",
       "        vertical-align: top;\n",
       "    }\n",
       "\n",
       "    .dataframe thead th {\n",
       "        text-align: right;\n",
       "    }\n",
       "</style>\n",
       "<table border=\"1\" class=\"dataframe\">\n",
       "  <thead>\n",
       "    <tr style=\"text-align: right;\">\n",
       "      <th></th>\n",
       "      <th>title</th>\n",
       "      <th>abstract</th>\n",
       "      <th>publish_time</th>\n",
       "      <th>url</th>\n",
       "      <th>authors</th>\n",
       "      <th>words</th>\n",
       "    </tr>\n",
       "  </thead>\n",
       "  <tbody>\n",
       "    <tr>\n",
       "      <th>26195</th>\n",
       "      <td>Hemodialysis with Cohort Isolation to Prevent ...</td>\n",
       "      <td>BACKGROUND Health care-associated infections d...</td>\n",
       "      <td>2020-06-01</td>\n",
       "      <td>https://doi.org/10.1681/asn.2020040461; https:...</td>\n",
       "      <td>Cho, Jang-Hee; Kang, Seok Hui; Park, Hayne Cho...</td>\n",
       "      <td>[BACKGROUND, Health, care, associated, infecti...</td>\n",
       "    </tr>\n",
       "    <tr>\n",
       "      <th>35874</th>\n",
       "      <td>A cluster of tertiary transmissions of 2019 no...</td>\n",
       "      <td>Background/Aims As the global impact of the no...</td>\n",
       "      <td>2020-06-09</td>\n",
       "      <td>https://doi.org/10.3904/kjim.2020.122; https:/...</td>\n",
       "      <td>Kim, Nam Joong; Choe, Pyoeng Gyun; Park, Sang-...</td>\n",
       "      <td>[Background, Aims, As, the, global, impact, of...</td>\n",
       "    </tr>\n",
       "    <tr>\n",
       "      <th>75914</th>\n",
       "      <td>Strategies to reduce person-to-person transmis...</td>\n",
       "      <td>During the Escherichia coli O157:H7 outbreak i...</td>\n",
       "      <td>2007</td>\n",
       "      <td>https://www.ncbi.nlm.nih.gov/pubmed/17553224/</td>\n",
       "      <td>Seto, Edmund Y W; Soller, Jeffrey A; Colford, ...</td>\n",
       "      <td>[During, the, Escherichia, coli, O157, H7, out...</td>\n",
       "    </tr>\n",
       "    <tr>\n",
       "      <th>117905</th>\n",
       "      <td>Management of inpatients exposed to an outbrea...</td>\n",
       "      <td>This is a prospective observational study of a...</td>\n",
       "      <td>2004-09-30</td>\n",
       "      <td>https://www.sciencedirect.com/science/article/...</td>\n",
       "      <td>Tan, Y.-M.; Chow, P.K.H.; Tan, B.-H.; Kurup, A...</td>\n",
       "      <td>[This, is, a, prospective, observational, stud...</td>\n",
       "    </tr>\n",
       "    <tr>\n",
       "      <th>122702</th>\n",
       "      <td>Interventions to mitigate early spread of SARS...</td>\n",
       "      <td>BACKGROUND: Since the coronavirus disease 2019...</td>\n",
       "      <td>2020-03-23</td>\n",
       "      <td>https://api.elsevier.com/content/article/pii/S...</td>\n",
       "      <td>Koo, Joel R; Cook, Alex R; Park, Minah; Sun, Y...</td>\n",
       "      <td>[BACKGROUND, Since, the, coronavirus, disease,...</td>\n",
       "    </tr>\n",
       "  </tbody>\n",
       "</table>\n",
       "</div>"
      ],
      "text/plain": [
       "                                                    title  \\\n",
       "26195   Hemodialysis with Cohort Isolation to Prevent ...   \n",
       "35874   A cluster of tertiary transmissions of 2019 no...   \n",
       "75914   Strategies to reduce person-to-person transmis...   \n",
       "117905  Management of inpatients exposed to an outbrea...   \n",
       "122702  Interventions to mitigate early spread of SARS...   \n",
       "\n",
       "                                                 abstract publish_time  \\\n",
       "26195   BACKGROUND Health care-associated infections d...   2020-06-01   \n",
       "35874   Background/Aims As the global impact of the no...   2020-06-09   \n",
       "75914   During the Escherichia coli O157:H7 outbreak i...         2007   \n",
       "117905  This is a prospective observational study of a...   2004-09-30   \n",
       "122702  BACKGROUND: Since the coronavirus disease 2019...   2020-03-23   \n",
       "\n",
       "                                                      url  \\\n",
       "26195   https://doi.org/10.1681/asn.2020040461; https:...   \n",
       "35874   https://doi.org/10.3904/kjim.2020.122; https:/...   \n",
       "75914       https://www.ncbi.nlm.nih.gov/pubmed/17553224/   \n",
       "117905  https://www.sciencedirect.com/science/article/...   \n",
       "122702  https://api.elsevier.com/content/article/pii/S...   \n",
       "\n",
       "                                                  authors  \\\n",
       "26195   Cho, Jang-Hee; Kang, Seok Hui; Park, Hayne Cho...   \n",
       "35874   Kim, Nam Joong; Choe, Pyoeng Gyun; Park, Sang-...   \n",
       "75914   Seto, Edmund Y W; Soller, Jeffrey A; Colford, ...   \n",
       "117905  Tan, Y.-M.; Chow, P.K.H.; Tan, B.-H.; Kurup, A...   \n",
       "122702  Koo, Joel R; Cook, Alex R; Park, Minah; Sun, Y...   \n",
       "\n",
       "                                                    words  \n",
       "26195   [BACKGROUND, Health, care, associated, infecti...  \n",
       "35874   [Background, Aims, As, the, global, impact, of...  \n",
       "75914   [During, the, Escherichia, coli, O157, H7, out...  \n",
       "117905  [This, is, a, prospective, observational, stud...  \n",
       "122702  [BACKGROUND, Since, the, coronavirus, disease,...  "
      ]
     },
     "execution_count": 72,
     "metadata": {},
     "output_type": "execute_result"
    }
   ],
   "source": [
    "#Articles that we have\n",
    "Q6.head(5)"
   ]
  },
  {
   "cell_type": "markdown",
   "metadata": {},
   "source": [
    "Online Search"
   ]
  },
  {
   "cell_type": "code",
   "execution_count": 73,
   "metadata": {
    "scrolled": true
   },
   "outputs": [
    {
     "name": "stdout",
     "output_type": "stream",
     "text": [
      "https://www.who.int/news-room/commentaries/detail/transmission-of-sars-cov-2-implications-for-infection-prevention-precautions\n",
      "https://www.who.int/docs/default-source/coronaviruse/covid-strategy-update-14april2020.pdf?sfvrsn=29da3ba0_19\n",
      "https://www.cdc.gov/coronavirus/2019-ncov/php/contact-tracing/strategies-to-reduce-spread.html\n",
      "https://www.cdc.gov/coronavirus/2019-ncov/hcp/guidance-home-care.html\n",
      "https://www.thelancet.com/journals/lanpub/article/PIIS2468-2667(20)30073-6/fulltext\n",
      "https://www.thelancet.com/journals/langlo/article/PIIS2214-109X(20)30074-7/fulltext\n",
      "https://www.cebm.net/covid-19/what-is-the-evidence-to-support-the-2-metre-social-distancing-rule-to-reduce-covid-19-transmission/\n",
      "https://www.ncbi.nlm.nih.gov/books/NBK209585/\n",
      "https://www.canada.ca/en/public-health/services/diseases/2019-novel-coronavirus-infection/prevention-risks.html\n",
      "https://www.healthypeople.gov/2020/topics-objectives/topic/hiv\n",
      "http://www.ecdc.europa.eu/sites/default/files/documents/covid-19-rapid-risk-assessment-coronavirus-disease-2019-eighth-update-8-april-2020.pdf\n",
      "https://www.ecdc.europa.eu/sites/default/files/documents/RRA-seventh-update-Outbreak-of-coronavirus-disease-COVID-19.pdf\n",
      "https://www.uptodate.com/contents/coronavirus-disease-2019-covid-19-infection-control-in-health-care-and-home-settings\n",
      "https://www.hiv.gov/federal-response/federal-activities-agencies/hiv-prevention-activities\n",
      "https://www.oecd.org/coronavirus/policy-responses/testing-for-covid-19-a-way-to-lift-confinement-restrictions-89756248/\n",
      "https://www.medscape.com/viewarticle/558112\n",
      "https://www.sciencedirect.com/science/article/pii/S0160412020317876\n",
      "https://jasn.asnjournals.org/content/31/7/1398\n",
      "https://www.avert.org/professionals/hiv-programming/prevention/overview\n",
      "https://onlinelibrary.wiley.com/doi/full/10.1002/jmv.25750\n"
     ]
    }
   ],
   "source": [
    "try: \n",
    "    from googlesearch import search \n",
    "except ImportError:  \n",
    "    print(\"Error/Not found\") \n",
    "### Browsing the sourses using different search terms: \n",
    "search6_1 = \"corona Effectiveness of strategy prevent secondary transmission\"\n",
    "\n",
    "\n",
    "##limit to the first 10 relevant links:\n",
    "for a in search(search6_1, tld=\"co.in\", num=20, stop=20, pause=2): \n",
    "    print(a)\n"
   ]
  },
  {
   "cell_type": "markdown",
   "metadata": {},
   "source": [
    "# 7/ Seasonality of transmission\n"
   ]
  },
  {
   "cell_type": "code",
   "execution_count": 76,
   "metadata": {},
   "outputs": [],
   "source": [
    "#Create different sets with specialized terms  from our questions \n",
    "Q7_a = tablesAbstract[tablesAbstract['abstract'].str.contains(' transmission')]\n",
    "Q7_b = Q7_a[Q7_a['abstract'].str.contains('seasonality')]"
   ]
  },
  {
   "cell_type": "code",
   "execution_count": 77,
   "metadata": {},
   "outputs": [
    {
     "data": {
      "text/plain": [
       "(38, 6)"
      ]
     },
     "execution_count": 77,
     "metadata": {},
     "output_type": "execute_result"
    }
   ],
   "source": [
    "#Concatenitng the dataframes into one table per question and dropping null value \n",
    "Q7 = pd.concat([Q7_b])\n",
    "Q7.dropna(inplace=True)\n",
    "Q7.shape"
   ]
  },
  {
   "cell_type": "code",
   "execution_count": 79,
   "metadata": {},
   "outputs": [
    {
     "data": {
      "text/html": [
       "<div>\n",
       "<style scoped>\n",
       "    .dataframe tbody tr th:only-of-type {\n",
       "        vertical-align: middle;\n",
       "    }\n",
       "\n",
       "    .dataframe tbody tr th {\n",
       "        vertical-align: top;\n",
       "    }\n",
       "\n",
       "    .dataframe thead th {\n",
       "        text-align: right;\n",
       "    }\n",
       "</style>\n",
       "<table border=\"1\" class=\"dataframe\">\n",
       "  <thead>\n",
       "    <tr style=\"text-align: right;\">\n",
       "      <th></th>\n",
       "      <th>title</th>\n",
       "      <th>abstract</th>\n",
       "      <th>publish_time</th>\n",
       "      <th>url</th>\n",
       "      <th>authors</th>\n",
       "      <th>words</th>\n",
       "    </tr>\n",
       "  </thead>\n",
       "  <tbody>\n",
       "    <tr>\n",
       "      <th>1838</th>\n",
       "      <td>Environmental Conditions Affect Exhalation of ...</td>\n",
       "      <td>The seasonality of influenza virus infections ...</td>\n",
       "      <td>2015-05-13</td>\n",
       "      <td>https://www.ncbi.nlm.nih.gov/pmc/articles/PMC4...</td>\n",
       "      <td>Gustin, Kortney M.; Belser, Jessica A.; Veguil...</td>\n",
       "      <td>[The, seasonality, of, influenza, virus, infec...</td>\n",
       "    </tr>\n",
       "    <tr>\n",
       "      <th>2989</th>\n",
       "      <td>Comparative epidemiology of poliovirus transmi...</td>\n",
       "      <td>Understanding the determinants of polio transm...</td>\n",
       "      <td>2017-12-12</td>\n",
       "      <td>https://www.ncbi.nlm.nih.gov/pmc/articles/PMC5...</td>\n",
       "      <td>Noori, Navideh; Drake, John M.; Rohani, Pejman</td>\n",
       "      <td>[Understanding, the, determinants, of, polio, ...</td>\n",
       "    </tr>\n",
       "    <tr>\n",
       "      <th>4841</th>\n",
       "      <td>Studying the recovery procedure for the time-d...</td>\n",
       "      <td>Determining the time-dependent transmission fu...</td>\n",
       "      <td>2012-06-20</td>\n",
       "      <td>https://www.ncbi.nlm.nih.gov/pmc/articles/PMC7...</td>\n",
       "      <td>Mummert, Anna</td>\n",
       "      <td>[Determining, the, time, dependent, transmissi...</td>\n",
       "    </tr>\n",
       "    <tr>\n",
       "      <th>8955</th>\n",
       "      <td>The seasonality of rhinovirus infections and i...</td>\n",
       "      <td>Background: Rhinoviruses are the most common c...</td>\n",
       "      <td>2003-02-03</td>\n",
       "      <td>https://www.ncbi.nlm.nih.gov/pmc/articles/PMC7...</td>\n",
       "      <td>Monto, Arnold S.</td>\n",
       "      <td>[Background, Rhinoviruses, are, the, most, com...</td>\n",
       "    </tr>\n",
       "    <tr>\n",
       "      <th>12589</th>\n",
       "      <td>Emerging and Reemerging Infectious Diseases: B...</td>\n",
       "      <td>Understanding factors responsible for reemerge...</td>\n",
       "      <td>2005-10-31</td>\n",
       "      <td>https://www.ncbi.nlm.nih.gov/pmc/articles/PMC7...</td>\n",
       "      <td>Wilcox, Bruce A.; Colwell, Rita R.</td>\n",
       "      <td>[Understanding, factors, responsible, for, ree...</td>\n",
       "    </tr>\n",
       "  </tbody>\n",
       "</table>\n",
       "</div>"
      ],
      "text/plain": [
       "                                                   title  \\\n",
       "1838   Environmental Conditions Affect Exhalation of ...   \n",
       "2989   Comparative epidemiology of poliovirus transmi...   \n",
       "4841   Studying the recovery procedure for the time-d...   \n",
       "8955   The seasonality of rhinovirus infections and i...   \n",
       "12589  Emerging and Reemerging Infectious Diseases: B...   \n",
       "\n",
       "                                                abstract publish_time  \\\n",
       "1838   The seasonality of influenza virus infections ...   2015-05-13   \n",
       "2989   Understanding the determinants of polio transm...   2017-12-12   \n",
       "4841   Determining the time-dependent transmission fu...   2012-06-20   \n",
       "8955   Background: Rhinoviruses are the most common c...   2003-02-03   \n",
       "12589  Understanding factors responsible for reemerge...   2005-10-31   \n",
       "\n",
       "                                                     url  \\\n",
       "1838   https://www.ncbi.nlm.nih.gov/pmc/articles/PMC4...   \n",
       "2989   https://www.ncbi.nlm.nih.gov/pmc/articles/PMC5...   \n",
       "4841   https://www.ncbi.nlm.nih.gov/pmc/articles/PMC7...   \n",
       "8955   https://www.ncbi.nlm.nih.gov/pmc/articles/PMC7...   \n",
       "12589  https://www.ncbi.nlm.nih.gov/pmc/articles/PMC7...   \n",
       "\n",
       "                                                 authors  \\\n",
       "1838   Gustin, Kortney M.; Belser, Jessica A.; Veguil...   \n",
       "2989      Noori, Navideh; Drake, John M.; Rohani, Pejman   \n",
       "4841                                       Mummert, Anna   \n",
       "8955                                    Monto, Arnold S.   \n",
       "12589                 Wilcox, Bruce A.; Colwell, Rita R.   \n",
       "\n",
       "                                                   words  \n",
       "1838   [The, seasonality, of, influenza, virus, infec...  \n",
       "2989   [Understanding, the, determinants, of, polio, ...  \n",
       "4841   [Determining, the, time, dependent, transmissi...  \n",
       "8955   [Background, Rhinoviruses, are, the, most, com...  \n",
       "12589  [Understanding, factors, responsible, for, ree...  "
      ]
     },
     "execution_count": 79,
     "metadata": {},
     "output_type": "execute_result"
    }
   ],
   "source": [
    "#Articles that we have\n",
    "Q7.head(5)"
   ]
  },
  {
   "cell_type": "markdown",
   "metadata": {},
   "source": [
    "Online Search"
   ]
  },
  {
   "cell_type": "code",
   "execution_count": 81,
   "metadata": {
    "scrolled": true
   },
   "outputs": [
    {
     "name": "stdout",
     "output_type": "stream",
     "text": [
      "https://www.healio.com/news/infectious-disease/20200501/seasonality-will-eventually-play-a-role-in-covid19-transmission\n",
      "https://coronavirusexplained.ukri.org/en/article/und0009/\n",
      "https://jamanetwork.com/journals/jamanetworkopen/fullarticle/2767010\n",
      "https://directorsblog.nih.gov/2020/06/02/will-warm-weather-slow-spread-of-novel-coronavirus/\n",
      "https://www.infectiousdiseaseadvisor.com/home/topics/covid19/will-the-change-of-seasons-affect-the-covid-19-pandemic/\n",
      "https://academic.oup.com/jid/article/doi/10.1093/infdis/jiaa345/5860444\n",
      "https://www.sciencedaily.com/releases/2020/04/200407164949.htm\n",
      "https://www.cebm.net/study/covid-19-seasonal-coronaviruses-and-establishing-the-context-for-covid-19-emergence/\n",
      "https://www.precisionvaccinations.com/study-finds-coronaviruses-are-sharply-seasonal\n",
      "https://ccdd.hsph.harvard.edu/will-covid-19-go-away-on-its-own-in-warmer-weather/\n",
      "https://www.medrxiv.org/content/10.1101/2020.05.15.20103416v1\n",
      "https://thehill.com/changing-america/well-being/prevention-cures/494536-what-we-know-about-potential-seasonality-and\n",
      "https://wellcomeopenresearch.org/articles/5-145\n",
      "https://www.washingtonpost.com/health/summer-weather-could-help-fight-coronavirus-spread-but-wont-halt-the-pandemic/2020/05/15/70ee90e2-95f6-11ea-9f5e-56d8239bf9ad_story.html\n",
      "https://www.ecdc.europa.eu/en/covid-19/latest-evidence\n",
      "https://www.ecdc.europa.eu/en/covid-19/latest-evidence/coronaviruses\n",
      "https://smw.ch/article/doi/smw.2020.20224\n",
      "https://www1.racgp.org.au/newsgp/clinical/evidence-suggests-pandemic-coronavirus-may-be-seas\n",
      "https://www.npr.org/sections/goatsandsoda/2020/04/09/830297538/scientists-try-to-figure-out-if-summer-will-slow-the-spread-of-covid-19\n",
      "https://blogs.scientificamerican.com/observations/one-key-factor-in-whether-covid-19-will-wane-this-summer/\n"
     ]
    }
   ],
   "source": [
    "try: \n",
    "    from googlesearch import search \n",
    "except ImportError:  \n",
    "    print(\"Error/Not found\") \n",
    "### Browsing the sourses using different search terms: \n",
    "search7_1 = \"corona Seasonality of transmission\"\n",
    "\n",
    "\n",
    "##limit to the first 10 relevant links:\n",
    "for a in search(search7_1, tld=\"co.in\", num=20, stop=20, pause=2): \n",
    "    print(a)\n"
   ]
  },
  {
   "cell_type": "markdown",
   "metadata": {},
   "source": [
    "# 8/ How does temperature and humidity affect the transmission of 2019-nCoV?\n"
   ]
  },
  {
   "cell_type": "code",
   "execution_count": 82,
   "metadata": {},
   "outputs": [],
   "source": [
    "#Create different sets with specialized terms  from our questions \n",
    "Q8_a = tablesAbstract[tablesAbstract['abstract'].str.contains('transmission')]\n",
    "Q8_b = Q8_a[Q8_a['abstract'].str.contains('temperature','humidity')]"
   ]
  },
  {
   "cell_type": "code",
   "execution_count": 86,
   "metadata": {},
   "outputs": [
    {
     "data": {
      "text/plain": [
       "(273, 6)"
      ]
     },
     "execution_count": 86,
     "metadata": {},
     "output_type": "execute_result"
    }
   ],
   "source": [
    "#Concatenitng the dataframes into one table per question and dropping null value \n",
    "Q8 = pd.concat([Q8_b])\n",
    "Q8.dropna(inplace=True)\n",
    "Q8.shape"
   ]
  },
  {
   "cell_type": "code",
   "execution_count": 87,
   "metadata": {},
   "outputs": [
    {
     "data": {
      "text/html": [
       "<div>\n",
       "<style scoped>\n",
       "    .dataframe tbody tr th:only-of-type {\n",
       "        vertical-align: middle;\n",
       "    }\n",
       "\n",
       "    .dataframe tbody tr th {\n",
       "        vertical-align: top;\n",
       "    }\n",
       "\n",
       "    .dataframe thead th {\n",
       "        text-align: right;\n",
       "    }\n",
       "</style>\n",
       "<table border=\"1\" class=\"dataframe\">\n",
       "  <thead>\n",
       "    <tr style=\"text-align: right;\">\n",
       "      <th></th>\n",
       "      <th>title</th>\n",
       "      <th>abstract</th>\n",
       "      <th>publish_time</th>\n",
       "      <th>url</th>\n",
       "      <th>authors</th>\n",
       "      <th>words</th>\n",
       "    </tr>\n",
       "  </thead>\n",
       "  <tbody>\n",
       "    <tr>\n",
       "      <th>240</th>\n",
       "      <td>Avian Influenza Virus Glycoproteins Restrict V...</td>\n",
       "      <td>Transmission of avian influenza viruses from b...</td>\n",
       "      <td>2009-05-15</td>\n",
       "      <td>https://www.ncbi.nlm.nih.gov/pmc/articles/PMC2...</td>\n",
       "      <td>Scull, Margaret A.; Gillim-Ross, Laura; Santos...</td>\n",
       "      <td>[Transmission, of, avian, influenza, viruses, ...</td>\n",
       "    </tr>\n",
       "    <tr>\n",
       "      <th>688</th>\n",
       "      <td>Survival of Influenza A(H1N1) on Materials Fou...</td>\n",
       "      <td>BACKGROUND: The majority of influenza transmis...</td>\n",
       "      <td>2011-11-22</td>\n",
       "      <td>https://www.ncbi.nlm.nih.gov/pmc/articles/PMC3...</td>\n",
       "      <td>Greatorex, Jane S.; Digard, Paul; Curran, Mart...</td>\n",
       "      <td>[BACKGROUND, The, majority, of, influenza, tra...</td>\n",
       "    </tr>\n",
       "    <tr>\n",
       "      <th>747</th>\n",
       "      <td>Effect modification of environmental factors o...</td>\n",
       "      <td>BACKGROUND: Environmental factors have been as...</td>\n",
       "      <td>2011-12-14</td>\n",
       "      <td>https://www.ncbi.nlm.nih.gov/pmc/articles/PMC3...</td>\n",
       "      <td>Yang, Lin; Chen, Ping Yan; He, Jian Feng; Chan...</td>\n",
       "      <td>[BACKGROUND, Environmental, factors, have, bee...</td>\n",
       "    </tr>\n",
       "    <tr>\n",
       "      <th>831</th>\n",
       "      <td>Distribution and Risk Factors of 2009 Pandemic...</td>\n",
       "      <td>Data from all reported cases of 2009 pandemic ...</td>\n",
       "      <td>2012-05-01</td>\n",
       "      <td>https://www.ncbi.nlm.nih.gov/pmc/articles/PMC3...</td>\n",
       "      <td>Fang, Li-Qun; Wang, Li-Ping; de Vlas, Sake J.;...</td>\n",
       "      <td>[Data, from, all, reported, cases, of, 2009, p...</td>\n",
       "    </tr>\n",
       "    <tr>\n",
       "      <th>845</th>\n",
       "      <td>Use of controlled low dose gamma irradiation t...</td>\n",
       "      <td>As reviewed here, numerous biomechanical and c...</td>\n",
       "      <td>2011-03-23</td>\n",
       "      <td>https://www.ncbi.nlm.nih.gov/pmc/articles/PMC3...</td>\n",
       "      <td>Samsell, Brian J.; Moore, Mark A.</td>\n",
       "      <td>[As, reviewed, here, numerous, biomechanical, ...</td>\n",
       "    </tr>\n",
       "  </tbody>\n",
       "</table>\n",
       "</div>"
      ],
      "text/plain": [
       "                                                 title  \\\n",
       "240  Avian Influenza Virus Glycoproteins Restrict V...   \n",
       "688  Survival of Influenza A(H1N1) on Materials Fou...   \n",
       "747  Effect modification of environmental factors o...   \n",
       "831  Distribution and Risk Factors of 2009 Pandemic...   \n",
       "845  Use of controlled low dose gamma irradiation t...   \n",
       "\n",
       "                                              abstract publish_time  \\\n",
       "240  Transmission of avian influenza viruses from b...   2009-05-15   \n",
       "688  BACKGROUND: The majority of influenza transmis...   2011-11-22   \n",
       "747  BACKGROUND: Environmental factors have been as...   2011-12-14   \n",
       "831  Data from all reported cases of 2009 pandemic ...   2012-05-01   \n",
       "845  As reviewed here, numerous biomechanical and c...   2011-03-23   \n",
       "\n",
       "                                                   url  \\\n",
       "240  https://www.ncbi.nlm.nih.gov/pmc/articles/PMC2...   \n",
       "688  https://www.ncbi.nlm.nih.gov/pmc/articles/PMC3...   \n",
       "747  https://www.ncbi.nlm.nih.gov/pmc/articles/PMC3...   \n",
       "831  https://www.ncbi.nlm.nih.gov/pmc/articles/PMC3...   \n",
       "845  https://www.ncbi.nlm.nih.gov/pmc/articles/PMC3...   \n",
       "\n",
       "                                               authors  \\\n",
       "240  Scull, Margaret A.; Gillim-Ross, Laura; Santos...   \n",
       "688  Greatorex, Jane S.; Digard, Paul; Curran, Mart...   \n",
       "747  Yang, Lin; Chen, Ping Yan; He, Jian Feng; Chan...   \n",
       "831  Fang, Li-Qun; Wang, Li-Ping; de Vlas, Sake J.;...   \n",
       "845                  Samsell, Brian J.; Moore, Mark A.   \n",
       "\n",
       "                                                 words  \n",
       "240  [Transmission, of, avian, influenza, viruses, ...  \n",
       "688  [BACKGROUND, The, majority, of, influenza, tra...  \n",
       "747  [BACKGROUND, Environmental, factors, have, bee...  \n",
       "831  [Data, from, all, reported, cases, of, 2009, p...  \n",
       "845  [As, reviewed, here, numerous, biomechanical, ...  "
      ]
     },
     "execution_count": 87,
     "metadata": {},
     "output_type": "execute_result"
    }
   ],
   "source": [
    "#Articles that we have\n",
    "Q8.head(5)"
   ]
  },
  {
   "cell_type": "markdown",
   "metadata": {},
   "source": [
    "Online Search"
   ]
  },
  {
   "cell_type": "code",
   "execution_count": 88,
   "metadata": {
    "scrolled": true
   },
   "outputs": [
    {
     "name": "stdout",
     "output_type": "stream",
     "text": [
      "https://www.ncbi.nlm.nih.gov/pmc/articles/PMC7187824/\n",
      "https://www.ncbi.nlm.nih.gov/pmc/articles/PMC7187824/#ab0005title\n",
      "https://www.ncbi.nlm.nih.gov/pmc/articles/PMC7187824/#s0005title\n",
      "https://www.ncbi.nlm.nih.gov/pmc/articles/PMC7187824/#s0040title\n",
      "https://www.ncbi.nlm.nih.gov/pmc/articles/PMC7187824/#s0060title\n",
      "https://www.hindawi.com/journals/av/2011/734690/\n",
      "https://www.hindawi.com/journals/av/2011/734690/#abstract\n",
      "https://www.hindawi.com/journals/av/2011/734690/#introduction\n",
      "https://www.hindawi.com/journals/av/2011/734690/#material-and-methods\n",
      "https://www.hindawi.com/journals/av/2011/734690/#results\n",
      "https://www.medicalnewstoday.com/articles/how-humidity-may-affect-covid-19-outcome\n",
      "https://www.frontiersin.org/articles/10.3389/fpubh.2020.00240/full\n",
      "https://jamanetwork.com/journals/jamanetworkopen/fullarticle/2767010\n",
      "https://www.cebm.net/covid-19/do-weather-conditions-influence-the-transmission-of-the-coronavirus-sars-cov-2/\n",
      "https://acoem.org/COVID-19-Resource-Center/COVID-19-Q-A-Forum/Does-extreme-heat-and-humidity-impact-the-SARS-CoV-2-viral-transmission\n",
      "https://science.thewire.in/environment/coronavirus-transmission-temperature-humidity/\n",
      "https://www.medrxiv.org/content/10.1101/2020.04.14.20064923v1.full.pdf\n",
      "https://duux.com/en/the-effects-of-temperature-and-humidity-on-covid-19-corona-virus/\n",
      "https://www.biospace.com/article/hot-humid-weather-slows-sars-cov-2-transmission-but-won-t-end-the-crisis/\n",
      "https://medicalxpress.com/news/2020-06-humidity-linked-covid-.html\n"
     ]
    }
   ],
   "source": [
    "try: \n",
    "    from googlesearch import search \n",
    "except ImportError:  \n",
    "    print(\"Error/Not found\") \n",
    "### Browsing the sourses using different search terms: \n",
    "search8_1 = \"corona how temperature and humidity affect the transmission\"\n",
    "\n",
    "\n",
    "##limit to the first 10 relevant links:\n",
    "for a in search(search8_1, tld=\"co.in\", num=20, stop=20, pause=2): \n",
    "    print(a)\n"
   ]
  },
  {
   "cell_type": "markdown",
   "metadata": {},
   "source": [
    "# 9/ Significant changes in transmissibility in changing seasons?\n"
   ]
  },
  {
   "cell_type": "code",
   "execution_count": 94,
   "metadata": {},
   "outputs": [],
   "source": [
    "#Create different sets with specialized terms  from our questions \n",
    "Q9_a = tablesAbstract[tablesAbstract['abstract'].str.contains('transmissibility')]\n",
    "Q9_b = Q9_a[Q9_a['abstract'].str.contains('seasons')]"
   ]
  },
  {
   "cell_type": "code",
   "execution_count": 95,
   "metadata": {},
   "outputs": [
    {
     "data": {
      "text/plain": [
       "(2, 6)"
      ]
     },
     "execution_count": 95,
     "metadata": {},
     "output_type": "execute_result"
    }
   ],
   "source": [
    "#Concatenitng the dataframes into one table per question and dropping null value \n",
    "Q9 = pd.concat([Q9_b])\n",
    "Q9.dropna(inplace=True)\n",
    "Q9.shape"
   ]
  },
  {
   "cell_type": "code",
   "execution_count": 96,
   "metadata": {},
   "outputs": [
    {
     "data": {
      "text/html": [
       "<div>\n",
       "<style scoped>\n",
       "    .dataframe tbody tr th:only-of-type {\n",
       "        vertical-align: middle;\n",
       "    }\n",
       "\n",
       "    .dataframe tbody tr th {\n",
       "        vertical-align: top;\n",
       "    }\n",
       "\n",
       "    .dataframe thead th {\n",
       "        text-align: right;\n",
       "    }\n",
       "</style>\n",
       "<table border=\"1\" class=\"dataframe\">\n",
       "  <thead>\n",
       "    <tr style=\"text-align: right;\">\n",
       "      <th></th>\n",
       "      <th>title</th>\n",
       "      <th>abstract</th>\n",
       "      <th>publish_time</th>\n",
       "      <th>url</th>\n",
       "      <th>authors</th>\n",
       "      <th>words</th>\n",
       "    </tr>\n",
       "  </thead>\n",
       "  <tbody>\n",
       "    <tr>\n",
       "      <th>129422</th>\n",
       "      <td>Arboviral diseases and COVID‐19 in Brazil: Con...</td>\n",
       "      <td>Brazil is witnessing a massive increase of COV...</td>\n",
       "      <td>2020-05-28</td>\n",
       "      <td>https://www.ncbi.nlm.nih.gov/pubmed/32462677/;...</td>\n",
       "      <td>Ribeiro, Victoria Stadler Tasca; Telles, João ...</td>\n",
       "      <td>[Brazil, is, witnessing, a, massive, increase,...</td>\n",
       "    </tr>\n",
       "    <tr>\n",
       "      <th>160144</th>\n",
       "      <td>Frequency of D222G haemagglutinin mutant of pa...</td>\n",
       "      <td>BACKGROUND: The novel pandemic A (H1N1) pdm09 ...</td>\n",
       "      <td>2013-07-31</td>\n",
       "      <td>https://www.ncbi.nlm.nih.gov/pubmed/23902660/;...</td>\n",
       "      <td>Moussi, Awatef El; Kacem, Mohamed Ali Ben Hadj...</td>\n",
       "      <td>[BACKGROUND, The, novel, pandemic, A, H1N1, pd...</td>\n",
       "    </tr>\n",
       "  </tbody>\n",
       "</table>\n",
       "</div>"
      ],
      "text/plain": [
       "                                                    title  \\\n",
       "129422  Arboviral diseases and COVID‐19 in Brazil: Con...   \n",
       "160144  Frequency of D222G haemagglutinin mutant of pa...   \n",
       "\n",
       "                                                 abstract publish_time  \\\n",
       "129422  Brazil is witnessing a massive increase of COV...   2020-05-28   \n",
       "160144  BACKGROUND: The novel pandemic A (H1N1) pdm09 ...   2013-07-31   \n",
       "\n",
       "                                                      url  \\\n",
       "129422  https://www.ncbi.nlm.nih.gov/pubmed/32462677/;...   \n",
       "160144  https://www.ncbi.nlm.nih.gov/pubmed/23902660/;...   \n",
       "\n",
       "                                                  authors  \\\n",
       "129422  Ribeiro, Victoria Stadler Tasca; Telles, João ...   \n",
       "160144  Moussi, Awatef El; Kacem, Mohamed Ali Ben Hadj...   \n",
       "\n",
       "                                                    words  \n",
       "129422  [Brazil, is, witnessing, a, massive, increase,...  \n",
       "160144  [BACKGROUND, The, novel, pandemic, A, H1N1, pd...  "
      ]
     },
     "execution_count": 96,
     "metadata": {},
     "output_type": "execute_result"
    }
   ],
   "source": [
    "#Articles that we have\n",
    "Q9.head(5)"
   ]
  },
  {
   "cell_type": "markdown",
   "metadata": {},
   "source": [
    "Online Search"
   ]
  },
  {
   "cell_type": "code",
   "execution_count": 97,
   "metadata": {
    "scrolled": true
   },
   "outputs": [
    {
     "name": "stdout",
     "output_type": "stream",
     "text": [
      "https://www.wired.com/story/how-might-the-change-of-seasons-affect-covid-19/\n",
      "https://www.cebm.net/covid-19/do-weather-conditions-influence-the-transmission-of-the-coronavirus-sars-cov-2/\n",
      "https://academic.oup.com/jid/article/doi/10.1093/infdis/jiaa345/5860444\n",
      "https://www.washingtonpost.com/weather/2020/03/11/coronavirus-may-have-seasonal-cycle-that-doesnt-mean-it-will-go-away-this-summer-experts-warn/\n",
      "https://theconversation.com/will-warmer-weather-stop-the-spread-of-coronavirus-133208\n",
      "https://www.nationalgeographic.com/science/2020/04/worries-mount-that-southern-winter-may-tighten-coronavirus-grip/\n",
      "https://www.npr.org/sections/goatsandsoda/2020/04/09/830297538/scientists-try-to-figure-out-if-summer-will-slow-the-spread-of-covid-19\n",
      "https://smw.ch/article/doi/smw.2020.20224\n",
      "https://www.ncbi.nlm.nih.gov/pmc/articles/PMC7164482/\n",
      "https://www.cdc.gov/coronavirus/2019-ncov/hcp/planning-scenarios.html\n",
      "https://www.bostonherald.com/2020/03/09/how-bostons-climate-could-impact-the-spread-of-the-coronavirus/\n",
      "https://www.bostonherald.com/2020/06/24/no-warmer-summer-weather-isnt-stopping-coronavirus-spread/\n",
      "https://sites.nationalacademies.org/BasedOnScience/change-in-seasons-may-or-may-not-affect-the-spread-of-COVID-19/index.htm\n",
      "https://jamanetwork.com/journals/jamanetworkopen/fullarticle/2767010\n",
      "https://www.dw.com/en/will-warmer-weather-stop-the-spread-of-the-coronavirus/a-52570290\n",
      "https://www.medrxiv.org/content/10.1101/2020.02.13.20022806v2.full.pdf\n",
      "https://www.thelancet.com/journals/lanpub/article/PIIS2468-2667(20)30090-6/fulltext\n",
      "https://www.sciencedirect.com/science/article/pii/S1198743X14610910\n",
      "https://www.ecdc.europa.eu/en/covid-19/latest-evidence/coronaviruses\n",
      "https://www.hopkinsmedicine.org/health/conditions-and-diseases/coronavirus/coronavirus-disease-2019-vs-the-flu\n"
     ]
    }
   ],
   "source": [
    "try: \n",
    "    from googlesearch import search \n",
    "except ImportError:  \n",
    "    print(\"Error/Not found\") \n",
    "### Browsing the sourses using different search terms: \n",
    "search9_1 = \"corona transmissibility in changing seasons?\"\n",
    "\n",
    "\n",
    "##limit to the first 10 relevant links:\n",
    "for a in search(search9_1, tld=\"co.in\", num=20, stop=20, pause=2): \n",
    "    print(a)\n"
   ]
  }
 ],
 "metadata": {
  "kernelspec": {
   "display_name": "Python 3",
   "language": "python",
   "name": "python3"
  },
  "language_info": {
   "codemirror_mode": {
    "name": "ipython",
    "version": 3
   },
   "file_extension": ".py",
   "mimetype": "text/x-python",
   "name": "python",
   "nbconvert_exporter": "python",
   "pygments_lexer": "ipython3",
   "version": "3.7.3"
  }
 },
 "nbformat": 4,
 "nbformat_minor": 4
}
