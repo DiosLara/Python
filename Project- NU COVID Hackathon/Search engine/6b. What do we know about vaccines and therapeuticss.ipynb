{
 "cells": [
  {
   "cell_type": "code",
   "execution_count": 1,
   "metadata": {},
   "outputs": [],
   "source": [
    "# Importing the libraries \n",
    "import sys\n",
    "import numpy as np \n",
    "import pandas as pd \n",
    "import os "
   ]
  },
  {
   "cell_type": "markdown",
   "metadata": {},
   "source": [
    "### Table: ABSTRACTS"
   ]
  },
  {
   "cell_type": "code",
   "execution_count": 2,
   "metadata": {},
   "outputs": [
    {
     "name": "stdout",
     "output_type": "stream",
     "text": [
      "The number of articles are: 167470\n"
     ]
    },
    {
     "name": "stderr",
     "output_type": "stream",
     "text": [
      "C:\\Users\\HP\\Anaconda3\\lib\\site-packages\\IPython\\core\\interactiveshell.py:3063: DtypeWarning: Columns (5,6,13,14,16) have mixed types.Specify dtype option on import or set low_memory=False.\n",
      "  interactivity=interactivity, compiler=compiler, result=result)\n"
     ]
    }
   ],
   "source": [
    "#Import the information\n",
    "df=pd.read_csv('E:/NorthEastern University/XN-Hackathon Covid/Kaggle Data/metadata.csv') \n",
    "print('The number of articles are:',df.shape[0])"
   ]
  },
  {
   "cell_type": "code",
   "execution_count": 3,
   "metadata": {},
   "outputs": [],
   "source": [
    "#Select only title, abstract, date, link to the article, and authors\n",
    "tablesAbstract= df [['title', 'abstract', 'publish_time', 'url', 'authors']]"
   ]
  },
  {
   "cell_type": "code",
   "execution_count": 4,
   "metadata": {},
   "outputs": [
    {
     "name": "stderr",
     "output_type": "stream",
     "text": [
      "C:\\Users\\HP\\Anaconda3\\lib\\site-packages\\ipykernel_launcher.py:2: SettingWithCopyWarning: \n",
      "A value is trying to be set on a copy of a slice from a DataFrame.\n",
      "Try using .loc[row_indexer,col_indexer] = value instead\n",
      "\n",
      "See the caveats in the documentation: https://pandas.pydata.org/pandas-docs/stable/user_guide/indexing.html#returning-a-view-versus-a-copy\n",
      "  \n"
     ]
    },
    {
     "data": {
      "text/html": [
       "<div>\n",
       "<style scoped>\n",
       "    .dataframe tbody tr th:only-of-type {\n",
       "        vertical-align: middle;\n",
       "    }\n",
       "\n",
       "    .dataframe tbody tr th {\n",
       "        vertical-align: top;\n",
       "    }\n",
       "\n",
       "    .dataframe thead th {\n",
       "        text-align: right;\n",
       "    }\n",
       "</style>\n",
       "<table border=\"1\" class=\"dataframe\">\n",
       "  <thead>\n",
       "    <tr style=\"text-align: right;\">\n",
       "      <th></th>\n",
       "      <th>title</th>\n",
       "      <th>abstract</th>\n",
       "      <th>publish_time</th>\n",
       "      <th>url</th>\n",
       "      <th>authors</th>\n",
       "      <th>words</th>\n",
       "    </tr>\n",
       "  </thead>\n",
       "  <tbody>\n",
       "    <tr>\n",
       "      <th>0</th>\n",
       "      <td>Clinical features of culture-proven Mycoplasma...</td>\n",
       "      <td>OBJECTIVE: This retrospective chart review des...</td>\n",
       "      <td>2001-07-04</td>\n",
       "      <td>https://www.ncbi.nlm.nih.gov/pmc/articles/PMC3...</td>\n",
       "      <td>Madani, Tariq A; Al-Ghamdi, Aisha A</td>\n",
       "      <td>[OBJECTIVE, This, retrospective, chart, review...</td>\n",
       "    </tr>\n",
       "    <tr>\n",
       "      <th>1</th>\n",
       "      <td>Nitric oxide: a pro-inflammatory mediator in l...</td>\n",
       "      <td>Inflammatory diseases of the respiratory tract...</td>\n",
       "      <td>2000-08-15</td>\n",
       "      <td>https://www.ncbi.nlm.nih.gov/pmc/articles/PMC5...</td>\n",
       "      <td>Vliet, Albert van der; Eiserich, Jason P; Cros...</td>\n",
       "      <td>[Inflammatory, diseases, of, the, respiratory,...</td>\n",
       "    </tr>\n",
       "    <tr>\n",
       "      <th>2</th>\n",
       "      <td>Surfactant protein-D and pulmonary host defense</td>\n",
       "      <td>Surfactant protein-D (SP-D) participates in th...</td>\n",
       "      <td>2000-08-25</td>\n",
       "      <td>https://www.ncbi.nlm.nih.gov/pmc/articles/PMC5...</td>\n",
       "      <td>Crouch, Erika C</td>\n",
       "      <td>[Surfactant, protein, D, SP, D, participates, ...</td>\n",
       "    </tr>\n",
       "  </tbody>\n",
       "</table>\n",
       "</div>"
      ],
      "text/plain": [
       "                                               title  \\\n",
       "0  Clinical features of culture-proven Mycoplasma...   \n",
       "1  Nitric oxide: a pro-inflammatory mediator in l...   \n",
       "2    Surfactant protein-D and pulmonary host defense   \n",
       "\n",
       "                                            abstract publish_time  \\\n",
       "0  OBJECTIVE: This retrospective chart review des...   2001-07-04   \n",
       "1  Inflammatory diseases of the respiratory tract...   2000-08-15   \n",
       "2  Surfactant protein-D (SP-D) participates in th...   2000-08-25   \n",
       "\n",
       "                                                 url  \\\n",
       "0  https://www.ncbi.nlm.nih.gov/pmc/articles/PMC3...   \n",
       "1  https://www.ncbi.nlm.nih.gov/pmc/articles/PMC5...   \n",
       "2  https://www.ncbi.nlm.nih.gov/pmc/articles/PMC5...   \n",
       "\n",
       "                                             authors  \\\n",
       "0                Madani, Tariq A; Al-Ghamdi, Aisha A   \n",
       "1  Vliet, Albert van der; Eiserich, Jason P; Cros...   \n",
       "2                                    Crouch, Erika C   \n",
       "\n",
       "                                               words  \n",
       "0  [OBJECTIVE, This, retrospective, chart, review...  \n",
       "1  [Inflammatory, diseases, of, the, respiratory,...  \n",
       "2  [Surfactant, protein, D, SP, D, participates, ...  "
      ]
     },
     "execution_count": 4,
     "metadata": {},
     "output_type": "execute_result"
    }
   ],
   "source": [
    "#Seperate the words in the Abstract columns \n",
    "tablesAbstract['words']=  tablesAbstract.abstract.str.strip().str.split('[\\W_]+')\n",
    "tablesAbstract = tablesAbstract[tablesAbstract.words.str.len() > 0]\n",
    "                                        #rid of all the input that have the Words column less than 0 \n",
    "tablesAbstract.head(3)"
   ]
  },
  {
   "cell_type": "code",
   "execution_count": 5,
   "metadata": {},
   "outputs": [
    {
     "name": "stdout",
     "output_type": "stream",
     "text": [
      "The number of articles after reduction is: 122492\n"
     ]
    }
   ],
   "source": [
    "print('The number of articles after reduction is:', tablesAbstract.shape[0])"
   ]
  },
  {
   "cell_type": "markdown",
   "metadata": {},
   "source": [
    "# ==> We will analyze what the articles available in the dataset and then also search online resources for each questions "
   ]
  },
  {
   "cell_type": "markdown",
   "metadata": {},
   "source": [
    "# -------------------------------------------------------------------------------------------------------------"
   ]
  },
  {
   "cell_type": "markdown",
   "metadata": {},
   "source": [
    "Scraping the web using beautifulsoup4 and Google "
   ]
  },
  {
   "cell_type": "code",
   "execution_count": 6,
   "metadata": {},
   "outputs": [
    {
     "name": "stdout",
     "output_type": "stream",
     "text": [
      "Requirement already satisfied: google in c:\\users\\hp\\anaconda3\\lib\\site-packages (3.0.0)\n",
      "Requirement already satisfied: beautifulsoup4 in c:\\users\\hp\\anaconda3\\lib\\site-packages (from google) (4.9.0)\n",
      "Requirement already satisfied: soupsieve>1.2 in c:\\users\\hp\\anaconda3\\lib\\site-packages (from beautifulsoup4->google) (2.0)\n",
      "Note: you may need to restart the kernel to use updated packages.\n"
     ]
    }
   ],
   "source": [
    "pip install google"
   ]
  },
  {
   "cell_type": "code",
   "execution_count": 7,
   "metadata": {},
   "outputs": [
    {
     "name": "stdout",
     "output_type": "stream",
     "text": [
      "Requirement already satisfied: beautifulsoup4 in c:\\users\\hp\\anaconda3\\lib\\site-packages (4.9.0)\n",
      "Requirement already satisfied: soupsieve>1.2 in c:\\users\\hp\\anaconda3\\lib\\site-packages (from beautifulsoup4) (2.0)\n",
      "Note: you may need to restart the kernel to use updated packages.\n"
     ]
    }
   ],
   "source": [
    "pip install beautifulsoup4"
   ]
  },
  {
   "cell_type": "markdown",
   "metadata": {},
   "source": [
    "# 1/ Effectiveness of drugs being developed and tried to treat COVID-19 patients."
   ]
  },
  {
   "cell_type": "code",
   "execution_count": 8,
   "metadata": {},
   "outputs": [],
   "source": [
    "#Create different sets with specialized terms  from our questions \n",
    "Q1_a = tablesAbstract[tablesAbstract['abstract'].str.contains('corona')]\n",
    "Q1_b = Q1_a[Q1_a['abstract'].str.contains('drugs')]\n",
    "Q1_c = Q1_b[Q1_b['abstract'].str.contains('effectiveness')]"
   ]
  },
  {
   "cell_type": "code",
   "execution_count": 9,
   "metadata": {},
   "outputs": [
    {
     "data": {
      "text/plain": [
       "(42, 6)"
      ]
     },
     "execution_count": 9,
     "metadata": {},
     "output_type": "execute_result"
    }
   ],
   "source": [
    "#Concatenitng the dataframes into one table per question and dropping null value \n",
    "Q1 = pd.concat([Q1_c])\n",
    "Q1.dropna(inplace=True)\n",
    "Q1.shape"
   ]
  },
  {
   "cell_type": "code",
   "execution_count": 10,
   "metadata": {},
   "outputs": [
    {
     "data": {
      "text/html": [
       "<div>\n",
       "<style scoped>\n",
       "    .dataframe tbody tr th:only-of-type {\n",
       "        vertical-align: middle;\n",
       "    }\n",
       "\n",
       "    .dataframe tbody tr th {\n",
       "        vertical-align: top;\n",
       "    }\n",
       "\n",
       "    .dataframe thead th {\n",
       "        text-align: right;\n",
       "    }\n",
       "</style>\n",
       "<table border=\"1\" class=\"dataframe\">\n",
       "  <thead>\n",
       "    <tr style=\"text-align: right;\">\n",
       "      <th></th>\n",
       "      <th>title</th>\n",
       "      <th>abstract</th>\n",
       "      <th>publish_time</th>\n",
       "      <th>url</th>\n",
       "      <th>authors</th>\n",
       "      <th>words</th>\n",
       "    </tr>\n",
       "  </thead>\n",
       "  <tbody>\n",
       "    <tr>\n",
       "      <th>2791</th>\n",
       "      <td>36th International Symposium on Intensive Care...</td>\n",
       "      <td>P001 - Sepsis impairs the capillary response w...</td>\n",
       "      <td>2016-04-20</td>\n",
       "      <td>https://www.ncbi.nlm.nih.gov/pmc/articles/PMC5...</td>\n",
       "      <td>Bateman, R. M.; Sharpe, M. D.; Jagger, J. E.; ...</td>\n",
       "      <td>[P001, Sepsis, impairs, the, capillary, respon...</td>\n",
       "    </tr>\n",
       "    <tr>\n",
       "      <th>24613</th>\n",
       "      <td>Emerging Treatment and Prevention Strategies a...</td>\n",
       "      <td>Patients with novel coronavirus disease 2019 (...</td>\n",
       "      <td>2020-05-16</td>\n",
       "      <td>https://www.ncbi.nlm.nih.gov/pmc/articles/PMC7...</td>\n",
       "      <td>Jha, Ashish K.; Kumar, Ravikant; Goenka, Mahes...</td>\n",
       "      <td>[Patients, with, novel, coronavirus, disease, ...</td>\n",
       "    </tr>\n",
       "    <tr>\n",
       "      <th>28578</th>\n",
       "      <td>Efficacy of chloroquine and hydroxychloroquine...</td>\n",
       "      <td>OBJECTIVE The novel severe acute respiratory s...</td>\n",
       "      <td>2020-04-01</td>\n",
       "      <td>https://doi.org/10.26355/eurrev_202004_21038; ...</td>\n",
       "      <td>Meo, S A; Klonoff, D C; Akram, J</td>\n",
       "      <td>[OBJECTIVE, The, novel, severe, acute, respira...</td>\n",
       "    </tr>\n",
       "    <tr>\n",
       "      <th>29081</th>\n",
       "      <td>Hydroxychloroquine and covid-19.</td>\n",
       "      <td>Hydroxychloroquine and chloroquine are medicat...</td>\n",
       "      <td>2020-04-15</td>\n",
       "      <td>https://doi.org/10.1136/postgradmedj-2020-1377...</td>\n",
       "      <td>Sinha, Neeraj; Balayla, Galit</td>\n",
       "      <td>[Hydroxychloroquine, and, chloroquine, are, me...</td>\n",
       "    </tr>\n",
       "    <tr>\n",
       "      <th>29659</th>\n",
       "      <td>Targeting SARS-CoV-2 Receptors as a Means for ...</td>\n",
       "      <td>The ongoing severe acute respiratory syndrome ...</td>\n",
       "      <td>2020-06-03</td>\n",
       "      <td>https://doi.org/10.1080/22221751.2020.1776161;...</td>\n",
       "      <td>Gelman, Ram; Bayatra, Areej; Kessler, Asa; Sch...</td>\n",
       "      <td>[The, ongoing, severe, acute, respiratory, syn...</td>\n",
       "    </tr>\n",
       "  </tbody>\n",
       "</table>\n",
       "</div>"
      ],
      "text/plain": [
       "                                                   title  \\\n",
       "2791   36th International Symposium on Intensive Care...   \n",
       "24613  Emerging Treatment and Prevention Strategies a...   \n",
       "28578  Efficacy of chloroquine and hydroxychloroquine...   \n",
       "29081                   Hydroxychloroquine and covid-19.   \n",
       "29659  Targeting SARS-CoV-2 Receptors as a Means for ...   \n",
       "\n",
       "                                                abstract publish_time  \\\n",
       "2791   P001 - Sepsis impairs the capillary response w...   2016-04-20   \n",
       "24613  Patients with novel coronavirus disease 2019 (...   2020-05-16   \n",
       "28578  OBJECTIVE The novel severe acute respiratory s...   2020-04-01   \n",
       "29081  Hydroxychloroquine and chloroquine are medicat...   2020-04-15   \n",
       "29659  The ongoing severe acute respiratory syndrome ...   2020-06-03   \n",
       "\n",
       "                                                     url  \\\n",
       "2791   https://www.ncbi.nlm.nih.gov/pmc/articles/PMC5...   \n",
       "24613  https://www.ncbi.nlm.nih.gov/pmc/articles/PMC7...   \n",
       "28578  https://doi.org/10.26355/eurrev_202004_21038; ...   \n",
       "29081  https://doi.org/10.1136/postgradmedj-2020-1377...   \n",
       "29659  https://doi.org/10.1080/22221751.2020.1776161;...   \n",
       "\n",
       "                                                 authors  \\\n",
       "2791   Bateman, R. M.; Sharpe, M. D.; Jagger, J. E.; ...   \n",
       "24613  Jha, Ashish K.; Kumar, Ravikant; Goenka, Mahes...   \n",
       "28578                   Meo, S A; Klonoff, D C; Akram, J   \n",
       "29081                      Sinha, Neeraj; Balayla, Galit   \n",
       "29659  Gelman, Ram; Bayatra, Areej; Kessler, Asa; Sch...   \n",
       "\n",
       "                                                   words  \n",
       "2791   [P001, Sepsis, impairs, the, capillary, respon...  \n",
       "24613  [Patients, with, novel, coronavirus, disease, ...  \n",
       "28578  [OBJECTIVE, The, novel, severe, acute, respira...  \n",
       "29081  [Hydroxychloroquine, and, chloroquine, are, me...  \n",
       "29659  [The, ongoing, severe, acute, respiratory, syn...  "
      ]
     },
     "execution_count": 10,
     "metadata": {},
     "output_type": "execute_result"
    }
   ],
   "source": [
    "#Articles that we have\n",
    "Q1.head(5)"
   ]
  },
  {
   "cell_type": "markdown",
   "metadata": {},
   "source": [
    "Online Search "
   ]
  },
  {
   "cell_type": "code",
   "execution_count": 11,
   "metadata": {},
   "outputs": [
    {
     "name": "stdout",
     "output_type": "stream",
     "text": [
      "https://www.nytimes.com/interactive/2020/science/coronavirus-drugs-treatments.html\n",
      "https://www.fda.gov/news-events/press-announcements/coronavirus-covid-19-update-fda-warns-newly-discovered-potential-drug-interaction-may-reduce\n",
      "https://www.statnews.com/2020/04/16/early-peek-at-data-on-gilead-coronavirus-drug-suggests-patients-are-responding-to-treatment/\n",
      "https://www.statnews.com/2020/03/16/remdesivir-surges-ahead-against-coronavirus/\n",
      "https://www.statnews.com/2020/04/06/trump-hydroxychloroquine-fact-check/\n",
      "https://www.statnews.com/staff/adam-feuerstein/\n",
      "https://www.statnews.com/staff/matthew-herper/\n",
      "https://www.washingtonpost.com/health/2020/07/16/hydroxychloroquine-studies-show-drug-is-not-effective-early-treatment-mild-covid-19/\n",
      "https://www.voanews.com/covid-19-pandemic/us-secures-drug-believed-effective-covid-19-treatment\n",
      "https://www.bbc.com/news/health-52354520\n"
     ]
    }
   ],
   "source": [
    "try: \n",
    "    from googlesearch import search \n",
    "except ImportError:  \n",
    "    print(\"Error/Not found\") \n",
    "### Browsing the sourses using different search terms: \n",
    "search1_1 = \"corona effectiveness of drug treatment\"\n",
    "\n",
    "\n",
    "##limit to the first 10 relevant links:\n",
    "for a in search(search1_1, tld=\"co.in\", num=10, stop=10, pause=2): \n",
    "    print(a)"
   ]
  },
  {
   "cell_type": "markdown",
   "metadata": {},
   "source": [
    "# 2/ Methods evaluating potential complication of Antibody-Dependent Enhancement (ADE) in vaccine recipients."
   ]
  },
  {
   "cell_type": "code",
   "execution_count": 22,
   "metadata": {},
   "outputs": [],
   "source": [
    "#Create different sets with specialized terms  from our questions \n",
    "Q2_a = tablesAbstract[tablesAbstract['abstract'].str.contains('corona')]\n",
    "Q2_b = Q2_a[Q2_a['abstract'].str.contains('antibody-dependent enhancement')]\n",
    "Q2_c = Q2_a[Q2_a['abstract'].str.contains('ADE')]"
   ]
  },
  {
   "cell_type": "code",
   "execution_count": 23,
   "metadata": {},
   "outputs": [
    {
     "data": {
      "text/plain": [
       "(75, 6)"
      ]
     },
     "execution_count": 23,
     "metadata": {},
     "output_type": "execute_result"
    }
   ],
   "source": [
    "#Concatenitng the dataframes into one table per question and dropping null value \n",
    "Q2 = pd.concat([Q2_b,Q2_c])\n",
    "Q2.dropna(inplace=True)\n",
    "Q2.shape"
   ]
  },
  {
   "cell_type": "code",
   "execution_count": 24,
   "metadata": {},
   "outputs": [
    {
     "data": {
      "text/html": [
       "<div>\n",
       "<style scoped>\n",
       "    .dataframe tbody tr th:only-of-type {\n",
       "        vertical-align: middle;\n",
       "    }\n",
       "\n",
       "    .dataframe tbody tr th {\n",
       "        vertical-align: top;\n",
       "    }\n",
       "\n",
       "    .dataframe thead th {\n",
       "        text-align: right;\n",
       "    }\n",
       "</style>\n",
       "<table border=\"1\" class=\"dataframe\">\n",
       "  <thead>\n",
       "    <tr style=\"text-align: right;\">\n",
       "      <th></th>\n",
       "      <th>title</th>\n",
       "      <th>abstract</th>\n",
       "      <th>publish_time</th>\n",
       "      <th>url</th>\n",
       "      <th>authors</th>\n",
       "      <th>words</th>\n",
       "    </tr>\n",
       "  </thead>\n",
       "  <tbody>\n",
       "    <tr>\n",
       "      <th>41450</th>\n",
       "      <td>Anti-severe acute respiratory syndrome coronav...</td>\n",
       "      <td>Public health measures successfully contained ...</td>\n",
       "      <td>2011</td>\n",
       "      <td>https://doi.org/10.1128/jvi.00671-11; https://...</td>\n",
       "      <td>Jaume, Martial; Yip, Ming S; Cheung, Chung Y; ...</td>\n",
       "      <td>[Public, health, measures, successfully, conta...</td>\n",
       "    </tr>\n",
       "    <tr>\n",
       "      <th>54528</th>\n",
       "      <td>Human polyclonal immunoglobulin G from transch...</td>\n",
       "      <td>As of 13 November 2015, 1618 laboratory-confir...</td>\n",
       "      <td>2016</td>\n",
       "      <td>https://doi.org/10.1126/scitranslmed.aaf1061; ...</td>\n",
       "      <td>Luke, Thomas; Wu, Hua; Zhao, Jincun; Channappa...</td>\n",
       "      <td>[As, of, 13, November, 2015, 1618, laboratory,...</td>\n",
       "    </tr>\n",
       "    <tr>\n",
       "      <th>64454</th>\n",
       "      <td>The Emerging Role of Convalescent Plasma in th...</td>\n",
       "      <td>Various agents are currently under evaluation ...</td>\n",
       "      <td>2020</td>\n",
       "      <td>https://doi.org/10.1097/hs9.0000000000000409</td>\n",
       "      <td>Psaltopoulou, Theodora; Sergentanis, Theodoros...</td>\n",
       "      <td>[Various, agents, are, currently, under, evalu...</td>\n",
       "    </tr>\n",
       "    <tr>\n",
       "      <th>68798</th>\n",
       "      <td>Immunization with the receptor–binding domain ...</td>\n",
       "      <td>Recently emerged severe acute respiratory synd...</td>\n",
       "      <td>2020-05-21</td>\n",
       "      <td>https://doi.org/10.1101/2020.05.21.107565</td>\n",
       "      <td>Zang, Jinkai; Gu, Chenjian; Zhou, Bingjie; Zha...</td>\n",
       "      <td>[Recently, emerged, severe, acute, respiratory...</td>\n",
       "    </tr>\n",
       "    <tr>\n",
       "      <th>71714</th>\n",
       "      <td>The SARS-CoV-2 receptor-binding domain elicits...</td>\n",
       "      <td>The SARS-coronavirus 2 (SARS-CoV-2) spike (S) ...</td>\n",
       "      <td>2020-04-11</td>\n",
       "      <td>https://doi.org/10.1101/2020.04.10.036418</td>\n",
       "      <td>Quinlan, Brian D.; Mou, Huihui; Zhang, Lizhou;...</td>\n",
       "      <td>[The, SARS, coronavirus, 2, SARS, CoV, 2, spik...</td>\n",
       "    </tr>\n",
       "  </tbody>\n",
       "</table>\n",
       "</div>"
      ],
      "text/plain": [
       "                                                   title  \\\n",
       "41450  Anti-severe acute respiratory syndrome coronav...   \n",
       "54528  Human polyclonal immunoglobulin G from transch...   \n",
       "64454  The Emerging Role of Convalescent Plasma in th...   \n",
       "68798  Immunization with the receptor–binding domain ...   \n",
       "71714  The SARS-CoV-2 receptor-binding domain elicits...   \n",
       "\n",
       "                                                abstract publish_time  \\\n",
       "41450  Public health measures successfully contained ...         2011   \n",
       "54528  As of 13 November 2015, 1618 laboratory-confir...         2016   \n",
       "64454  Various agents are currently under evaluation ...         2020   \n",
       "68798  Recently emerged severe acute respiratory synd...   2020-05-21   \n",
       "71714  The SARS-coronavirus 2 (SARS-CoV-2) spike (S) ...   2020-04-11   \n",
       "\n",
       "                                                     url  \\\n",
       "41450  https://doi.org/10.1128/jvi.00671-11; https://...   \n",
       "54528  https://doi.org/10.1126/scitranslmed.aaf1061; ...   \n",
       "64454       https://doi.org/10.1097/hs9.0000000000000409   \n",
       "68798          https://doi.org/10.1101/2020.05.21.107565   \n",
       "71714          https://doi.org/10.1101/2020.04.10.036418   \n",
       "\n",
       "                                                 authors  \\\n",
       "41450  Jaume, Martial; Yip, Ming S; Cheung, Chung Y; ...   \n",
       "54528  Luke, Thomas; Wu, Hua; Zhao, Jincun; Channappa...   \n",
       "64454  Psaltopoulou, Theodora; Sergentanis, Theodoros...   \n",
       "68798  Zang, Jinkai; Gu, Chenjian; Zhou, Bingjie; Zha...   \n",
       "71714  Quinlan, Brian D.; Mou, Huihui; Zhang, Lizhou;...   \n",
       "\n",
       "                                                   words  \n",
       "41450  [Public, health, measures, successfully, conta...  \n",
       "54528  [As, of, 13, November, 2015, 1618, laboratory,...  \n",
       "64454  [Various, agents, are, currently, under, evalu...  \n",
       "68798  [Recently, emerged, severe, acute, respiratory...  \n",
       "71714  [The, SARS, coronavirus, 2, SARS, CoV, 2, spik...  "
      ]
     },
     "execution_count": 24,
     "metadata": {},
     "output_type": "execute_result"
    }
   ],
   "source": [
    "#Articles that we have\n",
    "Q2.head(5)"
   ]
  },
  {
   "cell_type": "markdown",
   "metadata": {},
   "source": [
    "Online Search"
   ]
  },
  {
   "cell_type": "code",
   "execution_count": 26,
   "metadata": {},
   "outputs": [
    {
     "name": "stdout",
     "output_type": "stream",
     "text": [
      "https://www.the-scientist.com/news-opinion/covid-19-vaccine-researchers-mindful-of-immune-enhancement-67576\n",
      "https://www.nature.com/articles/d41587-020-00016-w\n",
      "https://www.nature.com/articles/s41587-020-0577-1\n",
      "https://smw.ch/article/doi/smw.2020.20249\n",
      "https://smw.ch/article/doi/smw.2020.20249#f8879a4077a3682c548fd5399bf74c191f601475\n",
      "https://smw.ch/article/doi/smw.2020.20249#e6e7f8441cf4e36b65e0ddead19ba0e06bf856fa\n",
      "https://en.wikipedia.org/wiki/Antibody-dependent_enhancement\n",
      "https://www.pnas.org/content/117/15/8218\n",
      "https://www.frontiersin.org/articles/10.3389/fimmu.2020.01120/full\n",
      "https://www.ncbi.nlm.nih.gov/pmc/articles/PMC7102551/\n",
      "https://www.ncbi.nlm.nih.gov/pmc/articles/PMC7274027/\n",
      "https://www.liebertpub.com/doi/10.1089/088282403763635465\n",
      "https://advances.massgeneral.org/research-and-innovation/article.aspx?id=1186\n",
      "https://jvi.asm.org/content/85/20/10582\n",
      "https://jvi.asm.org/content/82/5/2140\n",
      "https://europepmc.org/article/med/25073113\n",
      "https://www.hkmj.org/abstracts/v22n3%20Suppl%204/25.htm\n",
      "https://www.scripps.edu/news-and-events/press-room/2020/20200519-wilson-covid19.html\n",
      "https://rybicki.blog/2020/04/11/antibody-dependent-enhancement-in-coronaviruses/\n",
      "https://www.researchgate.net/publication/10778362_Antibody-Dependent_Enhancement_of_Virus_Infection_and_Disease\n"
     ]
    }
   ],
   "source": [
    "try: \n",
    "    from googlesearch import search \n",
    "except ImportError:  \n",
    "    print(\"Error/Not found\") \n",
    "### Browsing the sourses using different search terms: \n",
    "search2_1 = \"corona methods of antibody-dependent enhancement\"\n",
    "\n",
    "\n",
    "##limit to the first 10 relevant links:\n",
    "for a in search(search2_1, tld=\"co.in\", num=20, stop=20, pause=2): \n",
    "    print(a)"
   ]
  },
  {
   "cell_type": "markdown",
   "metadata": {},
   "source": [
    "# 3/ Exploration of use of best animal models and their predictive value for a human vaccine."
   ]
  },
  {
   "cell_type": "code",
   "execution_count": 37,
   "metadata": {},
   "outputs": [],
   "source": [
    "#Create different sets with specialized terms  from our questions \n",
    "Q3_a = tablesAbstract[tablesAbstract['abstract'].str.contains('animal models')]\n",
    "Q3_b = Q3_a[Q3_a['abstract'].str.contains('corona')]\n",
    "Q3_c = Q3_b[Q3_b['abstract'].str.contains('vaccine')]"
   ]
  },
  {
   "cell_type": "code",
   "execution_count": 38,
   "metadata": {},
   "outputs": [
    {
     "data": {
      "text/plain": [
       "(66, 6)"
      ]
     },
     "execution_count": 38,
     "metadata": {},
     "output_type": "execute_result"
    }
   ],
   "source": [
    "#Concatenitng the dataframes into one table per question and dropping null value \n",
    "Q3 = pd.concat([Q3_c])\n",
    "Q3.dropna(inplace=True)\n",
    "Q3.shape"
   ]
  },
  {
   "cell_type": "code",
   "execution_count": 39,
   "metadata": {},
   "outputs": [
    {
     "data": {
      "text/html": [
       "<div>\n",
       "<style scoped>\n",
       "    .dataframe tbody tr th:only-of-type {\n",
       "        vertical-align: middle;\n",
       "    }\n",
       "\n",
       "    .dataframe tbody tr th {\n",
       "        vertical-align: top;\n",
       "    }\n",
       "\n",
       "    .dataframe thead th {\n",
       "        text-align: right;\n",
       "    }\n",
       "</style>\n",
       "<table border=\"1\" class=\"dataframe\">\n",
       "  <thead>\n",
       "    <tr style=\"text-align: right;\">\n",
       "      <th></th>\n",
       "      <th>title</th>\n",
       "      <th>abstract</th>\n",
       "      <th>publish_time</th>\n",
       "      <th>url</th>\n",
       "      <th>authors</th>\n",
       "      <th>words</th>\n",
       "    </tr>\n",
       "  </thead>\n",
       "  <tbody>\n",
       "    <tr>\n",
       "      <th>15453</th>\n",
       "      <td>Structure, Immunopathogenesis and Vaccines Aga...</td>\n",
       "      <td>A new disease, severe atypical respiratory syn...</td>\n",
       "      <td>2008</td>\n",
       "      <td>https://www.ncbi.nlm.nih.gov/pmc/articles/PMC7...</td>\n",
       "      <td>Srivastava, Indresh K.; Kan, Elaine; Srivastav...</td>\n",
       "      <td>[A, new, disease, severe, atypical, respirator...</td>\n",
       "    </tr>\n",
       "    <tr>\n",
       "      <th>16214</th>\n",
       "      <td>Host Immune Responses to SARS Coronavirus in H...</td>\n",
       "      <td>The severe acute respiratory syndrome (SARS) i...</td>\n",
       "      <td>2009-07-22</td>\n",
       "      <td>https://www.ncbi.nlm.nih.gov/pmc/articles/PMC7...</td>\n",
       "      <td>Li, Chris Ka-fai; Xu, Xiaoning</td>\n",
       "      <td>[The, severe, acute, respiratory, syndrome, SA...</td>\n",
       "    </tr>\n",
       "    <tr>\n",
       "      <th>16470</th>\n",
       "      <td>Recombinant Live Vaccines to Protect Against t...</td>\n",
       "      <td>The severe acute respiratory syndrome (SARS) c...</td>\n",
       "      <td>2010-07-07</td>\n",
       "      <td>https://www.ncbi.nlm.nih.gov/pmc/articles/PMC7...</td>\n",
       "      <td>Enjuanes, Luis; Nieto-Torres, Jose L.; Jimenez...</td>\n",
       "      <td>[The, severe, acute, respiratory, syndrome, SA...</td>\n",
       "    </tr>\n",
       "    <tr>\n",
       "      <th>26928</th>\n",
       "      <td>Vaccines for SARS-CoV-2: Lessons from Other Co...</td>\n",
       "      <td>The emergence of the strain of coronavirus SAR...</td>\n",
       "      <td>2020-04-23</td>\n",
       "      <td>https://doi.org/10.1007/s40121-020-00300-x; ht...</td>\n",
       "      <td>Padron-Regalado, Eriko</td>\n",
       "      <td>[The, emergence, of, the, strain, of, coronavi...</td>\n",
       "    </tr>\n",
       "    <tr>\n",
       "      <th>33644</th>\n",
       "      <td>Progress of Middle East respiratory syndrome c...</td>\n",
       "      <td>INTRODUCTION Middle East respiratory syndrome ...</td>\n",
       "      <td>2017</td>\n",
       "      <td>https://doi.org/10.1080/13543776.2017.1281248;...</td>\n",
       "      <td>Choi, Jiwon; Kim, Mi-Gyeong; Oh, Yu-Kyoung; Ki...</td>\n",
       "      <td>[INTRODUCTION, Middle, East, respiratory, synd...</td>\n",
       "    </tr>\n",
       "  </tbody>\n",
       "</table>\n",
       "</div>"
      ],
      "text/plain": [
       "                                                   title  \\\n",
       "15453  Structure, Immunopathogenesis and Vaccines Aga...   \n",
       "16214  Host Immune Responses to SARS Coronavirus in H...   \n",
       "16470  Recombinant Live Vaccines to Protect Against t...   \n",
       "26928  Vaccines for SARS-CoV-2: Lessons from Other Co...   \n",
       "33644  Progress of Middle East respiratory syndrome c...   \n",
       "\n",
       "                                                abstract publish_time  \\\n",
       "15453  A new disease, severe atypical respiratory syn...         2008   \n",
       "16214  The severe acute respiratory syndrome (SARS) i...   2009-07-22   \n",
       "16470  The severe acute respiratory syndrome (SARS) c...   2010-07-07   \n",
       "26928  The emergence of the strain of coronavirus SAR...   2020-04-23   \n",
       "33644  INTRODUCTION Middle East respiratory syndrome ...         2017   \n",
       "\n",
       "                                                     url  \\\n",
       "15453  https://www.ncbi.nlm.nih.gov/pmc/articles/PMC7...   \n",
       "16214  https://www.ncbi.nlm.nih.gov/pmc/articles/PMC7...   \n",
       "16470  https://www.ncbi.nlm.nih.gov/pmc/articles/PMC7...   \n",
       "26928  https://doi.org/10.1007/s40121-020-00300-x; ht...   \n",
       "33644  https://doi.org/10.1080/13543776.2017.1281248;...   \n",
       "\n",
       "                                                 authors  \\\n",
       "15453  Srivastava, Indresh K.; Kan, Elaine; Srivastav...   \n",
       "16214                     Li, Chris Ka-fai; Xu, Xiaoning   \n",
       "16470  Enjuanes, Luis; Nieto-Torres, Jose L.; Jimenez...   \n",
       "26928                             Padron-Regalado, Eriko   \n",
       "33644  Choi, Jiwon; Kim, Mi-Gyeong; Oh, Yu-Kyoung; Ki...   \n",
       "\n",
       "                                                   words  \n",
       "15453  [A, new, disease, severe, atypical, respirator...  \n",
       "16214  [The, severe, acute, respiratory, syndrome, SA...  \n",
       "16470  [The, severe, acute, respiratory, syndrome, SA...  \n",
       "26928  [The, emergence, of, the, strain, of, coronavi...  \n",
       "33644  [INTRODUCTION, Middle, East, respiratory, synd...  "
      ]
     },
     "execution_count": 39,
     "metadata": {},
     "output_type": "execute_result"
    }
   ],
   "source": [
    "#Articles that we have\n",
    "Q3.head(5)"
   ]
  },
  {
   "cell_type": "markdown",
   "metadata": {},
   "source": [
    "Online Search"
   ]
  },
  {
   "cell_type": "code",
   "execution_count": 41,
   "metadata": {},
   "outputs": [
    {
     "name": "stdout",
     "output_type": "stream",
     "text": [
      "https://www.medscape.com/viewarticle/577231_4\n",
      "https://news.harvard.edu/gazette/story/2020/05/vaccines-found-that-may-protect-against-covid-19-in-animal-models/\n",
      "https://www.ncbi.nlm.nih.gov/pmc/articles/PMC7130694/\n",
      "https://www.sciencemag.org/news/2020/04/mice-hamsters-ferrets-monkeys-which-lab-animals-can-help-defeat-new-coronavirus\n",
      "https://www.tandfonline.com/doi/full/10.1080/22221751.2020.1764871\n",
      "https://www.tandfonline.com/doi/full/10.1080/22221751.2020.1764871#abstract\n",
      "https://www.tandfonline.com/doi/full/10.1080/22221751.2020.1764871#_i3\n",
      "https://www.tandfonline.com/doi/full/10.1080/22221751.2020.1764871#_i6\n",
      "https://www.tandfonline.com/doi/full/10.1080/22221751.2020.1764871#_i10\n",
      "https://www.who.int/blueprint/priority-diseases/key-action/WHO-ad-hoc-Animal-Model-Working-Group_Summary.pdf?ua=1\n",
      "https://medicalxpress.com/news/2020-06-covid-mouse-drugs-vaccines.html\n",
      "https://academic.oup.com/ilarjournal/article/56/1/53/661264\n",
      "https://www.statnews.com/2020/03/05/coronavirus-labs-scramble-to-find-right-animals-for-covid-19-studies/\n",
      "https://link.springer.com/article/10.1007/s12038-020-00053-2\n",
      "https://www.news-medical.net/news/20200519/New-animal-model-for-COVID-19.aspx\n",
      "https://medicine.wustl.edu/news/covid-19-mouse-model-will-speed-search-for-drugs-vaccines/\n",
      "https://www.cell.com/trends/microbiology/fulltext/S0966-842X(06)00127-2\n",
      "https://www.sciencedirect.com/science/article/pii/S2352771416300829\n",
      "https://www.sciencedirect.com/science/article/abs/pii/S187962571500098X\n",
      "https://www.scientificamerican.com/article/from-hamsters-to-baboons-the-animals-helping-scientists-understand-the-coronavirus/\n"
     ]
    }
   ],
   "source": [
    "try: \n",
    "    from googlesearch import search \n",
    "except ImportError:  \n",
    "    print(\"Error/Not found\") \n",
    "### Browsing the sourses using different search terms: \n",
    "search3_1 = \"corona  animal models for human vaccine\"\n",
    "\n",
    "\n",
    "##limit to the first 10 relevant links:\n",
    "for a in search(search3_1, tld=\"co.in\", num=20, stop=20, pause=2): \n",
    "    print(a)"
   ]
  },
  {
   "cell_type": "markdown",
   "metadata": {},
   "source": [
    "# 4/ Alternative models to aid decision makers in determining how to prioritize and distribute scarce, newly proven therapeutics as production ramps up. This could include identifying approaches for expanding production capacity to ensure equitable and timely distribution to populations in need."
   ]
  },
  {
   "cell_type": "code",
   "execution_count": 49,
   "metadata": {},
   "outputs": [],
   "source": [
    "#Create different sets with specialized terms  from our questions \n",
    "Q4_a = tablesAbstract[tablesAbstract['abstract'].str.contains('corona')]\n",
    "Q4_b = Q4_a[Q4_a['abstract'].str.contains('therapeutic')]\n",
    "Q4_c = Q4_b[Q4_b['abstract'].str.contains('distribute')]"
   ]
  },
  {
   "cell_type": "code",
   "execution_count": 50,
   "metadata": {},
   "outputs": [
    {
     "data": {
      "text/plain": [
       "(7, 6)"
      ]
     },
     "execution_count": 50,
     "metadata": {},
     "output_type": "execute_result"
    }
   ],
   "source": [
    "#Concatenitng the dataframes into one table per question and dropping null value \n",
    "Q4 = pd.concat([Q4_c])\n",
    "Q4.dropna(inplace=True)\n",
    "Q4.shape"
   ]
  },
  {
   "cell_type": "code",
   "execution_count": 51,
   "metadata": {},
   "outputs": [
    {
     "data": {
      "text/html": [
       "<div>\n",
       "<style scoped>\n",
       "    .dataframe tbody tr th:only-of-type {\n",
       "        vertical-align: middle;\n",
       "    }\n",
       "\n",
       "    .dataframe tbody tr th {\n",
       "        vertical-align: top;\n",
       "    }\n",
       "\n",
       "    .dataframe thead th {\n",
       "        text-align: right;\n",
       "    }\n",
       "</style>\n",
       "<table border=\"1\" class=\"dataframe\">\n",
       "  <thead>\n",
       "    <tr style=\"text-align: right;\">\n",
       "      <th></th>\n",
       "      <th>title</th>\n",
       "      <th>abstract</th>\n",
       "      <th>publish_time</th>\n",
       "      <th>url</th>\n",
       "      <th>authors</th>\n",
       "      <th>words</th>\n",
       "    </tr>\n",
       "  </thead>\n",
       "  <tbody>\n",
       "    <tr>\n",
       "      <th>46111</th>\n",
       "      <td>Activity of and effect of subcutaneous treatme...</td>\n",
       "      <td>Griffithsin (GRFT) is a red-alga-derived lecti...</td>\n",
       "      <td>2014</td>\n",
       "      <td>https://doi.org/10.1128/aac.01407-13; https://...</td>\n",
       "      <td>Barton, Christopher; Kouokam, J Calvin; Lasnik...</td>\n",
       "      <td>[Griffithsin, GRFT, is, a, red, alga, derived,...</td>\n",
       "    </tr>\n",
       "    <tr>\n",
       "      <th>46700</th>\n",
       "      <td>Multistage CT features of coronavirus disease ...</td>\n",
       "      <td>OBJECTIVES To determine imaging features of co...</td>\n",
       "      <td>2020-03-28</td>\n",
       "      <td>https://doi.org/10.11817/j.issn.1672-7347.2020...</td>\n",
       "      <td>Zhong, Zheng; Hu, Ying; Yu, Qizhi; Li, Yuxin; ...</td>\n",
       "      <td>[OBJECTIVES, To, determine, imaging, features,...</td>\n",
       "    </tr>\n",
       "    <tr>\n",
       "      <th>56963</th>\n",
       "      <td>Vascular Endothelial Growth Factor (VEGF) as a...</td>\n",
       "      <td>The coronavirus disease 19 (COVID-19) pandemic...</td>\n",
       "      <td>2020-06-02</td>\n",
       "      <td>https://doi.org/10.1021/acschemneuro.0c00294; ...</td>\n",
       "      <td>Yin, Xi-Xi; Zheng, Xiang-Rong; Peng, Wang; Wu,...</td>\n",
       "      <td>[The, coronavirus, disease, 19, COVID, 19, pan...</td>\n",
       "    </tr>\n",
       "    <tr>\n",
       "      <th>146556</th>\n",
       "      <td>Peptide-Based Membrane Fusion Inhibitors Targe...</td>\n",
       "      <td>Human coronavirus 229E (HCoV-229E) infection i...</td>\n",
       "      <td>2018-02-06</td>\n",
       "      <td>https://doi.org/10.3390/ijms19020487; https://...</td>\n",
       "      <td>Xia, Shuai; Xu, Wei; Wang, Qian; Wang, Cong; H...</td>\n",
       "      <td>[Human, coronavirus, 229E, HCoV, 229E, infecti...</td>\n",
       "    </tr>\n",
       "    <tr>\n",
       "      <th>148627</th>\n",
       "      <td>Angiotensin Converting Enzyme-2 (ACE2) and its...</td>\n",
       "      <td>Angiotensin converting enzyme-2 (ACE2) is a re...</td>\n",
       "      <td>2003</td>\n",
       "      <td>https://doi.org/10.1007/s10989-004-2387-6; htt...</td>\n",
       "      <td>Warner, Fiona J.; Guy, Jodie L.; Lambert, Dan ...</td>\n",
       "      <td>[Angiotensin, converting, enzyme, 2, ACE2, is,...</td>\n",
       "    </tr>\n",
       "  </tbody>\n",
       "</table>\n",
       "</div>"
      ],
      "text/plain": [
       "                                                    title  \\\n",
       "46111   Activity of and effect of subcutaneous treatme...   \n",
       "46700   Multistage CT features of coronavirus disease ...   \n",
       "56963   Vascular Endothelial Growth Factor (VEGF) as a...   \n",
       "146556  Peptide-Based Membrane Fusion Inhibitors Targe...   \n",
       "148627  Angiotensin Converting Enzyme-2 (ACE2) and its...   \n",
       "\n",
       "                                                 abstract publish_time  \\\n",
       "46111   Griffithsin (GRFT) is a red-alga-derived lecti...         2014   \n",
       "46700   OBJECTIVES To determine imaging features of co...   2020-03-28   \n",
       "56963   The coronavirus disease 19 (COVID-19) pandemic...   2020-06-02   \n",
       "146556  Human coronavirus 229E (HCoV-229E) infection i...   2018-02-06   \n",
       "148627  Angiotensin converting enzyme-2 (ACE2) is a re...         2003   \n",
       "\n",
       "                                                      url  \\\n",
       "46111   https://doi.org/10.1128/aac.01407-13; https://...   \n",
       "46700   https://doi.org/10.11817/j.issn.1672-7347.2020...   \n",
       "56963   https://doi.org/10.1021/acschemneuro.0c00294; ...   \n",
       "146556  https://doi.org/10.3390/ijms19020487; https://...   \n",
       "148627  https://doi.org/10.1007/s10989-004-2387-6; htt...   \n",
       "\n",
       "                                                  authors  \\\n",
       "46111   Barton, Christopher; Kouokam, J Calvin; Lasnik...   \n",
       "46700   Zhong, Zheng; Hu, Ying; Yu, Qizhi; Li, Yuxin; ...   \n",
       "56963   Yin, Xi-Xi; Zheng, Xiang-Rong; Peng, Wang; Wu,...   \n",
       "146556  Xia, Shuai; Xu, Wei; Wang, Qian; Wang, Cong; H...   \n",
       "148627  Warner, Fiona J.; Guy, Jodie L.; Lambert, Dan ...   \n",
       "\n",
       "                                                    words  \n",
       "46111   [Griffithsin, GRFT, is, a, red, alga, derived,...  \n",
       "46700   [OBJECTIVES, To, determine, imaging, features,...  \n",
       "56963   [The, coronavirus, disease, 19, COVID, 19, pan...  \n",
       "146556  [Human, coronavirus, 229E, HCoV, 229E, infecti...  \n",
       "148627  [Angiotensin, converting, enzyme, 2, ACE2, is,...  "
      ]
     },
     "execution_count": 51,
     "metadata": {},
     "output_type": "execute_result"
    }
   ],
   "source": [
    "#Articles that we have\n",
    "Q4.head(5)"
   ]
  },
  {
   "cell_type": "markdown",
   "metadata": {},
   "source": [
    "Online Search"
   ]
  },
  {
   "cell_type": "code",
   "execution_count": 53,
   "metadata": {},
   "outputs": [
    {
     "name": "stdout",
     "output_type": "stream",
     "text": [
      "https://www.who.int/teams/blueprint/covid-19\n",
      "https://www.who.int/news-room/detail/13-04-2020-public-statement-for-collaboration-on-covid-19-vaccine-development\n",
      "https://www.who.int/news-room/articles-detail/call-for-interest-in-engagement-of-vaccine-trial-sites-in-evaluation-of-covid19-vaccines-in-adaptive-multi-country-global-solidarity-vaccine-trial\n",
      "https://www.who.int/publications/m/item/2019-novel-coronavirus-overview-of-the-state-of-the-art-and-outline-of-key-knowledge-gaps-slides\n",
      "https://jamanetwork.com/journals/jama/fullarticle/2765944\n",
      "https://www.kaggle.com/allen-institute-for-ai/CORD-19-research-challenge/tasks?taskId=561\n",
      "https://www.forbes.com/sites/giacomotognini/2020/04/01/coronavirus-business-tracker-how-the-private-sector-is-fighting-the-covid-19-pandemic/\n",
      "https://www.axios.com/coronavirus-vaccine-distribution-america-a12c4e95-df80-47f0-beec-d17d7e7657db.html\n",
      "https://www.nih.gov/about-nih/who-we-are/nih-director/testimony-operation-warp-speed-researching-manufacturing-distributing-safe-effective-coronavirus-vaccine\n",
      "https://www.statnews.com/2020/05/23/when-a-covid-19-vaccine-becomes-available-who-should-get-it-first/\n",
      "https://www.fda.gov/drugs/coronavirus-covid-19-drugs/coronavirus-treatment-acceleration-program-ctap\n",
      "https://www.fda.gov/emergency-preparedness-and-response/counterterrorism-and-emerging-threats/coronavirus-disease-2019-covid-19\n",
      "https://phrma.org/en/Coronavirus/PhRMA-Member-Efforts\n",
      "https://www.nejm.org/doi/full/10.1056/nejmsb2005114\n",
      "https://www.doh.wa.gov/Portals/1/Documents/1600/coronavirus/PPEPrioritizationofAllocation.pdf\n",
      "https://hub.jhu.edu/2020/05/28/covid-19-vaccines-and-therapies-bonnie-robeson/\n",
      "https://www.sciencemag.org/news/2020/05/unveiling-warp-speed-white-house-s-america-first-push-coronavirus-vaccine\n",
      "https://www.mckinsey.com/featured-insights/future-of-work/from-surviving-to-thriving-reimagining-the-post-covid-19-return\n",
      "https://republicans-energycommerce.house.gov/wp-content/uploads/2020/06/Second-Wave-Vaccines-and-Therapeutics-7-1-2020-FINAL.pdf\n",
      "https://www.whitehouse.gov/briefings-statements/remarks-president-trump-vice-president-pence-members-coronavirus-task-force-press-briefing-6/\n"
     ]
    }
   ],
   "source": [
    "try: \n",
    "    from googlesearch import search \n",
    "except ImportError:  \n",
    "    print(\"Error/Not found\") \n",
    "### Browsing the sourses using different search terms: \n",
    "search4_1 = \"corona  ways to prioritize and distribute therapeutics\"\n",
    "\n",
    "\n",
    "\n",
    "##limit to the first 10 relevant links:\n",
    "for a in search(search4_1, tld=\"co.in\", num=20, stop=20, pause=2): \n",
    "    print(a)"
   ]
  },
  {
   "cell_type": "markdown",
   "metadata": {},
   "source": [
    "# 5/ Efforts targeted at a universal coronavirus vaccine."
   ]
  },
  {
   "cell_type": "code",
   "execution_count": 54,
   "metadata": {},
   "outputs": [],
   "source": [
    "#Create different sets with specialized terms  from our questions \n",
    "Q5_a = tablesAbstract[tablesAbstract['abstract'].str.contains('corona')]\n",
    "Q5_b = Q5_a[Q5_a['abstract'].str.contains('vaccine')]"
   ]
  },
  {
   "cell_type": "code",
   "execution_count": 55,
   "metadata": {},
   "outputs": [
    {
     "data": {
      "text/plain": [
       "(2020, 6)"
      ]
     },
     "execution_count": 55,
     "metadata": {},
     "output_type": "execute_result"
    }
   ],
   "source": [
    "#Concatenitng the dataframes into one table per question and dropping null value \n",
    "Q5 = pd.concat([Q5_b])\n",
    "Q5.dropna(inplace=True)\n",
    "Q5.shape"
   ]
  },
  {
   "cell_type": "code",
   "execution_count": 56,
   "metadata": {},
   "outputs": [
    {
     "data": {
      "text/html": [
       "<div>\n",
       "<style scoped>\n",
       "    .dataframe tbody tr th:only-of-type {\n",
       "        vertical-align: middle;\n",
       "    }\n",
       "\n",
       "    .dataframe tbody tr th {\n",
       "        vertical-align: top;\n",
       "    }\n",
       "\n",
       "    .dataframe thead th {\n",
       "        text-align: right;\n",
       "    }\n",
       "</style>\n",
       "<table border=\"1\" class=\"dataframe\">\n",
       "  <thead>\n",
       "    <tr style=\"text-align: right;\">\n",
       "      <th></th>\n",
       "      <th>title</th>\n",
       "      <th>abstract</th>\n",
       "      <th>publish_time</th>\n",
       "      <th>url</th>\n",
       "      <th>authors</th>\n",
       "      <th>words</th>\n",
       "    </tr>\n",
       "  </thead>\n",
       "  <tbody>\n",
       "    <tr>\n",
       "      <th>2625</th>\n",
       "      <td>Epitope Addition and Ablation via Manipulation...</td>\n",
       "      <td>Despite the clinical relevance, dengue virus (...</td>\n",
       "      <td>2017-02-22</td>\n",
       "      <td>https://www.ncbi.nlm.nih.gov/pmc/articles/PMC5...</td>\n",
       "      <td>Gallichotte, Emily N.; Menachery, Vineet D.; Y...</td>\n",
       "      <td>[Despite, the, clinical, relevance, dengue, vi...</td>\n",
       "    </tr>\n",
       "    <tr>\n",
       "      <th>4600</th>\n",
       "      <td>Therapeutic strategies in an outbreak scenario...</td>\n",
       "      <td>A novel coronavirus (2019-nCoV) originating in...</td>\n",
       "      <td>2020-02-07</td>\n",
       "      <td>https://www.ncbi.nlm.nih.gov/pmc/articles/PMC7...</td>\n",
       "      <td>Kruse, Robert L.</td>\n",
       "      <td>[A, novel, coronavirus, 2019, nCoV, originatin...</td>\n",
       "    </tr>\n",
       "    <tr>\n",
       "      <th>8686</th>\n",
       "      <td>Mapping of Linear Antigenic Sites on the S Gly...</td>\n",
       "      <td>The elucidation of the antigenic structure of ...</td>\n",
       "      <td>1994-08-01</td>\n",
       "      <td>https://www.ncbi.nlm.nih.gov/pmc/articles/PMC7...</td>\n",
       "      <td>Daniel, Claude; Lacroix, Martial; Talbot, Pier...</td>\n",
       "      <td>[The, elucidation, of, the, antigenic, structu...</td>\n",
       "    </tr>\n",
       "    <tr>\n",
       "      <th>11939</th>\n",
       "      <td>Remdesivir, la esperanza antiviral frente al S...</td>\n",
       "      <td>On December 31, 2019 a pneumonia outbreak caus...</td>\n",
       "      <td>2020-04-01</td>\n",
       "      <td>https://www.ncbi.nlm.nih.gov/pmc/articles/PMC7...</td>\n",
       "      <td>Reina, Jordi</td>\n",
       "      <td>[On, December, 31, 2019, a, pneumonia, outbrea...</td>\n",
       "    </tr>\n",
       "    <tr>\n",
       "      <th>12021</th>\n",
       "      <td>Die Pandemiekatastrophe aus katastrophenrechtl...</td>\n",
       "      <td>The corona pandemic has caused a serious emerg...</td>\n",
       "      <td>2020-04-30</td>\n",
       "      <td>https://www.ncbi.nlm.nih.gov/pmc/articles/PMC7...</td>\n",
       "      <td>Walus, Andreas; Holbe, Fabian</td>\n",
       "      <td>[The, corona, pandemic, has, caused, a, seriou...</td>\n",
       "    </tr>\n",
       "  </tbody>\n",
       "</table>\n",
       "</div>"
      ],
      "text/plain": [
       "                                                   title  \\\n",
       "2625   Epitope Addition and Ablation via Manipulation...   \n",
       "4600   Therapeutic strategies in an outbreak scenario...   \n",
       "8686   Mapping of Linear Antigenic Sites on the S Gly...   \n",
       "11939  Remdesivir, la esperanza antiviral frente al S...   \n",
       "12021  Die Pandemiekatastrophe aus katastrophenrechtl...   \n",
       "\n",
       "                                                abstract publish_time  \\\n",
       "2625   Despite the clinical relevance, dengue virus (...   2017-02-22   \n",
       "4600   A novel coronavirus (2019-nCoV) originating in...   2020-02-07   \n",
       "8686   The elucidation of the antigenic structure of ...   1994-08-01   \n",
       "11939  On December 31, 2019 a pneumonia outbreak caus...   2020-04-01   \n",
       "12021  The corona pandemic has caused a serious emerg...   2020-04-30   \n",
       "\n",
       "                                                     url  \\\n",
       "2625   https://www.ncbi.nlm.nih.gov/pmc/articles/PMC5...   \n",
       "4600   https://www.ncbi.nlm.nih.gov/pmc/articles/PMC7...   \n",
       "8686   https://www.ncbi.nlm.nih.gov/pmc/articles/PMC7...   \n",
       "11939  https://www.ncbi.nlm.nih.gov/pmc/articles/PMC7...   \n",
       "12021  https://www.ncbi.nlm.nih.gov/pmc/articles/PMC7...   \n",
       "\n",
       "                                                 authors  \\\n",
       "2625   Gallichotte, Emily N.; Menachery, Vineet D.; Y...   \n",
       "4600                                    Kruse, Robert L.   \n",
       "8686   Daniel, Claude; Lacroix, Martial; Talbot, Pier...   \n",
       "11939                                       Reina, Jordi   \n",
       "12021                      Walus, Andreas; Holbe, Fabian   \n",
       "\n",
       "                                                   words  \n",
       "2625   [Despite, the, clinical, relevance, dengue, vi...  \n",
       "4600   [A, novel, coronavirus, 2019, nCoV, originatin...  \n",
       "8686   [The, elucidation, of, the, antigenic, structu...  \n",
       "11939  [On, December, 31, 2019, a, pneumonia, outbrea...  \n",
       "12021  [The, corona, pandemic, has, caused, a, seriou...  "
      ]
     },
     "execution_count": 56,
     "metadata": {},
     "output_type": "execute_result"
    }
   ],
   "source": [
    "#Articles that we have\n",
    "Q5.head(5)"
   ]
  },
  {
   "cell_type": "markdown",
   "metadata": {},
   "source": [
    "Online Search"
   ]
  },
  {
   "cell_type": "code",
   "execution_count": 58,
   "metadata": {},
   "outputs": [
    {
     "name": "stdout",
     "output_type": "stream",
     "text": [
      "https://www.pfizer.com/science/coronavirus/vaccine\n",
      "https://www.pfizer.com/news/press-release/press-release-detail/pfizer_and_biontech_dose_first_participants_in_the_u_s_as_part_of_global_covid_19_mrna_vaccine_development_program\n",
      "https://www.pfizer.com/news/hot-topics/scaling_up_to_manufacture_and_supply_a_covid_19_vaccine_if_approved\n",
      "https://www.wsj.com/articles/efforts-for-coronavirus-vaccine-focus-on-vulnerable-group-older-adults-11592731801\n",
      "https://www.sciencemag.org/news/2020/05/doubts-greet-12-billion-bet-united-states-coronavirus-vaccine-october\n",
      "https://news.harvard.edu/gazette/story/2020/04/harvards-coronavirus-vaccine-efforts/\n",
      "https://www.sfchronicle.com/bayarea/article/Efforts-at-coronavirus-vaccines-and-treatments-15355870.php\n",
      "https://en.wikipedia.org/wiki/COVID-19_vaccine\n",
      "https://www.nature.com/articles/d41586-020-01756-0\n",
      "https://www.jnj.com/coronavirus\n",
      "https://www.who.int/publications/m/item/draft-landscape-of-covid-19-candidate-vaccines\n",
      "https://www.seattletimes.com/seattle-news/health/heres-what-has-to-go-right-for-a-covid-vaccine-in-2020/\n",
      "https://www.reuters.com/article/us-health-coronavirus-usa-vaccine-exclus/exclusive-u-s-plans-massive-coronavirus-vaccine-testing-effort-to-meet-year-end-deadline-idUSKBN22Y2L3\n",
      "https://www.npr.org/sections/coronavirus-live-updates/2020/05/15/857014274/trump-touts-operation-warp-speed-coronavirus-vaccine-effort\n",
      "https://www.statnews.com/2020/03/19/an-updated-guide-to-the-coronavirus-drugs-and-vaccines-in-development/\n",
      "https://www.statnews.com/2020/02/06/cepi-coronavirus-vaccine-development/\n",
      "https://www.cfr.org/backgrounder/what-world-doing-create-covid-19-vaccine\n",
      "https://www.kuow.org/stories/seattle-s-race-for-a-coronavirus-vaccine\n",
      "https://www.usatoday.com/story/news/health/2020/07/12/vaccine-nationalism-threatens-global-efforts-race-stop-coronavirus/5384850002/\n",
      "https://www.nytimes.com/interactive/2020/science/coronavirus-vaccine-tracker.html\n"
     ]
    }
   ],
   "source": [
    "try: \n",
    "    from googlesearch import search \n",
    "except ImportError:  \n",
    "    print(\"Error/Not found\") \n",
    "### Browsing the sourses using different search terms: \n",
    "search5_1 = \"Efforts  coronavirus vaccine\"\n",
    "\n",
    "\n",
    "##limit to the first 10 relevant links:\n",
    "for a in search(search5_1, tld=\"co.in\", num=20, stop=20, pause=2): \n",
    "    print(a)"
   ]
  },
  {
   "cell_type": "markdown",
   "metadata": {},
   "source": [
    "# 6/ Efforts to develop animal models and standardize challenge studies"
   ]
  },
  {
   "cell_type": "code",
   "execution_count": 66,
   "metadata": {},
   "outputs": [],
   "source": [
    "#Create different sets with specialized terms  from our questions \n",
    "Q6_a = tablesAbstract[tablesAbstract['abstract'].str.contains('animal models')]\n",
    "Q6_b = tablesAbstract[tablesAbstract['abstract'].str.contains('challenge studies')]\n"
   ]
  },
  {
   "cell_type": "code",
   "execution_count": 67,
   "metadata": {},
   "outputs": [
    {
     "data": {
      "text/plain": [
       "(873, 6)"
      ]
     },
     "execution_count": 67,
     "metadata": {},
     "output_type": "execute_result"
    }
   ],
   "source": [
    "#Concatenitng the dataframes into one table per question and dropping null value \n",
    "Q6 = pd.concat([Q6_a,Q6_b])\n",
    "Q6.dropna(inplace=True)\n",
    "Q6.shape"
   ]
  },
  {
   "cell_type": "code",
   "execution_count": 68,
   "metadata": {},
   "outputs": [
    {
     "data": {
      "text/html": [
       "<div>\n",
       "<style scoped>\n",
       "    .dataframe tbody tr th:only-of-type {\n",
       "        vertical-align: middle;\n",
       "    }\n",
       "\n",
       "    .dataframe tbody tr th {\n",
       "        vertical-align: top;\n",
       "    }\n",
       "\n",
       "    .dataframe thead th {\n",
       "        text-align: right;\n",
       "    }\n",
       "</style>\n",
       "<table border=\"1\" class=\"dataframe\">\n",
       "  <thead>\n",
       "    <tr style=\"text-align: right;\">\n",
       "      <th></th>\n",
       "      <th>title</th>\n",
       "      <th>abstract</th>\n",
       "      <th>publish_time</th>\n",
       "      <th>url</th>\n",
       "      <th>authors</th>\n",
       "      <th>words</th>\n",
       "    </tr>\n",
       "  </thead>\n",
       "  <tbody>\n",
       "    <tr>\n",
       "      <th>112</th>\n",
       "      <td>Experimental infection of H5N1 HPAI in BALB/c ...</td>\n",
       "      <td>BACKGROUND: In 2005 huge epizooty of H5N1 HPAI...</td>\n",
       "      <td>2007-07-27</td>\n",
       "      <td>https://www.ncbi.nlm.nih.gov/pmc/articles/PMC1...</td>\n",
       "      <td>Evseenko, Vasily A; Bukin, Eugeny K; Zaykovska...</td>\n",
       "      <td>[BACKGROUND, In, 2005, huge, epizooty, of, H5N...</td>\n",
       "    </tr>\n",
       "    <tr>\n",
       "      <th>143</th>\n",
       "      <td>La Crosse virus infectivity, pathogenesis, and...</td>\n",
       "      <td>BACKGROUND: La Crosse virus (LACV), family Bun...</td>\n",
       "      <td>2008-02-11</td>\n",
       "      <td>https://www.ncbi.nlm.nih.gov/pmc/articles/PMC2...</td>\n",
       "      <td>Bennett, Richard S; Cress, Christina M; Ward, ...</td>\n",
       "      <td>[BACKGROUND, La, Crosse, virus, LACV, family, ...</td>\n",
       "    </tr>\n",
       "    <tr>\n",
       "      <th>182</th>\n",
       "      <td>Animal models of acute lung injury</td>\n",
       "      <td>Acute lung injury in humans is characterized h...</td>\n",
       "      <td>2008-09-28</td>\n",
       "      <td>https://www.ncbi.nlm.nih.gov/pmc/articles/PMC2...</td>\n",
       "      <td>Matute-Bello, Gustavo; Frevert, Charles W.; Ma...</td>\n",
       "      <td>[Acute, lung, injury, in, humans, is, characte...</td>\n",
       "    </tr>\n",
       "    <tr>\n",
       "      <th>233</th>\n",
       "      <td>On the significance of Surfactant Protein-A wi...</td>\n",
       "      <td>Surfactant Protein-A (SP-A) is the most promin...</td>\n",
       "      <td>2009-03-12</td>\n",
       "      <td>https://www.ncbi.nlm.nih.gov/pmc/articles/PMC2...</td>\n",
       "      <td>Goldmann, Torsten; Kähler, Daniel; Schultz, Ho...</td>\n",
       "      <td>[Surfactant, Protein, A, SP, A, is, the, most,...</td>\n",
       "    </tr>\n",
       "    <tr>\n",
       "      <th>258</th>\n",
       "      <td>Remission of Invasive, Cancer Stem-Like Gliobl...</td>\n",
       "      <td>BACKGROUND: Glioblastoma is the most frequent ...</td>\n",
       "      <td>2009-07-20</td>\n",
       "      <td>https://www.ncbi.nlm.nih.gov/pmc/articles/PMC2...</td>\n",
       "      <td>Huszthy, Peter C.; Giroglou, Tsanan; Tsinkalov...</td>\n",
       "      <td>[BACKGROUND, Glioblastoma, is, the, most, freq...</td>\n",
       "    </tr>\n",
       "  </tbody>\n",
       "</table>\n",
       "</div>"
      ],
      "text/plain": [
       "                                                 title  \\\n",
       "112  Experimental infection of H5N1 HPAI in BALB/c ...   \n",
       "143  La Crosse virus infectivity, pathogenesis, and...   \n",
       "182                 Animal models of acute lung injury   \n",
       "233  On the significance of Surfactant Protein-A wi...   \n",
       "258  Remission of Invasive, Cancer Stem-Like Gliobl...   \n",
       "\n",
       "                                              abstract publish_time  \\\n",
       "112  BACKGROUND: In 2005 huge epizooty of H5N1 HPAI...   2007-07-27   \n",
       "143  BACKGROUND: La Crosse virus (LACV), family Bun...   2008-02-11   \n",
       "182  Acute lung injury in humans is characterized h...   2008-09-28   \n",
       "233  Surfactant Protein-A (SP-A) is the most promin...   2009-03-12   \n",
       "258  BACKGROUND: Glioblastoma is the most frequent ...   2009-07-20   \n",
       "\n",
       "                                                   url  \\\n",
       "112  https://www.ncbi.nlm.nih.gov/pmc/articles/PMC1...   \n",
       "143  https://www.ncbi.nlm.nih.gov/pmc/articles/PMC2...   \n",
       "182  https://www.ncbi.nlm.nih.gov/pmc/articles/PMC2...   \n",
       "233  https://www.ncbi.nlm.nih.gov/pmc/articles/PMC2...   \n",
       "258  https://www.ncbi.nlm.nih.gov/pmc/articles/PMC2...   \n",
       "\n",
       "                                               authors  \\\n",
       "112  Evseenko, Vasily A; Bukin, Eugeny K; Zaykovska...   \n",
       "143  Bennett, Richard S; Cress, Christina M; Ward, ...   \n",
       "182  Matute-Bello, Gustavo; Frevert, Charles W.; Ma...   \n",
       "233  Goldmann, Torsten; Kähler, Daniel; Schultz, Ho...   \n",
       "258  Huszthy, Peter C.; Giroglou, Tsanan; Tsinkalov...   \n",
       "\n",
       "                                                 words  \n",
       "112  [BACKGROUND, In, 2005, huge, epizooty, of, H5N...  \n",
       "143  [BACKGROUND, La, Crosse, virus, LACV, family, ...  \n",
       "182  [Acute, lung, injury, in, humans, is, characte...  \n",
       "233  [Surfactant, Protein, A, SP, A, is, the, most,...  \n",
       "258  [BACKGROUND, Glioblastoma, is, the, most, freq...  "
      ]
     },
     "execution_count": 68,
     "metadata": {},
     "output_type": "execute_result"
    }
   ],
   "source": [
    "#Articles that we have\n",
    "Q6.head(5)"
   ]
  },
  {
   "cell_type": "markdown",
   "metadata": {},
   "source": [
    "Online Search"
   ]
  },
  {
   "cell_type": "code",
   "execution_count": 69,
   "metadata": {},
   "outputs": [
    {
     "name": "stdout",
     "output_type": "stream",
     "text": [
      "https://academic.oup.com/jid/article/221/11/1752/5814216\n",
      "https://www.sciencedirect.com/science/article/pii/S0264410X20307684\n",
      "https://www.who.int/biologicals/expert_committee/Human_challenge_Trials_IK_final.pdf\n",
      "https://www.who.int/blueprint/priority-diseases/key-action/Coronavirus_Roadmap_V9.pdf?ua=1\n",
      "https://www.fda.gov/media/139638/download\n",
      "https://www.buzzfeednews.com/article/danvergano/coronavirus-challenge-vaccine-experiment\n",
      "https://www.the-scientist.com/news-opinion/support-for-vaccine-challenge-trials-gains-momentum-67525\n",
      "https://www.fredhutch.org/en/news/center-news/2020/06/covid-vaccine-challenge-trials.html\n",
      "https://www.wired.co.uk/article/coronavirus-vaccine-challenge-trial\n",
      "https://papers.ssrn.com/sol3/Delivery.cfm/SSRN_ID3568981_code4096027.pdf?abstractid=3568981&mirid=1\n",
      "https://science.sciencemag.org/content/368/6494/942\n",
      "https://science.sciencemag.org/content/368/6494/942/tab-article-info\n",
      "https://science.sciencemag.org/content/368/6494/942/tab-figures-data\n",
      "https://science.sciencemag.org/content/368/6494/942/tab-e-letters\n",
      "https://www.sciencemag.org/news/2020/04/mice-hamsters-ferrets-monkeys-which-lab-animals-can-help-defeat-new-coronavirus\n",
      "https://www.cell.com/trends/pharmacological-sciences/fulltext/S0165-6147(20)30129-2\n",
      "https://www.cell.com/trends/pharmacological-sciences/fulltext/S0165-6147(20)30129-2#secst0010\n",
      "https://www.cell.com/trends/pharmacological-sciences/fulltext/S0165-6147(20)30129-2#secst0015\n",
      "https://www.cell.com/trends/pharmacological-sciences/fulltext/S0165-6147(20)30129-2#secst0030\n",
      "https://www.tandfonline.com/doi/full/10.1080/22221751.2020.1764871\n"
     ]
    }
   ],
   "source": [
    "try: \n",
    "    from googlesearch import search \n",
    "except ImportError:  \n",
    "    print(\"Error/Not found\") \n",
    "### Browsing the sourses using different search terms: \n",
    "search6_1 = \" corona standardize challenge studies\"\n",
    "search6_2 = \" corona animal models\"\n",
    "\n",
    "\n",
    "##limit to the first 10 relevant links:\n",
    "for a in search(search6_1, tld=\"co.in\", num=10, stop=10, pause=2): \n",
    "    print(a)\n",
    "for a in search(search6_2, tld=\"co.in\", num=10, stop=10, pause=2): \n",
    "    print(a)"
   ]
  },
  {
   "cell_type": "markdown",
   "metadata": {},
   "source": [
    "# 7/ Efforts to develop prophylaxis clinical studies and prioritize in healthcare workers"
   ]
  },
  {
   "cell_type": "code",
   "execution_count": 76,
   "metadata": {},
   "outputs": [],
   "source": [
    "#Create different sets with specialized terms  from our questions \n",
    "Q7_a = tablesAbstract[tablesAbstract['abstract'].str.contains('prophylaxis')]\n",
    "Q7_b = Q7_a[Q7_a['abstract'].str.contains('clinical studies')]\n",
    "Q7_c = tablesAbstract[tablesAbstract['abstract'].str.contains('healthcare workers')]\n",
    "Q7_d = Q7_c[Q7_c['abstract'].str.contains('prioritize')]"
   ]
  },
  {
   "cell_type": "code",
   "execution_count": 77,
   "metadata": {},
   "outputs": [
    {
     "data": {
      "text/plain": [
       "(17, 6)"
      ]
     },
     "execution_count": 77,
     "metadata": {},
     "output_type": "execute_result"
    }
   ],
   "source": [
    "#Concatenitng the dataframes into one table per question and dropping null value \n",
    "Q7 = pd.concat([Q7_b, Q7_d])\n",
    "Q7.dropna(inplace=True)\n",
    "Q7.shape"
   ]
  },
  {
   "cell_type": "code",
   "execution_count": 78,
   "metadata": {},
   "outputs": [
    {
     "data": {
      "text/html": [
       "<div>\n",
       "<style scoped>\n",
       "    .dataframe tbody tr th:only-of-type {\n",
       "        vertical-align: middle;\n",
       "    }\n",
       "\n",
       "    .dataframe tbody tr th {\n",
       "        vertical-align: top;\n",
       "    }\n",
       "\n",
       "    .dataframe thead th {\n",
       "        text-align: right;\n",
       "    }\n",
       "</style>\n",
       "<table border=\"1\" class=\"dataframe\">\n",
       "  <thead>\n",
       "    <tr style=\"text-align: right;\">\n",
       "      <th></th>\n",
       "      <th>title</th>\n",
       "      <th>abstract</th>\n",
       "      <th>publish_time</th>\n",
       "      <th>url</th>\n",
       "      <th>authors</th>\n",
       "      <th>words</th>\n",
       "    </tr>\n",
       "  </thead>\n",
       "  <tbody>\n",
       "    <tr>\n",
       "      <th>38862</th>\n",
       "      <td>Use of emerging oral anticoagulants in clinica...</td>\n",
       "      <td>OBJECTIVE A review of clinical data from oral ...</td>\n",
       "      <td>2009</td>\n",
       "      <td>https://doi.org/10.1097/sla.0b013e3181ae6dbe; ...</td>\n",
       "      <td>Merli, Geno; Spyropoulos, Alex C; Caprini, Jos...</td>\n",
       "      <td>[OBJECTIVE, A, review, of, clinical, data, fro...</td>\n",
       "    </tr>\n",
       "    <tr>\n",
       "      <th>54511</th>\n",
       "      <td>Percutaneous left atrial appendage occlusion: ...</td>\n",
       "      <td>The increasing interest in left atrial appenda...</td>\n",
       "      <td>2017</td>\n",
       "      <td>https://doi.org/10.1093/europace/euw141; https...</td>\n",
       "      <td>Tzikas, Apostolos; Holmes, David R; Gafoor, Sa...</td>\n",
       "      <td>[The, increasing, interest, in, left, atrial, ...</td>\n",
       "    </tr>\n",
       "    <tr>\n",
       "      <th>58633</th>\n",
       "      <td>Transplantation of donor grafts with defined r...</td>\n",
       "      <td>BACKGROUNDIn preclinical murine and early clin...</td>\n",
       "      <td>2019</td>\n",
       "      <td>https://doi.org/10.1172/jci.insight.127244; ht...</td>\n",
       "      <td>Meyer, Everett H; Laport, Ginna; Xie, Bryan J;...</td>\n",
       "      <td>[BACKGROUNDIn, preclinical, murine, and, early...</td>\n",
       "    </tr>\n",
       "    <tr>\n",
       "      <th>61969</th>\n",
       "      <td>Making sense of posaconazole therapeutic drug ...</td>\n",
       "      <td>PURPOSE OF REVIEW Therapeutic drug monitoring ...</td>\n",
       "      <td>2012</td>\n",
       "      <td>https://doi.org/10.1097/qco.0b013e328359a56e; ...</td>\n",
       "      <td>Ananda-Rajah, Michelle R; Grigg, Andrew; Slavi...</td>\n",
       "      <td>[PURPOSE, OF, REVIEW, Therapeutic, drug, monit...</td>\n",
       "    </tr>\n",
       "    <tr>\n",
       "      <th>65974</th>\n",
       "      <td>Review of evidence available on hesperidin-ric...</td>\n",
       "      <td>Based on recent computational and experimental...</td>\n",
       "      <td>2020</td>\n",
       "      <td>https://doi.org/10.3390/pr8050549</td>\n",
       "      <td>Meneguzzo, Francesco; Ciriminna, Rosaria; Zabi...</td>\n",
       "      <td>[Based, on, recent, computational, and, experi...</td>\n",
       "    </tr>\n",
       "  </tbody>\n",
       "</table>\n",
       "</div>"
      ],
      "text/plain": [
       "                                                   title  \\\n",
       "38862  Use of emerging oral anticoagulants in clinica...   \n",
       "54511  Percutaneous left atrial appendage occlusion: ...   \n",
       "58633  Transplantation of donor grafts with defined r...   \n",
       "61969  Making sense of posaconazole therapeutic drug ...   \n",
       "65974  Review of evidence available on hesperidin-ric...   \n",
       "\n",
       "                                                abstract publish_time  \\\n",
       "38862  OBJECTIVE A review of clinical data from oral ...         2009   \n",
       "54511  The increasing interest in left atrial appenda...         2017   \n",
       "58633  BACKGROUNDIn preclinical murine and early clin...         2019   \n",
       "61969  PURPOSE OF REVIEW Therapeutic drug monitoring ...         2012   \n",
       "65974  Based on recent computational and experimental...         2020   \n",
       "\n",
       "                                                     url  \\\n",
       "38862  https://doi.org/10.1097/sla.0b013e3181ae6dbe; ...   \n",
       "54511  https://doi.org/10.1093/europace/euw141; https...   \n",
       "58633  https://doi.org/10.1172/jci.insight.127244; ht...   \n",
       "61969  https://doi.org/10.1097/qco.0b013e328359a56e; ...   \n",
       "65974                  https://doi.org/10.3390/pr8050549   \n",
       "\n",
       "                                                 authors  \\\n",
       "38862  Merli, Geno; Spyropoulos, Alex C; Caprini, Jos...   \n",
       "54511  Tzikas, Apostolos; Holmes, David R; Gafoor, Sa...   \n",
       "58633  Meyer, Everett H; Laport, Ginna; Xie, Bryan J;...   \n",
       "61969  Ananda-Rajah, Michelle R; Grigg, Andrew; Slavi...   \n",
       "65974  Meneguzzo, Francesco; Ciriminna, Rosaria; Zabi...   \n",
       "\n",
       "                                                   words  \n",
       "38862  [OBJECTIVE, A, review, of, clinical, data, fro...  \n",
       "54511  [The, increasing, interest, in, left, atrial, ...  \n",
       "58633  [BACKGROUNDIn, preclinical, murine, and, early...  \n",
       "61969  [PURPOSE, OF, REVIEW, Therapeutic, drug, monit...  \n",
       "65974  [Based, on, recent, computational, and, experi...  "
      ]
     },
     "execution_count": 78,
     "metadata": {},
     "output_type": "execute_result"
    }
   ],
   "source": [
    "#Articles that we have\n",
    "Q7.head(5)"
   ]
  },
  {
   "cell_type": "markdown",
   "metadata": {},
   "source": [
    "Online Search"
   ]
  },
  {
   "cell_type": "code",
   "execution_count": 79,
   "metadata": {},
   "outputs": [
    {
     "name": "stdout",
     "output_type": "stream",
     "text": [
      "https://clinicaltrials.gov/ct2/show/NCT04308668\n",
      "https://clinicaltrials.gov/ct2/show/NCT04318444\n",
      "https://clinicaltrials.gov/ct2/show/NCT04328467\n",
      "https://www.mayo.edu/research/clinical-trials/diseases-conditions/coronavirus-disease-2019-(covid-19)\n",
      "https://www.who.int/emergencies/diseases/novel-coronavirus-2019/global-research-on-novel-coronavirus-2019-ncov/solidarity-clinical-trial-for-covid-19-treatments\n",
      "https://www.who.int/emergencies/diseases/novel-coronavirus-2019/global-research-on-novel-coronavirus-2019-ncov/solidarity-2-global-serologic-study-for-covid-19\n",
      "https://www.who.int/news-room/commentaries/detail/off-label-use-of-medicines-for-covid-19\n",
      "https://www.who.int/dg/speeches/detail/who-director-general-s-opening-remarks-at-the-media-briefing-on-covid-19---18-march-2020\n",
      "https://www.nih.gov/news-events/news-releases/nih-begins-clinical-trial-hydroxychloroquine-azithromycin-treat-covid-19\n",
      "https://www.nih.gov/news-events/news-releases/nih-clinical-trial-hydroxychloroquine-potential-therapy-covid-19-begins\n",
      "https://globalhealth.washington.edu/news/2020/03/12/triaging-coronavirus-prioritize-vulnerable-health-care-workers\n",
      "https://www.cdc.gov/coronavirus/2019-ncov/hcp/non-us-settings/ipc-healthcare-facilities-non-us.html\n",
      "https://www.cdc.gov/coronavirus/2019-ncov/hcp/index.html\n",
      "https://www.cdc.gov/coronavirus/2019-ncov/hcp/hcp-personnel-checklist.html\n",
      "https://www.cdc.gov/coronavirus/2019-ncov/hcp/us-healthcare-facilities.html\n",
      "https://www.cdc.gov/coronavirus/2019-ncov/hcp/infection-control.html\n",
      "https://www.seattletimes.com/opinion/in-triaging-coronavirus-prioritize-vulnerable-health-care-workers/\n",
      "https://www.washingtonpost.com/health/2020/04/07/ventilators-rationing-coronavirus-hospitals/\n",
      "https://www.tandfonline.com/doi/full/10.1080/15265161.2020.1764140\n",
      "https://www.advisory.com/daily-briefing/2020/03/26/provider-testing\n"
     ]
    }
   ],
   "source": [
    "try: \n",
    "    from googlesearch import search \n",
    "except ImportError:  \n",
    "    print(\"Error/Not found\") \n",
    "### Browsing the sourses using different search terms: \n",
    "search7_1 = \" corona prophylaxis clinical studies\"\n",
    "search7_2 = \" corona prioritize in healthcare workers\"\n",
    "\n",
    "\n",
    "##limit to the first 10 relevant links:\n",
    "for a in search(search7_1, tld=\"co.in\", num=10, stop=10, pause=2): \n",
    "    print(a)\n",
    "for a in search(search7_2, tld=\"co.in\", num=10, stop=10, pause=2): \n",
    "    print(a)"
   ]
  },
  {
   "cell_type": "markdown",
   "metadata": {},
   "source": [
    "# 10/ Approaches to evaluate risk for enhanced disease after vaccination"
   ]
  },
  {
   "cell_type": "code",
   "execution_count": 93,
   "metadata": {},
   "outputs": [],
   "source": [
    "#Create different sets with specialized terms  from our questions \n",
    "Q10_a = tablesAbstract[tablesAbstract['abstract'].str.contains('corona')]\n",
    "Q10_b = Q10_a[Q10_a['abstract'].str.contains('corona')]\n",
    "Q10_c = Q10_b[Q10_b['abstract'].str.contains('after vaccination')]\n",
    "Q10_d = Q10_c[Q10_c['abstract'].str.contains('prioritize')]"
   ]
  },
  {
   "cell_type": "code",
   "execution_count": 94,
   "metadata": {},
   "outputs": [
    {
     "data": {
      "text/plain": [
       "(17, 6)"
      ]
     },
     "execution_count": 94,
     "metadata": {},
     "output_type": "execute_result"
    }
   ],
   "source": [
    "#Concatenitng the dataframes into one table per question and dropping null value \n",
    "Q10 = pd.concat([Q10_c])\n",
    "Q10.dropna(inplace=True)\n",
    "Q10.shape"
   ]
  },
  {
   "cell_type": "code",
   "execution_count": 95,
   "metadata": {},
   "outputs": [
    {
     "data": {
      "text/html": [
       "<div>\n",
       "<style scoped>\n",
       "    .dataframe tbody tr th:only-of-type {\n",
       "        vertical-align: middle;\n",
       "    }\n",
       "\n",
       "    .dataframe tbody tr th {\n",
       "        vertical-align: top;\n",
       "    }\n",
       "\n",
       "    .dataframe thead th {\n",
       "        text-align: right;\n",
       "    }\n",
       "</style>\n",
       "<table border=\"1\" class=\"dataframe\">\n",
       "  <thead>\n",
       "    <tr style=\"text-align: right;\">\n",
       "      <th></th>\n",
       "      <th>title</th>\n",
       "      <th>abstract</th>\n",
       "      <th>publish_time</th>\n",
       "      <th>url</th>\n",
       "      <th>authors</th>\n",
       "      <th>words</th>\n",
       "    </tr>\n",
       "  </thead>\n",
       "  <tbody>\n",
       "    <tr>\n",
       "      <th>20043</th>\n",
       "      <td>Severe acute respiratory syndrome vaccine deve...</td>\n",
       "      <td>Vaccines against infectious bronchitis of chic...</td>\n",
       "      <td>2010-07-12</td>\n",
       "      <td>https://www.ncbi.nlm.nih.gov/pmc/articles/PMC7...</td>\n",
       "      <td>Cavanagh, Dave</td>\n",
       "      <td>[Vaccines, against, infectious, bronchitis, of...</td>\n",
       "    </tr>\n",
       "    <tr>\n",
       "      <th>21986</th>\n",
       "      <td>Versuche zur Entwicklung einer Immunprophylaxe...</td>\n",
       "      <td>ZUSAMMENFASSUNG: Der TGE‐Impfstamm Bl‐300 verm...</td>\n",
       "      <td>2010-05-13</td>\n",
       "      <td>https://www.ncbi.nlm.nih.gov/pmc/articles/PMC7...</td>\n",
       "      <td>Hess, R. G.; Chen, Y. S.; Bachmann, P. A.</td>\n",
       "      <td>[ZUSAMMENFASSUNG, Der, TGE, Impfstamm, Bl, 300...</td>\n",
       "    </tr>\n",
       "    <tr>\n",
       "      <th>47620</th>\n",
       "      <td>Short communication: immunogenicity of an inac...</td>\n",
       "      <td>Individuals infected with HIV are at higher ri...</td>\n",
       "      <td>2011</td>\n",
       "      <td>https://doi.org/10.1089/aid.2010.0306; https:/...</td>\n",
       "      <td>Machado, Alessandra Aparecida; Machado, Claris...</td>\n",
       "      <td>[Individuals, infected, with, HIV, are, at, hi...</td>\n",
       "    </tr>\n",
       "    <tr>\n",
       "      <th>75228</th>\n",
       "      <td>Characterization of the IgA and subclass IgG r...</td>\n",
       "      <td>In this study, we have investigated the charac...</td>\n",
       "      <td>1994</td>\n",
       "      <td>https://www.ncbi.nlm.nih.gov/pubmed/7523577/</td>\n",
       "      <td>De Diego, M; Rodríguez, F; Alcaraz, C; Gómez, ...</td>\n",
       "      <td>[In, this, study, we, have, investigated, the,...</td>\n",
       "    </tr>\n",
       "    <tr>\n",
       "      <th>76988</th>\n",
       "      <td>Severe acute respiratory syndrome vaccine deve...</td>\n",
       "      <td>Vaccines against infectious bronchitis of chic...</td>\n",
       "      <td>2003</td>\n",
       "      <td>https://www.ncbi.nlm.nih.gov/pubmed/14676007/</td>\n",
       "      <td>Cavanagh, Dave</td>\n",
       "      <td>[Vaccines, against, infectious, bronchitis, of...</td>\n",
       "    </tr>\n",
       "  </tbody>\n",
       "</table>\n",
       "</div>"
      ],
      "text/plain": [
       "                                                   title  \\\n",
       "20043  Severe acute respiratory syndrome vaccine deve...   \n",
       "21986  Versuche zur Entwicklung einer Immunprophylaxe...   \n",
       "47620  Short communication: immunogenicity of an inac...   \n",
       "75228  Characterization of the IgA and subclass IgG r...   \n",
       "76988  Severe acute respiratory syndrome vaccine deve...   \n",
       "\n",
       "                                                abstract publish_time  \\\n",
       "20043  Vaccines against infectious bronchitis of chic...   2010-07-12   \n",
       "21986  ZUSAMMENFASSUNG: Der TGE‐Impfstamm Bl‐300 verm...   2010-05-13   \n",
       "47620  Individuals infected with HIV are at higher ri...         2011   \n",
       "75228  In this study, we have investigated the charac...         1994   \n",
       "76988  Vaccines against infectious bronchitis of chic...         2003   \n",
       "\n",
       "                                                     url  \\\n",
       "20043  https://www.ncbi.nlm.nih.gov/pmc/articles/PMC7...   \n",
       "21986  https://www.ncbi.nlm.nih.gov/pmc/articles/PMC7...   \n",
       "47620  https://doi.org/10.1089/aid.2010.0306; https:/...   \n",
       "75228       https://www.ncbi.nlm.nih.gov/pubmed/7523577/   \n",
       "76988      https://www.ncbi.nlm.nih.gov/pubmed/14676007/   \n",
       "\n",
       "                                                 authors  \\\n",
       "20043                                     Cavanagh, Dave   \n",
       "21986          Hess, R. G.; Chen, Y. S.; Bachmann, P. A.   \n",
       "47620  Machado, Alessandra Aparecida; Machado, Claris...   \n",
       "75228  De Diego, M; Rodríguez, F; Alcaraz, C; Gómez, ...   \n",
       "76988                                     Cavanagh, Dave   \n",
       "\n",
       "                                                   words  \n",
       "20043  [Vaccines, against, infectious, bronchitis, of...  \n",
       "21986  [ZUSAMMENFASSUNG, Der, TGE, Impfstamm, Bl, 300...  \n",
       "47620  [Individuals, infected, with, HIV, are, at, hi...  \n",
       "75228  [In, this, study, we, have, investigated, the,...  \n",
       "76988  [Vaccines, against, infectious, bronchitis, of...  "
      ]
     },
     "execution_count": 95,
     "metadata": {},
     "output_type": "execute_result"
    }
   ],
   "source": [
    "#Articles that we have\n",
    "Q10.head(5)"
   ]
  },
  {
   "cell_type": "markdown",
   "metadata": {},
   "source": [
    "Online Search"
   ]
  },
  {
   "cell_type": "code",
   "execution_count": 97,
   "metadata": {},
   "outputs": [
    {
     "name": "stdout",
     "output_type": "stream",
     "text": [
      "https://www.cdc.gov/coronavirus/2019-ncov/covid-data/investigations-discovery/assessing-risk-factors.html\n",
      "https://www.cdc.gov/mmwr/volumes/69/wr/mm6919e2.htm\n",
      "https://www.reuters.com/article/us-health-coronavirus-vaccines-insight/as-pressure-for-coronavirus-vaccine-mounts-scientists-debate-risks-of-accelerated-testing-idUSKBN20Y1GZ\n",
      "https://www.ncbi.nlm.nih.gov/pmc/articles/PMC6290032/\n",
      "https://www.fda.gov/media/139638/download\n",
      "https://www.scientificamerican.com/article/the-risks-of-rushing-a-covid-19-vaccine/\n",
      "https://www.nature.com/articles/d41587-020-00016-w\n",
      "https://www.nature.com/articles/d41586-020-00798-8\n",
      "https://www.pnas.org/content/117/15/8218\n",
      "https://www.aamc.org/news-insights/here-s-why-we-can-t-rush-covid-19-vaccine\n"
     ]
    }
   ],
   "source": [
    "try: \n",
    "    from googlesearch import search \n",
    "except ImportError:  \n",
    "    print(\"Error/Not found\") \n",
    "### Browsing the sourses using different search terms: \n",
    "search10_1 = \" corona how to evaluate risk for enhanced disease after vaccination\"\n",
    "\n",
    "\n",
    "##limit to the first 10 relevant links:\n",
    "for a in search(search10_1, tld=\"co.in\", num=10, stop=10, pause=2): \n",
    "    print(a)"
   ]
  },
  {
   "cell_type": "markdown",
   "metadata": {},
   "source": [
    "# 11/ Assays to evaluate vaccine immune response and process development for vaccines, alongside suitable animal models [in conjunction with therapeutics]"
   ]
  },
  {
   "cell_type": "code",
   "execution_count": 120,
   "metadata": {},
   "outputs": [],
   "source": [
    "#Create different sets with specialized terms  from our questions \n",
    "Q11_a = tablesAbstract[tablesAbstract['abstract'].str.contains('vaccine response')]\n",
    "Q11_b = Q11_a[Q11_a['abstract'].str.contains('evaluate')]\n",
    "Q11_c = Q11_b[Q11_b['abstract'].str.contains('corona')]\n",
    "Q11_d = tablesAbstract[tablesAbstract['abstract'].str.contains('vaccine development')]\n",
    "Q11_e = Q11_d[Q11_d['abstract'].str.contains('evaluate')]\n",
    "Q11_f = Q11_e[Q11_e['abstract'].str.contains('corona')]"
   ]
  },
  {
   "cell_type": "code",
   "execution_count": 121,
   "metadata": {},
   "outputs": [
    {
     "data": {
      "text/plain": [
       "(22, 6)"
      ]
     },
     "execution_count": 121,
     "metadata": {},
     "output_type": "execute_result"
    }
   ],
   "source": [
    "#Concatenitng the dataframes into one table per question and dropping null value \n",
    "Q11 = pd.concat([Q11_c,Q11_f])\n",
    "Q11.dropna(inplace=True)\n",
    "Q11.shape"
   ]
  },
  {
   "cell_type": "code",
   "execution_count": 122,
   "metadata": {},
   "outputs": [
    {
     "data": {
      "text/html": [
       "<div>\n",
       "<style scoped>\n",
       "    .dataframe tbody tr th:only-of-type {\n",
       "        vertical-align: middle;\n",
       "    }\n",
       "\n",
       "    .dataframe tbody tr th {\n",
       "        vertical-align: top;\n",
       "    }\n",
       "\n",
       "    .dataframe thead th {\n",
       "        text-align: right;\n",
       "    }\n",
       "</style>\n",
       "<table border=\"1\" class=\"dataframe\">\n",
       "  <thead>\n",
       "    <tr style=\"text-align: right;\">\n",
       "      <th></th>\n",
       "      <th>title</th>\n",
       "      <th>abstract</th>\n",
       "      <th>publish_time</th>\n",
       "      <th>url</th>\n",
       "      <th>authors</th>\n",
       "      <th>words</th>\n",
       "    </tr>\n",
       "  </thead>\n",
       "  <tbody>\n",
       "    <tr>\n",
       "      <th>12698</th>\n",
       "      <td>Immune responses and histopathological changes...</td>\n",
       "      <td>To evaluate the immunogenicity of inactivated ...</td>\n",
       "      <td>2008-01-13</td>\n",
       "      <td>https://www.ncbi.nlm.nih.gov/pmc/articles/PMC7...</td>\n",
       "      <td>Zhang, Chuan-hai; Liu, Xin-jian; Wang, Yi-fei;...</td>\n",
       "      <td>[To, evaluate, the, immunogenicity, of, inacti...</td>\n",
       "    </tr>\n",
       "    <tr>\n",
       "      <th>48535</th>\n",
       "      <td>[Progress and challenge of vaccine development...</td>\n",
       "      <td>The outbreak of 2019 novel coronavirus (2019-n...</td>\n",
       "      <td>2020-04-01</td>\n",
       "      <td>https://doi.org/10.3760/cma.j.cn112150-2020031...</td>\n",
       "      <td>Shi, Y; Wang, N; Zou, Q M</td>\n",
       "      <td>[The, outbreak, of, 2019, novel, coronavirus, ...</td>\n",
       "    </tr>\n",
       "    <tr>\n",
       "      <th>66636</th>\n",
       "      <td>Evaluation of nine commercial SARS-CoV-2 immun...</td>\n",
       "      <td>Due to urgency and demand, numerous severe acu...</td>\n",
       "      <td>2020-04-10</td>\n",
       "      <td>https://doi.org/10.1101/2020.04.09.20056325</td>\n",
       "      <td>Lassaunière, Ria; Frische, Anders; Harboe, Zit...</td>\n",
       "      <td>[Due, to, urgency, and, demand, numerous, seve...</td>\n",
       "    </tr>\n",
       "    <tr>\n",
       "      <th>67096</th>\n",
       "      <td>Molecular mechanism for antibody-dependent enh...</td>\n",
       "      <td>Antibody-dependent enhancement (ADE) of viral ...</td>\n",
       "      <td>2020</td>\n",
       "      <td>https://doi.org/10.1128/jvi.02015-19</td>\n",
       "      <td>Wan, Yushun; Shang, Jian; Sun, Shihui; Tai, Wa...</td>\n",
       "      <td>[Antibody, dependent, enhancement, ADE, of, vi...</td>\n",
       "    </tr>\n",
       "    <tr>\n",
       "      <th>68837</th>\n",
       "      <td>Highly sensitive and specific multiplex antibo...</td>\n",
       "      <td>Reliable serological tests are required to det...</td>\n",
       "      <td>2020-06-12</td>\n",
       "      <td>https://doi.org/10.1101/2020.06.11.147363</td>\n",
       "      <td>Dobaño, Carlota; Vidal, Marta; Santano, Rebeca...</td>\n",
       "      <td>[Reliable, serological, tests, are, required, ...</td>\n",
       "    </tr>\n",
       "  </tbody>\n",
       "</table>\n",
       "</div>"
      ],
      "text/plain": [
       "                                                   title  \\\n",
       "12698  Immune responses and histopathological changes...   \n",
       "48535  [Progress and challenge of vaccine development...   \n",
       "66636  Evaluation of nine commercial SARS-CoV-2 immun...   \n",
       "67096  Molecular mechanism for antibody-dependent enh...   \n",
       "68837  Highly sensitive and specific multiplex antibo...   \n",
       "\n",
       "                                                abstract publish_time  \\\n",
       "12698  To evaluate the immunogenicity of inactivated ...   2008-01-13   \n",
       "48535  The outbreak of 2019 novel coronavirus (2019-n...   2020-04-01   \n",
       "66636  Due to urgency and demand, numerous severe acu...   2020-04-10   \n",
       "67096  Antibody-dependent enhancement (ADE) of viral ...         2020   \n",
       "68837  Reliable serological tests are required to det...   2020-06-12   \n",
       "\n",
       "                                                     url  \\\n",
       "12698  https://www.ncbi.nlm.nih.gov/pmc/articles/PMC7...   \n",
       "48535  https://doi.org/10.3760/cma.j.cn112150-2020031...   \n",
       "66636        https://doi.org/10.1101/2020.04.09.20056325   \n",
       "67096               https://doi.org/10.1128/jvi.02015-19   \n",
       "68837          https://doi.org/10.1101/2020.06.11.147363   \n",
       "\n",
       "                                                 authors  \\\n",
       "12698  Zhang, Chuan-hai; Liu, Xin-jian; Wang, Yi-fei;...   \n",
       "48535                          Shi, Y; Wang, N; Zou, Q M   \n",
       "66636  Lassaunière, Ria; Frische, Anders; Harboe, Zit...   \n",
       "67096  Wan, Yushun; Shang, Jian; Sun, Shihui; Tai, Wa...   \n",
       "68837  Dobaño, Carlota; Vidal, Marta; Santano, Rebeca...   \n",
       "\n",
       "                                                   words  \n",
       "12698  [To, evaluate, the, immunogenicity, of, inacti...  \n",
       "48535  [The, outbreak, of, 2019, novel, coronavirus, ...  \n",
       "66636  [Due, to, urgency, and, demand, numerous, seve...  \n",
       "67096  [Antibody, dependent, enhancement, ADE, of, vi...  \n",
       "68837  [Reliable, serological, tests, are, required, ...  "
      ]
     },
     "execution_count": 122,
     "metadata": {},
     "output_type": "execute_result"
    }
   ],
   "source": [
    "#Articles that we have\n",
    "Q11.head(5)"
   ]
  },
  {
   "cell_type": "markdown",
   "metadata": {},
   "source": [
    "Online Search"
   ]
  },
  {
   "cell_type": "code",
   "execution_count": 123,
   "metadata": {},
   "outputs": [
    {
     "name": "stdout",
     "output_type": "stream",
     "text": [
      "https://www.sciencedaily.com/releases/2020/05/200522113708.htm\n",
      "https://www.medrxiv.org/content/10.1101/2020.07.09.20148429v1\n",
      "https://www.aha.org/news/headline/2020-07-15-nih-experimental-covid-19-vaccine-safe-generates-immune-response\n",
      "https://www.axios.com/coronavirus-vaccine-antibodies-t-cells-immunity-c5addf66-5b46-479b-af77-f41e6ed1887e.html\n",
      "https://www.statnews.com/2020/06/11/coronavirus-immunity-vaccine-development/\n",
      "https://www.nature.com/articles/d41586-020-00502-w\n",
      "https://www.nature.com/articles/d41586-020-00798-8\n",
      "https://www.niaid.nih.gov/research/immune-response-covid-19\n",
      "https://www.scientificamerican.com/article/early-coronavirus-immunity-data-fuel-promise-for-a-vaccine/\n",
      "https://www.fda.gov/media/139638/download\n",
      "https://www.nejm.org/doi/full/10.1056/NEJMp2005630\n",
      "https://hms.harvard.edu/news/designing-coronavirus-vaccine\n",
      "https://theconversation.com/coronavirus-vaccine-here-are-the-steps-it-will-need-to-go-through-during-development-134726\n",
      "https://www.medicalnewstoday.com/articles/coronavirus-vaccine\n",
      "https://www.medicalnewstoday.com/articles/coronavirus-vaccine#development\n",
      "https://www.medicalnewstoday.com/articles/coronavirus-vaccine#when-will-it-be-ready\n",
      "https://www.medicalnewstoday.com/articles/coronavirus-vaccine#other-treatments\n",
      "https://www.medicalnewstoday.com/articles/coronavirus-vaccine#how-do-vaccines-work\n",
      "https://www.technologynetworks.com/biopharma/articles/keep-up-to-date-with-covid-19-vaccine-development-333016\n",
      "https://www.fda.gov/news-events/press-announcements/coronavirus-covid-19-update-fda-takes-action-help-facilitate-timely-development-safe-effective-covid\n"
     ]
    }
   ],
   "source": [
    "try: \n",
    "    from googlesearch import search \n",
    "except ImportError:  \n",
    "    print(\"Error/Not found\") \n",
    "### Browsing the sourses using different search terms: \n",
    "search11_1 = \" evaluate corona vaccine immune response\" \n",
    "search11_2 = \" corona process development for vaccines\" \n",
    "\n",
    "\n",
    "\n",
    "##limit to the first 10 relevant links:\n",
    "for a in search(search11_1, tld=\"co.in\", num=10, stop=10, pause=2): \n",
    "    print(a)\n",
    "for a in search(search11_2, tld=\"co.in\", num=10, stop=10, pause=2): \n",
    "    print(a)"
   ]
  },
  {
   "cell_type": "code",
   "execution_count": null,
   "metadata": {},
   "outputs": [],
   "source": []
  }
 ],
 "metadata": {
  "kernelspec": {
   "display_name": "Python 3",
   "language": "python",
   "name": "python3"
  },
  "language_info": {
   "codemirror_mode": {
    "name": "ipython",
    "version": 3
   },
   "file_extension": ".py",
   "mimetype": "text/x-python",
   "name": "python",
   "nbconvert_exporter": "python",
   "pygments_lexer": "ipython3",
   "version": "3.7.3"
  }
 },
 "nbformat": 4,
 "nbformat_minor": 4
}
