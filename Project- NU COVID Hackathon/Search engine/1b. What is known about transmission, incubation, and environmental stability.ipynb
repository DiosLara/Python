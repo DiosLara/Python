{
 "cells": [
  {
   "cell_type": "code",
   "execution_count": 1,
   "metadata": {},
   "outputs": [],
   "source": [
    "# Importing the libraries \n",
    "import sys\n",
    "import numpy as np \n",
    "import pandas as pd \n",
    "import os "
   ]
  },
  {
   "cell_type": "markdown",
   "metadata": {},
   "source": [
    "### Table: ABSTRACTS"
   ]
  },
  {
   "cell_type": "code",
   "execution_count": 2,
   "metadata": {},
   "outputs": [
    {
     "name": "stdout",
     "output_type": "stream",
     "text": [
      "The number of articles are: 167470\n"
     ]
    },
    {
     "name": "stderr",
     "output_type": "stream",
     "text": [
      "C:\\Users\\HP\\Anaconda3\\lib\\site-packages\\IPython\\core\\interactiveshell.py:3063: DtypeWarning: Columns (5,6,13,14,16) have mixed types.Specify dtype option on import or set low_memory=False.\n",
      "  interactivity=interactivity, compiler=compiler, result=result)\n"
     ]
    }
   ],
   "source": [
    "#Import the information\n",
    "df=pd.read_csv('E:/NorthEastern University/XN-Hackathon Covid/Kaggle Data/metadata.csv') \n",
    "print('The number of articles are:',df.shape[0])"
   ]
  },
  {
   "cell_type": "code",
   "execution_count": 3,
   "metadata": {},
   "outputs": [],
   "source": [
    "#Select only title, abstract, date, link to the article, and authors\n",
    "tablesAbstract= df [['title', 'abstract', 'publish_time', 'url', 'authors']]"
   ]
  },
  {
   "cell_type": "code",
   "execution_count": 4,
   "metadata": {},
   "outputs": [
    {
     "name": "stderr",
     "output_type": "stream",
     "text": [
      "C:\\Users\\HP\\Anaconda3\\lib\\site-packages\\ipykernel_launcher.py:2: SettingWithCopyWarning: \n",
      "A value is trying to be set on a copy of a slice from a DataFrame.\n",
      "Try using .loc[row_indexer,col_indexer] = value instead\n",
      "\n",
      "See the caveats in the documentation: https://pandas.pydata.org/pandas-docs/stable/user_guide/indexing.html#returning-a-view-versus-a-copy\n",
      "  \n"
     ]
    },
    {
     "data": {
      "text/html": [
       "<div>\n",
       "<style scoped>\n",
       "    .dataframe tbody tr th:only-of-type {\n",
       "        vertical-align: middle;\n",
       "    }\n",
       "\n",
       "    .dataframe tbody tr th {\n",
       "        vertical-align: top;\n",
       "    }\n",
       "\n",
       "    .dataframe thead th {\n",
       "        text-align: right;\n",
       "    }\n",
       "</style>\n",
       "<table border=\"1\" class=\"dataframe\">\n",
       "  <thead>\n",
       "    <tr style=\"text-align: right;\">\n",
       "      <th></th>\n",
       "      <th>title</th>\n",
       "      <th>abstract</th>\n",
       "      <th>publish_time</th>\n",
       "      <th>url</th>\n",
       "      <th>authors</th>\n",
       "      <th>words</th>\n",
       "    </tr>\n",
       "  </thead>\n",
       "  <tbody>\n",
       "    <tr>\n",
       "      <th>0</th>\n",
       "      <td>Clinical features of culture-proven Mycoplasma...</td>\n",
       "      <td>OBJECTIVE: This retrospective chart review des...</td>\n",
       "      <td>2001-07-04</td>\n",
       "      <td>https://www.ncbi.nlm.nih.gov/pmc/articles/PMC3...</td>\n",
       "      <td>Madani, Tariq A; Al-Ghamdi, Aisha A</td>\n",
       "      <td>[OBJECTIVE, This, retrospective, chart, review...</td>\n",
       "    </tr>\n",
       "    <tr>\n",
       "      <th>1</th>\n",
       "      <td>Nitric oxide: a pro-inflammatory mediator in l...</td>\n",
       "      <td>Inflammatory diseases of the respiratory tract...</td>\n",
       "      <td>2000-08-15</td>\n",
       "      <td>https://www.ncbi.nlm.nih.gov/pmc/articles/PMC5...</td>\n",
       "      <td>Vliet, Albert van der; Eiserich, Jason P; Cros...</td>\n",
       "      <td>[Inflammatory, diseases, of, the, respiratory,...</td>\n",
       "    </tr>\n",
       "    <tr>\n",
       "      <th>2</th>\n",
       "      <td>Surfactant protein-D and pulmonary host defense</td>\n",
       "      <td>Surfactant protein-D (SP-D) participates in th...</td>\n",
       "      <td>2000-08-25</td>\n",
       "      <td>https://www.ncbi.nlm.nih.gov/pmc/articles/PMC5...</td>\n",
       "      <td>Crouch, Erika C</td>\n",
       "      <td>[Surfactant, protein, D, SP, D, participates, ...</td>\n",
       "    </tr>\n",
       "  </tbody>\n",
       "</table>\n",
       "</div>"
      ],
      "text/plain": [
       "                                               title  \\\n",
       "0  Clinical features of culture-proven Mycoplasma...   \n",
       "1  Nitric oxide: a pro-inflammatory mediator in l...   \n",
       "2    Surfactant protein-D and pulmonary host defense   \n",
       "\n",
       "                                            abstract publish_time  \\\n",
       "0  OBJECTIVE: This retrospective chart review des...   2001-07-04   \n",
       "1  Inflammatory diseases of the respiratory tract...   2000-08-15   \n",
       "2  Surfactant protein-D (SP-D) participates in th...   2000-08-25   \n",
       "\n",
       "                                                 url  \\\n",
       "0  https://www.ncbi.nlm.nih.gov/pmc/articles/PMC3...   \n",
       "1  https://www.ncbi.nlm.nih.gov/pmc/articles/PMC5...   \n",
       "2  https://www.ncbi.nlm.nih.gov/pmc/articles/PMC5...   \n",
       "\n",
       "                                             authors  \\\n",
       "0                Madani, Tariq A; Al-Ghamdi, Aisha A   \n",
       "1  Vliet, Albert van der; Eiserich, Jason P; Cros...   \n",
       "2                                    Crouch, Erika C   \n",
       "\n",
       "                                               words  \n",
       "0  [OBJECTIVE, This, retrospective, chart, review...  \n",
       "1  [Inflammatory, diseases, of, the, respiratory,...  \n",
       "2  [Surfactant, protein, D, SP, D, participates, ...  "
      ]
     },
     "execution_count": 4,
     "metadata": {},
     "output_type": "execute_result"
    }
   ],
   "source": [
    "#Seperate the words in the Abstract columns \n",
    "tablesAbstract['words']=  tablesAbstract.abstract.str.strip().str.split('[\\W_]+')\n",
    "tablesAbstract = tablesAbstract[tablesAbstract.words.str.len() > 0]\n",
    "                                        #rid of all the input that have the Words column less than 0 \n",
    "tablesAbstract.head(3)"
   ]
  },
  {
   "cell_type": "code",
   "execution_count": 5,
   "metadata": {},
   "outputs": [
    {
     "name": "stdout",
     "output_type": "stream",
     "text": [
      "The number of articles after reduction is: 122492\n"
     ]
    }
   ],
   "source": [
    "print('The number of articles after reduction is:', tablesAbstract.shape[0])"
   ]
  },
  {
   "cell_type": "markdown",
   "metadata": {},
   "source": [
    "# ==> We will analyze what the articles available in the dataset and then also search online resources for each questions "
   ]
  },
  {
   "cell_type": "markdown",
   "metadata": {},
   "source": [
    "# -------------------------------------------------------------------------------------------------------------"
   ]
  },
  {
   "cell_type": "markdown",
   "metadata": {},
   "source": [
    "Scraping the web using beautifulsoup4 and Google "
   ]
  },
  {
   "cell_type": "code",
   "execution_count": 6,
   "metadata": {},
   "outputs": [
    {
     "name": "stdout",
     "output_type": "stream",
     "text": [
      "Requirement already satisfied: google in c:\\users\\hp\\anaconda3\\lib\\site-packages (3.0.0)\n",
      "Requirement already satisfied: beautifulsoup4 in c:\\users\\hp\\anaconda3\\lib\\site-packages (from google) (4.9.0)\n",
      "Requirement already satisfied: soupsieve>1.2 in c:\\users\\hp\\anaconda3\\lib\\site-packages (from beautifulsoup4->google) (2.0)\n",
      "Note: you may need to restart the kernel to use updated packages.\n"
     ]
    }
   ],
   "source": [
    "pip install google"
   ]
  },
  {
   "cell_type": "code",
   "execution_count": 7,
   "metadata": {},
   "outputs": [
    {
     "name": "stdout",
     "output_type": "stream",
     "text": [
      "Requirement already satisfied: beautifulsoup4 in c:\\users\\hp\\anaconda3\\lib\\site-packages (4.9.0)Note: you may need to restart the kernel to use updated packages.\n",
      "Requirement already satisfied: soupsieve>1.2 in c:\\users\\hp\\anaconda3\\lib\\site-packages (from beautifulsoup4) (2.0)\n",
      "\n"
     ]
    }
   ],
   "source": [
    "pip install beautifulsoup4"
   ]
  },
  {
   "cell_type": "markdown",
   "metadata": {},
   "source": [
    "# 1/ Range of incubation periods for the disease in humans (and how this varies across age and health status) and how long individuals are contagious, even after recovery.'"
   ]
  },
  {
   "cell_type": "code",
   "execution_count": 8,
   "metadata": {},
   "outputs": [],
   "source": [
    "#Create different sets with specialized terms  from our questions \n",
    "Q1_a = tablesAbstract[tablesAbstract['abstract'].str.contains('incubation period')]\n",
    "Q1_b = tablesAbstract[tablesAbstract['abstract'].str.contains('recovery')]\n",
    "Q1_c = tablesAbstract[tablesAbstract['abstract'].str.contains('health status')]"
   ]
  },
  {
   "cell_type": "code",
   "execution_count": 9,
   "metadata": {},
   "outputs": [
    {
     "data": {
      "text/plain": [
       "(3272, 6)"
      ]
     },
     "execution_count": 9,
     "metadata": {},
     "output_type": "execute_result"
    }
   ],
   "source": [
    "#Concatenitng the dataframes into one table per question and dropping null value \n",
    "Q1 = pd.concat([Q1_a,Q1_b,Q1_c])\n",
    "Q1.dropna(inplace=True)\n",
    "Q1.shape"
   ]
  },
  {
   "cell_type": "code",
   "execution_count": 10,
   "metadata": {},
   "outputs": [
    {
     "data": {
      "text/html": [
       "<div>\n",
       "<style scoped>\n",
       "    .dataframe tbody tr th:only-of-type {\n",
       "        vertical-align: middle;\n",
       "    }\n",
       "\n",
       "    .dataframe tbody tr th {\n",
       "        vertical-align: top;\n",
       "    }\n",
       "\n",
       "    .dataframe thead th {\n",
       "        text-align: right;\n",
       "    }\n",
       "</style>\n",
       "<table border=\"1\" class=\"dataframe\">\n",
       "  <thead>\n",
       "    <tr style=\"text-align: right;\">\n",
       "      <th></th>\n",
       "      <th>title</th>\n",
       "      <th>abstract</th>\n",
       "      <th>publish_time</th>\n",
       "      <th>url</th>\n",
       "      <th>authors</th>\n",
       "      <th>words</th>\n",
       "    </tr>\n",
       "  </thead>\n",
       "  <tbody>\n",
       "    <tr>\n",
       "      <th>1122</th>\n",
       "      <td>The Impact of Model Building on the Transmissi...</td>\n",
       "      <td>BACKGROUND: The way we formulate a mathematica...</td>\n",
       "      <td>2013-04-12</td>\n",
       "      <td>https://www.ncbi.nlm.nih.gov/pmc/articles/PMC3...</td>\n",
       "      <td>Ejima, Keisuke; Aihara, Kazuyuki; Nishiura, Hi...</td>\n",
       "      <td>[BACKGROUND, The, way, we, formulate, a, mathe...</td>\n",
       "    </tr>\n",
       "    <tr>\n",
       "      <th>1320</th>\n",
       "      <td>Investigation of serum protein profiles in scr...</td>\n",
       "      <td>BACKGROUND: Classical scrapie in sheep is a fa...</td>\n",
       "      <td>2013-11-14</td>\n",
       "      <td>https://www.ncbi.nlm.nih.gov/pmc/articles/PMC3...</td>\n",
       "      <td>Meling, Siv; Kvalheim, Olav M; Arneberg, Reida...</td>\n",
       "      <td>[BACKGROUND, Classical, scrapie, in, sheep, is...</td>\n",
       "    </tr>\n",
       "    <tr>\n",
       "      <th>1327</th>\n",
       "      <td>Incubation periods of viral gastroenteritis: a...</td>\n",
       "      <td>BACKGROUND: Accurate knowledge of incubation p...</td>\n",
       "      <td>2013-09-25</td>\n",
       "      <td>https://www.ncbi.nlm.nih.gov/pmc/articles/PMC3...</td>\n",
       "      <td>Lee, Rachel M; Lessler, Justin; Lee, Rose A; R...</td>\n",
       "      <td>[BACKGROUND, Accurate, knowledge, of, incubati...</td>\n",
       "    </tr>\n",
       "    <tr>\n",
       "      <th>2175</th>\n",
       "      <td>Understanding Spatio-Temporal Variability in t...</td>\n",
       "      <td>Andalusia (Southern Spain) is considered one o...</td>\n",
       "      <td>2016-03-10</td>\n",
       "      <td>https://www.ncbi.nlm.nih.gov/pmc/articles/PMC4...</td>\n",
       "      <td>Napp, S.; Allepuz, A.; Purse, B. V.; Casal, J....</td>\n",
       "      <td>[Andalusia, Southern, Spain, is, considered, o...</td>\n",
       "    </tr>\n",
       "    <tr>\n",
       "      <th>2516</th>\n",
       "      <td>The Epidemiology of Hand, Foot and Mouth Disea...</td>\n",
       "      <td>CONTEXT: Hand, foot and mouth disease (HFMD) i...</td>\n",
       "      <td>2016-06-03</td>\n",
       "      <td>https://www.ncbi.nlm.nih.gov/pmc/articles/PMC5...</td>\n",
       "      <td>Koh, Wee Ming; Bogich, Tiffany; Siegel, Karen;...</td>\n",
       "      <td>[CONTEXT, Hand, foot, and, mouth, disease, HFM...</td>\n",
       "    </tr>\n",
       "  </tbody>\n",
       "</table>\n",
       "</div>"
      ],
      "text/plain": [
       "                                                  title  \\\n",
       "1122  The Impact of Model Building on the Transmissi...   \n",
       "1320  Investigation of serum protein profiles in scr...   \n",
       "1327  Incubation periods of viral gastroenteritis: a...   \n",
       "2175  Understanding Spatio-Temporal Variability in t...   \n",
       "2516  The Epidemiology of Hand, Foot and Mouth Disea...   \n",
       "\n",
       "                                               abstract publish_time  \\\n",
       "1122  BACKGROUND: The way we formulate a mathematica...   2013-04-12   \n",
       "1320  BACKGROUND: Classical scrapie in sheep is a fa...   2013-11-14   \n",
       "1327  BACKGROUND: Accurate knowledge of incubation p...   2013-09-25   \n",
       "2175  Andalusia (Southern Spain) is considered one o...   2016-03-10   \n",
       "2516  CONTEXT: Hand, foot and mouth disease (HFMD) i...   2016-06-03   \n",
       "\n",
       "                                                    url  \\\n",
       "1122  https://www.ncbi.nlm.nih.gov/pmc/articles/PMC3...   \n",
       "1320  https://www.ncbi.nlm.nih.gov/pmc/articles/PMC3...   \n",
       "1327  https://www.ncbi.nlm.nih.gov/pmc/articles/PMC3...   \n",
       "2175  https://www.ncbi.nlm.nih.gov/pmc/articles/PMC4...   \n",
       "2516  https://www.ncbi.nlm.nih.gov/pmc/articles/PMC5...   \n",
       "\n",
       "                                                authors  \\\n",
       "1122  Ejima, Keisuke; Aihara, Kazuyuki; Nishiura, Hi...   \n",
       "1320  Meling, Siv; Kvalheim, Olav M; Arneberg, Reida...   \n",
       "1327  Lee, Rachel M; Lessler, Justin; Lee, Rose A; R...   \n",
       "2175  Napp, S.; Allepuz, A.; Purse, B. V.; Casal, J....   \n",
       "2516  Koh, Wee Ming; Bogich, Tiffany; Siegel, Karen;...   \n",
       "\n",
       "                                                  words  \n",
       "1122  [BACKGROUND, The, way, we, formulate, a, mathe...  \n",
       "1320  [BACKGROUND, Classical, scrapie, in, sheep, is...  \n",
       "1327  [BACKGROUND, Accurate, knowledge, of, incubati...  \n",
       "2175  [Andalusia, Southern, Spain, is, considered, o...  \n",
       "2516  [CONTEXT, Hand, foot, and, mouth, disease, HFM...  "
      ]
     },
     "execution_count": 10,
     "metadata": {},
     "output_type": "execute_result"
    }
   ],
   "source": [
    "#Articles that we have\n",
    "Q1.head(5)"
   ]
  },
  {
   "cell_type": "markdown",
   "metadata": {},
   "source": [
    "Online Search "
   ]
  },
  {
   "cell_type": "code",
   "execution_count": 11,
   "metadata": {},
   "outputs": [
    {
     "name": "stdout",
     "output_type": "stream",
     "text": [
      "https://www.cdc.gov/coronavirus/2019-ncov/hcp/faq.html\n",
      "https://www.cdc.gov/coronavirus/2019-ncov/hcp/clinical-guidance-management-patients.html\n",
      "https://www.acc.org/latest-in-cardiology/journal-scans/2020/05/11/15/18/the-incubation-period-of-coronavirus-disease\n",
      "https://www.webmd.com/lung/coronavirus-incubation-period\n",
      "https://www.healthline.com/health/coronavirus-incubation-period\n",
      "https://www.healthline.com/health/coronavirus-incubation-period#incubation-period\n",
      "https://www.healthline.com/health/coronavirus-incubation-period#how-does-it-spread\n",
      "https://www.healthline.com/health/coronavirus-incubation-period#symptoms\n",
      "https://www.healthline.com/health/coronavirus-incubation-period#if-you-have-symptoms\n",
      "https://www.ncbi.nlm.nih.gov/pmc/articles/PMC7014672/\n",
      "https://www.ncbi.nlm.nih.gov/pmc/articles/PMC7280705/\n",
      "https://www.ncbi.nlm.nih.gov/pmc/articles/PMC7280705/#agm212114-abs-0001title\n",
      "https://www.ncbi.nlm.nih.gov/pmc/articles/PMC7280705/#agm212114-sec-0005title\n",
      "https://www.ncbi.nlm.nih.gov/pmc/articles/PMC7280705/#agm212114-sec-0010title\n",
      "https://www.ncbi.nlm.nih.gov/pmc/articles/PMC7280705/#agm212114-sec-0011title\n",
      "https://www.ncbi.nlm.nih.gov/pmc/articles/PMC7014672/\n",
      "https://www.ncbi.nlm.nih.gov/pmc/articles/PMC7014672/#idm139990794530880title\n",
      "https://www.ncbi.nlm.nih.gov/pmc/articles/PMC7014672/#__sec2title\n",
      "https://www.ncbi.nlm.nih.gov/pmc/articles/PMC7014672/#__sec3title\n",
      "https://www.ncbi.nlm.nih.gov/pmc/articles/PMC7014672/#__sec4title\n",
      "https://www.cdc.gov/coronavirus/2019-ncov/hcp/faq.html\n",
      "https://www.npr.org/sections/health-shots/2020/04/13/833412729/how-long-does-it-take-to-recover-from-covid-19-and-how-long-are-you-infectious\n",
      "https://www.statnews.com/2020/03/09/people-shed-high-levels-of-coronavirus-study-finds-but-most-are-likely-not-infectious-after-recovery-begins/\n",
      "https://www.livescience.com/coronavirus-spread-after-recovery.html\n",
      "https://medical.mit.edu/covid-19-updates/2020/06/recovery-covid-19-how-long-someone-contagious\n",
      "https://www.healthline.com/health-news/people-reinfected-with-covid-19-werent-infectious\n",
      "https://theconversation.com/how-long-are-you-infectious-when-you-have-coronavirus-135295\n",
      "https://medicalxpress.com/news/2020-04-covid-contagious-longer.html\n",
      "https://www.theverge.com/2020/4/1/21201045/coronavirus-covid-19-recovery-isolation-contagious-cdc-data\n",
      "https://www.forbes.com/sites/brucelee/2020/04/21/covid-19-coronavirus-how-long-are-you-contagious-and-do-symptoms-last/\n"
     ]
    }
   ],
   "source": [
    "try: \n",
    "    from googlesearch import search \n",
    "except ImportError:  \n",
    "    print(\"Error/Not found\") \n",
    "### Browsing the sourses using different search terms: \n",
    "search1_1 = \"corona incubation periods for the disease in human \"\n",
    "search1_2 = \"corona incubation periods according to age and health status\"\n",
    "search1_3 = \"corona how long individuals are contagious, after recovery\"\n",
    "\n",
    "##limit to the first 10 relevant links:\n",
    "for a in search(search1_1, tld=\"co.in\", num=10, stop=10, pause=2): \n",
    "    print(a)\n",
    "for a in search(search1_2, tld=\"co.in\", num=10, stop=10, pause=2): \n",
    "    print(a)\n",
    "for a in search(search1_3, tld=\"co.in\", num=10, stop=10, pause=2): \n",
    "    print(a)\n"
   ]
  },
  {
   "cell_type": "markdown",
   "metadata": {},
   "source": [
    "# 2/ Prevalence of asymptomatic shedding and transmission (e.g., particularly children).'"
   ]
  },
  {
   "cell_type": "code",
   "execution_count": 12,
   "metadata": {},
   "outputs": [],
   "source": [
    "#Create different sets with specialized terms  from our questions \n",
    "Q2_a = tablesAbstract[tablesAbstract['abstract'].str.contains('asymptomatic shedding')]\n",
    "Q2_b = tablesAbstract[tablesAbstract['abstract'].str.contains('transmission')]\n",
    "Q2_c = tablesAbstract[tablesAbstract['abstract'].str.contains('among children')]"
   ]
  },
  {
   "cell_type": "code",
   "execution_count": 13,
   "metadata": {},
   "outputs": [
    {
     "data": {
      "text/plain": [
       "(8261, 6)"
      ]
     },
     "execution_count": 13,
     "metadata": {},
     "output_type": "execute_result"
    }
   ],
   "source": [
    "#Concatenitng the dataframes into one table per question and dropping null value \n",
    "Q2 = pd.concat([Q2_a,Q2_b,Q2_c])\n",
    "Q2.dropna(inplace=True)\n",
    "Q2.shape"
   ]
  },
  {
   "cell_type": "code",
   "execution_count": 14,
   "metadata": {},
   "outputs": [
    {
     "data": {
      "text/html": [
       "<div>\n",
       "<style scoped>\n",
       "    .dataframe tbody tr th:only-of-type {\n",
       "        vertical-align: middle;\n",
       "    }\n",
       "\n",
       "    .dataframe tbody tr th {\n",
       "        vertical-align: top;\n",
       "    }\n",
       "\n",
       "    .dataframe thead th {\n",
       "        text-align: right;\n",
       "    }\n",
       "</style>\n",
       "<table border=\"1\" class=\"dataframe\">\n",
       "  <thead>\n",
       "    <tr style=\"text-align: right;\">\n",
       "      <th></th>\n",
       "      <th>title</th>\n",
       "      <th>abstract</th>\n",
       "      <th>publish_time</th>\n",
       "      <th>url</th>\n",
       "      <th>authors</th>\n",
       "      <th>words</th>\n",
       "    </tr>\n",
       "  </thead>\n",
       "  <tbody>\n",
       "    <tr>\n",
       "      <th>1343</th>\n",
       "      <td>The Natural History of Influenza Infection in ...</td>\n",
       "      <td>Introduction. Medical advances have led to an ...</td>\n",
       "      <td>2013-11-01</td>\n",
       "      <td>https://academic.oup.com/cid/article-pdf/58/2/...</td>\n",
       "      <td>Memoli, Matthew J.; Athota, Rani; Reed, Susan;...</td>\n",
       "      <td>[Introduction, Medical, advances, have, led, t...</td>\n",
       "    </tr>\n",
       "    <tr>\n",
       "      <th>13241</th>\n",
       "      <td>Transmission Dynamics of Respiratory Viruses i...</td>\n",
       "      <td>BACKGROUND: Human coronaviruses (HCoVs), rhino...</td>\n",
       "      <td>2017-10-04</td>\n",
       "      <td>https://www.ncbi.nlm.nih.gov/pmc/articles/PMC7...</td>\n",
       "      <td>Lewnard, Joseph; Chen, Wei-Ju; Milzman, Jacque...</td>\n",
       "      <td>[BACKGROUND, Human, coronaviruses, HCoVs, rhin...</td>\n",
       "    </tr>\n",
       "    <tr>\n",
       "      <th>44547</th>\n",
       "      <td>Caring for Critically Ill Adults With Coronavi...</td>\n",
       "      <td>OBJECTIVE In the midst of the severe acute res...</td>\n",
       "      <td>2020-04-29</td>\n",
       "      <td>https://doi.org/10.1097/pcc.0000000000002429; ...</td>\n",
       "      <td>Remy, Kenneth E; Verhoef, Philip A; Malone, Ja...</td>\n",
       "      <td>[OBJECTIVE, In, the, midst, of, the, severe, a...</td>\n",
       "    </tr>\n",
       "    <tr>\n",
       "      <th>127870</th>\n",
       "      <td>Frequent Detection of Respiratory Viruses in A...</td>\n",
       "      <td>Background. Respiratory virus infections have ...</td>\n",
       "      <td>2005-03-01</td>\n",
       "      <td>https://www.ncbi.nlm.nih.gov/pubmed/15714410/</td>\n",
       "      <td>van Kraaij, Marian G. J.; van Elden, Leontine ...</td>\n",
       "      <td>[Background, Respiratory, virus, infections, h...</td>\n",
       "    </tr>\n",
       "    <tr>\n",
       "      <th>132144</th>\n",
       "      <td>Asymptomatic Shedding of Respiratory Virus amo...</td>\n",
       "      <td>Most observation of human respiratory virus ca...</td>\n",
       "      <td>2018-07-11</td>\n",
       "      <td>https://doi.org/10.1128/msphere.00249-18; http...</td>\n",
       "      <td>Birger, Ruthie; Morita, Haruka; Comito, Devon;...</td>\n",
       "      <td>[Most, observation, of, human, respiratory, vi...</td>\n",
       "    </tr>\n",
       "  </tbody>\n",
       "</table>\n",
       "</div>"
      ],
      "text/plain": [
       "                                                    title  \\\n",
       "1343    The Natural History of Influenza Infection in ...   \n",
       "13241   Transmission Dynamics of Respiratory Viruses i...   \n",
       "44547   Caring for Critically Ill Adults With Coronavi...   \n",
       "127870  Frequent Detection of Respiratory Viruses in A...   \n",
       "132144  Asymptomatic Shedding of Respiratory Virus amo...   \n",
       "\n",
       "                                                 abstract publish_time  \\\n",
       "1343    Introduction. Medical advances have led to an ...   2013-11-01   \n",
       "13241   BACKGROUND: Human coronaviruses (HCoVs), rhino...   2017-10-04   \n",
       "44547   OBJECTIVE In the midst of the severe acute res...   2020-04-29   \n",
       "127870  Background. Respiratory virus infections have ...   2005-03-01   \n",
       "132144  Most observation of human respiratory virus ca...   2018-07-11   \n",
       "\n",
       "                                                      url  \\\n",
       "1343    https://academic.oup.com/cid/article-pdf/58/2/...   \n",
       "13241   https://www.ncbi.nlm.nih.gov/pmc/articles/PMC7...   \n",
       "44547   https://doi.org/10.1097/pcc.0000000000002429; ...   \n",
       "127870      https://www.ncbi.nlm.nih.gov/pubmed/15714410/   \n",
       "132144  https://doi.org/10.1128/msphere.00249-18; http...   \n",
       "\n",
       "                                                  authors  \\\n",
       "1343    Memoli, Matthew J.; Athota, Rani; Reed, Susan;...   \n",
       "13241   Lewnard, Joseph; Chen, Wei-Ju; Milzman, Jacque...   \n",
       "44547   Remy, Kenneth E; Verhoef, Philip A; Malone, Ja...   \n",
       "127870  van Kraaij, Marian G. J.; van Elden, Leontine ...   \n",
       "132144  Birger, Ruthie; Morita, Haruka; Comito, Devon;...   \n",
       "\n",
       "                                                    words  \n",
       "1343    [Introduction, Medical, advances, have, led, t...  \n",
       "13241   [BACKGROUND, Human, coronaviruses, HCoVs, rhin...  \n",
       "44547   [OBJECTIVE, In, the, midst, of, the, severe, a...  \n",
       "127870  [Background, Respiratory, virus, infections, h...  \n",
       "132144  [Most, observation, of, human, respiratory, vi...  "
      ]
     },
     "execution_count": 14,
     "metadata": {},
     "output_type": "execute_result"
    }
   ],
   "source": [
    "#Articles that we have\n",
    "Q2.head(5)"
   ]
  },
  {
   "cell_type": "markdown",
   "metadata": {},
   "source": [
    "Online Search"
   ]
  },
  {
   "cell_type": "code",
   "execution_count": 15,
   "metadata": {},
   "outputs": [
    {
     "name": "stdout",
     "output_type": "stream",
     "text": [
      "https://www.uptodate.com/contents/coronavirus-disease-2019-covid-19-clinical-manifestations-and-diagnosis-in-children\n",
      "https://wwwnc.cdc.gov/eid/article/26/10/20-2449_article\n",
      "https://www.nature.com/articles/s41591-020-0817-4\n",
      "https://www.ncbi.nlm.nih.gov/pmc/articles/PMC7141453/\n",
      "https://www.medrxiv.org/content/10.1101/2020.04.27.20076778v1\n",
      "https://www.who.int/news-room/commentaries/detail/transmission-of-sars-cov-2-implications-for-infection-prevention-precautions\n",
      "https://academic.oup.com/jpids/advance-article/doi/10.1093/jpids/piaa065/5842265\n",
      "https://www.ecdc.europa.eu/en/covid-19/latest-evidence/transmission\n",
      "https://www.aappublications.org/news/2020/03/16/coronavirus031620\n",
      "https://www.nejm.org/doi/full/10.1056/nejme2009758\n",
      "https://pediatrics.aappublications.org/content/early/2020/07/08/peds.2020-004879\n",
      "https://www.cdc.gov/coronavirus/2019-ncov/faq.html\n",
      "https://www.uptodate.com/contents/coronavirus-disease-2019-covid-19-clinical-manifestations-and-diagnosis-in-children\n",
      "https://www.statnews.com/2020/06/18/how-likely-are-kids-to-get-covid-19-scientists-see-a-huge-puzzle-without-easy-answers/\n",
      "http://www.advisory.com/daily-briefing/2020/05/26/children-transmission\n",
      "https://www.nature.com/articles/d41586-020-01354-0\n",
      "https://www.nature.com/articles/s41591-020-0962-9\n",
      "https://www.sciencedaily.com/releases/2020/07/200710100934.htm\n",
      "https://www.the-scientist.com/news-opinion/covid-19-is-very-different-in-young-kids-versus-adults-67637\n",
      "https://www.mercurynews.com/coronavirus-why-kids-arent-the-germbags-and-grownups-are\n"
     ]
    }
   ],
   "source": [
    "try: \n",
    "    from googlesearch import search \n",
    "except ImportError:  \n",
    "    print(\"Error/Not found\") \n",
    "### Browsing the sourses using different search terms: \n",
    "search2_1 = \" Corona asymptomatic shedding, children\"\n",
    "search2_2 = \"corona transmission ,children \"\n",
    "\n",
    "\n",
    "##limit to the first 10 relevant links:\n",
    "for a in search(search2_1, tld=\"co.in\", num=10, stop=10, pause=2): \n",
    "    print(a)\n",
    "for a in search(search2_2, tld=\"co.in\", num=10, stop=10, pause=2): \n",
    "    print(a)"
   ]
  },
  {
   "cell_type": "markdown",
   "metadata": {},
   "source": [
    "# 3/ Seasonality of transmission"
   ]
  },
  {
   "cell_type": "code",
   "execution_count": 16,
   "metadata": {},
   "outputs": [],
   "source": [
    "#Create different sets with specialized terms  from our questions \n",
    "Q3_a = tablesAbstract[tablesAbstract['abstract'].str.contains('transmission')]\n",
    "Q3_b = tablesAbstract[tablesAbstract['abstract'].str.contains('Seasonality')]"
   ]
  },
  {
   "cell_type": "code",
   "execution_count": 17,
   "metadata": {},
   "outputs": [
    {
     "data": {
      "text/plain": [
       "(7923, 6)"
      ]
     },
     "execution_count": 17,
     "metadata": {},
     "output_type": "execute_result"
    }
   ],
   "source": [
    "#Concatenitng the dataframes into one table per question and dropping null value \n",
    "Q3 = pd.concat([Q3_a,Q3_b])\n",
    "Q3.dropna(inplace=True)\n",
    "Q3.shape"
   ]
  },
  {
   "cell_type": "code",
   "execution_count": 18,
   "metadata": {},
   "outputs": [
    {
     "data": {
      "text/html": [
       "<div>\n",
       "<style scoped>\n",
       "    .dataframe tbody tr th:only-of-type {\n",
       "        vertical-align: middle;\n",
       "    }\n",
       "\n",
       "    .dataframe tbody tr th {\n",
       "        vertical-align: top;\n",
       "    }\n",
       "\n",
       "    .dataframe thead th {\n",
       "        text-align: right;\n",
       "    }\n",
       "</style>\n",
       "<table border=\"1\" class=\"dataframe\">\n",
       "  <thead>\n",
       "    <tr style=\"text-align: right;\">\n",
       "      <th></th>\n",
       "      <th>title</th>\n",
       "      <th>abstract</th>\n",
       "      <th>publish_time</th>\n",
       "      <th>url</th>\n",
       "      <th>authors</th>\n",
       "      <th>words</th>\n",
       "    </tr>\n",
       "  </thead>\n",
       "  <tbody>\n",
       "    <tr>\n",
       "      <th>17</th>\n",
       "      <td>Logistics of community smallpox control throug...</td>\n",
       "      <td>BACKGROUND: Previous smallpox ring vaccination...</td>\n",
       "      <td>2004-08-06</td>\n",
       "      <td>https://www.ncbi.nlm.nih.gov/pmc/articles/PMC5...</td>\n",
       "      <td>Porco, Travis C; Holbrook, Karen A; Fernyak, S...</td>\n",
       "      <td>[BACKGROUND, Previous, smallpox, ring, vaccina...</td>\n",
       "    </tr>\n",
       "    <tr>\n",
       "      <th>60</th>\n",
       "      <td>Transmission patterns of smallpox: systematic ...</td>\n",
       "      <td>BACKGROUND: Because smallpox (variola major) m...</td>\n",
       "      <td>2006-05-05</td>\n",
       "      <td>https://www.ncbi.nlm.nih.gov/pmc/articles/PMC1...</td>\n",
       "      <td>Bhatnagar, Vibha; Stoto, Michael A; Morton, Sa...</td>\n",
       "      <td>[BACKGROUND, Because, smallpox, variola, major...</td>\n",
       "    </tr>\n",
       "    <tr>\n",
       "      <th>61</th>\n",
       "      <td>Reliability of case definitions for public hea...</td>\n",
       "      <td>BACKGROUND: Case definitions have been recogni...</td>\n",
       "      <td>2006-05-10</td>\n",
       "      <td>https://www.ncbi.nlm.nih.gov/pmc/articles/PMC1...</td>\n",
       "      <td>Krause, Gérard; Brodhun, Bonita; Altmann, Dori...</td>\n",
       "      <td>[BACKGROUND, Case, definitions, have, been, re...</td>\n",
       "    </tr>\n",
       "    <tr>\n",
       "      <th>63</th>\n",
       "      <td>Sentinel surveillance for human enterovirus 71...</td>\n",
       "      <td>BACKGROUND: A major outbreak of human enterovi...</td>\n",
       "      <td>2006-07-07</td>\n",
       "      <td>https://www.ncbi.nlm.nih.gov/pmc/articles/PMC1...</td>\n",
       "      <td>Podin, Yuwana; Gias, Edna LM; Ong, Flora; Leon...</td>\n",
       "      <td>[BACKGROUND, A, major, outbreak, of, human, en...</td>\n",
       "    </tr>\n",
       "    <tr>\n",
       "      <th>83</th>\n",
       "      <td>The Waiting Time for Inter-Country Spread of P...</td>\n",
       "      <td>BACKGROUND: The time delay between the start o...</td>\n",
       "      <td>2007-01-03</td>\n",
       "      <td>https://www.ncbi.nlm.nih.gov/pmc/articles/PMC1...</td>\n",
       "      <td>Caley, Peter; Becker, Niels G.; Philp, David J.</td>\n",
       "      <td>[BACKGROUND, The, time, delay, between, the, s...</td>\n",
       "    </tr>\n",
       "  </tbody>\n",
       "</table>\n",
       "</div>"
      ],
      "text/plain": [
       "                                                title  \\\n",
       "17  Logistics of community smallpox control throug...   \n",
       "60  Transmission patterns of smallpox: systematic ...   \n",
       "61  Reliability of case definitions for public hea...   \n",
       "63  Sentinel surveillance for human enterovirus 71...   \n",
       "83  The Waiting Time for Inter-Country Spread of P...   \n",
       "\n",
       "                                             abstract publish_time  \\\n",
       "17  BACKGROUND: Previous smallpox ring vaccination...   2004-08-06   \n",
       "60  BACKGROUND: Because smallpox (variola major) m...   2006-05-05   \n",
       "61  BACKGROUND: Case definitions have been recogni...   2006-05-10   \n",
       "63  BACKGROUND: A major outbreak of human enterovi...   2006-07-07   \n",
       "83  BACKGROUND: The time delay between the start o...   2007-01-03   \n",
       "\n",
       "                                                  url  \\\n",
       "17  https://www.ncbi.nlm.nih.gov/pmc/articles/PMC5...   \n",
       "60  https://www.ncbi.nlm.nih.gov/pmc/articles/PMC1...   \n",
       "61  https://www.ncbi.nlm.nih.gov/pmc/articles/PMC1...   \n",
       "63  https://www.ncbi.nlm.nih.gov/pmc/articles/PMC1...   \n",
       "83  https://www.ncbi.nlm.nih.gov/pmc/articles/PMC1...   \n",
       "\n",
       "                                              authors  \\\n",
       "17  Porco, Travis C; Holbrook, Karen A; Fernyak, S...   \n",
       "60  Bhatnagar, Vibha; Stoto, Michael A; Morton, Sa...   \n",
       "61  Krause, Gérard; Brodhun, Bonita; Altmann, Dori...   \n",
       "63  Podin, Yuwana; Gias, Edna LM; Ong, Flora; Leon...   \n",
       "83    Caley, Peter; Becker, Niels G.; Philp, David J.   \n",
       "\n",
       "                                                words  \n",
       "17  [BACKGROUND, Previous, smallpox, ring, vaccina...  \n",
       "60  [BACKGROUND, Because, smallpox, variola, major...  \n",
       "61  [BACKGROUND, Case, definitions, have, been, re...  \n",
       "63  [BACKGROUND, A, major, outbreak, of, human, en...  \n",
       "83  [BACKGROUND, The, time, delay, between, the, s...  "
      ]
     },
     "execution_count": 18,
     "metadata": {},
     "output_type": "execute_result"
    }
   ],
   "source": [
    "#Articles that we have\n",
    "Q3.head(5)"
   ]
  },
  {
   "cell_type": "markdown",
   "metadata": {},
   "source": [
    "Online Search"
   ]
  },
  {
   "cell_type": "code",
   "execution_count": 19,
   "metadata": {},
   "outputs": [
    {
     "name": "stdout",
     "output_type": "stream",
     "text": [
      "https://www.healio.com/news/infectious-disease/20200501/seasonality-will-eventually-play-a-role-in-covid19-transmission\n",
      "https://coronavirusexplained.ukri.org/en/article/und0009/\n",
      "https://jamanetwork.com/journals/jamanetworkopen/fullarticle/2767010\n",
      "https://www.infectiousdiseaseadvisor.com/home/topics/covid19/will-the-change-of-seasons-affect-the-covid-19-pandemic/\n",
      "https://directorsblog.nih.gov/2020/06/02/will-warm-weather-slow-spread-of-novel-coronavirus/\n",
      "https://academic.oup.com/jid/article/doi/10.1093/infdis/jiaa345/5860444\n",
      "https://www.sciencedaily.com/releases/2020/04/200407164949.htm\n",
      "https://www.cebm.net/study/covid-19-seasonal-coronaviruses-and-establishing-the-context-for-covid-19-emergence/\n",
      "https://ccdd.hsph.harvard.edu/will-covid-19-go-away-on-its-own-in-warmer-weather/\n",
      "https://www.precisionvaccinations.com/study-finds-coronaviruses-are-sharply-seasonal\n"
     ]
    }
   ],
   "source": [
    "try: \n",
    "    from googlesearch import search \n",
    "except ImportError:  \n",
    "    print(\"Error/Not found\") \n",
    "### Browsing the sourses using different search terms: \n",
    "search3_1 = \"Corona Seasonality of transmission \"\n",
    "\n",
    "\n",
    "\n",
    "##limit to the first 10 relevant links:\n",
    "for a in search(search3_1, tld=\"co.in\", num=10, stop=10, pause=2): \n",
    "    print(a)"
   ]
  },
  {
   "cell_type": "markdown",
   "metadata": {},
   "source": [
    "# 4/ Physical science of the coronavirus (e.g., charge distribution, adhesion to hydrophilic/phobic surfaces, environmental survival to inform decontamination efforts for affected areas and provide information about viral shedding).'\n"
   ]
  },
  {
   "cell_type": "code",
   "execution_count": 20,
   "metadata": {},
   "outputs": [],
   "source": [
    "#Create different sets with specialized terms  from our questions \n",
    "Q4_a = tablesAbstract[tablesAbstract['abstract'].str.contains('physical science')]\n",
    "Q4_b = tablesAbstract[tablesAbstract['abstract'].str.contains('charge distribution')]\n",
    "Q4_c = tablesAbstract[tablesAbstract['abstract'].str.contains('hydrophilic')]\n",
    "Q4_d = tablesAbstract[tablesAbstract['abstract'].str.contains('hydrophobic')]\n",
    "Q4_e = tablesAbstract[tablesAbstract['abstract'].str.contains('environmental survival ')]\n",
    "Q4_f = tablesAbstract[tablesAbstract['abstract'].str.contains('decontamination')]\n",
    "Q4_g = tablesAbstract[tablesAbstract['abstract'].str.contains('viral shedding')]"
   ]
  },
  {
   "cell_type": "code",
   "execution_count": 21,
   "metadata": {},
   "outputs": [
    {
     "data": {
      "text/plain": [
       "(1107, 6)"
      ]
     },
     "execution_count": 21,
     "metadata": {},
     "output_type": "execute_result"
    }
   ],
   "source": [
    "#Concatenitng the dataframes into one table per question and dropping null value \n",
    "Q4 = pd.concat([Q4_a,Q4_b,Q4_c,Q4_d,Q4_e,Q4_f, Q4_g])\n",
    "Q4.dropna(inplace=True)\n",
    "Q4.shape"
   ]
  },
  {
   "cell_type": "code",
   "execution_count": 22,
   "metadata": {},
   "outputs": [
    {
     "data": {
      "text/html": [
       "<div>\n",
       "<style scoped>\n",
       "    .dataframe tbody tr th:only-of-type {\n",
       "        vertical-align: middle;\n",
       "    }\n",
       "\n",
       "    .dataframe tbody tr th {\n",
       "        vertical-align: top;\n",
       "    }\n",
       "\n",
       "    .dataframe thead th {\n",
       "        text-align: right;\n",
       "    }\n",
       "</style>\n",
       "<table border=\"1\" class=\"dataframe\">\n",
       "  <thead>\n",
       "    <tr style=\"text-align: right;\">\n",
       "      <th></th>\n",
       "      <th>title</th>\n",
       "      <th>abstract</th>\n",
       "      <th>publish_time</th>\n",
       "      <th>url</th>\n",
       "      <th>authors</th>\n",
       "      <th>words</th>\n",
       "    </tr>\n",
       "  </thead>\n",
       "  <tbody>\n",
       "    <tr>\n",
       "      <th>16571</th>\n",
       "      <td>Nanoparticles as Precious Stones in the Crown ...</td>\n",
       "      <td>The interdisciplinary field of research on bio...</td>\n",
       "      <td>2017-11-16</td>\n",
       "      <td>https://www.ncbi.nlm.nih.gov/pmc/articles/PMC7...</td>\n",
       "      <td>Rajesh Kumar, M.; Joice Sophia, P.</td>\n",
       "      <td>[The, interdisciplinary, field, of, research, ...</td>\n",
       "    </tr>\n",
       "    <tr>\n",
       "      <th>50299</th>\n",
       "      <td>Nano-sensitive optical coherence tomography.</td>\n",
       "      <td>Depth resolved label-free detection of structu...</td>\n",
       "      <td>2014</td>\n",
       "      <td>https://doi.org/10.1039/c3nr06132a; https://ww...</td>\n",
       "      <td>Alexandrov, Sergey A; Subhash, Hrebesh M; Zam,...</td>\n",
       "      <td>[Depth, resolved, label, free, detection, of, ...</td>\n",
       "    </tr>\n",
       "    <tr>\n",
       "      <th>101221</th>\n",
       "      <td>A pandemic-resilient open-inquiry physical sci...</td>\n",
       "      <td>Without any major changes, a pilot version of ...</td>\n",
       "      <td>2020-06-11</td>\n",
       "      <td>https://arxiv.org/pdf/2006.06881v1.pdf</td>\n",
       "      <td>Bradbury, F. R.; Pols, C. F. J.</td>\n",
       "      <td>[Without, any, major, changes, a, pilot, versi...</td>\n",
       "    </tr>\n",
       "    <tr>\n",
       "      <th>122584</th>\n",
       "      <td>COVID-19: A Call for Physical Scientists and E...</td>\n",
       "      <td>[Image: see text] The COVID-19 pandemic is one...</td>\n",
       "      <td>2020-04-08</td>\n",
       "      <td>https://doi.org/10.1021/acsnano.0c02618; https...</td>\n",
       "      <td>Huang, Haiyue; Fan, Chunhai; Li, Min; Nie, Hua...</td>\n",
       "      <td>[, Image, see, text, The, COVID, 19, pandemic,...</td>\n",
       "    </tr>\n",
       "    <tr>\n",
       "      <th>67814</th>\n",
       "      <td>Removal of fine and ultrafine particles from i...</td>\n",
       "      <td>Abstract The continuous emission of unipolar i...</td>\n",
       "      <td>2004-09-30</td>\n",
       "      <td>https://api.elsevier.com/content/article/pii/S...</td>\n",
       "      <td>Uk Lee, Byung; Yermakov, Mikhail; Grinshpun, S...</td>\n",
       "      <td>[Abstract, The, continuous, emission, of, unip...</td>\n",
       "    </tr>\n",
       "  </tbody>\n",
       "</table>\n",
       "</div>"
      ],
      "text/plain": [
       "                                                    title  \\\n",
       "16571   Nanoparticles as Precious Stones in the Crown ...   \n",
       "50299        Nano-sensitive optical coherence tomography.   \n",
       "101221  A pandemic-resilient open-inquiry physical sci...   \n",
       "122584  COVID-19: A Call for Physical Scientists and E...   \n",
       "67814   Removal of fine and ultrafine particles from i...   \n",
       "\n",
       "                                                 abstract publish_time  \\\n",
       "16571   The interdisciplinary field of research on bio...   2017-11-16   \n",
       "50299   Depth resolved label-free detection of structu...         2014   \n",
       "101221  Without any major changes, a pilot version of ...   2020-06-11   \n",
       "122584  [Image: see text] The COVID-19 pandemic is one...   2020-04-08   \n",
       "67814   Abstract The continuous emission of unipolar i...   2004-09-30   \n",
       "\n",
       "                                                      url  \\\n",
       "16571   https://www.ncbi.nlm.nih.gov/pmc/articles/PMC7...   \n",
       "50299   https://doi.org/10.1039/c3nr06132a; https://ww...   \n",
       "101221             https://arxiv.org/pdf/2006.06881v1.pdf   \n",
       "122584  https://doi.org/10.1021/acsnano.0c02618; https...   \n",
       "67814   https://api.elsevier.com/content/article/pii/S...   \n",
       "\n",
       "                                                  authors  \\\n",
       "16571                  Rajesh Kumar, M.; Joice Sophia, P.   \n",
       "50299   Alexandrov, Sergey A; Subhash, Hrebesh M; Zam,...   \n",
       "101221                    Bradbury, F. R.; Pols, C. F. J.   \n",
       "122584  Huang, Haiyue; Fan, Chunhai; Li, Min; Nie, Hua...   \n",
       "67814   Uk Lee, Byung; Yermakov, Mikhail; Grinshpun, S...   \n",
       "\n",
       "                                                    words  \n",
       "16571   [The, interdisciplinary, field, of, research, ...  \n",
       "50299   [Depth, resolved, label, free, detection, of, ...  \n",
       "101221  [Without, any, major, changes, a, pilot, versi...  \n",
       "122584  [, Image, see, text, The, COVID, 19, pandemic,...  \n",
       "67814   [Abstract, The, continuous, emission, of, unip...  "
      ]
     },
     "execution_count": 22,
     "metadata": {},
     "output_type": "execute_result"
    }
   ],
   "source": [
    "#Articles that we have\n",
    "Q4.head(5)"
   ]
  },
  {
   "cell_type": "markdown",
   "metadata": {},
   "source": [
    "Online Search"
   ]
  },
  {
   "cell_type": "code",
   "execution_count": 24,
   "metadata": {},
   "outputs": [
    {
     "name": "stdout",
     "output_type": "stream",
     "text": [
      "https://ps.uci.edu/PSinCOVID19\n",
      "https://pubs.acs.org/doi/10.1021/acsnano.0c02618\n",
      "https://pubs.acs.org/doi/10.1021/acsnano.0c02618#Abstract\n",
      "https://pubs.acs.org/doi/10.1021/acsnano.0c02618#_i2\n",
      "https://pubs.acs.org/doi/10.1021/acsnano.0c02618#_i4\n",
      "https://pubs.acs.org/doi/10.1021/acsnano.0c02618#_i11\n",
      "https://phys.org/news/2020-04-covid-pandemic-physical-scientists-global.html\n",
      "https://www.ncbi.nlm.nih.gov/pmc/articles/PMC7144807/\n",
      "https://www.ncbi.nlm.nih.gov/pmc/articles/PMC7144807/#idm140134199099024title\n",
      "https://www.ncbi.nlm.nih.gov/pmc/articles/PMC7144807/#sec2title\n",
      "https://ieeexplore.ieee.org/iel7/27/7972016/07953535.pdf\n",
      "https://en.wikipedia.org/wiki/Corona_discharge\n",
      "https://en.wikipedia.org/wiki/Corona_discharge#Introduction\n",
      "https://en.wikipedia.org/wiki/Corona_discharge#Mechanism\n",
      "https://en.wikipedia.org/wiki/Corona_discharge#Positive_coronas\n",
      "https://en.wikipedia.org/wiki/Corona_discharge#Negative_coronas\n",
      "https://www.sciencedirect.com/topics/engineering/corona-discharge\n",
      "https://www.researchgate.net/publication/288313531_Charge_distribution_of_corona_charged_toner_particles\n",
      "https://www3.nd.edu/~sst/teaching/AME60637/reading/2004_JE_Adamiak_Atten_point_plane_simulation.pdf\n",
      "https://www.tandfonline.com/doi/abs/10.1080/02786820490462183\n",
      "https://iopscience.iop.org/article/10.1088/0953-8984/20/22/225010\n",
      "https://link.springer.com/article/10.1007/s11998-016-9899-9?shared-article-renderer\n",
      "https://www.nature.com/articles/srep23985\n",
      "https://pubs.acs.org/doi/10.1021/acs.langmuir.6b01727\n",
      "https://www.sciencedirect.com/topics/engineering/hydrophobic-recovery\n",
      "https://www.tandfonline.com/doi/abs/10.1080/00218466908072188\n",
      "https://www.tandfonline.com/doi/full/10.1080/15567036.2018.1511642?scroll=top&needAccess=true\n",
      "https://pubs.rsc.org/en/content/articlelanding/2011/sm/c1sm05849e\n",
      "https://www.ncbi.nlm.nih.gov/pmc/articles/PMC3958838/\n",
      "https://www.ihi.co.jp/var/ezwebin_site/storage/original/application/c73877fc235ab48d94af7b4563915734.pdf\n"
     ]
    }
   ],
   "source": [
    "try: \n",
    "    from googlesearch import search \n",
    "except ImportError:  \n",
    "    print(\"Error/Not found\") \n",
    "### Browsing the sourses using different search terms: \n",
    "search4_1 = \"Physical science of the coronavirus\"\n",
    "search4_2 = \"corona charge distribution\"\n",
    "search4_3 = \"corona adhesion to hydrophilic hydrophobic surfaces\"\n",
    "\n",
    "\n",
    "\n",
    "##limit to the first 10 relevant links:\n",
    "for a in search(search4_1, tld=\"co.in\", num=10, stop=10, pause=2): \n",
    "    print(a)\n",
    "for a in search(search4_2, tld=\"co.in\", num=10, stop=10, pause=2): \n",
    "    print(a)\n",
    "for a in search(search4_3, tld=\"co.in\", num=10, stop=10, pause=2): \n",
    "    print(a)"
   ]
  },
  {
   "cell_type": "markdown",
   "metadata": {},
   "source": [
    "# 5/ Persistence and stability on a multitude of substrates and sources (e.g., nasal discharge, sputum, urine, fecal matter, blood).'"
   ]
  },
  {
   "cell_type": "code",
   "execution_count": 25,
   "metadata": {},
   "outputs": [],
   "source": [
    "#Create different sets with specialized terms  from our questions \n",
    "Q5_a = tablesAbstract[tablesAbstract['abstract'].str.contains('nasal discharge')]\n",
    "Q5_b = tablesAbstract[tablesAbstract['abstract'].str.contains('sputum')]\n",
    "Q5_c = tablesAbstract[tablesAbstract['abstract'].str.contains('fecal matter')]\n",
    "Q5_d = tablesAbstract[tablesAbstract['abstract'].str.contains('outreach')]"
   ]
  },
  {
   "cell_type": "code",
   "execution_count": 26,
   "metadata": {},
   "outputs": [
    {
     "data": {
      "text/plain": [
       "(719, 6)"
      ]
     },
     "execution_count": 26,
     "metadata": {},
     "output_type": "execute_result"
    }
   ],
   "source": [
    "#Concatenitng the dataframes into one table per question and dropping null value \n",
    "Q5 = pd.concat([Q5_a,Q5_b,Q5_c,Q5_d])\n",
    "Q5.dropna(inplace=True)\n",
    "Q5.shape"
   ]
  },
  {
   "cell_type": "code",
   "execution_count": 27,
   "metadata": {
    "scrolled": true
   },
   "outputs": [
    {
     "data": {
      "text/html": [
       "<div>\n",
       "<style scoped>\n",
       "    .dataframe tbody tr th:only-of-type {\n",
       "        vertical-align: middle;\n",
       "    }\n",
       "\n",
       "    .dataframe tbody tr th {\n",
       "        vertical-align: top;\n",
       "    }\n",
       "\n",
       "    .dataframe thead th {\n",
       "        text-align: right;\n",
       "    }\n",
       "</style>\n",
       "<table border=\"1\" class=\"dataframe\">\n",
       "  <thead>\n",
       "    <tr style=\"text-align: right;\">\n",
       "      <th></th>\n",
       "      <th>title</th>\n",
       "      <th>abstract</th>\n",
       "      <th>publish_time</th>\n",
       "      <th>url</th>\n",
       "      <th>authors</th>\n",
       "      <th>words</th>\n",
       "    </tr>\n",
       "  </thead>\n",
       "  <tbody>\n",
       "    <tr>\n",
       "      <th>1292</th>\n",
       "      <td>The Serological and Virological Investigation ...</td>\n",
       "      <td>Two types of Canine Adenovirus (CAVs), Canine ...</td>\n",
       "      <td>2013-09-24</td>\n",
       "      <td>https://www.ncbi.nlm.nih.gov/pmc/articles/PMC3...</td>\n",
       "      <td>Bulut, Oya; Yapici, Orhan; Avci, Oguzhan; Sims...</td>\n",
       "      <td>[Two, types, of, Canine, Adenovirus, CAVs, Can...</td>\n",
       "    </tr>\n",
       "    <tr>\n",
       "      <th>1364</th>\n",
       "      <td>A SYBR Green I based real time RT-PCR assay fo...</td>\n",
       "      <td>BACKGROUND: Peste des petits ruminants (PPR) i...</td>\n",
       "      <td>2014-01-14</td>\n",
       "      <td>https://www.ncbi.nlm.nih.gov/pmc/articles/PMC3...</td>\n",
       "      <td>Abera, Tsegalem; Thangavelu, Ardhanary; Joy Ch...</td>\n",
       "      <td>[BACKGROUND, Peste, des, petits, ruminants, PP...</td>\n",
       "    </tr>\n",
       "    <tr>\n",
       "      <th>3277</th>\n",
       "      <td>Assessment of transport stress on cattle trave...</td>\n",
       "      <td>The effect of long-distance transport on cattl...</td>\n",
       "      <td>2018-06-26</td>\n",
       "      <td>https://www.ncbi.nlm.nih.gov/pmc/articles/PMC6...</td>\n",
       "      <td>Alam, Mahabub; Hasanuzzaman, Md; Hassan, Moham...</td>\n",
       "      <td>[The, effect, of, long, distance, transport, o...</td>\n",
       "    </tr>\n",
       "    <tr>\n",
       "      <th>9954</th>\n",
       "      <td>Prospective epidemiological study of common co...</td>\n",
       "      <td>To evaluate how often a common cold induces se...</td>\n",
       "      <td>2007-08-02</td>\n",
       "      <td>https://www.ncbi.nlm.nih.gov/pmc/articles/PMC7...</td>\n",
       "      <td>BIRCH, L.; ELBRØND, O.</td>\n",
       "      <td>[To, evaluate, how, often, a, common, cold, in...</td>\n",
       "    </tr>\n",
       "    <tr>\n",
       "      <th>12510</th>\n",
       "      <td>1085 DIAGNOSIS AND TREATMENT OF PURULENT NASOP...</td>\n",
       "      <td>132 children with purulent nasopharyngitis and...</td>\n",
       "      <td>1981</td>\n",
       "      <td>https://www.ncbi.nlm.nih.gov/pmc/articles/PMC7...</td>\n",
       "      <td>Todd, James; Todd, Nancy; Damato, James; Todd,...</td>\n",
       "      <td>[132, children, with, purulent, nasopharyngiti...</td>\n",
       "    </tr>\n",
       "  </tbody>\n",
       "</table>\n",
       "</div>"
      ],
      "text/plain": [
       "                                                   title  \\\n",
       "1292   The Serological and Virological Investigation ...   \n",
       "1364   A SYBR Green I based real time RT-PCR assay fo...   \n",
       "3277   Assessment of transport stress on cattle trave...   \n",
       "9954   Prospective epidemiological study of common co...   \n",
       "12510  1085 DIAGNOSIS AND TREATMENT OF PURULENT NASOP...   \n",
       "\n",
       "                                                abstract publish_time  \\\n",
       "1292   Two types of Canine Adenovirus (CAVs), Canine ...   2013-09-24   \n",
       "1364   BACKGROUND: Peste des petits ruminants (PPR) i...   2014-01-14   \n",
       "3277   The effect of long-distance transport on cattl...   2018-06-26   \n",
       "9954   To evaluate how often a common cold induces se...   2007-08-02   \n",
       "12510  132 children with purulent nasopharyngitis and...         1981   \n",
       "\n",
       "                                                     url  \\\n",
       "1292   https://www.ncbi.nlm.nih.gov/pmc/articles/PMC3...   \n",
       "1364   https://www.ncbi.nlm.nih.gov/pmc/articles/PMC3...   \n",
       "3277   https://www.ncbi.nlm.nih.gov/pmc/articles/PMC6...   \n",
       "9954   https://www.ncbi.nlm.nih.gov/pmc/articles/PMC7...   \n",
       "12510  https://www.ncbi.nlm.nih.gov/pmc/articles/PMC7...   \n",
       "\n",
       "                                                 authors  \\\n",
       "1292   Bulut, Oya; Yapici, Orhan; Avci, Oguzhan; Sims...   \n",
       "1364   Abera, Tsegalem; Thangavelu, Ardhanary; Joy Ch...   \n",
       "3277   Alam, Mahabub; Hasanuzzaman, Md; Hassan, Moham...   \n",
       "9954                              BIRCH, L.; ELBRØND, O.   \n",
       "12510  Todd, James; Todd, Nancy; Damato, James; Todd,...   \n",
       "\n",
       "                                                   words  \n",
       "1292   [Two, types, of, Canine, Adenovirus, CAVs, Can...  \n",
       "1364   [BACKGROUND, Peste, des, petits, ruminants, PP...  \n",
       "3277   [The, effect, of, long, distance, transport, o...  \n",
       "9954   [To, evaluate, how, often, a, common, cold, in...  \n",
       "12510  [132, children, with, purulent, nasopharyngiti...  "
      ]
     },
     "execution_count": 27,
     "metadata": {},
     "output_type": "execute_result"
    }
   ],
   "source": [
    "#Articles that we have\n",
    "Q5.head(5)"
   ]
  },
  {
   "cell_type": "markdown",
   "metadata": {},
   "source": [
    "Online Search"
   ]
  },
  {
   "cell_type": "code",
   "execution_count": 28,
   "metadata": {},
   "outputs": [
    {
     "name": "stdout",
     "output_type": "stream",
     "text": [
      "https://www.nih.gov/news-events/news-releases/new-coronavirus-stable-hours-surfaces\n",
      "https://www.ncbi.nlm.nih.gov/pmc/articles/PMC7190947/\n",
      "https://www.who.int/csr/sars/survival_2003_05_04/en/\n",
      "https://jvi.asm.org/content/89/9/4907\n",
      "https://www.nature.com/articles/s41423-020-0400-4\n",
      "https://www.novanthealth.org/healthy-headlines/is-it-allergies-or-the-coronavirus\n",
      "https://www.mountsinai.org/health-library/diseases-conditions/coronavirus\n",
      "https://www.nationaljewish.org/conditions/coronavirus-covid-19/symptoms\n",
      "https://www.nationaljewish.org/conditions/coronavirus-covid-19/treatment\n",
      "https://www.nationaljewish.org/patients-visitors/patient-info/important-updates/coronavirus-information-and-resources/health-tips/about-covid-19/covid-19-and-allergies\n",
      "https://wwwnc.cdc.gov/eid/article/26/9/20-2267_article\n",
      "https://www.cdc.gov/coronavirus/2019-ncov/lab/guidelines-clinical-specimens.html\n",
      "https://www.sciencedaily.com/releases/2020/06/200619143435.htm\n",
      "https://www.ncbi.nlm.nih.gov/pmc/articles/PMC3322905/\n",
      "https://medicalxpress.com/news/2020-06-environmental-conditions-affect-stability-virus.html\n",
      "https://www.news-medical.net/news/20200514/Research-reveals-how-long-SARS-CoV-2-survives-on-surfaces-in-feces-and-urine.aspx\n",
      "https://www.ncbi.nlm.nih.gov/pmc/articles/PMC7086689/\n",
      "https://www.ncbi.nlm.nih.gov/pmc/articles/PMC3322905/\n",
      "https://www.who.int/csr/sars/survival_2003_05_04/en/\n",
      "https://www.cdc.gov/coronavirus/2019-ncov/hcp/faq.html\n",
      "https://www.cdc.gov/coronavirus/2019-ncov/faq.html\n",
      "https://wwwnc.cdc.gov/eid/article/26/8/20-0681_article\n",
      "https://www.medrxiv.org/content/10.1101/2020.03.09.20033217v1.full.pdf\n",
      "https://www.sciencedirect.com/science/article/pii/S1201971220302733\n",
      "https://www.news-medical.net/news/20200514/Research-reveals-how-long-SARS-CoV-2-survives-on-surfaces-in-feces-and-urine.aspx\n",
      "https://www.sciencedirect.com/science/article/pii/S0887796320300146\n",
      "https://wwwnc.cdc.gov/eid/article/26/7/20-0839_article\n",
      "https://www.ncbi.nlm.nih.gov/pmc/articles/PMC7190947/\n",
      "https://www.who.int/csr/sars/survival_2003_05_04/en/\n",
      "https://www.sciencemag.org/news/2020/03/new-blood-tests-antibodies-could-show-true-scale-coronavirus-pandemic\n"
     ]
    }
   ],
   "source": [
    "try: \n",
    "    from googlesearch import search \n",
    "except ImportError:  \n",
    "    print(\"Error/Not found\") \n",
    "### Browsing the sourses using different search terms: \n",
    "search5_1 = \"Coronavirus stability on a substrates and sources\" \n",
    "search5_2 = \" coronavirus nasal discharge\"\n",
    "search5_3 = \"coronavirus stability on sputum\"\n",
    "search5_4 = \"coronavirus stability on urine\"\n",
    "search5_5 = \"coronavirus stability on fecal matter\" \n",
    "search5_6 = \"coronavirus stability on blood\"\n",
    "\n",
    "##limit to the first 10 relevant links:\n",
    "for a in search(search5_1, tld=\"co.in\", num=5, stop=5, pause=2): \n",
    "    print(a)\n",
    "for a in search(search5_2, tld=\"co.in\", num=5, stop=5, pause=2): \n",
    "    print(a)\n",
    "for a in search(search5_3, tld=\"co.in\", num=5, stop=5, pause=2): \n",
    "    print(a)\n",
    "for a in search(search5_4, tld=\"co.in\", num=5, stop=5, pause=2): \n",
    "    print(a)\n",
    "for a in search(search5_5, tld=\"co.in\", num=5, stop=5, pause=2): \n",
    "    print(a)\n",
    "for a in search(search5_6, tld=\"co.in\", num=5, stop=5, pause=2): \n",
    "    print(a)\n"
   ]
  },
  {
   "cell_type": "code",
   "execution_count": null,
   "metadata": {},
   "outputs": [],
   "source": [
    "\n"
   ]
  },
  {
   "cell_type": "markdown",
   "metadata": {},
   "source": [
    "# 6/ Persistence of virus on surfaces of different materials (e,g., copper, stainless steel, plastic)."
   ]
  },
  {
   "cell_type": "code",
   "execution_count": 29,
   "metadata": {},
   "outputs": [],
   "source": [
    "#Create different sets with specialized terms  from our questions \n",
    "Q6_a = tablesAbstract[tablesAbstract['abstract'].str.contains('persistence ')]\n",
    "Q6_b = tablesAbstract[tablesAbstract['abstract'].str.contains('different marterials')]"
   ]
  },
  {
   "cell_type": "code",
   "execution_count": 30,
   "metadata": {},
   "outputs": [
    {
     "data": {
      "text/plain": [
       "(556, 6)"
      ]
     },
     "execution_count": 30,
     "metadata": {},
     "output_type": "execute_result"
    }
   ],
   "source": [
    "#Concatenitng the dataframes into one table per question and dropping null value \n",
    "Q6 = pd.concat([Q6_a,Q6_b])\n",
    "Q6.dropna(inplace=True)\n",
    "Q6.shape"
   ]
  },
  {
   "cell_type": "code",
   "execution_count": 31,
   "metadata": {
    "scrolled": true
   },
   "outputs": [
    {
     "data": {
      "text/html": [
       "<div>\n",
       "<style scoped>\n",
       "    .dataframe tbody tr th:only-of-type {\n",
       "        vertical-align: middle;\n",
       "    }\n",
       "\n",
       "    .dataframe tbody tr th {\n",
       "        vertical-align: top;\n",
       "    }\n",
       "\n",
       "    .dataframe thead th {\n",
       "        text-align: right;\n",
       "    }\n",
       "</style>\n",
       "<table border=\"1\" class=\"dataframe\">\n",
       "  <thead>\n",
       "    <tr style=\"text-align: right;\">\n",
       "      <th></th>\n",
       "      <th>title</th>\n",
       "      <th>abstract</th>\n",
       "      <th>publish_time</th>\n",
       "      <th>url</th>\n",
       "      <th>authors</th>\n",
       "      <th>words</th>\n",
       "    </tr>\n",
       "  </thead>\n",
       "  <tbody>\n",
       "    <tr>\n",
       "      <th>596</th>\n",
       "      <td>GI-type T4SS-mediated horizontal transfer of t...</td>\n",
       "      <td>Pathogenicity islands (PAIs), a distinct type ...</td>\n",
       "      <td>2011-03-28</td>\n",
       "      <td>https://www.ncbi.nlm.nih.gov/pmc/articles/PMC3...</td>\n",
       "      <td>Li, Ming; Shen, Xiaodong; Yan, Jinghua; Han, H...</td>\n",
       "      <td>[Pathogenicity, islands, PAIs, a, distinct, ty...</td>\n",
       "    </tr>\n",
       "    <tr>\n",
       "      <th>667</th>\n",
       "      <td>Improved Immunological Tolerance Following Com...</td>\n",
       "      <td>Initially thought as being non-immunogenic, re...</td>\n",
       "      <td>2011-09-29</td>\n",
       "      <td>https://www.ncbi.nlm.nih.gov/pmc/articles/PMC3...</td>\n",
       "      <td>Adriouch, Sahil; Franck, Emilie; Drouot, Laure...</td>\n",
       "      <td>[Initially, thought, as, being, non, immunogen...</td>\n",
       "    </tr>\n",
       "    <tr>\n",
       "      <th>690</th>\n",
       "      <td>Agricultural intensification, priming for pers...</td>\n",
       "      <td>Emerging zoonoses threaten global health, yet ...</td>\n",
       "      <td>2012-01-07</td>\n",
       "      <td>https://www.ncbi.nlm.nih.gov/pmc/articles/PMC3...</td>\n",
       "      <td>Pulliam, Juliet R. C.; Epstein, Jonathan H.; D...</td>\n",
       "      <td>[Emerging, zoonoses, threaten, global, health,...</td>\n",
       "    </tr>\n",
       "    <tr>\n",
       "      <th>730</th>\n",
       "      <td>HMGB1, an alarmin promoting HIV dissemination ...</td>\n",
       "      <td>Dendritic cells (DCs) initiate immune response...</td>\n",
       "      <td>2011-10-28</td>\n",
       "      <td>https://www.ncbi.nlm.nih.gov/pmc/articles/PMC3...</td>\n",
       "      <td>Gougeon, M-L; Melki, M-T; Saïdi, H</td>\n",
       "      <td>[Dendritic, cells, DCs, initiate, immune, resp...</td>\n",
       "    </tr>\n",
       "    <tr>\n",
       "      <th>799</th>\n",
       "      <td>Foxp3(+) Regulatory T Cells Control Persistenc...</td>\n",
       "      <td>We earlier established a model of a persistent...</td>\n",
       "      <td>2012-03-20</td>\n",
       "      <td>https://www.ncbi.nlm.nih.gov/pmc/articles/PMC3...</td>\n",
       "      <td>Reuter, Dajana; Sparwasser, Tim; Hünig, Thomas...</td>\n",
       "      <td>[We, earlier, established, a, model, of, a, pe...</td>\n",
       "    </tr>\n",
       "  </tbody>\n",
       "</table>\n",
       "</div>"
      ],
      "text/plain": [
       "                                                 title  \\\n",
       "596  GI-type T4SS-mediated horizontal transfer of t...   \n",
       "667  Improved Immunological Tolerance Following Com...   \n",
       "690  Agricultural intensification, priming for pers...   \n",
       "730  HMGB1, an alarmin promoting HIV dissemination ...   \n",
       "799  Foxp3(+) Regulatory T Cells Control Persistenc...   \n",
       "\n",
       "                                              abstract publish_time  \\\n",
       "596  Pathogenicity islands (PAIs), a distinct type ...   2011-03-28   \n",
       "667  Initially thought as being non-immunogenic, re...   2011-09-29   \n",
       "690  Emerging zoonoses threaten global health, yet ...   2012-01-07   \n",
       "730  Dendritic cells (DCs) initiate immune response...   2011-10-28   \n",
       "799  We earlier established a model of a persistent...   2012-03-20   \n",
       "\n",
       "                                                   url  \\\n",
       "596  https://www.ncbi.nlm.nih.gov/pmc/articles/PMC3...   \n",
       "667  https://www.ncbi.nlm.nih.gov/pmc/articles/PMC3...   \n",
       "690  https://www.ncbi.nlm.nih.gov/pmc/articles/PMC3...   \n",
       "730  https://www.ncbi.nlm.nih.gov/pmc/articles/PMC3...   \n",
       "799  https://www.ncbi.nlm.nih.gov/pmc/articles/PMC3...   \n",
       "\n",
       "                                               authors  \\\n",
       "596  Li, Ming; Shen, Xiaodong; Yan, Jinghua; Han, H...   \n",
       "667  Adriouch, Sahil; Franck, Emilie; Drouot, Laure...   \n",
       "690  Pulliam, Juliet R. C.; Epstein, Jonathan H.; D...   \n",
       "730                 Gougeon, M-L; Melki, M-T; Saïdi, H   \n",
       "799  Reuter, Dajana; Sparwasser, Tim; Hünig, Thomas...   \n",
       "\n",
       "                                                 words  \n",
       "596  [Pathogenicity, islands, PAIs, a, distinct, ty...  \n",
       "667  [Initially, thought, as, being, non, immunogen...  \n",
       "690  [Emerging, zoonoses, threaten, global, health,...  \n",
       "730  [Dendritic, cells, DCs, initiate, immune, resp...  \n",
       "799  [We, earlier, established, a, model, of, a, pe...  "
      ]
     },
     "execution_count": 31,
     "metadata": {},
     "output_type": "execute_result"
    }
   ],
   "source": [
    "#Articles that we have\n",
    "Q6.head(5)"
   ]
  },
  {
   "cell_type": "markdown",
   "metadata": {},
   "source": [
    "Online Search"
   ]
  },
  {
   "cell_type": "code",
   "execution_count": 32,
   "metadata": {},
   "outputs": [
    {
     "name": "stdout",
     "output_type": "stream",
     "text": [
      "https://www.ncbi.nlm.nih.gov/pmc/articles/PMC7190947/\n",
      "https://www.ncbi.nlm.nih.gov/pmc/articles/PMC7190947/#idm140372985432512title\n",
      "https://www.ncbi.nlm.nih.gov/pmc/articles/PMC7190947/#__sec1title\n",
      "https://www.ncbi.nlm.nih.gov/pmc/articles/PMC7190947/#__sec2title\n",
      "https://www.ncbi.nlm.nih.gov/pmc/articles/PMC7190947/#__sec3title\n",
      "https://www.nih.gov/news-events/news-releases/new-coronavirus-stable-hours-surfaces\n",
      "https://www.journalofhospitalinfection.com/article/S0195-6701(20)30046-3/fulltext\n",
      "https://www.journalofhospitalinfection.com/article/S0195-6701(20)30046-3/fulltext#secsectitle0020\n",
      "https://www.journalofhospitalinfection.com/article/S0195-6701(20)30046-3/fulltext#secsectitle0025\n",
      "https://www.journalofhospitalinfection.com/article/S0195-6701(20)30046-3/fulltext#secsectitle0030\n",
      "https://www.journalofhospitalinfection.com/article/S0195-6701(20)30046-3/fulltext#secsectitle0050\n",
      "https://www.journalofhospitalinfection.com/article/S0195-6701(20)30046-3/pdf\n",
      "https://www.medicalnewstoday.com/articles/coronaviruses-how-long-can-they-survive-on-surfaces\n",
      "https://www.medrxiv.org/content/10.1101/2020.03.09.20033217v1.full.pdf\n",
      "https://www.mdpi.com/1660-4601/17/9/3132/pdf\n",
      "https://www.bbc.com/future/article/20200317-covid-19-how-long-does-the-coronavirus-last-on-surfaces\n",
      "https://www.theguardian.com/world/2020/may/27/how-long-does-coronavirus-survive-on-different-surfaces\n",
      "https://mbio.asm.org/content/6/6/e01697-15\n",
      "https://www.nejm.org/doi/full/10.1056/nejmc2004973\n",
      "https://www.researchgate.net/publication/339070922_Persistence_of_coronaviruses_on_inanimate_surfaces_and_its_inactivation_with_biocidal_agents\n"
     ]
    }
   ],
   "source": [
    "try: \n",
    "    from googlesearch import search \n",
    "except ImportError:  \n",
    "    print(\"Error/Not found\") \n",
    "### Browsing the sourses using different search terms: \n",
    "search6_1 = \"Coronavirus Persistence of virus on surfaces of different materials \" \n",
    "\n",
    "##limit to the first 10 relevant links:\n",
    "for a in search(search6_1, tld=\"co.in\", num=20, stop=20, pause=2): \n",
    "    print(a)"
   ]
  },
  {
   "cell_type": "markdown",
   "metadata": {},
   "source": [
    "# 7/ Natural history of the virus and shedding of it from an infected person"
   ]
  },
  {
   "cell_type": "code",
   "execution_count": 33,
   "metadata": {},
   "outputs": [],
   "source": [
    "#Create different sets with specialized terms  from our questions \n",
    "Q7_a = tablesAbstract[tablesAbstract['abstract'].str.contains('Natural history ')]\n",
    "Q7_b = tablesAbstract[tablesAbstract['abstract'].str.contains('shedding')]\n",
    "Q7_c = tablesAbstract[tablesAbstract['abstract'].str.contains('infected person')]"
   ]
  },
  {
   "cell_type": "code",
   "execution_count": 34,
   "metadata": {},
   "outputs": [
    {
     "data": {
      "text/plain": [
       "(1166, 6)"
      ]
     },
     "execution_count": 34,
     "metadata": {},
     "output_type": "execute_result"
    }
   ],
   "source": [
    "#Concatenitng the dataframes into one table per question and dropping null value \n",
    "Q7 = pd.concat([Q7_a,Q7_b, Q7_c])\n",
    "Q7.dropna(inplace=True)\n",
    "Q7.shape"
   ]
  },
  {
   "cell_type": "code",
   "execution_count": 35,
   "metadata": {
    "scrolled": true
   },
   "outputs": [
    {
     "data": {
      "text/html": [
       "<div>\n",
       "<style scoped>\n",
       "    .dataframe tbody tr th:only-of-type {\n",
       "        vertical-align: middle;\n",
       "    }\n",
       "\n",
       "    .dataframe tbody tr th {\n",
       "        vertical-align: top;\n",
       "    }\n",
       "\n",
       "    .dataframe thead th {\n",
       "        text-align: right;\n",
       "    }\n",
       "</style>\n",
       "<table border=\"1\" class=\"dataframe\">\n",
       "  <thead>\n",
       "    <tr style=\"text-align: right;\">\n",
       "      <th></th>\n",
       "      <th>title</th>\n",
       "      <th>abstract</th>\n",
       "      <th>publish_time</th>\n",
       "      <th>url</th>\n",
       "      <th>authors</th>\n",
       "      <th>words</th>\n",
       "    </tr>\n",
       "  </thead>\n",
       "  <tbody>\n",
       "    <tr>\n",
       "      <th>53552</th>\n",
       "      <td>Vaccine platforms to control Lassa fever.</td>\n",
       "      <td>INTRODUCTION Lassa virus (LASV), the most prom...</td>\n",
       "      <td>2016</td>\n",
       "      <td>https://doi.org/10.1080/14760584.2016.1184575;...</td>\n",
       "      <td>Lukashevich, Igor S; Pushko, Peter</td>\n",
       "      <td>[INTRODUCTION, Lassa, virus, LASV, the, most, ...</td>\n",
       "    </tr>\n",
       "    <tr>\n",
       "      <th>318</th>\n",
       "      <td>Exposure of cats to low doses of FeLV: serocon...</td>\n",
       "      <td>In felids, feline leukemia virus (FeLV) infect...</td>\n",
       "      <td>2009-10-28</td>\n",
       "      <td>https://www.ncbi.nlm.nih.gov/pmc/articles/PMC2...</td>\n",
       "      <td>Major, Andrea; Cattori, Valentino; Boenzli, Ev...</td>\n",
       "      <td>[In, felids, feline, leukemia, virus, FeLV, in...</td>\n",
       "    </tr>\n",
       "    <tr>\n",
       "      <th>518</th>\n",
       "      <td>Implications of copy number variation in peopl...</td>\n",
       "      <td>Copy number variation is common in the human g...</td>\n",
       "      <td>2010-08-10</td>\n",
       "      <td>https://www.ncbi.nlm.nih.gov/pmc/articles/PMC3...</td>\n",
       "      <td>de Smith, Adam J.; Trewick, Anne L.; Blakemore...</td>\n",
       "      <td>[Copy, number, variation, is, common, in, the,...</td>\n",
       "    </tr>\n",
       "    <tr>\n",
       "      <th>750</th>\n",
       "      <td>Validation of Self-swab for Virologic Confirma...</td>\n",
       "      <td>Few studies have investigated the validity of ...</td>\n",
       "      <td>2011-12-23</td>\n",
       "      <td>https://academic.oup.com/jid/article-pdf/205/4...</td>\n",
       "      <td>Ip, Dennis K. M.; Schutten, Martin; Fang, Vick...</td>\n",
       "      <td>[Few, studies, have, investigated, the, validi...</td>\n",
       "    </tr>\n",
       "    <tr>\n",
       "      <th>809</th>\n",
       "      <td>Membrane Fusion and Cell Entry of XMRV Are pH-...</td>\n",
       "      <td>Xenotropic murine leukemia virus-related virus...</td>\n",
       "      <td>2012-03-27</td>\n",
       "      <td>https://www.ncbi.nlm.nih.gov/pmc/articles/PMC3...</td>\n",
       "      <td>Côté, Marceline; Zheng, Yi-Min; Liu, Shan-Lu</td>\n",
       "      <td>[Xenotropic, murine, leukemia, virus, related,...</td>\n",
       "    </tr>\n",
       "  </tbody>\n",
       "</table>\n",
       "</div>"
      ],
      "text/plain": [
       "                                                   title  \\\n",
       "53552          Vaccine platforms to control Lassa fever.   \n",
       "318    Exposure of cats to low doses of FeLV: serocon...   \n",
       "518    Implications of copy number variation in peopl...   \n",
       "750    Validation of Self-swab for Virologic Confirma...   \n",
       "809    Membrane Fusion and Cell Entry of XMRV Are pH-...   \n",
       "\n",
       "                                                abstract publish_time  \\\n",
       "53552  INTRODUCTION Lassa virus (LASV), the most prom...         2016   \n",
       "318    In felids, feline leukemia virus (FeLV) infect...   2009-10-28   \n",
       "518    Copy number variation is common in the human g...   2010-08-10   \n",
       "750    Few studies have investigated the validity of ...   2011-12-23   \n",
       "809    Xenotropic murine leukemia virus-related virus...   2012-03-27   \n",
       "\n",
       "                                                     url  \\\n",
       "53552  https://doi.org/10.1080/14760584.2016.1184575;...   \n",
       "318    https://www.ncbi.nlm.nih.gov/pmc/articles/PMC2...   \n",
       "518    https://www.ncbi.nlm.nih.gov/pmc/articles/PMC3...   \n",
       "750    https://academic.oup.com/jid/article-pdf/205/4...   \n",
       "809    https://www.ncbi.nlm.nih.gov/pmc/articles/PMC3...   \n",
       "\n",
       "                                                 authors  \\\n",
       "53552                 Lukashevich, Igor S; Pushko, Peter   \n",
       "318    Major, Andrea; Cattori, Valentino; Boenzli, Ev...   \n",
       "518    de Smith, Adam J.; Trewick, Anne L.; Blakemore...   \n",
       "750    Ip, Dennis K. M.; Schutten, Martin; Fang, Vick...   \n",
       "809         Côté, Marceline; Zheng, Yi-Min; Liu, Shan-Lu   \n",
       "\n",
       "                                                   words  \n",
       "53552  [INTRODUCTION, Lassa, virus, LASV, the, most, ...  \n",
       "318    [In, felids, feline, leukemia, virus, FeLV, in...  \n",
       "518    [Copy, number, variation, is, common, in, the,...  \n",
       "750    [Few, studies, have, investigated, the, validi...  \n",
       "809    [Xenotropic, murine, leukemia, virus, related,...  "
      ]
     },
     "execution_count": 35,
     "metadata": {},
     "output_type": "execute_result"
    }
   ],
   "source": [
    "#Articles that we have\n",
    "Q7.head(5)"
   ]
  },
  {
   "cell_type": "markdown",
   "metadata": {},
   "source": [
    "Online Search"
   ]
  },
  {
   "cell_type": "code",
   "execution_count": 36,
   "metadata": {},
   "outputs": [
    {
     "name": "stdout",
     "output_type": "stream",
     "text": [
      "https://www.ncbi.nlm.nih.gov/books/NBK92483/\n",
      "https://www.nejm.org/doi/full/10.1056/NEJMc2013020\n",
      "https://www.nap.edu/read/10915/chapter/5\n",
      "https://journals.lww.com/pidj/fulltext/2005/11001/history_and_recent_advances_in_coronavirus.12.aspx\n",
      "https://www.thelancet.com/journals/lancet/article/PIIS0140-6736(20)30183-5/fulltext\n",
      "https://www.thelancet.com/journals/lancet/article/PIIS0140-6736(20)30183-5/fulltext#seccestitle70\n",
      "https://www.thelancet.com/journals/lancet/article/PIIS0140-6736(20)30183-5/fulltext#seccestitle80\n",
      "https://www.thelancet.com/journals/lancet/article/PIIS0140-6736(20)30183-5/fulltext#seccestitle170\n",
      "https://www.thelancet.com/journals/lancet/article/PIIS0140-6736(20)30183-5/fulltext#seccestitle180\n",
      "https://www.sciencedirect.com/science/article/pii/S0753332220306867\n",
      "https://www.statnews.com/2020/03/09/people-shed-high-levels-of-coronavirus-study-finds-but-most-are-likely-not-infectious-after-recovery-begins/\n",
      "https://www.medscape.com/answers/2500114-197467/what-is-the-duration-of-viral-shedding-in-persons-with-coronavirus-disease-2019-covid-19\n",
      "https://www.cdc.gov/coronavirus/2019-ncov/hcp/faq.html\n",
      "https://www.who.int/news-room/commentaries/detail/transmission-of-sars-cov-2-implications-for-infection-prevention-precautions\n",
      "https://www.who.int/news-room/commentaries/detail/criteria-for-releasing-covid-19-patients-from-isolation\n",
      "https://www.news-medical.net/news/20200515/Viral-shedding-among-pre-symptomatic-COVID-19-patients-finds-study.aspx\n",
      "https://www.livescience.com/coronavirus-sheds-early-in-disease.html\n",
      "http://www.ecdc.europa.eu/sites/default/files/documents/COVID-19-Discharge-criteria.pdf\n",
      "https://www.nejm.org/doi/full/10.1056/NEJMe2009758\n",
      "https://www.ncbi.nlm.nih.gov/pmc/articles/PMC7237903/\n"
     ]
    }
   ],
   "source": [
    "try: \n",
    "    from googlesearch import search \n",
    "except ImportError:  \n",
    "    print(\"Error/Not found\") \n",
    "### Browsing the sourses using different search terms: \n",
    "search7_1 = \"Natural history of the coronavirus\" \n",
    "search7_2 = \"shedding of corona from an infected person\"\n",
    "\n",
    "##limit to the first 10 relevant links:\n",
    "for a in search(search7_1, tld=\"co.in\", num=10, stop=10, pause=2): \n",
    "    print(a)\n",
    "for a in search(search7_2, tld=\"co.in\", num=10, stop=10, pause=2): \n",
    "    print(a)"
   ]
  },
  {
   "cell_type": "markdown",
   "metadata": {},
   "source": [
    "# 8/ Implementation of diagnostics and products to improve clinical processes"
   ]
  },
  {
   "cell_type": "code",
   "execution_count": 37,
   "metadata": {},
   "outputs": [],
   "source": [
    "#Create different sets with specialized terms  from our questions \n",
    "Q8_a = tablesAbstract[tablesAbstract['abstract'].str.contains('clinical processes')]\n",
    "Q8_b = tablesAbstract[tablesAbstract['abstract'].str.contains('diagnostics')]"
   ]
  },
  {
   "cell_type": "code",
   "execution_count": 38,
   "metadata": {},
   "outputs": [
    {
     "data": {
      "text/plain": [
       "(1031, 6)"
      ]
     },
     "execution_count": 38,
     "metadata": {},
     "output_type": "execute_result"
    }
   ],
   "source": [
    "#Concatenitng the dataframes into one table per question and dropping null value \n",
    "Q8 = pd.concat([Q8_a,Q8_b])\n",
    "Q8.dropna(inplace=True)\n",
    "Q8.shape"
   ]
  },
  {
   "cell_type": "code",
   "execution_count": 39,
   "metadata": {
    "scrolled": true
   },
   "outputs": [
    {
     "data": {
      "text/html": [
       "<div>\n",
       "<style scoped>\n",
       "    .dataframe tbody tr th:only-of-type {\n",
       "        vertical-align: middle;\n",
       "    }\n",
       "\n",
       "    .dataframe tbody tr th {\n",
       "        vertical-align: top;\n",
       "    }\n",
       "\n",
       "    .dataframe thead th {\n",
       "        text-align: right;\n",
       "    }\n",
       "</style>\n",
       "<table border=\"1\" class=\"dataframe\">\n",
       "  <thead>\n",
       "    <tr style=\"text-align: right;\">\n",
       "      <th></th>\n",
       "      <th>title</th>\n",
       "      <th>abstract</th>\n",
       "      <th>publish_time</th>\n",
       "      <th>url</th>\n",
       "      <th>authors</th>\n",
       "      <th>words</th>\n",
       "    </tr>\n",
       "  </thead>\n",
       "  <tbody>\n",
       "    <tr>\n",
       "      <th>31088</th>\n",
       "      <td>COVID-19: impact on and recommendations for br...</td>\n",
       "      <td>The ensuing COVID-19 pandemic poses unpreceden...</td>\n",
       "      <td>2020-06-01</td>\n",
       "      <td>https://doi.org/10.1530/erc-20-0157; https://w...</td>\n",
       "      <td>Chan, Jack Junjie; Sim, Yirong; Ow, Samuel Gua...</td>\n",
       "      <td>[The, ensuing, COVID, 19, pandemic, poses, unp...</td>\n",
       "    </tr>\n",
       "    <tr>\n",
       "      <th>158888</th>\n",
       "      <td>Allocation of Scarce Resources in a Pandemic: ...</td>\n",
       "      <td>The aim of this systematic review was to locat...</td>\n",
       "      <td>2020-04-16</td>\n",
       "      <td>https://www.ncbi.nlm.nih.gov/pubmed/32295662/;...</td>\n",
       "      <td>Romney, Douglas; Fox, Hannah; Carlson, Stephan...</td>\n",
       "      <td>[The, aim, of, this, systematic, review, was, ...</td>\n",
       "    </tr>\n",
       "    <tr>\n",
       "      <th>74</th>\n",
       "      <td>MIMOX: a web tool for phage display based epit...</td>\n",
       "      <td>BACKGROUND: Phage display is widely used in ba...</td>\n",
       "      <td>2006-10-12</td>\n",
       "      <td>https://www.ncbi.nlm.nih.gov/pmc/articles/PMC1...</td>\n",
       "      <td>Huang, Jian; Gutteridge, Alex; Honda, Wataru; ...</td>\n",
       "      <td>[BACKGROUND, Phage, display, is, widely, used,...</td>\n",
       "    </tr>\n",
       "    <tr>\n",
       "      <th>292</th>\n",
       "      <td>Emerging Technologies for the Detection of Rab...</td>\n",
       "      <td>The diagnosis of rabies is routinely based on ...</td>\n",
       "      <td>2009-09-29</td>\n",
       "      <td>https://www.ncbi.nlm.nih.gov/pmc/articles/PMC2...</td>\n",
       "      <td>Fooks, Anthony R.; Johnson, Nicholas; Freuling...</td>\n",
       "      <td>[The, diagnosis, of, rabies, is, routinely, ba...</td>\n",
       "    </tr>\n",
       "    <tr>\n",
       "      <th>509</th>\n",
       "      <td>Avipoxviruses: infection biology and their use...</td>\n",
       "      <td>Avipoxviruses (APVs) belong to the Chordopoxvi...</td>\n",
       "      <td>2011-02-03</td>\n",
       "      <td>https://www.ncbi.nlm.nih.gov/pmc/articles/PMC3...</td>\n",
       "      <td>Weli, Simon C; Tryland, Morten</td>\n",
       "      <td>[Avipoxviruses, APVs, belong, to, the, Chordop...</td>\n",
       "    </tr>\n",
       "  </tbody>\n",
       "</table>\n",
       "</div>"
      ],
      "text/plain": [
       "                                                    title  \\\n",
       "31088   COVID-19: impact on and recommendations for br...   \n",
       "158888  Allocation of Scarce Resources in a Pandemic: ...   \n",
       "74      MIMOX: a web tool for phage display based epit...   \n",
       "292     Emerging Technologies for the Detection of Rab...   \n",
       "509     Avipoxviruses: infection biology and their use...   \n",
       "\n",
       "                                                 abstract publish_time  \\\n",
       "31088   The ensuing COVID-19 pandemic poses unpreceden...   2020-06-01   \n",
       "158888  The aim of this systematic review was to locat...   2020-04-16   \n",
       "74      BACKGROUND: Phage display is widely used in ba...   2006-10-12   \n",
       "292     The diagnosis of rabies is routinely based on ...   2009-09-29   \n",
       "509     Avipoxviruses (APVs) belong to the Chordopoxvi...   2011-02-03   \n",
       "\n",
       "                                                      url  \\\n",
       "31088   https://doi.org/10.1530/erc-20-0157; https://w...   \n",
       "158888  https://www.ncbi.nlm.nih.gov/pubmed/32295662/;...   \n",
       "74      https://www.ncbi.nlm.nih.gov/pmc/articles/PMC1...   \n",
       "292     https://www.ncbi.nlm.nih.gov/pmc/articles/PMC2...   \n",
       "509     https://www.ncbi.nlm.nih.gov/pmc/articles/PMC3...   \n",
       "\n",
       "                                                  authors  \\\n",
       "31088   Chan, Jack Junjie; Sim, Yirong; Ow, Samuel Gua...   \n",
       "158888  Romney, Douglas; Fox, Hannah; Carlson, Stephan...   \n",
       "74      Huang, Jian; Gutteridge, Alex; Honda, Wataru; ...   \n",
       "292     Fooks, Anthony R.; Johnson, Nicholas; Freuling...   \n",
       "509                        Weli, Simon C; Tryland, Morten   \n",
       "\n",
       "                                                    words  \n",
       "31088   [The, ensuing, COVID, 19, pandemic, poses, unp...  \n",
       "158888  [The, aim, of, this, systematic, review, was, ...  \n",
       "74      [BACKGROUND, Phage, display, is, widely, used,...  \n",
       "292     [The, diagnosis, of, rabies, is, routinely, ba...  \n",
       "509     [Avipoxviruses, APVs, belong, to, the, Chordop...  "
      ]
     },
     "execution_count": 39,
     "metadata": {},
     "output_type": "execute_result"
    }
   ],
   "source": [
    "#Articles that we have\n",
    "Q8.head(5)"
   ]
  },
  {
   "cell_type": "markdown",
   "metadata": {},
   "source": [
    "Online Search"
   ]
  },
  {
   "cell_type": "code",
   "execution_count": 40,
   "metadata": {},
   "outputs": [
    {
     "name": "stdout",
     "output_type": "stream",
     "text": [
      "https://www.fda.gov/news-events/press-announcements/coronavirus-covid-19-update-fda-issues-new-policy-help-expedite-availability-diagnostics\n",
      "https://www.fda.gov/regulatory-information/search-fda-guidance-documents/policy-coronavirus-disease-2019-tests-during-public-health-emergency-revised\n",
      "https://www.hhs.gov/about/news/2020/03/09/hhs-supports-development-of-first-high-throughput-covid-19-diagnostic-test.html\n",
      "https://www.hhs.gov/about/news/2020/03/13/hhs-funds-development-covid-19-diagnostic-tests.html\n",
      "https://www.who.int/blueprint/priority-diseases/key-action/Coronavirus_Roadmap_V9.pdf?ua=1\n",
      "https://www.who.int/docs/default-source/coronaviruse/covid-strategy-update-14april2020.pdf?sfvrsn=29da3ba0_19\n",
      "https://www.nih.gov/news-events/news-releases/nih-launches-analytics-platform-harness-nationwide-covid-19-patient-data-speed-treatments\n",
      "https://www.nih.gov/news-events/news-releases/nih-mobilizes-national-innovation-initiative-covid-19-diagnostics\n",
      "https://www.modernhealthcare.com/technology/labs-face-challenges-creating-diagnosis-testing-covid-19\n",
      "https://www.cdc.gov/coronavirus/2019-ncov/hcp/guidance-hcf.html\n",
      "https://www.cdc.gov/coronavirus/2019-ncov/lab/reporting-lab-data.html\n",
      "https://www.cms.gov/files/document/FFCRA-Part-43-FAQs.pdf\n",
      "https://www.health.mil/Military-Health-Topics/Combat-Support/Public-Health/Coronavirus\n",
      "http://www.oecd.org/coronavirus/policy-responses/beyond-containment-health-systems-responses-to-covid-19-in-the-oecd-6ab740c0/\n",
      "https://www.canada.ca/en/institutes-health-research/news/2020/03/government-of-canada-funds-49-additional-covid-19-research-projects-details-of-the-funded-projects.html\n",
      "https://www.catalyze-group.com/covid-19-grants-and-funding/\n",
      "https://www.idsociety.org/practice-guideline/covid-19-guideline-diagnostics/\n",
      "https://www.molecular.abbott/us/en/products/infectious-disease/RealTime-SARS-CoV-2-Assay\n",
      "https://www.selectscience.net/industry-news/ortho-clinical-diagnostics-releases-covid-19-antibody-test/?artID=51156\n",
      "https://diagnostics.roche.com/us/en/news-listing/2020/roche-begins-shipments-of-first-400000-covid-19-tests-to-laboratories-across-US-to-begin-patient-testing-under-fda-emergency-use-authorization.html\n"
     ]
    }
   ],
   "source": [
    "try: \n",
    "    from googlesearch import search \n",
    "except ImportError:  \n",
    "    print(\"Error/Not found\") \n",
    "### Browsing the sourses using different search terms: \n",
    "search8_1 = \"Coronavirus Implementation of diagnostics and products to improve clinical processes \" \n",
    "\n",
    "##limit to the first 10 relevant links:\n",
    "for a in search(search8_1, tld=\"co.in\", num=20, stop=20, pause=2): \n",
    "    print(a)"
   ]
  },
  {
   "cell_type": "markdown",
   "metadata": {},
   "source": [
    "# 9/ Disease models, including animal models for infection, disease and transmission"
   ]
  },
  {
   "cell_type": "code",
   "execution_count": 41,
   "metadata": {},
   "outputs": [],
   "source": [
    "#Create different sets with specialized terms  from our questions \n",
    "Q9_a = tablesAbstract[tablesAbstract['abstract'].str.contains('Disease model')]\n",
    "Q9_b = tablesAbstract[tablesAbstract['abstract'].str.contains('animal model')]\n",
    "Q9_c = tablesAbstract[tablesAbstract['abstract'].str.contains('animal infection')]"
   ]
  },
  {
   "cell_type": "code",
   "execution_count": 42,
   "metadata": {},
   "outputs": [
    {
     "data": {
      "text/plain": [
       "(1290, 6)"
      ]
     },
     "execution_count": 42,
     "metadata": {},
     "output_type": "execute_result"
    }
   ],
   "source": [
    "#Concatenitng the dataframes into one table per question and dropping null value \n",
    "Q9 = pd.concat([Q9_a,Q9_b,Q9_c])\n",
    "Q9.dropna(inplace=True)\n",
    "Q9.shape"
   ]
  },
  {
   "cell_type": "code",
   "execution_count": 43,
   "metadata": {
    "scrolled": true
   },
   "outputs": [
    {
     "data": {
      "text/html": [
       "<div>\n",
       "<style scoped>\n",
       "    .dataframe tbody tr th:only-of-type {\n",
       "        vertical-align: middle;\n",
       "    }\n",
       "\n",
       "    .dataframe tbody tr th {\n",
       "        vertical-align: top;\n",
       "    }\n",
       "\n",
       "    .dataframe thead th {\n",
       "        text-align: right;\n",
       "    }\n",
       "</style>\n",
       "<table border=\"1\" class=\"dataframe\">\n",
       "  <thead>\n",
       "    <tr style=\"text-align: right;\">\n",
       "      <th></th>\n",
       "      <th>title</th>\n",
       "      <th>abstract</th>\n",
       "      <th>publish_time</th>\n",
       "      <th>url</th>\n",
       "      <th>authors</th>\n",
       "      <th>words</th>\n",
       "    </tr>\n",
       "  </thead>\n",
       "  <tbody>\n",
       "    <tr>\n",
       "      <th>3835</th>\n",
       "      <td>Assessment of the cost effectiveness of compul...</td>\n",
       "      <td>Bovine viral diarrhea (BVD) is a chronic disea...</td>\n",
       "      <td>2019-03-01</td>\n",
       "      <td>https://www.ncbi.nlm.nih.gov/pmc/articles/PMC6...</td>\n",
       "      <td>ISODA, Norikazu; ASANO, Akihiro; ICHIJO, Michi...</td>\n",
       "      <td>[Bovine, viral, diarrhea, BVD, is, a, chronic,...</td>\n",
       "    </tr>\n",
       "    <tr>\n",
       "      <th>64629</th>\n",
       "      <td>On predicting the novel COVID-19 human infecti...</td>\n",
       "      <td>Since the introduction of the novel Corona Vir...</td>\n",
       "      <td>2020-04-07</td>\n",
       "      <td>https://doi.org/10.1101/2020.04.05.20054593</td>\n",
       "      <td>Ayubali, Arsath Abbasali; Satheesh, Sara Roshini</td>\n",
       "      <td>[Since, the, introduction, of, the, novel, Cor...</td>\n",
       "    </tr>\n",
       "    <tr>\n",
       "      <th>82530</th>\n",
       "      <td>Independent and competing disease risks: impli...</td>\n",
       "      <td>Disease models usually assume disease to act i...</td>\n",
       "      <td>2006</td>\n",
       "      <td>https://www.ncbi.nlm.nih.gov/pubmed/16671018/</td>\n",
       "      <td>Jolles, Anna E; Etienne, Rampal S; Olff, Han</td>\n",
       "      <td>[Disease, models, usually, assume, disease, to...</td>\n",
       "    </tr>\n",
       "    <tr>\n",
       "      <th>129912</th>\n",
       "      <td>Speed and strength of an epidemic intervention</td>\n",
       "      <td>An epidemic can be characterized by its speed ...</td>\n",
       "      <td>2020-03-03</td>\n",
       "      <td>https://doi.org/10.1101/2020.03.02.974048</td>\n",
       "      <td>Dushoff, Jonathan; Park, Sang Woo</td>\n",
       "      <td>[An, epidemic, can, be, characterized, by, its...</td>\n",
       "    </tr>\n",
       "    <tr>\n",
       "      <th>158776</th>\n",
       "      <td>Controlling disease outbreaks in wildlife usin...</td>\n",
       "      <td>Disease modelling is one approach for providin...</td>\n",
       "      <td>2012-01-16</td>\n",
       "      <td>https://www.ncbi.nlm.nih.gov/pubmed/22243996/;...</td>\n",
       "      <td>Cowled, Brendan D; Garner, M Graeme; Negus, Ka...</td>\n",
       "      <td>[Disease, modelling, is, one, approach, for, p...</td>\n",
       "    </tr>\n",
       "  </tbody>\n",
       "</table>\n",
       "</div>"
      ],
      "text/plain": [
       "                                                    title  \\\n",
       "3835    Assessment of the cost effectiveness of compul...   \n",
       "64629   On predicting the novel COVID-19 human infecti...   \n",
       "82530   Independent and competing disease risks: impli...   \n",
       "129912     Speed and strength of an epidemic intervention   \n",
       "158776  Controlling disease outbreaks in wildlife usin...   \n",
       "\n",
       "                                                 abstract publish_time  \\\n",
       "3835    Bovine viral diarrhea (BVD) is a chronic disea...   2019-03-01   \n",
       "64629   Since the introduction of the novel Corona Vir...   2020-04-07   \n",
       "82530   Disease models usually assume disease to act i...         2006   \n",
       "129912  An epidemic can be characterized by its speed ...   2020-03-03   \n",
       "158776  Disease modelling is one approach for providin...   2012-01-16   \n",
       "\n",
       "                                                      url  \\\n",
       "3835    https://www.ncbi.nlm.nih.gov/pmc/articles/PMC6...   \n",
       "64629         https://doi.org/10.1101/2020.04.05.20054593   \n",
       "82530       https://www.ncbi.nlm.nih.gov/pubmed/16671018/   \n",
       "129912          https://doi.org/10.1101/2020.03.02.974048   \n",
       "158776  https://www.ncbi.nlm.nih.gov/pubmed/22243996/;...   \n",
       "\n",
       "                                                  authors  \\\n",
       "3835    ISODA, Norikazu; ASANO, Akihiro; ICHIJO, Michi...   \n",
       "64629    Ayubali, Arsath Abbasali; Satheesh, Sara Roshini   \n",
       "82530        Jolles, Anna E; Etienne, Rampal S; Olff, Han   \n",
       "129912                  Dushoff, Jonathan; Park, Sang Woo   \n",
       "158776  Cowled, Brendan D; Garner, M Graeme; Negus, Ka...   \n",
       "\n",
       "                                                    words  \n",
       "3835    [Bovine, viral, diarrhea, BVD, is, a, chronic,...  \n",
       "64629   [Since, the, introduction, of, the, novel, Cor...  \n",
       "82530   [Disease, models, usually, assume, disease, to...  \n",
       "129912  [An, epidemic, can, be, characterized, by, its...  \n",
       "158776  [Disease, modelling, is, one, approach, for, p...  "
      ]
     },
     "execution_count": 43,
     "metadata": {},
     "output_type": "execute_result"
    }
   ],
   "source": [
    "#Articles that we have\n",
    "Q9.head(5)"
   ]
  },
  {
   "cell_type": "markdown",
   "metadata": {},
   "source": [
    "Online Search"
   ]
  },
  {
   "cell_type": "code",
   "execution_count": 44,
   "metadata": {},
   "outputs": [
    {
     "name": "stdout",
     "output_type": "stream",
     "text": [
      "https://www.ncbi.nlm.nih.gov/pmc/articles/PMC7097581/\n",
      "https://www.ncbi.nlm.nih.gov/pmc/articles/PMC7097581/#Abs3title\n",
      "https://www.ncbi.nlm.nih.gov/pmc/articles/PMC7097581/#Sec1title\n",
      "https://www.ncbi.nlm.nih.gov/pmc/articles/PMC7097581/#idm140364300987008title\n",
      "https://www.ncbi.nlm.nih.gov/pmc/articles/PMC7141629/\n",
      "https://www.ijidonline.com/article/S1201-9712(20)30117-X/fulltext\n",
      "https://wwwnc.cdc.gov/eid/article/26/7/20-1595_article\n",
      "https://wwwnc.cdc.gov/eid/article/26/10/20-1620_article\n",
      "https://wwwnc.cdc.gov/eid/article/26/7/20-1595-t1\n",
      "https://wwwnc.cdc.gov/eid/article/26/7/20-1595-t3\n",
      "https://www.ncbi.nlm.nih.gov/pmc/articles/PMC7269044/\n",
      "https://www.sciencemag.org/news/2020/04/mice-hamsters-ferrets-monkeys-which-lab-animals-can-help-defeat-new-coronavirus\n",
      "https://www.nature.com/articles/s41684-020-0558-5\n",
      "https://www.sciencedirect.com/science/article/pii/S2352771416300829\n",
      "https://www.cdc.gov/coronavirus/2019-ncov/daily-life-coping/animals.html\n",
      "https://www.cdc.gov/coronavirus/2019-ncov/daily-life-coping/pets.html\n",
      "https://www.cdc.gov/coronavirus/2019-ncov/animals/interim-guidance-managing-people-in-home-care-and-isolation-who-have-pets.html\n",
      "https://www.cdc.gov/coronavirus/2019-ncov/animals/animal-testing.html\n",
      "https://www.healio.com/news/infectious-disease/20200409/qa-research-about-covid19-transmission-in-animals-is-urgently-needed\n",
      "https://academic.oup.com/cid/article-pdf/47/6/864/933087/47-6-864.pdf\n"
     ]
    }
   ],
   "source": [
    "try: \n",
    "    from googlesearch import search \n",
    "except ImportError:  \n",
    "    print(\"Error/Not found\") \n",
    "### Browsing the sourses using different search terms: \n",
    "search9_1 = \" Corona models for infection, disease and transmission \" \n",
    "search9_2 = \"corona animal models for infection, disease and transmission\" \n",
    "\n",
    "\n",
    "##limit to the first 10 relevant links:\n",
    "for a in search(search9_1, tld=\"co.in\", num=10, stop=10, pause=2): \n",
    "    print(a)\n",
    "for a in search(search9_2, tld=\"co.in\", num=10, stop=10, pause=2): \n",
    "    print(a)"
   ]
  },
  {
   "cell_type": "markdown",
   "metadata": {},
   "source": [
    "# 10/ Tools and studies to monitor phenotypic change and potential adaptation of the virus"
   ]
  },
  {
   "cell_type": "code",
   "execution_count": 45,
   "metadata": {},
   "outputs": [],
   "source": [
    "#Create different sets with specialized terms  from our questions \n",
    "Q10_a = tablesAbstract[tablesAbstract['abstract'].str.contains('monitor phenotypic change')]\n",
    "Q10_b = tablesAbstract[tablesAbstract['abstract'].str.contains('adaptation')]"
   ]
  },
  {
   "cell_type": "code",
   "execution_count": 46,
   "metadata": {},
   "outputs": [
    {
     "data": {
      "text/plain": [
       "(1019, 6)"
      ]
     },
     "execution_count": 46,
     "metadata": {},
     "output_type": "execute_result"
    }
   ],
   "source": [
    "#Concatenitng the dataframes into one table per question and dropping null value \n",
    "Q10 = pd.concat([Q10_a,Q10_b])\n",
    "Q10.dropna(inplace=True)\n",
    "Q10.shape"
   ]
  },
  {
   "cell_type": "code",
   "execution_count": 47,
   "metadata": {
    "scrolled": true
   },
   "outputs": [
    {
     "data": {
      "text/html": [
       "<div>\n",
       "<style scoped>\n",
       "    .dataframe tbody tr th:only-of-type {\n",
       "        vertical-align: middle;\n",
       "    }\n",
       "\n",
       "    .dataframe tbody tr th {\n",
       "        vertical-align: top;\n",
       "    }\n",
       "\n",
       "    .dataframe thead th {\n",
       "        text-align: right;\n",
       "    }\n",
       "</style>\n",
       "<table border=\"1\" class=\"dataframe\">\n",
       "  <thead>\n",
       "    <tr style=\"text-align: right;\">\n",
       "      <th></th>\n",
       "      <th>title</th>\n",
       "      <th>abstract</th>\n",
       "      <th>publish_time</th>\n",
       "      <th>url</th>\n",
       "      <th>authors</th>\n",
       "      <th>words</th>\n",
       "    </tr>\n",
       "  </thead>\n",
       "  <tbody>\n",
       "    <tr>\n",
       "      <th>65</th>\n",
       "      <td>Model-Based Design of Growth-Attenuated Viruses</td>\n",
       "      <td>Live-virus vaccines activate both humoral and ...</td>\n",
       "      <td>2006-09-01</td>\n",
       "      <td>https://www.ncbi.nlm.nih.gov/pmc/articles/PMC1...</td>\n",
       "      <td>Lim, Kwang-il; Lang, Tobias; Lam, Vy; Yin, John</td>\n",
       "      <td>[Live, virus, vaccines, activate, both, humora...</td>\n",
       "    </tr>\n",
       "    <tr>\n",
       "      <th>179</th>\n",
       "      <td>Evolutionary and Transmission Dynamics of Reas...</td>\n",
       "      <td>H5N1 highly pathogenic avian influenza (HPAI) ...</td>\n",
       "      <td>2008-08-22</td>\n",
       "      <td>https://www.ncbi.nlm.nih.gov/pmc/articles/PMC2...</td>\n",
       "      <td>Lam, Tommy Tsan-Yuk; Hon, Chung-Chau; Pybus, O...</td>\n",
       "      <td>[H5N1, highly, pathogenic, avian, influenza, H...</td>\n",
       "    </tr>\n",
       "    <tr>\n",
       "      <th>180</th>\n",
       "      <td>Endothelial Cells Support Persistent Gammaherp...</td>\n",
       "      <td>A variety of human diseases are associated wit...</td>\n",
       "      <td>2008-09-12</td>\n",
       "      <td>https://www.ncbi.nlm.nih.gov/pmc/articles/PMC2...</td>\n",
       "      <td>Suárez, Andrea Luísa; van Dyk, Linda Faye</td>\n",
       "      <td>[A, variety, of, human, diseases, are, associa...</td>\n",
       "    </tr>\n",
       "    <tr>\n",
       "      <th>224</th>\n",
       "      <td>The Complete Genome and Proteome of Laribacter...</td>\n",
       "      <td>Laribacter hongkongensis is a newly discovered...</td>\n",
       "      <td>2009-03-13</td>\n",
       "      <td>https://www.ncbi.nlm.nih.gov/pmc/articles/PMC2...</td>\n",
       "      <td>Woo, Patrick C. Y.; Lau, Susanna K. P.; Tse, H...</td>\n",
       "      <td>[Laribacter, hongkongensis, is, a, newly, disc...</td>\n",
       "    </tr>\n",
       "    <tr>\n",
       "      <th>229</th>\n",
       "      <td>Multivalent HA DNA Vaccination Protects agains...</td>\n",
       "      <td>BACKGROUND: Sustained outbreaks of highly path...</td>\n",
       "      <td>2008-06-18</td>\n",
       "      <td>https://www.ncbi.nlm.nih.gov/pmc/articles/PMC2...</td>\n",
       "      <td>Rao, Srinivas; Kong, Wing-Pui; Wei, Chih-Jen; ...</td>\n",
       "      <td>[BACKGROUND, Sustained, outbreaks, of, highly,...</td>\n",
       "    </tr>\n",
       "  </tbody>\n",
       "</table>\n",
       "</div>"
      ],
      "text/plain": [
       "                                                 title  \\\n",
       "65     Model-Based Design of Growth-Attenuated Viruses   \n",
       "179  Evolutionary and Transmission Dynamics of Reas...   \n",
       "180  Endothelial Cells Support Persistent Gammaherp...   \n",
       "224  The Complete Genome and Proteome of Laribacter...   \n",
       "229  Multivalent HA DNA Vaccination Protects agains...   \n",
       "\n",
       "                                              abstract publish_time  \\\n",
       "65   Live-virus vaccines activate both humoral and ...   2006-09-01   \n",
       "179  H5N1 highly pathogenic avian influenza (HPAI) ...   2008-08-22   \n",
       "180  A variety of human diseases are associated wit...   2008-09-12   \n",
       "224  Laribacter hongkongensis is a newly discovered...   2009-03-13   \n",
       "229  BACKGROUND: Sustained outbreaks of highly path...   2008-06-18   \n",
       "\n",
       "                                                   url  \\\n",
       "65   https://www.ncbi.nlm.nih.gov/pmc/articles/PMC1...   \n",
       "179  https://www.ncbi.nlm.nih.gov/pmc/articles/PMC2...   \n",
       "180  https://www.ncbi.nlm.nih.gov/pmc/articles/PMC2...   \n",
       "224  https://www.ncbi.nlm.nih.gov/pmc/articles/PMC2...   \n",
       "229  https://www.ncbi.nlm.nih.gov/pmc/articles/PMC2...   \n",
       "\n",
       "                                               authors  \\\n",
       "65     Lim, Kwang-il; Lang, Tobias; Lam, Vy; Yin, John   \n",
       "179  Lam, Tommy Tsan-Yuk; Hon, Chung-Chau; Pybus, O...   \n",
       "180          Suárez, Andrea Luísa; van Dyk, Linda Faye   \n",
       "224  Woo, Patrick C. Y.; Lau, Susanna K. P.; Tse, H...   \n",
       "229  Rao, Srinivas; Kong, Wing-Pui; Wei, Chih-Jen; ...   \n",
       "\n",
       "                                                 words  \n",
       "65   [Live, virus, vaccines, activate, both, humora...  \n",
       "179  [H5N1, highly, pathogenic, avian, influenza, H...  \n",
       "180  [A, variety, of, human, diseases, are, associa...  \n",
       "224  [Laribacter, hongkongensis, is, a, newly, disc...  \n",
       "229  [BACKGROUND, Sustained, outbreaks, of, highly,...  "
      ]
     },
     "execution_count": 47,
     "metadata": {},
     "output_type": "execute_result"
    }
   ],
   "source": [
    "#Articles that we have\n",
    "Q10.head(5)"
   ]
  },
  {
   "cell_type": "markdown",
   "metadata": {},
   "source": [
    "Online Search"
   ]
  },
  {
   "cell_type": "code",
   "execution_count": 48,
   "metadata": {},
   "outputs": [
    {
     "name": "stdout",
     "output_type": "stream",
     "text": [
      "https://www.who.int/blueprint/priority-diseases/key-action/Coronavirus_Roadmap_V9.pdf\n",
      "https://www.ncbi.nlm.nih.gov/books/NBK92477/\n",
      "https://www.nature.com/articles/d41586-020-00502-w\n",
      "https://www.nature.com/articles/d41586-020-01248-1\n",
      "https://www.nature.com/articles/d41586-020-00660-x\n",
      "https://www.nature.com/nature/articles?type=news\n",
      "https://www.nature.com/articles/s41564-020-0695-z\n",
      "https://www.cdc.gov/coronavirus/2019-ncov/downloads/genomic-characterization-of-2019-nCoV-Lancet-1-29-2020.pdf?fbclid=IwAR2Zydm-5uJubUXzbVFmwfh3ZQuWd7BniTR31Yukku64-daudp3tob0TjBk\n",
      "https://www.nationalgeographic.com/science/2020/03/how-coronavirus-mutations-can-track-its-spread-and-disprove-conspiracies/\n",
      "https://www.pasteur.fr/en/all-covid-19-institut-pasteur/research-projects/coronavirus-covid-19-research-projects\n",
      "https://www.who.int/blueprint/priority-diseases/key-action/Coronavirus_Roadmap_V9.pdf\n",
      "https://www.ncbi.nlm.nih.gov/books/NBK92477/\n",
      "https://www.pasteur.fr/en/all-covid-19-institut-pasteur/research-projects/coronavirus-covid-19-research-projects\n",
      "https://www.promega.com/applications/virus-detection-assay-coronavirus-detection-covid-19-sars-cov-2/\n",
      "https://www.cdc.gov/coronavirus/2019-ncov/faq.html\n",
      "https://www.cdc.gov/coronavirus/2019-ncov/php/monitoring-evaluating-community-mitigation-strategies.html\n",
      "https://news.usc.edu/167401/new-technology-coronavirus-usc-experts-virtual-reality-smartphone-apps/\n",
      "https://www.drugabuse.gov/about-nida/noras-blog/2020/04/covid-19-potential-implications-individuals-substance-use-disorders\n",
      "https://www.health.mil/Reference-Center/Technical-Documents/2020/03/24/DoD-COVID-19-Practice-Management-Guide\n",
      "https://www.canada.ca/en/public-health/services/diseases/2019-novel-coronavirus-infection/guidance-documents/risk-informed-decision-making-workplaces-businesses-covid-19-pandemic.html\n"
     ]
    }
   ],
   "source": [
    "try: \n",
    "    from googlesearch import search \n",
    "except ImportError:  \n",
    "    print(\"Error/Not found\") \n",
    "### Browsing the sourses using different search terms: \n",
    "search10_1 = \"Tools and studies to monitor phenotypic change coronavirus \" \n",
    "search10_2 = \"Tools and studies to monitor potential adaptation coronavirus \" \n",
    "\n",
    "\n",
    "##limit to the first 10 relevant links:\n",
    "for a in search(search10_1, tld=\"co.in\", num=10, stop=10, pause=2): \n",
    "    print(a)\n",
    "for a in search(search10_2, tld=\"co.in\", num=10, stop=10, pause=2): \n",
    "    print(a)"
   ]
  },
  {
   "cell_type": "markdown",
   "metadata": {},
   "source": [
    "# 11/ Immune response and immunity"
   ]
  },
  {
   "cell_type": "code",
   "execution_count": 49,
   "metadata": {},
   "outputs": [],
   "source": [
    "#Create different sets with specialized terms  from our questions \n",
    "Q11_a = tablesAbstract[tablesAbstract['abstract'].str.contains('immunity ')]"
   ]
  },
  {
   "cell_type": "code",
   "execution_count": 50,
   "metadata": {},
   "outputs": [
    {
     "data": {
      "text/plain": [
       "(2282, 6)"
      ]
     },
     "execution_count": 50,
     "metadata": {},
     "output_type": "execute_result"
    }
   ],
   "source": [
    "#Concatenitng the dataframes into one table per question and dropping null value \n",
    "Q11 = pd.concat([Q11_a])\n",
    "Q11.dropna(inplace=True)\n",
    "Q11.shape"
   ]
  },
  {
   "cell_type": "code",
   "execution_count": 51,
   "metadata": {
    "scrolled": true
   },
   "outputs": [
    {
     "data": {
      "text/html": [
       "<div>\n",
       "<style scoped>\n",
       "    .dataframe tbody tr th:only-of-type {\n",
       "        vertical-align: middle;\n",
       "    }\n",
       "\n",
       "    .dataframe tbody tr th {\n",
       "        vertical-align: top;\n",
       "    }\n",
       "\n",
       "    .dataframe thead th {\n",
       "        text-align: right;\n",
       "    }\n",
       "</style>\n",
       "<table border=\"1\" class=\"dataframe\">\n",
       "  <thead>\n",
       "    <tr style=\"text-align: right;\">\n",
       "      <th></th>\n",
       "      <th>title</th>\n",
       "      <th>abstract</th>\n",
       "      <th>publish_time</th>\n",
       "      <th>url</th>\n",
       "      <th>authors</th>\n",
       "      <th>words</th>\n",
       "    </tr>\n",
       "  </thead>\n",
       "  <tbody>\n",
       "    <tr>\n",
       "      <th>92</th>\n",
       "      <td>Immune pathways and defence mechanisms in hone...</td>\n",
       "      <td>Social insects are able to mount both group-le...</td>\n",
       "      <td>2006-10-01</td>\n",
       "      <td>https://www.ncbi.nlm.nih.gov/pmc/articles/PMC1...</td>\n",
       "      <td>Evans, J D; Aronstein, K; Chen, Y P; Hetru, C;...</td>\n",
       "      <td>[Social, insects, are, able, to, mount, both, ...</td>\n",
       "    </tr>\n",
       "    <tr>\n",
       "      <th>95</th>\n",
       "      <td>Immune reconstitution inflammatory syndrome (I...</td>\n",
       "      <td>The immune reconstitution inflammatory syndrom...</td>\n",
       "      <td>2007-05-08</td>\n",
       "      <td>https://www.ncbi.nlm.nih.gov/pmc/articles/PMC1...</td>\n",
       "      <td>Murdoch, David M; Venter, Willem DF; Van Rie, ...</td>\n",
       "      <td>[The, immune, reconstitution, inflammatory, sy...</td>\n",
       "    </tr>\n",
       "    <tr>\n",
       "      <th>175</th>\n",
       "      <td>Patterns of Positive Selection in Six Mammalia...</td>\n",
       "      <td>Genome-wide scans for positively selected gene...</td>\n",
       "      <td>2008-08-01</td>\n",
       "      <td>https://www.ncbi.nlm.nih.gov/pmc/articles/PMC2...</td>\n",
       "      <td>Kosiol, Carolin; Vinař, Tomáš; da Fonseca, Rut...</td>\n",
       "      <td>[Genome, wide, scans, for, positively, selecte...</td>\n",
       "    </tr>\n",
       "    <tr>\n",
       "      <th>185</th>\n",
       "      <td>Composition and Function of Haemolymphatic Tis...</td>\n",
       "      <td>BACKGROUND: Studies of wild animals responding...</td>\n",
       "      <td>2008-10-15</td>\n",
       "      <td>https://www.ncbi.nlm.nih.gov/pmc/articles/PMC2...</td>\n",
       "      <td>Bray, Daniel P.; Bennett, Malcolm; Stockley, P...</td>\n",
       "      <td>[BACKGROUND, Studies, of, wild, animals, respo...</td>\n",
       "    </tr>\n",
       "    <tr>\n",
       "      <th>192</th>\n",
       "      <td>Nasal Delivery of an Adenovirus-Based Vaccine ...</td>\n",
       "      <td>Pre-existing immunity to human adenovirus sero...</td>\n",
       "      <td>2008-10-29</td>\n",
       "      <td>https://www.ncbi.nlm.nih.gov/pmc/articles/PMC2...</td>\n",
       "      <td>Croyle, Maria A.; Patel, Ami; Tran, Kaylie N.;...</td>\n",
       "      <td>[Pre, existing, immunity, to, human, adenoviru...</td>\n",
       "    </tr>\n",
       "  </tbody>\n",
       "</table>\n",
       "</div>"
      ],
      "text/plain": [
       "                                                 title  \\\n",
       "92   Immune pathways and defence mechanisms in hone...   \n",
       "95   Immune reconstitution inflammatory syndrome (I...   \n",
       "175  Patterns of Positive Selection in Six Mammalia...   \n",
       "185  Composition and Function of Haemolymphatic Tis...   \n",
       "192  Nasal Delivery of an Adenovirus-Based Vaccine ...   \n",
       "\n",
       "                                              abstract publish_time  \\\n",
       "92   Social insects are able to mount both group-le...   2006-10-01   \n",
       "95   The immune reconstitution inflammatory syndrom...   2007-05-08   \n",
       "175  Genome-wide scans for positively selected gene...   2008-08-01   \n",
       "185  BACKGROUND: Studies of wild animals responding...   2008-10-15   \n",
       "192  Pre-existing immunity to human adenovirus sero...   2008-10-29   \n",
       "\n",
       "                                                   url  \\\n",
       "92   https://www.ncbi.nlm.nih.gov/pmc/articles/PMC1...   \n",
       "95   https://www.ncbi.nlm.nih.gov/pmc/articles/PMC1...   \n",
       "175  https://www.ncbi.nlm.nih.gov/pmc/articles/PMC2...   \n",
       "185  https://www.ncbi.nlm.nih.gov/pmc/articles/PMC2...   \n",
       "192  https://www.ncbi.nlm.nih.gov/pmc/articles/PMC2...   \n",
       "\n",
       "                                               authors  \\\n",
       "92   Evans, J D; Aronstein, K; Chen, Y P; Hetru, C;...   \n",
       "95   Murdoch, David M; Venter, Willem DF; Van Rie, ...   \n",
       "175  Kosiol, Carolin; Vinař, Tomáš; da Fonseca, Rut...   \n",
       "185  Bray, Daniel P.; Bennett, Malcolm; Stockley, P...   \n",
       "192  Croyle, Maria A.; Patel, Ami; Tran, Kaylie N.;...   \n",
       "\n",
       "                                                 words  \n",
       "92   [Social, insects, are, able, to, mount, both, ...  \n",
       "95   [The, immune, reconstitution, inflammatory, sy...  \n",
       "175  [Genome, wide, scans, for, positively, selecte...  \n",
       "185  [BACKGROUND, Studies, of, wild, animals, respo...  \n",
       "192  [Pre, existing, immunity, to, human, adenoviru...  "
      ]
     },
     "execution_count": 51,
     "metadata": {},
     "output_type": "execute_result"
    }
   ],
   "source": [
    "#Articles that we have\n",
    "Q11.head(5)"
   ]
  },
  {
   "cell_type": "markdown",
   "metadata": {},
   "source": [
    "Online Search"
   ]
  },
  {
   "cell_type": "code",
   "execution_count": 52,
   "metadata": {},
   "outputs": [
    {
     "name": "stdout",
     "output_type": "stream",
     "text": [
      "https://www.cnn.com/videos/health/2020/07/14/moderna-coronavirus-vaccine-promising-results-gupta-lklv-tsr-vpx.cnn\n",
      "https://www.medscape.com/viewarticle/933999\n",
      "https://www.cnn.com/2020/07/15/politics/tate-reeves-mississippi-coronavirus-herd-immunity/index.html\n",
      "https://www.nature.com/articles/d41586-020-01989-z\n",
      "https://www.nature.com/articles/d41586-020-01092-3\n",
      "https://www.nature.com/articles/d41586-020-01056-7\n",
      "https://www.nature.com/articles/d41586-020-01409-2\n",
      "https://www.webmd.com/lung/coronavirus-immunity-reinfection\n",
      "https://www.forbes.com/sites/tommybeer/2020/07/13/study-immunity-to-coronavirus-may-fade-away-within-weeks/\n",
      "https://www.umms.org/coronavirus/what-to-know/diagnosis-symptoms/immunity\n",
      "https://www.cnn.com/2020/07/13/health/covid-immunity-antibody-response-uk-study-wellness/index.html\n",
      "https://www.uwmedicine.org/coronavirus/antibodytest\n",
      "https://www.cdc.gov/coronavirus/2019-ncov/hcp/faq.html\n",
      "https://www.statnews.com/2020/06/11/coronavirus-immunity-vaccine-development/\n",
      "https://hartfordhospital.org/about-hh/news-center/news-detail?articleid=26926&publicId=461\n",
      "https://www.bbc.com/news/health-52446965\n",
      "https://www.bbc.com/news/health-53248660\n",
      "https://www.mayoclinic.org/diseases-conditions/coronavirus/in-depth/herd-immunity-and-coronavirus/art-20486808\n",
      "https://newsnetwork.mayoclinic.org/discussion/herd-immunity-and-covid-19-what-you-need-to-know/\n",
      "https://www.who.int/news-room/commentaries/detail/immunity-passports-in-the-context-of-covid-19\n"
     ]
    }
   ],
   "source": [
    "try: \n",
    "    from googlesearch import search \n",
    "except ImportError:  \n",
    "    print(\"Error/Not found\") \n",
    "### Browsing the sourses using different search terms: \n",
    "search11_1 = \"Coronavirus immunity \" \n",
    "\n",
    "##limit to the first 10 relevant links:\n",
    "for a in search(search11_1, tld=\"co.in\", num=20, stop=20, pause=2): \n",
    "    print(a)"
   ]
  },
  {
   "cell_type": "markdown",
   "metadata": {},
   "source": [
    "# 12/ Effectiveness of movement control strategies to prevent secondary transmission in health care and community settings"
   ]
  },
  {
   "cell_type": "code",
   "execution_count": 53,
   "metadata": {},
   "outputs": [],
   "source": [
    "#Create different sets with specialized terms  from our questions \n",
    "Q12_a = tablesAbstract[tablesAbstract['abstract'].str.contains('movement control')]\n",
    "Q12_b = tablesAbstract[tablesAbstract['abstract'].str.contains('secondary transmission')]"
   ]
  },
  {
   "cell_type": "code",
   "execution_count": 54,
   "metadata": {},
   "outputs": [
    {
     "data": {
      "text/plain": [
       "(75, 6)"
      ]
     },
     "execution_count": 54,
     "metadata": {},
     "output_type": "execute_result"
    }
   ],
   "source": [
    "#Concatenitng the dataframes into one table per question and dropping null value \n",
    "Q12 = pd.concat([Q12_a,Q12_b])\n",
    "Q12.dropna(inplace=True)\n",
    "Q12.shape"
   ]
  },
  {
   "cell_type": "code",
   "execution_count": 55,
   "metadata": {
    "scrolled": true
   },
   "outputs": [
    {
     "data": {
      "text/html": [
       "<div>\n",
       "<style scoped>\n",
       "    .dataframe tbody tr th:only-of-type {\n",
       "        vertical-align: middle;\n",
       "    }\n",
       "\n",
       "    .dataframe tbody tr th {\n",
       "        vertical-align: top;\n",
       "    }\n",
       "\n",
       "    .dataframe thead th {\n",
       "        text-align: right;\n",
       "    }\n",
       "</style>\n",
       "<table border=\"1\" class=\"dataframe\">\n",
       "  <thead>\n",
       "    <tr style=\"text-align: right;\">\n",
       "      <th></th>\n",
       "      <th>title</th>\n",
       "      <th>abstract</th>\n",
       "      <th>publish_time</th>\n",
       "      <th>url</th>\n",
       "      <th>authors</th>\n",
       "      <th>words</th>\n",
       "    </tr>\n",
       "  </thead>\n",
       "  <tbody>\n",
       "    <tr>\n",
       "      <th>26505</th>\n",
       "      <td>The coronavirus pandemic in Malaysia: A commen...</td>\n",
       "      <td>As of mid-May 2020, it has been 5 months since...</td>\n",
       "      <td>2020-06-25</td>\n",
       "      <td>https://doi.org/10.1037/tra0000897; https://ww...</td>\n",
       "      <td>Kaur, Sheena</td>\n",
       "      <td>[As, of, mid, May, 2020, it, has, been, 5, mon...</td>\n",
       "    </tr>\n",
       "    <tr>\n",
       "      <th>39196</th>\n",
       "      <td>Prevention of infectious diseases in cat shelt...</td>\n",
       "      <td>OVERVIEW Recommendations are given in relation...</td>\n",
       "      <td>2013</td>\n",
       "      <td>https://doi.org/10.1177/1098612x13489210; http...</td>\n",
       "      <td>Möstl, Karin; Egberink, Herman; Addie, Diane; ...</td>\n",
       "      <td>[OVERVIEW, Recommendations, are, given, in, re...</td>\n",
       "    </tr>\n",
       "    <tr>\n",
       "      <th>51811</th>\n",
       "      <td>The threat of a support surface translation af...</td>\n",
       "      <td>This study examined how postural threat in the...</td>\n",
       "      <td>2016</td>\n",
       "      <td>https://doi.org/10.1016/j.gaitpost.2016.08.031...</td>\n",
       "      <td>Phanthanourak, Angel L; Cleworth, Taylor W; Ad...</td>\n",
       "      <td>[This, study, examined, how, postural, threat,...</td>\n",
       "    </tr>\n",
       "    <tr>\n",
       "      <th>61604</th>\n",
       "      <td>Risk Factors for Non-Contact Injury in Adolesc...</td>\n",
       "      <td>BACKGROUND Adolescent cricket pace bowlers are...</td>\n",
       "      <td>2017</td>\n",
       "      <td>https://doi.org/10.1007/s40279-017-0778-z; htt...</td>\n",
       "      <td>Forrest, Mitchell R L; Hebert, Jeffrey J; Scot...</td>\n",
       "      <td>[BACKGROUND, Adolescent, cricket, pace, bowler...</td>\n",
       "    </tr>\n",
       "    <tr>\n",
       "      <th>65031</th>\n",
       "      <td>Spreading Analysis of COVID-19 Epidemic in Ban...</td>\n",
       "      <td>The coronavirus disease 2019 (COVID-19), which...</td>\n",
       "      <td>2020-06-16</td>\n",
       "      <td>http://medrxiv.org/cgi/content/short/2020.06.1...</td>\n",
       "      <td>Arifutzzaman, A.; Fargana, A.; Rakhimov, A. A.</td>\n",
       "      <td>[The, coronavirus, disease, 2019, COVID, 19, w...</td>\n",
       "    </tr>\n",
       "  </tbody>\n",
       "</table>\n",
       "</div>"
      ],
      "text/plain": [
       "                                                   title  \\\n",
       "26505  The coronavirus pandemic in Malaysia: A commen...   \n",
       "39196  Prevention of infectious diseases in cat shelt...   \n",
       "51811  The threat of a support surface translation af...   \n",
       "61604  Risk Factors for Non-Contact Injury in Adolesc...   \n",
       "65031  Spreading Analysis of COVID-19 Epidemic in Ban...   \n",
       "\n",
       "                                                abstract publish_time  \\\n",
       "26505  As of mid-May 2020, it has been 5 months since...   2020-06-25   \n",
       "39196  OVERVIEW Recommendations are given in relation...         2013   \n",
       "51811  This study examined how postural threat in the...         2016   \n",
       "61604  BACKGROUND Adolescent cricket pace bowlers are...         2017   \n",
       "65031  The coronavirus disease 2019 (COVID-19), which...   2020-06-16   \n",
       "\n",
       "                                                     url  \\\n",
       "26505  https://doi.org/10.1037/tra0000897; https://ww...   \n",
       "39196  https://doi.org/10.1177/1098612x13489210; http...   \n",
       "51811  https://doi.org/10.1016/j.gaitpost.2016.08.031...   \n",
       "61604  https://doi.org/10.1007/s40279-017-0778-z; htt...   \n",
       "65031  http://medrxiv.org/cgi/content/short/2020.06.1...   \n",
       "\n",
       "                                                 authors  \\\n",
       "26505                                       Kaur, Sheena   \n",
       "39196  Möstl, Karin; Egberink, Herman; Addie, Diane; ...   \n",
       "51811  Phanthanourak, Angel L; Cleworth, Taylor W; Ad...   \n",
       "61604  Forrest, Mitchell R L; Hebert, Jeffrey J; Scot...   \n",
       "65031     Arifutzzaman, A.; Fargana, A.; Rakhimov, A. A.   \n",
       "\n",
       "                                                   words  \n",
       "26505  [As, of, mid, May, 2020, it, has, been, 5, mon...  \n",
       "39196  [OVERVIEW, Recommendations, are, given, in, re...  \n",
       "51811  [This, study, examined, how, postural, threat,...  \n",
       "61604  [BACKGROUND, Adolescent, cricket, pace, bowler...  \n",
       "65031  [The, coronavirus, disease, 2019, COVID, 19, w...  "
      ]
     },
     "execution_count": 55,
     "metadata": {},
     "output_type": "execute_result"
    }
   ],
   "source": [
    "#Articles that we have\n",
    "Q12.head(5)"
   ]
  },
  {
   "cell_type": "markdown",
   "metadata": {},
   "source": [
    "Online Search"
   ]
  },
  {
   "cell_type": "code",
   "execution_count": 56,
   "metadata": {},
   "outputs": [
    {
     "name": "stdout",
     "output_type": "stream",
     "text": [
      "https://www.ncbi.nlm.nih.gov/pmc/articles/PMC4170875/\n",
      "https://www.ncbi.nlm.nih.gov/pmc/articles/PMC4170875/#S1title\n",
      "https://www.ncbi.nlm.nih.gov/pmc/articles/PMC4170875/#S6title\n",
      "https://www.ncbi.nlm.nih.gov/pmc/articles/PMC4170875/#S13title\n",
      "https://www.ncbi.nlm.nih.gov/pmc/articles/PMC4170875/#S16title\n",
      "https://www.thelancet.com/journals/lanpub/article/PIIS2468-2667(20)30073-6/fulltext\n",
      "https://www.cdc.gov/flu/professionals/infectioncontrol/healthcaresettings.htm\n",
      "https://www.cdc.gov/coronavirus/2019-ncov/hcp/non-us-settings/guidance-identify-hcw-patients.html\n",
      "https://www.uptodate.com/contents/coronavirus-disease-2019-covid-19-infection-control-in-health-care-and-home-settings\n",
      "https://www.uptodate.com/contents/coronavirus-disease-2019-covid-19-infection-control-in-health-care-and-home-settings?sectionName=When+PPE+is+limited&topicRef=127556&anchor=H2787998130&source=see_link\n"
     ]
    }
   ],
   "source": [
    "try: \n",
    "    from googlesearch import search \n",
    "except ImportError:  \n",
    "    print(\"Error/Not found\") \n",
    "### Browsing the sourses using different search terms: \n",
    "search12_1 = \"Effectiveness of movement control strategies to prevent secondary transmission in health care and community settings \" \n",
    "\n",
    "##limit to the first 10 relevant links:\n",
    "for a in search(search12_1, tld=\"co.in\", num=10, stop=10, pause=2): \n",
    "    print(a)"
   ]
  },
  {
   "cell_type": "markdown",
   "metadata": {},
   "source": [
    "# 13/ Effectiveness of personal protective equipment (PPE) and its usefulness to reduce risk of transmission in health care and community settings"
   ]
  },
  {
   "cell_type": "code",
   "execution_count": 57,
   "metadata": {},
   "outputs": [],
   "source": [
    "#Create different sets with specialized terms  from our questions \n",
    "Q13_a = tablesAbstract[tablesAbstract['abstract'].str.contains('PPE effectiveness ')]\n",
    "Q13_b = tablesAbstract[tablesAbstract['abstract'].str.contains('masks')]"
   ]
  },
  {
   "cell_type": "code",
   "execution_count": 58,
   "metadata": {},
   "outputs": [
    {
     "data": {
      "text/plain": [
       "(747, 6)"
      ]
     },
     "execution_count": 58,
     "metadata": {},
     "output_type": "execute_result"
    }
   ],
   "source": [
    "#Concatenitng the dataframes into one table per question and dropping null value \n",
    "Q13 = pd.concat([Q13_a,Q13_b])\n",
    "Q13.dropna(inplace=True)\n",
    "Q13.shape"
   ]
  },
  {
   "cell_type": "code",
   "execution_count": 59,
   "metadata": {
    "scrolled": false
   },
   "outputs": [
    {
     "data": {
      "text/html": [
       "<div>\n",
       "<style scoped>\n",
       "    .dataframe tbody tr th:only-of-type {\n",
       "        vertical-align: middle;\n",
       "    }\n",
       "\n",
       "    .dataframe tbody tr th {\n",
       "        vertical-align: top;\n",
       "    }\n",
       "\n",
       "    .dataframe thead th {\n",
       "        text-align: right;\n",
       "    }\n",
       "</style>\n",
       "<table border=\"1\" class=\"dataframe\">\n",
       "  <thead>\n",
       "    <tr style=\"text-align: right;\">\n",
       "      <th></th>\n",
       "      <th>title</th>\n",
       "      <th>abstract</th>\n",
       "      <th>publish_time</th>\n",
       "      <th>url</th>\n",
       "      <th>authors</th>\n",
       "      <th>words</th>\n",
       "    </tr>\n",
       "  </thead>\n",
       "  <tbody>\n",
       "    <tr>\n",
       "      <th>4110</th>\n",
       "      <td>Healthcare Workers’ Strategies for Doffing Per...</td>\n",
       "      <td>BACKGROUND: Personal protective equipment (PPE...</td>\n",
       "      <td>2019-10-01</td>\n",
       "      <td>https://www.ncbi.nlm.nih.gov/pmc/articles/PMC6...</td>\n",
       "      <td>Baloh, Jure; Reisinger, Heather Schacht; Dukes...</td>\n",
       "      <td>[BACKGROUND, Personal, protective, equipment, ...</td>\n",
       "    </tr>\n",
       "    <tr>\n",
       "      <th>152</th>\n",
       "      <td>Preliminary Findings of a Randomized Trial of ...</td>\n",
       "      <td>BACKGROUND: There are sparse data on whether n...</td>\n",
       "      <td>2008-05-07</td>\n",
       "      <td>https://www.ncbi.nlm.nih.gov/pmc/articles/PMC2...</td>\n",
       "      <td>Cowling, Benjamin J.; Fung, Rita O. P.; Cheng,...</td>\n",
       "      <td>[BACKGROUND, There, are, sparse, data, on, whe...</td>\n",
       "    </tr>\n",
       "    <tr>\n",
       "      <th>164</th>\n",
       "      <td>Professional and Home-Made Face Masks Reduce E...</td>\n",
       "      <td>BACKGROUND: Governments are preparing for a po...</td>\n",
       "      <td>2008-07-09</td>\n",
       "      <td>https://www.ncbi.nlm.nih.gov/pmc/articles/PMC2...</td>\n",
       "      <td>van der Sande, Marianne; Teunis, Peter; Sabel,...</td>\n",
       "      <td>[BACKGROUND, Governments, are, preparing, for,...</td>\n",
       "    </tr>\n",
       "    <tr>\n",
       "      <th>298</th>\n",
       "      <td>Initial psychological responses to Influenza A...</td>\n",
       "      <td>BACKGROUND: The outbreak of the pandemic flu, ...</td>\n",
       "      <td>2009-10-06</td>\n",
       "      <td>https://www.ncbi.nlm.nih.gov/pmc/articles/PMC2...</td>\n",
       "      <td>Goodwin, Robin; Haque, Shamsul; Neto, Felix; M...</td>\n",
       "      <td>[BACKGROUND, The, outbreak, of, the, pandemic,...</td>\n",
       "    </tr>\n",
       "    <tr>\n",
       "      <th>346</th>\n",
       "      <td>Mathematical Modeling of the Effectiveness of ...</td>\n",
       "      <td>On June 11, 2009, the World Health Organizatio...</td>\n",
       "      <td>2010-02-10</td>\n",
       "      <td>https://www.ncbi.nlm.nih.gov/pmc/articles/PMC2...</td>\n",
       "      <td>Tracht, Samantha M.; Del Valle, Sara Y.; Hyman...</td>\n",
       "      <td>[On, June, 11, 2009, the, World, Health, Organ...</td>\n",
       "    </tr>\n",
       "  </tbody>\n",
       "</table>\n",
       "</div>"
      ],
      "text/plain": [
       "                                                  title  \\\n",
       "4110  Healthcare Workers’ Strategies for Doffing Per...   \n",
       "152   Preliminary Findings of a Randomized Trial of ...   \n",
       "164   Professional and Home-Made Face Masks Reduce E...   \n",
       "298   Initial psychological responses to Influenza A...   \n",
       "346   Mathematical Modeling of the Effectiveness of ...   \n",
       "\n",
       "                                               abstract publish_time  \\\n",
       "4110  BACKGROUND: Personal protective equipment (PPE...   2019-10-01   \n",
       "152   BACKGROUND: There are sparse data on whether n...   2008-05-07   \n",
       "164   BACKGROUND: Governments are preparing for a po...   2008-07-09   \n",
       "298   BACKGROUND: The outbreak of the pandemic flu, ...   2009-10-06   \n",
       "346   On June 11, 2009, the World Health Organizatio...   2010-02-10   \n",
       "\n",
       "                                                    url  \\\n",
       "4110  https://www.ncbi.nlm.nih.gov/pmc/articles/PMC6...   \n",
       "152   https://www.ncbi.nlm.nih.gov/pmc/articles/PMC2...   \n",
       "164   https://www.ncbi.nlm.nih.gov/pmc/articles/PMC2...   \n",
       "298   https://www.ncbi.nlm.nih.gov/pmc/articles/PMC2...   \n",
       "346   https://www.ncbi.nlm.nih.gov/pmc/articles/PMC2...   \n",
       "\n",
       "                                                authors  \\\n",
       "4110  Baloh, Jure; Reisinger, Heather Schacht; Dukes...   \n",
       "152   Cowling, Benjamin J.; Fung, Rita O. P.; Cheng,...   \n",
       "164   van der Sande, Marianne; Teunis, Peter; Sabel,...   \n",
       "298   Goodwin, Robin; Haque, Shamsul; Neto, Felix; M...   \n",
       "346   Tracht, Samantha M.; Del Valle, Sara Y.; Hyman...   \n",
       "\n",
       "                                                  words  \n",
       "4110  [BACKGROUND, Personal, protective, equipment, ...  \n",
       "152   [BACKGROUND, There, are, sparse, data, on, whe...  \n",
       "164   [BACKGROUND, Governments, are, preparing, for,...  \n",
       "298   [BACKGROUND, The, outbreak, of, the, pandemic,...  \n",
       "346   [On, June, 11, 2009, the, World, Health, Organ...  "
      ]
     },
     "execution_count": 59,
     "metadata": {},
     "output_type": "execute_result"
    }
   ],
   "source": [
    "#Articles that we have\n",
    "Q13.head(5)"
   ]
  },
  {
   "cell_type": "markdown",
   "metadata": {},
   "source": [
    "Online Search"
   ]
  },
  {
   "cell_type": "code",
   "execution_count": 60,
   "metadata": {},
   "outputs": [
    {
     "name": "stdout",
     "output_type": "stream",
     "text": [
      "https://www.ncbi.nlm.nih.gov/pmc/articles/PMC7152922/\n",
      "https://www.ncbi.nlm.nih.gov/pmc/articles/PMC7152922/#sec0005title\n",
      "https://www.ncbi.nlm.nih.gov/pmc/articles/PMC7152922/#sec0010title\n",
      "https://www.ncbi.nlm.nih.gov/pmc/articles/PMC7152922/#sec0015title\n",
      "https://www.ncbi.nlm.nih.gov/pmc/articles/PMC7152922/#sec0020title\n",
      "https://www.cebm.net/covid-19/what-is-the-effectiveness-of-protective-gowns-and-aprons-against-covid-19-in-primary-care-settings/\n",
      "https://www.cdc.gov/coronavirus/2019-ncov/hcp/non-us-settings/emergency-considerations-ppe.html\n",
      "https://www.cdc.gov/coronavirus/2019-ncov/hcp/infection-control-recommendations.html\n",
      "https://www.cdc.gov/hicpac/recommendations/core-practices.html\n",
      "https://www.cdc.gov/infectioncontrol/guidelines/environmental/appendix/air.html\n",
      "https://www.cdc.gov/coronavirus/2019-ncov/hcp/infection-control-recommendations.html\n",
      "https://www.cdc.gov/hicpac/recommendations/core-practices.html\n",
      "https://www.cdc.gov/infectioncontrol/guidelines/environmental/appendix/air.html\n",
      "https://www.cdc.gov/mmwr/volumes/69/wr/mm6913e1.htm\n",
      "https://www.cdc.gov/coronavirus/2019-ncov/hcp/infection-control-faq.html\n",
      "https://www.ncbi.nlm.nih.gov/pmc/articles/PMC7152922/\n",
      "https://www.sciencedaily.com/releases/2020/05/200505164637.htm\n",
      "https://onlinelibrary.wiley.com/doi/full/10.1111/anae.15071\n",
      "https://www.osha.gov/Publications/OSHA3990.pdf\n",
      "https://www.uptodate.com/contents/coronavirus-disease-2019-covid-19-infection-control-in-health-care-and-home-settings\n"
     ]
    }
   ],
   "source": [
    "try: \n",
    "    from googlesearch import search \n",
    "except ImportError:  \n",
    "    print(\"Error/Not found\") \n",
    "### Browsing the sourses using different search terms: \n",
    "search13_1 = \"Effectiveness of (PPE) corona \"\n",
    "search13_2 = \"Corona PPE reduce risk of transmission\" \n",
    "\n",
    "##limit to the first 10 relevant links:\n",
    "for a in search(search13_1, tld=\"co.in\", num=10, stop=10, pause=2): \n",
    "    print(a)\n",
    "for a in search(search13_2, tld=\"co.in\", num=10, stop=10, pause=2): \n",
    "    print(a)"
   ]
  },
  {
   "cell_type": "code",
   "execution_count": null,
   "metadata": {},
   "outputs": [],
   "source": []
  },
  {
   "cell_type": "code",
   "execution_count": null,
   "metadata": {},
   "outputs": [],
   "source": []
  }
 ],
 "metadata": {
  "kernelspec": {
   "display_name": "Python 3",
   "language": "python",
   "name": "python3"
  },
  "language_info": {
   "codemirror_mode": {
    "name": "ipython",
    "version": 3
   },
   "file_extension": ".py",
   "mimetype": "text/x-python",
   "name": "python",
   "nbconvert_exporter": "python",
   "pygments_lexer": "ipython3",
   "version": "3.7.3"
  }
 },
 "nbformat": 4,
 "nbformat_minor": 4
}
