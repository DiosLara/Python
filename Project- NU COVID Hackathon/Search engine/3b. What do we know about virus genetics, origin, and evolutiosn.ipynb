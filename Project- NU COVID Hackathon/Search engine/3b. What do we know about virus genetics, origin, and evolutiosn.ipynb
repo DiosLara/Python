{
 "cells": [
  {
   "cell_type": "code",
   "execution_count": 1,
   "metadata": {},
   "outputs": [],
   "source": [
    "# Importing the libraries \n",
    "import sys\n",
    "import numpy as np \n",
    "import pandas as pd \n",
    "import os "
   ]
  },
  {
   "cell_type": "markdown",
   "metadata": {},
   "source": [
    "### Table: ABSTRACTS"
   ]
  },
  {
   "cell_type": "code",
   "execution_count": 2,
   "metadata": {},
   "outputs": [
    {
     "name": "stderr",
     "output_type": "stream",
     "text": [
      "C:\\Users\\HP\\Anaconda3\\lib\\site-packages\\IPython\\core\\interactiveshell.py:3063: DtypeWarning: Columns (5,6,13,14,16) have mixed types.Specify dtype option on import or set low_memory=False.\n",
      "  interactivity=interactivity, compiler=compiler, result=result)\n"
     ]
    },
    {
     "name": "stdout",
     "output_type": "stream",
     "text": [
      "The number of articles are: 167470\n"
     ]
    }
   ],
   "source": [
    "#Import the information\n",
    "df=pd.read_csv('E:/NorthEastern University/XN-Hackathon Covid/Kaggle Data/metadata.csv') \n",
    "print('The number of articles are:',df.shape[0])"
   ]
  },
  {
   "cell_type": "code",
   "execution_count": 3,
   "metadata": {},
   "outputs": [],
   "source": [
    "#Select only title, abstract, date, link to the article, and authors\n",
    "tablesAbstract= df [['title', 'abstract', 'publish_time', 'url', 'authors']]"
   ]
  },
  {
   "cell_type": "code",
   "execution_count": 4,
   "metadata": {},
   "outputs": [
    {
     "name": "stderr",
     "output_type": "stream",
     "text": [
      "C:\\Users\\HP\\Anaconda3\\lib\\site-packages\\ipykernel_launcher.py:2: SettingWithCopyWarning: \n",
      "A value is trying to be set on a copy of a slice from a DataFrame.\n",
      "Try using .loc[row_indexer,col_indexer] = value instead\n",
      "\n",
      "See the caveats in the documentation: https://pandas.pydata.org/pandas-docs/stable/user_guide/indexing.html#returning-a-view-versus-a-copy\n",
      "  \n"
     ]
    },
    {
     "data": {
      "text/html": [
       "<div>\n",
       "<style scoped>\n",
       "    .dataframe tbody tr th:only-of-type {\n",
       "        vertical-align: middle;\n",
       "    }\n",
       "\n",
       "    .dataframe tbody tr th {\n",
       "        vertical-align: top;\n",
       "    }\n",
       "\n",
       "    .dataframe thead th {\n",
       "        text-align: right;\n",
       "    }\n",
       "</style>\n",
       "<table border=\"1\" class=\"dataframe\">\n",
       "  <thead>\n",
       "    <tr style=\"text-align: right;\">\n",
       "      <th></th>\n",
       "      <th>title</th>\n",
       "      <th>abstract</th>\n",
       "      <th>publish_time</th>\n",
       "      <th>url</th>\n",
       "      <th>authors</th>\n",
       "      <th>words</th>\n",
       "    </tr>\n",
       "  </thead>\n",
       "  <tbody>\n",
       "    <tr>\n",
       "      <th>0</th>\n",
       "      <td>Clinical features of culture-proven Mycoplasma...</td>\n",
       "      <td>OBJECTIVE: This retrospective chart review des...</td>\n",
       "      <td>2001-07-04</td>\n",
       "      <td>https://www.ncbi.nlm.nih.gov/pmc/articles/PMC3...</td>\n",
       "      <td>Madani, Tariq A; Al-Ghamdi, Aisha A</td>\n",
       "      <td>[OBJECTIVE, This, retrospective, chart, review...</td>\n",
       "    </tr>\n",
       "    <tr>\n",
       "      <th>1</th>\n",
       "      <td>Nitric oxide: a pro-inflammatory mediator in l...</td>\n",
       "      <td>Inflammatory diseases of the respiratory tract...</td>\n",
       "      <td>2000-08-15</td>\n",
       "      <td>https://www.ncbi.nlm.nih.gov/pmc/articles/PMC5...</td>\n",
       "      <td>Vliet, Albert van der; Eiserich, Jason P; Cros...</td>\n",
       "      <td>[Inflammatory, diseases, of, the, respiratory,...</td>\n",
       "    </tr>\n",
       "    <tr>\n",
       "      <th>2</th>\n",
       "      <td>Surfactant protein-D and pulmonary host defense</td>\n",
       "      <td>Surfactant protein-D (SP-D) participates in th...</td>\n",
       "      <td>2000-08-25</td>\n",
       "      <td>https://www.ncbi.nlm.nih.gov/pmc/articles/PMC5...</td>\n",
       "      <td>Crouch, Erika C</td>\n",
       "      <td>[Surfactant, protein, D, SP, D, participates, ...</td>\n",
       "    </tr>\n",
       "  </tbody>\n",
       "</table>\n",
       "</div>"
      ],
      "text/plain": [
       "                                               title  \\\n",
       "0  Clinical features of culture-proven Mycoplasma...   \n",
       "1  Nitric oxide: a pro-inflammatory mediator in l...   \n",
       "2    Surfactant protein-D and pulmonary host defense   \n",
       "\n",
       "                                            abstract publish_time  \\\n",
       "0  OBJECTIVE: This retrospective chart review des...   2001-07-04   \n",
       "1  Inflammatory diseases of the respiratory tract...   2000-08-15   \n",
       "2  Surfactant protein-D (SP-D) participates in th...   2000-08-25   \n",
       "\n",
       "                                                 url  \\\n",
       "0  https://www.ncbi.nlm.nih.gov/pmc/articles/PMC3...   \n",
       "1  https://www.ncbi.nlm.nih.gov/pmc/articles/PMC5...   \n",
       "2  https://www.ncbi.nlm.nih.gov/pmc/articles/PMC5...   \n",
       "\n",
       "                                             authors  \\\n",
       "0                Madani, Tariq A; Al-Ghamdi, Aisha A   \n",
       "1  Vliet, Albert van der; Eiserich, Jason P; Cros...   \n",
       "2                                    Crouch, Erika C   \n",
       "\n",
       "                                               words  \n",
       "0  [OBJECTIVE, This, retrospective, chart, review...  \n",
       "1  [Inflammatory, diseases, of, the, respiratory,...  \n",
       "2  [Surfactant, protein, D, SP, D, participates, ...  "
      ]
     },
     "execution_count": 4,
     "metadata": {},
     "output_type": "execute_result"
    }
   ],
   "source": [
    "#Seperate the words in the Abstract columns \n",
    "tablesAbstract['words']=  tablesAbstract.abstract.str.strip().str.split('[\\W_]+')\n",
    "tablesAbstract = tablesAbstract[tablesAbstract.words.str.len() > 0]\n",
    "                                        #rid of all the input that have the Words column less than 0 \n",
    "tablesAbstract.head(3)"
   ]
  },
  {
   "cell_type": "code",
   "execution_count": 5,
   "metadata": {},
   "outputs": [
    {
     "name": "stdout",
     "output_type": "stream",
     "text": [
      "The number of articles after reduction is: 122492\n"
     ]
    }
   ],
   "source": [
    "print('The number of articles after reduction is:', tablesAbstract.shape[0])"
   ]
  },
  {
   "cell_type": "markdown",
   "metadata": {},
   "source": [
    "# ==> We will analyze what the articles available in the dataset and then also search online resources for each questions "
   ]
  },
  {
   "cell_type": "markdown",
   "metadata": {},
   "source": [
    "# -------------------------------------------------------------------------------------------------------------"
   ]
  },
  {
   "cell_type": "markdown",
   "metadata": {},
   "source": [
    "Scraping the web using beautifulsoup4 and Google "
   ]
  },
  {
   "cell_type": "code",
   "execution_count": 6,
   "metadata": {},
   "outputs": [
    {
     "name": "stdout",
     "output_type": "stream",
     "text": [
      "Requirement already satisfied: google in c:\\users\\hp\\anaconda3\\lib\\site-packages (3.0.0)\n",
      "Requirement already satisfied: beautifulsoup4 in c:\\users\\hp\\anaconda3\\lib\\site-packages (from google) (4.9.0)\n",
      "Requirement already satisfied: soupsieve>1.2 in c:\\users\\hp\\anaconda3\\lib\\site-packages (from beautifulsoup4->google) (2.0)\n",
      "Note: you may need to restart the kernel to use updated packages.\n"
     ]
    }
   ],
   "source": [
    "pip install google"
   ]
  },
  {
   "cell_type": "code",
   "execution_count": 7,
   "metadata": {},
   "outputs": [
    {
     "name": "stdout",
     "output_type": "stream",
     "text": [
      "Requirement already satisfied: beautifulsoup4 in c:\\users\\hp\\anaconda3\\lib\\site-packages (4.9.0)Note: you may need to restart the kernel to use updated packages.\n",
      "Requirement already satisfied: soupsieve>1.2 in c:\\users\\hp\\anaconda3\\lib\\site-packages (from beautifulsoup4) (2.0)\n",
      "\n"
     ]
    }
   ],
   "source": [
    "pip install beautifulsoup4"
   ]
  },
  {
   "cell_type": "markdown",
   "metadata": {},
   "source": [
    "# 1/ Real-time tracking of whole genomes and a mechanism for coordinating the rapid dissemination of that information to inform the development of diagnostics and therapeutics and to track variations of the virus over time.\n"
   ]
  },
  {
   "cell_type": "code",
   "execution_count": 11,
   "metadata": {},
   "outputs": [],
   "source": [
    "#Create different sets with specialized terms  from our questions \n",
    "Q1_a = tablesAbstract[tablesAbstract['abstract'].str.contains('genomes')]\n",
    "Q1_b = tablesAbstract[tablesAbstract['abstract'].str.contains('real time tracking')]\n",
    "Q1_c = tablesAbstract[tablesAbstract['abstract'].str.contains('rapid dissemination of information')]\n",
    "Q1_d = tablesAbstract[tablesAbstract['abstract'].str.contains('tracking')]\n",
    "Q1_e = tablesAbstract[tablesAbstract['abstract'].str.contains('variations ')]"
   ]
  },
  {
   "cell_type": "code",
   "execution_count": 17,
   "metadata": {},
   "outputs": [
    {
     "data": {
      "text/plain": [
       "(3066, 6)"
      ]
     },
     "execution_count": 17,
     "metadata": {},
     "output_type": "execute_result"
    }
   ],
   "source": [
    "#Concatenitng the dataframes into one table per question and dropping null value \n",
    "Q1 = pd.concat([Q1_a,Q1_b,Q1_c,Q1_d,Q1_e])\n",
    "Q1.dropna(inplace=True)\n",
    "Q1.shape"
   ]
  },
  {
   "cell_type": "code",
   "execution_count": 18,
   "metadata": {},
   "outputs": [
    {
     "data": {
      "text/html": [
       "<div>\n",
       "<style scoped>\n",
       "    .dataframe tbody tr th:only-of-type {\n",
       "        vertical-align: middle;\n",
       "    }\n",
       "\n",
       "    .dataframe tbody tr th {\n",
       "        vertical-align: top;\n",
       "    }\n",
       "\n",
       "    .dataframe thead th {\n",
       "        text-align: right;\n",
       "    }\n",
       "</style>\n",
       "<table border=\"1\" class=\"dataframe\">\n",
       "  <thead>\n",
       "    <tr style=\"text-align: right;\">\n",
       "      <th></th>\n",
       "      <th>title</th>\n",
       "      <th>abstract</th>\n",
       "      <th>publish_time</th>\n",
       "      <th>url</th>\n",
       "      <th>authors</th>\n",
       "      <th>words</th>\n",
       "    </tr>\n",
       "  </thead>\n",
       "  <tbody>\n",
       "    <tr>\n",
       "      <th>19</th>\n",
       "      <td>Bioinformatic mapping of AlkB homology domains...</td>\n",
       "      <td>BACKGROUND: AlkB-like proteins are members of ...</td>\n",
       "      <td>2005-01-03</td>\n",
       "      <td>https://www.ncbi.nlm.nih.gov/pmc/articles/PMC5...</td>\n",
       "      <td>Bratlie, Marit S; Drabløs, Finn</td>\n",
       "      <td>[BACKGROUND, AlkB, like, proteins, are, member...</td>\n",
       "    </tr>\n",
       "    <tr>\n",
       "      <th>22</th>\n",
       "      <td>Detection and characterization of horizontal t...</td>\n",
       "      <td>Horizontal DNA transfer is an important factor...</td>\n",
       "      <td>2005-01-13</td>\n",
       "      <td>https://www.ncbi.nlm.nih.gov/pmc/articles/PMC5...</td>\n",
       "      <td>Dufraigne, Christine; Fertil, Bernard; Lespina...</td>\n",
       "      <td>[Horizontal, DNA, transfer, is, an, important,...</td>\n",
       "    </tr>\n",
       "    <tr>\n",
       "      <th>26</th>\n",
       "      <td>Recombination Every Day: Abundant Recombinatio...</td>\n",
       "      <td>Viral recombination can dramatically impact ev...</td>\n",
       "      <td>2005-03-01</td>\n",
       "      <td>https://www.ncbi.nlm.nih.gov/pmc/articles/PMC1...</td>\n",
       "      <td>Froissart, Remy; Roze, Denis; Uzest, Marilyne;...</td>\n",
       "      <td>[Viral, recombination, can, dramatically, impa...</td>\n",
       "    </tr>\n",
       "    <tr>\n",
       "      <th>28</th>\n",
       "      <td>Correcting errors in synthetic DNA through con...</td>\n",
       "      <td>Although efficient methods exist to assemble s...</td>\n",
       "      <td>2005-03-30</td>\n",
       "      <td>https://www.ncbi.nlm.nih.gov/pmc/articles/PMC1...</td>\n",
       "      <td>Binkowski, Brock F.; Richmond, Kathryn E.; Kay...</td>\n",
       "      <td>[Although, efficient, methods, exist, to, asse...</td>\n",
       "    </tr>\n",
       "    <tr>\n",
       "      <th>38</th>\n",
       "      <td>Draft versus finished sequence data for DNA an...</td>\n",
       "      <td>Sequencing pathogen genomes is costly, demandi...</td>\n",
       "      <td>2005-10-20</td>\n",
       "      <td>https://www.ncbi.nlm.nih.gov/pmc/articles/PMC1...</td>\n",
       "      <td>Gardner, Shea N.; Lam, Marisa W.; Smith, Jason...</td>\n",
       "      <td>[Sequencing, pathogen, genomes, is, costly, de...</td>\n",
       "    </tr>\n",
       "  </tbody>\n",
       "</table>\n",
       "</div>"
      ],
      "text/plain": [
       "                                                title  \\\n",
       "19  Bioinformatic mapping of AlkB homology domains...   \n",
       "22  Detection and characterization of horizontal t...   \n",
       "26  Recombination Every Day: Abundant Recombinatio...   \n",
       "28  Correcting errors in synthetic DNA through con...   \n",
       "38  Draft versus finished sequence data for DNA an...   \n",
       "\n",
       "                                             abstract publish_time  \\\n",
       "19  BACKGROUND: AlkB-like proteins are members of ...   2005-01-03   \n",
       "22  Horizontal DNA transfer is an important factor...   2005-01-13   \n",
       "26  Viral recombination can dramatically impact ev...   2005-03-01   \n",
       "28  Although efficient methods exist to assemble s...   2005-03-30   \n",
       "38  Sequencing pathogen genomes is costly, demandi...   2005-10-20   \n",
       "\n",
       "                                                  url  \\\n",
       "19  https://www.ncbi.nlm.nih.gov/pmc/articles/PMC5...   \n",
       "22  https://www.ncbi.nlm.nih.gov/pmc/articles/PMC5...   \n",
       "26  https://www.ncbi.nlm.nih.gov/pmc/articles/PMC1...   \n",
       "28  https://www.ncbi.nlm.nih.gov/pmc/articles/PMC1...   \n",
       "38  https://www.ncbi.nlm.nih.gov/pmc/articles/PMC1...   \n",
       "\n",
       "                                              authors  \\\n",
       "19                    Bratlie, Marit S; Drabløs, Finn   \n",
       "22  Dufraigne, Christine; Fertil, Bernard; Lespina...   \n",
       "26  Froissart, Remy; Roze, Denis; Uzest, Marilyne;...   \n",
       "28  Binkowski, Brock F.; Richmond, Kathryn E.; Kay...   \n",
       "38  Gardner, Shea N.; Lam, Marisa W.; Smith, Jason...   \n",
       "\n",
       "                                                words  \n",
       "19  [BACKGROUND, AlkB, like, proteins, are, member...  \n",
       "22  [Horizontal, DNA, transfer, is, an, important,...  \n",
       "26  [Viral, recombination, can, dramatically, impa...  \n",
       "28  [Although, efficient, methods, exist, to, asse...  \n",
       "38  [Sequencing, pathogen, genomes, is, costly, de...  "
      ]
     },
     "execution_count": 18,
     "metadata": {},
     "output_type": "execute_result"
    }
   ],
   "source": [
    "#Articles that we have\n",
    "Q1.head(5)"
   ]
  },
  {
   "cell_type": "code",
   "execution_count": 16,
   "metadata": {},
   "outputs": [],
   "source": [
    "## Saved as CSV file\n",
    "Q1.to_csv('E:/NorthEastern University/XN-Hackathon Covid/Kaggle Data/Q1_Ways_of_communicating_with_highrisk_pop.csv')"
   ]
  },
  {
   "cell_type": "markdown",
   "metadata": {},
   "source": [
    "Online Search "
   ]
  },
  {
   "cell_type": "code",
   "execution_count": 19,
   "metadata": {},
   "outputs": [
    {
     "name": "stdout",
     "output_type": "stream",
     "text": [
      "https://nextstrain.org/\n",
      "https://nextstrain.org/help\n",
      "https://nextstrain.org/docs\n",
      "https://nextstrain.org/blog\n",
      "https://nextstrain.org/login\n",
      "https://www.cdc.gov/media/releases/2020/p0501-SARS-CoV-2-transmission-map.html\n",
      "https://cen.acs.org/biological-chemistry/genomics/genomic-epidemiology-tracking-spread-COVID/98/i17\n",
      "https://medicalxpress.com/news/2020-05-tracking-covid-pandemic-australia-genomics.html\n",
      "https://virological.org/t/whole-genome-sequence-of-the-severe-acute-respiratory-syndrome-coronavirus-2-sars-cov-2-obtained-from-a-south-african-coronavirus-disease-2019-covid-19-patient/452\n",
      "https://jcm.asm.org/content/56/11/e00480-18\n",
      "https://www.fda.gov/news-events/congressional-testimony/covid-19-update-progress-toward-safely-getting-back-work-and-back-school-06302020\n",
      "https://www.fda.gov/news-events/press-announcements/coronavirus-covid-19-update-fda-takes-additional-action-harness-real-world-data-inform-covid-19\n",
      "https://www.fic.nih.gov/ResearchTopics/Pages/infectiousdiseases-coronavirus-cov.aspx\n",
      "https://www.cdc.gov/coronavirus/2019-ncov/hcp/clinical-guidance-management-patients.html\n",
      "https://www.who.int/docs/default-source/coronaviruse/srp-04022020.pdf\n",
      "https://www.who.int/docs/default-source/coronaviruse/situation-reports/20200224-sitrep-35-covid-19.pdf?sfvrsn=1ac4218d_2\n",
      "https://www.fredhutch.org/en/news/center-news/2020/03/coronavirus-latest-scientific-research.html\n",
      "https://covid.oumy.com/question-set/kaggle-news-cord19/real-time-tracking-of-whole-genomes-and-a-mechanism-for-coordinating-the-rapid-dissemination-of-that-information-to-info.html\n",
      "https://www.healthaffairs.org/do/10.1377/hblog20200326.869114/full/\n",
      "https://www.hhs.gov/about/news/2020/03/18/hhs-supports-mesa-biotech-develop-rapid-diagnostic-detect-novel-coronavirus-infections.html\n",
      "https://www.sciencemag.org/news/2020/03/mutations-can-reveal-how-coronavirus-moves-they-re-easy-overinterpret\n",
      "https://www.livescience.com/new-coronavirus-mutation-explained.html\n",
      "https://www.nytimes.com/interactive/2020/04/30/science/coronavirus-mutations.html\n",
      "https://www.sciencenews.org/article/coronavirus-covid19-mutations-strains-variants\n",
      "https://www.cdc.gov/coronavirus/2019-ncov/cases-updates/about-epidemiology/monitoring-and-tracking.html\n",
      "https://coronavirusexplained.ukri.org/en/article/cad0013/\n",
      "https://www.nationalgeographic.com/science/2020/03/how-coronavirus-mutations-can-track-its-spread-and-disprove-conspiracies/\n",
      "https://www.usatoday.com/story/news/nation/2020/03/27/scientists-track-coronavirus-strains-mutation/5080571002/\n",
      "https://www.npr.org/sections/goatsandsoda/2020/03/25/820998549/the-coronavirus-is-mutating-but-that-may-not-be-a-problem-for-humans\n",
      "https://www.discovermagazine.com/health/the-coronavirus-genome-is-like-a-shipping-label-that-lets-epidemiologists\n"
     ]
    }
   ],
   "source": [
    "try: \n",
    "    from googlesearch import search \n",
    "except ImportError:  \n",
    "    print(\"Error/Not found\") \n",
    "### Browsing the sourses using different search terms: \n",
    "search1_1 = \"corona real-time tracking of whole genomes\"\n",
    "search1_2 = \" corona rapid dissemination of that information to inform the development of diagnostics and therapeutics\"\n",
    "search1_3 = \"corona track variations of the virus over time\"\n",
    "\n",
    "\n",
    "##limit to the first 10 relevant links:\n",
    "for a in search(search1_1, tld=\"co.in\", num=10, stop=10, pause=2): \n",
    "    print(a)\n",
    "for a in search(search1_2, tld=\"co.in\", num=10, stop=10, pause=2): \n",
    "    print(a)\n",
    "for a in search(search1_3, tld=\"co.in\", num=10, stop=10, pause=2): \n",
    "    print(a)"
   ]
  },
  {
   "cell_type": "markdown",
   "metadata": {},
   "source": [
    "# 2/ Access to geographic and temporal diverse sample sets to understand geographic distribution and genomic differences, and determine whether there is more than one strain in circulation. Multi-lateral agreements such as the Nagoya Protocol could be leveraged.\n"
   ]
  },
  {
   "cell_type": "code",
   "execution_count": 28,
   "metadata": {},
   "outputs": [],
   "source": [
    "#Create different sets with specialized terms  from our questions \n",
    "Q2_a = tablesAbstract[tablesAbstract['abstract'].str.contains('geographic distribution')]\n",
    "Q2_b = tablesAbstract[tablesAbstract['abstract'].str.contains('genomic differences')]\n",
    "Q2_c = tablesAbstract[tablesAbstract['abstract'].str.contains('multilateral agreements')]"
   ]
  },
  {
   "cell_type": "code",
   "execution_count": 29,
   "metadata": {},
   "outputs": [
    {
     "data": {
      "text/plain": [
       "(96, 6)"
      ]
     },
     "execution_count": 29,
     "metadata": {},
     "output_type": "execute_result"
    }
   ],
   "source": [
    "#Concatenitng the dataframes into one table per question and dropping null value \n",
    "Q2 = pd.concat([Q2_a,Q2_b,Q2_c])\n",
    "Q2.dropna(inplace=True)\n",
    "Q2.shape"
   ]
  },
  {
   "cell_type": "code",
   "execution_count": 30,
   "metadata": {},
   "outputs": [
    {
     "data": {
      "text/html": [
       "<div>\n",
       "<style scoped>\n",
       "    .dataframe tbody tr th:only-of-type {\n",
       "        vertical-align: middle;\n",
       "    }\n",
       "\n",
       "    .dataframe tbody tr th {\n",
       "        vertical-align: top;\n",
       "    }\n",
       "\n",
       "    .dataframe thead th {\n",
       "        text-align: right;\n",
       "    }\n",
       "</style>\n",
       "<table border=\"1\" class=\"dataframe\">\n",
       "  <thead>\n",
       "    <tr style=\"text-align: right;\">\n",
       "      <th></th>\n",
       "      <th>title</th>\n",
       "      <th>abstract</th>\n",
       "      <th>publish_time</th>\n",
       "      <th>url</th>\n",
       "      <th>authors</th>\n",
       "      <th>words</th>\n",
       "    </tr>\n",
       "  </thead>\n",
       "  <tbody>\n",
       "    <tr>\n",
       "      <th>659</th>\n",
       "      <td>Geographic Distribution and Risk Factors of th...</td>\n",
       "      <td>BACKGROUND: As of 31(st) March 2010, more than...</td>\n",
       "      <td>2011-10-12</td>\n",
       "      <td>https://www.ncbi.nlm.nih.gov/pmc/articles/PMC3...</td>\n",
       "      <td>Liu, Yunning; Wang, Wei; Li, Xia; Wang, Hong; ...</td>\n",
       "      <td>[BACKGROUND, As, of, 31, st, March, 2010, more...</td>\n",
       "    </tr>\n",
       "    <tr>\n",
       "      <th>1316</th>\n",
       "      <td>Synonymous Codon Usage in TTSuV2: Analysis and...</td>\n",
       "      <td>Two species of the DNA virus Torque teno sus v...</td>\n",
       "      <td>2013-11-26</td>\n",
       "      <td>https://www.ncbi.nlm.nih.gov/pmc/articles/PMC3...</td>\n",
       "      <td>Zhang, Zhicheng; Dai, Wei; Dai, Dingzhen</td>\n",
       "      <td>[Two, species, of, the, DNA, virus, Torque, te...</td>\n",
       "    </tr>\n",
       "    <tr>\n",
       "      <th>1748</th>\n",
       "      <td>Genetic diversity of the 2013–14 human isolate...</td>\n",
       "      <td>BACKGROUND: Influenza H7N9 has become an endem...</td>\n",
       "      <td>2015-02-28</td>\n",
       "      <td>https://www.ncbi.nlm.nih.gov/pmc/articles/PMC4...</td>\n",
       "      <td>Farooqui, Amber; Leon, Alberto J; Huang, Linxi...</td>\n",
       "      <td>[BACKGROUND, Influenza, H7N9, has, become, an,...</td>\n",
       "    </tr>\n",
       "    <tr>\n",
       "      <th>3919</th>\n",
       "      <td>Animals as Reservoir for Human Norovirus</td>\n",
       "      <td>Norovirus is the most common cause of non-bact...</td>\n",
       "      <td>2019-05-25</td>\n",
       "      <td>https://www.ncbi.nlm.nih.gov/pmc/articles/PMC6...</td>\n",
       "      <td>Villabruna, Nele; Koopmans, Marion P. G.; de G...</td>\n",
       "      <td>[Norovirus, is, the, most, common, cause, of, ...</td>\n",
       "    </tr>\n",
       "    <tr>\n",
       "      <th>6334</th>\n",
       "      <td>Antiviral agents active against influenza A vi...</td>\n",
       "      <td>The recent outbreaks of avian influenza A (H5N...</td>\n",
       "      <td>2006</td>\n",
       "      <td>https://www.ncbi.nlm.nih.gov/pmc/articles/PMC7...</td>\n",
       "      <td>De Clercq, Erik</td>\n",
       "      <td>[The, recent, outbreaks, of, avian, influenza,...</td>\n",
       "    </tr>\n",
       "  </tbody>\n",
       "</table>\n",
       "</div>"
      ],
      "text/plain": [
       "                                                  title  \\\n",
       "659   Geographic Distribution and Risk Factors of th...   \n",
       "1316  Synonymous Codon Usage in TTSuV2: Analysis and...   \n",
       "1748  Genetic diversity of the 2013–14 human isolate...   \n",
       "3919           Animals as Reservoir for Human Norovirus   \n",
       "6334  Antiviral agents active against influenza A vi...   \n",
       "\n",
       "                                               abstract publish_time  \\\n",
       "659   BACKGROUND: As of 31(st) March 2010, more than...   2011-10-12   \n",
       "1316  Two species of the DNA virus Torque teno sus v...   2013-11-26   \n",
       "1748  BACKGROUND: Influenza H7N9 has become an endem...   2015-02-28   \n",
       "3919  Norovirus is the most common cause of non-bact...   2019-05-25   \n",
       "6334  The recent outbreaks of avian influenza A (H5N...         2006   \n",
       "\n",
       "                                                    url  \\\n",
       "659   https://www.ncbi.nlm.nih.gov/pmc/articles/PMC3...   \n",
       "1316  https://www.ncbi.nlm.nih.gov/pmc/articles/PMC3...   \n",
       "1748  https://www.ncbi.nlm.nih.gov/pmc/articles/PMC4...   \n",
       "3919  https://www.ncbi.nlm.nih.gov/pmc/articles/PMC6...   \n",
       "6334  https://www.ncbi.nlm.nih.gov/pmc/articles/PMC7...   \n",
       "\n",
       "                                                authors  \\\n",
       "659   Liu, Yunning; Wang, Wei; Li, Xia; Wang, Hong; ...   \n",
       "1316           Zhang, Zhicheng; Dai, Wei; Dai, Dingzhen   \n",
       "1748  Farooqui, Amber; Leon, Alberto J; Huang, Linxi...   \n",
       "3919  Villabruna, Nele; Koopmans, Marion P. G.; de G...   \n",
       "6334                                    De Clercq, Erik   \n",
       "\n",
       "                                                  words  \n",
       "659   [BACKGROUND, As, of, 31, st, March, 2010, more...  \n",
       "1316  [Two, species, of, the, DNA, virus, Torque, te...  \n",
       "1748  [BACKGROUND, Influenza, H7N9, has, become, an,...  \n",
       "3919  [Norovirus, is, the, most, common, cause, of, ...  \n",
       "6334  [The, recent, outbreaks, of, avian, influenza,...  "
      ]
     },
     "execution_count": 30,
     "metadata": {},
     "output_type": "execute_result"
    }
   ],
   "source": [
    "#Articles that we have\n",
    "Q2.head(5)"
   ]
  },
  {
   "cell_type": "markdown",
   "metadata": {},
   "source": [
    "Online Search"
   ]
  },
  {
   "cell_type": "code",
   "execution_count": 32,
   "metadata": {},
   "outputs": [
    {
     "name": "stdout",
     "output_type": "stream",
     "text": [
      "https://covid.oumy.com/question-set/kaggle-news/access-to-geographic-and-temporal-diverse-sample-sets-to-understand-geographic-distribution-and-genomic-differences-and.html\n",
      "https://covid.oumy.com/question-set/kaggle-news-cord19/access-to-geographic-and-temporal-diverse-sample-sets-to-understand-geographic-distribution-and-genomic-differences-and.html\n",
      "https://www.kaggle.com/allen-institute-for-ai/CORD-19-research-challenge/tasks?taskId=567\n",
      "https://www.sciencedirect.com/science/article/pii/S0048969720335531\n",
      "https://www.sciencedirect.com/science/article/pii/S1570826815000888\n",
      "https://www.nature.com/articles/s41586-020-2284-y\n",
      "https://www.ncbi.nlm.nih.gov/pmc/articles/PMC7199730/\n",
      "https://www.tandfonline.com/doi/full/10.1080/20008686.2017.1408360\n",
      "https://www.biorxiv.org/content/10.1101/2020.04.07.030759v3.full.pdf\n",
      "https://ij-healthgeographics.biomedcentral.com/articles/10.1186/s12942-020-00202-8\n",
      "https://www.sciencemag.org/news/2020/03/mutations-can-reveal-how-coronavirus-moves-they-re-easy-overinterpret\n",
      "https://www.cdc.gov/coronavirus/2019-ncov/downloads/genomic-characterization-of-2019-nCoV-Lancet-1-29-2020.pdf?fbclid=IwAR2Zydm-5uJubUXzbVFmwfh3ZQuWd7BniTR31Yukku64-daudp3tob0TjBk\n",
      "https://www.ncbi.nlm.nih.gov/pmc/articles/PMC1563713/\n",
      "https://www.biorxiv.org/content/10.1101/2020.04.22.055863v1\n",
      "https://www.pnas.org/content/117/17/9241\n",
      "https://www.pnas.org/content/117/23/12518\n",
      "https://www.pnas.org/content/117/23/12520\n",
      "https://www.pnas.org/content/117/23/12524\n",
      "https://www.the-scientist.com/news-opinion/coronaviruss-genetics-reveal-its-global-travels-67183\n",
      "https://theconversation.com/the-coronavirus-genome-is-like-a-shipping-label-that-lets-epidemiologists-track-where-its-been-136826\n",
      "https://www.wto.org/english/res_e/booksp_e/who_wto_e.pdf\n",
      "https://www.who.int/tdr/publications/documents/seb_topic3.pdf\n",
      "https://www.who.int/dg/speeches/2009/intellectual_property_20090714/en/\n",
      "https://wwwnc.cdc.gov/eid/article/2/2/96-0201_article\n",
      "https://www.ncbi.nlm.nih.gov/books/NBK56586/\n",
      "https://www.ncbi.nlm.nih.gov/pmc/articles/PMC6472722/\n",
      "http://www.fao.org/3/x7354e/x7354e06.htm\n",
      "http://www.fao.org/3/x7354e/x7354e09.htm\n",
      "https://www.kff.org/report-section/the-u-s-government-engagement-in-global-health-a-primer-report/\n",
      "https://www.sciencedirect.com/topics/earth-and-planetary-sciences/multilateral-agreement\n"
     ]
    }
   ],
   "source": [
    "try: \n",
    "    from googlesearch import search \n",
    "except ImportError:  \n",
    "    print(\"Error/Not found\") \n",
    "### Browsing the sourses using different search terms: \n",
    "search2_1 = \" corona access to geographic and temporal diverse sample\"\n",
    "search2_2 = \"corona geographic distribution and genomic differences\"\n",
    "search2_3 = \"multilateral agreements diseases\"\n",
    "\n",
    "\n",
    "\n",
    "##limit to the first 10 relevant links:\n",
    "for a in search(search2_1, tld=\"co.in\", num=10, stop=10, pause=2): \n",
    "    print(a)\n",
    "for a in search(search2_2, tld=\"co.in\", num=10, stop=10, pause=2): \n",
    "    print(a)\n",
    "for a in search(search2_3, tld=\"co.in\", num=10, stop=10, pause=2): \n",
    "    print(a)"
   ]
  },
  {
   "cell_type": "markdown",
   "metadata": {},
   "source": [
    "# 3/ Evidence that livestock could be infected (e.g., field surveillance, genetic sequencing, receptor binding) and serve as a reservoir after the epidemic appears to be over."
   ]
  },
  {
   "cell_type": "code",
   "execution_count": 65,
   "metadata": {},
   "outputs": [],
   "source": [
    "#Create different sets with specialized terms  from our questions \n",
    "Q3_a = tablesAbstract[tablesAbstract['abstract'].str.contains('animals')]\n",
    "Q3_b = Q3_a[Q3_a['abstract'].str.contains('infected')]\n",
    "Q3_c = Q3_b[Q3_b['abstract'].str.contains('corona')]\n",
    "Q3_d = tablesAbstract[tablesAbstract['abstract'].str.contains('livestocks')]"
   ]
  },
  {
   "cell_type": "code",
   "execution_count": 67,
   "metadata": {},
   "outputs": [
    {
     "data": {
      "text/plain": [
       "(278, 6)"
      ]
     },
     "execution_count": 67,
     "metadata": {},
     "output_type": "execute_result"
    }
   ],
   "source": [
    "#Concatenitng the dataframes into one table per question and dropping null value \n",
    "Q3 = pd.concat([Q3_c,Q3_d])\n",
    "Q3.dropna(inplace=True)\n",
    "Q3.shape"
   ]
  },
  {
   "cell_type": "code",
   "execution_count": 68,
   "metadata": {},
   "outputs": [
    {
     "data": {
      "text/html": [
       "<div>\n",
       "<style scoped>\n",
       "    .dataframe tbody tr th:only-of-type {\n",
       "        vertical-align: middle;\n",
       "    }\n",
       "\n",
       "    .dataframe tbody tr th {\n",
       "        vertical-align: top;\n",
       "    }\n",
       "\n",
       "    .dataframe thead th {\n",
       "        text-align: right;\n",
       "    }\n",
       "</style>\n",
       "<table border=\"1\" class=\"dataframe\">\n",
       "  <thead>\n",
       "    <tr style=\"text-align: right;\">\n",
       "      <th></th>\n",
       "      <th>title</th>\n",
       "      <th>abstract</th>\n",
       "      <th>publish_time</th>\n",
       "      <th>url</th>\n",
       "      <th>authors</th>\n",
       "      <th>words</th>\n",
       "    </tr>\n",
       "  </thead>\n",
       "  <tbody>\n",
       "    <tr>\n",
       "      <th>705</th>\n",
       "      <td>Normal variation in thermal radiated temperatu...</td>\n",
       "      <td>BACKGROUND: Thermal imagers have been used in ...</td>\n",
       "      <td>2011-11-21</td>\n",
       "      <td>https://www.ncbi.nlm.nih.gov/pmc/articles/PMC3...</td>\n",
       "      <td>Gloster, John; Ebert, Katja; Gubbins, Simon; B...</td>\n",
       "      <td>[BACKGROUND, Thermal, imagers, have, been, use...</td>\n",
       "    </tr>\n",
       "    <tr>\n",
       "      <th>2262</th>\n",
       "      <td>Infection, Replication, and Transmission of Mi...</td>\n",
       "      <td>Middle East respiratory syndrome coronavirus i...</td>\n",
       "      <td>2016-06-28</td>\n",
       "      <td>https://www.ncbi.nlm.nih.gov/pmc/articles/PMC4...</td>\n",
       "      <td>Adney, Danielle R.; Bielefeldt-Ohmann, Helle; ...</td>\n",
       "      <td>[Middle, East, respiratory, syndrome, coronavi...</td>\n",
       "    </tr>\n",
       "    <tr>\n",
       "      <th>15453</th>\n",
       "      <td>Structure, Immunopathogenesis and Vaccines Aga...</td>\n",
       "      <td>A new disease, severe atypical respiratory syn...</td>\n",
       "      <td>2008</td>\n",
       "      <td>https://www.ncbi.nlm.nih.gov/pmc/articles/PMC7...</td>\n",
       "      <td>Srivastava, Indresh K.; Kan, Elaine; Srivastav...</td>\n",
       "      <td>[A, new, disease, severe, atypical, respirator...</td>\n",
       "    </tr>\n",
       "    <tr>\n",
       "      <th>15639</th>\n",
       "      <td>Coronavirus Genome Replication</td>\n",
       "      <td>Viruses belonging to the family Coronaviridae ...</td>\n",
       "      <td>2008-11-01</td>\n",
       "      <td>https://www.ncbi.nlm.nih.gov/pmc/articles/PMC7...</td>\n",
       "      <td>Sawicki, Stanley G.</td>\n",
       "      <td>[Viruses, belonging, to, the, family, Coronavi...</td>\n",
       "    </tr>\n",
       "    <tr>\n",
       "      <th>16020</th>\n",
       "      <td>Zoonotic Viruses and Conservation of Bats</td>\n",
       "      <td>Many of the recently emerging highly virulent ...</td>\n",
       "      <td>2015-08-29</td>\n",
       "      <td>https://www.ncbi.nlm.nih.gov/pmc/articles/PMC7...</td>\n",
       "      <td>Schneeberger, Karin; Voigt, Christian C.</td>\n",
       "      <td>[Many, of, the, recently, emerging, highly, vi...</td>\n",
       "    </tr>\n",
       "  </tbody>\n",
       "</table>\n",
       "</div>"
      ],
      "text/plain": [
       "                                                   title  \\\n",
       "705    Normal variation in thermal radiated temperatu...   \n",
       "2262   Infection, Replication, and Transmission of Mi...   \n",
       "15453  Structure, Immunopathogenesis and Vaccines Aga...   \n",
       "15639                     Coronavirus Genome Replication   \n",
       "16020          Zoonotic Viruses and Conservation of Bats   \n",
       "\n",
       "                                                abstract publish_time  \\\n",
       "705    BACKGROUND: Thermal imagers have been used in ...   2011-11-21   \n",
       "2262   Middle East respiratory syndrome coronavirus i...   2016-06-28   \n",
       "15453  A new disease, severe atypical respiratory syn...         2008   \n",
       "15639  Viruses belonging to the family Coronaviridae ...   2008-11-01   \n",
       "16020  Many of the recently emerging highly virulent ...   2015-08-29   \n",
       "\n",
       "                                                     url  \\\n",
       "705    https://www.ncbi.nlm.nih.gov/pmc/articles/PMC3...   \n",
       "2262   https://www.ncbi.nlm.nih.gov/pmc/articles/PMC4...   \n",
       "15453  https://www.ncbi.nlm.nih.gov/pmc/articles/PMC7...   \n",
       "15639  https://www.ncbi.nlm.nih.gov/pmc/articles/PMC7...   \n",
       "16020  https://www.ncbi.nlm.nih.gov/pmc/articles/PMC7...   \n",
       "\n",
       "                                                 authors  \\\n",
       "705    Gloster, John; Ebert, Katja; Gubbins, Simon; B...   \n",
       "2262   Adney, Danielle R.; Bielefeldt-Ohmann, Helle; ...   \n",
       "15453  Srivastava, Indresh K.; Kan, Elaine; Srivastav...   \n",
       "15639                                Sawicki, Stanley G.   \n",
       "16020           Schneeberger, Karin; Voigt, Christian C.   \n",
       "\n",
       "                                                   words  \n",
       "705    [BACKGROUND, Thermal, imagers, have, been, use...  \n",
       "2262   [Middle, East, respiratory, syndrome, coronavi...  \n",
       "15453  [A, new, disease, severe, atypical, respirator...  \n",
       "15639  [Viruses, belonging, to, the, family, Coronavi...  \n",
       "16020  [Many, of, the, recently, emerging, highly, vi...  "
      ]
     },
     "execution_count": 68,
     "metadata": {},
     "output_type": "execute_result"
    }
   ],
   "source": [
    "#Articles that we have\n",
    "Q3.head(5)"
   ]
  },
  {
   "cell_type": "markdown",
   "metadata": {},
   "source": [
    "Online Search"
   ]
  },
  {
   "cell_type": "code",
   "execution_count": 70,
   "metadata": {},
   "outputs": [
    {
     "name": "stdout",
     "output_type": "stream",
     "text": [
      "https://www.cdc.gov/coronavirus/2019-ncov/daily-life-coping/animals.html\n",
      "https://www.cdc.gov/coronavirus/2019-ncov/daily-life-coping/pets.html\n",
      "https://www.cdc.gov/coronavirus/2019-ncov/animals/interim-guidance-managing-people-in-home-care-and-isolation-who-have-pets.html\n",
      "https://www.cdc.gov/coronavirus/2019-ncov/animals/animal-testing.html\n",
      "https://www.nature.com/articles/d41586-020-01574-4\n",
      "https://www.nature.com/articles/d41586-020-01449-8\n",
      "https://www.washingtonpost.com/science/2020/06/19/humans-may-have-caught-coronavirus-mink-thats-wake-up-call-study-infections-animals-researchers-say/\n",
      "https://www.nationalgeographic.com/animals/2020/03/coronavirus-animal-reservoir-research/\n",
      "https://coronavirusexplained.ukri.org/en/article/cad0008/\n",
      "https://www.oie.int/en/scientific-expertise/specific-information-and-recommendations/questions-and-answers-on-2019novel-coronavirus/\n",
      "https://www.cdc.gov/coronavirus/2019-ncov/downloads/genomic-characterization-of-2019-nCoV-Lancet-1-29-2020.pdf?fbclid=IwAR2Zydm-5uJubUXzbVFmwfh3ZQuWd7BniTR31Yukku64-daudp3tob0TjBk\n",
      "https://www.ncbi.nlm.nih.gov/pmc/articles/PMC546586/\n",
      "https://jvi.asm.org/content/94/7/e00127-20\n",
      "https://msphere.asm.org/content/5/1/e00807-19\n",
      "https://www.nationalgeographic.com/science/2020/03/how-coronavirus-mutations-can-track-its-spread-and-disprove-conspiracies/\n",
      "https://www.nature.com/articles/d41586-020-00166-6\n",
      "https://www.nature.com/articles/s41579-018-0118-9\n",
      "https://idpjournal.biomedcentral.com/articles/10.1186/s40249-020-00649-8\n",
      "https://www.sciencedaily.com/releases/2020/03/200326144357.htm\n",
      "https://www.who.int/docs/default-source/coronaviruse/articles/coronavirus-(covid-19)-selected-bibliographic-references-18-02-2020-v1.pdf?sfvrsn=c8b8baa5_0\n"
     ]
    }
   ],
   "source": [
    "try: \n",
    "    from googlesearch import search \n",
    "except ImportError:  \n",
    "    print(\"Error/Not found\") \n",
    "### Browsing the sourses using different search terms: \n",
    "search3_1 = \"corona evidence that livestock could be infected\"\n",
    "search3_2 = \"corona field surveillance, genetic sequencing, receptor binding infected animals\"\n",
    "\n",
    "\n",
    "##limit to the first 10 relevant links:\n",
    "for a in search(search3_1, tld=\"co.in\", num=10, stop=10, pause=2): \n",
    "    print(a)\n",
    "for a in search(search3_2, tld=\"co.in\", num=10, stop=10, pause=2): \n",
    "    print(a)\n"
   ]
  },
  {
   "cell_type": "markdown",
   "metadata": {},
   "source": [
    "# 4/ Evidence of whether farmers are infected, and whether farmers could have played a role in the origin."
   ]
  },
  {
   "cell_type": "code",
   "execution_count": 71,
   "metadata": {},
   "outputs": [],
   "source": [
    "#Create different sets with specialized terms  from our questions \n",
    "Q4_a = tablesAbstract[tablesAbstract['abstract'].str.contains('farmers')]\n",
    "Q4_b = Q4_a[Q4_a['abstract'].str.contains('origin')]"
   ]
  },
  {
   "cell_type": "code",
   "execution_count": 73,
   "metadata": {},
   "outputs": [
    {
     "data": {
      "text/plain": [
       "(17, 6)"
      ]
     },
     "execution_count": 73,
     "metadata": {},
     "output_type": "execute_result"
    }
   ],
   "source": [
    "#Concatenitng the dataframes into one table per question and dropping null value \n",
    "Q4 = pd.concat([Q4_b])\n",
    "Q4.dropna(inplace=True)\n",
    "Q4.shape"
   ]
  },
  {
   "cell_type": "code",
   "execution_count": 74,
   "metadata": {},
   "outputs": [
    {
     "data": {
      "text/html": [
       "<div>\n",
       "<style scoped>\n",
       "    .dataframe tbody tr th:only-of-type {\n",
       "        vertical-align: middle;\n",
       "    }\n",
       "\n",
       "    .dataframe tbody tr th {\n",
       "        vertical-align: top;\n",
       "    }\n",
       "\n",
       "    .dataframe thead th {\n",
       "        text-align: right;\n",
       "    }\n",
       "</style>\n",
       "<table border=\"1\" class=\"dataframe\">\n",
       "  <thead>\n",
       "    <tr style=\"text-align: right;\">\n",
       "      <th></th>\n",
       "      <th>title</th>\n",
       "      <th>abstract</th>\n",
       "      <th>publish_time</th>\n",
       "      <th>url</th>\n",
       "      <th>authors</th>\n",
       "      <th>words</th>\n",
       "    </tr>\n",
       "  </thead>\n",
       "  <tbody>\n",
       "    <tr>\n",
       "      <th>19221</th>\n",
       "      <td>The Macrosecuritization of Antimicrobial Resis...</td>\n",
       "      <td>The global spread of antimicrobial resistance ...</td>\n",
       "      <td>2019-09-26</td>\n",
       "      <td>https://www.ncbi.nlm.nih.gov/pmc/articles/PMC7...</td>\n",
       "      <td>Thomas, Nicholas; Lo, Catherine Yuk-ping</td>\n",
       "      <td>[The, global, spread, of, antimicrobial, resis...</td>\n",
       "    </tr>\n",
       "    <tr>\n",
       "      <th>38500</th>\n",
       "      <td>Anthropogenic factors affecting wildlife speci...</td>\n",
       "      <td>Most Americans are at least three generations ...</td>\n",
       "      <td>2020-05-17</td>\n",
       "      <td>https://doi.org/10.1007/s11356-020-08980-1; ht...</td>\n",
       "      <td>Brain, Richard A; Anderson, Julie C</td>\n",
       "      <td>[Most, Americans, are, at, least, three, gener...</td>\n",
       "    </tr>\n",
       "    <tr>\n",
       "      <th>62083</th>\n",
       "      <td>China's heath care system and avian influenza ...</td>\n",
       "      <td>The severe acute respiratory syndrome crisis e...</td>\n",
       "      <td>2008</td>\n",
       "      <td>https://doi.org/10.1086/524990; https://www.nc...</td>\n",
       "      <td>Kaufman, Joan A</td>\n",
       "      <td>[The, severe, acute, respiratory, syndrome, cr...</td>\n",
       "    </tr>\n",
       "    <tr>\n",
       "      <th>73262</th>\n",
       "      <td>Protecting human and ecological health under v...</td>\n",
       "      <td>Severe acute respiratory syndrome (SARS) outbr...</td>\n",
       "      <td>2005</td>\n",
       "      <td>https://www.ncbi.nlm.nih.gov/pubmed/16007933/</td>\n",
       "      <td>Matsui, S</td>\n",
       "      <td>[Severe, acute, respiratory, syndrome, SARS, o...</td>\n",
       "    </tr>\n",
       "    <tr>\n",
       "      <th>73531</th>\n",
       "      <td>[An epidemiological study on the index cases o...</td>\n",
       "      <td>OBJECTIVE To analyze the epidemiological featu...</td>\n",
       "      <td>2003</td>\n",
       "      <td>https://www.ncbi.nlm.nih.gov/pubmed/12820924/</td>\n",
       "      <td>He, Jian-feng; Peng, Gou-wen; Zheng, Hui-zhen;...</td>\n",
       "      <td>[OBJECTIVE, To, analyze, the, epidemiological,...</td>\n",
       "    </tr>\n",
       "  </tbody>\n",
       "</table>\n",
       "</div>"
      ],
      "text/plain": [
       "                                                   title  \\\n",
       "19221  The Macrosecuritization of Antimicrobial Resis...   \n",
       "38500  Anthropogenic factors affecting wildlife speci...   \n",
       "62083  China's heath care system and avian influenza ...   \n",
       "73262  Protecting human and ecological health under v...   \n",
       "73531  [An epidemiological study on the index cases o...   \n",
       "\n",
       "                                                abstract publish_time  \\\n",
       "19221  The global spread of antimicrobial resistance ...   2019-09-26   \n",
       "38500  Most Americans are at least three generations ...   2020-05-17   \n",
       "62083  The severe acute respiratory syndrome crisis e...         2008   \n",
       "73262  Severe acute respiratory syndrome (SARS) outbr...         2005   \n",
       "73531  OBJECTIVE To analyze the epidemiological featu...         2003   \n",
       "\n",
       "                                                     url  \\\n",
       "19221  https://www.ncbi.nlm.nih.gov/pmc/articles/PMC7...   \n",
       "38500  https://doi.org/10.1007/s11356-020-08980-1; ht...   \n",
       "62083  https://doi.org/10.1086/524990; https://www.nc...   \n",
       "73262      https://www.ncbi.nlm.nih.gov/pubmed/16007933/   \n",
       "73531      https://www.ncbi.nlm.nih.gov/pubmed/12820924/   \n",
       "\n",
       "                                                 authors  \\\n",
       "19221           Thomas, Nicholas; Lo, Catherine Yuk-ping   \n",
       "38500                Brain, Richard A; Anderson, Julie C   \n",
       "62083                                    Kaufman, Joan A   \n",
       "73262                                          Matsui, S   \n",
       "73531  He, Jian-feng; Peng, Gou-wen; Zheng, Hui-zhen;...   \n",
       "\n",
       "                                                   words  \n",
       "19221  [The, global, spread, of, antimicrobial, resis...  \n",
       "38500  [Most, Americans, are, at, least, three, gener...  \n",
       "62083  [The, severe, acute, respiratory, syndrome, cr...  \n",
       "73262  [Severe, acute, respiratory, syndrome, SARS, o...  \n",
       "73531  [OBJECTIVE, To, analyze, the, epidemiological,...  "
      ]
     },
     "execution_count": 74,
     "metadata": {},
     "output_type": "execute_result"
    }
   ],
   "source": [
    "#Articles that we have\n",
    "Q4.head(5)"
   ]
  },
  {
   "cell_type": "markdown",
   "metadata": {},
   "source": [
    "Online Search"
   ]
  },
  {
   "cell_type": "code",
   "execution_count": 78,
   "metadata": {},
   "outputs": [
    {
     "name": "stdout",
     "output_type": "stream",
     "text": [
      "https://www.dw.com/en/farming-agriculture-coronavirus-covid-19-food-meat-industry/g-53258045\n",
      "https://bangordailynews.com/2020/03/26/opinion/during-coronavirus-invest-in-farmers-for-the-future/\n",
      "https://www.nature.com/articles/d41586-020-01449-8\n",
      "https://www.sciencemag.org/news/2020/07/who-led-mission-may-investigate-pandemic-s-origin-here-are-key-questions-ask\n",
      "https://www.theguardian.com/world/2020/mar/28/is-factory-farming-to-blame-for-coronavirus\n",
      "https://www.farmers.gov/coronavirus\n",
      "https://www.cnn.com/2020/04/06/us/coronavirus-scientists-debate-origin-theories-invs/index.html\n",
      "https://www.profarmer.com/markets/news/ahead-open-more-selling-amid-coronavirus-potential-impact-china-world-demand\n",
      "https://www.reuters.com/article/us-health-coronavirus-italy-farming/coronavirus-lockdown-leaves-italian-farmers-struggling-to-plant-for-spring-idUSKBN20Z2WD\n",
      "https://www.epi.org/publication/coronavirus-and-farmworkers-h-2a/\n",
      "https://www.worldbank.org/en/topic/agriculture/brief/food-security-and-covid-19\n",
      "https://www.usda.gov/coronavirus/farmer-resources\n",
      "https://www.who.int/docs/default-source/coronaviruse/situation-reports/20200221-sitrep-32-covid-19.pdf?sfvrsn=4802d089_2\n",
      "https://www.cdc.gov/coronavirus/2019-ncov/community/guidance-agricultural-workers.html\n",
      "https://www.ncbi.nlm.nih.gov/pmc/articles/PMC7113610/\n",
      "https://www.mckinsey.com/industries/agriculture/our-insights/winning-in-africas-agricultural-market\n",
      "https://www.usnews.com/news/best-states/articles/2020-05-21/covid-19-poses-an-unprecedented-crisis-for-potato-farmers\n",
      "https://www.agriculture.com/news/business/six-possible-impacts-of-covid-19-on-farming\n",
      "https://www.nationalgeographic.com/science/2020/04/farmworkers-risk-coronavirus-infection-keep-us-fed/\n",
      "https://www.foodandwaterwatch.org/news/next-pandemic-could-easily-come-our-factory-farms\n"
     ]
    }
   ],
   "source": [
    "try: \n",
    "    from googlesearch import search \n",
    "except ImportError:  \n",
    "    print(\"Error/Not found\") \n",
    "### Browsing the sourses using different search terms: \n",
    "search4_1 = \"corona farmers origin potentials\"\n",
    "\n",
    "\n",
    "##limit to the first 10 relevant links:\n",
    "for a in search(search4_1, tld=\"co.in\", num=20, stop=20, pause=2): \n",
    "    print(a)"
   ]
  },
  {
   "cell_type": "markdown",
   "metadata": {},
   "source": [
    "# 5/ Surveillance of mixed wildlife- livestock farms for SARS-CoV-2 and other coronaviruses in Southeast Asia."
   ]
  },
  {
   "cell_type": "code",
   "execution_count": 130,
   "metadata": {},
   "outputs": [],
   "source": [
    "#Create different sets with specialized terms  from our questions \n",
    "Q5_a = tablesAbstract[tablesAbstract['abstract'].str.contains('Southeast Asia')]\n",
    "Q5_b = Q5_a[Q5_a['abstract'].str.contains(' wet markets')]\n",
    "Q5_c = Q5_a[Q5_a['abstract'].str.contains('livestock')]"
   ]
  },
  {
   "cell_type": "code",
   "execution_count": 131,
   "metadata": {},
   "outputs": [
    {
     "data": {
      "text/plain": [
       "(7, 6)"
      ]
     },
     "execution_count": 131,
     "metadata": {},
     "output_type": "execute_result"
    }
   ],
   "source": [
    "#Concatenitng the dataframes into one table per question and dropping null value \n",
    "Q5 = pd.concat([Q5_b,Q5_c])\n",
    "Q5.dropna(inplace=True)\n",
    "Q5.shape"
   ]
  },
  {
   "cell_type": "code",
   "execution_count": 132,
   "metadata": {},
   "outputs": [
    {
     "data": {
      "text/html": [
       "<div>\n",
       "<style scoped>\n",
       "    .dataframe tbody tr th:only-of-type {\n",
       "        vertical-align: middle;\n",
       "    }\n",
       "\n",
       "    .dataframe tbody tr th {\n",
       "        vertical-align: top;\n",
       "    }\n",
       "\n",
       "    .dataframe thead th {\n",
       "        text-align: right;\n",
       "    }\n",
       "</style>\n",
       "<table border=\"1\" class=\"dataframe\">\n",
       "  <thead>\n",
       "    <tr style=\"text-align: right;\">\n",
       "      <th></th>\n",
       "      <th>title</th>\n",
       "      <th>abstract</th>\n",
       "      <th>publish_time</th>\n",
       "      <th>url</th>\n",
       "      <th>authors</th>\n",
       "      <th>words</th>\n",
       "    </tr>\n",
       "  </thead>\n",
       "  <tbody>\n",
       "    <tr>\n",
       "      <th>3586</th>\n",
       "      <td>The live poultry trade and the spread of highl...</td>\n",
       "      <td>In the past two decades, avian influenzas have...</td>\n",
       "      <td>2018-12-19</td>\n",
       "      <td>https://www.ncbi.nlm.nih.gov/pmc/articles/PMC6...</td>\n",
       "      <td>Wu, Tong; Perrings, Charles</td>\n",
       "      <td>[In, the, past, two, decades, avian, influenza...</td>\n",
       "    </tr>\n",
       "    <tr>\n",
       "      <th>82218</th>\n",
       "      <td>Ecological sources of zoonotic diseases.</td>\n",
       "      <td>Although of zoonotic origin, pathogens or infe...</td>\n",
       "      <td>2004</td>\n",
       "      <td>https://www.ncbi.nlm.nih.gov/pubmed/15702714/</td>\n",
       "      <td>Slingenbergh, J I; Gilbert, M; de Balogh, K I;...</td>\n",
       "      <td>[Although, of, zoonotic, origin, pathogens, or...</td>\n",
       "    </tr>\n",
       "    <tr>\n",
       "      <th>114866</th>\n",
       "      <td>Emerging Zoonoses in Domesticated Livestock of...</td>\n",
       "      <td>Abstract Southeast Asia, identified as one of ...</td>\n",
       "      <td>2014-12-31</td>\n",
       "      <td>https://www.sciencedirect.com/science/article/...</td>\n",
       "      <td>Hassan, L.</td>\n",
       "      <td>[Abstract, Southeast, Asia, identified, as, on...</td>\n",
       "    </tr>\n",
       "    <tr>\n",
       "      <th>116454</th>\n",
       "      <td>Crystal Structure of the Hendra Virus Attachme...</td>\n",
       "      <td>The henipaviruses, represented by Hendra (HeV)...</td>\n",
       "      <td>2013-10-10</td>\n",
       "      <td>https://www.ncbi.nlm.nih.gov/pubmed/24130486/;...</td>\n",
       "      <td>Xu, Kai; Rockx, Barry; Xie, Yihu; DeBuysscher,...</td>\n",
       "      <td>[The, henipaviruses, represented, by, Hendra, ...</td>\n",
       "    </tr>\n",
       "    <tr>\n",
       "      <th>124226</th>\n",
       "      <td>Hospital-based Influenza Morbidity and Mortali...</td>\n",
       "      <td>Since 2013, the Hospital-based Influenza Morbi...</td>\n",
       "      <td>2018-01-08</td>\n",
       "      <td>https://www.ncbi.nlm.nih.gov/pubmed/29359537/;...</td>\n",
       "      <td>Song, Joon Young; Noh, Ji Yun; Lee, Jacob; Woo...</td>\n",
       "      <td>[Since, 2013, the, Hospital, based, Influenza,...</td>\n",
       "    </tr>\n",
       "  </tbody>\n",
       "</table>\n",
       "</div>"
      ],
      "text/plain": [
       "                                                    title  \\\n",
       "3586    The live poultry trade and the spread of highl...   \n",
       "82218            Ecological sources of zoonotic diseases.   \n",
       "114866  Emerging Zoonoses in Domesticated Livestock of...   \n",
       "116454  Crystal Structure of the Hendra Virus Attachme...   \n",
       "124226  Hospital-based Influenza Morbidity and Mortali...   \n",
       "\n",
       "                                                 abstract publish_time  \\\n",
       "3586    In the past two decades, avian influenzas have...   2018-12-19   \n",
       "82218   Although of zoonotic origin, pathogens or infe...         2004   \n",
       "114866  Abstract Southeast Asia, identified as one of ...   2014-12-31   \n",
       "116454  The henipaviruses, represented by Hendra (HeV)...   2013-10-10   \n",
       "124226  Since 2013, the Hospital-based Influenza Morbi...   2018-01-08   \n",
       "\n",
       "                                                      url  \\\n",
       "3586    https://www.ncbi.nlm.nih.gov/pmc/articles/PMC6...   \n",
       "82218       https://www.ncbi.nlm.nih.gov/pubmed/15702714/   \n",
       "114866  https://www.sciencedirect.com/science/article/...   \n",
       "116454  https://www.ncbi.nlm.nih.gov/pubmed/24130486/;...   \n",
       "124226  https://www.ncbi.nlm.nih.gov/pubmed/29359537/;...   \n",
       "\n",
       "                                                  authors  \\\n",
       "3586                          Wu, Tong; Perrings, Charles   \n",
       "82218   Slingenbergh, J I; Gilbert, M; de Balogh, K I;...   \n",
       "114866                                         Hassan, L.   \n",
       "116454  Xu, Kai; Rockx, Barry; Xie, Yihu; DeBuysscher,...   \n",
       "124226  Song, Joon Young; Noh, Ji Yun; Lee, Jacob; Woo...   \n",
       "\n",
       "                                                    words  \n",
       "3586    [In, the, past, two, decades, avian, influenza...  \n",
       "82218   [Although, of, zoonotic, origin, pathogens, or...  \n",
       "114866  [Abstract, Southeast, Asia, identified, as, on...  \n",
       "116454  [The, henipaviruses, represented, by, Hendra, ...  \n",
       "124226  [Since, 2013, the, Hospital, based, Influenza,...  "
      ]
     },
     "execution_count": 132,
     "metadata": {},
     "output_type": "execute_result"
    }
   ],
   "source": [
    "#Articles that we have\n",
    "Q5.head(5)"
   ]
  },
  {
   "cell_type": "markdown",
   "metadata": {},
   "source": [
    "Online Search"
   ]
  },
  {
   "cell_type": "code",
   "execution_count": 123,
   "metadata": {},
   "outputs": [
    {
     "name": "stdout",
     "output_type": "stream",
     "text": [
      "https://www.nationalgeographic.com/animals/2020/04/coronavirus-linked-to-chinese-wet-markets/\n",
      "https://www.cnn.com/2020/04/14/asia/china-wet-market-coronavirus-intl-hnk/index.html\n",
      "https://www.npr.org/sections/coronavirus-live-updates/2020/04/23/842178010/u-s-pressures-china-to-close-wet-markets-thought-to-be-source-of-covid-19\n",
      "https://asia.nikkei.com/Spotlight/Society/Southeast-Asia-s-wildlife-markets-need-to-close-US-says\n",
      "https://www.washingtonpost.com/business/china-is-reopening-its-wet-markets-thats-good/2020/04/03/6c12a474-7610-11ea-ad9b-254ec99993bc_story.html\n",
      "https://www.theaustralian.com.au/inquirer/coronavirus-wet-markets-a-matter-of-wildlife-and-death-for-humans/news-story/8b03b7511c733e27e3eee04695ed0816\n",
      "https://en.wikipedia.org/wiki/Wet_market\n",
      "https://www.benarnews.org/english/news/indonesian/indonesia-coronavirus-04232020183044.html\n",
      "https://www.euronews.com/2020/04/30/irresponsible-wet-market-practices-led-to-covid-19-china-hasn-t-learned-its-lesson-view\n",
      "https://www.dailymail.co.uk/news/article-8323213/Markets-selling-bats-dogs-snakes-continue-operate-South-East-Asia-despite-coronavirus.html\n",
      "http://www.fao.org/3/i3166e/i3166e00.pdf\n",
      "https://www.ers.usda.gov/amber-waves/2019/april/southeast-asia-s-growing-meat-demand-and-its-implications-for-feedstuffs-imports/\n",
      "https://www.scidev.net/asia-pacific/agriculture/livestock/\n",
      "https://research.rabobank.com/far/en/sectors/regional-food-agri/Coronavirus-Impact-on-SEA-FA.html\n",
      "https://www.aa.com.tr/en/asia-pacific/coronavirus-cases-in-southeast-asia-pass-170-000/1902605\n",
      "https://extranet.who.int/sph/docs/file/4198\n",
      "https://www.feedstrategy.com/coronavirus/pandemic-lowers-demand-for-animal-feed-in-se-asia/\n",
      "https://www.newswise.com/articles/coronavirus-human-strain-causes-fear-but-domestic-livestock-strains-are-routine\n",
      "https://www.thecattlesite.com/articles/3549/livestock-resources-and-environmental-issues-in-asia\n",
      "https://www.usaid.gov/asia-regional/pandemic-influenza-and-other-emerging-threats\n"
     ]
    }
   ],
   "source": [
    "try: \n",
    "    from googlesearch import search \n",
    "except ImportError:  \n",
    "    print(\"Error/Not found\") \n",
    "### Browsing the sourses using different search terms: \n",
    "search5_1 = \"corona Southeast Asia wet markets \"\n",
    "search5_2 = \"corona Southeast Asia livestocks\" \n",
    "\n",
    "\n",
    "##limit to the first 10 relevant links:\n",
    "for a in search(search5_1, tld=\"co.in\", num=10, stop=10, pause=2): \n",
    "    print(a)\n",
    "for a in search(search5_2, tld=\"co.in\", num=10, stop=10, pause=2): \n",
    "    print(a)\n"
   ]
  },
  {
   "cell_type": "markdown",
   "metadata": {},
   "source": [
    "# 6/ Experimental infections to test host range for this pathogen."
   ]
  },
  {
   "cell_type": "code",
   "execution_count": 154,
   "metadata": {},
   "outputs": [],
   "source": [
    "#Create different sets with specialized terms  from our questions \n",
    "Q6_a = tablesAbstract[tablesAbstract['abstract'].str.contains('host range')]\n",
    "Q6_b = Q6_a[Q6_a['abstract'].str.contains('experimental infection')]"
   ]
  },
  {
   "cell_type": "code",
   "execution_count": 155,
   "metadata": {},
   "outputs": [
    {
     "data": {
      "text/plain": [
       "(5, 6)"
      ]
     },
     "execution_count": 155,
     "metadata": {},
     "output_type": "execute_result"
    }
   ],
   "source": [
    "#Concatenitng the dataframes into one table per question and dropping null value \n",
    "Q6 = pd.concat([Q6_b])\n",
    "Q6.dropna(inplace=True)\n",
    "Q6.shape"
   ]
  },
  {
   "cell_type": "code",
   "execution_count": 156,
   "metadata": {},
   "outputs": [
    {
     "data": {
      "text/html": [
       "<div>\n",
       "<style scoped>\n",
       "    .dataframe tbody tr th:only-of-type {\n",
       "        vertical-align: middle;\n",
       "    }\n",
       "\n",
       "    .dataframe tbody tr th {\n",
       "        vertical-align: top;\n",
       "    }\n",
       "\n",
       "    .dataframe thead th {\n",
       "        text-align: right;\n",
       "    }\n",
       "</style>\n",
       "<table border=\"1\" class=\"dataframe\">\n",
       "  <thead>\n",
       "    <tr style=\"text-align: right;\">\n",
       "      <th></th>\n",
       "      <th>title</th>\n",
       "      <th>abstract</th>\n",
       "      <th>publish_time</th>\n",
       "      <th>url</th>\n",
       "      <th>authors</th>\n",
       "      <th>words</th>\n",
       "    </tr>\n",
       "  </thead>\n",
       "  <tbody>\n",
       "    <tr>\n",
       "      <th>10486</th>\n",
       "      <td>Mouse neuropathogenic poliovirus strains cause...</td>\n",
       "      <td>Poliomyelitis as a consequence of poliovirus i...</td>\n",
       "      <td>2005-03-25</td>\n",
       "      <td>https://www.ncbi.nlm.nih.gov/pmc/articles/PMC7...</td>\n",
       "      <td>Gromeier, Matthias; Lu, Hui-Hua; Wimmer, Eckard</td>\n",
       "      <td>[Poliomyelitis, as, a, consequence, of, poliov...</td>\n",
       "    </tr>\n",
       "    <tr>\n",
       "      <th>68853</th>\n",
       "      <td>ACE2-Variants Indicate Potential SARS-CoV-2-Su...</td>\n",
       "      <td>Severe Acute Respiratory Syndrome Coronavirus ...</td>\n",
       "      <td>2020-05-14</td>\n",
       "      <td>https://doi.org/10.1101/2020.05.14.092767</td>\n",
       "      <td>Pach, Szymon; Nguyen, Trung Ngoc; Trimpert, Ja...</td>\n",
       "      <td>[Severe, Acute, Respiratory, Syndrome, Coronav...</td>\n",
       "    </tr>\n",
       "    <tr>\n",
       "      <th>75313</th>\n",
       "      <td>Coronaviruses in poultry and other birds.</td>\n",
       "      <td>The number of avian species in which coronavir...</td>\n",
       "      <td>2005</td>\n",
       "      <td>https://www.ncbi.nlm.nih.gov/pubmed/16537157/</td>\n",
       "      <td>Cavanagh, Dave</td>\n",
       "      <td>[The, number, of, avian, species, in, which, c...</td>\n",
       "    </tr>\n",
       "    <tr>\n",
       "      <th>115029</th>\n",
       "      <td>Discovery and Genomic Characterization of Noro...</td>\n",
       "      <td>Norovirus (NoV) RNA was detected in the stools...</td>\n",
       "      <td>2012-02-28</td>\n",
       "      <td>https://doi.org/10.1371/journal.pone.0032739; ...</td>\n",
       "      <td>Pinto, Pierfrancesco; Wang, Qiuhong; Chen, Nin...</td>\n",
       "      <td>[Norovirus, NoV, RNA, was, detected, in, the, ...</td>\n",
       "    </tr>\n",
       "    <tr>\n",
       "      <th>162715</th>\n",
       "      <td>Natural reservoirs for homologs of hepatitis C...</td>\n",
       "      <td>Hepatitis C virus is considered a major public...</td>\n",
       "      <td>2014-03-26</td>\n",
       "      <td>https://www.ncbi.nlm.nih.gov/pubmed/26038514/;...</td>\n",
       "      <td>Pfaender, Stephanie; Brown, Richard JP; Pietsc...</td>\n",
       "      <td>[Hepatitis, C, virus, is, considered, a, major...</td>\n",
       "    </tr>\n",
       "  </tbody>\n",
       "</table>\n",
       "</div>"
      ],
      "text/plain": [
       "                                                    title  \\\n",
       "10486   Mouse neuropathogenic poliovirus strains cause...   \n",
       "68853   ACE2-Variants Indicate Potential SARS-CoV-2-Su...   \n",
       "75313           Coronaviruses in poultry and other birds.   \n",
       "115029  Discovery and Genomic Characterization of Noro...   \n",
       "162715  Natural reservoirs for homologs of hepatitis C...   \n",
       "\n",
       "                                                 abstract publish_time  \\\n",
       "10486   Poliomyelitis as a consequence of poliovirus i...   2005-03-25   \n",
       "68853   Severe Acute Respiratory Syndrome Coronavirus ...   2020-05-14   \n",
       "75313   The number of avian species in which coronavir...         2005   \n",
       "115029  Norovirus (NoV) RNA was detected in the stools...   2012-02-28   \n",
       "162715  Hepatitis C virus is considered a major public...   2014-03-26   \n",
       "\n",
       "                                                      url  \\\n",
       "10486   https://www.ncbi.nlm.nih.gov/pmc/articles/PMC7...   \n",
       "68853           https://doi.org/10.1101/2020.05.14.092767   \n",
       "75313       https://www.ncbi.nlm.nih.gov/pubmed/16537157/   \n",
       "115029  https://doi.org/10.1371/journal.pone.0032739; ...   \n",
       "162715  https://www.ncbi.nlm.nih.gov/pubmed/26038514/;...   \n",
       "\n",
       "                                                  authors  \\\n",
       "10486     Gromeier, Matthias; Lu, Hui-Hua; Wimmer, Eckard   \n",
       "68853   Pach, Szymon; Nguyen, Trung Ngoc; Trimpert, Ja...   \n",
       "75313                                      Cavanagh, Dave   \n",
       "115029  Pinto, Pierfrancesco; Wang, Qiuhong; Chen, Nin...   \n",
       "162715  Pfaender, Stephanie; Brown, Richard JP; Pietsc...   \n",
       "\n",
       "                                                    words  \n",
       "10486   [Poliomyelitis, as, a, consequence, of, poliov...  \n",
       "68853   [Severe, Acute, Respiratory, Syndrome, Coronav...  \n",
       "75313   [The, number, of, avian, species, in, which, c...  \n",
       "115029  [Norovirus, NoV, RNA, was, detected, in, the, ...  \n",
       "162715  [Hepatitis, C, virus, is, considered, a, major...  "
      ]
     },
     "execution_count": 156,
     "metadata": {},
     "output_type": "execute_result"
    }
   ],
   "source": [
    "#Articles that we have\n",
    "Q6.head(5)"
   ]
  },
  {
   "cell_type": "markdown",
   "metadata": {},
   "source": [
    "Online Search"
   ]
  },
  {
   "cell_type": "code",
   "execution_count": 187,
   "metadata": {},
   "outputs": [
    {
     "name": "stdout",
     "output_type": "stream",
     "text": [
      "https://www.cdc.gov/coronavirus/2019-ncov/lab/grows-virus-cell-culture.html\n",
      "https://www.annualreviews.org/doi/10.1146/annurev-virology-100114-055029\n",
      "https://jvi.asm.org/content/79/22/14451\n",
      "https://www.biorxiv.org/content/10.1101/780841v1.full\n",
      "https://bmcmicrobiol.biomedcentral.com/articles/10.1186/s12866-019-1481-z\n",
      "https://www.ncbi.nlm.nih.gov/pmc/articles/PMC3125225/\n",
      "https://www.dhs.gov/sites/default/files/publications/mql_sars-cov-2_-_cleared_for_public_release_20200707.pdf\n",
      "https://www.dhs.gov/sites/default/files/publications/2020_03_18_mql_covid-19-sars-cov-2_-_cleared_for_public_release_0.pdf\n",
      "https://www.nature.com/articles/s42003-020-0970-9\n",
      "https://journals.plos.org/plospathogens/article?id=10.1371/journal.ppat.1004395\n",
      "https://www.contagionlive.com/news/can-we-beat-sarscov2-lessons-from-other-coronaviruses\n",
      "https://www.canada.ca/en/public-health/services/laboratory-biosafety-biosecurity/pathogen-safety-data-sheets-risk-assessment/severe-acute-respiratory-syndrome-sars-associated-coronavirus.html\n",
      "https://link.springer.com/article/10.1007/s10658-005-5767-7\n",
      "https://www.nationalacademies.org/event/03-11-2020/docs/D012DA4393AD7B7552927F6DAB1465FE94C6F336266A\n",
      "https://www.cell.com/fulltext/S0092-8674(07)00518-1\n",
      "https://academic.oup.com/jid/article/187/4/613/834018\n",
      "https://www.vetres.org/articles/vetres/pdf/2007/02/v06178.pdf\n",
      "https://www.avma.org/resources-tools/animal-health-and-welfare/covid-19/sars-cov-2-animals-including-pets\n",
      "https://www.pnas.org/content/105/50/19944\n",
      "http://www.abcdcatsvets.org/sars-coronavirus-2-and-cats/\n"
     ]
    }
   ],
   "source": [
    "try: \n",
    "    from googlesearch import search \n",
    "except ImportError:  \n",
    "    print(\"Error/Not found\") \n",
    "### Browsing the sourses using different search terms: \n",
    "search6_1 = \"corona experimental infections to test host range \"\n",
    "\n",
    "\n",
    "\n",
    "##limit to the first 10 relevant links:\n",
    "for a in search(search6_1, tld=\"co.in\", num=20, stop=20, pause=2): \n",
    "    print(a)"
   ]
  },
  {
   "cell_type": "markdown",
   "metadata": {},
   "source": [
    "# 7/ Animal host(s) and any evidence of continued spill-over to humans\n"
   ]
  },
  {
   "cell_type": "code",
   "execution_count": 166,
   "metadata": {},
   "outputs": [],
   "source": [
    "#Create different sets with specialized terms  from our questions \n",
    "Q7_a = tablesAbstract[tablesAbstract['abstract'].str.contains('animal host')]\n",
    "Q7_b = Q7_a[Q7_a['abstract'].str.contains('spill over')]"
   ]
  },
  {
   "cell_type": "code",
   "execution_count": 167,
   "metadata": {},
   "outputs": [
    {
     "data": {
      "text/plain": [
       "(3, 6)"
      ]
     },
     "execution_count": 167,
     "metadata": {},
     "output_type": "execute_result"
    }
   ],
   "source": [
    "#Concatenitng the dataframes into one table per question and dropping null value \n",
    "Q7 = pd.concat([Q7_b])\n",
    "Q7.dropna(inplace=True)\n",
    "Q7.shape"
   ]
  },
  {
   "cell_type": "code",
   "execution_count": 168,
   "metadata": {},
   "outputs": [
    {
     "data": {
      "text/html": [
       "<div>\n",
       "<style scoped>\n",
       "    .dataframe tbody tr th:only-of-type {\n",
       "        vertical-align: middle;\n",
       "    }\n",
       "\n",
       "    .dataframe tbody tr th {\n",
       "        vertical-align: top;\n",
       "    }\n",
       "\n",
       "    .dataframe thead th {\n",
       "        text-align: right;\n",
       "    }\n",
       "</style>\n",
       "<table border=\"1\" class=\"dataframe\">\n",
       "  <thead>\n",
       "    <tr style=\"text-align: right;\">\n",
       "      <th></th>\n",
       "      <th>title</th>\n",
       "      <th>abstract</th>\n",
       "      <th>publish_time</th>\n",
       "      <th>url</th>\n",
       "      <th>authors</th>\n",
       "      <th>words</th>\n",
       "    </tr>\n",
       "  </thead>\n",
       "  <tbody>\n",
       "    <tr>\n",
       "      <th>70871</th>\n",
       "      <td>An integrated in silico immuno-genetic analyti...</td>\n",
       "      <td>Background The COVID-19 pandemic is causing a ...</td>\n",
       "      <td>2020-05-12</td>\n",
       "      <td>https://doi.org/10.1101/2020.05.11.089409</td>\n",
       "      <td>Ward, Daniel; Higgins, Matthew; Phelan, Jody E...</td>\n",
       "      <td>[Background, The, COVID, 19, pandemic, is, cau...</td>\n",
       "    </tr>\n",
       "    <tr>\n",
       "      <th>160490</th>\n",
       "      <td>Middle East Respiratory Syndrome Coronavirus (...</td>\n",
       "      <td>Middle East Respiratory Syndrome-Coronavirus (...</td>\n",
       "      <td>2016-06-03</td>\n",
       "      <td>https://www.ncbi.nlm.nih.gov/pubmed/27255185/;...</td>\n",
       "      <td>Mohd, Hamzah A.; Al-Tawfiq, Jaffar A.; Memish,...</td>\n",
       "      <td>[Middle, East, Respiratory, Syndrome, Coronavi...</td>\n",
       "    </tr>\n",
       "    <tr>\n",
       "      <th>162669</th>\n",
       "      <td>Onward transmission of viruses: how do viruses...</td>\n",
       "      <td>The critical step in the emergence of a new ep...</td>\n",
       "      <td>2019-09-30</td>\n",
       "      <td>https://www.ncbi.nlm.nih.gov/pubmed/31401954/;...</td>\n",
       "      <td>Wasik, Brian R.; de Wit, Emmie; Munster, Vince...</td>\n",
       "      <td>[The, critical, step, in, the, emergence, of, ...</td>\n",
       "    </tr>\n",
       "  </tbody>\n",
       "</table>\n",
       "</div>"
      ],
      "text/plain": [
       "                                                    title  \\\n",
       "70871   An integrated in silico immuno-genetic analyti...   \n",
       "160490  Middle East Respiratory Syndrome Coronavirus (...   \n",
       "162669  Onward transmission of viruses: how do viruses...   \n",
       "\n",
       "                                                 abstract publish_time  \\\n",
       "70871   Background The COVID-19 pandemic is causing a ...   2020-05-12   \n",
       "160490  Middle East Respiratory Syndrome-Coronavirus (...   2016-06-03   \n",
       "162669  The critical step in the emergence of a new ep...   2019-09-30   \n",
       "\n",
       "                                                      url  \\\n",
       "70871           https://doi.org/10.1101/2020.05.11.089409   \n",
       "160490  https://www.ncbi.nlm.nih.gov/pubmed/27255185/;...   \n",
       "162669  https://www.ncbi.nlm.nih.gov/pubmed/31401954/;...   \n",
       "\n",
       "                                                  authors  \\\n",
       "70871   Ward, Daniel; Higgins, Matthew; Phelan, Jody E...   \n",
       "160490  Mohd, Hamzah A.; Al-Tawfiq, Jaffar A.; Memish,...   \n",
       "162669  Wasik, Brian R.; de Wit, Emmie; Munster, Vince...   \n",
       "\n",
       "                                                    words  \n",
       "70871   [Background, The, COVID, 19, pandemic, is, cau...  \n",
       "160490  [Middle, East, Respiratory, Syndrome, Coronavi...  \n",
       "162669  [The, critical, step, in, the, emergence, of, ...  "
      ]
     },
     "execution_count": 168,
     "metadata": {},
     "output_type": "execute_result"
    }
   ],
   "source": [
    "#Articles that we have\n",
    "Q7.head(5)"
   ]
  },
  {
   "cell_type": "markdown",
   "metadata": {},
   "source": [
    "Online Search"
   ]
  },
  {
   "cell_type": "code",
   "execution_count": 169,
   "metadata": {},
   "outputs": [
    {
     "name": "stdout",
     "output_type": "stream",
     "text": [
      "https://www.npr.org/sections/goatsandsoda/2020/02/05/802938289/new-coronavirus-wont-be-the-last-outbreak-to-move-from-animal-to-human\n",
      "https://www.sciencedaily.com/releases/2020/05/200514143546.htm\n",
      "https://insights.osu.edu/food/coronavirus-spillover\n",
      "https://www.nytimes.com/2020/03/26/science/pangolin-coronavirus.html\n",
      "https://theconversation.com/coronavirus-three-misconceptions-about-how-animals-transmit-diseases-debunked-134485\n",
      "https://www.nature.com/articles/d41586-020-01449-8\n",
      "https://www.sciencedirect.com/science/article/pii/S2590053619300308\n",
      "https://www.ncbi.nlm.nih.gov/pmc/articles/PMC7098031/\n",
      "https://www.scientificamerican.com/podcast/episode/david-quammen-how-animal-infections-spill-over-to-humans/\n",
      "https://www.washingtonpost.com/science/2020/04/03/coronavirus-wildlife-environment/\n",
      "https://en.wikipedia.org/wiki/Spillover_infection\n",
      "https://www.scientificamerican.com/article/destroyed-habitat-creates-the-perfect-conditions-for-coronavirus-to-emerge/\n",
      "https://www.ucdavis.edu/coronavirus/news/link-between-virus-spillover-wildlife-extinction-and-environment/\n",
      "https://royalsocietypublishing.org/doi/10.1098/rspb.2019.2736\n",
      "https://www.who.int/blueprint/priority-diseases/key-action/Coronavirus_Roadmap_V9.pdf?ua=1\n",
      "https://www.amazon.com/Spillover-Animal-Infections-Human-Pandemic/dp/0393346617\n",
      "https://www.researchgate.net/publication/338934614_History_is_repeating_itself_a_probable_zoonotic_spillover_as_a_cause_of_an_epidemic_the_case_of_2019_novel_Coronavirus\n",
      "https://e360.yale.edu/features/spillover-warning-how-we-can-prevent-the-next-pandemic-david-quammen\n",
      "https://www.oie.int/fileadmin/Home/eng/Our_scientific_expertise/docs/pdf/COV-19/1st_call_COVID19_21Feb.pdf\n",
      "https://www.discovermagazine.com/health/coronaviruses-often-start-in-animals-heres-how-those-diseases-can-jump-to\n"
     ]
    }
   ],
   "source": [
    "try: \n",
    "    from googlesearch import search \n",
    "except ImportError:  \n",
    "    print(\"Error/Not found\") \n",
    "### Browsing the sourses using different search terms: \n",
    "search7_1 = \"corona animal host(s) spill-over to humans \"\n",
    "\n",
    "\n",
    "\n",
    "##limit to the first 10 relevant links:\n",
    "for a in search(search7_1, tld=\"co.in\", num=20, stop=20, pause=2): \n",
    "    print(a)"
   ]
  },
  {
   "cell_type": "markdown",
   "metadata": {},
   "source": [
    "# 8/ Socioeconomic and behavioral risk factors for this spill-over"
   ]
  },
  {
   "cell_type": "code",
   "execution_count": 184,
   "metadata": {},
   "outputs": [],
   "source": [
    "#Create different sets with specialized terms  from our questions \n",
    "Q8_a = tablesAbstract[tablesAbstract['abstract'].str.contains('risk')]\n",
    "Q8_b = Q8_a[Q8_a['abstract'].str.contains('socioeconomic')]\n",
    "Q8_c = Q8_a[Q8_a['abstract'].str.contains('behavioral')]"
   ]
  },
  {
   "cell_type": "code",
   "execution_count": 185,
   "metadata": {},
   "outputs": [
    {
     "data": {
      "text/plain": [
       "(362, 6)"
      ]
     },
     "execution_count": 185,
     "metadata": {},
     "output_type": "execute_result"
    }
   ],
   "source": [
    "#Concatenitng the dataframes into one table per question and dropping null value \n",
    "Q8 = pd.concat([Q8_b,Q8_c])\n",
    "Q8.dropna(inplace=True)\n",
    "Q8.shape"
   ]
  },
  {
   "cell_type": "code",
   "execution_count": 186,
   "metadata": {},
   "outputs": [
    {
     "data": {
      "text/html": [
       "<div>\n",
       "<style scoped>\n",
       "    .dataframe tbody tr th:only-of-type {\n",
       "        vertical-align: middle;\n",
       "    }\n",
       "\n",
       "    .dataframe tbody tr th {\n",
       "        vertical-align: top;\n",
       "    }\n",
       "\n",
       "    .dataframe thead th {\n",
       "        text-align: right;\n",
       "    }\n",
       "</style>\n",
       "<table border=\"1\" class=\"dataframe\">\n",
       "  <thead>\n",
       "    <tr style=\"text-align: right;\">\n",
       "      <th></th>\n",
       "      <th>title</th>\n",
       "      <th>abstract</th>\n",
       "      <th>publish_time</th>\n",
       "      <th>url</th>\n",
       "      <th>authors</th>\n",
       "      <th>words</th>\n",
       "    </tr>\n",
       "  </thead>\n",
       "  <tbody>\n",
       "    <tr>\n",
       "      <th>145</th>\n",
       "      <td>A survey of knowledge, attitudes and practices...</td>\n",
       "      <td>BACKGROUND: Several public health strategic in...</td>\n",
       "      <td>2008-03-17</td>\n",
       "      <td>https://www.ncbi.nlm.nih.gov/pmc/articles/PMC2...</td>\n",
       "      <td>Di Giuseppe, Gabriella; Abbate, Rossella; Alba...</td>\n",
       "      <td>[BACKGROUND, Several, public, health, strategi...</td>\n",
       "    </tr>\n",
       "    <tr>\n",
       "      <th>208</th>\n",
       "      <td>Pandemic Influenza Planning in the United Stat...</td>\n",
       "      <td>We explored how different socioeconomic and ra...</td>\n",
       "      <td>2008-05-28</td>\n",
       "      <td>https://www.ncbi.nlm.nih.gov/pmc/articles/PMC2...</td>\n",
       "      <td>Blumenshine, Philip; Reingold, Arthur; Egerter...</td>\n",
       "      <td>[We, explored, how, different, socioeconomic, ...</td>\n",
       "    </tr>\n",
       "    <tr>\n",
       "      <th>3012</th>\n",
       "      <td>Back to the future in a petri dish: Origin and...</td>\n",
       "      <td>Current natural populations face new interacti...</td>\n",
       "      <td>2017-10-17</td>\n",
       "      <td>https://www.ncbi.nlm.nih.gov/pmc/articles/PMC5...</td>\n",
       "      <td>Houwenhuyse, Shira; Macke, Emilie; Reyserhove,...</td>\n",
       "      <td>[Current, natural, populations, face, new, int...</td>\n",
       "    </tr>\n",
       "    <tr>\n",
       "      <th>4635</th>\n",
       "      <td>The behavioral, cellular and immune mediators ...</td>\n",
       "      <td>Millions are exposed to the human immunodefici...</td>\n",
       "      <td>2020-02-24</td>\n",
       "      <td>https://www.ncbi.nlm.nih.gov/pmc/articles/PMC7...</td>\n",
       "      <td>Powell, Timothy R.; Duarte, Rodrigo R. R.; Hot...</td>\n",
       "      <td>[Millions, are, exposed, to, the, human, immun...</td>\n",
       "    </tr>\n",
       "    <tr>\n",
       "      <th>5871</th>\n",
       "      <td>Association of social deprivation with 1-year ...</td>\n",
       "      <td>PURPOSE: Intensive care unit survivors suffer ...</td>\n",
       "      <td>2018-10-23</td>\n",
       "      <td>https://www.ncbi.nlm.nih.gov/pmc/articles/PMC7...</td>\n",
       "      <td>Bastian, Kathleen; Hollinger, Alexa; Mebazaa, ...</td>\n",
       "      <td>[PURPOSE, Intensive, care, unit, survivors, su...</td>\n",
       "    </tr>\n",
       "  </tbody>\n",
       "</table>\n",
       "</div>"
      ],
      "text/plain": [
       "                                                  title  \\\n",
       "145   A survey of knowledge, attitudes and practices...   \n",
       "208   Pandemic Influenza Planning in the United Stat...   \n",
       "3012  Back to the future in a petri dish: Origin and...   \n",
       "4635  The behavioral, cellular and immune mediators ...   \n",
       "5871  Association of social deprivation with 1-year ...   \n",
       "\n",
       "                                               abstract publish_time  \\\n",
       "145   BACKGROUND: Several public health strategic in...   2008-03-17   \n",
       "208   We explored how different socioeconomic and ra...   2008-05-28   \n",
       "3012  Current natural populations face new interacti...   2017-10-17   \n",
       "4635  Millions are exposed to the human immunodefici...   2020-02-24   \n",
       "5871  PURPOSE: Intensive care unit survivors suffer ...   2018-10-23   \n",
       "\n",
       "                                                    url  \\\n",
       "145   https://www.ncbi.nlm.nih.gov/pmc/articles/PMC2...   \n",
       "208   https://www.ncbi.nlm.nih.gov/pmc/articles/PMC2...   \n",
       "3012  https://www.ncbi.nlm.nih.gov/pmc/articles/PMC5...   \n",
       "4635  https://www.ncbi.nlm.nih.gov/pmc/articles/PMC7...   \n",
       "5871  https://www.ncbi.nlm.nih.gov/pmc/articles/PMC7...   \n",
       "\n",
       "                                                authors  \\\n",
       "145   Di Giuseppe, Gabriella; Abbate, Rossella; Alba...   \n",
       "208   Blumenshine, Philip; Reingold, Arthur; Egerter...   \n",
       "3012  Houwenhuyse, Shira; Macke, Emilie; Reyserhove,...   \n",
       "4635  Powell, Timothy R.; Duarte, Rodrigo R. R.; Hot...   \n",
       "5871  Bastian, Kathleen; Hollinger, Alexa; Mebazaa, ...   \n",
       "\n",
       "                                                  words  \n",
       "145   [BACKGROUND, Several, public, health, strategi...  \n",
       "208   [We, explored, how, different, socioeconomic, ...  \n",
       "3012  [Current, natural, populations, face, new, int...  \n",
       "4635  [Millions, are, exposed, to, the, human, immun...  \n",
       "5871  [PURPOSE, Intensive, care, unit, survivors, su...  "
      ]
     },
     "execution_count": 186,
     "metadata": {},
     "output_type": "execute_result"
    }
   ],
   "source": [
    "#Articles that we have\n",
    "Q8.head(5)"
   ]
  },
  {
   "cell_type": "markdown",
   "metadata": {},
   "source": [
    "Online Search"
   ]
  },
  {
   "cell_type": "code",
   "execution_count": 190,
   "metadata": {},
   "outputs": [
    {
     "name": "stdout",
     "output_type": "stream",
     "text": [
      "https://covid.oumy.com/question-set/savanna-reid/what-are-the-socioeconomic-risk-factors-e-g-occupation-education-for-transmission-of-covid-19-from-animal-hosts-to-human.html\n",
      "https://www.nature.com/articles/d41586-020-00502-w\n",
      "https://www.nature.com/nature/articles?type=news\n",
      "https://www.nature.com/articles/d41586-020-01402-9\n",
      "https://www.nature.com/articles/d41586-020-01248-1\n",
      "https://www.who.int/blueprint/priority-diseases/key-action/Coronavirus_Roadmap_V9.pdf?ua=1\n",
      "https://www.who.int/tdr/publications/documents/seb_topic3.pdf\n",
      "https://www.cdc.gov/csels/dsepd/ss1978/lesson1/section8.html\n",
      "https://www.ncbi.nlm.nih.gov/pmc/articles/PMC4143863/\n",
      "https://www.ncbi.nlm.nih.gov/pmc/articles/PMC5214842/\n",
      "https://www.cdc.gov/coronavirus/2019-ncov/need-extra-precautions/people-with-medical-conditions.html\n",
      "https://www.cdc.gov/healthyweight/assessing/bmi/index.html\n",
      "https://www.cdc.gov/diabetes/managing/flu-sick-days.html\n",
      "https://www.cdc.gov/heartdisease/other_conditions.htm\n",
      "https://www.cdc.gov/coronavirus/2019-ncov/community/retirement/checklist.html\n",
      "https://www.cdc.gov/coronavirus/2019-ncov/covid-data/investigations-discovery/assessing-risk-factors.html\n",
      "https://www.sciencedirect.com/science/article/pii/S2590053619300308\n",
      "https://www.ncbi.nlm.nih.gov/pmc/articles/PMC7017878/\n",
      "https://vetclinicmission.com/covid-19-coronavirus-pets/\n",
      "https://www.who.int/blueprint/priority-diseases/key-action/Coronavirus_Roadmap_V9.pdf?ua=1\n"
     ]
    }
   ],
   "source": [
    "try: \n",
    "    from googlesearch import search \n",
    "except ImportError:  \n",
    "    print(\"Error/Not found\") \n",
    "### Browsing the sourses using different search terms: \n",
    "search8_1 = \"corona socioeconomic  risk factors for  animal host \"\n",
    "search8_2 = \"corona behavioral  risk factors for animal host \"\n",
    "\n",
    "\n",
    "\n",
    "##limit to the first 10 relevant links:\n",
    "for a in search(search8_1, tld=\"co.in\", num=10, stop=10, pause=2): \n",
    "    print(a)\n",
    "for a in search(search8_2, tld=\"co.in\", num=10, stop=10, pause=2): \n",
    "    print(a)"
   ]
  },
  {
   "cell_type": "markdown",
   "metadata": {},
   "source": [
    "# 9/ Sustainable risk reduction strategies\n"
   ]
  },
  {
   "cell_type": "code",
   "execution_count": 194,
   "metadata": {},
   "outputs": [],
   "source": [
    "#Create different sets with specialized terms  from our questions \n",
    "Q9_a = tablesAbstract[tablesAbstract['abstract'].str.contains('risk reduction')]\n",
    "Q9_b = Q9_a[Q9_a['abstract'].str.contains('corona')]"
   ]
  },
  {
   "cell_type": "code",
   "execution_count": 195,
   "metadata": {},
   "outputs": [
    {
     "data": {
      "text/plain": [
       "(21, 6)"
      ]
     },
     "execution_count": 195,
     "metadata": {},
     "output_type": "execute_result"
    }
   ],
   "source": [
    "#Concatenitng the dataframes into one table per question and dropping null value \n",
    "Q9 = pd.concat([Q9_b])\n",
    "Q9.dropna(inplace=True)\n",
    "Q9.shape"
   ]
  },
  {
   "cell_type": "code",
   "execution_count": 196,
   "metadata": {},
   "outputs": [
    {
     "data": {
      "text/html": [
       "<div>\n",
       "<style scoped>\n",
       "    .dataframe tbody tr th:only-of-type {\n",
       "        vertical-align: middle;\n",
       "    }\n",
       "\n",
       "    .dataframe tbody tr th {\n",
       "        vertical-align: top;\n",
       "    }\n",
       "\n",
       "    .dataframe thead th {\n",
       "        text-align: right;\n",
       "    }\n",
       "</style>\n",
       "<table border=\"1\" class=\"dataframe\">\n",
       "  <thead>\n",
       "    <tr style=\"text-align: right;\">\n",
       "      <th></th>\n",
       "      <th>title</th>\n",
       "      <th>abstract</th>\n",
       "      <th>publish_time</th>\n",
       "      <th>url</th>\n",
       "      <th>authors</th>\n",
       "      <th>words</th>\n",
       "    </tr>\n",
       "  </thead>\n",
       "  <tbody>\n",
       "    <tr>\n",
       "      <th>29206</th>\n",
       "      <td>Introduction to Modern Climate Change. Andrew ...</td>\n",
       "      <td>Climate change is the variability of the clima...</td>\n",
       "      <td>2020-05-15</td>\n",
       "      <td>https://doi.org/10.1016/j.scitotenv.2020.13939...</td>\n",
       "      <td>Ahmed, Mukhtar</td>\n",
       "      <td>[Climate, change, is, the, variability, of, th...</td>\n",
       "    </tr>\n",
       "    <tr>\n",
       "      <th>31058</th>\n",
       "      <td>Introduction to Modern Climate Change. Andrew ...</td>\n",
       "      <td>Climate change is the variability of the clima...</td>\n",
       "      <td>2020-05-15</td>\n",
       "      <td>https://doi.org/10.1016/j.scitotenv.2020.13939...</td>\n",
       "      <td>Ahmed, Mukhtar</td>\n",
       "      <td>[Climate, change, is, the, variability, of, th...</td>\n",
       "    </tr>\n",
       "    <tr>\n",
       "      <th>35609</th>\n",
       "      <td>Aspirin in Patients With Previous Percutaneous...</td>\n",
       "      <td>Background Uncertainty remains about the effec...</td>\n",
       "      <td>2018</td>\n",
       "      <td>https://doi.org/10.7326/m17-2341; https://www....</td>\n",
       "      <td>Graham, Michelle M; Sessler, Daniel I; Parlow,...</td>\n",
       "      <td>[Background, Uncertainty, remains, about, the,...</td>\n",
       "    </tr>\n",
       "    <tr>\n",
       "      <th>45637</th>\n",
       "      <td>Effect of bariatric surgery on cardiovascular ...</td>\n",
       "      <td>Obesity is associated with increased risk for ...</td>\n",
       "      <td>2011</td>\n",
       "      <td>https://doi.org/10.1016/j.amjcard.2011.06.076;...</td>\n",
       "      <td>Heneghan, Helen M; Meron-Eldar, Shai; Brethaue...</td>\n",
       "      <td>[Obesity, is, associated, with, increased, ris...</td>\n",
       "    </tr>\n",
       "    <tr>\n",
       "      <th>48674</th>\n",
       "      <td>Statins for the primary prevention of cardiova...</td>\n",
       "      <td>OBJECTIVE To synthesise evidence from exclusiv...</td>\n",
       "      <td>2019</td>\n",
       "      <td>https://doi.org/10.1136/bmjopen-2018-023085; h...</td>\n",
       "      <td>Byrne, Paula; Cullinan, John; Smith, Amelia; S...</td>\n",
       "      <td>[OBJECTIVE, To, synthesise, evidence, from, ex...</td>\n",
       "    </tr>\n",
       "  </tbody>\n",
       "</table>\n",
       "</div>"
      ],
      "text/plain": [
       "                                                   title  \\\n",
       "29206  Introduction to Modern Climate Change. Andrew ...   \n",
       "31058  Introduction to Modern Climate Change. Andrew ...   \n",
       "35609  Aspirin in Patients With Previous Percutaneous...   \n",
       "45637  Effect of bariatric surgery on cardiovascular ...   \n",
       "48674  Statins for the primary prevention of cardiova...   \n",
       "\n",
       "                                                abstract publish_time  \\\n",
       "29206  Climate change is the variability of the clima...   2020-05-15   \n",
       "31058  Climate change is the variability of the clima...   2020-05-15   \n",
       "35609  Background Uncertainty remains about the effec...         2018   \n",
       "45637  Obesity is associated with increased risk for ...         2011   \n",
       "48674  OBJECTIVE To synthesise evidence from exclusiv...         2019   \n",
       "\n",
       "                                                     url  \\\n",
       "29206  https://doi.org/10.1016/j.scitotenv.2020.13939...   \n",
       "31058  https://doi.org/10.1016/j.scitotenv.2020.13939...   \n",
       "35609  https://doi.org/10.7326/m17-2341; https://www....   \n",
       "45637  https://doi.org/10.1016/j.amjcard.2011.06.076;...   \n",
       "48674  https://doi.org/10.1136/bmjopen-2018-023085; h...   \n",
       "\n",
       "                                                 authors  \\\n",
       "29206                                     Ahmed, Mukhtar   \n",
       "31058                                     Ahmed, Mukhtar   \n",
       "35609  Graham, Michelle M; Sessler, Daniel I; Parlow,...   \n",
       "45637  Heneghan, Helen M; Meron-Eldar, Shai; Brethaue...   \n",
       "48674  Byrne, Paula; Cullinan, John; Smith, Amelia; S...   \n",
       "\n",
       "                                                   words  \n",
       "29206  [Climate, change, is, the, variability, of, th...  \n",
       "31058  [Climate, change, is, the, variability, of, th...  \n",
       "35609  [Background, Uncertainty, remains, about, the,...  \n",
       "45637  [Obesity, is, associated, with, increased, ris...  \n",
       "48674  [OBJECTIVE, To, synthesise, evidence, from, ex...  "
      ]
     },
     "execution_count": 196,
     "metadata": {},
     "output_type": "execute_result"
    }
   ],
   "source": [
    "#Articles that we have\n",
    "Q9.head(5)"
   ]
  },
  {
   "cell_type": "markdown",
   "metadata": {},
   "source": [
    "Online Search"
   ]
  },
  {
   "cell_type": "code",
   "execution_count": 198,
   "metadata": {},
   "outputs": [
    {
     "name": "stdout",
     "output_type": "stream",
     "text": [
      "https://www.northwell.edu/coronavirus-covid-19/frequently-asked-questions\n",
      "https://www.cdc.gov/coronavirus/2019-ncov/downloads/community-mitigation-strategy.pdf\n",
      "https://www.cdc.gov/coronavirus/2019-ncov/community/community-mitigation.html\n",
      "https://www.acc.org/latest-in-cardiology/articles/2020/04/22/20/42/strategies-for-risk-reduction-and-management-of-older-adults-with-cardiovascular-disease-during-the-coronavirus-disease-2019-covid-19-pandemic\n",
      "https://knowledge.wharton.upenn.edu/article/coping-coronavirus-five-steps-mitigate-business-risks/\n",
      "https://www.4cstrategies.com/covid-19/mitigating/\n",
      "https://www.sciencedirect.com/science/article/pii/S0925753520301703?via%3Dihub\n",
      "https://www.preventionweb.net/go/71329\n",
      "https://www.iqvia.com/solutions/research-and-development/covid-19-trial-continuity-and-risk-mitigation-strategies\n",
      "https://www.cisa.gov/sites/default/files/publications/20_0306_cisa_insights_risk_management_for_novel_coronavirus.pdf\n",
      "https://www.who.int/docs/default-source/coronaviruse/covid-strategy-update-14april2020.pdf?sfvrsn=29da3ba0_19\n",
      "https://www.sccgov.org/sites/covid19/Pages/press-release-07-02-2020-joint-statement.aspx\n",
      "https://www.pwc.com/us/en/library/covid-19/risk-functions-response-strategy.html\n",
      "https://www.aon.com/getmedia/b625fe6f-f392-4671-bdf8-ddf92473c864/Managing-And-Mitigating-Risk-COVID-19.aspx\n",
      "https://www.globaltrademag.com/moving-past-covid-19-risk-mitigation-strategies-to-drive-supply-chain-resilience/\n",
      "http://www.rmmagazine.com/2020/04/29/3-ways-to-improve-your-crisis-communications-plan-after-covid-19/\n",
      "https://www.wfeo.org/wp-content/uploads/un/COVID-19/COVID19_Action_Plan_FINAL_External_2Apr2020.pdf\n",
      "https://news.harvard.edu/gazette/story/2020/06/harvard-expert-outlines-recommendations-for-school-reopenings/\n",
      "https://science.sciencemag.org/content/early/2020/06/11/science.abc0035\n",
      "https://rmscva.com/news/covid-19-risk-mitigation-strategies/\n"
     ]
    }
   ],
   "source": [
    "try: \n",
    "    from googlesearch import search \n",
    "except ImportError:  \n",
    "    print(\"Error/Not found\") \n",
    "### Browsing the sourses using different search terms: \n",
    "search9_1 = \"corona risk reduction strategies\"\n",
    "\n",
    "\n",
    "\n",
    "##limit to the first 10 relevant links:\n",
    "for a in search(search9_1, tld=\"co.in\", num=20, stop=20, pause=2): \n",
    "    print(a)"
   ]
  },
  {
   "cell_type": "code",
   "execution_count": null,
   "metadata": {},
   "outputs": [],
   "source": []
  }
 ],
 "metadata": {
  "kernelspec": {
   "display_name": "Python 3",
   "language": "python",
   "name": "python3"
  },
  "language_info": {
   "codemirror_mode": {
    "name": "ipython",
    "version": 3
   },
   "file_extension": ".py",
   "mimetype": "text/x-python",
   "name": "python",
   "nbconvert_exporter": "python",
   "pygments_lexer": "ipython3",
   "version": "3.7.3"
  }
 },
 "nbformat": 4,
 "nbformat_minor": 4
}
