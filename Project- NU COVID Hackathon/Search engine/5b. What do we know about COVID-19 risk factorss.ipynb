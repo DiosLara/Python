{
 "cells": [
  {
   "cell_type": "code",
   "execution_count": 1,
   "metadata": {},
   "outputs": [],
   "source": [
    "# Importing the libraries \n",
    "import sys\n",
    "import numpy as np \n",
    "import pandas as pd \n",
    "import os "
   ]
  },
  {
   "cell_type": "markdown",
   "metadata": {},
   "source": [
    "### Table: ABSTRACTS"
   ]
  },
  {
   "cell_type": "code",
   "execution_count": 2,
   "metadata": {},
   "outputs": [
    {
     "name": "stdout",
     "output_type": "stream",
     "text": [
      "The number of articles are: 167470\n"
     ]
    },
    {
     "name": "stderr",
     "output_type": "stream",
     "text": [
      "C:\\Users\\HP\\Anaconda3\\lib\\site-packages\\IPython\\core\\interactiveshell.py:3063: DtypeWarning: Columns (5,6,13,14,16) have mixed types.Specify dtype option on import or set low_memory=False.\n",
      "  interactivity=interactivity, compiler=compiler, result=result)\n"
     ]
    }
   ],
   "source": [
    "#Import the information\n",
    "df=pd.read_csv('E:/NorthEastern University/XN-Hackathon Covid/Kaggle Data/metadata.csv') \n",
    "print('The number of articles are:',df.shape[0])"
   ]
  },
  {
   "cell_type": "code",
   "execution_count": 3,
   "metadata": {},
   "outputs": [],
   "source": [
    "#Select only title, abstract, date, link to the article, and authors\n",
    "tablesAbstract= df [['title', 'abstract', 'publish_time', 'url', 'authors']]"
   ]
  },
  {
   "cell_type": "code",
   "execution_count": 4,
   "metadata": {},
   "outputs": [
    {
     "name": "stderr",
     "output_type": "stream",
     "text": [
      "C:\\Users\\HP\\Anaconda3\\lib\\site-packages\\ipykernel_launcher.py:2: SettingWithCopyWarning: \n",
      "A value is trying to be set on a copy of a slice from a DataFrame.\n",
      "Try using .loc[row_indexer,col_indexer] = value instead\n",
      "\n",
      "See the caveats in the documentation: https://pandas.pydata.org/pandas-docs/stable/user_guide/indexing.html#returning-a-view-versus-a-copy\n",
      "  \n"
     ]
    },
    {
     "data": {
      "text/html": [
       "<div>\n",
       "<style scoped>\n",
       "    .dataframe tbody tr th:only-of-type {\n",
       "        vertical-align: middle;\n",
       "    }\n",
       "\n",
       "    .dataframe tbody tr th {\n",
       "        vertical-align: top;\n",
       "    }\n",
       "\n",
       "    .dataframe thead th {\n",
       "        text-align: right;\n",
       "    }\n",
       "</style>\n",
       "<table border=\"1\" class=\"dataframe\">\n",
       "  <thead>\n",
       "    <tr style=\"text-align: right;\">\n",
       "      <th></th>\n",
       "      <th>title</th>\n",
       "      <th>abstract</th>\n",
       "      <th>publish_time</th>\n",
       "      <th>url</th>\n",
       "      <th>authors</th>\n",
       "      <th>words</th>\n",
       "    </tr>\n",
       "  </thead>\n",
       "  <tbody>\n",
       "    <tr>\n",
       "      <th>0</th>\n",
       "      <td>Clinical features of culture-proven Mycoplasma...</td>\n",
       "      <td>OBJECTIVE: This retrospective chart review des...</td>\n",
       "      <td>2001-07-04</td>\n",
       "      <td>https://www.ncbi.nlm.nih.gov/pmc/articles/PMC3...</td>\n",
       "      <td>Madani, Tariq A; Al-Ghamdi, Aisha A</td>\n",
       "      <td>[OBJECTIVE, This, retrospective, chart, review...</td>\n",
       "    </tr>\n",
       "    <tr>\n",
       "      <th>1</th>\n",
       "      <td>Nitric oxide: a pro-inflammatory mediator in l...</td>\n",
       "      <td>Inflammatory diseases of the respiratory tract...</td>\n",
       "      <td>2000-08-15</td>\n",
       "      <td>https://www.ncbi.nlm.nih.gov/pmc/articles/PMC5...</td>\n",
       "      <td>Vliet, Albert van der; Eiserich, Jason P; Cros...</td>\n",
       "      <td>[Inflammatory, diseases, of, the, respiratory,...</td>\n",
       "    </tr>\n",
       "    <tr>\n",
       "      <th>2</th>\n",
       "      <td>Surfactant protein-D and pulmonary host defense</td>\n",
       "      <td>Surfactant protein-D (SP-D) participates in th...</td>\n",
       "      <td>2000-08-25</td>\n",
       "      <td>https://www.ncbi.nlm.nih.gov/pmc/articles/PMC5...</td>\n",
       "      <td>Crouch, Erika C</td>\n",
       "      <td>[Surfactant, protein, D, SP, D, participates, ...</td>\n",
       "    </tr>\n",
       "  </tbody>\n",
       "</table>\n",
       "</div>"
      ],
      "text/plain": [
       "                                               title  \\\n",
       "0  Clinical features of culture-proven Mycoplasma...   \n",
       "1  Nitric oxide: a pro-inflammatory mediator in l...   \n",
       "2    Surfactant protein-D and pulmonary host defense   \n",
       "\n",
       "                                            abstract publish_time  \\\n",
       "0  OBJECTIVE: This retrospective chart review des...   2001-07-04   \n",
       "1  Inflammatory diseases of the respiratory tract...   2000-08-15   \n",
       "2  Surfactant protein-D (SP-D) participates in th...   2000-08-25   \n",
       "\n",
       "                                                 url  \\\n",
       "0  https://www.ncbi.nlm.nih.gov/pmc/articles/PMC3...   \n",
       "1  https://www.ncbi.nlm.nih.gov/pmc/articles/PMC5...   \n",
       "2  https://www.ncbi.nlm.nih.gov/pmc/articles/PMC5...   \n",
       "\n",
       "                                             authors  \\\n",
       "0                Madani, Tariq A; Al-Ghamdi, Aisha A   \n",
       "1  Vliet, Albert van der; Eiserich, Jason P; Cros...   \n",
       "2                                    Crouch, Erika C   \n",
       "\n",
       "                                               words  \n",
       "0  [OBJECTIVE, This, retrospective, chart, review...  \n",
       "1  [Inflammatory, diseases, of, the, respiratory,...  \n",
       "2  [Surfactant, protein, D, SP, D, participates, ...  "
      ]
     },
     "execution_count": 4,
     "metadata": {},
     "output_type": "execute_result"
    }
   ],
   "source": [
    "#Seperate the words in the Abstract columns \n",
    "tablesAbstract['words']=  tablesAbstract.abstract.str.strip().str.split('[\\W_]+')\n",
    "tablesAbstract = tablesAbstract[tablesAbstract.words.str.len() > 0]\n",
    "                                        #rid of all the input that have the Words column less than 0 \n",
    "tablesAbstract.head(3)"
   ]
  },
  {
   "cell_type": "code",
   "execution_count": 5,
   "metadata": {},
   "outputs": [
    {
     "name": "stdout",
     "output_type": "stream",
     "text": [
      "The number of articles after reduction is: 122492\n"
     ]
    }
   ],
   "source": [
    "print('The number of articles after reduction is:', tablesAbstract.shape[0])"
   ]
  },
  {
   "cell_type": "markdown",
   "metadata": {},
   "source": [
    "# ==> We will analyze what the articles available in the dataset and then also search online resources for each questions "
   ]
  },
  {
   "cell_type": "markdown",
   "metadata": {},
   "source": [
    "# -------------------------------------------------------------------------------------------------------------"
   ]
  },
  {
   "cell_type": "markdown",
   "metadata": {},
   "source": [
    "Scraping the web using beautifulsoup4 and Google "
   ]
  },
  {
   "cell_type": "code",
   "execution_count": 6,
   "metadata": {},
   "outputs": [
    {
     "name": "stdout",
     "output_type": "stream",
     "text": [
      "Requirement already satisfied: google in c:\\users\\hp\\anaconda3\\lib\\site-packages (3.0.0)\n",
      "Requirement already satisfied: beautifulsoup4 in c:\\users\\hp\\anaconda3\\lib\\site-packages (from google) (4.9.0)\n",
      "Requirement already satisfied: soupsieve>1.2 in c:\\users\\hp\\anaconda3\\lib\\site-packages (from beautifulsoup4->google) (2.0)\n",
      "Note: you may need to restart the kernel to use updated packages.\n"
     ]
    }
   ],
   "source": [
    "pip install google"
   ]
  },
  {
   "cell_type": "code",
   "execution_count": 7,
   "metadata": {},
   "outputs": [
    {
     "name": "stdout",
     "output_type": "stream",
     "text": [
      "Requirement already satisfied: beautifulsoup4 in c:\\users\\hp\\anaconda3\\lib\\site-packages (4.9.0)\n",
      "Requirement already satisfied: soupsieve>1.2 in c:\\users\\hp\\anaconda3\\lib\\site-packages (from beautifulsoup4) (2.0)\n",
      "Note: you may need to restart the kernel to use updated packages.\n"
     ]
    }
   ],
   "source": [
    "pip install beautifulsoup4"
   ]
  },
  {
   "cell_type": "markdown",
   "metadata": {},
   "source": [
    "# 1/ Data on potential risks factors"
   ]
  },
  {
   "cell_type": "code",
   "execution_count": 13,
   "metadata": {},
   "outputs": [],
   "source": [
    "#Create different sets with specialized terms  from our questions \n",
    "Q1_a = tablesAbstract[tablesAbstract['abstract'].str.contains('risk factors')]\n",
    "Q1_b = Q1_a[Q1_a['abstract'].str.contains('corona')]"
   ]
  },
  {
   "cell_type": "code",
   "execution_count": 14,
   "metadata": {},
   "outputs": [
    {
     "data": {
      "text/plain": [
       "(511, 6)"
      ]
     },
     "execution_count": 14,
     "metadata": {},
     "output_type": "execute_result"
    }
   ],
   "source": [
    "#Concatenitng the dataframes into one table per question and dropping null value \n",
    "Q1 = pd.concat([Q1_b])\n",
    "Q1.dropna(inplace=True)\n",
    "Q1.shape"
   ]
  },
  {
   "cell_type": "code",
   "execution_count": 15,
   "metadata": {},
   "outputs": [
    {
     "data": {
      "text/html": [
       "<div>\n",
       "<style scoped>\n",
       "    .dataframe tbody tr th:only-of-type {\n",
       "        vertical-align: middle;\n",
       "    }\n",
       "\n",
       "    .dataframe tbody tr th {\n",
       "        vertical-align: top;\n",
       "    }\n",
       "\n",
       "    .dataframe thead th {\n",
       "        text-align: right;\n",
       "    }\n",
       "</style>\n",
       "<table border=\"1\" class=\"dataframe\">\n",
       "  <thead>\n",
       "    <tr style=\"text-align: right;\">\n",
       "      <th></th>\n",
       "      <th>title</th>\n",
       "      <th>abstract</th>\n",
       "      <th>publish_time</th>\n",
       "      <th>url</th>\n",
       "      <th>authors</th>\n",
       "      <th>words</th>\n",
       "    </tr>\n",
       "  </thead>\n",
       "  <tbody>\n",
       "    <tr>\n",
       "      <th>1527</th>\n",
       "      <td>From gene to protein—experimental and clinical...</td>\n",
       "      <td>Hypertension is a major risk factor for stroke...</td>\n",
       "      <td>2014-06-24</td>\n",
       "      <td>https://www.ncbi.nlm.nih.gov/pmc/articles/PMC4...</td>\n",
       "      <td>Patel, Sheila K.; Velkoska, Elena; Freeman, Me...</td>\n",
       "      <td>[Hypertension, is, a, major, risk, factor, for...</td>\n",
       "    </tr>\n",
       "    <tr>\n",
       "      <th>2791</th>\n",
       "      <td>36th International Symposium on Intensive Care...</td>\n",
       "      <td>P001 - Sepsis impairs the capillary response w...</td>\n",
       "      <td>2016-04-20</td>\n",
       "      <td>https://www.ncbi.nlm.nih.gov/pmc/articles/PMC5...</td>\n",
       "      <td>Bateman, R. M.; Sharpe, M. D.; Jagger, J. E.; ...</td>\n",
       "      <td>[P001, Sepsis, impairs, the, capillary, respon...</td>\n",
       "    </tr>\n",
       "    <tr>\n",
       "      <th>5051</th>\n",
       "      <td>Nosocomial necrotising enterocolitis outbreaks...</td>\n",
       "      <td>Necrotising enterocolitis (NEC) is one of the ...</td>\n",
       "      <td>2001</td>\n",
       "      <td>https://www.ncbi.nlm.nih.gov/pmc/articles/PMC7...</td>\n",
       "      <td>Boccia, Delia; Stolfi, Ilaria; Lana, Susanna; ...</td>\n",
       "      <td>[Necrotising, enterocolitis, NEC, is, one, of,...</td>\n",
       "    </tr>\n",
       "    <tr>\n",
       "      <th>6681</th>\n",
       "      <td>Early use of beta-blockers attenuates systemic...</td>\n",
       "      <td>We have reported that serum C-reactive protein...</td>\n",
       "      <td>2008-09-20</td>\n",
       "      <td>https://www.ncbi.nlm.nih.gov/pmc/articles/PMC7...</td>\n",
       "      <td>Jo, Yusuke; Anzai, Toshihisa; Sugano, Yasuo; N...</td>\n",
       "      <td>[We, have, reported, that, serum, C, reactive,...</td>\n",
       "    </tr>\n",
       "    <tr>\n",
       "      <th>8391</th>\n",
       "      <td>Short-term Follow-up Results of Drug-eluting S...</td>\n",
       "      <td>BACKGROUND: Premature coronary artery disease ...</td>\n",
       "      <td>2008-09-26</td>\n",
       "      <td>https://www.ncbi.nlm.nih.gov/pmc/articles/PMC7...</td>\n",
       "      <td>Wang, Ming-Hsiung; Lee, Wen-Lieng; Wang, Kuo-Y...</td>\n",
       "      <td>[BACKGROUND, Premature, coronary, artery, dise...</td>\n",
       "    </tr>\n",
       "  </tbody>\n",
       "</table>\n",
       "</div>"
      ],
      "text/plain": [
       "                                                  title  \\\n",
       "1527  From gene to protein—experimental and clinical...   \n",
       "2791  36th International Symposium on Intensive Care...   \n",
       "5051  Nosocomial necrotising enterocolitis outbreaks...   \n",
       "6681  Early use of beta-blockers attenuates systemic...   \n",
       "8391  Short-term Follow-up Results of Drug-eluting S...   \n",
       "\n",
       "                                               abstract publish_time  \\\n",
       "1527  Hypertension is a major risk factor for stroke...   2014-06-24   \n",
       "2791  P001 - Sepsis impairs the capillary response w...   2016-04-20   \n",
       "5051  Necrotising enterocolitis (NEC) is one of the ...         2001   \n",
       "6681  We have reported that serum C-reactive protein...   2008-09-20   \n",
       "8391  BACKGROUND: Premature coronary artery disease ...   2008-09-26   \n",
       "\n",
       "                                                    url  \\\n",
       "1527  https://www.ncbi.nlm.nih.gov/pmc/articles/PMC4...   \n",
       "2791  https://www.ncbi.nlm.nih.gov/pmc/articles/PMC5...   \n",
       "5051  https://www.ncbi.nlm.nih.gov/pmc/articles/PMC7...   \n",
       "6681  https://www.ncbi.nlm.nih.gov/pmc/articles/PMC7...   \n",
       "8391  https://www.ncbi.nlm.nih.gov/pmc/articles/PMC7...   \n",
       "\n",
       "                                                authors  \\\n",
       "1527  Patel, Sheila K.; Velkoska, Elena; Freeman, Me...   \n",
       "2791  Bateman, R. M.; Sharpe, M. D.; Jagger, J. E.; ...   \n",
       "5051  Boccia, Delia; Stolfi, Ilaria; Lana, Susanna; ...   \n",
       "6681  Jo, Yusuke; Anzai, Toshihisa; Sugano, Yasuo; N...   \n",
       "8391  Wang, Ming-Hsiung; Lee, Wen-Lieng; Wang, Kuo-Y...   \n",
       "\n",
       "                                                  words  \n",
       "1527  [Hypertension, is, a, major, risk, factor, for...  \n",
       "2791  [P001, Sepsis, impairs, the, capillary, respon...  \n",
       "5051  [Necrotising, enterocolitis, NEC, is, one, of,...  \n",
       "6681  [We, have, reported, that, serum, C, reactive,...  \n",
       "8391  [BACKGROUND, Premature, coronary, artery, dise...  "
      ]
     },
     "execution_count": 15,
     "metadata": {},
     "output_type": "execute_result"
    }
   ],
   "source": [
    "#Articles that we have\n",
    "Q1.head(5)"
   ]
  },
  {
   "cell_type": "markdown",
   "metadata": {},
   "source": [
    "Online Search "
   ]
  },
  {
   "cell_type": "code",
   "execution_count": 17,
   "metadata": {},
   "outputs": [
    {
     "name": "stdout",
     "output_type": "stream",
     "text": [
      "https://www.cdc.gov/coronavirus/2019-ncov/covid-data/investigations-discovery/assessing-risk-factors.html\n",
      "https://www.cdc.gov/coronavirus/2019-ncov/need-extra-precautions/people-with-medical-conditions.html\n",
      "https://www.cdc.gov/healthyweight/assessing/bmi/index.html\n",
      "https://www.cdc.gov/diabetes/managing/flu-sick-days.html\n",
      "https://www.cdc.gov/heartdisease/other_conditions.htm\n",
      "https://www.cdc.gov/coronavirus/2019-ncov/community/retirement/checklist.html\n",
      "https://www.who.int/publications/i/item/protocol-for-assessment-of-potential-risk-factors-for-2019-novel-coronavirus-(2019-ncov)-infection-among-health-care-workers-in-a-health-care-setting\n",
      "https://www.ncbi.nlm.nih.gov/pmc/articles/PMC7240841/\n",
      "https://www.hopkinsmedicine.org/health/conditions-and-diseases/coronavirus/coronavirus-and-covid19-who-is-at-higher-risk\n",
      "https://medicalxpress.com/news/2020-05-factors-covid-death-revealed-world.html\n",
      "https://www.ecdc.europa.eu/en/publications-data/rapid-risk-assessment-coronavirus-disease-2019-covid-19-pandemic-tenth-update\n",
      "https://www.nytimes.com/2020/07/08/health/coronavirus-risk-factors.html\n",
      "https://www.thelancet.com/journals/langlo/article/PIIS2214-109X(20)30264-3/fulltext\n",
      "https://www.thelancet.com/journals/lanonc/article/PIIS1470-2045(20)30309-0/fulltext\n",
      "https://journal.chestnet.org/article/S0012-3692(20)30710-8/fulltext\n",
      "https://catalyst.nejm.org/doi/full/10.1056/CAT.20.0116\n",
      "https://www.bbc.com/news/health-52197594\n",
      "https://ourworldindata.org/coronavirus\n",
      "https://www.sciencemag.org/news/2020/06/hiv-and-tb-increase-death-risk-covid-19-study-finds-not-much\n",
      "https://www.vox.com/science-and-health/2020/5/22/21265180/cdc-coronavirus-surfaces-social-distancing-guidelines-covid-19-risks\n"
     ]
    }
   ],
   "source": [
    "try: \n",
    "    from googlesearch import search \n",
    "except ImportError:  \n",
    "    print(\"Error/Not found\") \n",
    "### Browsing the sourses using different search terms: \n",
    "search1_1 = \"corona data on potential risks factors\"\n",
    "\n",
    "\n",
    "##limit to the first 10 relevant links:\n",
    "for a in search(search1_1, tld=\"co.in\", num=20, stop=20, pause=2): \n",
    "    print(a)"
   ]
  },
  {
   "cell_type": "markdown",
   "metadata": {},
   "source": [
    "# 2/ Smoking, pre-existing pulmonary disease\n"
   ]
  },
  {
   "cell_type": "code",
   "execution_count": 18,
   "metadata": {},
   "outputs": [],
   "source": [
    "#Create different sets with specialized terms  from our questions \n",
    "Q2_a = tablesAbstract[tablesAbstract['abstract'].str.contains('corona')]\n",
    "Q2_b = Q2_a[Q2_a['abstract'].str.contains('smoking')]\n",
    "Q2_c = Q2_a[Q2_a['abstract'].str.contains('pulmonary disease')]"
   ]
  },
  {
   "cell_type": "code",
   "execution_count": 19,
   "metadata": {},
   "outputs": [
    {
     "data": {
      "text/plain": [
       "(287, 6)"
      ]
     },
     "execution_count": 19,
     "metadata": {},
     "output_type": "execute_result"
    }
   ],
   "source": [
    "#Concatenitng the dataframes into one table per question and dropping null value \n",
    "Q2 = pd.concat([Q2_b,Q2_c])\n",
    "Q2.dropna(inplace=True)\n",
    "Q2.shape"
   ]
  },
  {
   "cell_type": "code",
   "execution_count": 20,
   "metadata": {},
   "outputs": [
    {
     "data": {
      "text/html": [
       "<div>\n",
       "<style scoped>\n",
       "    .dataframe tbody tr th:only-of-type {\n",
       "        vertical-align: middle;\n",
       "    }\n",
       "\n",
       "    .dataframe tbody tr th {\n",
       "        vertical-align: top;\n",
       "    }\n",
       "\n",
       "    .dataframe thead th {\n",
       "        text-align: right;\n",
       "    }\n",
       "</style>\n",
       "<table border=\"1\" class=\"dataframe\">\n",
       "  <thead>\n",
       "    <tr style=\"text-align: right;\">\n",
       "      <th></th>\n",
       "      <th>title</th>\n",
       "      <th>abstract</th>\n",
       "      <th>publish_time</th>\n",
       "      <th>url</th>\n",
       "      <th>authors</th>\n",
       "      <th>words</th>\n",
       "    </tr>\n",
       "  </thead>\n",
       "  <tbody>\n",
       "    <tr>\n",
       "      <th>8391</th>\n",
       "      <td>Short-term Follow-up Results of Drug-eluting S...</td>\n",
       "      <td>BACKGROUND: Premature coronary artery disease ...</td>\n",
       "      <td>2008-09-26</td>\n",
       "      <td>https://www.ncbi.nlm.nih.gov/pmc/articles/PMC7...</td>\n",
       "      <td>Wang, Ming-Hsiung; Lee, Wen-Lieng; Wang, Kuo-Y...</td>\n",
       "      <td>[BACKGROUND, Premature, coronary, artery, dise...</td>\n",
       "    </tr>\n",
       "    <tr>\n",
       "      <th>11300</th>\n",
       "      <td>Infection and atherosclerosis: TLR-dependent p...</td>\n",
       "      <td>Atherosclerotic vascular disease (ASVD) is a c...</td>\n",
       "      <td>2020-01-30</td>\n",
       "      <td>https://www.ncbi.nlm.nih.gov/pmc/articles/PMC7...</td>\n",
       "      <td>Li, Bowei; Xia, Yuanpeng; Hu, Bo</td>\n",
       "      <td>[Atherosclerotic, vascular, disease, ASVD, is,...</td>\n",
       "    </tr>\n",
       "    <tr>\n",
       "      <th>12369</th>\n",
       "      <td>Human Coronavirus (HCoV) Infection Among Adult...</td>\n",
       "      <td>BACKGROUND: Human Coronaviruses (CoV) have bee...</td>\n",
       "      <td>2017-10-04</td>\n",
       "      <td>https://www.ncbi.nlm.nih.gov/pmc/articles/PMC5...</td>\n",
       "      <td>Kanwar, Anubhav; Selvaraju, Suresh; Esper, Frank</td>\n",
       "      <td>[BACKGROUND, Human, Coronaviruses, CoV, have, ...</td>\n",
       "    </tr>\n",
       "    <tr>\n",
       "      <th>13227</th>\n",
       "      <td>Coronavirus Infection in Hematopoietic Stem Ce...</td>\n",
       "      <td>BACKGROUND: Hematopoietic stem cell transplant...</td>\n",
       "      <td>2017-10-04</td>\n",
       "      <td>https://www.ncbi.nlm.nih.gov/pmc/articles/PMC7...</td>\n",
       "      <td>Eichenberger, Emily; Satlin, Michael; Zappetti...</td>\n",
       "      <td>[BACKGROUND, Hematopoietic, stem, cell, transp...</td>\n",
       "    </tr>\n",
       "    <tr>\n",
       "      <th>13260</th>\n",
       "      <td>Long-term Respiratory Complication in Patients...</td>\n",
       "      <td>BACKGROUND: There are few data about long-term...</td>\n",
       "      <td>2017-10-04</td>\n",
       "      <td>https://www.ncbi.nlm.nih.gov/pmc/articles/PMC7...</td>\n",
       "      <td>Il Jun, Kang; Park, Wan Beom; Kim, Gayeon; Cho...</td>\n",
       "      <td>[BACKGROUND, There, are, few, data, about, lon...</td>\n",
       "    </tr>\n",
       "  </tbody>\n",
       "</table>\n",
       "</div>"
      ],
      "text/plain": [
       "                                                   title  \\\n",
       "8391   Short-term Follow-up Results of Drug-eluting S...   \n",
       "11300  Infection and atherosclerosis: TLR-dependent p...   \n",
       "12369  Human Coronavirus (HCoV) Infection Among Adult...   \n",
       "13227  Coronavirus Infection in Hematopoietic Stem Ce...   \n",
       "13260  Long-term Respiratory Complication in Patients...   \n",
       "\n",
       "                                                abstract publish_time  \\\n",
       "8391   BACKGROUND: Premature coronary artery disease ...   2008-09-26   \n",
       "11300  Atherosclerotic vascular disease (ASVD) is a c...   2020-01-30   \n",
       "12369  BACKGROUND: Human Coronaviruses (CoV) have bee...   2017-10-04   \n",
       "13227  BACKGROUND: Hematopoietic stem cell transplant...   2017-10-04   \n",
       "13260  BACKGROUND: There are few data about long-term...   2017-10-04   \n",
       "\n",
       "                                                     url  \\\n",
       "8391   https://www.ncbi.nlm.nih.gov/pmc/articles/PMC7...   \n",
       "11300  https://www.ncbi.nlm.nih.gov/pmc/articles/PMC7...   \n",
       "12369  https://www.ncbi.nlm.nih.gov/pmc/articles/PMC5...   \n",
       "13227  https://www.ncbi.nlm.nih.gov/pmc/articles/PMC7...   \n",
       "13260  https://www.ncbi.nlm.nih.gov/pmc/articles/PMC7...   \n",
       "\n",
       "                                                 authors  \\\n",
       "8391   Wang, Ming-Hsiung; Lee, Wen-Lieng; Wang, Kuo-Y...   \n",
       "11300                   Li, Bowei; Xia, Yuanpeng; Hu, Bo   \n",
       "12369   Kanwar, Anubhav; Selvaraju, Suresh; Esper, Frank   \n",
       "13227  Eichenberger, Emily; Satlin, Michael; Zappetti...   \n",
       "13260  Il Jun, Kang; Park, Wan Beom; Kim, Gayeon; Cho...   \n",
       "\n",
       "                                                   words  \n",
       "8391   [BACKGROUND, Premature, coronary, artery, dise...  \n",
       "11300  [Atherosclerotic, vascular, disease, ASVD, is,...  \n",
       "12369  [BACKGROUND, Human, Coronaviruses, CoV, have, ...  \n",
       "13227  [BACKGROUND, Hematopoietic, stem, cell, transp...  \n",
       "13260  [BACKGROUND, There, are, few, data, about, lon...  "
      ]
     },
     "execution_count": 20,
     "metadata": {},
     "output_type": "execute_result"
    }
   ],
   "source": [
    "#Articles that we have\n",
    "Q2.head(5)"
   ]
  },
  {
   "cell_type": "markdown",
   "metadata": {},
   "source": [
    "Online Search"
   ]
  },
  {
   "cell_type": "code",
   "execution_count": 21,
   "metadata": {},
   "outputs": [
    {
     "name": "stdout",
     "output_type": "stream",
     "text": [
      "https://www.who.int/news-room/commentaries/detail/smoking-and-covid-19\n",
      "https://www.who.int/news-room/q-a-detail/q-a-on-tobacco-and-covid-19\n",
      "https://www.cdc.gov/coronavirus/2019-ncov/need-extra-precautions/people-with-medical-conditions.html\n",
      "https://www.cdc.gov/healthyweight/assessing/bmi/index.html\n",
      "https://www.cdc.gov/diabetes/managing/flu-sick-days.html\n",
      "https://www.cdc.gov/heartdisease/other_conditions.htm\n",
      "https://www.cdc.gov/coronavirus/2019-ncov/community/retirement/checklist.html\n",
      "https://www.medrxiv.org/content/10.1101/2020.06.01.20118877v2\n",
      "https://www.webmd.com/lung/covid-19-smoking-vaping\n",
      "https://www.webmd.com/lung/covid-19-smoking-vaping#2-3\n",
      "https://www.hopkinsmedicine.org/health/conditions-and-diseases/coronavirus/what-coronavirus-does-to-the-lungs\n",
      "https://www.cdc.gov/coronavirus/2019-ncov/need-extra-precautions/people-with-medical-conditions.html\n",
      "https://www.cdc.gov/heartdisease/index.htm\n",
      "https://www.cdc.gov/nchs/fastats/liver-disease.htm\n",
      "https://www.cdc.gov/ncbddd/sicklecell/index.html\n",
      "https://www.cdc.gov/healthyweight/assessing/bmi/index.html\n",
      "https://www.lung.org/lung-health-diseases/lung-disease-lookup/covid-19\n",
      "https://www.lung.org/blog/update-covid-19\n",
      "https://www.lung.org/lung-health-diseases/lung-disease-lookup/covid-19/faq\n",
      "https://www.lung.org/lung-health-diseases/lung-disease-lookup/covid-19/treatment-recovery\n"
     ]
    }
   ],
   "source": [
    "try: \n",
    "    from googlesearch import search \n",
    "except ImportError:  \n",
    "    print(\"Error/Not found\") \n",
    "### Browsing the sourses using different search terms: \n",
    "search2_1 = \"corona smoking risk\"\n",
    "search2_2 = \"corona pulmonary disease\"\n",
    "\n",
    "\n",
    "##limit to the first 10 relevant links:\n",
    "for a in search(search2_1, tld=\"co.in\", num=10, stop=10, pause=2): \n",
    "    print(a)\n",
    "for a in search(search2_2, tld=\"co.in\", num=10, stop=10, pause=2): \n",
    "    print(a)"
   ]
  },
  {
   "cell_type": "markdown",
   "metadata": {},
   "source": [
    "# 3/ Co-infections (determine whether co-existing respiratory/viral infections make the virus more transmissible or virulent) and other co-morbidities\n"
   ]
  },
  {
   "cell_type": "code",
   "execution_count": 25,
   "metadata": {},
   "outputs": [],
   "source": [
    "#Create different sets with specialized terms  from our questions \n",
    "Q3_a = tablesAbstract[tablesAbstract['abstract'].str.contains('co-infections')]\n",
    "Q3_b = Q3_a[Q3_a['abstract'].str.contains('corona')]"
   ]
  },
  {
   "cell_type": "code",
   "execution_count": 26,
   "metadata": {},
   "outputs": [
    {
     "data": {
      "text/plain": [
       "(68, 6)"
      ]
     },
     "execution_count": 26,
     "metadata": {},
     "output_type": "execute_result"
    }
   ],
   "source": [
    "#Concatenitng the dataframes into one table per question and dropping null value \n",
    "Q3 = pd.concat([Q3_b])\n",
    "Q3.dropna(inplace=True)\n",
    "Q3.shape"
   ]
  },
  {
   "cell_type": "code",
   "execution_count": 27,
   "metadata": {},
   "outputs": [
    {
     "data": {
      "text/html": [
       "<div>\n",
       "<style scoped>\n",
       "    .dataframe tbody tr th:only-of-type {\n",
       "        vertical-align: middle;\n",
       "    }\n",
       "\n",
       "    .dataframe tbody tr th {\n",
       "        vertical-align: top;\n",
       "    }\n",
       "\n",
       "    .dataframe thead th {\n",
       "        text-align: right;\n",
       "    }\n",
       "</style>\n",
       "<table border=\"1\" class=\"dataframe\">\n",
       "  <thead>\n",
       "    <tr style=\"text-align: right;\">\n",
       "      <th></th>\n",
       "      <th>title</th>\n",
       "      <th>abstract</th>\n",
       "      <th>publish_time</th>\n",
       "      <th>url</th>\n",
       "      <th>authors</th>\n",
       "      <th>words</th>\n",
       "    </tr>\n",
       "  </thead>\n",
       "  <tbody>\n",
       "    <tr>\n",
       "      <th>12447</th>\n",
       "      <td>2626. Rhinovirus in Children Presenting to the...</td>\n",
       "      <td>BACKGROUND: Rhinovirus (RV) quantitation by re...</td>\n",
       "      <td>2019-10-23</td>\n",
       "      <td>https://www.ncbi.nlm.nih.gov/pmc/articles/PMC6...</td>\n",
       "      <td>Waghmare, Alpana; Strelitz, Bonnie; Lacombe, K...</td>\n",
       "      <td>[BACKGROUND, Rhinovirus, RV, quantitation, by,...</td>\n",
       "    </tr>\n",
       "    <tr>\n",
       "      <th>28724</th>\n",
       "      <td>[Investigation of viral respiratory tract infe...</td>\n",
       "      <td>Viral respiratory infections are one of the le...</td>\n",
       "      <td>2019</td>\n",
       "      <td>https://doi.org/10.5578/mb.67960; https://www....</td>\n",
       "      <td>Ziyade, Nihan; Elgörmüş, Neval; Kara, Erdoğan;...</td>\n",
       "      <td>[Viral, respiratory, infections, are, one, of,...</td>\n",
       "    </tr>\n",
       "    <tr>\n",
       "      <th>29286</th>\n",
       "      <td>Genomic characterizations of bat coronaviruses...</td>\n",
       "      <td>We previously reported the detection of bat co...</td>\n",
       "      <td>2008</td>\n",
       "      <td>https://doi.org/10.1099/vir.0.83605-0; https:/...</td>\n",
       "      <td>Chu, D K W; Peiris, J S M; Chen, H; Guan, Y; P...</td>\n",
       "      <td>[We, previously, reported, the, detection, of,...</td>\n",
       "    </tr>\n",
       "    <tr>\n",
       "      <th>32479</th>\n",
       "      <td>Comparative pathogenesis of bovine and porcine...</td>\n",
       "      <td>Discovery of bats with severe acute respirator...</td>\n",
       "      <td>2020-06-10</td>\n",
       "      <td>https://doi.org/10.1128/jcm.01355-20; https://...</td>\n",
       "      <td>Saif, Linda J; Jung, Kwonil</td>\n",
       "      <td>[Discovery, of, bats, with, severe, acute, res...</td>\n",
       "    </tr>\n",
       "    <tr>\n",
       "      <th>42604</th>\n",
       "      <td>Clinical Characteristics of Patients Hospitali...</td>\n",
       "      <td>Among 11 patients in Thailand infected with se...</td>\n",
       "      <td>2020-04-08</td>\n",
       "      <td>https://doi.org/10.3201/eid2607.200598; https:...</td>\n",
       "      <td>Pongpirul, Wannarat A; Mott, Joshua A; Woodrin...</td>\n",
       "      <td>[Among, 11, patients, in, Thailand, infected, ...</td>\n",
       "    </tr>\n",
       "  </tbody>\n",
       "</table>\n",
       "</div>"
      ],
      "text/plain": [
       "                                                   title  \\\n",
       "12447  2626. Rhinovirus in Children Presenting to the...   \n",
       "28724  [Investigation of viral respiratory tract infe...   \n",
       "29286  Genomic characterizations of bat coronaviruses...   \n",
       "32479  Comparative pathogenesis of bovine and porcine...   \n",
       "42604  Clinical Characteristics of Patients Hospitali...   \n",
       "\n",
       "                                                abstract publish_time  \\\n",
       "12447  BACKGROUND: Rhinovirus (RV) quantitation by re...   2019-10-23   \n",
       "28724  Viral respiratory infections are one of the le...         2019   \n",
       "29286  We previously reported the detection of bat co...         2008   \n",
       "32479  Discovery of bats with severe acute respirator...   2020-06-10   \n",
       "42604  Among 11 patients in Thailand infected with se...   2020-04-08   \n",
       "\n",
       "                                                     url  \\\n",
       "12447  https://www.ncbi.nlm.nih.gov/pmc/articles/PMC6...   \n",
       "28724  https://doi.org/10.5578/mb.67960; https://www....   \n",
       "29286  https://doi.org/10.1099/vir.0.83605-0; https:/...   \n",
       "32479  https://doi.org/10.1128/jcm.01355-20; https://...   \n",
       "42604  https://doi.org/10.3201/eid2607.200598; https:...   \n",
       "\n",
       "                                                 authors  \\\n",
       "12447  Waghmare, Alpana; Strelitz, Bonnie; Lacombe, K...   \n",
       "28724  Ziyade, Nihan; Elgörmüş, Neval; Kara, Erdoğan;...   \n",
       "29286  Chu, D K W; Peiris, J S M; Chen, H; Guan, Y; P...   \n",
       "32479                        Saif, Linda J; Jung, Kwonil   \n",
       "42604  Pongpirul, Wannarat A; Mott, Joshua A; Woodrin...   \n",
       "\n",
       "                                                   words  \n",
       "12447  [BACKGROUND, Rhinovirus, RV, quantitation, by,...  \n",
       "28724  [Viral, respiratory, infections, are, one, of,...  \n",
       "29286  [We, previously, reported, the, detection, of,...  \n",
       "32479  [Discovery, of, bats, with, severe, acute, res...  \n",
       "42604  [Among, 11, patients, in, Thailand, infected, ...  "
      ]
     },
     "execution_count": 27,
     "metadata": {},
     "output_type": "execute_result"
    }
   ],
   "source": [
    "#Articles that we have\n",
    "Q3.head(5)"
   ]
  },
  {
   "cell_type": "markdown",
   "metadata": {},
   "source": [
    "Online Search"
   ]
  },
  {
   "cell_type": "code",
   "execution_count": 28,
   "metadata": {},
   "outputs": [
    {
     "name": "stdout",
     "output_type": "stream",
     "text": [
      "https://www.ncbi.nlm.nih.gov/pmc/articles/PMC7255350/\n",
      "https://www.ncbi.nlm.nih.gov/pmc/articles/PMC7255350/#sec0001title\n",
      "https://www.ncbi.nlm.nih.gov/pmc/articles/PMC7255350/#sec0002title\n",
      "https://www.ncbi.nlm.nih.gov/pmc/articles/PMC7255350/#sec0006title\n",
      "https://www.ncbi.nlm.nih.gov/pmc/articles/PMC7255350/#sec0007title\n",
      "https://www.ncbi.nlm.nih.gov/pmc/articles/PMC7213959/\n",
      "https://www.ncbi.nlm.nih.gov/pmc/articles/PMC7213959/#abs0010title\n",
      "https://www.ncbi.nlm.nih.gov/pmc/articles/PMC7213959/#sec0005title\n",
      "https://www.ncbi.nlm.nih.gov/pmc/articles/PMC7213959/#sec0030title\n",
      "https://www.ncbi.nlm.nih.gov/pmc/articles/PMC7213959/#sec0055title\n",
      "https://www.cdc.gov/coronavirus/2019-ncov/need-extra-precautions/people-with-medical-conditions.html\n",
      "https://www.cdc.gov/healthyweight/assessing/bmi/index.html\n",
      "https://www.cdc.gov/diabetes/managing/flu-sick-days.html\n",
      "https://www.cdc.gov/heartdisease/other_conditions.htm\n",
      "https://www.cdc.gov/coronavirus/2019-ncov/community/retirement/checklist.html\n",
      "https://jamanetwork.com/journals/jama/fullarticle/2765184\n",
      "https://www.ncbi.nlm.nih.gov/pmc/articles/PMC7098485/\n",
      "https://www.ncbi.nlm.nih.gov/pmc/articles/PMC7098485/#idm139673757559840title\n",
      "https://www.ncbi.nlm.nih.gov/pmc/articles/PMC7098485/#s2title\n",
      "https://www.ncbi.nlm.nih.gov/pmc/articles/PMC7098485/#s3title\n"
     ]
    }
   ],
   "source": [
    "try: \n",
    "    from googlesearch import search \n",
    "except ImportError:  \n",
    "    print(\"Error/Not found\") \n",
    "### Browsing the sourses using different search terms: \n",
    "search3_1 = \"corona co-infections\"\n",
    "search3_2 = \"corona co-morbidities\"\n",
    "\n",
    "\n",
    "##limit to the first 10 relevant links:\n",
    "for a in search(search3_1, tld=\"co.in\", num=10, stop=10, pause=2): \n",
    "    print(a)\n",
    "for a in search(search3_2, tld=\"co.in\", num=10, stop=10, pause=2): \n",
    "    print(a)"
   ]
  },
  {
   "cell_type": "markdown",
   "metadata": {},
   "source": [
    "# 4/ Neonates and pregnant women"
   ]
  },
  {
   "cell_type": "code",
   "execution_count": 29,
   "metadata": {},
   "outputs": [],
   "source": [
    "#Create different sets with specialized terms  from our questions \n",
    "Q4_a = tablesAbstract[tablesAbstract['abstract'].str.contains('corona')]\n",
    "Q4_b = Q4_a[Q4_a['abstract'].str.contains('newborn')]\n",
    "Q4_c = Q4_a[Q4_a['abstract'].str.contains('pregnant')]"
   ]
  },
  {
   "cell_type": "code",
   "execution_count": 30,
   "metadata": {},
   "outputs": [
    {
     "data": {
      "text/plain": [
       "(386, 6)"
      ]
     },
     "execution_count": 30,
     "metadata": {},
     "output_type": "execute_result"
    }
   ],
   "source": [
    "#Concatenitng the dataframes into one table per question and dropping null value \n",
    "Q4 = pd.concat([Q4_b,Q4_c])\n",
    "Q4.dropna(inplace=True)\n",
    "Q4.shape"
   ]
  },
  {
   "cell_type": "code",
   "execution_count": 31,
   "metadata": {},
   "outputs": [
    {
     "data": {
      "text/html": [
       "<div>\n",
       "<style scoped>\n",
       "    .dataframe tbody tr th:only-of-type {\n",
       "        vertical-align: middle;\n",
       "    }\n",
       "\n",
       "    .dataframe tbody tr th {\n",
       "        vertical-align: top;\n",
       "    }\n",
       "\n",
       "    .dataframe thead th {\n",
       "        text-align: right;\n",
       "    }\n",
       "</style>\n",
       "<table border=\"1\" class=\"dataframe\">\n",
       "  <thead>\n",
       "    <tr style=\"text-align: right;\">\n",
       "      <th></th>\n",
       "      <th>title</th>\n",
       "      <th>abstract</th>\n",
       "      <th>publish_time</th>\n",
       "      <th>url</th>\n",
       "      <th>authors</th>\n",
       "      <th>words</th>\n",
       "    </tr>\n",
       "  </thead>\n",
       "  <tbody>\n",
       "    <tr>\n",
       "      <th>5051</th>\n",
       "      <td>Nosocomial necrotising enterocolitis outbreaks...</td>\n",
       "      <td>Necrotising enterocolitis (NEC) is one of the ...</td>\n",
       "      <td>2001</td>\n",
       "      <td>https://www.ncbi.nlm.nih.gov/pmc/articles/PMC7...</td>\n",
       "      <td>Boccia, Delia; Stolfi, Ilaria; Lana, Susanna; ...</td>\n",
       "      <td>[Necrotising, enterocolitis, NEC, is, one, of,...</td>\n",
       "    </tr>\n",
       "    <tr>\n",
       "      <th>20921</th>\n",
       "      <td>Untersuchungen zur prophylaktischen Wirkung de...</td>\n",
       "      <td>Studies on the prophylactic effect of feeding ...</td>\n",
       "      <td>2008-10-09</td>\n",
       "      <td>https://www.ncbi.nlm.nih.gov/pmc/articles/PMC7...</td>\n",
       "      <td>Von Erhard, M. H.; Leuzinger, K.; Stangassinge...</td>\n",
       "      <td>[Studies, on, the, prophylactic, effect, of, f...</td>\n",
       "    </tr>\n",
       "    <tr>\n",
       "      <th>21902</th>\n",
       "      <td>COVID-19 Preparedness in a Neonatal Unit at a ...</td>\n",
       "      <td>Background: The novel coronavirus disease 2019...</td>\n",
       "      <td>2020-04-28</td>\n",
       "      <td>https://www.ncbi.nlm.nih.gov/pmc/articles/PMC7...</td>\n",
       "      <td>Saggers, Robin T.; Ramdin, Tanusha D.; Bandini...</td>\n",
       "      <td>[Background, The, novel, coronavirus, disease,...</td>\n",
       "    </tr>\n",
       "    <tr>\n",
       "      <th>21917</th>\n",
       "      <td>Neonatal nosocomial respiratory infection with...</td>\n",
       "      <td>The aim of this prospective study was to evalu...</td>\n",
       "      <td>2008-01-21</td>\n",
       "      <td>https://www.ncbi.nlm.nih.gov/pmc/articles/PMC7...</td>\n",
       "      <td>Sizun, J; Soupre, D; Legrand, MC; Giroux, JD; ...</td>\n",
       "      <td>[The, aim, of, this, prospective, study, was, ...</td>\n",
       "    </tr>\n",
       "    <tr>\n",
       "      <th>21986</th>\n",
       "      <td>Versuche zur Entwicklung einer Immunprophylaxe...</td>\n",
       "      <td>ZUSAMMENFASSUNG: Der TGE‐Impfstamm Bl‐300 verm...</td>\n",
       "      <td>2010-05-13</td>\n",
       "      <td>https://www.ncbi.nlm.nih.gov/pmc/articles/PMC7...</td>\n",
       "      <td>Hess, R. G.; Chen, Y. S.; Bachmann, P. A.</td>\n",
       "      <td>[ZUSAMMENFASSUNG, Der, TGE, Impfstamm, Bl, 300...</td>\n",
       "    </tr>\n",
       "  </tbody>\n",
       "</table>\n",
       "</div>"
      ],
      "text/plain": [
       "                                                   title  \\\n",
       "5051   Nosocomial necrotising enterocolitis outbreaks...   \n",
       "20921  Untersuchungen zur prophylaktischen Wirkung de...   \n",
       "21902  COVID-19 Preparedness in a Neonatal Unit at a ...   \n",
       "21917  Neonatal nosocomial respiratory infection with...   \n",
       "21986  Versuche zur Entwicklung einer Immunprophylaxe...   \n",
       "\n",
       "                                                abstract publish_time  \\\n",
       "5051   Necrotising enterocolitis (NEC) is one of the ...         2001   \n",
       "20921  Studies on the prophylactic effect of feeding ...   2008-10-09   \n",
       "21902  Background: The novel coronavirus disease 2019...   2020-04-28   \n",
       "21917  The aim of this prospective study was to evalu...   2008-01-21   \n",
       "21986  ZUSAMMENFASSUNG: Der TGE‐Impfstamm Bl‐300 verm...   2010-05-13   \n",
       "\n",
       "                                                     url  \\\n",
       "5051   https://www.ncbi.nlm.nih.gov/pmc/articles/PMC7...   \n",
       "20921  https://www.ncbi.nlm.nih.gov/pmc/articles/PMC7...   \n",
       "21902  https://www.ncbi.nlm.nih.gov/pmc/articles/PMC7...   \n",
       "21917  https://www.ncbi.nlm.nih.gov/pmc/articles/PMC7...   \n",
       "21986  https://www.ncbi.nlm.nih.gov/pmc/articles/PMC7...   \n",
       "\n",
       "                                                 authors  \\\n",
       "5051   Boccia, Delia; Stolfi, Ilaria; Lana, Susanna; ...   \n",
       "20921  Von Erhard, M. H.; Leuzinger, K.; Stangassinge...   \n",
       "21902  Saggers, Robin T.; Ramdin, Tanusha D.; Bandini...   \n",
       "21917  Sizun, J; Soupre, D; Legrand, MC; Giroux, JD; ...   \n",
       "21986          Hess, R. G.; Chen, Y. S.; Bachmann, P. A.   \n",
       "\n",
       "                                                   words  \n",
       "5051   [Necrotising, enterocolitis, NEC, is, one, of,...  \n",
       "20921  [Studies, on, the, prophylactic, effect, of, f...  \n",
       "21902  [Background, The, novel, coronavirus, disease,...  \n",
       "21917  [The, aim, of, this, prospective, study, was, ...  \n",
       "21986  [ZUSAMMENFASSUNG, Der, TGE, Impfstamm, Bl, 300...  "
      ]
     },
     "execution_count": 31,
     "metadata": {},
     "output_type": "execute_result"
    }
   ],
   "source": [
    "#Articles that we have\n",
    "Q4.head(5)"
   ]
  },
  {
   "cell_type": "markdown",
   "metadata": {},
   "source": [
    "Online Search"
   ]
  },
  {
   "cell_type": "code",
   "execution_count": 32,
   "metadata": {},
   "outputs": [
    {
     "name": "stdout",
     "output_type": "stream",
     "text": [
      "https://www.mayoclinic.org/diseases-conditions/coronavirus/in-depth/coronavirus-in-babies-and-children/art-20484405\n",
      "https://www.cdc.gov/coronavirus/2019-ncov/hcp/caring-for-newborns.html\n",
      "https://www.hopkinsmedicine.org/health/conditions-and-diseases/coronavirus/coronavirus-in-babies-and-children\n",
      "https://www.whattoexpect.com/news/family/coronavirus-in-babies/\n",
      "https://www.whattoexpect.com/news/family/coronavirus-in-babies/#impact\n",
      "https://www.whattoexpect.com/news/family/coronavirus-in-babies/#pregnancy\n",
      "https://www.marchofdimes.org/complications/coronavirus-disease-covid-19-what-you-need-to-know.aspx\n",
      "https://www.bbc.com/news/world-asia-china-51395655\n",
      "https://health.usnews.com/wellness/for-parents/articles/caring-for-your-newborn-baby-during-the-coronavirus-pandemic\n",
      "https://kidshealth.org/en/parents/coronavirus-young-kids.html\n",
      "https://www.cdc.gov/coronavirus/2019-ncov/need-extra-precautions/pregnancy-breastfeeding.html\n",
      "https://www.health.harvard.edu/blog/pregnant-and-worried-about-the-new-coronavirus-2020031619212\n",
      "https://www.tommys.org/pregnancy-information/im-pregnant/pregnancy-and-coronavirus-information-pregnant-women\n",
      "https://www.tommys.org/pregnancy-information/im-pregnant/coronavirus-and-pregnancy/coronavirus-and-trying-get-pregnant\n",
      "https://www.tommys.org/pregnancy-information/im-pregnant/coronavirus-and-pregnancy/eating-well-pregnant-women-during-coronavirus\n",
      "https://www.tommys.org/pregnancy-information/pregnancy-complications/group-b-strep-strep-b-and-pregnancy\n",
      "https://www.whattoexpect.com/news/pregnancy/coronavirus-during-pregnancy/\n",
      "https://www.acog.org/patient-resources/faqs/pregnancy/coronavirus-pregnancy-and-breastfeeding\n",
      "https://kidshealth.org/en/parents/coronavirus-pregnancy.html\n",
      "https://www.uptodate.com/contents/coronavirus-disease-2019-covid-19-pregnancy-issues\n"
     ]
    }
   ],
   "source": [
    "try: \n",
    "    from googlesearch import search \n",
    "except ImportError:  \n",
    "    print(\"Error/Not found\") \n",
    "### Browsing the sourses using different search terms: \n",
    "search4_1 = \"corona and newborn\"\n",
    "search4_2 = \"corona and pregnant women\"\n",
    "\n",
    "\n",
    "##limit to the first 10 relevant links:\n",
    "for a in search(search4_1, tld=\"co.in\", num=10, stop=10, pause=2): \n",
    "    print(a)\n",
    "for a in search(search4_2, tld=\"co.in\", num=10, stop=10, pause=2): \n",
    "    print(a)"
   ]
  },
  {
   "cell_type": "markdown",
   "metadata": {},
   "source": [
    "# 5/ Socio-economic and behavioral factors to understand the economic impact of the virus and whether there were differences."
   ]
  },
  {
   "cell_type": "code",
   "execution_count": 33,
   "metadata": {},
   "outputs": [],
   "source": [
    "#Create different sets with specialized terms  from our questions \n",
    "Q5_a = tablesAbstract[tablesAbstract['abstract'].str.contains('corona')]\n",
    "Q5_b = Q5_a[Q5_a['abstract'].str.contains('socio-economic')]\n",
    "Q5_c = Q5_a[Q5_a['abstract'].str.contains('behavioral')]"
   ]
  },
  {
   "cell_type": "code",
   "execution_count": 34,
   "metadata": {},
   "outputs": [
    {
     "data": {
      "text/plain": [
       "(120, 6)"
      ]
     },
     "execution_count": 34,
     "metadata": {},
     "output_type": "execute_result"
    }
   ],
   "source": [
    "#Concatenitng the dataframes into one table per question and dropping null value \n",
    "Q5 = pd.concat([Q5_b,Q5_c])\n",
    "Q5.dropna(inplace=True)\n",
    "Q5.shape"
   ]
  },
  {
   "cell_type": "code",
   "execution_count": 35,
   "metadata": {},
   "outputs": [
    {
     "data": {
      "text/html": [
       "<div>\n",
       "<style scoped>\n",
       "    .dataframe tbody tr th:only-of-type {\n",
       "        vertical-align: middle;\n",
       "    }\n",
       "\n",
       "    .dataframe tbody tr th {\n",
       "        vertical-align: top;\n",
       "    }\n",
       "\n",
       "    .dataframe thead th {\n",
       "        text-align: right;\n",
       "    }\n",
       "</style>\n",
       "<table border=\"1\" class=\"dataframe\">\n",
       "  <thead>\n",
       "    <tr style=\"text-align: right;\">\n",
       "      <th></th>\n",
       "      <th>title</th>\n",
       "      <th>abstract</th>\n",
       "      <th>publish_time</th>\n",
       "      <th>url</th>\n",
       "      <th>authors</th>\n",
       "      <th>words</th>\n",
       "    </tr>\n",
       "  </thead>\n",
       "  <tbody>\n",
       "    <tr>\n",
       "      <th>34844</th>\n",
       "      <td>A compendium answering 150 questions on COVID-...</td>\n",
       "      <td>In December 2019, China reported the first cas...</td>\n",
       "      <td>2020-06-14</td>\n",
       "      <td>https://doi.org/10.1111/all.14449; https://www...</td>\n",
       "      <td>Riggioni, Carmen; Comberiati, Pasquale; Giovan...</td>\n",
       "      <td>[In, December, 2019, China, reported, the, fir...</td>\n",
       "    </tr>\n",
       "    <tr>\n",
       "      <th>35909</th>\n",
       "      <td>Nursing homes and the elderly regarding the CO...</td>\n",
       "      <td>The global impact of the severe acute respirat...</td>\n",
       "      <td>2020-05-18</td>\n",
       "      <td>https://doi.org/10.1007/s11357-020-00195-z; ht...</td>\n",
       "      <td>Kemenesi, Gábor; Kornya, László; Tóth, Gábor E...</td>\n",
       "      <td>[The, global, impact, of, the, severe, acute, ...</td>\n",
       "    </tr>\n",
       "    <tr>\n",
       "      <th>38174</th>\n",
       "      <td>Greater risk of severe COVID-19 in Black, Asia...</td>\n",
       "      <td>BACKGROUND We examined whether the greater sev...</td>\n",
       "      <td>2020-06-19</td>\n",
       "      <td>https://doi.org/10.1093/pubmed/fdaa095; https:...</td>\n",
       "      <td>Raisi-Estabragh, Zahra; McCracken, Celeste; Be...</td>\n",
       "      <td>[BACKGROUND, We, examined, whether, the, great...</td>\n",
       "    </tr>\n",
       "    <tr>\n",
       "      <th>43695</th>\n",
       "      <td>Impact of the Burden of COVID-19 in Italy: Res...</td>\n",
       "      <td>The WHO declared the novel coronavirus disease...</td>\n",
       "      <td>2020-06-13</td>\n",
       "      <td>https://doi.org/10.3390/ijerph17124233; https:...</td>\n",
       "      <td>Nurchis, Mario Cesare; Pascucci, Domenico; Sap...</td>\n",
       "      <td>[The, WHO, declared, the, novel, coronavirus, ...</td>\n",
       "    </tr>\n",
       "    <tr>\n",
       "      <th>54653</th>\n",
       "      <td>Spatial Statistics and Influencing Factors of ...</td>\n",
       "      <td>The coronavirus disease 2019 (COVID-19) epidem...</td>\n",
       "      <td>2020-05-31</td>\n",
       "      <td>https://doi.org/10.3390/ijerph17113903; https:...</td>\n",
       "      <td>Xiong, Yongzhu; Wang, Yunpeng; Chen, Feng; Zhu...</td>\n",
       "      <td>[The, coronavirus, disease, 2019, COVID, 19, e...</td>\n",
       "    </tr>\n",
       "  </tbody>\n",
       "</table>\n",
       "</div>"
      ],
      "text/plain": [
       "                                                   title  \\\n",
       "34844  A compendium answering 150 questions on COVID-...   \n",
       "35909  Nursing homes and the elderly regarding the CO...   \n",
       "38174  Greater risk of severe COVID-19 in Black, Asia...   \n",
       "43695  Impact of the Burden of COVID-19 in Italy: Res...   \n",
       "54653  Spatial Statistics and Influencing Factors of ...   \n",
       "\n",
       "                                                abstract publish_time  \\\n",
       "34844  In December 2019, China reported the first cas...   2020-06-14   \n",
       "35909  The global impact of the severe acute respirat...   2020-05-18   \n",
       "38174  BACKGROUND We examined whether the greater sev...   2020-06-19   \n",
       "43695  The WHO declared the novel coronavirus disease...   2020-06-13   \n",
       "54653  The coronavirus disease 2019 (COVID-19) epidem...   2020-05-31   \n",
       "\n",
       "                                                     url  \\\n",
       "34844  https://doi.org/10.1111/all.14449; https://www...   \n",
       "35909  https://doi.org/10.1007/s11357-020-00195-z; ht...   \n",
       "38174  https://doi.org/10.1093/pubmed/fdaa095; https:...   \n",
       "43695  https://doi.org/10.3390/ijerph17124233; https:...   \n",
       "54653  https://doi.org/10.3390/ijerph17113903; https:...   \n",
       "\n",
       "                                                 authors  \\\n",
       "34844  Riggioni, Carmen; Comberiati, Pasquale; Giovan...   \n",
       "35909  Kemenesi, Gábor; Kornya, László; Tóth, Gábor E...   \n",
       "38174  Raisi-Estabragh, Zahra; McCracken, Celeste; Be...   \n",
       "43695  Nurchis, Mario Cesare; Pascucci, Domenico; Sap...   \n",
       "54653  Xiong, Yongzhu; Wang, Yunpeng; Chen, Feng; Zhu...   \n",
       "\n",
       "                                                   words  \n",
       "34844  [In, December, 2019, China, reported, the, fir...  \n",
       "35909  [The, global, impact, of, the, severe, acute, ...  \n",
       "38174  [BACKGROUND, We, examined, whether, the, great...  \n",
       "43695  [The, WHO, declared, the, novel, coronavirus, ...  \n",
       "54653  [The, coronavirus, disease, 2019, COVID, 19, e...  "
      ]
     },
     "execution_count": 35,
     "metadata": {},
     "output_type": "execute_result"
    }
   ],
   "source": [
    "#Articles that we have\n",
    "Q5.head(5)"
   ]
  },
  {
   "cell_type": "markdown",
   "metadata": {},
   "source": [
    "Online Search"
   ]
  },
  {
   "cell_type": "code",
   "execution_count": 36,
   "metadata": {},
   "outputs": [
    {
     "name": "stdout",
     "output_type": "stream",
     "text": [
      "https://www.ncbi.nlm.nih.gov/pmc/articles/PMC7162753/\n",
      "http://info.primarycare.hms.harvard.edu/blog/social-conditions-shape-covid\n",
      "https://www.undp.org/content/undp/en/home/coronavirus/socio-economic-impact-of-covid-19.html\n",
      "https://www.undp.org/content/undp/en/home/librarypage/crisis-prevention-and-recovery/the-social-and-economic-impact-of-covid-19-in-asia-pacific.html\n",
      "https://www.latinamerica.undp.org/content/rblac/en/home/library/crisis_prevention_and_recovery/social-and-economic-impact-of-covid-19-and-policy-options-in-arg.html\n",
      "https://link.springer.com/article/10.1007/s00148-020-00778-2\n",
      "https://www.medrxiv.org/content/10.1101/2020.03.13.20035238v1\n",
      "https://www.unido.org/stories/coronavirus-economic-impact-10-july-2020\n",
      "https://www.forbes.com/sites/coronavirusfrontlines/2020/05/13/an-hiv-researcher-explains-how-socioeconomic-factors-affect-the-impact-of-the-coronavirus-pandemic/\n",
      "https://www.iza.org/publications/dp/13165/impacts-of-social-and-economic-factors-on-the-transmission-of-coronavirus-disease-2019-covid-19-in-china\n",
      "https://www.cdc.gov/coronavirus/2019-ncov/need-extra-precautions/people-with-medical-conditions.html\n",
      "https://www.cdc.gov/healthyweight/assessing/bmi/index.html\n",
      "https://www.cdc.gov/diabetes/managing/flu-sick-days.html\n",
      "https://www.cdc.gov/heartdisease/other_conditions.htm\n",
      "https://www.cdc.gov/coronavirus/2019-ncov/community/retirement/checklist.html\n",
      "https://www.cdc.gov/coronavirus/2019-ncov/covid-data/investigations-discovery/assessing-risk-factors.html\n",
      "https://www.ncbi.nlm.nih.gov/pmc/articles/PMC7255207/\n",
      "https://www.cureus.com/articles/31114-psychological-and-behavioral-response-to-the-coronavirus-covid-19-pandemic\n",
      "https://www.frontiersin.org/research-topics/13561/coronavirus-disease-covid-19-psychological-behavioral-interpersonal-effects-and-clinical-implication\n",
      "https://www.frontiersin.org/articles/10.3389/fpsyt.2020.00523/full\n"
     ]
    }
   ],
   "source": [
    "try: \n",
    "    from googlesearch import search \n",
    "except ImportError:  \n",
    "    print(\"Error/Not found\") \n",
    "### Browsing the sourses using different search terms: \n",
    "search5_1 = \"socio-economic factors corona impact  \"\n",
    "search5_2 = \"behavioral factors corona impacts\"\n",
    "\n",
    "\n",
    "##limit to the first 10 relevant links:\n",
    "for a in search(search5_1, tld=\"co.in\", num=10, stop=10, pause=2): \n",
    "    print(a)\n",
    "for a in search(search5_2, tld=\"co.in\", num=10, stop=10, pause=2): \n",
    "    print(a)"
   ]
  },
  {
   "cell_type": "markdown",
   "metadata": {},
   "source": [
    "# 6/ Transmission dynamics of the virus, including the basic reproductive number, incubation period, serial interval, modes of transmission and environmental factors"
   ]
  },
  {
   "cell_type": "code",
   "execution_count": 43,
   "metadata": {},
   "outputs": [],
   "source": [
    "#Create different sets with specialized terms  from our questions \n",
    "Q6_a = tablesAbstract[tablesAbstract['abstract'].str.contains('corona')]\n",
    "Q6_b = Q6_a[Q6_a['abstract'].str.contains('reproductive number')]\n",
    "Q6_c = Q6_a[Q6_a['abstract'].str.contains('incubation period')]\n",
    "Q6_d = Q6_a[Q6_a['abstract'].str.contains('serial interval')]\n",
    "Q6_e = Q6_a[Q6_a['abstract'].str.contains('modes of transmission')]\n",
    "Q6_f = Q6_a[Q6_a['abstract'].str.contains('environmental factors')]"
   ]
  },
  {
   "cell_type": "code",
   "execution_count": 44,
   "metadata": {},
   "outputs": [
    {
     "data": {
      "text/plain": [
       "(412, 6)"
      ]
     },
     "execution_count": 44,
     "metadata": {},
     "output_type": "execute_result"
    }
   ],
   "source": [
    "#Concatenitng the dataframes into one table per question and dropping null value \n",
    "Q6 = pd.concat([Q6_b,Q6_c,Q6_d,Q6_e,Q6_f])\n",
    "Q6.dropna(inplace=True)\n",
    "Q6.shape"
   ]
  },
  {
   "cell_type": "code",
   "execution_count": 45,
   "metadata": {},
   "outputs": [
    {
     "data": {
      "text/html": [
       "<div>\n",
       "<style scoped>\n",
       "    .dataframe tbody tr th:only-of-type {\n",
       "        vertical-align: middle;\n",
       "    }\n",
       "\n",
       "    .dataframe tbody tr th {\n",
       "        vertical-align: top;\n",
       "    }\n",
       "\n",
       "    .dataframe thead th {\n",
       "        text-align: right;\n",
       "    }\n",
       "</style>\n",
       "<table border=\"1\" class=\"dataframe\">\n",
       "  <thead>\n",
       "    <tr style=\"text-align: right;\">\n",
       "      <th></th>\n",
       "      <th>title</th>\n",
       "      <th>abstract</th>\n",
       "      <th>publish_time</th>\n",
       "      <th>url</th>\n",
       "      <th>authors</th>\n",
       "      <th>words</th>\n",
       "    </tr>\n",
       "  </thead>\n",
       "  <tbody>\n",
       "    <tr>\n",
       "      <th>13241</th>\n",
       "      <td>Transmission Dynamics of Respiratory Viruses i...</td>\n",
       "      <td>BACKGROUND: Human coronaviruses (HCoVs), rhino...</td>\n",
       "      <td>2017-10-04</td>\n",
       "      <td>https://www.ncbi.nlm.nih.gov/pmc/articles/PMC7...</td>\n",
       "      <td>Lewnard, Joseph; Chen, Wei-Ju; Milzman, Jacque...</td>\n",
       "      <td>[BACKGROUND, Human, coronaviruses, HCoVs, rhin...</td>\n",
       "    </tr>\n",
       "    <tr>\n",
       "      <th>15633</th>\n",
       "      <td>Coronaviruses</td>\n",
       "      <td>Coronaviruses of humans were first identified ...</td>\n",
       "      <td>2014-02-27</td>\n",
       "      <td>https://www.ncbi.nlm.nih.gov/pmc/articles/PMC7...</td>\n",
       "      <td>Monto, Arnold S.; Cowling, Benjamin J.; Peiris...</td>\n",
       "      <td>[Coronaviruses, of, humans, were, first, ident...</td>\n",
       "    </tr>\n",
       "    <tr>\n",
       "      <th>27563</th>\n",
       "      <td>Household secondary attack rate of COVID-19 an...</td>\n",
       "      <td>BACKGROUND As of June 8, 2020, the global repo...</td>\n",
       "      <td>2020-06-17</td>\n",
       "      <td>https://doi.org/10.1016/s1473-3099(20)30471-0;...</td>\n",
       "      <td>Jing, Qin-Long; Liu, Ming-Jin; Zhang, Zhou-Bin...</td>\n",
       "      <td>[BACKGROUND, As, of, June, 8, 2020, the, globa...</td>\n",
       "    </tr>\n",
       "    <tr>\n",
       "      <th>34111</th>\n",
       "      <td>High Contagiousness and Rapid Spread of Severe...</td>\n",
       "      <td>Severe acute respiratory syndrome coronavirus ...</td>\n",
       "      <td>2020-04-07</td>\n",
       "      <td>https://doi.org/10.3201/eid2607.200282; https:...</td>\n",
       "      <td>Sanche, Steven; Lin, Yen Ting; Xu, Chonggang; ...</td>\n",
       "      <td>[Severe, acute, respiratory, syndrome, coronav...</td>\n",
       "    </tr>\n",
       "    <tr>\n",
       "      <th>55759</th>\n",
       "      <td>Prediction of Epidemic Peak and Infected Cases...</td>\n",
       "      <td>The coronavirus COVID-19 has recently started ...</td>\n",
       "      <td>2020-06-08</td>\n",
       "      <td>https://doi.org/10.3390/ijerph17114076; https:...</td>\n",
       "      <td>Alsayed, Abdallah; Sadir, Hayder; Kamil, Raja;...</td>\n",
       "      <td>[The, coronavirus, COVID, 19, has, recently, s...</td>\n",
       "    </tr>\n",
       "  </tbody>\n",
       "</table>\n",
       "</div>"
      ],
      "text/plain": [
       "                                                   title  \\\n",
       "13241  Transmission Dynamics of Respiratory Viruses i...   \n",
       "15633                                      Coronaviruses   \n",
       "27563  Household secondary attack rate of COVID-19 an...   \n",
       "34111  High Contagiousness and Rapid Spread of Severe...   \n",
       "55759  Prediction of Epidemic Peak and Infected Cases...   \n",
       "\n",
       "                                                abstract publish_time  \\\n",
       "13241  BACKGROUND: Human coronaviruses (HCoVs), rhino...   2017-10-04   \n",
       "15633  Coronaviruses of humans were first identified ...   2014-02-27   \n",
       "27563  BACKGROUND As of June 8, 2020, the global repo...   2020-06-17   \n",
       "34111  Severe acute respiratory syndrome coronavirus ...   2020-04-07   \n",
       "55759  The coronavirus COVID-19 has recently started ...   2020-06-08   \n",
       "\n",
       "                                                     url  \\\n",
       "13241  https://www.ncbi.nlm.nih.gov/pmc/articles/PMC7...   \n",
       "15633  https://www.ncbi.nlm.nih.gov/pmc/articles/PMC7...   \n",
       "27563  https://doi.org/10.1016/s1473-3099(20)30471-0;...   \n",
       "34111  https://doi.org/10.3201/eid2607.200282; https:...   \n",
       "55759  https://doi.org/10.3390/ijerph17114076; https:...   \n",
       "\n",
       "                                                 authors  \\\n",
       "13241  Lewnard, Joseph; Chen, Wei-Ju; Milzman, Jacque...   \n",
       "15633  Monto, Arnold S.; Cowling, Benjamin J.; Peiris...   \n",
       "27563  Jing, Qin-Long; Liu, Ming-Jin; Zhang, Zhou-Bin...   \n",
       "34111  Sanche, Steven; Lin, Yen Ting; Xu, Chonggang; ...   \n",
       "55759  Alsayed, Abdallah; Sadir, Hayder; Kamil, Raja;...   \n",
       "\n",
       "                                                   words  \n",
       "13241  [BACKGROUND, Human, coronaviruses, HCoVs, rhin...  \n",
       "15633  [Coronaviruses, of, humans, were, first, ident...  \n",
       "27563  [BACKGROUND, As, of, June, 8, 2020, the, globa...  \n",
       "34111  [Severe, acute, respiratory, syndrome, coronav...  \n",
       "55759  [The, coronavirus, COVID, 19, has, recently, s...  "
      ]
     },
     "execution_count": 45,
     "metadata": {},
     "output_type": "execute_result"
    }
   ],
   "source": [
    "#Articles that we have\n",
    "Q6.head(5)"
   ]
  },
  {
   "cell_type": "markdown",
   "metadata": {},
   "source": [
    "Online Search"
   ]
  },
  {
   "cell_type": "code",
   "execution_count": 46,
   "metadata": {
    "scrolled": true
   },
   "outputs": [
    {
     "name": "stdout",
     "output_type": "stream",
     "text": [
      "https://jamanetwork.com/journals/jama/fullarticle/2765665\n",
      "https://www.the-scientist.com/features/why-r0-is-problematic-for-predicting-covid-19-spread-67690\n",
      "https://labblog.uofmhealth.org/rounds/how-scientists-quantify-intensity-of-an-outbreak-like-covid-19\n",
      "https://www.news-medical.net/news/20200510/Reproduction-number-of-COVID-19-and-how-it-relates-to-public-health-measures.aspx\n",
      "https://www.bbc.com/news/health-52473523\n",
      "https://www.cdc.gov/coronavirus/2019-ncov/hcp/faq.html#:~:text=Based%20on%20existing%20literature%2C,2%E2%80%9314%20days.\n",
      "https://www.cdc.gov/coronavirus/2019-ncov/hcp/clinical-guidance-management-patients.html\n",
      "https://www.webmd.com/lung/coronavirus-incubation-period\n",
      "https://www.healthline.com/health/coronavirus-incubation-period\n",
      "https://www.healthline.com/health/coronavirus-incubation-period#incubation-period\n",
      "https://wwwnc.cdc.gov/eid/article/26/6/20-0357_article\n",
      "https://wwwnc.cdc.gov/eid/article/26/6/20-0357-f1\n",
      "https://www.ijidonline.com/article/S1201-9712(20)30119-3/pdf\n",
      "https://www.sciencedirect.com/science/article/abs/pii/S1201971220301193\n",
      "https://www.who.int/docs/default-source/coronaviruse/situation-reports/20200306-sitrep-46-covid-19.pdf?sfvrsn=96b04adf_4\n",
      "https://www.who.int/news-room/commentaries/detail/modes-of-transmission-of-virus-causing-covid-19-implications-for-ipc-precaution-recommendations\n",
      "https://www.who.int/news-room/commentaries/detail/transmission-of-sars-cov-2-implications-for-infection-prevention-precautions\n",
      "https://www.cdc.gov/coronavirus/2019-ncov/hcp/infection-control-recommendations.html\n",
      "https://www.cdc.gov/hicpac/recommendations/core-practices.html\n",
      "https://www.cdc.gov/infectioncontrol/guidelines/environmental/appendix/air.html\n",
      "https://www.ncbi.nlm.nih.gov/pmc/articles/PMC7226715/\n",
      "https://www.ncbi.nlm.nih.gov/pmc/articles/PMC7226715/#Abs1title\n",
      "https://www.ncbi.nlm.nih.gov/pmc/articles/PMC7226715/#Sec1title\n",
      "https://www.ncbi.nlm.nih.gov/pmc/articles/PMC7226715/#Sec2title\n",
      "https://www.ncbi.nlm.nih.gov/pmc/articles/PMC7226715/#Sec4title\n"
     ]
    }
   ],
   "source": [
    "try: \n",
    "    from googlesearch import search \n",
    "except ImportError:  \n",
    "    print(\"Error/Not found\") \n",
    "### Browsing the sourses using different search terms: \n",
    "search6_1 = \"corona reproductive number  \"\n",
    "search6_2 = \"corona incubation period\"\n",
    "search6_3 = \"corona serial interval\"\n",
    "search6_4 = \"corona modes of transmission\"\n",
    "search6_5 = \"corona environmental factors\"\n",
    "\n",
    "\n",
    "\n",
    "##limit to the first 10 relevant links:\n",
    "for a in search(search6_1, tld=\"co.in\", num=5, stop=5, pause=2): \n",
    "    print(a)\n",
    "for a in search(search6_2, tld=\"co.in\", num=5, stop=5, pause=2): \n",
    "    print(a)\n",
    "for a in search(search6_3, tld=\"co.in\", num=5, stop=5, pause=2): \n",
    "    print(a)\n",
    "for a in search(search6_4, tld=\"co.in\", num=5, stop=5, pause=2): \n",
    "    print(a)\n",
    "for a in search(search6_5, tld=\"co.in\", num=5, stop=5, pause=2): \n",
    "    print(a)"
   ]
  },
  {
   "cell_type": "markdown",
   "metadata": {},
   "source": [
    "# 7/ Severity of disease, including risk of fatality among symptomatic hospitalized patients, and high-risk patient groups\n"
   ]
  },
  {
   "cell_type": "code",
   "execution_count": 54,
   "metadata": {},
   "outputs": [],
   "source": [
    "#Create different sets with specialized terms  from our questions \n",
    "Q7_a = tablesAbstract[tablesAbstract['abstract'].str.contains('corona')]\n",
    "Q7_b = Q7_a[Q7_a['abstract'].str.contains('severity')]\n",
    "Q7_c = Q7_b[Q7_b['abstract'].str.contains('patients')]"
   ]
  },
  {
   "cell_type": "code",
   "execution_count": 55,
   "metadata": {},
   "outputs": [
    {
     "data": {
      "text/plain": [
       "(646, 6)"
      ]
     },
     "execution_count": 55,
     "metadata": {},
     "output_type": "execute_result"
    }
   ],
   "source": [
    "#Concatenitng the dataframes into one table per question and dropping null value \n",
    "Q7 = pd.concat([Q7_c])\n",
    "Q7.dropna(inplace=True)\n",
    "Q7.shape"
   ]
  },
  {
   "cell_type": "code",
   "execution_count": 56,
   "metadata": {},
   "outputs": [
    {
     "data": {
      "text/html": [
       "<div>\n",
       "<style scoped>\n",
       "    .dataframe tbody tr th:only-of-type {\n",
       "        vertical-align: middle;\n",
       "    }\n",
       "\n",
       "    .dataframe tbody tr th {\n",
       "        vertical-align: top;\n",
       "    }\n",
       "\n",
       "    .dataframe thead th {\n",
       "        text-align: right;\n",
       "    }\n",
       "</style>\n",
       "<table border=\"1\" class=\"dataframe\">\n",
       "  <thead>\n",
       "    <tr style=\"text-align: right;\">\n",
       "      <th></th>\n",
       "      <th>title</th>\n",
       "      <th>abstract</th>\n",
       "      <th>publish_time</th>\n",
       "      <th>url</th>\n",
       "      <th>authors</th>\n",
       "      <th>words</th>\n",
       "    </tr>\n",
       "  </thead>\n",
       "  <tbody>\n",
       "    <tr>\n",
       "      <th>941</th>\n",
       "      <td>Serum Levels of Gelatinase Associated Lipocali...</td>\n",
       "      <td>Background. Atherosclerosis is a chronic infla...</td>\n",
       "      <td>2012-09-04</td>\n",
       "      <td>https://www.ncbi.nlm.nih.gov/pmc/articles/PMC3...</td>\n",
       "      <td>Kafkas, Nikolaos; Demponeras, Christos; Zoubou...</td>\n",
       "      <td>[Background, Atherosclerosis, is, a, chronic, ...</td>\n",
       "    </tr>\n",
       "    <tr>\n",
       "      <th>2791</th>\n",
       "      <td>36th International Symposium on Intensive Care...</td>\n",
       "      <td>P001 - Sepsis impairs the capillary response w...</td>\n",
       "      <td>2016-04-20</td>\n",
       "      <td>https://www.ncbi.nlm.nih.gov/pmc/articles/PMC5...</td>\n",
       "      <td>Bateman, R. M.; Sharpe, M. D.; Jagger, J. E.; ...</td>\n",
       "      <td>[P001, Sepsis, impairs, the, capillary, respon...</td>\n",
       "    </tr>\n",
       "    <tr>\n",
       "      <th>4675</th>\n",
       "      <td>Associations of osteopontin and NT-proBNP with...</td>\n",
       "      <td>The genomic regulatory networks underlying the...</td>\n",
       "      <td>2019-10-01</td>\n",
       "      <td>https://www.ncbi.nlm.nih.gov/pmc/articles/PMC7...</td>\n",
       "      <td>Kwee, Lydia Coulter; Neely, Megan L.; Grass, E...</td>\n",
       "      <td>[The, genomic, regulatory, networks, underlyin...</td>\n",
       "    </tr>\n",
       "    <tr>\n",
       "      <th>12355</th>\n",
       "      <td>Asthma Exacerbations and Risk of Emergency Dep...</td>\n",
       "      <td>BACKGROUND: In asthmatic children, 60–80% of e...</td>\n",
       "      <td>2017-10-04</td>\n",
       "      <td>https://www.ncbi.nlm.nih.gov/pmc/articles/PMC5...</td>\n",
       "      <td>Merckx, Joanna; Ducharme, Francine M; Quach, C...</td>\n",
       "      <td>[BACKGROUND, In, asthmatic, children, 60, 80, ...</td>\n",
       "    </tr>\n",
       "    <tr>\n",
       "      <th>12407</th>\n",
       "      <td>2264. The Burden of Respiratory Viral Illness ...</td>\n",
       "      <td>BACKGROUND: Among individuals living with huma...</td>\n",
       "      <td>2018-11-26</td>\n",
       "      <td>https://www.ncbi.nlm.nih.gov/pmc/articles/PMC6...</td>\n",
       "      <td>Sellers, Subhashini; Dover, Kenton; Wohl, Davi...</td>\n",
       "      <td>[BACKGROUND, Among, individuals, living, with,...</td>\n",
       "    </tr>\n",
       "  </tbody>\n",
       "</table>\n",
       "</div>"
      ],
      "text/plain": [
       "                                                   title  \\\n",
       "941    Serum Levels of Gelatinase Associated Lipocali...   \n",
       "2791   36th International Symposium on Intensive Care...   \n",
       "4675   Associations of osteopontin and NT-proBNP with...   \n",
       "12355  Asthma Exacerbations and Risk of Emergency Dep...   \n",
       "12407  2264. The Burden of Respiratory Viral Illness ...   \n",
       "\n",
       "                                                abstract publish_time  \\\n",
       "941    Background. Atherosclerosis is a chronic infla...   2012-09-04   \n",
       "2791   P001 - Sepsis impairs the capillary response w...   2016-04-20   \n",
       "4675   The genomic regulatory networks underlying the...   2019-10-01   \n",
       "12355  BACKGROUND: In asthmatic children, 60–80% of e...   2017-10-04   \n",
       "12407  BACKGROUND: Among individuals living with huma...   2018-11-26   \n",
       "\n",
       "                                                     url  \\\n",
       "941    https://www.ncbi.nlm.nih.gov/pmc/articles/PMC3...   \n",
       "2791   https://www.ncbi.nlm.nih.gov/pmc/articles/PMC5...   \n",
       "4675   https://www.ncbi.nlm.nih.gov/pmc/articles/PMC7...   \n",
       "12355  https://www.ncbi.nlm.nih.gov/pmc/articles/PMC5...   \n",
       "12407  https://www.ncbi.nlm.nih.gov/pmc/articles/PMC6...   \n",
       "\n",
       "                                                 authors  \\\n",
       "941    Kafkas, Nikolaos; Demponeras, Christos; Zoubou...   \n",
       "2791   Bateman, R. M.; Sharpe, M. D.; Jagger, J. E.; ...   \n",
       "4675   Kwee, Lydia Coulter; Neely, Megan L.; Grass, E...   \n",
       "12355  Merckx, Joanna; Ducharme, Francine M; Quach, C...   \n",
       "12407  Sellers, Subhashini; Dover, Kenton; Wohl, Davi...   \n",
       "\n",
       "                                                   words  \n",
       "941    [Background, Atherosclerosis, is, a, chronic, ...  \n",
       "2791   [P001, Sepsis, impairs, the, capillary, respon...  \n",
       "4675   [The, genomic, regulatory, networks, underlyin...  \n",
       "12355  [BACKGROUND, In, asthmatic, children, 60, 80, ...  \n",
       "12407  [BACKGROUND, Among, individuals, living, with,...  "
      ]
     },
     "execution_count": 56,
     "metadata": {},
     "output_type": "execute_result"
    }
   ],
   "source": [
    "#Articles that we have\n",
    "Q7.head(5)"
   ]
  },
  {
   "cell_type": "markdown",
   "metadata": {},
   "source": [
    "Online Search"
   ]
  },
  {
   "cell_type": "code",
   "execution_count": 36,
   "metadata": {
    "scrolled": true
   },
   "outputs": [
    {
     "name": "stdout",
     "output_type": "stream",
     "text": [
      "https://www.ncbi.nlm.nih.gov/pmc/articles/PMC7162753/\n",
      "http://info.primarycare.hms.harvard.edu/blog/social-conditions-shape-covid\n",
      "https://www.undp.org/content/undp/en/home/coronavirus/socio-economic-impact-of-covid-19.html\n",
      "https://www.undp.org/content/undp/en/home/librarypage/crisis-prevention-and-recovery/the-social-and-economic-impact-of-covid-19-in-asia-pacific.html\n",
      "https://www.latinamerica.undp.org/content/rblac/en/home/library/crisis_prevention_and_recovery/social-and-economic-impact-of-covid-19-and-policy-options-in-arg.html\n",
      "https://link.springer.com/article/10.1007/s00148-020-00778-2\n",
      "https://www.medrxiv.org/content/10.1101/2020.03.13.20035238v1\n",
      "https://www.unido.org/stories/coronavirus-economic-impact-10-july-2020\n",
      "https://www.forbes.com/sites/coronavirusfrontlines/2020/05/13/an-hiv-researcher-explains-how-socioeconomic-factors-affect-the-impact-of-the-coronavirus-pandemic/\n",
      "https://www.iza.org/publications/dp/13165/impacts-of-social-and-economic-factors-on-the-transmission-of-coronavirus-disease-2019-covid-19-in-china\n",
      "https://www.cdc.gov/coronavirus/2019-ncov/need-extra-precautions/people-with-medical-conditions.html\n",
      "https://www.cdc.gov/healthyweight/assessing/bmi/index.html\n",
      "https://www.cdc.gov/diabetes/managing/flu-sick-days.html\n",
      "https://www.cdc.gov/heartdisease/other_conditions.htm\n",
      "https://www.cdc.gov/coronavirus/2019-ncov/community/retirement/checklist.html\n",
      "https://www.cdc.gov/coronavirus/2019-ncov/covid-data/investigations-discovery/assessing-risk-factors.html\n",
      "https://www.ncbi.nlm.nih.gov/pmc/articles/PMC7255207/\n",
      "https://www.cureus.com/articles/31114-psychological-and-behavioral-response-to-the-coronavirus-covid-19-pandemic\n",
      "https://www.frontiersin.org/research-topics/13561/coronavirus-disease-covid-19-psychological-behavioral-interpersonal-effects-and-clinical-implication\n",
      "https://www.frontiersin.org/articles/10.3389/fpsyt.2020.00523/full\n"
     ]
    }
   ],
   "source": [
    "try: \n",
    "    from googlesearch import search \n",
    "except ImportError:  \n",
    "    print(\"Error/Not found\") \n",
    "### Browsing the sourses using different search terms: \n",
    "search7_1 = \"corona severity of disease on patients \"\n",
    "\n",
    "\n",
    "##limit to the first 10 relevant links:\n",
    "for a in search(search7_1, tld=\"co.in\", num=10, stop=10, pause=2): \n",
    "    print(a)\n"
   ]
  },
  {
   "cell_type": "markdown",
   "metadata": {},
   "source": [
    "# 8/ Public health mitigation measures that could be effective for control"
   ]
  },
  {
   "cell_type": "code",
   "execution_count": 64,
   "metadata": {},
   "outputs": [],
   "source": [
    "#Create different sets with specialized terms  from our questions \n",
    "Q8_a = tablesAbstract[tablesAbstract['abstract'].str.contains('corona')]\n",
    "Q8_b = Q8_a[Q8_a['abstract'].str.contains('public health')]\n",
    "Q8_c = Q8_b[Q8_b['abstract'].str.contains('mitigation measure')]\n",
    "Q8_d = Q8_b[Q8_b['abstract'].str.contains('control')]"
   ]
  },
  {
   "cell_type": "code",
   "execution_count": 69,
   "metadata": {},
   "outputs": [
    {
     "data": {
      "text/plain": [
       "(393, 6)"
      ]
     },
     "execution_count": 69,
     "metadata": {},
     "output_type": "execute_result"
    }
   ],
   "source": [
    "#Concatenitng the dataframes into one table per question and dropping null value \n",
    "Q8 = pd.concat([Q8_c,Q8_d])\n",
    "Q8.dropna(inplace=True)\n",
    "Q8.shape"
   ]
  },
  {
   "cell_type": "code",
   "execution_count": 70,
   "metadata": {},
   "outputs": [
    {
     "data": {
      "text/html": [
       "<div>\n",
       "<style scoped>\n",
       "    .dataframe tbody tr th:only-of-type {\n",
       "        vertical-align: middle;\n",
       "    }\n",
       "\n",
       "    .dataframe tbody tr th {\n",
       "        vertical-align: top;\n",
       "    }\n",
       "\n",
       "    .dataframe thead th {\n",
       "        text-align: right;\n",
       "    }\n",
       "</style>\n",
       "<table border=\"1\" class=\"dataframe\">\n",
       "  <thead>\n",
       "    <tr style=\"text-align: right;\">\n",
       "      <th></th>\n",
       "      <th>title</th>\n",
       "      <th>abstract</th>\n",
       "      <th>publish_time</th>\n",
       "      <th>url</th>\n",
       "      <th>authors</th>\n",
       "      <th>words</th>\n",
       "    </tr>\n",
       "  </thead>\n",
       "  <tbody>\n",
       "    <tr>\n",
       "      <th>49012</th>\n",
       "      <td>From Four-Way Linking to a One Health Platform...</td>\n",
       "      <td>The convergence of humans, animals and our sha...</td>\n",
       "      <td>2019</td>\n",
       "      <td>https://doi.org/10.20506/rst.38.1.2958; https:...</td>\n",
       "      <td>Allal, L; Mahrous, H; Saad, A; Refaei, S; Atti...</td>\n",
       "      <td>[The, convergence, of, humans, animals, and, o...</td>\n",
       "    </tr>\n",
       "    <tr>\n",
       "      <th>49667</th>\n",
       "      <td>Identifying airborne transmission as the domin...</td>\n",
       "      <td>Various mitigation measures have been implemen...</td>\n",
       "      <td>2020-06-11</td>\n",
       "      <td>https://doi.org/10.1073/pnas.2009637117; https...</td>\n",
       "      <td>Zhang, Renyi; Li, Yixin; Zhang, Annie L; Wang,...</td>\n",
       "      <td>[Various, mitigation, measures, have, been, im...</td>\n",
       "    </tr>\n",
       "    <tr>\n",
       "      <th>68469</th>\n",
       "      <td>Modelling COVID-19 Transmission in the United ...</td>\n",
       "      <td>Background: The first case of COVID-19 was rep...</td>\n",
       "      <td>2020-05-26</td>\n",
       "      <td>http://medrxiv.org/cgi/content/short/2020.05.2...</td>\n",
       "      <td>Shah, N. H.; Sheoran, N.; Jayswal, E. N.; Shuk...</td>\n",
       "      <td>[Background, The, first, case, of, COVID, 19, ...</td>\n",
       "    </tr>\n",
       "    <tr>\n",
       "      <th>147824</th>\n",
       "      <td>Years of life lost due to the psychosocial con...</td>\n",
       "      <td>BACKGROUND. The pandemic caused by coronavirus...</td>\n",
       "      <td>2020-05-29</td>\n",
       "      <td>https://doi.org/10.1192/j.eurpsy.2020.56; http...</td>\n",
       "      <td>Moser, Dominik A.; Glaus, Jennifer; Frangou, S...</td>\n",
       "      <td>[BACKGROUND, The, pandemic, caused, by, corona...</td>\n",
       "    </tr>\n",
       "    <tr>\n",
       "      <th>150322</th>\n",
       "      <td>Survival-Convolution Models for Predicting COV...</td>\n",
       "      <td>Countries around the globe have implemented un...</td>\n",
       "      <td>2020-05-13</td>\n",
       "      <td>http://medrxiv.org/cgi/content/short/2020.04.1...</td>\n",
       "      <td>Wang, Qinxia; Xie, Shanghong; Wang, Yuanjia; Z...</td>\n",
       "      <td>[Countries, around, the, globe, have, implemen...</td>\n",
       "    </tr>\n",
       "  </tbody>\n",
       "</table>\n",
       "</div>"
      ],
      "text/plain": [
       "                                                    title  \\\n",
       "49012   From Four-Way Linking to a One Health Platform...   \n",
       "49667   Identifying airborne transmission as the domin...   \n",
       "68469   Modelling COVID-19 Transmission in the United ...   \n",
       "147824  Years of life lost due to the psychosocial con...   \n",
       "150322  Survival-Convolution Models for Predicting COV...   \n",
       "\n",
       "                                                 abstract publish_time  \\\n",
       "49012   The convergence of humans, animals and our sha...         2019   \n",
       "49667   Various mitigation measures have been implemen...   2020-06-11   \n",
       "68469   Background: The first case of COVID-19 was rep...   2020-05-26   \n",
       "147824  BACKGROUND. The pandemic caused by coronavirus...   2020-05-29   \n",
       "150322  Countries around the globe have implemented un...   2020-05-13   \n",
       "\n",
       "                                                      url  \\\n",
       "49012   https://doi.org/10.20506/rst.38.1.2958; https:...   \n",
       "49667   https://doi.org/10.1073/pnas.2009637117; https...   \n",
       "68469   http://medrxiv.org/cgi/content/short/2020.05.2...   \n",
       "147824  https://doi.org/10.1192/j.eurpsy.2020.56; http...   \n",
       "150322  http://medrxiv.org/cgi/content/short/2020.04.1...   \n",
       "\n",
       "                                                  authors  \\\n",
       "49012   Allal, L; Mahrous, H; Saad, A; Refaei, S; Atti...   \n",
       "49667   Zhang, Renyi; Li, Yixin; Zhang, Annie L; Wang,...   \n",
       "68469   Shah, N. H.; Sheoran, N.; Jayswal, E. N.; Shuk...   \n",
       "147824  Moser, Dominik A.; Glaus, Jennifer; Frangou, S...   \n",
       "150322  Wang, Qinxia; Xie, Shanghong; Wang, Yuanjia; Z...   \n",
       "\n",
       "                                                    words  \n",
       "49012   [The, convergence, of, humans, animals, and, o...  \n",
       "49667   [Various, mitigation, measures, have, been, im...  \n",
       "68469   [Background, The, first, case, of, COVID, 19, ...  \n",
       "147824  [BACKGROUND, The, pandemic, caused, by, corona...  \n",
       "150322  [Countries, around, the, globe, have, implemen...  "
      ]
     },
     "execution_count": 70,
     "metadata": {},
     "output_type": "execute_result"
    }
   ],
   "source": [
    "#Articles that we have\n",
    "Q8.head(5)"
   ]
  },
  {
   "cell_type": "markdown",
   "metadata": {},
   "source": [
    "Online Search"
   ]
  },
  {
   "cell_type": "code",
   "execution_count": 71,
   "metadata": {
    "scrolled": true
   },
   "outputs": [
    {
     "name": "stdout",
     "output_type": "stream",
     "text": [
      "https://www.cdc.gov/coronavirus/2019-ncov/global-covid-19/community-mitigation-measures.html\n",
      "https://www.cdc.gov/coronavirus/2019-ncov/community/community-mitigation.html\n",
      "https://www.cdc.gov/coronavirus/2019-ncov/php/open-america/community-mitigation.html\n",
      "https://www.cdc.gov/coronavirus/2019-ncov/php/open-america/community-mitigation-concepts.html\n",
      "https://www.iata.org/en/programs/covid-19-resources-guidelines/covid-gov-mitigation/\n",
      "https://jamanetwork.com/journals/jama/fullarticle/2764956\n",
      "https://www.canada.ca/en/public-health/services/diseases/2019-novel-coronavirus-infection/health-professionals/public-health-measures-mitigate-covid-19.html\n",
      "https://www.sciencedirect.com/science/article/pii/S0925753520301703?via%3Dihub\n",
      "https://www.who.int/influenza/publications/public_health_measures/publication/en/\n",
      "https://www.transportation.gov/sites/dot.gov/files/2020-07/Runway_to_Recovery_07022020.pdf\n"
     ]
    }
   ],
   "source": [
    "try: \n",
    "    from googlesearch import search \n",
    "except ImportError:  \n",
    "    print(\"Error/Not found\") \n",
    "### Browsing the sourses using different search terms: \n",
    "search8_1 = \"corona public health mitigation measures\"\n",
    "\n",
    "\n",
    "##limit to the first 10 relevant links:\n",
    "for a in search(search8_1, tld=\"co.in\", num=10, stop=10, pause=2): \n",
    "    print(a)"
   ]
  },
  {
   "cell_type": "code",
   "execution_count": null,
   "metadata": {},
   "outputs": [],
   "source": []
  }
 ],
 "metadata": {
  "kernelspec": {
   "display_name": "Python 3",
   "language": "python",
   "name": "python3"
  },
  "language_info": {
   "codemirror_mode": {
    "name": "ipython",
    "version": 3
   },
   "file_extension": ".py",
   "mimetype": "text/x-python",
   "name": "python",
   "nbconvert_exporter": "python",
   "pygments_lexer": "ipython3",
   "version": "3.7.3"
  }
 },
 "nbformat": 4,
 "nbformat_minor": 4
}
