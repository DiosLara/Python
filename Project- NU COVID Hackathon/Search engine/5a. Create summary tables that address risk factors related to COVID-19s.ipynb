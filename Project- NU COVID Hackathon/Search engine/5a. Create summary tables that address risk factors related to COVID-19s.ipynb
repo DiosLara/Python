{
 "cells": [
  {
   "cell_type": "code",
   "execution_count": 3,
   "metadata": {},
   "outputs": [],
   "source": [
    "# Importing the libraries \n",
    "import sys\n",
    "import numpy as np \n",
    "import pandas as pd \n",
    "import os "
   ]
  },
  {
   "cell_type": "markdown",
   "metadata": {},
   "source": [
    "### Table: ABSTRACTS"
   ]
  },
  {
   "cell_type": "code",
   "execution_count": 4,
   "metadata": {},
   "outputs": [
    {
     "name": "stderr",
     "output_type": "stream",
     "text": [
      "C:\\Users\\HP\\Anaconda3\\lib\\site-packages\\IPython\\core\\interactiveshell.py:3063: DtypeWarning: Columns (5,6,13,14,16) have mixed types.Specify dtype option on import or set low_memory=False.\n",
      "  interactivity=interactivity, compiler=compiler, result=result)\n"
     ]
    },
    {
     "name": "stdout",
     "output_type": "stream",
     "text": [
      "The number of articles are: 167470\n"
     ]
    }
   ],
   "source": [
    "#Import the information\n",
    "df=pd.read_csv('E:/NorthEastern University/XN-Hackathon Covid/Kaggle Data/metadata.csv') \n",
    "print('The number of articles are:',df.shape[0])"
   ]
  },
  {
   "cell_type": "code",
   "execution_count": 5,
   "metadata": {},
   "outputs": [],
   "source": [
    "#Select only title, abstract, date, link to the article, and authors\n",
    "tablesAbstract= df [['title', 'abstract', 'publish_time', 'url', 'authors']]"
   ]
  },
  {
   "cell_type": "code",
   "execution_count": 6,
   "metadata": {},
   "outputs": [
    {
     "name": "stderr",
     "output_type": "stream",
     "text": [
      "C:\\Users\\HP\\Anaconda3\\lib\\site-packages\\ipykernel_launcher.py:2: SettingWithCopyWarning: \n",
      "A value is trying to be set on a copy of a slice from a DataFrame.\n",
      "Try using .loc[row_indexer,col_indexer] = value instead\n",
      "\n",
      "See the caveats in the documentation: https://pandas.pydata.org/pandas-docs/stable/user_guide/indexing.html#returning-a-view-versus-a-copy\n",
      "  \n"
     ]
    },
    {
     "data": {
      "text/html": [
       "<div>\n",
       "<style scoped>\n",
       "    .dataframe tbody tr th:only-of-type {\n",
       "        vertical-align: middle;\n",
       "    }\n",
       "\n",
       "    .dataframe tbody tr th {\n",
       "        vertical-align: top;\n",
       "    }\n",
       "\n",
       "    .dataframe thead th {\n",
       "        text-align: right;\n",
       "    }\n",
       "</style>\n",
       "<table border=\"1\" class=\"dataframe\">\n",
       "  <thead>\n",
       "    <tr style=\"text-align: right;\">\n",
       "      <th></th>\n",
       "      <th>title</th>\n",
       "      <th>abstract</th>\n",
       "      <th>publish_time</th>\n",
       "      <th>url</th>\n",
       "      <th>authors</th>\n",
       "      <th>words</th>\n",
       "    </tr>\n",
       "  </thead>\n",
       "  <tbody>\n",
       "    <tr>\n",
       "      <th>0</th>\n",
       "      <td>Clinical features of culture-proven Mycoplasma...</td>\n",
       "      <td>OBJECTIVE: This retrospective chart review des...</td>\n",
       "      <td>2001-07-04</td>\n",
       "      <td>https://www.ncbi.nlm.nih.gov/pmc/articles/PMC3...</td>\n",
       "      <td>Madani, Tariq A; Al-Ghamdi, Aisha A</td>\n",
       "      <td>[OBJECTIVE, This, retrospective, chart, review...</td>\n",
       "    </tr>\n",
       "    <tr>\n",
       "      <th>1</th>\n",
       "      <td>Nitric oxide: a pro-inflammatory mediator in l...</td>\n",
       "      <td>Inflammatory diseases of the respiratory tract...</td>\n",
       "      <td>2000-08-15</td>\n",
       "      <td>https://www.ncbi.nlm.nih.gov/pmc/articles/PMC5...</td>\n",
       "      <td>Vliet, Albert van der; Eiserich, Jason P; Cros...</td>\n",
       "      <td>[Inflammatory, diseases, of, the, respiratory,...</td>\n",
       "    </tr>\n",
       "    <tr>\n",
       "      <th>2</th>\n",
       "      <td>Surfactant protein-D and pulmonary host defense</td>\n",
       "      <td>Surfactant protein-D (SP-D) participates in th...</td>\n",
       "      <td>2000-08-25</td>\n",
       "      <td>https://www.ncbi.nlm.nih.gov/pmc/articles/PMC5...</td>\n",
       "      <td>Crouch, Erika C</td>\n",
       "      <td>[Surfactant, protein, D, SP, D, participates, ...</td>\n",
       "    </tr>\n",
       "  </tbody>\n",
       "</table>\n",
       "</div>"
      ],
      "text/plain": [
       "                                               title  \\\n",
       "0  Clinical features of culture-proven Mycoplasma...   \n",
       "1  Nitric oxide: a pro-inflammatory mediator in l...   \n",
       "2    Surfactant protein-D and pulmonary host defense   \n",
       "\n",
       "                                            abstract publish_time  \\\n",
       "0  OBJECTIVE: This retrospective chart review des...   2001-07-04   \n",
       "1  Inflammatory diseases of the respiratory tract...   2000-08-15   \n",
       "2  Surfactant protein-D (SP-D) participates in th...   2000-08-25   \n",
       "\n",
       "                                                 url  \\\n",
       "0  https://www.ncbi.nlm.nih.gov/pmc/articles/PMC3...   \n",
       "1  https://www.ncbi.nlm.nih.gov/pmc/articles/PMC5...   \n",
       "2  https://www.ncbi.nlm.nih.gov/pmc/articles/PMC5...   \n",
       "\n",
       "                                             authors  \\\n",
       "0                Madani, Tariq A; Al-Ghamdi, Aisha A   \n",
       "1  Vliet, Albert van der; Eiserich, Jason P; Cros...   \n",
       "2                                    Crouch, Erika C   \n",
       "\n",
       "                                               words  \n",
       "0  [OBJECTIVE, This, retrospective, chart, review...  \n",
       "1  [Inflammatory, diseases, of, the, respiratory,...  \n",
       "2  [Surfactant, protein, D, SP, D, participates, ...  "
      ]
     },
     "execution_count": 6,
     "metadata": {},
     "output_type": "execute_result"
    }
   ],
   "source": [
    "#Seperate the words in the Abstract columns \n",
    "tablesAbstract['words']=  tablesAbstract.abstract.str.strip().str.split('[\\W_]+')\n",
    "tablesAbstract = tablesAbstract[tablesAbstract.words.str.len() > 0]\n",
    "                                        #rid of all the input that have the Words column less than 0 \n",
    "tablesAbstract.head(3)"
   ]
  },
  {
   "cell_type": "code",
   "execution_count": 7,
   "metadata": {},
   "outputs": [
    {
     "name": "stdout",
     "output_type": "stream",
     "text": [
      "The number of articles after reduction is: 122492\n"
     ]
    }
   ],
   "source": [
    "print('The number of articles after reduction is:', tablesAbstract.shape[0])"
   ]
  },
  {
   "cell_type": "markdown",
   "metadata": {},
   "source": [
    "# ==> We will analyze what the articles available in the dataset and then also search online resources for each questions "
   ]
  },
  {
   "cell_type": "markdown",
   "metadata": {},
   "source": [
    "# -------------------------------------------------------------------------------------------------------------"
   ]
  },
  {
   "cell_type": "markdown",
   "metadata": {},
   "source": [
    "Scraping the web using beautifulsoup4 and Google "
   ]
  },
  {
   "cell_type": "code",
   "execution_count": 8,
   "metadata": {},
   "outputs": [
    {
     "name": "stdout",
     "output_type": "stream",
     "text": [
      "Requirement already satisfied: google in c:\\users\\hp\\anaconda3\\lib\\site-packages (3.0.0)Note: you may need to restart the kernel to use updated packages.\n",
      "\n",
      "Requirement already satisfied: beautifulsoup4 in c:\\users\\hp\\anaconda3\\lib\\site-packages (from google) (4.9.0)\n",
      "Requirement already satisfied: soupsieve>1.2 in c:\\users\\hp\\anaconda3\\lib\\site-packages (from beautifulsoup4->google) (2.0)\n"
     ]
    }
   ],
   "source": [
    "pip install google"
   ]
  },
  {
   "cell_type": "code",
   "execution_count": 9,
   "metadata": {},
   "outputs": [
    {
     "name": "stdout",
     "output_type": "stream",
     "text": [
      "Requirement already satisfied: beautifulsoup4 in c:\\users\\hp\\anaconda3\\lib\\site-packages (4.9.0)\n",
      "Requirement already satisfied: soupsieve>1.2 in c:\\users\\hp\\anaconda3\\lib\\site-packages (from beautifulsoup4) (2.0)\n",
      "Note: you may need to restart the kernel to use updated packages.\n"
     ]
    }
   ],
   "source": [
    "pip install beautifulsoup4"
   ]
  },
  {
   "cell_type": "markdown",
   "metadata": {},
   "source": [
    "# Specifically, we want to know what the literature reports about:"
   ]
  },
  {
   "cell_type": "markdown",
   "metadata": {},
   "source": [
    "# 1/ Hypertension"
   ]
  },
  {
   "cell_type": "code",
   "execution_count": 32,
   "metadata": {},
   "outputs": [],
   "source": [
    "#Create different sets with specialized terms  from our questions \n",
    "Q1_a = tablesAbstract[tablesAbstract['abstract'].str.contains('hypertension')]\n",
    "Q1_b = Q1_a[Q1_a['abstract'].str.contains('corona')]"
   ]
  },
  {
   "cell_type": "code",
   "execution_count": 35,
   "metadata": {},
   "outputs": [
    {
     "data": {
      "text/plain": [
       "(385, 6)"
      ]
     },
     "execution_count": 35,
     "metadata": {},
     "output_type": "execute_result"
    }
   ],
   "source": [
    "#Concatenitng the dataframes into one table per question and dropping null value \n",
    "Q1 = pd.concat([Q1_b])\n",
    "Q1.dropna(inplace=True)\n",
    "Q1.shape"
   ]
  },
  {
   "cell_type": "code",
   "execution_count": 36,
   "metadata": {},
   "outputs": [
    {
     "data": {
      "text/html": [
       "<div>\n",
       "<style scoped>\n",
       "    .dataframe tbody tr th:only-of-type {\n",
       "        vertical-align: middle;\n",
       "    }\n",
       "\n",
       "    .dataframe tbody tr th {\n",
       "        vertical-align: top;\n",
       "    }\n",
       "\n",
       "    .dataframe thead th {\n",
       "        text-align: right;\n",
       "    }\n",
       "</style>\n",
       "<table border=\"1\" class=\"dataframe\">\n",
       "  <thead>\n",
       "    <tr style=\"text-align: right;\">\n",
       "      <th></th>\n",
       "      <th>title</th>\n",
       "      <th>abstract</th>\n",
       "      <th>publish_time</th>\n",
       "      <th>url</th>\n",
       "      <th>authors</th>\n",
       "      <th>words</th>\n",
       "    </tr>\n",
       "  </thead>\n",
       "  <tbody>\n",
       "    <tr>\n",
       "      <th>1527</th>\n",
       "      <td>From gene to protein—experimental and clinical...</td>\n",
       "      <td>Hypertension is a major risk factor for stroke...</td>\n",
       "      <td>2014-06-24</td>\n",
       "      <td>https://www.ncbi.nlm.nih.gov/pmc/articles/PMC4...</td>\n",
       "      <td>Patel, Sheila K.; Velkoska, Elena; Freeman, Me...</td>\n",
       "      <td>[Hypertension, is, a, major, risk, factor, for...</td>\n",
       "    </tr>\n",
       "    <tr>\n",
       "      <th>2791</th>\n",
       "      <td>36th International Symposium on Intensive Care...</td>\n",
       "      <td>P001 - Sepsis impairs the capillary response w...</td>\n",
       "      <td>2016-04-20</td>\n",
       "      <td>https://www.ncbi.nlm.nih.gov/pmc/articles/PMC5...</td>\n",
       "      <td>Bateman, R. M.; Sharpe, M. D.; Jagger, J. E.; ...</td>\n",
       "      <td>[P001, Sepsis, impairs, the, capillary, respon...</td>\n",
       "    </tr>\n",
       "    <tr>\n",
       "      <th>4550</th>\n",
       "      <td>Epidemiological and clinical characteristics o...</td>\n",
       "      <td>BACKGROUND: We analyzed the results of a 3-yea...</td>\n",
       "      <td>2020-02-10</td>\n",
       "      <td>https://www.ncbi.nlm.nih.gov/pmc/articles/PMC7...</td>\n",
       "      <td>Zhao, Xia; Wang, Lihong; Wei, Nan; Zhang, Jing...</td>\n",
       "      <td>[BACKGROUND, We, analyzed, the, results, of, a...</td>\n",
       "    </tr>\n",
       "    <tr>\n",
       "      <th>6256</th>\n",
       "      <td>Dilated cardiomyopathy</td>\n",
       "      <td>Dilated cardiomyopathy (DCM) is a clinical dia...</td>\n",
       "      <td>2019-05-09</td>\n",
       "      <td>https://www.ncbi.nlm.nih.gov/pmc/articles/PMC7...</td>\n",
       "      <td>Schultheiss, Heinz-Peter; Fairweather, DeLisa;...</td>\n",
       "      <td>[Dilated, cardiomyopathy, DCM, is, a, clinical...</td>\n",
       "    </tr>\n",
       "    <tr>\n",
       "      <th>8391</th>\n",
       "      <td>Short-term Follow-up Results of Drug-eluting S...</td>\n",
       "      <td>BACKGROUND: Premature coronary artery disease ...</td>\n",
       "      <td>2008-09-26</td>\n",
       "      <td>https://www.ncbi.nlm.nih.gov/pmc/articles/PMC7...</td>\n",
       "      <td>Wang, Ming-Hsiung; Lee, Wen-Lieng; Wang, Kuo-Y...</td>\n",
       "      <td>[BACKGROUND, Premature, coronary, artery, dise...</td>\n",
       "    </tr>\n",
       "  </tbody>\n",
       "</table>\n",
       "</div>"
      ],
      "text/plain": [
       "                                                  title  \\\n",
       "1527  From gene to protein—experimental and clinical...   \n",
       "2791  36th International Symposium on Intensive Care...   \n",
       "4550  Epidemiological and clinical characteristics o...   \n",
       "6256                             Dilated cardiomyopathy   \n",
       "8391  Short-term Follow-up Results of Drug-eluting S...   \n",
       "\n",
       "                                               abstract publish_time  \\\n",
       "1527  Hypertension is a major risk factor for stroke...   2014-06-24   \n",
       "2791  P001 - Sepsis impairs the capillary response w...   2016-04-20   \n",
       "4550  BACKGROUND: We analyzed the results of a 3-yea...   2020-02-10   \n",
       "6256  Dilated cardiomyopathy (DCM) is a clinical dia...   2019-05-09   \n",
       "8391  BACKGROUND: Premature coronary artery disease ...   2008-09-26   \n",
       "\n",
       "                                                    url  \\\n",
       "1527  https://www.ncbi.nlm.nih.gov/pmc/articles/PMC4...   \n",
       "2791  https://www.ncbi.nlm.nih.gov/pmc/articles/PMC5...   \n",
       "4550  https://www.ncbi.nlm.nih.gov/pmc/articles/PMC7...   \n",
       "6256  https://www.ncbi.nlm.nih.gov/pmc/articles/PMC7...   \n",
       "8391  https://www.ncbi.nlm.nih.gov/pmc/articles/PMC7...   \n",
       "\n",
       "                                                authors  \\\n",
       "1527  Patel, Sheila K.; Velkoska, Elena; Freeman, Me...   \n",
       "2791  Bateman, R. M.; Sharpe, M. D.; Jagger, J. E.; ...   \n",
       "4550  Zhao, Xia; Wang, Lihong; Wei, Nan; Zhang, Jing...   \n",
       "6256  Schultheiss, Heinz-Peter; Fairweather, DeLisa;...   \n",
       "8391  Wang, Ming-Hsiung; Lee, Wen-Lieng; Wang, Kuo-Y...   \n",
       "\n",
       "                                                  words  \n",
       "1527  [Hypertension, is, a, major, risk, factor, for...  \n",
       "2791  [P001, Sepsis, impairs, the, capillary, respon...  \n",
       "4550  [BACKGROUND, We, analyzed, the, results, of, a...  \n",
       "6256  [Dilated, cardiomyopathy, DCM, is, a, clinical...  \n",
       "8391  [BACKGROUND, Premature, coronary, artery, dise...  "
      ]
     },
     "execution_count": 36,
     "metadata": {},
     "output_type": "execute_result"
    }
   ],
   "source": [
    "#Articles that we have\n",
    "Q1.head(5)"
   ]
  },
  {
   "cell_type": "markdown",
   "metadata": {},
   "source": [
    "Online Search "
   ]
  },
  {
   "cell_type": "code",
   "execution_count": 14,
   "metadata": {},
   "outputs": [
    {
     "name": "stdout",
     "output_type": "stream",
     "text": [
      "https://www.nature.com/articles/s41440-020-0485-2\n",
      "https://academic.oup.com/ajh/article/33/5/373/5816609\n",
      "https://www.acc.org/latest-in-cardiology/articles/2020/07/06/08/15/covid-19-and-hypertension\n",
      "https://www.cardiosmart.org/Heart-Conditions/High-Blood-Pressure/The-Research/Latest-Research\n",
      "https://www.escardio.org/The-ESC/Press-Office/Press-releases/High-blood-pressure-linked-to-increased-risk-of-dying-from-COVID-19\n",
      "https://www.ncbi.nlm.nih.gov/pmc/articles/PMC7232880/\n",
      "https://www.webmd.com/lung/coronavirus-high-blood-pressure\n",
      "https://journals.sagepub.com/doi/full/10.1177/1470320320927851\n",
      "https://www.medicalnewstoday.com/articles/discussing-covid-19-and-hypertension\n",
      "https://erj.ersjournals.com/content/early/2020/05/07/13993003.01148-2020\n"
     ]
    }
   ],
   "source": [
    "try: \n",
    "    from googlesearch import search \n",
    "except ImportError:  \n",
    "    print(\"Error/Not found\") \n",
    "### Browsing the sourses using different search terms: \n",
    "search1_1 = \"research paper hypertension Corona\"\n",
    "\n",
    "\n",
    "##limit to the first 10 relevant links:\n",
    "for a in search(search1_1, tld=\"co.in\", num=10, stop=10, pause=2): \n",
    "    print(a)"
   ]
  },
  {
   "cell_type": "markdown",
   "metadata": {},
   "source": [
    "# 2/ Diabetes"
   ]
  },
  {
   "cell_type": "code",
   "execution_count": 27,
   "metadata": {},
   "outputs": [],
   "source": [
    "#Create different sets with specialized terms  from our questions \n",
    "Q2_a = tablesAbstract[tablesAbstract['abstract'].str.contains('diabetes')]\n",
    "Q2_b = Q2_a[Q2_a['abstract'].str.contains('corona')]"
   ]
  },
  {
   "cell_type": "code",
   "execution_count": 28,
   "metadata": {},
   "outputs": [
    {
     "data": {
      "text/plain": [
       "(462, 6)"
      ]
     },
     "execution_count": 28,
     "metadata": {},
     "output_type": "execute_result"
    }
   ],
   "source": [
    "#Concatenitng the dataframes into one table per question and dropping null value \n",
    "Q2 = pd.concat([Q2_b])\n",
    "Q2.dropna(inplace=True)\n",
    "Q2.shape"
   ]
  },
  {
   "cell_type": "code",
   "execution_count": 29,
   "metadata": {},
   "outputs": [
    {
     "data": {
      "text/html": [
       "<div>\n",
       "<style scoped>\n",
       "    .dataframe tbody tr th:only-of-type {\n",
       "        vertical-align: middle;\n",
       "    }\n",
       "\n",
       "    .dataframe tbody tr th {\n",
       "        vertical-align: top;\n",
       "    }\n",
       "\n",
       "    .dataframe thead th {\n",
       "        text-align: right;\n",
       "    }\n",
       "</style>\n",
       "<table border=\"1\" class=\"dataframe\">\n",
       "  <thead>\n",
       "    <tr style=\"text-align: right;\">\n",
       "      <th></th>\n",
       "      <th>title</th>\n",
       "      <th>abstract</th>\n",
       "      <th>publish_time</th>\n",
       "      <th>url</th>\n",
       "      <th>authors</th>\n",
       "      <th>words</th>\n",
       "    </tr>\n",
       "  </thead>\n",
       "  <tbody>\n",
       "    <tr>\n",
       "      <th>4550</th>\n",
       "      <td>Epidemiological and clinical characteristics o...</td>\n",
       "      <td>BACKGROUND: We analyzed the results of a 3-yea...</td>\n",
       "      <td>2020-02-10</td>\n",
       "      <td>https://www.ncbi.nlm.nih.gov/pmc/articles/PMC7...</td>\n",
       "      <td>Zhao, Xia; Wang, Lihong; Wei, Nan; Zhang, Jing...</td>\n",
       "      <td>[BACKGROUND, We, analyzed, the, results, of, a...</td>\n",
       "    </tr>\n",
       "    <tr>\n",
       "      <th>8391</th>\n",
       "      <td>Short-term Follow-up Results of Drug-eluting S...</td>\n",
       "      <td>BACKGROUND: Premature coronary artery disease ...</td>\n",
       "      <td>2008-09-26</td>\n",
       "      <td>https://www.ncbi.nlm.nih.gov/pmc/articles/PMC7...</td>\n",
       "      <td>Wang, Ming-Hsiung; Lee, Wen-Lieng; Wang, Kuo-Y...</td>\n",
       "      <td>[BACKGROUND, Premature, coronary, artery, dise...</td>\n",
       "    </tr>\n",
       "    <tr>\n",
       "      <th>13889</th>\n",
       "      <td>The 2003 SARS Outbreak In Singapore: Epidemiol...</td>\n",
       "      <td>On 6 March 2003, the Singapore Ministry of Hea...</td>\n",
       "      <td>2008</td>\n",
       "      <td>https://www.ncbi.nlm.nih.gov/pmc/articles/PMC7...</td>\n",
       "      <td>Wilder-Smith, Annelies; Goh, Kee Tai</td>\n",
       "      <td>[On, 6, March, 2003, the, Singapore, Ministry,...</td>\n",
       "    </tr>\n",
       "    <tr>\n",
       "      <th>14299</th>\n",
       "      <td>Gezondheid van de Nederlandse bevolking</td>\n",
       "      <td>Na 1970: hernieuwde sterftedaling in Europa en...</td>\n",
       "      <td>2013-03-07</td>\n",
       "      <td>https://www.ncbi.nlm.nih.gov/pmc/articles/PMC7...</td>\n",
       "      <td>Mackenbach, J.P.</td>\n",
       "      <td>[Na, 1970, hernieuwde, sterftedaling, in, Euro...</td>\n",
       "    </tr>\n",
       "    <tr>\n",
       "      <th>15676</th>\n",
       "      <td>Exam 4 Questions</td>\n",
       "      <td>1. A 73-year-old male with a history of hypert...</td>\n",
       "      <td>2017-09-05</td>\n",
       "      <td>https://www.ncbi.nlm.nih.gov/pmc/articles/PMC7...</td>\n",
       "      <td>Levy, Zachary David</td>\n",
       "      <td>[1, A, 73, year, old, male, with, a, history, ...</td>\n",
       "    </tr>\n",
       "  </tbody>\n",
       "</table>\n",
       "</div>"
      ],
      "text/plain": [
       "                                                   title  \\\n",
       "4550   Epidemiological and clinical characteristics o...   \n",
       "8391   Short-term Follow-up Results of Drug-eluting S...   \n",
       "13889  The 2003 SARS Outbreak In Singapore: Epidemiol...   \n",
       "14299            Gezondheid van de Nederlandse bevolking   \n",
       "15676                                   Exam 4 Questions   \n",
       "\n",
       "                                                abstract publish_time  \\\n",
       "4550   BACKGROUND: We analyzed the results of a 3-yea...   2020-02-10   \n",
       "8391   BACKGROUND: Premature coronary artery disease ...   2008-09-26   \n",
       "13889  On 6 March 2003, the Singapore Ministry of Hea...         2008   \n",
       "14299  Na 1970: hernieuwde sterftedaling in Europa en...   2013-03-07   \n",
       "15676  1. A 73-year-old male with a history of hypert...   2017-09-05   \n",
       "\n",
       "                                                     url  \\\n",
       "4550   https://www.ncbi.nlm.nih.gov/pmc/articles/PMC7...   \n",
       "8391   https://www.ncbi.nlm.nih.gov/pmc/articles/PMC7...   \n",
       "13889  https://www.ncbi.nlm.nih.gov/pmc/articles/PMC7...   \n",
       "14299  https://www.ncbi.nlm.nih.gov/pmc/articles/PMC7...   \n",
       "15676  https://www.ncbi.nlm.nih.gov/pmc/articles/PMC7...   \n",
       "\n",
       "                                                 authors  \\\n",
       "4550   Zhao, Xia; Wang, Lihong; Wei, Nan; Zhang, Jing...   \n",
       "8391   Wang, Ming-Hsiung; Lee, Wen-Lieng; Wang, Kuo-Y...   \n",
       "13889               Wilder-Smith, Annelies; Goh, Kee Tai   \n",
       "14299                                   Mackenbach, J.P.   \n",
       "15676                                Levy, Zachary David   \n",
       "\n",
       "                                                   words  \n",
       "4550   [BACKGROUND, We, analyzed, the, results, of, a...  \n",
       "8391   [BACKGROUND, Premature, coronary, artery, dise...  \n",
       "13889  [On, 6, March, 2003, the, Singapore, Ministry,...  \n",
       "14299  [Na, 1970, hernieuwde, sterftedaling, in, Euro...  \n",
       "15676  [1, A, 73, year, old, male, with, a, history, ...  "
      ]
     },
     "execution_count": 29,
     "metadata": {},
     "output_type": "execute_result"
    }
   ],
   "source": [
    "#Articles that we have\n",
    "Q2.head(5)"
   ]
  },
  {
   "cell_type": "markdown",
   "metadata": {},
   "source": [
    "Online Search "
   ]
  },
  {
   "cell_type": "code",
   "execution_count": 38,
   "metadata": {},
   "outputs": [
    {
     "name": "stdout",
     "output_type": "stream",
     "text": [
      "https://www.nejm.org/doi/full/10.1056/NEJMc2018688\n",
      "https://www.ncbi.nlm.nih.gov/pmc/articles/PMC7144611/\n",
      "https://www.ncbi.nlm.nih.gov/pmc/articles/PMC7144611/#ab010title\n",
      "https://www.ncbi.nlm.nih.gov/pmc/articles/PMC7144611/#s0005title\n",
      "https://www.ncbi.nlm.nih.gov/pmc/articles/PMC7144611/#s0015title\n",
      "https://www.ncbi.nlm.nih.gov/pmc/articles/PMC7144611/#s0070title\n",
      "https://www.nature.com/articles/d41586-020-01891-8\n",
      "https://www.diabetes.org/coronavirus-covid-19/how-coronavirus-impacts-people-with-diabetes\n",
      "https://www.thelancet.com/journals/landia/article/PIIS2213-8587(20)30152-2/fulltext\n",
      "https://www.thelancet.com/journals/landia/article/PIIS2213-8587(20)30152-2/fulltext#seccestitle30\n"
     ]
    }
   ],
   "source": [
    "try: \n",
    "    from googlesearch import search \n",
    "except ImportError:  \n",
    "    print(\"Error/Not found\") \n",
    "### Browsing the sourses using different search terms: \n",
    "search2_1 = \"research paper diabetes Corona\"\n",
    "\n",
    "\n",
    "##limit to the first 10 relevant links:\n",
    "for a in search(search2_1, tld=\"co.in\", num=10, stop=10, pause=2): \n",
    "    print(a)"
   ]
  },
  {
   "cell_type": "markdown",
   "metadata": {},
   "source": [
    "# 3/ Male gender"
   ]
  },
  {
   "cell_type": "code",
   "execution_count": 24,
   "metadata": {},
   "outputs": [],
   "source": [
    "#Create different sets with specialized terms  from our questions \n",
    "Q3_a = tablesAbstract[tablesAbstract['abstract'].str.contains('male gender')]\n",
    "Q3_b = Q3_a[Q3_a['abstract'].str.contains('corona')]"
   ]
  },
  {
   "cell_type": "code",
   "execution_count": 25,
   "metadata": {},
   "outputs": [
    {
     "data": {
      "text/plain": [
       "(25, 6)"
      ]
     },
     "execution_count": 25,
     "metadata": {},
     "output_type": "execute_result"
    }
   ],
   "source": [
    "#Concatenitng the dataframes into one table per question and dropping null value \n",
    "Q3 = pd.concat([Q3_b])\n",
    "Q3.dropna(inplace=True)\n",
    "Q3.shape"
   ]
  },
  {
   "cell_type": "code",
   "execution_count": 26,
   "metadata": {},
   "outputs": [
    {
     "data": {
      "text/html": [
       "<div>\n",
       "<style scoped>\n",
       "    .dataframe tbody tr th:only-of-type {\n",
       "        vertical-align: middle;\n",
       "    }\n",
       "\n",
       "    .dataframe tbody tr th {\n",
       "        vertical-align: top;\n",
       "    }\n",
       "\n",
       "    .dataframe thead th {\n",
       "        text-align: right;\n",
       "    }\n",
       "</style>\n",
       "<table border=\"1\" class=\"dataframe\">\n",
       "  <thead>\n",
       "    <tr style=\"text-align: right;\">\n",
       "      <th></th>\n",
       "      <th>title</th>\n",
       "      <th>abstract</th>\n",
       "      <th>publish_time</th>\n",
       "      <th>url</th>\n",
       "      <th>authors</th>\n",
       "      <th>words</th>\n",
       "    </tr>\n",
       "  </thead>\n",
       "  <tbody>\n",
       "    <tr>\n",
       "      <th>16914</th>\n",
       "      <td>Etiology of the common cold: Modulating factors</td>\n",
       "      <td>The development of a “cold-like illness” (CLI)...</td>\n",
       "      <td>2009-11-10</td>\n",
       "      <td>https://www.ncbi.nlm.nih.gov/pmc/articles/PMC7...</td>\n",
       "      <td>Doyle, William J.; Cohen, Sheldon</td>\n",
       "      <td>[The, development, of, a, cold, like, illness,...</td>\n",
       "    </tr>\n",
       "    <tr>\n",
       "      <th>25630</th>\n",
       "      <td>Gender Difference Is Associated With Severity ...</td>\n",
       "      <td>OBJECTIVES: Coronavirus disease 2019 is a nove...</td>\n",
       "      <td>2020-06-19</td>\n",
       "      <td>https://www.ncbi.nlm.nih.gov/pmc/articles/PMC7...</td>\n",
       "      <td>Ueyama, Hiroki; Kuno, Toshiki; Takagi, Hisato;...</td>\n",
       "      <td>[OBJECTIVES, Coronavirus, disease, 2019, is, a...</td>\n",
       "    </tr>\n",
       "    <tr>\n",
       "      <th>26202</th>\n",
       "      <td>COVID-19 Related Genes in Sputum Cells in Asth...</td>\n",
       "      <td>BACKGROUND Coronavirus disease 2019 (COVID-19)...</td>\n",
       "      <td>2020-04-29</td>\n",
       "      <td>https://doi.org/10.1164/rccm.202003-0821oc; ht...</td>\n",
       "      <td>Peters, Michael C; Sajuthi, Satria; Deford, Pe...</td>\n",
       "      <td>[BACKGROUND, Coronavirus, disease, 2019, COVID...</td>\n",
       "    </tr>\n",
       "    <tr>\n",
       "      <th>28570</th>\n",
       "      <td>[Mental health status and its influencing fact...</td>\n",
       "      <td>OBJECTIVE To investigate the mental health sta...</td>\n",
       "      <td>2020-02-29</td>\n",
       "      <td>https://doi.org/10.12122/j.issn.1673-4254.2020...</td>\n",
       "      <td>Chang, Jinghui; Yuan, Yuxin; Wang, Dong</td>\n",
       "      <td>[OBJECTIVE, To, investigate, the, mental, heal...</td>\n",
       "    </tr>\n",
       "    <tr>\n",
       "      <th>32217</th>\n",
       "      <td>Implications of COVID-19 for the busy gastroen...</td>\n",
       "      <td>Coronavirus disease 2019 (COVID-19) is an infe...</td>\n",
       "      <td>2020-06-02</td>\n",
       "      <td>https://doi.org/10.1097/meg.0000000000001811; ...</td>\n",
       "      <td>Ferreira-Silva, Joel; Peixoto, Armando; Rodrig...</td>\n",
       "      <td>[Coronavirus, disease, 2019, COVID, 19, is, an...</td>\n",
       "    </tr>\n",
       "  </tbody>\n",
       "</table>\n",
       "</div>"
      ],
      "text/plain": [
       "                                                   title  \\\n",
       "16914    Etiology of the common cold: Modulating factors   \n",
       "25630  Gender Difference Is Associated With Severity ...   \n",
       "26202  COVID-19 Related Genes in Sputum Cells in Asth...   \n",
       "28570  [Mental health status and its influencing fact...   \n",
       "32217  Implications of COVID-19 for the busy gastroen...   \n",
       "\n",
       "                                                abstract publish_time  \\\n",
       "16914  The development of a “cold-like illness” (CLI)...   2009-11-10   \n",
       "25630  OBJECTIVES: Coronavirus disease 2019 is a nove...   2020-06-19   \n",
       "26202  BACKGROUND Coronavirus disease 2019 (COVID-19)...   2020-04-29   \n",
       "28570  OBJECTIVE To investigate the mental health sta...   2020-02-29   \n",
       "32217  Coronavirus disease 2019 (COVID-19) is an infe...   2020-06-02   \n",
       "\n",
       "                                                     url  \\\n",
       "16914  https://www.ncbi.nlm.nih.gov/pmc/articles/PMC7...   \n",
       "25630  https://www.ncbi.nlm.nih.gov/pmc/articles/PMC7...   \n",
       "26202  https://doi.org/10.1164/rccm.202003-0821oc; ht...   \n",
       "28570  https://doi.org/10.12122/j.issn.1673-4254.2020...   \n",
       "32217  https://doi.org/10.1097/meg.0000000000001811; ...   \n",
       "\n",
       "                                                 authors  \\\n",
       "16914                  Doyle, William J.; Cohen, Sheldon   \n",
       "25630  Ueyama, Hiroki; Kuno, Toshiki; Takagi, Hisato;...   \n",
       "26202  Peters, Michael C; Sajuthi, Satria; Deford, Pe...   \n",
       "28570            Chang, Jinghui; Yuan, Yuxin; Wang, Dong   \n",
       "32217  Ferreira-Silva, Joel; Peixoto, Armando; Rodrig...   \n",
       "\n",
       "                                                   words  \n",
       "16914  [The, development, of, a, cold, like, illness,...  \n",
       "25630  [OBJECTIVES, Coronavirus, disease, 2019, is, a...  \n",
       "26202  [BACKGROUND, Coronavirus, disease, 2019, COVID...  \n",
       "28570  [OBJECTIVE, To, investigate, the, mental, heal...  \n",
       "32217  [Coronavirus, disease, 2019, COVID, 19, is, an...  "
      ]
     },
     "execution_count": 26,
     "metadata": {},
     "output_type": "execute_result"
    }
   ],
   "source": [
    "#Articles that we have\n",
    "Q3.head(5)"
   ]
  },
  {
   "cell_type": "markdown",
   "metadata": {},
   "source": [
    "Online Search "
   ]
  },
  {
   "cell_type": "code",
   "execution_count": 39,
   "metadata": {},
   "outputs": [
    {
     "name": "stdout",
     "output_type": "stream",
     "text": [
      "https://www.frontiersin.org/articles/10.3389/fpubh.2020.00152/full\n",
      "https://www.frontiersin.org/articles/10.3389/fpubh.2020.00152/full#h1\n",
      "https://www.frontiersin.org/articles/10.3389/fpubh.2020.00152/full#h4\n",
      "https://www.frontiersin.org/articles/10.3389/fpubh.2020.00152/full#h5\n",
      "https://www.frontiersin.org/articles/10.3389/fpubh.2020.00152/full#h6\n",
      "https://coronavirusexplained.ukri.org/en/article/cad0007/\n",
      "https://www.ncbi.nlm.nih.gov/pmc/articles/PMC7201103/\n",
      "https://www.sciencedirect.com/science/article/pii/S2666084920304332\n",
      "https://theconversation.com/women-are-getting-less-research-done-than-men-during-this-coronavirus-pandemic-138073\n",
      "https://www.sciencemag.org/news/2020/06/why-coronavirus-hits-men-harder-sex-hormones-offer-clues\n"
     ]
    }
   ],
   "source": [
    "try: \n",
    "    from googlesearch import search \n",
    "except ImportError:  \n",
    "    print(\"Error/Not found\") \n",
    "### Browsing the sourses using different search terms: \n",
    "search3_1 = \"research paper male gender Corona\"\n",
    "\n",
    "\n",
    "##limit to the first 10 relevant links:\n",
    "for a in search(search3_1, tld=\"co.in\", num=10, stop=10, pause=2): \n",
    "    print(a)"
   ]
  },
  {
   "cell_type": "markdown",
   "metadata": {},
   "source": [
    "# 4/ Heart Disease"
   ]
  },
  {
   "cell_type": "code",
   "execution_count": 40,
   "metadata": {},
   "outputs": [],
   "source": [
    "#Create different sets with specialized terms  from our questions \n",
    "Q4_a = tablesAbstract[tablesAbstract['abstract'].str.contains('heart disease')]\n",
    "Q4_b = Q4_a[Q4_a['abstract'].str.contains('corona')]"
   ]
  },
  {
   "cell_type": "code",
   "execution_count": 41,
   "metadata": {},
   "outputs": [
    {
     "data": {
      "text/plain": [
       "(173, 6)"
      ]
     },
     "execution_count": 41,
     "metadata": {},
     "output_type": "execute_result"
    }
   ],
   "source": [
    "#Concatenitng the dataframes into one table per question and dropping null value \n",
    "Q4 = pd.concat([Q4_b])\n",
    "Q4.dropna(inplace=True)\n",
    "Q4.shape"
   ]
  },
  {
   "cell_type": "code",
   "execution_count": 43,
   "metadata": {},
   "outputs": [
    {
     "data": {
      "text/html": [
       "<div>\n",
       "<style scoped>\n",
       "    .dataframe tbody tr th:only-of-type {\n",
       "        vertical-align: middle;\n",
       "    }\n",
       "\n",
       "    .dataframe tbody tr th {\n",
       "        vertical-align: top;\n",
       "    }\n",
       "\n",
       "    .dataframe thead th {\n",
       "        text-align: right;\n",
       "    }\n",
       "</style>\n",
       "<table border=\"1\" class=\"dataframe\">\n",
       "  <thead>\n",
       "    <tr style=\"text-align: right;\">\n",
       "      <th></th>\n",
       "      <th>title</th>\n",
       "      <th>abstract</th>\n",
       "      <th>publish_time</th>\n",
       "      <th>url</th>\n",
       "      <th>authors</th>\n",
       "      <th>words</th>\n",
       "    </tr>\n",
       "  </thead>\n",
       "  <tbody>\n",
       "    <tr>\n",
       "      <th>281</th>\n",
       "      <td>Insertion/Deletion Polymorphism of Angiotensin...</td>\n",
       "      <td>Polymorphism of angiotensin converting enzyme ...</td>\n",
       "      <td>2006-04-20</td>\n",
       "      <td>https://www.ncbi.nlm.nih.gov/pmc/articles/PMC2...</td>\n",
       "      <td>Shim, Yoon Hee; Kim, Hae Soon; Sohn, Sejung; H...</td>\n",
       "      <td>[Polymorphism, of, angiotensin, converting, en...</td>\n",
       "    </tr>\n",
       "    <tr>\n",
       "      <th>1858</th>\n",
       "      <td>Interaction between the Natural Components in ...</td>\n",
       "      <td>Danhong injection (DHI) is a widely used Chine...</td>\n",
       "      <td>2015-06-02</td>\n",
       "      <td>https://www.ncbi.nlm.nih.gov/pmc/articles/PMC4...</td>\n",
       "      <td>Hao, Jia; Zhang, Yingyue; Wang, Xingrui; Yan, ...</td>\n",
       "      <td>[Danhong, injection, DHI, is, a, widely, used,...</td>\n",
       "    </tr>\n",
       "    <tr>\n",
       "      <th>4746</th>\n",
       "      <td>The 24-Form Tai Chi Improves Anxiety and Depre...</td>\n",
       "      <td>BACKGROUND: Anxiety and depression are common ...</td>\n",
       "      <td>2020-03-11</td>\n",
       "      <td>https://www.ncbi.nlm.nih.gov/pmc/articles/PMC7...</td>\n",
       "      <td>Liu, Jia; Yu, Ping; Lv, Wei; Wang, Xinxin</td>\n",
       "      <td>[BACKGROUND, Anxiety, and, depression, are, co...</td>\n",
       "    </tr>\n",
       "    <tr>\n",
       "      <th>6256</th>\n",
       "      <td>Dilated cardiomyopathy</td>\n",
       "      <td>Dilated cardiomyopathy (DCM) is a clinical dia...</td>\n",
       "      <td>2019-05-09</td>\n",
       "      <td>https://www.ncbi.nlm.nih.gov/pmc/articles/PMC7...</td>\n",
       "      <td>Schultheiss, Heinz-Peter; Fairweather, DeLisa;...</td>\n",
       "      <td>[Dilated, cardiomyopathy, DCM, is, a, clinical...</td>\n",
       "    </tr>\n",
       "    <tr>\n",
       "      <th>6407</th>\n",
       "      <td>Relationship between circulating levels of ang...</td>\n",
       "      <td>As a counter-regulatory arm of the renin angio...</td>\n",
       "      <td>2019-07-29</td>\n",
       "      <td>https://www.ncbi.nlm.nih.gov/pmc/articles/PMC7...</td>\n",
       "      <td>Zhou, Xiaomin; Zhang, Ping; Liang, Tao; Chen, ...</td>\n",
       "      <td>[As, a, counter, regulatory, arm, of, the, ren...</td>\n",
       "    </tr>\n",
       "  </tbody>\n",
       "</table>\n",
       "</div>"
      ],
      "text/plain": [
       "                                                  title  \\\n",
       "281   Insertion/Deletion Polymorphism of Angiotensin...   \n",
       "1858  Interaction between the Natural Components in ...   \n",
       "4746  The 24-Form Tai Chi Improves Anxiety and Depre...   \n",
       "6256                             Dilated cardiomyopathy   \n",
       "6407  Relationship between circulating levels of ang...   \n",
       "\n",
       "                                               abstract publish_time  \\\n",
       "281   Polymorphism of angiotensin converting enzyme ...   2006-04-20   \n",
       "1858  Danhong injection (DHI) is a widely used Chine...   2015-06-02   \n",
       "4746  BACKGROUND: Anxiety and depression are common ...   2020-03-11   \n",
       "6256  Dilated cardiomyopathy (DCM) is a clinical dia...   2019-05-09   \n",
       "6407  As a counter-regulatory arm of the renin angio...   2019-07-29   \n",
       "\n",
       "                                                    url  \\\n",
       "281   https://www.ncbi.nlm.nih.gov/pmc/articles/PMC2...   \n",
       "1858  https://www.ncbi.nlm.nih.gov/pmc/articles/PMC4...   \n",
       "4746  https://www.ncbi.nlm.nih.gov/pmc/articles/PMC7...   \n",
       "6256  https://www.ncbi.nlm.nih.gov/pmc/articles/PMC7...   \n",
       "6407  https://www.ncbi.nlm.nih.gov/pmc/articles/PMC7...   \n",
       "\n",
       "                                                authors  \\\n",
       "281   Shim, Yoon Hee; Kim, Hae Soon; Sohn, Sejung; H...   \n",
       "1858  Hao, Jia; Zhang, Yingyue; Wang, Xingrui; Yan, ...   \n",
       "4746          Liu, Jia; Yu, Ping; Lv, Wei; Wang, Xinxin   \n",
       "6256  Schultheiss, Heinz-Peter; Fairweather, DeLisa;...   \n",
       "6407  Zhou, Xiaomin; Zhang, Ping; Liang, Tao; Chen, ...   \n",
       "\n",
       "                                                  words  \n",
       "281   [Polymorphism, of, angiotensin, converting, en...  \n",
       "1858  [Danhong, injection, DHI, is, a, widely, used,...  \n",
       "4746  [BACKGROUND, Anxiety, and, depression, are, co...  \n",
       "6256  [Dilated, cardiomyopathy, DCM, is, a, clinical...  \n",
       "6407  [As, a, counter, regulatory, arm, of, the, ren...  "
      ]
     },
     "execution_count": 43,
     "metadata": {},
     "output_type": "execute_result"
    }
   ],
   "source": [
    "#Articles that we have\n",
    "Q4.head(5)"
   ]
  },
  {
   "cell_type": "markdown",
   "metadata": {},
   "source": [
    "Online Search "
   ]
  },
  {
   "cell_type": "code",
   "execution_count": 44,
   "metadata": {},
   "outputs": [
    {
     "name": "stdout",
     "output_type": "stream",
     "text": [
      "https://www.ncbi.nlm.nih.gov/pmc/articles/PMC7138145/\n",
      "https://hms.harvard.edu/news/coronavirus-heart\n",
      "https://www.pennmedicine.org/updates/blogs/heart-and-vascular-blog/2020/june/coronavirus-and-heart-disease\n",
      "https://www.nature.com/articles/s41440-020-0461-x\n",
      "https://www.heart.org/en/coronavirus\n",
      "https://cpr.heart.org/en/resources/coronavirus-covid19-resources-for-cpr-training\n",
      "https://www.heart.org/en/coronavirus/coronavirus-covid-19-resources/coronavirus-precautions-for-patients-and-others-facing-higher-risks\n",
      "https://www.heart.org/en/coronavirus/coronavirus-questions\n",
      "https://jamanetwork.com/journals/jamacardiology/fullarticle/2763846\n",
      "https://www.ahajournals.org/doi/10.1161/CIRCULATIONAHA.120.046941\n"
     ]
    }
   ],
   "source": [
    "try: \n",
    "    from googlesearch import search \n",
    "except ImportError:  \n",
    "    print(\"Error/Not found\") \n",
    "### Browsing the sourses using different search terms: \n",
    "search4_1 = \"research paper heart disease Corona\"\n",
    "\n",
    "\n",
    "##limit to the first 10 relevant links:\n",
    "for a in search(search4_1, tld=\"co.in\", num=10, stop=10, pause=2): \n",
    "    print(a)"
   ]
  },
  {
   "cell_type": "markdown",
   "metadata": {},
   "source": [
    "# 5/ COPD"
   ]
  },
  {
   "cell_type": "code",
   "execution_count": 52,
   "metadata": {},
   "outputs": [],
   "source": [
    "#Create different sets with specialized terms  from our questions \n",
    "Q5_a = tablesAbstract[tablesAbstract['abstract'].str.contains('Chronic obstructive pulmonary disease')]\n",
    "Q5_b = Q5_a[Q5_a['abstract'].str.contains('corona')]"
   ]
  },
  {
   "cell_type": "code",
   "execution_count": 53,
   "metadata": {},
   "outputs": [
    {
     "data": {
      "text/plain": [
       "(3, 6)"
      ]
     },
     "execution_count": 53,
     "metadata": {},
     "output_type": "execute_result"
    }
   ],
   "source": [
    "#Concatenitng the dataframes into one table per question and dropping null value \n",
    "Q5 = pd.concat([Q5_b])\n",
    "Q5.dropna(inplace=True)\n",
    "Q5.shape"
   ]
  },
  {
   "cell_type": "code",
   "execution_count": 54,
   "metadata": {},
   "outputs": [
    {
     "data": {
      "text/html": [
       "<div>\n",
       "<style scoped>\n",
       "    .dataframe tbody tr th:only-of-type {\n",
       "        vertical-align: middle;\n",
       "    }\n",
       "\n",
       "    .dataframe tbody tr th {\n",
       "        vertical-align: top;\n",
       "    }\n",
       "\n",
       "    .dataframe thead th {\n",
       "        text-align: right;\n",
       "    }\n",
       "</style>\n",
       "<table border=\"1\" class=\"dataframe\">\n",
       "  <thead>\n",
       "    <tr style=\"text-align: right;\">\n",
       "      <th></th>\n",
       "      <th>title</th>\n",
       "      <th>abstract</th>\n",
       "      <th>publish_time</th>\n",
       "      <th>url</th>\n",
       "      <th>authors</th>\n",
       "      <th>words</th>\n",
       "    </tr>\n",
       "  </thead>\n",
       "  <tbody>\n",
       "    <tr>\n",
       "      <th>64138</th>\n",
       "      <td>Flavonoids isolated from loquat (Eriobotrya ja...</td>\n",
       "      <td>Chronic obstructive pulmonary disease (COPD) i...</td>\n",
       "      <td>2020-04-07</td>\n",
       "      <td>https://doi.org/10.1039/c9fo02921d; https://ww...</td>\n",
       "      <td>Jian, Tunyu; Chen, Jian; Ding, Xiaoqin; Lv, Ha...</td>\n",
       "      <td>[Chronic, obstructive, pulmonary, disease, COP...</td>\n",
       "    </tr>\n",
       "    <tr>\n",
       "      <th>151686</th>\n",
       "      <td>Virus-induced exacerbations in asthma and COPD</td>\n",
       "      <td>Chronic obstructive pulmonary disease (COPD) i...</td>\n",
       "      <td>2013-10-01</td>\n",
       "      <td>https://www.ncbi.nlm.nih.gov/pubmed/24098299/;...</td>\n",
       "      <td>Kurai, Daisuke; Saraya, Takeshi; Ishii, Haruyu...</td>\n",
       "      <td>[Chronic, obstructive, pulmonary, disease, COP...</td>\n",
       "    </tr>\n",
       "    <tr>\n",
       "      <th>162014</th>\n",
       "      <td>Microbial burden and viral exacerbations in a ...</td>\n",
       "      <td>BACKGROUND: Chronic obstructive pulmonary dise...</td>\n",
       "      <td>2020-03-30</td>\n",
       "      <td>https://doi.org/10.1186/s12931-020-01340-0; ht...</td>\n",
       "      <td>Bouquet, Jerome; Tabor, David E.; Silver, Jona...</td>\n",
       "      <td>[BACKGROUND, Chronic, obstructive, pulmonary, ...</td>\n",
       "    </tr>\n",
       "  </tbody>\n",
       "</table>\n",
       "</div>"
      ],
      "text/plain": [
       "                                                    title  \\\n",
       "64138   Flavonoids isolated from loquat (Eriobotrya ja...   \n",
       "151686     Virus-induced exacerbations in asthma and COPD   \n",
       "162014  Microbial burden and viral exacerbations in a ...   \n",
       "\n",
       "                                                 abstract publish_time  \\\n",
       "64138   Chronic obstructive pulmonary disease (COPD) i...   2020-04-07   \n",
       "151686  Chronic obstructive pulmonary disease (COPD) i...   2013-10-01   \n",
       "162014  BACKGROUND: Chronic obstructive pulmonary dise...   2020-03-30   \n",
       "\n",
       "                                                      url  \\\n",
       "64138   https://doi.org/10.1039/c9fo02921d; https://ww...   \n",
       "151686  https://www.ncbi.nlm.nih.gov/pubmed/24098299/;...   \n",
       "162014  https://doi.org/10.1186/s12931-020-01340-0; ht...   \n",
       "\n",
       "                                                  authors  \\\n",
       "64138   Jian, Tunyu; Chen, Jian; Ding, Xiaoqin; Lv, Ha...   \n",
       "151686  Kurai, Daisuke; Saraya, Takeshi; Ishii, Haruyu...   \n",
       "162014  Bouquet, Jerome; Tabor, David E.; Silver, Jona...   \n",
       "\n",
       "                                                    words  \n",
       "64138   [Chronic, obstructive, pulmonary, disease, COP...  \n",
       "151686  [Chronic, obstructive, pulmonary, disease, COP...  \n",
       "162014  [BACKGROUND, Chronic, obstructive, pulmonary, ...  "
      ]
     },
     "execution_count": 54,
     "metadata": {},
     "output_type": "execute_result"
    }
   ],
   "source": [
    "#Articles that we have\n",
    "Q5.head(5)"
   ]
  },
  {
   "cell_type": "markdown",
   "metadata": {},
   "source": [
    "Online Search "
   ]
  },
  {
   "cell_type": "code",
   "execution_count": 55,
   "metadata": {
    "scrolled": true
   },
   "outputs": [
    {
     "name": "stdout",
     "output_type": "stream",
     "text": [
      "https://www.ncbi.nlm.nih.gov/pmc/articles/PMC7138145/\n",
      "https://hms.harvard.edu/news/coronavirus-heart\n",
      "https://www.pennmedicine.org/updates/blogs/heart-and-vascular-blog/2020/june/coronavirus-and-heart-disease\n",
      "https://www.nature.com/articles/s41440-020-0461-x\n",
      "https://www.heart.org/en/coronavirus\n",
      "https://cpr.heart.org/en/resources/coronavirus-covid19-resources-for-cpr-training\n",
      "https://www.heart.org/en/coronavirus/coronavirus-covid-19-resources/coronavirus-precautions-for-patients-and-others-facing-higher-risks\n",
      "https://www.heart.org/en/coronavirus/coronavirus-questions\n",
      "https://jamanetwork.com/journals/jamacardiology/fullarticle/2763846\n",
      "https://www.ahajournals.org/doi/10.1161/CIRCULATIONAHA.120.046941\n"
     ]
    }
   ],
   "source": [
    "try: \n",
    "    from googlesearch import search \n",
    "except ImportError:  \n",
    "    print(\"Error/Not found\") \n",
    "### Browsing the sourses using different search terms: \n",
    "search5_1 = \"research paper heart disease Corona\"\n",
    "\n",
    "\n",
    "##limit to the first 10 relevant links:\n",
    "for a in search(search5_1, tld=\"co.in\", num=10, stop=10, pause=2): \n",
    "    print(a)"
   ]
  },
  {
   "cell_type": "markdown",
   "metadata": {},
   "source": [
    "# 6/ Smoking Status"
   ]
  },
  {
   "cell_type": "code",
   "execution_count": 68,
   "metadata": {},
   "outputs": [],
   "source": [
    "#Create different sets with specialized terms  from our questions \n",
    "Q6_a = tablesAbstract[tablesAbstract['abstract'].str.contains('smoking status')]\n",
    "Q6_b = tablesAbstract[tablesAbstract['abstract'].str.contains('smoking habit')]\n",
    "Q6_c = tablesAbstract[tablesAbstract['abstract'].str.contains('smoke')]\n",
    "Q6_d = Q6_a[Q6_a['abstract'].str.contains('corona')]\n",
    "Q6_e = Q6_b[Q6_b['abstract'].str.contains('corona')]\n",
    "Q6_f = Q6_c[Q6_c['abstract'].str.contains('corona')]"
   ]
  },
  {
   "cell_type": "code",
   "execution_count": 69,
   "metadata": {},
   "outputs": [
    {
     "data": {
      "text/plain": [
       "(96, 6)"
      ]
     },
     "execution_count": 69,
     "metadata": {},
     "output_type": "execute_result"
    }
   ],
   "source": [
    "#Concatenitng the dataframes into one table per question and dropping null value \n",
    "Q6 = pd.concat([Q6_d,Q6_e,Q6_f])\n",
    "Q6.dropna(inplace=True)\n",
    "Q6.shape"
   ]
  },
  {
   "cell_type": "code",
   "execution_count": 70,
   "metadata": {},
   "outputs": [
    {
     "data": {
      "text/html": [
       "<div>\n",
       "<style scoped>\n",
       "    .dataframe tbody tr th:only-of-type {\n",
       "        vertical-align: middle;\n",
       "    }\n",
       "\n",
       "    .dataframe tbody tr th {\n",
       "        vertical-align: top;\n",
       "    }\n",
       "\n",
       "    .dataframe thead th {\n",
       "        text-align: right;\n",
       "    }\n",
       "</style>\n",
       "<table border=\"1\" class=\"dataframe\">\n",
       "  <thead>\n",
       "    <tr style=\"text-align: right;\">\n",
       "      <th></th>\n",
       "      <th>title</th>\n",
       "      <th>abstract</th>\n",
       "      <th>publish_time</th>\n",
       "      <th>url</th>\n",
       "      <th>authors</th>\n",
       "      <th>words</th>\n",
       "    </tr>\n",
       "  </thead>\n",
       "  <tbody>\n",
       "    <tr>\n",
       "      <th>13227</th>\n",
       "      <td>Coronavirus Infection in Hematopoietic Stem Ce...</td>\n",
       "      <td>BACKGROUND: Hematopoietic stem cell transplant...</td>\n",
       "      <td>2017-10-04</td>\n",
       "      <td>https://www.ncbi.nlm.nih.gov/pmc/articles/PMC7...</td>\n",
       "      <td>Eichenberger, Emily; Satlin, Michael; Zappetti...</td>\n",
       "      <td>[BACKGROUND, Hematopoietic, stem, cell, transp...</td>\n",
       "    </tr>\n",
       "    <tr>\n",
       "      <th>32627</th>\n",
       "      <td>Effect of Smoking on Infarct Size and Major Ad...</td>\n",
       "      <td>We sought to investigate the effect of smoking...</td>\n",
       "      <td>2016</td>\n",
       "      <td>https://doi.org/10.1016/j.amjcard.2016.07.019;...</td>\n",
       "      <td>Gennaro, Giustino; Brener, Sorin J; Redfors, B...</td>\n",
       "      <td>[We, sought, to, investigate, the, effect, of,...</td>\n",
       "    </tr>\n",
       "    <tr>\n",
       "      <th>36101</th>\n",
       "      <td>Gender differences in the frequency of gastroi...</td>\n",
       "      <td>INTRODUCTION The Coronavirus Disease 2019 (COV...</td>\n",
       "      <td>2020-06-03</td>\n",
       "      <td>https://doi.org/10.20452/pamw.15414; https://w...</td>\n",
       "      <td>Sierpiński, Radosław; Pinkas, Jarosław; Jankow...</td>\n",
       "      <td>[INTRODUCTION, The, Coronavirus, Disease, 2019...</td>\n",
       "    </tr>\n",
       "    <tr>\n",
       "      <th>46614</th>\n",
       "      <td>Impact of PD-1 blockade on severity of COVID-1...</td>\n",
       "      <td>The coronavirus disease 2019 (COVID-19) pandem...</td>\n",
       "      <td>2020-05-12</td>\n",
       "      <td>https://doi.org/10.1158/2159-8290.cd-20-0596; ...</td>\n",
       "      <td>Luo, Jia; Rizvi, Hira; Egger, Jacklynn V; Pree...</td>\n",
       "      <td>[The, coronavirus, disease, 2019, COVID, 19, p...</td>\n",
       "    </tr>\n",
       "    <tr>\n",
       "      <th>51967</th>\n",
       "      <td>Development of a nucleocapsid-based human coro...</td>\n",
       "      <td>Coronaviruses cause respiratory infections ran...</td>\n",
       "      <td>2008</td>\n",
       "      <td>https://doi.org/10.1128/cvi.00124-08; https://...</td>\n",
       "      <td>Severance, Emily G; Bossis, Ioannis; Dickerson...</td>\n",
       "      <td>[Coronaviruses, cause, respiratory, infections...</td>\n",
       "    </tr>\n",
       "  </tbody>\n",
       "</table>\n",
       "</div>"
      ],
      "text/plain": [
       "                                                   title  \\\n",
       "13227  Coronavirus Infection in Hematopoietic Stem Ce...   \n",
       "32627  Effect of Smoking on Infarct Size and Major Ad...   \n",
       "36101  Gender differences in the frequency of gastroi...   \n",
       "46614  Impact of PD-1 blockade on severity of COVID-1...   \n",
       "51967  Development of a nucleocapsid-based human coro...   \n",
       "\n",
       "                                                abstract publish_time  \\\n",
       "13227  BACKGROUND: Hematopoietic stem cell transplant...   2017-10-04   \n",
       "32627  We sought to investigate the effect of smoking...         2016   \n",
       "36101  INTRODUCTION The Coronavirus Disease 2019 (COV...   2020-06-03   \n",
       "46614  The coronavirus disease 2019 (COVID-19) pandem...   2020-05-12   \n",
       "51967  Coronaviruses cause respiratory infections ran...         2008   \n",
       "\n",
       "                                                     url  \\\n",
       "13227  https://www.ncbi.nlm.nih.gov/pmc/articles/PMC7...   \n",
       "32627  https://doi.org/10.1016/j.amjcard.2016.07.019;...   \n",
       "36101  https://doi.org/10.20452/pamw.15414; https://w...   \n",
       "46614  https://doi.org/10.1158/2159-8290.cd-20-0596; ...   \n",
       "51967  https://doi.org/10.1128/cvi.00124-08; https://...   \n",
       "\n",
       "                                                 authors  \\\n",
       "13227  Eichenberger, Emily; Satlin, Michael; Zappetti...   \n",
       "32627  Gennaro, Giustino; Brener, Sorin J; Redfors, B...   \n",
       "36101  Sierpiński, Radosław; Pinkas, Jarosław; Jankow...   \n",
       "46614  Luo, Jia; Rizvi, Hira; Egger, Jacklynn V; Pree...   \n",
       "51967  Severance, Emily G; Bossis, Ioannis; Dickerson...   \n",
       "\n",
       "                                                   words  \n",
       "13227  [BACKGROUND, Hematopoietic, stem, cell, transp...  \n",
       "32627  [We, sought, to, investigate, the, effect, of,...  \n",
       "36101  [INTRODUCTION, The, Coronavirus, Disease, 2019...  \n",
       "46614  [The, coronavirus, disease, 2019, COVID, 19, p...  \n",
       "51967  [Coronaviruses, cause, respiratory, infections...  "
      ]
     },
     "execution_count": 70,
     "metadata": {},
     "output_type": "execute_result"
    }
   ],
   "source": [
    "#Articles that we have\n",
    "Q6.head(5)"
   ]
  },
  {
   "cell_type": "markdown",
   "metadata": {},
   "source": [
    "Online Search "
   ]
  },
  {
   "cell_type": "code",
   "execution_count": 72,
   "metadata": {},
   "outputs": [
    {
     "name": "stdout",
     "output_type": "stream",
     "text": [
      "https://www.ncbi.nlm.nih.gov/pmc/articles/PMC7083240/\n",
      "https://www.who.int/news-room/commentaries/detail/smoking-and-covid-19\n",
      "https://www.ucsf.edu/news/2020/05/417411/smoking-nearly-doubles-rate-covid-19-progression\n",
      "https://www.mdedge.com/internalmedicine/article/221006/coronavirus-updates/researchers-investigate-impact-smoking-covid-19\n",
      "https://www.qeios.com/read/UJR2AW.5\n",
      "https://www.qeios.com/read/UJR2AW.3\n",
      "https://academic.oup.com/ntr/advance-article/doi/10.1093/ntr/ntaa082/5835834\n",
      "https://academic.oup.com/ntr/article/doi/10.1093/ntr/ntaa059/5815378\n",
      "http://www.tobaccoinduceddiseases.org/COVID-19-and-smoking-A-systematic-review-of-the-evidence,119324,0,2.html\n",
      "https://hospitalhealthcare.com/covid-19/are-smokers-protected-from-covid-19/\n"
     ]
    }
   ],
   "source": [
    "try: \n",
    "    from googlesearch import search \n",
    "except ImportError:  \n",
    "    print(\"Error/Not found\") \n",
    "### Browsing the sourses using different search terms: \n",
    "search6_1 = \"research paper Smoking Status Corona\"\n",
    "\n",
    "\n",
    "##limit to the first 10 relevant links:\n",
    "for a in search(search6_1, tld=\"co.in\", num=10, stop=10, pause=2): \n",
    "    print(a)"
   ]
  },
  {
   "cell_type": "markdown",
   "metadata": {},
   "source": [
    "# 7/ Age"
   ]
  },
  {
   "cell_type": "code",
   "execution_count": 79,
   "metadata": {},
   "outputs": [],
   "source": [
    "#Create different sets with specialized terms  from our questions \n",
    "Q7_a = tablesAbstract[tablesAbstract['abstract'].str.contains('age')]\n",
    "Q7_b = Q7_a[Q7_a['abstract'].str.contains('corona')]\n"
   ]
  },
  {
   "cell_type": "code",
   "execution_count": 80,
   "metadata": {},
   "outputs": [
    {
     "data": {
      "text/plain": [
       "(9539, 6)"
      ]
     },
     "execution_count": 80,
     "metadata": {},
     "output_type": "execute_result"
    }
   ],
   "source": [
    "#Concatenitng the dataframes into one table per question and dropping null value \n",
    "Q7 = pd.concat([Q7_b])\n",
    "Q7.dropna(inplace=True)\n",
    "Q7.shape"
   ]
  },
  {
   "cell_type": "code",
   "execution_count": 81,
   "metadata": {},
   "outputs": [
    {
     "data": {
      "text/html": [
       "<div>\n",
       "<style scoped>\n",
       "    .dataframe tbody tr th:only-of-type {\n",
       "        vertical-align: middle;\n",
       "    }\n",
       "\n",
       "    .dataframe tbody tr th {\n",
       "        vertical-align: top;\n",
       "    }\n",
       "\n",
       "    .dataframe thead th {\n",
       "        text-align: right;\n",
       "    }\n",
       "</style>\n",
       "<table border=\"1\" class=\"dataframe\">\n",
       "  <thead>\n",
       "    <tr style=\"text-align: right;\">\n",
       "      <th></th>\n",
       "      <th>title</th>\n",
       "      <th>abstract</th>\n",
       "      <th>publish_time</th>\n",
       "      <th>url</th>\n",
       "      <th>authors</th>\n",
       "      <th>words</th>\n",
       "    </tr>\n",
       "  </thead>\n",
       "  <tbody>\n",
       "    <tr>\n",
       "      <th>705</th>\n",
       "      <td>Normal variation in thermal radiated temperatu...</td>\n",
       "      <td>BACKGROUND: Thermal imagers have been used in ...</td>\n",
       "      <td>2011-11-21</td>\n",
       "      <td>https://www.ncbi.nlm.nih.gov/pmc/articles/PMC3...</td>\n",
       "      <td>Gloster, John; Ebert, Katja; Gubbins, Simon; B...</td>\n",
       "      <td>[BACKGROUND, Thermal, imagers, have, been, use...</td>\n",
       "    </tr>\n",
       "    <tr>\n",
       "      <th>941</th>\n",
       "      <td>Serum Levels of Gelatinase Associated Lipocali...</td>\n",
       "      <td>Background. Atherosclerosis is a chronic infla...</td>\n",
       "      <td>2012-09-04</td>\n",
       "      <td>https://www.ncbi.nlm.nih.gov/pmc/articles/PMC3...</td>\n",
       "      <td>Kafkas, Nikolaos; Demponeras, Christos; Zoubou...</td>\n",
       "      <td>[Background, Atherosclerosis, is, a, chronic, ...</td>\n",
       "    </tr>\n",
       "    <tr>\n",
       "      <th>1274</th>\n",
       "      <td>CD13 is essential for inflammatory trafficking...</td>\n",
       "      <td>AIMS: To determine the role of CD13 as an adhe...</td>\n",
       "      <td>2013-06-12</td>\n",
       "      <td>https://academic.oup.com/cardiovascres/article...</td>\n",
       "      <td>Pereira, Flavia E.; Cronin, Chunxia; Ghosh, Ma...</td>\n",
       "      <td>[AIMS, To, determine, the, role, of, CD13, as,...</td>\n",
       "    </tr>\n",
       "    <tr>\n",
       "      <th>1527</th>\n",
       "      <td>From gene to protein—experimental and clinical...</td>\n",
       "      <td>Hypertension is a major risk factor for stroke...</td>\n",
       "      <td>2014-06-24</td>\n",
       "      <td>https://www.ncbi.nlm.nih.gov/pmc/articles/PMC4...</td>\n",
       "      <td>Patel, Sheila K.; Velkoska, Elena; Freeman, Me...</td>\n",
       "      <td>[Hypertension, is, a, major, risk, factor, for...</td>\n",
       "    </tr>\n",
       "    <tr>\n",
       "      <th>2089</th>\n",
       "      <td>Acute respiratory distress syndrome and acute ...</td>\n",
       "      <td>BACKGROUND: Influenza B virus infection is gen...</td>\n",
       "      <td>2016-01-04</td>\n",
       "      <td>https://www.ncbi.nlm.nih.gov/pmc/articles/PMC4...</td>\n",
       "      <td>Chang, Hsu-Liang; Hsu, Jui-Feng; Tsai, Ying-Mi...</td>\n",
       "      <td>[BACKGROUND, Influenza, B, virus, infection, i...</td>\n",
       "    </tr>\n",
       "  </tbody>\n",
       "</table>\n",
       "</div>"
      ],
      "text/plain": [
       "                                                  title  \\\n",
       "705   Normal variation in thermal radiated temperatu...   \n",
       "941   Serum Levels of Gelatinase Associated Lipocali...   \n",
       "1274  CD13 is essential for inflammatory trafficking...   \n",
       "1527  From gene to protein—experimental and clinical...   \n",
       "2089  Acute respiratory distress syndrome and acute ...   \n",
       "\n",
       "                                               abstract publish_time  \\\n",
       "705   BACKGROUND: Thermal imagers have been used in ...   2011-11-21   \n",
       "941   Background. Atherosclerosis is a chronic infla...   2012-09-04   \n",
       "1274  AIMS: To determine the role of CD13 as an adhe...   2013-06-12   \n",
       "1527  Hypertension is a major risk factor for stroke...   2014-06-24   \n",
       "2089  BACKGROUND: Influenza B virus infection is gen...   2016-01-04   \n",
       "\n",
       "                                                    url  \\\n",
       "705   https://www.ncbi.nlm.nih.gov/pmc/articles/PMC3...   \n",
       "941   https://www.ncbi.nlm.nih.gov/pmc/articles/PMC3...   \n",
       "1274  https://academic.oup.com/cardiovascres/article...   \n",
       "1527  https://www.ncbi.nlm.nih.gov/pmc/articles/PMC4...   \n",
       "2089  https://www.ncbi.nlm.nih.gov/pmc/articles/PMC4...   \n",
       "\n",
       "                                                authors  \\\n",
       "705   Gloster, John; Ebert, Katja; Gubbins, Simon; B...   \n",
       "941   Kafkas, Nikolaos; Demponeras, Christos; Zoubou...   \n",
       "1274  Pereira, Flavia E.; Cronin, Chunxia; Ghosh, Ma...   \n",
       "1527  Patel, Sheila K.; Velkoska, Elena; Freeman, Me...   \n",
       "2089  Chang, Hsu-Liang; Hsu, Jui-Feng; Tsai, Ying-Mi...   \n",
       "\n",
       "                                                  words  \n",
       "705   [BACKGROUND, Thermal, imagers, have, been, use...  \n",
       "941   [Background, Atherosclerosis, is, a, chronic, ...  \n",
       "1274  [AIMS, To, determine, the, role, of, CD13, as,...  \n",
       "1527  [Hypertension, is, a, major, risk, factor, for...  \n",
       "2089  [BACKGROUND, Influenza, B, virus, infection, i...  "
      ]
     },
     "execution_count": 81,
     "metadata": {},
     "output_type": "execute_result"
    }
   ],
   "source": [
    "#Articles that we have\n",
    "Q7.head(5)"
   ]
  },
  {
   "cell_type": "markdown",
   "metadata": {},
   "source": [
    "Online Search "
   ]
  },
  {
   "cell_type": "code",
   "execution_count": 82,
   "metadata": {
    "scrolled": true
   },
   "outputs": [
    {
     "name": "stdout",
     "output_type": "stream",
     "text": [
      "https://www.nature.com/articles/s41591-020-0962-9\n",
      "https://www.thelancet.com/journals/lancet/article/PIIS0140-6736(20)30854-0/fulltext\n",
      "https://www.thelancet.com/journals/laninf/article/PIIS1473-3099(20)30243-7/fulltext\n",
      "https://www.cdc.gov/mmwr/volumes/69/wr/mm6915e3.htm\n",
      "https://www.apa.org/topics/covid-19/research-ageism\n",
      "https://www.medrxiv.org/content/10.1101/2020.05.13.20101253v3\n",
      "https://www.statnews.com/2020/03/03/who-is-getting-sick-and-how-sick-a-breakdown-of-coronavirus-risk-by-demographic-factors/\n",
      "https://www.pnas.org/content/117/18/9696\n",
      "https://jamanetwork.com/journals/jama/fullarticle/2761659\n",
      "https://www.nejm.org/doi/full/10.1056/NEJMp2006761\n"
     ]
    }
   ],
   "source": [
    "try: \n",
    "    from googlesearch import search \n",
    "except ImportError:  \n",
    "    print(\"Error/Not found\") \n",
    "### Browsing the sourses using different search terms: \n",
    "search7_1 = \"research paper age and Corona\"\n",
    "\n",
    "\n",
    "##limit to the first 10 relevant links:\n",
    "for a in search(search7_1, tld=\"co.in\", num=10, stop=10, pause=2): \n",
    "    print(a)"
   ]
  },
  {
   "cell_type": "markdown",
   "metadata": {},
   "source": [
    "# 8/ Cerebrovascular disease\n"
   ]
  },
  {
   "cell_type": "code",
   "execution_count": 79,
   "metadata": {},
   "outputs": [],
   "source": [
    "#Create different sets with specialized terms  from our questions \n",
    "Q7_a = tablesAbstract[tablesAbstract['abstract'].str.contains('age')]\n",
    "Q7_b = Q7_a[Q7_a['abstract'].str.contains('corona')]\n"
   ]
  },
  {
   "cell_type": "code",
   "execution_count": 80,
   "metadata": {},
   "outputs": [
    {
     "data": {
      "text/plain": [
       "(9539, 6)"
      ]
     },
     "execution_count": 80,
     "metadata": {},
     "output_type": "execute_result"
    }
   ],
   "source": [
    "#Concatenitng the dataframes into one table per question and dropping null value \n",
    "Q7 = pd.concat([Q7_b])\n",
    "Q7.dropna(inplace=True)\n",
    "Q7.shape"
   ]
  },
  {
   "cell_type": "code",
   "execution_count": 81,
   "metadata": {},
   "outputs": [
    {
     "data": {
      "text/html": [
       "<div>\n",
       "<style scoped>\n",
       "    .dataframe tbody tr th:only-of-type {\n",
       "        vertical-align: middle;\n",
       "    }\n",
       "\n",
       "    .dataframe tbody tr th {\n",
       "        vertical-align: top;\n",
       "    }\n",
       "\n",
       "    .dataframe thead th {\n",
       "        text-align: right;\n",
       "    }\n",
       "</style>\n",
       "<table border=\"1\" class=\"dataframe\">\n",
       "  <thead>\n",
       "    <tr style=\"text-align: right;\">\n",
       "      <th></th>\n",
       "      <th>title</th>\n",
       "      <th>abstract</th>\n",
       "      <th>publish_time</th>\n",
       "      <th>url</th>\n",
       "      <th>authors</th>\n",
       "      <th>words</th>\n",
       "    </tr>\n",
       "  </thead>\n",
       "  <tbody>\n",
       "    <tr>\n",
       "      <th>705</th>\n",
       "      <td>Normal variation in thermal radiated temperatu...</td>\n",
       "      <td>BACKGROUND: Thermal imagers have been used in ...</td>\n",
       "      <td>2011-11-21</td>\n",
       "      <td>https://www.ncbi.nlm.nih.gov/pmc/articles/PMC3...</td>\n",
       "      <td>Gloster, John; Ebert, Katja; Gubbins, Simon; B...</td>\n",
       "      <td>[BACKGROUND, Thermal, imagers, have, been, use...</td>\n",
       "    </tr>\n",
       "    <tr>\n",
       "      <th>941</th>\n",
       "      <td>Serum Levels of Gelatinase Associated Lipocali...</td>\n",
       "      <td>Background. Atherosclerosis is a chronic infla...</td>\n",
       "      <td>2012-09-04</td>\n",
       "      <td>https://www.ncbi.nlm.nih.gov/pmc/articles/PMC3...</td>\n",
       "      <td>Kafkas, Nikolaos; Demponeras, Christos; Zoubou...</td>\n",
       "      <td>[Background, Atherosclerosis, is, a, chronic, ...</td>\n",
       "    </tr>\n",
       "    <tr>\n",
       "      <th>1274</th>\n",
       "      <td>CD13 is essential for inflammatory trafficking...</td>\n",
       "      <td>AIMS: To determine the role of CD13 as an adhe...</td>\n",
       "      <td>2013-06-12</td>\n",
       "      <td>https://academic.oup.com/cardiovascres/article...</td>\n",
       "      <td>Pereira, Flavia E.; Cronin, Chunxia; Ghosh, Ma...</td>\n",
       "      <td>[AIMS, To, determine, the, role, of, CD13, as,...</td>\n",
       "    </tr>\n",
       "    <tr>\n",
       "      <th>1527</th>\n",
       "      <td>From gene to protein—experimental and clinical...</td>\n",
       "      <td>Hypertension is a major risk factor for stroke...</td>\n",
       "      <td>2014-06-24</td>\n",
       "      <td>https://www.ncbi.nlm.nih.gov/pmc/articles/PMC4...</td>\n",
       "      <td>Patel, Sheila K.; Velkoska, Elena; Freeman, Me...</td>\n",
       "      <td>[Hypertension, is, a, major, risk, factor, for...</td>\n",
       "    </tr>\n",
       "    <tr>\n",
       "      <th>2089</th>\n",
       "      <td>Acute respiratory distress syndrome and acute ...</td>\n",
       "      <td>BACKGROUND: Influenza B virus infection is gen...</td>\n",
       "      <td>2016-01-04</td>\n",
       "      <td>https://www.ncbi.nlm.nih.gov/pmc/articles/PMC4...</td>\n",
       "      <td>Chang, Hsu-Liang; Hsu, Jui-Feng; Tsai, Ying-Mi...</td>\n",
       "      <td>[BACKGROUND, Influenza, B, virus, infection, i...</td>\n",
       "    </tr>\n",
       "  </tbody>\n",
       "</table>\n",
       "</div>"
      ],
      "text/plain": [
       "                                                  title  \\\n",
       "705   Normal variation in thermal radiated temperatu...   \n",
       "941   Serum Levels of Gelatinase Associated Lipocali...   \n",
       "1274  CD13 is essential for inflammatory trafficking...   \n",
       "1527  From gene to protein—experimental and clinical...   \n",
       "2089  Acute respiratory distress syndrome and acute ...   \n",
       "\n",
       "                                               abstract publish_time  \\\n",
       "705   BACKGROUND: Thermal imagers have been used in ...   2011-11-21   \n",
       "941   Background. Atherosclerosis is a chronic infla...   2012-09-04   \n",
       "1274  AIMS: To determine the role of CD13 as an adhe...   2013-06-12   \n",
       "1527  Hypertension is a major risk factor for stroke...   2014-06-24   \n",
       "2089  BACKGROUND: Influenza B virus infection is gen...   2016-01-04   \n",
       "\n",
       "                                                    url  \\\n",
       "705   https://www.ncbi.nlm.nih.gov/pmc/articles/PMC3...   \n",
       "941   https://www.ncbi.nlm.nih.gov/pmc/articles/PMC3...   \n",
       "1274  https://academic.oup.com/cardiovascres/article...   \n",
       "1527  https://www.ncbi.nlm.nih.gov/pmc/articles/PMC4...   \n",
       "2089  https://www.ncbi.nlm.nih.gov/pmc/articles/PMC4...   \n",
       "\n",
       "                                                authors  \\\n",
       "705   Gloster, John; Ebert, Katja; Gubbins, Simon; B...   \n",
       "941   Kafkas, Nikolaos; Demponeras, Christos; Zoubou...   \n",
       "1274  Pereira, Flavia E.; Cronin, Chunxia; Ghosh, Ma...   \n",
       "1527  Patel, Sheila K.; Velkoska, Elena; Freeman, Me...   \n",
       "2089  Chang, Hsu-Liang; Hsu, Jui-Feng; Tsai, Ying-Mi...   \n",
       "\n",
       "                                                  words  \n",
       "705   [BACKGROUND, Thermal, imagers, have, been, use...  \n",
       "941   [Background, Atherosclerosis, is, a, chronic, ...  \n",
       "1274  [AIMS, To, determine, the, role, of, CD13, as,...  \n",
       "1527  [Hypertension, is, a, major, risk, factor, for...  \n",
       "2089  [BACKGROUND, Influenza, B, virus, infection, i...  "
      ]
     },
     "execution_count": 81,
     "metadata": {},
     "output_type": "execute_result"
    }
   ],
   "source": [
    "#Articles that we have\n",
    "Q7.head(5)"
   ]
  },
  {
   "cell_type": "markdown",
   "metadata": {},
   "source": [
    "Online Search "
   ]
  },
  {
   "cell_type": "code",
   "execution_count": 82,
   "metadata": {
    "scrolled": true
   },
   "outputs": [
    {
     "name": "stdout",
     "output_type": "stream",
     "text": [
      "https://www.nature.com/articles/s41591-020-0962-9\n",
      "https://www.thelancet.com/journals/lancet/article/PIIS0140-6736(20)30854-0/fulltext\n",
      "https://www.thelancet.com/journals/laninf/article/PIIS1473-3099(20)30243-7/fulltext\n",
      "https://www.cdc.gov/mmwr/volumes/69/wr/mm6915e3.htm\n",
      "https://www.apa.org/topics/covid-19/research-ageism\n",
      "https://www.medrxiv.org/content/10.1101/2020.05.13.20101253v3\n",
      "https://www.statnews.com/2020/03/03/who-is-getting-sick-and-how-sick-a-breakdown-of-coronavirus-risk-by-demographic-factors/\n",
      "https://www.pnas.org/content/117/18/9696\n",
      "https://jamanetwork.com/journals/jama/fullarticle/2761659\n",
      "https://www.nejm.org/doi/full/10.1056/NEJMp2006761\n"
     ]
    }
   ],
   "source": [
    "try: \n",
    "    from googlesearch import search \n",
    "except ImportError:  \n",
    "    print(\"Error/Not found\") \n",
    "### Browsing the sourses using different search terms: \n",
    "search8_1 = \"research paper age and Corona\"\n",
    "\n",
    "\n",
    "##limit to the first 10 relevant links:\n",
    "for a in search(search8_1, tld=\"co.in\", num=10, stop=10, pause=2): \n",
    "    print(a)"
   ]
  },
  {
   "cell_type": "markdown",
   "metadata": {},
   "source": [
    "# 9/ Cardio- and cerebrovascular disease\n"
   ]
  },
  {
   "cell_type": "code",
   "execution_count": 84,
   "metadata": {},
   "outputs": [],
   "source": [
    "#Create different sets with specialized terms  from our questions \n",
    "Q9_a = tablesAbstract[tablesAbstract['abstract'].str.contains('cardio disease')]\n",
    "Q9_b = tablesAbstract[tablesAbstract['abstract'].str.contains('cerebrovascular disease')]\n",
    "Q9_c = Q9_a[Q9_a['abstract'].str.contains('corona')]\n",
    "Q9_d = Q9_b[Q9_b['abstract'].str.contains('corona')]"
   ]
  },
  {
   "cell_type": "code",
   "execution_count": 85,
   "metadata": {},
   "outputs": [
    {
     "data": {
      "text/plain": [
       "(45, 6)"
      ]
     },
     "execution_count": 85,
     "metadata": {},
     "output_type": "execute_result"
    }
   ],
   "source": [
    "#Concatenitng the dataframes into one table per question and dropping null value \n",
    "Q9 = pd.concat([Q9_c,Q9_d])\n",
    "Q9.dropna(inplace=True)\n",
    "Q9.shape"
   ]
  },
  {
   "cell_type": "code",
   "execution_count": 86,
   "metadata": {},
   "outputs": [
    {
     "data": {
      "text/html": [
       "<div>\n",
       "<style scoped>\n",
       "    .dataframe tbody tr th:only-of-type {\n",
       "        vertical-align: middle;\n",
       "    }\n",
       "\n",
       "    .dataframe tbody tr th {\n",
       "        vertical-align: top;\n",
       "    }\n",
       "\n",
       "    .dataframe thead th {\n",
       "        text-align: right;\n",
       "    }\n",
       "</style>\n",
       "<table border=\"1\" class=\"dataframe\">\n",
       "  <thead>\n",
       "    <tr style=\"text-align: right;\">\n",
       "      <th></th>\n",
       "      <th>title</th>\n",
       "      <th>abstract</th>\n",
       "      <th>publish_time</th>\n",
       "      <th>url</th>\n",
       "      <th>authors</th>\n",
       "      <th>words</th>\n",
       "    </tr>\n",
       "  </thead>\n",
       "  <tbody>\n",
       "    <tr>\n",
       "      <th>4550</th>\n",
       "      <td>Epidemiological and clinical characteristics o...</td>\n",
       "      <td>BACKGROUND: We analyzed the results of a 3-yea...</td>\n",
       "      <td>2020-02-10</td>\n",
       "      <td>https://www.ncbi.nlm.nih.gov/pmc/articles/PMC7...</td>\n",
       "      <td>Zhao, Xia; Wang, Lihong; Wei, Nan; Zhang, Jing...</td>\n",
       "      <td>[BACKGROUND, We, analyzed, the, results, of, a...</td>\n",
       "    </tr>\n",
       "    <tr>\n",
       "      <th>24169</th>\n",
       "      <td>The SARS-CoV-2 Ivermectin Navarra-ISGlobal Tri...</td>\n",
       "      <td>OBJECTIVES: The primary objective is to determ...</td>\n",
       "      <td>2020-06-08</td>\n",
       "      <td>https://www.ncbi.nlm.nih.gov/pmc/articles/PMC7...</td>\n",
       "      <td>Chaccour, Carlos; Ruiz-Castillo, Paula; Richar...</td>\n",
       "      <td>[OBJECTIVES, The, primary, objective, is, to, ...</td>\n",
       "    </tr>\n",
       "    <tr>\n",
       "      <th>26255</th>\n",
       "      <td>COVID-19 and the Cerebro-Cardiovascular System...</td>\n",
       "      <td>The severe acute respiratory syndrome coronavi...</td>\n",
       "      <td>2020-05-12</td>\n",
       "      <td>https://doi.org/10.1161/jaha.120.016793; https...</td>\n",
       "      <td>Larson, Anthony S; Savastano, Luis; Kadirvel, ...</td>\n",
       "      <td>[The, severe, acute, respiratory, syndrome, co...</td>\n",
       "    </tr>\n",
       "    <tr>\n",
       "      <th>31752</th>\n",
       "      <td>Potential Effects of Coronaviruses on the Card...</td>\n",
       "      <td>Importance Severe acute respiratory syndrome c...</td>\n",
       "      <td>2020-03-27</td>\n",
       "      <td>https://doi.org/10.1001/jamacardio.2020.1286; ...</td>\n",
       "      <td>Madjid, Mohammad; Safavi-Naeini, Payam; Solomo...</td>\n",
       "      <td>[Importance, Severe, acute, respiratory, syndr...</td>\n",
       "    </tr>\n",
       "    <tr>\n",
       "      <th>34567</th>\n",
       "      <td>Neurologic Manifestations of Hospitalized Pati...</td>\n",
       "      <td>Importance The outbreak of coronavirus disease...</td>\n",
       "      <td>2020-04-10</td>\n",
       "      <td>https://doi.org/10.1001/jamaneurol.2020.1127; ...</td>\n",
       "      <td>Mao, Ling; Jin, Huijuan; Wang, Mengdie; Hu, Yu...</td>\n",
       "      <td>[Importance, The, outbreak, of, coronavirus, d...</td>\n",
       "    </tr>\n",
       "  </tbody>\n",
       "</table>\n",
       "</div>"
      ],
      "text/plain": [
       "                                                   title  \\\n",
       "4550   Epidemiological and clinical characteristics o...   \n",
       "24169  The SARS-CoV-2 Ivermectin Navarra-ISGlobal Tri...   \n",
       "26255  COVID-19 and the Cerebro-Cardiovascular System...   \n",
       "31752  Potential Effects of Coronaviruses on the Card...   \n",
       "34567  Neurologic Manifestations of Hospitalized Pati...   \n",
       "\n",
       "                                                abstract publish_time  \\\n",
       "4550   BACKGROUND: We analyzed the results of a 3-yea...   2020-02-10   \n",
       "24169  OBJECTIVES: The primary objective is to determ...   2020-06-08   \n",
       "26255  The severe acute respiratory syndrome coronavi...   2020-05-12   \n",
       "31752  Importance Severe acute respiratory syndrome c...   2020-03-27   \n",
       "34567  Importance The outbreak of coronavirus disease...   2020-04-10   \n",
       "\n",
       "                                                     url  \\\n",
       "4550   https://www.ncbi.nlm.nih.gov/pmc/articles/PMC7...   \n",
       "24169  https://www.ncbi.nlm.nih.gov/pmc/articles/PMC7...   \n",
       "26255  https://doi.org/10.1161/jaha.120.016793; https...   \n",
       "31752  https://doi.org/10.1001/jamacardio.2020.1286; ...   \n",
       "34567  https://doi.org/10.1001/jamaneurol.2020.1127; ...   \n",
       "\n",
       "                                                 authors  \\\n",
       "4550   Zhao, Xia; Wang, Lihong; Wei, Nan; Zhang, Jing...   \n",
       "24169  Chaccour, Carlos; Ruiz-Castillo, Paula; Richar...   \n",
       "26255  Larson, Anthony S; Savastano, Luis; Kadirvel, ...   \n",
       "31752  Madjid, Mohammad; Safavi-Naeini, Payam; Solomo...   \n",
       "34567  Mao, Ling; Jin, Huijuan; Wang, Mengdie; Hu, Yu...   \n",
       "\n",
       "                                                   words  \n",
       "4550   [BACKGROUND, We, analyzed, the, results, of, a...  \n",
       "24169  [OBJECTIVES, The, primary, objective, is, to, ...  \n",
       "26255  [The, severe, acute, respiratory, syndrome, co...  \n",
       "31752  [Importance, Severe, acute, respiratory, syndr...  \n",
       "34567  [Importance, The, outbreak, of, coronavirus, d...  "
      ]
     },
     "execution_count": 86,
     "metadata": {},
     "output_type": "execute_result"
    }
   ],
   "source": [
    "#Articles that we have\n",
    "Q9.head(5)"
   ]
  },
  {
   "cell_type": "markdown",
   "metadata": {},
   "source": [
    "Online Search "
   ]
  },
  {
   "cell_type": "code",
   "execution_count": 87,
   "metadata": {
    "scrolled": true
   },
   "outputs": [
    {
     "name": "stdout",
     "output_type": "stream",
     "text": [
      "https://www.ncbi.nlm.nih.gov/pmc/articles/PMC7138145/\n",
      "https://www.ahajournals.org/doi/pdf/10.1161/CIRCULATIONAHA.120.046941\n",
      "https://www.ahajournals.org/doi/10.1161/CIRCULATIONAHA.120.046941\n",
      "https://www.ahajournals.org/doi/10.1161/CIRCULATIONAHA.120.046941#afterNav-r09\n",
      "https://www.ahajournals.org/doi/10.1161/CIRCULATIONAHA.120.046941#d1e449\n",
      "https://www.ahajournals.org/doi/10.1161/CIRCULATIONAHA.120.046941#d1e489\n",
      "https://www.nature.com/articles/s41440-020-0461-x\n",
      "https://www.nejm.org/doi/full/10.1056/NEJMoa2007621\n",
      "https://www.world-heart-federation.org/covid-19-and-cvd/\n",
      "https://www.escardio.org/Education/COVID-19-and-Cardiology\n",
      "https://www.karger.com/Article/FullText/508958\n",
      "https://www.karger.com/Article/FullText/508370\n",
      "https://www.dovepress.com/influence-of-covid-19-on-cerebrovascular-disease-and-its-possible-mech-peer-reviewed-fulltext-article-NDT\n",
      "https://www.ncbi.nlm.nih.gov/pmc/articles/PMC7187846/\n",
      "https://www.ncbi.nlm.nih.gov/pmc/articles/PMC7187846/#ab010title\n",
      "https://www.ncbi.nlm.nih.gov/pmc/articles/PMC7187846/#s0005title\n",
      "https://www.ncbi.nlm.nih.gov/pmc/articles/PMC7187846/#s0015title\n",
      "https://www.ncbi.nlm.nih.gov/pmc/articles/PMC7187846/#s0040title\n",
      "https://svn.bmj.com/content/early/2020/07/02/svn-2020-000431\n",
      "https://jamanetwork.com/journals/jamaneurology/fullarticle/2764549\n"
     ]
    }
   ],
   "source": [
    "try: \n",
    "    from googlesearch import search \n",
    "except ImportError:  \n",
    "    print(\"Error/Not found\") \n",
    "### Browsing the sourses using different search terms: \n",
    "search9_1 = \"research paper Cardio disease and Corona\"\n",
    "search9_2 = \"research paper cerebrovascular disease and Corona\"\n",
    "\n",
    "\n",
    "##limit to the first 10 relevant links:\n",
    "for a in search(search9_1, tld=\"co.in\", num=10, stop=10, pause=2): \n",
    "    print(a)\n",
    "for a in search(search9_2, tld=\"co.in\", num=10, stop=10, pause=2): \n",
    "    print(a)"
   ]
  },
  {
   "cell_type": "markdown",
   "metadata": {},
   "source": [
    "# 10/ Cancer"
   ]
  },
  {
   "cell_type": "code",
   "execution_count": 13,
   "metadata": {},
   "outputs": [],
   "source": [
    "#Create different sets with specialized terms  from our questions \n",
    "Q10_a = tablesAbstract[tablesAbstract['abstract'].str.contains('cancer')]\n",
    "Q10_b = Q10_a[Q10_a['abstract'].str.contains('corona')]"
   ]
  },
  {
   "cell_type": "code",
   "execution_count": 14,
   "metadata": {},
   "outputs": [
    {
     "data": {
      "text/plain": [
       "(375, 6)"
      ]
     },
     "execution_count": 14,
     "metadata": {},
     "output_type": "execute_result"
    }
   ],
   "source": [
    "#Concatenitng the dataframes into one table per question and dropping null value \n",
    "Q10 = pd.concat([Q10_b])\n",
    "Q10.dropna(inplace=True)\n",
    "Q10.shape"
   ]
  },
  {
   "cell_type": "code",
   "execution_count": 15,
   "metadata": {},
   "outputs": [
    {
     "data": {
      "text/html": [
       "<div>\n",
       "<style scoped>\n",
       "    .dataframe tbody tr th:only-of-type {\n",
       "        vertical-align: middle;\n",
       "    }\n",
       "\n",
       "    .dataframe tbody tr th {\n",
       "        vertical-align: top;\n",
       "    }\n",
       "\n",
       "    .dataframe thead th {\n",
       "        text-align: right;\n",
       "    }\n",
       "</style>\n",
       "<table border=\"1\" class=\"dataframe\">\n",
       "  <thead>\n",
       "    <tr style=\"text-align: right;\">\n",
       "      <th></th>\n",
       "      <th>title</th>\n",
       "      <th>abstract</th>\n",
       "      <th>publish_time</th>\n",
       "      <th>url</th>\n",
       "      <th>authors</th>\n",
       "      <th>words</th>\n",
       "    </tr>\n",
       "  </thead>\n",
       "  <tbody>\n",
       "    <tr>\n",
       "      <th>2791</th>\n",
       "      <td>36th International Symposium on Intensive Care...</td>\n",
       "      <td>P001 - Sepsis impairs the capillary response w...</td>\n",
       "      <td>2016-04-20</td>\n",
       "      <td>https://www.ncbi.nlm.nih.gov/pmc/articles/PMC5...</td>\n",
       "      <td>Bateman, R. M.; Sharpe, M. D.; Jagger, J. E.; ...</td>\n",
       "      <td>[P001, Sepsis, impairs, the, capillary, respon...</td>\n",
       "    </tr>\n",
       "    <tr>\n",
       "      <th>13259</th>\n",
       "      <td>The Impact of Respiratory Viral Testing in Hos...</td>\n",
       "      <td>BACKGROUND: The use of multiplex nucleic acid ...</td>\n",
       "      <td>2017-10-04</td>\n",
       "      <td>https://www.ncbi.nlm.nih.gov/pmc/articles/PMC7...</td>\n",
       "      <td>Ciccone, Emily; Chundi, Vahini; Miller, Meliss...</td>\n",
       "      <td>[BACKGROUND, The, use, of, multiplex, nucleic,...</td>\n",
       "    </tr>\n",
       "    <tr>\n",
       "      <th>16037</th>\n",
       "      <td>Bispecific Antibodies for Diagnostic Applications</td>\n",
       "      <td>Bispecific monoclonal antibodies (BsMAb) are u...</td>\n",
       "      <td>2011-07-01</td>\n",
       "      <td>https://www.ncbi.nlm.nih.gov/pmc/articles/PMC7...</td>\n",
       "      <td>Parashar, Archana; Sarkar, Susmita; Ganguly, A...</td>\n",
       "      <td>[Bispecific, monoclonal, antibodies, BsMAb, ar...</td>\n",
       "    </tr>\n",
       "    <tr>\n",
       "      <th>16061</th>\n",
       "      <td>Exam 1 Questions</td>\n",
       "      <td>1. Which of the following is the most common f...</td>\n",
       "      <td>2017-09-05</td>\n",
       "      <td>https://www.ncbi.nlm.nih.gov/pmc/articles/PMC7...</td>\n",
       "      <td>Levy, Zachary David</td>\n",
       "      <td>[1, Which, of, the, following, is, the, most, ...</td>\n",
       "    </tr>\n",
       "    <tr>\n",
       "      <th>16095</th>\n",
       "      <td>Genus: Calanthe to Cyrtosia</td>\n",
       "      <td>This large chapter describe the herbal usage a...</td>\n",
       "      <td>2015-11-05</td>\n",
       "      <td>https://www.ncbi.nlm.nih.gov/pmc/articles/PMC7...</td>\n",
       "      <td>Teoh, Eng Soon</td>\n",
       "      <td>[This, large, chapter, describe, the, herbal, ...</td>\n",
       "    </tr>\n",
       "  </tbody>\n",
       "</table>\n",
       "</div>"
      ],
      "text/plain": [
       "                                                   title  \\\n",
       "2791   36th International Symposium on Intensive Care...   \n",
       "13259  The Impact of Respiratory Viral Testing in Hos...   \n",
       "16037  Bispecific Antibodies for Diagnostic Applications   \n",
       "16061                                   Exam 1 Questions   \n",
       "16095                        Genus: Calanthe to Cyrtosia   \n",
       "\n",
       "                                                abstract publish_time  \\\n",
       "2791   P001 - Sepsis impairs the capillary response w...   2016-04-20   \n",
       "13259  BACKGROUND: The use of multiplex nucleic acid ...   2017-10-04   \n",
       "16037  Bispecific monoclonal antibodies (BsMAb) are u...   2011-07-01   \n",
       "16061  1. Which of the following is the most common f...   2017-09-05   \n",
       "16095  This large chapter describe the herbal usage a...   2015-11-05   \n",
       "\n",
       "                                                     url  \\\n",
       "2791   https://www.ncbi.nlm.nih.gov/pmc/articles/PMC5...   \n",
       "13259  https://www.ncbi.nlm.nih.gov/pmc/articles/PMC7...   \n",
       "16037  https://www.ncbi.nlm.nih.gov/pmc/articles/PMC7...   \n",
       "16061  https://www.ncbi.nlm.nih.gov/pmc/articles/PMC7...   \n",
       "16095  https://www.ncbi.nlm.nih.gov/pmc/articles/PMC7...   \n",
       "\n",
       "                                                 authors  \\\n",
       "2791   Bateman, R. M.; Sharpe, M. D.; Jagger, J. E.; ...   \n",
       "13259  Ciccone, Emily; Chundi, Vahini; Miller, Meliss...   \n",
       "16037  Parashar, Archana; Sarkar, Susmita; Ganguly, A...   \n",
       "16061                                Levy, Zachary David   \n",
       "16095                                     Teoh, Eng Soon   \n",
       "\n",
       "                                                   words  \n",
       "2791   [P001, Sepsis, impairs, the, capillary, respon...  \n",
       "13259  [BACKGROUND, The, use, of, multiplex, nucleic,...  \n",
       "16037  [Bispecific, monoclonal, antibodies, BsMAb, ar...  \n",
       "16061  [1, Which, of, the, following, is, the, most, ...  \n",
       "16095  [This, large, chapter, describe, the, herbal, ...  "
      ]
     },
     "execution_count": 15,
     "metadata": {},
     "output_type": "execute_result"
    }
   ],
   "source": [
    "#Articles that we have\n",
    "Q10.head(5)"
   ]
  },
  {
   "cell_type": "markdown",
   "metadata": {},
   "source": [
    "Online Search "
   ]
  },
  {
   "cell_type": "code",
   "execution_count": 16,
   "metadata": {
    "scrolled": true
   },
   "outputs": [
    {
     "name": "stdout",
     "output_type": "stream",
     "text": [
      "https://www.thelancet.com/journals/lancet/article/PIIS0140-6736(20)31187-9/fulltext\n",
      "https://www.thelancet.com/journals/lancet/article/PIIS0140-6736(20)31173-9/fulltext\n",
      "https://www.ncbi.nlm.nih.gov/pmc/articles/PMC7174983/\n",
      "https://www.cancer.org/about-us/what-we-do/coronavirus-covid-19-and-cancer.html\n",
      "https://www.cidrap.umn.edu/news-perspective/2020/05/studies-highlight-covid-19-impact-cancer-patients\n",
      "https://www.cancer.net/blog/2020-07/coronavirus-and-covid-19-what-people-with-cancer-need-know\n",
      "https://www.asco.org/asco-coronavirus-information/care-individuals-cancer-during-covid-19\n",
      "https://www.cancer.gov/about-cancer/coronavirus/coronavirus-cancer-patient-information\n",
      "https://www.cancersupportcommunity.org/blog/2020/06/what-cancer-patients-survivors-and-caregivers-need\n",
      "https://www.fredhutch.org/en/news/center-news/2020/03/coronavirus-what-cancer-patients-need-to-know.html\n"
     ]
    }
   ],
   "source": [
    "try: \n",
    "    from googlesearch import search \n",
    "except ImportError:  \n",
    "    print(\"Error/Not found\") \n",
    "### Browsing the sourses using different search terms: \n",
    "search10_1 = \"research paper cancer and Corona\"\n",
    "\n",
    "##limit to the first 10 relevant links:\n",
    "for a in search(search10_1, tld=\"co.in\", num=10, stop=10, pause=2): \n",
    "    print(a)"
   ]
  },
  {
   "cell_type": "markdown",
   "metadata": {},
   "source": [
    "# 11/ Respiratory system diseases\n"
   ]
  },
  {
   "cell_type": "code",
   "execution_count": 38,
   "metadata": {},
   "outputs": [],
   "source": [
    "#Create different sets with specialized terms  from our questions \n",
    "Q11_a = tablesAbstract[tablesAbstract['abstract'].str.contains('respiratory system')]\n",
    "Q11_b = Q11_a[Q11_a['abstract'].str.contains('disease')]\n",
    "Q11_c = Q11_b[Q11_b['abstract'].str.contains('corona')]"
   ]
  },
  {
   "cell_type": "code",
   "execution_count": 39,
   "metadata": {},
   "outputs": [
    {
     "data": {
      "text/plain": [
       "(67, 6)"
      ]
     },
     "execution_count": 39,
     "metadata": {},
     "output_type": "execute_result"
    }
   ],
   "source": [
    "#Concatenitng the dataframes into one table per question and dropping null value \n",
    "Q11 = pd.concat([Q11_c])\n",
    "Q11.dropna(inplace=True)\n",
    "Q11.shape"
   ]
  },
  {
   "cell_type": "code",
   "execution_count": 40,
   "metadata": {},
   "outputs": [
    {
     "data": {
      "text/html": [
       "<div>\n",
       "<style scoped>\n",
       "    .dataframe tbody tr th:only-of-type {\n",
       "        vertical-align: middle;\n",
       "    }\n",
       "\n",
       "    .dataframe tbody tr th {\n",
       "        vertical-align: top;\n",
       "    }\n",
       "\n",
       "    .dataframe thead th {\n",
       "        text-align: right;\n",
       "    }\n",
       "</style>\n",
       "<table border=\"1\" class=\"dataframe\">\n",
       "  <thead>\n",
       "    <tr style=\"text-align: right;\">\n",
       "      <th></th>\n",
       "      <th>title</th>\n",
       "      <th>abstract</th>\n",
       "      <th>publish_time</th>\n",
       "      <th>url</th>\n",
       "      <th>authors</th>\n",
       "      <th>words</th>\n",
       "    </tr>\n",
       "  </thead>\n",
       "  <tbody>\n",
       "    <tr>\n",
       "      <th>25056</th>\n",
       "      <td>Involvement of digestive system in COVID-19: m...</td>\n",
       "      <td>The pandemic of novel coronavirus disease (COV...</td>\n",
       "      <td>2020-06-18</td>\n",
       "      <td>https://www.ncbi.nlm.nih.gov/pmc/articles/PMC7...</td>\n",
       "      <td>Su, Song; Shen, Jun; Zhu, Liangru; Qiu, Yun; H...</td>\n",
       "      <td>[The, pandemic, of, novel, coronavirus, diseas...</td>\n",
       "    </tr>\n",
       "    <tr>\n",
       "      <th>27885</th>\n",
       "      <td>A Coronavirus Associated with Runting Stunting...</td>\n",
       "      <td>Runting stunting syndrome (RSS) is a disease c...</td>\n",
       "      <td>2016</td>\n",
       "      <td>https://doi.org/10.1637/11353-122215-case; htt...</td>\n",
       "      <td>Hauck, Rüdiger; Gallardo, Rodrigo A; Woolcock,...</td>\n",
       "      <td>[Runting, stunting, syndrome, RSS, is, a, dise...</td>\n",
       "    </tr>\n",
       "    <tr>\n",
       "      <th>30899</th>\n",
       "      <td>Clinical tools for cardiorespiratory assessmen...</td>\n",
       "      <td>Severe acute respiratory syndrome coronavirus ...</td>\n",
       "      <td>2020-05-01</td>\n",
       "      <td>https://doi.org/10.5455/jpma.27; https://www.n...</td>\n",
       "      <td>Kalra, Arnav</td>\n",
       "      <td>[Severe, acute, respiratory, syndrome, coronav...</td>\n",
       "    </tr>\n",
       "    <tr>\n",
       "      <th>36329</th>\n",
       "      <td>SARS-CoV-2 infection of the nervous system: A ...</td>\n",
       "      <td>The novel coronavirus disease 2019 (COVID-19) ...</td>\n",
       "      <td>2020-06-10</td>\n",
       "      <td>https://doi.org/10.17305/bjbms.2020.4860; http...</td>\n",
       "      <td>Payus, Alvin Oliver; Liew Sat Lin, Constance; ...</td>\n",
       "      <td>[The, novel, coronavirus, disease, 2019, COVID...</td>\n",
       "    </tr>\n",
       "    <tr>\n",
       "      <th>39146</th>\n",
       "      <td>Aggregate Prevalence of Chemosensory and Sinon...</td>\n",
       "      <td>Much of the published literature regarding the...</td>\n",
       "      <td>2020-05-19</td>\n",
       "      <td>https://doi.org/10.1177/0194599820929278; http...</td>\n",
       "      <td>Lehrich, Brandon M; Goshtasbi, Khodayar; Raad,...</td>\n",
       "      <td>[Much, of, the, published, literature, regardi...</td>\n",
       "    </tr>\n",
       "  </tbody>\n",
       "</table>\n",
       "</div>"
      ],
      "text/plain": [
       "                                                   title  \\\n",
       "25056  Involvement of digestive system in COVID-19: m...   \n",
       "27885  A Coronavirus Associated with Runting Stunting...   \n",
       "30899  Clinical tools for cardiorespiratory assessmen...   \n",
       "36329  SARS-CoV-2 infection of the nervous system: A ...   \n",
       "39146  Aggregate Prevalence of Chemosensory and Sinon...   \n",
       "\n",
       "                                                abstract publish_time  \\\n",
       "25056  The pandemic of novel coronavirus disease (COV...   2020-06-18   \n",
       "27885  Runting stunting syndrome (RSS) is a disease c...         2016   \n",
       "30899  Severe acute respiratory syndrome coronavirus ...   2020-05-01   \n",
       "36329  The novel coronavirus disease 2019 (COVID-19) ...   2020-06-10   \n",
       "39146  Much of the published literature regarding the...   2020-05-19   \n",
       "\n",
       "                                                     url  \\\n",
       "25056  https://www.ncbi.nlm.nih.gov/pmc/articles/PMC7...   \n",
       "27885  https://doi.org/10.1637/11353-122215-case; htt...   \n",
       "30899  https://doi.org/10.5455/jpma.27; https://www.n...   \n",
       "36329  https://doi.org/10.17305/bjbms.2020.4860; http...   \n",
       "39146  https://doi.org/10.1177/0194599820929278; http...   \n",
       "\n",
       "                                                 authors  \\\n",
       "25056  Su, Song; Shen, Jun; Zhu, Liangru; Qiu, Yun; H...   \n",
       "27885  Hauck, Rüdiger; Gallardo, Rodrigo A; Woolcock,...   \n",
       "30899                                       Kalra, Arnav   \n",
       "36329  Payus, Alvin Oliver; Liew Sat Lin, Constance; ...   \n",
       "39146  Lehrich, Brandon M; Goshtasbi, Khodayar; Raad,...   \n",
       "\n",
       "                                                   words  \n",
       "25056  [The, pandemic, of, novel, coronavirus, diseas...  \n",
       "27885  [Runting, stunting, syndrome, RSS, is, a, dise...  \n",
       "30899  [Severe, acute, respiratory, syndrome, coronav...  \n",
       "36329  [The, novel, coronavirus, disease, 2019, COVID...  \n",
       "39146  [Much, of, the, published, literature, regardi...  "
      ]
     },
     "execution_count": 40,
     "metadata": {},
     "output_type": "execute_result"
    }
   ],
   "source": [
    "#Articles that we have\n",
    "Q11.head(5)"
   ]
  },
  {
   "cell_type": "markdown",
   "metadata": {},
   "source": [
    "Online Search "
   ]
  },
  {
   "cell_type": "code",
   "execution_count": 37,
   "metadata": {
    "scrolled": true
   },
   "outputs": [
    {
     "name": "stdout",
     "output_type": "stream",
     "text": [
      "https://respiratory-research.biomedcentral.com/articles\n",
      "https://www.who.int/gard/publications/The_Global_Impact_of_Respiratory_Disease.pdf\n",
      "https://www.unitypoint.org/homecare/article.aspx?id=2448b930-1451-43e4-8634-c0c16707c749\n",
      "https://www.healthypeople.gov/2020/topics-objectives/topic/respiratory-diseases\n",
      "https://www.healthypeople.gov/2020/topics-objectives/topic/respiratory-diseases/objectives\n",
      "https://www.healthypeople.gov/2020/topics-objectives/topic/respiratory-diseases/ebrs\n",
      "https://www.healthypeople.gov/2020/topics-objectives/topic/respiratory-diseases/national-snapshot\n",
      "https://www.ncbi.nlm.nih.gov/pmc/articles/PMC7169933/\n",
      "https://www.ncbi.nlm.nih.gov/pmc/articles/PMC7154502/\n",
      "https://www.lung.org/blog/update-covid-19\n"
     ]
    }
   ],
   "source": [
    "try: \n",
    "    from googlesearch import search \n",
    "except ImportError:  \n",
    "    print(\"Error/Not found\") \n",
    "### Browsing the sourses using different search terms: \n",
    "search11_1 = \"research paper respiratory system diseases and Corona\"\n",
    "\n",
    "##limit to the first 10 relevant links:\n",
    "for a in search(search11_1, tld=\"co.in\", num=10, stop=10, pause=2): \n",
    "    print(a)"
   ]
  },
  {
   "cell_type": "markdown",
   "metadata": {},
   "source": [
    "# 12/ Chronic kidney disease\n"
   ]
  },
  {
   "cell_type": "code",
   "execution_count": 44,
   "metadata": {},
   "outputs": [],
   "source": [
    "#Create different sets with specialized terms  from our questions \n",
    "Q12_a = tablesAbstract[tablesAbstract['abstract'].str.contains('chronic kidney')]\n",
    "Q12_b = Q12_a[Q12_a['abstract'].str.contains('disease')]\n",
    "Q12_c = Q12_b[Q12_b['abstract'].str.contains('corona')]"
   ]
  },
  {
   "cell_type": "code",
   "execution_count": 45,
   "metadata": {},
   "outputs": [
    {
     "data": {
      "text/plain": [
       "(58, 6)"
      ]
     },
     "execution_count": 45,
     "metadata": {},
     "output_type": "execute_result"
    }
   ],
   "source": [
    "#Concatenitng the dataframes into one table per question and dropping null value \n",
    "Q12 = pd.concat([Q12_c])\n",
    "Q12.dropna(inplace=True)\n",
    "Q12.shape"
   ]
  },
  {
   "cell_type": "code",
   "execution_count": 46,
   "metadata": {},
   "outputs": [
    {
     "data": {
      "text/html": [
       "<div>\n",
       "<style scoped>\n",
       "    .dataframe tbody tr th:only-of-type {\n",
       "        vertical-align: middle;\n",
       "    }\n",
       "\n",
       "    .dataframe tbody tr th {\n",
       "        vertical-align: top;\n",
       "    }\n",
       "\n",
       "    .dataframe thead th {\n",
       "        text-align: right;\n",
       "    }\n",
       "</style>\n",
       "<table border=\"1\" class=\"dataframe\">\n",
       "  <thead>\n",
       "    <tr style=\"text-align: right;\">\n",
       "      <th></th>\n",
       "      <th>title</th>\n",
       "      <th>abstract</th>\n",
       "      <th>publish_time</th>\n",
       "      <th>url</th>\n",
       "      <th>authors</th>\n",
       "      <th>words</th>\n",
       "    </tr>\n",
       "  </thead>\n",
       "  <tbody>\n",
       "    <tr>\n",
       "      <th>26731</th>\n",
       "      <td>Do statin medications impact renal functional ...</td>\n",
       "      <td>OBJECTIVE To evaluate if statin medications (3...</td>\n",
       "      <td>2014</td>\n",
       "      <td>https://doi.org/10.1089/end.2014.0276; https:/...</td>\n",
       "      <td>Krane, L Spencer; Sandberg, Jason Michael; Rag...</td>\n",
       "      <td>[OBJECTIVE, To, evaluate, if, statin, medicati...</td>\n",
       "    </tr>\n",
       "    <tr>\n",
       "      <th>28764</th>\n",
       "      <td>Associations Between Chronic Kidney Disease an...</td>\n",
       "      <td>OBJECTIVES This study sought to compare clinic...</td>\n",
       "      <td>2017</td>\n",
       "      <td>https://doi.org/10.1016/j.jcin.2017.02.047; ht...</td>\n",
       "      <td>Baber, Usman; Chandrasekhar, Jaya; Sartori, Sa...</td>\n",
       "      <td>[OBJECTIVES, This, study, sought, to, compare,...</td>\n",
       "    </tr>\n",
       "    <tr>\n",
       "      <th>32609</th>\n",
       "      <td>[Analysis of gastrointestinal symptoms in 80 p...</td>\n",
       "      <td>OBJECTIVE To investigate the clinical characte...</td>\n",
       "      <td>2020-04-01</td>\n",
       "      <td>https://doi.org/10.3760/cma.j.cn121430-2020040...</td>\n",
       "      <td>Zhang, Lei; Mei, Qing; Li, Lei; Ye, Chongyang;...</td>\n",
       "      <td>[OBJECTIVE, To, investigate, the, clinical, ch...</td>\n",
       "    </tr>\n",
       "    <tr>\n",
       "      <th>33878</th>\n",
       "      <td>Choice of Estimated Glomerular Filtration Rate...</td>\n",
       "      <td>BACKGROUND Multiple equations exist to estimat...</td>\n",
       "      <td>2015</td>\n",
       "      <td>https://doi.org/10.1016/j.jacc.2015.04.037; ht...</td>\n",
       "      <td>Parsh, Jessica; Seth, Milan; Aronow, Herbert; ...</td>\n",
       "      <td>[BACKGROUND, Multiple, equations, exist, to, e...</td>\n",
       "    </tr>\n",
       "    <tr>\n",
       "      <th>36624</th>\n",
       "      <td>ACE2, COVID-19, and ACE Inhibitor and ARB Use ...</td>\n",
       "      <td>Potential but unconfirmed risk factors for cor...</td>\n",
       "      <td>2020-05-05</td>\n",
       "      <td>https://doi.org/10.1161/hypertensionaha.120.15...</td>\n",
       "      <td>South, Andrew M; Brady, Tammy M; Flynn, Joseph T</td>\n",
       "      <td>[Potential, but, unconfirmed, risk, factors, f...</td>\n",
       "    </tr>\n",
       "  </tbody>\n",
       "</table>\n",
       "</div>"
      ],
      "text/plain": [
       "                                                   title  \\\n",
       "26731  Do statin medications impact renal functional ...   \n",
       "28764  Associations Between Chronic Kidney Disease an...   \n",
       "32609  [Analysis of gastrointestinal symptoms in 80 p...   \n",
       "33878  Choice of Estimated Glomerular Filtration Rate...   \n",
       "36624  ACE2, COVID-19, and ACE Inhibitor and ARB Use ...   \n",
       "\n",
       "                                                abstract publish_time  \\\n",
       "26731  OBJECTIVE To evaluate if statin medications (3...         2014   \n",
       "28764  OBJECTIVES This study sought to compare clinic...         2017   \n",
       "32609  OBJECTIVE To investigate the clinical characte...   2020-04-01   \n",
       "33878  BACKGROUND Multiple equations exist to estimat...         2015   \n",
       "36624  Potential but unconfirmed risk factors for cor...   2020-05-05   \n",
       "\n",
       "                                                     url  \\\n",
       "26731  https://doi.org/10.1089/end.2014.0276; https:/...   \n",
       "28764  https://doi.org/10.1016/j.jcin.2017.02.047; ht...   \n",
       "32609  https://doi.org/10.3760/cma.j.cn121430-2020040...   \n",
       "33878  https://doi.org/10.1016/j.jacc.2015.04.037; ht...   \n",
       "36624  https://doi.org/10.1161/hypertensionaha.120.15...   \n",
       "\n",
       "                                                 authors  \\\n",
       "26731  Krane, L Spencer; Sandberg, Jason Michael; Rag...   \n",
       "28764  Baber, Usman; Chandrasekhar, Jaya; Sartori, Sa...   \n",
       "32609  Zhang, Lei; Mei, Qing; Li, Lei; Ye, Chongyang;...   \n",
       "33878  Parsh, Jessica; Seth, Milan; Aronow, Herbert; ...   \n",
       "36624   South, Andrew M; Brady, Tammy M; Flynn, Joseph T   \n",
       "\n",
       "                                                   words  \n",
       "26731  [OBJECTIVE, To, evaluate, if, statin, medicati...  \n",
       "28764  [OBJECTIVES, This, study, sought, to, compare,...  \n",
       "32609  [OBJECTIVE, To, investigate, the, clinical, ch...  \n",
       "33878  [BACKGROUND, Multiple, equations, exist, to, e...  \n",
       "36624  [Potential, but, unconfirmed, risk, factors, f...  "
      ]
     },
     "execution_count": 46,
     "metadata": {},
     "output_type": "execute_result"
    }
   ],
   "source": [
    "#Articles that we have\n",
    "Q12.head(5)"
   ]
  },
  {
   "cell_type": "markdown",
   "metadata": {},
   "source": [
    "Online Search "
   ]
  },
  {
   "cell_type": "code",
   "execution_count": 48,
   "metadata": {
    "scrolled": true
   },
   "outputs": [
    {
     "name": "stdout",
     "output_type": "stream",
     "text": [
      "https://www.kidney.org/coronavirus/kidney-disease-covid-19\n",
      "https://www.dynamed.com/management/covid-19-and-patients-with-chronic-kidney-disease-ckd-and-end-stage-renal-disease-esrd\n",
      "https://www.hopkinsmedicine.org/health/conditions-and-diseases/coronavirus/coronavirus-kidney-damage-caused-by-covid19\n",
      "https://www.karger.com/Article/FullText/507471\n",
      "https://www.ncbi.nlm.nih.gov/pmc/articles/PMC7250261/\n",
      "https://www.ncbi.nlm.nih.gov/pmc/articles/PMC7218361/\n",
      "https://www.uptodate.com/contents/coronavirus-disease-2019-covid-19-issues-related-to-kidney-disease-and-hypertension\n",
      "https://www.kidney-international.org/article/S0085-2538(20)30255-6/fulltext\n",
      "https://www.kidneycareuk.org/news-and-campaigns/coronavirus-advice/\n",
      "https://www.cdc.gov/coronavirus/2019-ncov/need-extra-precautions/people-with-medical-conditions.html\n"
     ]
    }
   ],
   "source": [
    "try: \n",
    "    from googlesearch import search \n",
    "except ImportError:  \n",
    "    print(\"Error/Not found\") \n",
    "### Browsing the sourses using different search terms: \n",
    "search12_1 = \"research paper chronic kidney disease diseases and Corona\"\n",
    "\n",
    "##limit to the first 10 relevant links:\n",
    "for a in search(search12_1, tld=\"co.in\", num=10, stop=10, pause=2): \n",
    "    print(a)"
   ]
  },
  {
   "cell_type": "markdown",
   "metadata": {},
   "source": [
    "# 13/ Chronic respiratory diseases"
   ]
  },
  {
   "cell_type": "code",
   "execution_count": 49,
   "metadata": {},
   "outputs": [],
   "source": [
    "#Create different sets with specialized terms  from our questions \n",
    "Q13_a = tablesAbstract[tablesAbstract['abstract'].str.contains('chronic respiratory')]\n",
    "Q13_b = Q13_a[Q13_a['abstract'].str.contains('disease')]\n",
    "Q13_c = Q13_b[Q13_b['abstract'].str.contains('corona')]"
   ]
  },
  {
   "cell_type": "code",
   "execution_count": 50,
   "metadata": {},
   "outputs": [
    {
     "data": {
      "text/plain": [
       "(20, 6)"
      ]
     },
     "execution_count": 50,
     "metadata": {},
     "output_type": "execute_result"
    }
   ],
   "source": [
    "#Concatenitng the dataframes into one table per question and dropping null value \n",
    "Q13 = pd.concat([Q13_c])\n",
    "Q13.dropna(inplace=True)\n",
    "Q13.shape"
   ]
  },
  {
   "cell_type": "code",
   "execution_count": 51,
   "metadata": {},
   "outputs": [
    {
     "data": {
      "text/html": [
       "<div>\n",
       "<style scoped>\n",
       "    .dataframe tbody tr th:only-of-type {\n",
       "        vertical-align: middle;\n",
       "    }\n",
       "\n",
       "    .dataframe tbody tr th {\n",
       "        vertical-align: top;\n",
       "    }\n",
       "\n",
       "    .dataframe thead th {\n",
       "        text-align: right;\n",
       "    }\n",
       "</style>\n",
       "<table border=\"1\" class=\"dataframe\">\n",
       "  <thead>\n",
       "    <tr style=\"text-align: right;\">\n",
       "      <th></th>\n",
       "      <th>title</th>\n",
       "      <th>abstract</th>\n",
       "      <th>publish_time</th>\n",
       "      <th>url</th>\n",
       "      <th>authors</th>\n",
       "      <th>words</th>\n",
       "    </tr>\n",
       "  </thead>\n",
       "  <tbody>\n",
       "    <tr>\n",
       "      <th>36101</th>\n",
       "      <td>Gender differences in the frequency of gastroi...</td>\n",
       "      <td>INTRODUCTION The Coronavirus Disease 2019 (COV...</td>\n",
       "      <td>2020-06-03</td>\n",
       "      <td>https://doi.org/10.20452/pamw.15414; https://w...</td>\n",
       "      <td>Sierpiński, Radosław; Pinkas, Jarosław; Jankow...</td>\n",
       "      <td>[INTRODUCTION, The, Coronavirus, Disease, 2019...</td>\n",
       "    </tr>\n",
       "    <tr>\n",
       "      <th>37882</th>\n",
       "      <td>The Role of Data Registries in the Time of COV...</td>\n",
       "      <td>On April 1, 2020, the confirmed global burden ...</td>\n",
       "      <td>2020-04-16</td>\n",
       "      <td>https://doi.org/10.1161/circoutcomes.120.00676...</td>\n",
       "      <td>Alger, Heather M; Williams Iv, Joseph H; Walch...</td>\n",
       "      <td>[On, April, 1, 2020, the, confirmed, global, b...</td>\n",
       "    </tr>\n",
       "    <tr>\n",
       "      <th>50670</th>\n",
       "      <td>Respiratory viruses in exacerbations of non-cy...</td>\n",
       "      <td>BACKGROUND Respiratory viral infections precip...</td>\n",
       "      <td>2014</td>\n",
       "      <td>https://doi.org/10.1136/archdischild-2013-3051...</td>\n",
       "      <td>Kapur, Nitin; Mackay, Ian M; Sloots, Theo P; M...</td>\n",
       "      <td>[BACKGROUND, Respiratory, viral, infections, p...</td>\n",
       "    </tr>\n",
       "    <tr>\n",
       "      <th>61863</th>\n",
       "      <td>Characteristics Associated with Hospitalizatio...</td>\n",
       "      <td>The first reported U.S. case of coronavirus di...</td>\n",
       "      <td>2020-06-26</td>\n",
       "      <td>https://doi.org/10.15585/mmwr.mm6925e1; https:...</td>\n",
       "      <td>Killerby, Marie E; Link-Gelles, Ruth; Haight, ...</td>\n",
       "      <td>[The, first, reported, U, S, case, of, coronav...</td>\n",
       "    </tr>\n",
       "    <tr>\n",
       "      <th>64138</th>\n",
       "      <td>Flavonoids isolated from loquat (Eriobotrya ja...</td>\n",
       "      <td>Chronic obstructive pulmonary disease (COPD) i...</td>\n",
       "      <td>2020-04-07</td>\n",
       "      <td>https://doi.org/10.1039/c9fo02921d; https://ww...</td>\n",
       "      <td>Jian, Tunyu; Chen, Jian; Ding, Xiaoqin; Lv, Ha...</td>\n",
       "      <td>[Chronic, obstructive, pulmonary, disease, COP...</td>\n",
       "    </tr>\n",
       "  </tbody>\n",
       "</table>\n",
       "</div>"
      ],
      "text/plain": [
       "                                                   title  \\\n",
       "36101  Gender differences in the frequency of gastroi...   \n",
       "37882  The Role of Data Registries in the Time of COV...   \n",
       "50670  Respiratory viruses in exacerbations of non-cy...   \n",
       "61863  Characteristics Associated with Hospitalizatio...   \n",
       "64138  Flavonoids isolated from loquat (Eriobotrya ja...   \n",
       "\n",
       "                                                abstract publish_time  \\\n",
       "36101  INTRODUCTION The Coronavirus Disease 2019 (COV...   2020-06-03   \n",
       "37882  On April 1, 2020, the confirmed global burden ...   2020-04-16   \n",
       "50670  BACKGROUND Respiratory viral infections precip...         2014   \n",
       "61863  The first reported U.S. case of coronavirus di...   2020-06-26   \n",
       "64138  Chronic obstructive pulmonary disease (COPD) i...   2020-04-07   \n",
       "\n",
       "                                                     url  \\\n",
       "36101  https://doi.org/10.20452/pamw.15414; https://w...   \n",
       "37882  https://doi.org/10.1161/circoutcomes.120.00676...   \n",
       "50670  https://doi.org/10.1136/archdischild-2013-3051...   \n",
       "61863  https://doi.org/10.15585/mmwr.mm6925e1; https:...   \n",
       "64138  https://doi.org/10.1039/c9fo02921d; https://ww...   \n",
       "\n",
       "                                                 authors  \\\n",
       "36101  Sierpiński, Radosław; Pinkas, Jarosław; Jankow...   \n",
       "37882  Alger, Heather M; Williams Iv, Joseph H; Walch...   \n",
       "50670  Kapur, Nitin; Mackay, Ian M; Sloots, Theo P; M...   \n",
       "61863  Killerby, Marie E; Link-Gelles, Ruth; Haight, ...   \n",
       "64138  Jian, Tunyu; Chen, Jian; Ding, Xiaoqin; Lv, Ha...   \n",
       "\n",
       "                                                   words  \n",
       "36101  [INTRODUCTION, The, Coronavirus, Disease, 2019...  \n",
       "37882  [On, April, 1, 2020, the, confirmed, global, b...  \n",
       "50670  [BACKGROUND, Respiratory, viral, infections, p...  \n",
       "61863  [The, first, reported, U, S, case, of, coronav...  \n",
       "64138  [Chronic, obstructive, pulmonary, disease, COP...  "
      ]
     },
     "execution_count": 51,
     "metadata": {},
     "output_type": "execute_result"
    }
   ],
   "source": [
    "#Articles that we have\n",
    "Q13.head(5)"
   ]
  },
  {
   "cell_type": "markdown",
   "metadata": {},
   "source": [
    "Online Search "
   ]
  },
  {
   "cell_type": "code",
   "execution_count": 52,
   "metadata": {
    "scrolled": true
   },
   "outputs": [
    {
     "name": "stdout",
     "output_type": "stream",
     "text": [
      "https://www.kidney.org/coronavirus/kidney-disease-covid-19\n",
      "https://www.dynamed.com/management/covid-19-and-patients-with-chronic-kidney-disease-ckd-and-end-stage-renal-disease-esrd\n",
      "https://www.hopkinsmedicine.org/health/conditions-and-diseases/coronavirus/coronavirus-kidney-damage-caused-by-covid19\n",
      "https://www.karger.com/Article/FullText/507471\n",
      "https://www.ncbi.nlm.nih.gov/pmc/articles/PMC7250261/\n",
      "https://www.ncbi.nlm.nih.gov/pmc/articles/PMC7218361/\n",
      "https://www.uptodate.com/contents/coronavirus-disease-2019-covid-19-issues-related-to-kidney-disease-and-hypertension\n",
      "https://www.kidney-international.org/article/S0085-2538(20)30255-6/fulltext\n",
      "https://www.kidneycareuk.org/news-and-campaigns/coronavirus-advice/\n",
      "https://www.cdc.gov/coronavirus/2019-ncov/need-extra-precautions/people-with-medical-conditions.html\n"
     ]
    }
   ],
   "source": [
    "try: \n",
    "    from googlesearch import search \n",
    "except ImportError:  \n",
    "    print(\"Error/Not found\") \n",
    "### Browsing the sourses using different search terms: \n",
    "search13_1 = \"research paper chronic kidney disease diseases and Corona\"\n",
    "\n",
    "##limit to the first 10 relevant links:\n",
    "for a in search(search13_1, tld=\"co.in\", num=10, stop=10, pause=2): \n",
    "    print(a)"
   ]
  },
  {
   "cell_type": "markdown",
   "metadata": {},
   "source": [
    "# 14/ Drinking\n"
   ]
  },
  {
   "cell_type": "code",
   "execution_count": 53,
   "metadata": {},
   "outputs": [],
   "source": [
    "#Create different sets with specialized terms  from our questions \n",
    "Q14_a = tablesAbstract[tablesAbstract['abstract'].str.contains('alcohol')]\n",
    "Q14_b = tablesAbstract[tablesAbstract['abstract'].str.contains('drinking')]\n",
    "Q14_c = Q14_a[Q14_a['abstract'].str.contains('corona')]\n",
    "Q14_d = Q14_b[Q14_b['abstract'].str.contains('corona')]"
   ]
  },
  {
   "cell_type": "code",
   "execution_count": 58,
   "metadata": {},
   "outputs": [
    {
     "data": {
      "text/plain": [
       "(94, 6)"
      ]
     },
     "execution_count": 58,
     "metadata": {},
     "output_type": "execute_result"
    }
   ],
   "source": [
    "#Concatenitng the dataframes into one table per question and dropping null value \n",
    "Q14 = pd.concat([Q14_c,Q14_d])\n",
    "Q14.dropna(inplace=True)\n",
    "Q14.shape"
   ]
  },
  {
   "cell_type": "code",
   "execution_count": 59,
   "metadata": {},
   "outputs": [
    {
     "data": {
      "text/html": [
       "<div>\n",
       "<style scoped>\n",
       "    .dataframe tbody tr th:only-of-type {\n",
       "        vertical-align: middle;\n",
       "    }\n",
       "\n",
       "    .dataframe tbody tr th {\n",
       "        vertical-align: top;\n",
       "    }\n",
       "\n",
       "    .dataframe thead th {\n",
       "        text-align: right;\n",
       "    }\n",
       "</style>\n",
       "<table border=\"1\" class=\"dataframe\">\n",
       "  <thead>\n",
       "    <tr style=\"text-align: right;\">\n",
       "      <th></th>\n",
       "      <th>title</th>\n",
       "      <th>abstract</th>\n",
       "      <th>publish_time</th>\n",
       "      <th>url</th>\n",
       "      <th>authors</th>\n",
       "      <th>words</th>\n",
       "    </tr>\n",
       "  </thead>\n",
       "  <tbody>\n",
       "    <tr>\n",
       "      <th>2791</th>\n",
       "      <td>36th International Symposium on Intensive Care...</td>\n",
       "      <td>P001 - Sepsis impairs the capillary response w...</td>\n",
       "      <td>2016-04-20</td>\n",
       "      <td>https://www.ncbi.nlm.nih.gov/pmc/articles/PMC5...</td>\n",
       "      <td>Bateman, R. M.; Sharpe, M. D.; Jagger, J. E.; ...</td>\n",
       "      <td>[P001, Sepsis, impairs, the, capillary, respon...</td>\n",
       "    </tr>\n",
       "    <tr>\n",
       "      <th>9370</th>\n",
       "      <td>Synthesis of long cDNA from viral RNA template()</td>\n",
       "      <td>Methods to make long and reliable cDNA from vi...</td>\n",
       "      <td>2002-12-11</td>\n",
       "      <td>https://www.ncbi.nlm.nih.gov/pmc/articles/PMC7...</td>\n",
       "      <td>Lenstra, J.A.; De Groot, R.J.; Jacobs, L.; Kus...</td>\n",
       "      <td>[Methods, to, make, long, and, reliable, cDNA,...</td>\n",
       "    </tr>\n",
       "    <tr>\n",
       "      <th>14299</th>\n",
       "      <td>Gezondheid van de Nederlandse bevolking</td>\n",
       "      <td>Na 1970: hernieuwde sterftedaling in Europa en...</td>\n",
       "      <td>2013-03-07</td>\n",
       "      <td>https://www.ncbi.nlm.nih.gov/pmc/articles/PMC7...</td>\n",
       "      <td>Mackenbach, J.P.</td>\n",
       "      <td>[Na, 1970, hernieuwde, sterftedaling, in, Euro...</td>\n",
       "    </tr>\n",
       "    <tr>\n",
       "      <th>15676</th>\n",
       "      <td>Exam 4 Questions</td>\n",
       "      <td>1. A 73-year-old male with a history of hypert...</td>\n",
       "      <td>2017-09-05</td>\n",
       "      <td>https://www.ncbi.nlm.nih.gov/pmc/articles/PMC7...</td>\n",
       "      <td>Levy, Zachary David</td>\n",
       "      <td>[1, A, 73, year, old, male, with, a, history, ...</td>\n",
       "    </tr>\n",
       "    <tr>\n",
       "      <th>16061</th>\n",
       "      <td>Exam 1 Questions</td>\n",
       "      <td>1. Which of the following is the most common f...</td>\n",
       "      <td>2017-09-05</td>\n",
       "      <td>https://www.ncbi.nlm.nih.gov/pmc/articles/PMC7...</td>\n",
       "      <td>Levy, Zachary David</td>\n",
       "      <td>[1, Which, of, the, following, is, the, most, ...</td>\n",
       "    </tr>\n",
       "  </tbody>\n",
       "</table>\n",
       "</div>"
      ],
      "text/plain": [
       "                                                   title  \\\n",
       "2791   36th International Symposium on Intensive Care...   \n",
       "9370    Synthesis of long cDNA from viral RNA template()   \n",
       "14299            Gezondheid van de Nederlandse bevolking   \n",
       "15676                                   Exam 4 Questions   \n",
       "16061                                   Exam 1 Questions   \n",
       "\n",
       "                                                abstract publish_time  \\\n",
       "2791   P001 - Sepsis impairs the capillary response w...   2016-04-20   \n",
       "9370   Methods to make long and reliable cDNA from vi...   2002-12-11   \n",
       "14299  Na 1970: hernieuwde sterftedaling in Europa en...   2013-03-07   \n",
       "15676  1. A 73-year-old male with a history of hypert...   2017-09-05   \n",
       "16061  1. Which of the following is the most common f...   2017-09-05   \n",
       "\n",
       "                                                     url  \\\n",
       "2791   https://www.ncbi.nlm.nih.gov/pmc/articles/PMC5...   \n",
       "9370   https://www.ncbi.nlm.nih.gov/pmc/articles/PMC7...   \n",
       "14299  https://www.ncbi.nlm.nih.gov/pmc/articles/PMC7...   \n",
       "15676  https://www.ncbi.nlm.nih.gov/pmc/articles/PMC7...   \n",
       "16061  https://www.ncbi.nlm.nih.gov/pmc/articles/PMC7...   \n",
       "\n",
       "                                                 authors  \\\n",
       "2791   Bateman, R. M.; Sharpe, M. D.; Jagger, J. E.; ...   \n",
       "9370   Lenstra, J.A.; De Groot, R.J.; Jacobs, L.; Kus...   \n",
       "14299                                   Mackenbach, J.P.   \n",
       "15676                                Levy, Zachary David   \n",
       "16061                                Levy, Zachary David   \n",
       "\n",
       "                                                   words  \n",
       "2791   [P001, Sepsis, impairs, the, capillary, respon...  \n",
       "9370   [Methods, to, make, long, and, reliable, cDNA,...  \n",
       "14299  [Na, 1970, hernieuwde, sterftedaling, in, Euro...  \n",
       "15676  [1, A, 73, year, old, male, with, a, history, ...  \n",
       "16061  [1, Which, of, the, following, is, the, most, ...  "
      ]
     },
     "execution_count": 59,
     "metadata": {},
     "output_type": "execute_result"
    }
   ],
   "source": [
    "#Articles that we have\n",
    "Q14.head(5)"
   ]
  },
  {
   "cell_type": "markdown",
   "metadata": {},
   "source": [
    "Online Search "
   ]
  },
  {
   "cell_type": "code",
   "execution_count": 60,
   "metadata": {
    "scrolled": true
   },
   "outputs": [
    {
     "name": "stdout",
     "output_type": "stream",
     "text": [
      "https://www.niaaa.nih.gov/news-events/news-noteworthy/drinking-alcohol-does-not-prevent-or-treat-coronavirus-infection\n",
      "https://www.euro.who.int/__data/assets/pdf_file/0010/437608/Alcohol-and-COVID-19-what-you-need-to-know.pdf?ua=1\n",
      "https://www.medicalnewstoday.com/articles/alcohol-and-covid-19\n",
      "https://www.medicalnewstoday.com/articles/alcohol-and-covid-19#myths-vs-facts\n",
      "https://www.medicalnewstoday.com/articles/alcohol-and-covid-19#immune-system\n",
      "https://www.medicalnewstoday.com/articles/alcohol-and-covid-19#mental-health\n",
      "https://www.globalhealthnow.org/2020-03/hold-quarantinis-alcohol-and-novel-coronavirus-might-not-mix\n",
      "https://www.alcohol.org/resources/coronavirus-and-alcoholism/\n",
      "https://www.alcohol.org/resources/coronavirus-and-alcoholism/#how-covid-19-affects-those-struggling-with-alcoholism\n",
      "https://www.alcohol.org/resources/coronavirus-and-alcoholism/#anxiety-when-faced-with-the-unknown\n"
     ]
    }
   ],
   "source": [
    "try: \n",
    "    from googlesearch import search \n",
    "except ImportError:  \n",
    "    print(\"Error/Not found\") \n",
    "### Browsing the sourses using different search terms: \n",
    "search14_1 = \"research paper alcohol, drinking and Corona\"\n",
    "\n",
    "##limit to the first 10 relevant links:\n",
    "for a in search(search14_1, tld=\"co.in\", num=10, stop=10, pause=2): \n",
    "    print(a)"
   ]
  },
  {
   "cell_type": "markdown",
   "metadata": {},
   "source": [
    "# 15/ Overweight or obese\n"
   ]
  },
  {
   "cell_type": "code",
   "execution_count": 61,
   "metadata": {},
   "outputs": [],
   "source": [
    "#Create different sets with specialized terms  from our questions \n",
    "Q15_a = tablesAbstract[tablesAbstract['abstract'].str.contains('overweight')]\n",
    "Q15_b = tablesAbstract[tablesAbstract['abstract'].str.contains('obese')]\n",
    "Q15_c = Q15_a[Q15_a['abstract'].str.contains('corona')]\n",
    "Q15_d = Q15_b[Q15_b['abstract'].str.contains('corona')]"
   ]
  },
  {
   "cell_type": "code",
   "execution_count": 62,
   "metadata": {},
   "outputs": [
    {
     "data": {
      "text/plain": [
       "(67, 6)"
      ]
     },
     "execution_count": 62,
     "metadata": {},
     "output_type": "execute_result"
    }
   ],
   "source": [
    "#Concatenitng the dataframes into one table per question and dropping null value \n",
    "Q15 = pd.concat([Q15_c,Q15_d])\n",
    "Q15.dropna(inplace=True)\n",
    "Q15.shape"
   ]
  },
  {
   "cell_type": "code",
   "execution_count": 63,
   "metadata": {},
   "outputs": [
    {
     "data": {
      "text/html": [
       "<div>\n",
       "<style scoped>\n",
       "    .dataframe tbody tr th:only-of-type {\n",
       "        vertical-align: middle;\n",
       "    }\n",
       "\n",
       "    .dataframe tbody tr th {\n",
       "        vertical-align: top;\n",
       "    }\n",
       "\n",
       "    .dataframe thead th {\n",
       "        text-align: right;\n",
       "    }\n",
       "</style>\n",
       "<table border=\"1\" class=\"dataframe\">\n",
       "  <thead>\n",
       "    <tr style=\"text-align: right;\">\n",
       "      <th></th>\n",
       "      <th>title</th>\n",
       "      <th>abstract</th>\n",
       "      <th>publish_time</th>\n",
       "      <th>url</th>\n",
       "      <th>authors</th>\n",
       "      <th>words</th>\n",
       "    </tr>\n",
       "  </thead>\n",
       "  <tbody>\n",
       "    <tr>\n",
       "      <th>12444</th>\n",
       "      <td>2792. Association of Body Mass Index with Rate...</td>\n",
       "      <td>BACKGROUND: Obesity is a serious public health...</td>\n",
       "      <td>2019-10-23</td>\n",
       "      <td>https://www.ncbi.nlm.nih.gov/pmc/articles/PMC6...</td>\n",
       "      <td>Tobolowsky, Farrell A; Zambrano, Laura; Sharp,...</td>\n",
       "      <td>[BACKGROUND, Obesity, is, a, serious, public, ...</td>\n",
       "    </tr>\n",
       "    <tr>\n",
       "      <th>30163</th>\n",
       "      <td>Coronavirus infection in patients with diabetes.</td>\n",
       "      <td>Diabetes mellitus is a complex, multifactorial...</td>\n",
       "      <td>2020</td>\n",
       "      <td>https://doi.org/10.24875/acm.m20000068; https:...</td>\n",
       "      <td>Torres-Tamayo, Margarita; Caracas-Portillo, Na...</td>\n",
       "      <td>[Diabetes, mellitus, is, a, complex, multifact...</td>\n",
       "    </tr>\n",
       "    <tr>\n",
       "      <th>32870</th>\n",
       "      <td>Obesity and COVID-19 Severity in a Designated ...</td>\n",
       "      <td>OBJECTIVE Patients with obesity are at increas...</td>\n",
       "      <td>2020-05-14</td>\n",
       "      <td>https://doi.org/10.2337/dc20-0576; https://www...</td>\n",
       "      <td>Cai, Qingxian; Chen, Fengjuan; Wang, Tao; Luo,...</td>\n",
       "      <td>[OBJECTIVE, Patients, with, obesity, are, at, ...</td>\n",
       "    </tr>\n",
       "    <tr>\n",
       "      <th>38939</th>\n",
       "      <td>Association of the magnitude of weight loss an...</td>\n",
       "      <td>BACKGROUND Findings from the Look AHEAD trial ...</td>\n",
       "      <td>2016</td>\n",
       "      <td>https://doi.org/10.1016/s2213-8587(16)30162-0;...</td>\n",
       "      <td>Gregg, Edward; Jakicic, John; Blackburn, Georg...</td>\n",
       "      <td>[BACKGROUND, Findings, from, the, Look, AHEAD,...</td>\n",
       "    </tr>\n",
       "    <tr>\n",
       "      <th>42761</th>\n",
       "      <td>The Characteristics of 50 Hospitalized COVID-1...</td>\n",
       "      <td>BACKGROUND The type of pneumonia (coronavirus ...</td>\n",
       "      <td>2020-04-17</td>\n",
       "      <td>https://doi.org/10.3238/arztebl.2020.0271; htt...</td>\n",
       "      <td>Dreher, Michael; Kersten, Alexander; Bickenbac...</td>\n",
       "      <td>[BACKGROUND, The, type, of, pneumonia, coronav...</td>\n",
       "    </tr>\n",
       "  </tbody>\n",
       "</table>\n",
       "</div>"
      ],
      "text/plain": [
       "                                                   title  \\\n",
       "12444  2792. Association of Body Mass Index with Rate...   \n",
       "30163   Coronavirus infection in patients with diabetes.   \n",
       "32870  Obesity and COVID-19 Severity in a Designated ...   \n",
       "38939  Association of the magnitude of weight loss an...   \n",
       "42761  The Characteristics of 50 Hospitalized COVID-1...   \n",
       "\n",
       "                                                abstract publish_time  \\\n",
       "12444  BACKGROUND: Obesity is a serious public health...   2019-10-23   \n",
       "30163  Diabetes mellitus is a complex, multifactorial...         2020   \n",
       "32870  OBJECTIVE Patients with obesity are at increas...   2020-05-14   \n",
       "38939  BACKGROUND Findings from the Look AHEAD trial ...         2016   \n",
       "42761  BACKGROUND The type of pneumonia (coronavirus ...   2020-04-17   \n",
       "\n",
       "                                                     url  \\\n",
       "12444  https://www.ncbi.nlm.nih.gov/pmc/articles/PMC6...   \n",
       "30163  https://doi.org/10.24875/acm.m20000068; https:...   \n",
       "32870  https://doi.org/10.2337/dc20-0576; https://www...   \n",
       "38939  https://doi.org/10.1016/s2213-8587(16)30162-0;...   \n",
       "42761  https://doi.org/10.3238/arztebl.2020.0271; htt...   \n",
       "\n",
       "                                                 authors  \\\n",
       "12444  Tobolowsky, Farrell A; Zambrano, Laura; Sharp,...   \n",
       "30163  Torres-Tamayo, Margarita; Caracas-Portillo, Na...   \n",
       "32870  Cai, Qingxian; Chen, Fengjuan; Wang, Tao; Luo,...   \n",
       "38939  Gregg, Edward; Jakicic, John; Blackburn, Georg...   \n",
       "42761  Dreher, Michael; Kersten, Alexander; Bickenbac...   \n",
       "\n",
       "                                                   words  \n",
       "12444  [BACKGROUND, Obesity, is, a, serious, public, ...  \n",
       "30163  [Diabetes, mellitus, is, a, complex, multifact...  \n",
       "32870  [OBJECTIVE, Patients, with, obesity, are, at, ...  \n",
       "38939  [BACKGROUND, Findings, from, the, Look, AHEAD,...  \n",
       "42761  [BACKGROUND, The, type, of, pneumonia, coronav...  "
      ]
     },
     "execution_count": 63,
     "metadata": {},
     "output_type": "execute_result"
    }
   ],
   "source": [
    "#Articles that we have\n",
    "Q15.head(5)"
   ]
  },
  {
   "cell_type": "markdown",
   "metadata": {},
   "source": [
    "Online Search "
   ]
  },
  {
   "cell_type": "code",
   "execution_count": 65,
   "metadata": {
    "scrolled": true
   },
   "outputs": [
    {
     "name": "stdout",
     "output_type": "stream",
     "text": [
      "https://www.ncbi.nlm.nih.gov/pmc/articles/PMC7202807/\n",
      "https://www.ncbi.nlm.nih.gov/pmc/articles/PMC6304312/\n",
      "https://www.ncbi.nlm.nih.gov/pmc/articles/PMC6304312/#irv12618-abs-0001title\n",
      "https://www.ncbi.nlm.nih.gov/pmc/articles/PMC6304312/#irv12618-sec-0006title\n",
      "https://www.ncbi.nlm.nih.gov/pmc/articles/PMC6304312/#irv12618-sec-0014title\n",
      "https://www.ncbi.nlm.nih.gov/pmc/articles/PMC6304312/#irv12618-sec-0015title\n",
      "https://www.bmj.com/content/369/bmj.m2237\n",
      "https://www.medicalnewstoday.com/articles/latest-evidence-on-obesity-and-covid-19\n",
      "https://www.nytimes.com/2020/04/16/health/coronavirus-obesity-higher-risk.html\n",
      "https://www.ahajournals.org/doi/pdf/10.1161/CIRCULATIONAHA.120.047659\n"
     ]
    }
   ],
   "source": [
    "try: \n",
    "    from googlesearch import search \n",
    "except ImportError:  \n",
    "    print(\"Error/Not found\") \n",
    "### Browsing the sourses using different search terms: \n",
    "search15_1 = \"research paper overweight, obese and Corona\"\n",
    "\n",
    "##limit to the first 10 relevant links:\n",
    "for a in search(search15_1, tld=\"co.in\", num=10, stop=10, pause=2): \n",
    "    print(a)"
   ]
  },
  {
   "cell_type": "markdown",
   "metadata": {},
   "source": [
    "# 16/ Chronic liver disease"
   ]
  },
  {
   "cell_type": "code",
   "execution_count": 66,
   "metadata": {},
   "outputs": [],
   "source": [
    "#Create different sets with specialized terms  from our questions \n",
    "Q16_a = tablesAbstract[tablesAbstract['abstract'].str.contains('chronic liver')]\n",
    "Q16_b = Q16_a[Q16_a['abstract'].str.contains('disease')]\n",
    "Q16_c = Q16_b[Q16_b['abstract'].str.contains('corona')]"
   ]
  },
  {
   "cell_type": "code",
   "execution_count": 67,
   "metadata": {},
   "outputs": [
    {
     "data": {
      "text/plain": [
       "(23, 6)"
      ]
     },
     "execution_count": 67,
     "metadata": {},
     "output_type": "execute_result"
    }
   ],
   "source": [
    "#Concatenitng the dataframes into one table per question and dropping null value \n",
    "Q16 = pd.concat([Q16_c])\n",
    "Q16.dropna(inplace=True)\n",
    "Q16.shape"
   ]
  },
  {
   "cell_type": "code",
   "execution_count": 68,
   "metadata": {},
   "outputs": [
    {
     "data": {
      "text/html": [
       "<div>\n",
       "<style scoped>\n",
       "    .dataframe tbody tr th:only-of-type {\n",
       "        vertical-align: middle;\n",
       "    }\n",
       "\n",
       "    .dataframe tbody tr th {\n",
       "        vertical-align: top;\n",
       "    }\n",
       "\n",
       "    .dataframe thead th {\n",
       "        text-align: right;\n",
       "    }\n",
       "</style>\n",
       "<table border=\"1\" class=\"dataframe\">\n",
       "  <thead>\n",
       "    <tr style=\"text-align: right;\">\n",
       "      <th></th>\n",
       "      <th>title</th>\n",
       "      <th>abstract</th>\n",
       "      <th>publish_time</th>\n",
       "      <th>url</th>\n",
       "      <th>authors</th>\n",
       "      <th>words</th>\n",
       "    </tr>\n",
       "  </thead>\n",
       "  <tbody>\n",
       "    <tr>\n",
       "      <th>2791</th>\n",
       "      <td>36th International Symposium on Intensive Care...</td>\n",
       "      <td>P001 - Sepsis impairs the capillary response w...</td>\n",
       "      <td>2016-04-20</td>\n",
       "      <td>https://www.ncbi.nlm.nih.gov/pmc/articles/PMC5...</td>\n",
       "      <td>Bateman, R. M.; Sharpe, M. D.; Jagger, J. E.; ...</td>\n",
       "      <td>[P001, Sepsis, impairs, the, capillary, respon...</td>\n",
       "    </tr>\n",
       "    <tr>\n",
       "      <th>32217</th>\n",
       "      <td>Implications of COVID-19 for the busy gastroen...</td>\n",
       "      <td>Coronavirus disease 2019 (COVID-19) is an infe...</td>\n",
       "      <td>2020-06-02</td>\n",
       "      <td>https://doi.org/10.1097/meg.0000000000001811; ...</td>\n",
       "      <td>Ferreira-Silva, Joel; Peixoto, Armando; Rodrig...</td>\n",
       "      <td>[Coronavirus, disease, 2019, COVID, 19, is, an...</td>\n",
       "    </tr>\n",
       "    <tr>\n",
       "      <th>35353</th>\n",
       "      <td>Principles of Care for Patients with Liver Dis...</td>\n",
       "      <td>In December 2019, a novel coronavirus was iden...</td>\n",
       "      <td>2020-06-21</td>\n",
       "      <td>https://doi.org/10.5144/0256-4947.2020.273; ht...</td>\n",
       "      <td>Alqahtani, Saleh A; Aljumah, Abdulrahman A; Ha...</td>\n",
       "      <td>[In, December, 2019, a, novel, coronavirus, wa...</td>\n",
       "    </tr>\n",
       "    <tr>\n",
       "      <th>37251</th>\n",
       "      <td>Chapter of Gastroenterologists professional gu...</td>\n",
       "      <td>In this paper, we aim to provide professional ...</td>\n",
       "      <td>2020-04-29</td>\n",
       "      <td>https://doi.org/10.11622/smedj.2020069; https:...</td>\n",
       "      <td>Chang, Jason Pik Eu; Wong, Yu Jun; Yang, Wei L...</td>\n",
       "      <td>[In, this, paper, we, aim, to, provide, profes...</td>\n",
       "    </tr>\n",
       "    <tr>\n",
       "      <th>39472</th>\n",
       "      <td>Acute on Chronic Liver Failure from Novel Seve...</td>\n",
       "      <td>The novel severe acute respiratory syndrome co...</td>\n",
       "      <td>2020-05-05</td>\n",
       "      <td>https://doi.org/10.1111/liv.14506; https://www...</td>\n",
       "      <td>Qiu, He; Wander, Praneet; Bernstein, David; Sa...</td>\n",
       "      <td>[The, novel, severe, acute, respiratory, syndr...</td>\n",
       "    </tr>\n",
       "  </tbody>\n",
       "</table>\n",
       "</div>"
      ],
      "text/plain": [
       "                                                   title  \\\n",
       "2791   36th International Symposium on Intensive Care...   \n",
       "32217  Implications of COVID-19 for the busy gastroen...   \n",
       "35353  Principles of Care for Patients with Liver Dis...   \n",
       "37251  Chapter of Gastroenterologists professional gu...   \n",
       "39472  Acute on Chronic Liver Failure from Novel Seve...   \n",
       "\n",
       "                                                abstract publish_time  \\\n",
       "2791   P001 - Sepsis impairs the capillary response w...   2016-04-20   \n",
       "32217  Coronavirus disease 2019 (COVID-19) is an infe...   2020-06-02   \n",
       "35353  In December 2019, a novel coronavirus was iden...   2020-06-21   \n",
       "37251  In this paper, we aim to provide professional ...   2020-04-29   \n",
       "39472  The novel severe acute respiratory syndrome co...   2020-05-05   \n",
       "\n",
       "                                                     url  \\\n",
       "2791   https://www.ncbi.nlm.nih.gov/pmc/articles/PMC5...   \n",
       "32217  https://doi.org/10.1097/meg.0000000000001811; ...   \n",
       "35353  https://doi.org/10.5144/0256-4947.2020.273; ht...   \n",
       "37251  https://doi.org/10.11622/smedj.2020069; https:...   \n",
       "39472  https://doi.org/10.1111/liv.14506; https://www...   \n",
       "\n",
       "                                                 authors  \\\n",
       "2791   Bateman, R. M.; Sharpe, M. D.; Jagger, J. E.; ...   \n",
       "32217  Ferreira-Silva, Joel; Peixoto, Armando; Rodrig...   \n",
       "35353  Alqahtani, Saleh A; Aljumah, Abdulrahman A; Ha...   \n",
       "37251  Chang, Jason Pik Eu; Wong, Yu Jun; Yang, Wei L...   \n",
       "39472  Qiu, He; Wander, Praneet; Bernstein, David; Sa...   \n",
       "\n",
       "                                                   words  \n",
       "2791   [P001, Sepsis, impairs, the, capillary, respon...  \n",
       "32217  [Coronavirus, disease, 2019, COVID, 19, is, an...  \n",
       "35353  [In, December, 2019, a, novel, coronavirus, wa...  \n",
       "37251  [In, this, paper, we, aim, to, provide, profes...  \n",
       "39472  [The, novel, severe, acute, respiratory, syndr...  "
      ]
     },
     "execution_count": 68,
     "metadata": {},
     "output_type": "execute_result"
    }
   ],
   "source": [
    "#Articles that we have\n",
    "Q16.head(5)"
   ]
  },
  {
   "cell_type": "markdown",
   "metadata": {},
   "source": [
    "Online Search "
   ]
  },
  {
   "cell_type": "code",
   "execution_count": 69,
   "metadata": {
    "scrolled": true
   },
   "outputs": [
    {
     "name": "stdout",
     "output_type": "stream",
     "text": [
      "https://www.cdc.gov/coronavirus/2019-ncov/need-extra-precautions/liver-disease.html\n",
      "https://www.ncbi.nlm.nih.gov/pmc/articles/PMC7128473/\n",
      "https://www.ncbi.nlm.nih.gov/pmc/articles/PMC7128473/#abs0010title\n",
      "https://www.ncbi.nlm.nih.gov/pmc/articles/PMC7128473/#sec2title\n",
      "https://www.ncbi.nlm.nih.gov/pmc/articles/PMC7128473/#sec6title\n",
      "https://www.ncbi.nlm.nih.gov/pmc/articles/PMC7128473/#sec7title\n",
      "https://www.ncbi.nlm.nih.gov/pmc/articles/PMC7288259/\n",
      "https://www.frontiersin.org/articles/10.3389/fmed.2020.00398/full\n",
      "https://medicalxpress.com/news/2020-05-high-covid-mortality-liver-disease.html\n",
      "https://www.webmd.com/lung/coronavirus-liver-disease\n"
     ]
    }
   ],
   "source": [
    "try: \n",
    "    from googlesearch import search \n",
    "except ImportError:  \n",
    "    print(\"Error/Not found\") \n",
    "### Browsing the sourses using different search terms: \n",
    "search16_1 = \"research paper chronic liver disease diseases and Corona\"\n",
    "\n",
    "##limit to the first 10 relevant links:\n",
    "for a in search(search16_1, tld=\"co.in\", num=10, stop=10, pause=2): \n",
    "    print(a)"
   ]
  },
  {
   "cell_type": "code",
   "execution_count": null,
   "metadata": {},
   "outputs": [],
   "source": []
  }
 ],
 "metadata": {
  "kernelspec": {
   "display_name": "Python 3",
   "language": "python",
   "name": "python3"
  },
  "language_info": {
   "codemirror_mode": {
    "name": "ipython",
    "version": 3
   },
   "file_extension": ".py",
   "mimetype": "text/x-python",
   "name": "python",
   "nbconvert_exporter": "python",
   "pygments_lexer": "ipython3",
   "version": "3.7.3"
  }
 },
 "nbformat": 4,
 "nbformat_minor": 4
}
