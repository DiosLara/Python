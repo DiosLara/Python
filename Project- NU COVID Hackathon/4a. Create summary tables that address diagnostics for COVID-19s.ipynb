{
 "cells": [
  {
   "cell_type": "code",
   "execution_count": 1,
   "metadata": {},
   "outputs": [],
   "source": [
    "# Importing the libraries \n",
    "import sys\n",
    "import numpy as np \n",
    "import pandas as pd \n",
    "import os "
   ]
  },
  {
   "cell_type": "markdown",
   "metadata": {},
   "source": [
    "### Table: ABSTRACTS"
   ]
  },
  {
   "cell_type": "code",
   "execution_count": 2,
   "metadata": {},
   "outputs": [
    {
     "name": "stderr",
     "output_type": "stream",
     "text": [
      "C:\\Users\\HP\\Anaconda3\\lib\\site-packages\\IPython\\core\\interactiveshell.py:3063: DtypeWarning: Columns (5,6,13,14,16) have mixed types.Specify dtype option on import or set low_memory=False.\n",
      "  interactivity=interactivity, compiler=compiler, result=result)\n"
     ]
    },
    {
     "name": "stdout",
     "output_type": "stream",
     "text": [
      "The number of articles are: 167470\n"
     ]
    }
   ],
   "source": [
    "#Import the information\n",
    "df=pd.read_csv('E:/NorthEastern University/XN-Hackathon Covid/Kaggle Data/metadata.csv') \n",
    "print('The number of articles are:',df.shape[0])"
   ]
  },
  {
   "cell_type": "code",
   "execution_count": 3,
   "metadata": {},
   "outputs": [],
   "source": [
    "#Select only title, abstract, date, link to the article, and authors\n",
    "tablesAbstract= df [['title', 'abstract', 'publish_time', 'url', 'authors']]"
   ]
  },
  {
   "cell_type": "code",
   "execution_count": 4,
   "metadata": {},
   "outputs": [
    {
     "name": "stderr",
     "output_type": "stream",
     "text": [
      "C:\\Users\\HP\\Anaconda3\\lib\\site-packages\\ipykernel_launcher.py:2: SettingWithCopyWarning: \n",
      "A value is trying to be set on a copy of a slice from a DataFrame.\n",
      "Try using .loc[row_indexer,col_indexer] = value instead\n",
      "\n",
      "See the caveats in the documentation: https://pandas.pydata.org/pandas-docs/stable/user_guide/indexing.html#returning-a-view-versus-a-copy\n",
      "  \n"
     ]
    },
    {
     "data": {
      "text/html": [
       "<div>\n",
       "<style scoped>\n",
       "    .dataframe tbody tr th:only-of-type {\n",
       "        vertical-align: middle;\n",
       "    }\n",
       "\n",
       "    .dataframe tbody tr th {\n",
       "        vertical-align: top;\n",
       "    }\n",
       "\n",
       "    .dataframe thead th {\n",
       "        text-align: right;\n",
       "    }\n",
       "</style>\n",
       "<table border=\"1\" class=\"dataframe\">\n",
       "  <thead>\n",
       "    <tr style=\"text-align: right;\">\n",
       "      <th></th>\n",
       "      <th>title</th>\n",
       "      <th>abstract</th>\n",
       "      <th>publish_time</th>\n",
       "      <th>url</th>\n",
       "      <th>authors</th>\n",
       "      <th>words</th>\n",
       "    </tr>\n",
       "  </thead>\n",
       "  <tbody>\n",
       "    <tr>\n",
       "      <th>0</th>\n",
       "      <td>Clinical features of culture-proven Mycoplasma...</td>\n",
       "      <td>OBJECTIVE: This retrospective chart review des...</td>\n",
       "      <td>2001-07-04</td>\n",
       "      <td>https://www.ncbi.nlm.nih.gov/pmc/articles/PMC3...</td>\n",
       "      <td>Madani, Tariq A; Al-Ghamdi, Aisha A</td>\n",
       "      <td>[OBJECTIVE, This, retrospective, chart, review...</td>\n",
       "    </tr>\n",
       "    <tr>\n",
       "      <th>1</th>\n",
       "      <td>Nitric oxide: a pro-inflammatory mediator in l...</td>\n",
       "      <td>Inflammatory diseases of the respiratory tract...</td>\n",
       "      <td>2000-08-15</td>\n",
       "      <td>https://www.ncbi.nlm.nih.gov/pmc/articles/PMC5...</td>\n",
       "      <td>Vliet, Albert van der; Eiserich, Jason P; Cros...</td>\n",
       "      <td>[Inflammatory, diseases, of, the, respiratory,...</td>\n",
       "    </tr>\n",
       "    <tr>\n",
       "      <th>2</th>\n",
       "      <td>Surfactant protein-D and pulmonary host defense</td>\n",
       "      <td>Surfactant protein-D (SP-D) participates in th...</td>\n",
       "      <td>2000-08-25</td>\n",
       "      <td>https://www.ncbi.nlm.nih.gov/pmc/articles/PMC5...</td>\n",
       "      <td>Crouch, Erika C</td>\n",
       "      <td>[Surfactant, protein, D, SP, D, participates, ...</td>\n",
       "    </tr>\n",
       "  </tbody>\n",
       "</table>\n",
       "</div>"
      ],
      "text/plain": [
       "                                               title  \\\n",
       "0  Clinical features of culture-proven Mycoplasma...   \n",
       "1  Nitric oxide: a pro-inflammatory mediator in l...   \n",
       "2    Surfactant protein-D and pulmonary host defense   \n",
       "\n",
       "                                            abstract publish_time  \\\n",
       "0  OBJECTIVE: This retrospective chart review des...   2001-07-04   \n",
       "1  Inflammatory diseases of the respiratory tract...   2000-08-15   \n",
       "2  Surfactant protein-D (SP-D) participates in th...   2000-08-25   \n",
       "\n",
       "                                                 url  \\\n",
       "0  https://www.ncbi.nlm.nih.gov/pmc/articles/PMC3...   \n",
       "1  https://www.ncbi.nlm.nih.gov/pmc/articles/PMC5...   \n",
       "2  https://www.ncbi.nlm.nih.gov/pmc/articles/PMC5...   \n",
       "\n",
       "                                             authors  \\\n",
       "0                Madani, Tariq A; Al-Ghamdi, Aisha A   \n",
       "1  Vliet, Albert van der; Eiserich, Jason P; Cros...   \n",
       "2                                    Crouch, Erika C   \n",
       "\n",
       "                                               words  \n",
       "0  [OBJECTIVE, This, retrospective, chart, review...  \n",
       "1  [Inflammatory, diseases, of, the, respiratory,...  \n",
       "2  [Surfactant, protein, D, SP, D, participates, ...  "
      ]
     },
     "execution_count": 4,
     "metadata": {},
     "output_type": "execute_result"
    }
   ],
   "source": [
    "#Seperate the words in the Abstract columns \n",
    "tablesAbstract['words']=  tablesAbstract.abstract.str.strip().str.split('[\\W_]+')\n",
    "tablesAbstract = tablesAbstract[tablesAbstract.words.str.len() > 0]\n",
    "                                        #rid of all the input that have the Words column less than 0 \n",
    "tablesAbstract.head(3)"
   ]
  },
  {
   "cell_type": "code",
   "execution_count": 5,
   "metadata": {},
   "outputs": [
    {
     "name": "stdout",
     "output_type": "stream",
     "text": [
      "The number of articles after reduction is: 122492\n"
     ]
    }
   ],
   "source": [
    "print('The number of articles after reduction is:', tablesAbstract.shape[0])"
   ]
  },
  {
   "cell_type": "markdown",
   "metadata": {},
   "source": [
    "# ==> We will analyze what the articles available in the dataset and then also search online resources for each questions "
   ]
  },
  {
   "cell_type": "markdown",
   "metadata": {},
   "source": [
    "# -------------------------------------------------------------------------------------------------------------"
   ]
  },
  {
   "cell_type": "markdown",
   "metadata": {},
   "source": [
    "Scraping the web using beautifulsoup4 and Google "
   ]
  },
  {
   "cell_type": "code",
   "execution_count": 6,
   "metadata": {},
   "outputs": [
    {
     "name": "stdout",
     "output_type": "stream",
     "text": [
      "Requirement already satisfied: google in c:\\users\\hp\\anaconda3\\lib\\site-packages (3.0.0)\n",
      "Requirement already satisfied: beautifulsoup4 in c:\\users\\hp\\anaconda3\\lib\\site-packages (from google) (4.9.0)\n",
      "Requirement already satisfied: soupsieve>1.2 in c:\\users\\hp\\anaconda3\\lib\\site-packages (from beautifulsoup4->google) (2.0)\n",
      "Note: you may need to restart the kernel to use updated packages.\n"
     ]
    }
   ],
   "source": [
    "pip install google"
   ]
  },
  {
   "cell_type": "code",
   "execution_count": 7,
   "metadata": {},
   "outputs": [
    {
     "name": "stdout",
     "output_type": "stream",
     "text": [
      "Requirement already satisfied: beautifulsoup4 in c:\\users\\hp\\anaconda3\\lib\\site-packages (4.9.0)\n",
      "Requirement already satisfied: soupsieve>1.2 in c:\\users\\hp\\anaconda3\\lib\\site-packages (from beautifulsoup4) (2.0)\n",
      "Note: you may need to restart the kernel to use updated packages.\n"
     ]
    }
   ],
   "source": [
    "pip install beautifulsoup4"
   ]
  },
  {
   "cell_type": "markdown",
   "metadata": {},
   "source": [
    "# 1/ What do we know about diagnostics and coronavirus?"
   ]
  },
  {
   "cell_type": "code",
   "execution_count": 8,
   "metadata": {},
   "outputs": [],
   "source": [
    "#Create different sets with specialized terms  from our questions \n",
    "Q1_a = tablesAbstract[tablesAbstract['abstract'].str.contains('diagnostics')]"
   ]
  },
  {
   "cell_type": "code",
   "execution_count": 10,
   "metadata": {},
   "outputs": [
    {
     "data": {
      "text/plain": [
       "(1029, 6)"
      ]
     },
     "execution_count": 10,
     "metadata": {},
     "output_type": "execute_result"
    }
   ],
   "source": [
    "#Concatenitng the dataframes into one table per question and dropping null value \n",
    "Q1 = pd.concat([Q1_a])\n",
    "Q1.dropna(inplace=True)\n",
    "Q1.shape"
   ]
  },
  {
   "cell_type": "code",
   "execution_count": 11,
   "metadata": {},
   "outputs": [
    {
     "data": {
      "text/html": [
       "<div>\n",
       "<style scoped>\n",
       "    .dataframe tbody tr th:only-of-type {\n",
       "        vertical-align: middle;\n",
       "    }\n",
       "\n",
       "    .dataframe tbody tr th {\n",
       "        vertical-align: top;\n",
       "    }\n",
       "\n",
       "    .dataframe thead th {\n",
       "        text-align: right;\n",
       "    }\n",
       "</style>\n",
       "<table border=\"1\" class=\"dataframe\">\n",
       "  <thead>\n",
       "    <tr style=\"text-align: right;\">\n",
       "      <th></th>\n",
       "      <th>title</th>\n",
       "      <th>abstract</th>\n",
       "      <th>publish_time</th>\n",
       "      <th>url</th>\n",
       "      <th>authors</th>\n",
       "      <th>words</th>\n",
       "    </tr>\n",
       "  </thead>\n",
       "  <tbody>\n",
       "    <tr>\n",
       "      <th>74</th>\n",
       "      <td>MIMOX: a web tool for phage display based epit...</td>\n",
       "      <td>BACKGROUND: Phage display is widely used in ba...</td>\n",
       "      <td>2006-10-12</td>\n",
       "      <td>https://www.ncbi.nlm.nih.gov/pmc/articles/PMC1...</td>\n",
       "      <td>Huang, Jian; Gutteridge, Alex; Honda, Wataru; ...</td>\n",
       "      <td>[BACKGROUND, Phage, display, is, widely, used,...</td>\n",
       "    </tr>\n",
       "    <tr>\n",
       "      <th>292</th>\n",
       "      <td>Emerging Technologies for the Detection of Rab...</td>\n",
       "      <td>The diagnosis of rabies is routinely based on ...</td>\n",
       "      <td>2009-09-29</td>\n",
       "      <td>https://www.ncbi.nlm.nih.gov/pmc/articles/PMC2...</td>\n",
       "      <td>Fooks, Anthony R.; Johnson, Nicholas; Freuling...</td>\n",
       "      <td>[The, diagnosis, of, rabies, is, routinely, ba...</td>\n",
       "    </tr>\n",
       "    <tr>\n",
       "      <th>509</th>\n",
       "      <td>Avipoxviruses: infection biology and their use...</td>\n",
       "      <td>Avipoxviruses (APVs) belong to the Chordopoxvi...</td>\n",
       "      <td>2011-02-03</td>\n",
       "      <td>https://www.ncbi.nlm.nih.gov/pmc/articles/PMC3...</td>\n",
       "      <td>Weli, Simon C; Tryland, Morten</td>\n",
       "      <td>[Avipoxviruses, APVs, belong, to, the, Chordop...</td>\n",
       "    </tr>\n",
       "    <tr>\n",
       "      <th>561</th>\n",
       "      <td>A Simple, Inexpensive Device for Nucleic Acid ...</td>\n",
       "      <td>BACKGROUND: Molecular assays targeted to nucle...</td>\n",
       "      <td>2011-05-09</td>\n",
       "      <td>https://www.ncbi.nlm.nih.gov/pmc/articles/PMC3...</td>\n",
       "      <td>LaBarre, Paul; Hawkins, Kenneth R.; Gerlach, J...</td>\n",
       "      <td>[BACKGROUND, Molecular, assays, targeted, to, ...</td>\n",
       "    </tr>\n",
       "    <tr>\n",
       "      <th>619</th>\n",
       "      <td>Identification of a Highly Conserved H1 Subtyp...</td>\n",
       "      <td>Subtype specificity of influenza A virus (IAV)...</td>\n",
       "      <td>2011-08-19</td>\n",
       "      <td>https://www.ncbi.nlm.nih.gov/pmc/articles/PMC3...</td>\n",
       "      <td>Zhao, Rongmao; Cui, Shujuan; Guo, Li; Wu, Chao...</td>\n",
       "      <td>[Subtype, specificity, of, influenza, A, virus...</td>\n",
       "    </tr>\n",
       "  </tbody>\n",
       "</table>\n",
       "</div>"
      ],
      "text/plain": [
       "                                                 title  \\\n",
       "74   MIMOX: a web tool for phage display based epit...   \n",
       "292  Emerging Technologies for the Detection of Rab...   \n",
       "509  Avipoxviruses: infection biology and their use...   \n",
       "561  A Simple, Inexpensive Device for Nucleic Acid ...   \n",
       "619  Identification of a Highly Conserved H1 Subtyp...   \n",
       "\n",
       "                                              abstract publish_time  \\\n",
       "74   BACKGROUND: Phage display is widely used in ba...   2006-10-12   \n",
       "292  The diagnosis of rabies is routinely based on ...   2009-09-29   \n",
       "509  Avipoxviruses (APVs) belong to the Chordopoxvi...   2011-02-03   \n",
       "561  BACKGROUND: Molecular assays targeted to nucle...   2011-05-09   \n",
       "619  Subtype specificity of influenza A virus (IAV)...   2011-08-19   \n",
       "\n",
       "                                                   url  \\\n",
       "74   https://www.ncbi.nlm.nih.gov/pmc/articles/PMC1...   \n",
       "292  https://www.ncbi.nlm.nih.gov/pmc/articles/PMC2...   \n",
       "509  https://www.ncbi.nlm.nih.gov/pmc/articles/PMC3...   \n",
       "561  https://www.ncbi.nlm.nih.gov/pmc/articles/PMC3...   \n",
       "619  https://www.ncbi.nlm.nih.gov/pmc/articles/PMC3...   \n",
       "\n",
       "                                               authors  \\\n",
       "74   Huang, Jian; Gutteridge, Alex; Honda, Wataru; ...   \n",
       "292  Fooks, Anthony R.; Johnson, Nicholas; Freuling...   \n",
       "509                     Weli, Simon C; Tryland, Morten   \n",
       "561  LaBarre, Paul; Hawkins, Kenneth R.; Gerlach, J...   \n",
       "619  Zhao, Rongmao; Cui, Shujuan; Guo, Li; Wu, Chao...   \n",
       "\n",
       "                                                 words  \n",
       "74   [BACKGROUND, Phage, display, is, widely, used,...  \n",
       "292  [The, diagnosis, of, rabies, is, routinely, ba...  \n",
       "509  [Avipoxviruses, APVs, belong, to, the, Chordop...  \n",
       "561  [BACKGROUND, Molecular, assays, targeted, to, ...  \n",
       "619  [Subtype, specificity, of, influenza, A, virus...  "
      ]
     },
     "execution_count": 11,
     "metadata": {},
     "output_type": "execute_result"
    }
   ],
   "source": [
    "#Articles that we have\n",
    "Q1.head(5)"
   ]
  },
  {
   "cell_type": "markdown",
   "metadata": {},
   "source": [
    "Online Search "
   ]
  },
  {
   "cell_type": "code",
   "execution_count": 12,
   "metadata": {},
   "outputs": [
    {
     "name": "stdout",
     "output_type": "stream",
     "text": [
      "https://www.cdc.gov/coronavirus/2019-ncov/lab/index.html\n",
      "https://www.cdc.gov/coronavirus/2019-ncov/lab/rt-pcr-panel-primer-probes.html\n",
      "https://www.cdc.gov/coronavirus/2019-ncov/lab/testing.html\n",
      "https://www.cdc.gov/coronavirus/2019-ncov/lab/guidelines-clinical-specimens.html\n",
      "https://www.cdc.gov/coronavirus/2019-ncov/lab/virus-requests.html\n",
      "https://www.fda.gov/regulatory-information/search-fda-guidance-documents/policy-coronavirus-disease-2019-tests-during-public-health-emergency-revised\n",
      "https://www.uwmedicine.org/coronavirus\n",
      "https://www.uwmedicine.org/coronavirus/antibodytest\n",
      "https://www.uwmedicine.org/coronavirus/testing\n",
      "https://www.uwmedicine.org/coronavirus/visitor-policy\n",
      "https://www.doh.wa.gov/Emergencies/NovelCoronavirusOutbreak2020COVID19/TestingforCOVID19\n",
      "https://www.questdiagnostics.com/home/Covid-19/Patients/\n",
      "https://www.cidrap.umn.edu/covid-19/lab-guidance-diagnostics\n",
      "https://www.centerforhealthsecurity.org/resources/COVID-19/COVID-19-fact-sheets/200130-nCoV-diagnostics-factsheet.pdf\n",
      "https://www.vdh.virginia.gov/coronavirus/covid-19-testing/\n",
      "https://diagnostics.roche.com/us/en/landing-pages/general-information-cobas-sars-cov-2-coronavirus-test.html\n",
      "https://www.labcorp.com/coronavirus-disease-covid-19/patient-information/covid-19-testing-options\n",
      "https://www.fic.nih.gov/ResearchTopics/Pages/infectiousdiseases-coronavirus-cov.aspx\n",
      "https://jamanetwork.com/journals/jama/fullarticle/2762951\n",
      "http://publichealth.lacounty.gov/acd/nCorona2019/test.htm\n"
     ]
    }
   ],
   "source": [
    "try: \n",
    "    from googlesearch import search \n",
    "except ImportError:  \n",
    "    print(\"Error/Not found\") \n",
    "### Browsing the sourses using different search terms: \n",
    "search1_1 = \"information about diagnostics and coronavirus\"\n",
    "\n",
    "##limit to the first 10 relevant links:\n",
    "for a in search(search1_1, tld=\"co.in\", num=20, stop=20, pause=2): \n",
    "    print(a)"
   ]
  },
  {
   "cell_type": "markdown",
   "metadata": {},
   "source": [
    "# 2/ New advances in diagnosing SARS-COV-2"
   ]
  },
  {
   "cell_type": "code",
   "execution_count": 27,
   "metadata": {},
   "outputs": [],
   "source": [
    "#Create different sets with specialized terms  from our questions \n",
    "Q2_a = tablesAbstract[tablesAbstract['abstract'].str.contains('diagnosing')]\n",
    "Q2_b = Q2_a[Q2_a['abstract'].str.contains('discovery')]\n",
    "Q2_c = Q2_a[Q2_a['abstract'].str.contains('new')]"
   ]
  },
  {
   "cell_type": "code",
   "execution_count": 28,
   "metadata": {},
   "outputs": [
    {
     "data": {
      "text/plain": [
       "(62, 6)"
      ]
     },
     "execution_count": 28,
     "metadata": {},
     "output_type": "execute_result"
    }
   ],
   "source": [
    "#Concatenitng the dataframes into one table per question and dropping null value \n",
    "Q2 = pd.concat([Q2_b,Q2_c])\n",
    "Q2.dropna(inplace=True)\n",
    "Q2.shape"
   ]
  },
  {
   "cell_type": "code",
   "execution_count": 29,
   "metadata": {},
   "outputs": [
    {
     "data": {
      "text/html": [
       "<div>\n",
       "<style scoped>\n",
       "    .dataframe tbody tr th:only-of-type {\n",
       "        vertical-align: middle;\n",
       "    }\n",
       "\n",
       "    .dataframe tbody tr th {\n",
       "        vertical-align: top;\n",
       "    }\n",
       "\n",
       "    .dataframe thead th {\n",
       "        text-align: right;\n",
       "    }\n",
       "</style>\n",
       "<table border=\"1\" class=\"dataframe\">\n",
       "  <thead>\n",
       "    <tr style=\"text-align: right;\">\n",
       "      <th></th>\n",
       "      <th>title</th>\n",
       "      <th>abstract</th>\n",
       "      <th>publish_time</th>\n",
       "      <th>url</th>\n",
       "      <th>authors</th>\n",
       "      <th>words</th>\n",
       "    </tr>\n",
       "  </thead>\n",
       "  <tbody>\n",
       "    <tr>\n",
       "      <th>71732</th>\n",
       "      <td>Application and optimization of RT-PCR in diag...</td>\n",
       "      <td>Background: Coronavirus Disease 2019 (COVID-19...</td>\n",
       "      <td>2020-02-27</td>\n",
       "      <td>https://doi.org/10.1101/2020.02.25.20027755</td>\n",
       "      <td>Jiang, Guanmin; Ren, Xiaoshuai; Liu, Yan; Chen...</td>\n",
       "      <td>[Background, Coronavirus, Disease, 2019, COVID...</td>\n",
       "    </tr>\n",
       "    <tr>\n",
       "      <th>78329</th>\n",
       "      <td>Biomarkers: mining the biofluid proteome.</td>\n",
       "      <td>Proteomics has brought with it the hope of ide...</td>\n",
       "      <td>2005</td>\n",
       "      <td>https://www.ncbi.nlm.nih.gov/pubmed/15684407/</td>\n",
       "      <td>Veenstra, Timothy D; Conrads, Thomas P; Hood, ...</td>\n",
       "      <td>[Proteomics, has, brought, with, it, the, hope...</td>\n",
       "    </tr>\n",
       "    <tr>\n",
       "      <th>82615</th>\n",
       "      <td>Development of a respiratory virus panel test ...</td>\n",
       "      <td>Virology laboratories historically have used d...</td>\n",
       "      <td>2007</td>\n",
       "      <td>https://www.ncbi.nlm.nih.gov/pubmed/17596360/</td>\n",
       "      <td>Mahony, J; Chong, S; Merante, F; Yaghoubian, S...</td>\n",
       "      <td>[Virology, laboratories, historically, have, u...</td>\n",
       "    </tr>\n",
       "    <tr>\n",
       "      <th>128997</th>\n",
       "      <td>Chapter 5 Clinical Applications of Quantitativ...</td>\n",
       "      <td>Abstract Since the invention of the polymerase...</td>\n",
       "      <td>2015-12-31</td>\n",
       "      <td>https://www.sciencedirect.com/science/article/...</td>\n",
       "      <td>Engstrom-Melnyk, Julia; Rodriguez, Pedro L.; P...</td>\n",
       "      <td>[Abstract, Since, the, invention, of, the, pol...</td>\n",
       "    </tr>\n",
       "    <tr>\n",
       "      <th>144436</th>\n",
       "      <td>Chapter 6 Involvement and Roles of Long Noncod...</td>\n",
       "      <td>Abstract The studies on the mechanisms of vira...</td>\n",
       "      <td>2020-12-31</td>\n",
       "      <td>https://api.elsevier.com/content/article/pii/B...</td>\n",
       "      <td>Lamsisi, Maryame; Ennaji, Moulay Mustapha</td>\n",
       "      <td>[Abstract, The, studies, on, the, mechanisms, ...</td>\n",
       "    </tr>\n",
       "  </tbody>\n",
       "</table>\n",
       "</div>"
      ],
      "text/plain": [
       "                                                    title  \\\n",
       "71732   Application and optimization of RT-PCR in diag...   \n",
       "78329           Biomarkers: mining the biofluid proteome.   \n",
       "82615   Development of a respiratory virus panel test ...   \n",
       "128997  Chapter 5 Clinical Applications of Quantitativ...   \n",
       "144436  Chapter 6 Involvement and Roles of Long Noncod...   \n",
       "\n",
       "                                                 abstract publish_time  \\\n",
       "71732   Background: Coronavirus Disease 2019 (COVID-19...   2020-02-27   \n",
       "78329   Proteomics has brought with it the hope of ide...         2005   \n",
       "82615   Virology laboratories historically have used d...         2007   \n",
       "128997  Abstract Since the invention of the polymerase...   2015-12-31   \n",
       "144436  Abstract The studies on the mechanisms of vira...   2020-12-31   \n",
       "\n",
       "                                                      url  \\\n",
       "71732         https://doi.org/10.1101/2020.02.25.20027755   \n",
       "78329       https://www.ncbi.nlm.nih.gov/pubmed/15684407/   \n",
       "82615       https://www.ncbi.nlm.nih.gov/pubmed/17596360/   \n",
       "128997  https://www.sciencedirect.com/science/article/...   \n",
       "144436  https://api.elsevier.com/content/article/pii/B...   \n",
       "\n",
       "                                                  authors  \\\n",
       "71732   Jiang, Guanmin; Ren, Xiaoshuai; Liu, Yan; Chen...   \n",
       "78329   Veenstra, Timothy D; Conrads, Thomas P; Hood, ...   \n",
       "82615   Mahony, J; Chong, S; Merante, F; Yaghoubian, S...   \n",
       "128997  Engstrom-Melnyk, Julia; Rodriguez, Pedro L.; P...   \n",
       "144436          Lamsisi, Maryame; Ennaji, Moulay Mustapha   \n",
       "\n",
       "                                                    words  \n",
       "71732   [Background, Coronavirus, Disease, 2019, COVID...  \n",
       "78329   [Proteomics, has, brought, with, it, the, hope...  \n",
       "82615   [Virology, laboratories, historically, have, u...  \n",
       "128997  [Abstract, Since, the, invention, of, the, pol...  \n",
       "144436  [Abstract, The, studies, on, the, mechanisms, ...  "
      ]
     },
     "execution_count": 29,
     "metadata": {},
     "output_type": "execute_result"
    }
   ],
   "source": [
    "#Articles that we have\n",
    "Q2.head(5)"
   ]
  },
  {
   "cell_type": "markdown",
   "metadata": {},
   "source": [
    "Online Search"
   ]
  },
  {
   "cell_type": "code",
   "execution_count": 21,
   "metadata": {},
   "outputs": [
    {
     "name": "stdout",
     "output_type": "stream",
     "text": [
      "https://www.ncbi.nlm.nih.gov/books/NBK92477/\n",
      "https://www.mayoclinic.org/diseases-conditions/coronavirus/diagnosis-treatment/drc-20479976\n",
      "https://www.mayoclinic.org/diseases-conditions/coronavirus/symptoms-causes/syc-20479963\n",
      "https://www.mayoclinic.org/diseases-conditions/coronavirus/expert-answers/coronavirus-drugs/faq-20485627\n",
      "https://www.mayoclinic.org/tests-procedures/covid-19-diagnostic-test/about/pac-20488900\n",
      "https://www.cas.org/blog/covid-19-diagnostic-testing\n",
      "https://www.fda.gov/news-events/press-announcements/coronavirus-covid-19-update-fda-continues-facilitate-development-treatments\n",
      "https://www.nature.com/articles/d41586-020-00827-6\n",
      "https://www.hopkinsmedicine.org/coronavirus/coronavirus-research/\n",
      "https://www.sciencedirect.com/science/article/pii/S2095177920302082\n",
      "https://academic.oup.com/cid/advance-article/doi/10.1093/cid/ciaa742/5854652\n",
      "https://www.israel21c.org/israeli-firm-advances-diagnostic-solutions-for-covid-19/\n",
      "https://www.sciencemag.org/news/2020/04/nih-launches-competition-speed-covid-19-diagnostics\n",
      "https://www.medicalnewstoday.com/coronavirus\n",
      "https://www.acpjournals.org/doi/10.7326/M20-1301\n",
      "https://www.researchgate.net/publication/340457768_In_Vitro_Diagnostic_Assays_for_COVID-19_Recent_Advances_and_Emerging_Trends\n",
      "https://www.medicare.gov/medicare-coronavirus\n",
      "https://www.mdpi.com/2075-4418/10/4/202/pdf\n",
      "https://www.cdc.gov/coronavirus/2019-ncov/hcp/clinical-guidance-management-patients.html\n",
      "https://www.eurekalert.org/pub_releases/2020-04/acs-cdt043020.php\n"
     ]
    }
   ],
   "source": [
    "try: \n",
    "    from googlesearch import search \n",
    "except ImportError:  \n",
    "    print(\"Error/Not found\") \n",
    "### Browsing the sourses using different search terms: \n",
    "search2_1 = \"advances in diagnosing Corona\"\n",
    "\n",
    "\n",
    "##limit to the first 10 relevant links:\n",
    "for a in search(search2_1, tld=\"co.in\", num=20, stop=20, pause=2): \n",
    "    print(a)"
   ]
  },
  {
   "cell_type": "markdown",
   "metadata": {},
   "source": [
    "# 3/ Development of a point-of-care test and rapid bed-side tests"
   ]
  },
  {
   "cell_type": "code",
   "execution_count": 35,
   "metadata": {},
   "outputs": [],
   "source": [
    "#Create different sets with specialized terms  from our questions \n",
    "Q3_a = tablesAbstract[tablesAbstract['abstract'].str.contains(' point-of-care test ')]\n",
    "Q3_b = tablesAbstract[tablesAbstract['abstract'].str.contains('bedside tests')]"
   ]
  },
  {
   "cell_type": "code",
   "execution_count": 38,
   "metadata": {},
   "outputs": [
    {
     "data": {
      "text/plain": [
       "(22, 6)"
      ]
     },
     "execution_count": 38,
     "metadata": {},
     "output_type": "execute_result"
    }
   ],
   "source": [
    "#Concatenitng the dataframes into one table per question and dropping null value \n",
    "Q3 = pd.concat([Q3_a,Q3_b])\n",
    "Q3.dropna(inplace=True)\n",
    "Q3.shape"
   ]
  },
  {
   "cell_type": "code",
   "execution_count": 39,
   "metadata": {},
   "outputs": [
    {
     "data": {
      "text/html": [
       "<div>\n",
       "<style scoped>\n",
       "    .dataframe tbody tr th:only-of-type {\n",
       "        vertical-align: middle;\n",
       "    }\n",
       "\n",
       "    .dataframe tbody tr th {\n",
       "        vertical-align: top;\n",
       "    }\n",
       "\n",
       "    .dataframe thead th {\n",
       "        text-align: right;\n",
       "    }\n",
       "</style>\n",
       "<table border=\"1\" class=\"dataframe\">\n",
       "  <thead>\n",
       "    <tr style=\"text-align: right;\">\n",
       "      <th></th>\n",
       "      <th>title</th>\n",
       "      <th>abstract</th>\n",
       "      <th>publish_time</th>\n",
       "      <th>url</th>\n",
       "      <th>authors</th>\n",
       "      <th>words</th>\n",
       "    </tr>\n",
       "  </thead>\n",
       "  <tbody>\n",
       "    <tr>\n",
       "      <th>4020</th>\n",
       "      <td>Introducing a New Algorithm for Classification...</td>\n",
       "      <td>BACKGROUND: There is a need to better distingu...</td>\n",
       "      <td>2019-04-26</td>\n",
       "      <td>https://www.ncbi.nlm.nih.gov/pmc/articles/PMC6...</td>\n",
       "      <td>Rhedin, Samuel Arthur; Eklundh, Annika; Ryd-Ri...</td>\n",
       "      <td>[BACKGROUND, There, is, a, need, to, better, d...</td>\n",
       "    </tr>\n",
       "    <tr>\n",
       "      <th>4233</th>\n",
       "      <td>Applying a Linear Amplification Strategy to Re...</td>\n",
       "      <td>[Image: see text] Recombinase polymerase ampli...</td>\n",
       "      <td>2019-11-12</td>\n",
       "      <td>https://www.ncbi.nlm.nih.gov/pmc/articles/PMC6...</td>\n",
       "      <td>Lee, Jeewon; Heo, Sunghoon; Bang, Duhee</td>\n",
       "      <td>[, Image, see, text, Recombinase, polymerase, ...</td>\n",
       "    </tr>\n",
       "    <tr>\n",
       "      <th>5596</th>\n",
       "      <td>Influenza</td>\n",
       "      <td>Influenza continues to baffle humans by its co...</td>\n",
       "      <td>2020-02-11</td>\n",
       "      <td>https://www.ncbi.nlm.nih.gov/pmc/articles/PMC7...</td>\n",
       "      <td>Dharmapalan, Dhanya</td>\n",
       "      <td>[Influenza, continues, to, baffle, humans, by,...</td>\n",
       "    </tr>\n",
       "    <tr>\n",
       "      <th>28415</th>\n",
       "      <td>Evaluating the use of posterior oropharyngeal ...</td>\n",
       "      <td>During the Coronavirus disease 2019 (COVID-19)...</td>\n",
       "      <td>2020-05-27</td>\n",
       "      <td>https://doi.org/10.1080/22221751.2020.1775133;...</td>\n",
       "      <td>Chen, Jonathan Hon-Kwan; Yip, Cyril Chik-Yan; ...</td>\n",
       "      <td>[During, the, Coronavirus, disease, 2019, COVI...</td>\n",
       "    </tr>\n",
       "    <tr>\n",
       "      <th>40840</th>\n",
       "      <td>Lateral flow urine lipoarabinomannan assay for...</td>\n",
       "      <td>BACKGROUND The lateral flow urine lipoarabinom...</td>\n",
       "      <td>2019</td>\n",
       "      <td>https://doi.org/10.1002/14651858.cd011420.pub3...</td>\n",
       "      <td>Bjerrum, Stephanie; Schiller, Ian; Dendukuri, ...</td>\n",
       "      <td>[BACKGROUND, The, lateral, flow, urine, lipoar...</td>\n",
       "    </tr>\n",
       "  </tbody>\n",
       "</table>\n",
       "</div>"
      ],
      "text/plain": [
       "                                                   title  \\\n",
       "4020   Introducing a New Algorithm for Classification...   \n",
       "4233   Applying a Linear Amplification Strategy to Re...   \n",
       "5596                                           Influenza   \n",
       "28415  Evaluating the use of posterior oropharyngeal ...   \n",
       "40840  Lateral flow urine lipoarabinomannan assay for...   \n",
       "\n",
       "                                                abstract publish_time  \\\n",
       "4020   BACKGROUND: There is a need to better distingu...   2019-04-26   \n",
       "4233   [Image: see text] Recombinase polymerase ampli...   2019-11-12   \n",
       "5596   Influenza continues to baffle humans by its co...   2020-02-11   \n",
       "28415  During the Coronavirus disease 2019 (COVID-19)...   2020-05-27   \n",
       "40840  BACKGROUND The lateral flow urine lipoarabinom...         2019   \n",
       "\n",
       "                                                     url  \\\n",
       "4020   https://www.ncbi.nlm.nih.gov/pmc/articles/PMC6...   \n",
       "4233   https://www.ncbi.nlm.nih.gov/pmc/articles/PMC6...   \n",
       "5596   https://www.ncbi.nlm.nih.gov/pmc/articles/PMC7...   \n",
       "28415  https://doi.org/10.1080/22221751.2020.1775133;...   \n",
       "40840  https://doi.org/10.1002/14651858.cd011420.pub3...   \n",
       "\n",
       "                                                 authors  \\\n",
       "4020   Rhedin, Samuel Arthur; Eklundh, Annika; Ryd-Ri...   \n",
       "4233             Lee, Jeewon; Heo, Sunghoon; Bang, Duhee   \n",
       "5596                                 Dharmapalan, Dhanya   \n",
       "28415  Chen, Jonathan Hon-Kwan; Yip, Cyril Chik-Yan; ...   \n",
       "40840  Bjerrum, Stephanie; Schiller, Ian; Dendukuri, ...   \n",
       "\n",
       "                                                   words  \n",
       "4020   [BACKGROUND, There, is, a, need, to, better, d...  \n",
       "4233   [, Image, see, text, Recombinase, polymerase, ...  \n",
       "5596   [Influenza, continues, to, baffle, humans, by,...  \n",
       "28415  [During, the, Coronavirus, disease, 2019, COVI...  \n",
       "40840  [BACKGROUND, The, lateral, flow, urine, lipoar...  "
      ]
     },
     "execution_count": 39,
     "metadata": {},
     "output_type": "execute_result"
    }
   ],
   "source": [
    "#Articles that we have\n",
    "Q3.head(5)"
   ]
  },
  {
   "cell_type": "markdown",
   "metadata": {},
   "source": [
    "Online Search"
   ]
  },
  {
   "cell_type": "code",
   "execution_count": 40,
   "metadata": {},
   "outputs": [
    {
     "name": "stdout",
     "output_type": "stream",
     "text": [
      "https://www.future-diagnostics.com/services/point-of-care-test-development/?sa=X&ved=2ahUKEwjl-um59dLqAhXxNX0KHbBbCe4Q9QF6BAgKEAI\n",
      "https://www.future-diagnostics.com/services/point-of-care-test-development/\n",
      "https://www.ncbi.nlm.nih.gov/pmc/articles/PMC5746785/\n",
      "https://journals.lww.com/poctjournal/Fulltext/2019/09000/The_Creation_of_Point_of_Careology.1.aspx\n",
      "https://journals.lww.com/poctjournal/FullText/2015/12000/The_Evolution_of_Point_of_Care_Testing.15.aspx\n",
      "https://journals.lww.com/poctjournal/FullText/2015/12000/The_Evolution_of_Point_of_Care_Testing__Can_We.14.aspx\n",
      "https://www.aacc.org/publications/cln/articles/2019/julyaug/the-evolution-of-leadership-in-point-of-care-testing\n",
      "https://jcm.asm.org/content/55/8/2313\n",
      "https://academic.oup.com/labmed/article-pdf/39/9/560/24960604/labmed39-0560.pdf\n",
      "https://en.wikipedia.org/wiki/Point-of-care_testing\n",
      "https://www.oecd.org/coronavirus/policy-responses/testing-for-covid-19-a-way-to-lift-confinement-restrictions-89756248/\n",
      "https://www.theverge.com/2020/3/23/21191055/rapid-coronavirus-test-hospital-fda\n",
      "https://www.mpo-mag.com/contents/view_breaking-news/2020-03-17/new-covid-19-diagnostic-test-could-confirm-virus-in-under-one-hour/\n",
      "https://fortune.com/2020/05/26/rapid-coronavirus-test-covid-19-testing/\n",
      "https://a16z.com/2020/04/02/coronavirus-tests/\n",
      "https://www.scientificamerican.com/article/heres-how-coronavirus-tests-work-and-who-offers-them/\n",
      "https://www.who.int/news-room/commentaries/detail/advice-on-the-use-of-point-of-care-immunodiagnostic-tests-for-covid-19\n",
      "https://www.massdevice.com/cepheid-wins-emergency-use-nod-from-fda-for-coronavirus-test/\n",
      "https://cen.acs.org/analytical-chemistry/diagnostics/Companies-racing-develop-COVID-19/98/i14\n",
      "https://www.cdc.gov/flu/professionals/diagnosis/clinician_guidance_ridt.htm\n"
     ]
    }
   ],
   "source": [
    "try: \n",
    "    from googlesearch import search \n",
    "except ImportError:  \n",
    "    print(\"Error/Not found\") \n",
    "### Browsing the sourses using different search terms: \n",
    "search3_1 = \"Development of a point-of-care test\"\n",
    "search3_2 = \"Development of  rapid bed-side tests corona\"\n",
    "\n",
    "\n",
    "##limit to the first 10 relevant links:\n",
    "for a in search(search3_1, tld=\"co.in\", num=10, stop=10, pause=2): \n",
    "    print(a)\n",
    "for a in search(search3_2, tld=\"co.in\", num=10, stop=10, pause=2): \n",
    "    print(a)"
   ]
  },
  {
   "cell_type": "markdown",
   "metadata": {},
   "source": [
    "# 4/ Diagnosing SARS-COV-2 with Nucleic-acid based tech"
   ]
  },
  {
   "cell_type": "code",
   "execution_count": 47,
   "metadata": {},
   "outputs": [],
   "source": [
    "#Create different sets with specialized terms  from our questions \n",
    "Q4_a = tablesAbstract[tablesAbstract['abstract'].str.contains('nucleic acid')]\n",
    "Q4_b = Q4_a[Q4_a['abstract'].str.contains('diagnosing')]"
   ]
  },
  {
   "cell_type": "code",
   "execution_count": 48,
   "metadata": {},
   "outputs": [
    {
     "data": {
      "text/plain": [
       "(19, 6)"
      ]
     },
     "execution_count": 48,
     "metadata": {},
     "output_type": "execute_result"
    }
   ],
   "source": [
    "#Concatenitng the dataframes into one table per question and dropping null value \n",
    "Q4 = pd.concat([Q4_b])\n",
    "Q4.dropna(inplace=True)\n",
    "Q4.shape"
   ]
  },
  {
   "cell_type": "code",
   "execution_count": 49,
   "metadata": {},
   "outputs": [
    {
     "data": {
      "text/html": [
       "<div>\n",
       "<style scoped>\n",
       "    .dataframe tbody tr th:only-of-type {\n",
       "        vertical-align: middle;\n",
       "    }\n",
       "\n",
       "    .dataframe tbody tr th {\n",
       "        vertical-align: top;\n",
       "    }\n",
       "\n",
       "    .dataframe thead th {\n",
       "        text-align: right;\n",
       "    }\n",
       "</style>\n",
       "<table border=\"1\" class=\"dataframe\">\n",
       "  <thead>\n",
       "    <tr style=\"text-align: right;\">\n",
       "      <th></th>\n",
       "      <th>title</th>\n",
       "      <th>abstract</th>\n",
       "      <th>publish_time</th>\n",
       "      <th>url</th>\n",
       "      <th>authors</th>\n",
       "      <th>words</th>\n",
       "    </tr>\n",
       "  </thead>\n",
       "  <tbody>\n",
       "    <tr>\n",
       "      <th>2700</th>\n",
       "      <td>Internal control for real-time polymerase chai...</td>\n",
       "      <td>BACKGROUND: Real-time reverse transcription po...</td>\n",
       "      <td>2017-04-06</td>\n",
       "      <td>https://www.ncbi.nlm.nih.gov/pmc/articles/PMC5...</td>\n",
       "      <td>Zambenedetti, Miriam Ribas; Pavoni, Daniela Pa...</td>\n",
       "      <td>[BACKGROUND, Real, time, reverse, transcriptio...</td>\n",
       "    </tr>\n",
       "    <tr>\n",
       "      <th>10324</th>\n",
       "      <td>Microsensor Arrays for Saliva Diagnostics</td>\n",
       "      <td>abstract: Optical fiber microarrays have been ...</td>\n",
       "      <td>2007-04-02</td>\n",
       "      <td>https://www.ncbi.nlm.nih.gov/pmc/articles/PMC7...</td>\n",
       "      <td>WALT, DAVID R.; BLICHARZ, TIMOTHY M.; HAYMAN, ...</td>\n",
       "      <td>[abstract, Optical, fiber, microarrays, have, ...</td>\n",
       "    </tr>\n",
       "    <tr>\n",
       "      <th>20078</th>\n",
       "      <td>The Prevalence of Common Respiratory Viruses i...</td>\n",
       "      <td>Viral infections probably initiate a large per...</td>\n",
       "      <td>2007-09-02</td>\n",
       "      <td>https://www.ncbi.nlm.nih.gov/pmc/articles/PMC7...</td>\n",
       "      <td>Hogg, James C.; Macek, Vasilija; Dakhama, Azze...</td>\n",
       "      <td>[Viral, infections, probably, initiate, a, lar...</td>\n",
       "    </tr>\n",
       "    <tr>\n",
       "      <th>27446</th>\n",
       "      <td>Diagnostic assays for respiratory syncytial vi...</td>\n",
       "      <td>Respiratory syncytial virus (RSV) infection in...</td>\n",
       "      <td>2007</td>\n",
       "      <td>https://doi.org/10.1097/inf.0b013e318157da6f; ...</td>\n",
       "      <td>Henrickson, Kelly J; Hall, Caroline Breese</td>\n",
       "      <td>[Respiratory, syncytial, virus, RSV, infection...</td>\n",
       "    </tr>\n",
       "    <tr>\n",
       "      <th>40840</th>\n",
       "      <td>Lateral flow urine lipoarabinomannan assay for...</td>\n",
       "      <td>BACKGROUND The lateral flow urine lipoarabinom...</td>\n",
       "      <td>2019</td>\n",
       "      <td>https://doi.org/10.1002/14651858.cd011420.pub3...</td>\n",
       "      <td>Bjerrum, Stephanie; Schiller, Ian; Dendukuri, ...</td>\n",
       "      <td>[BACKGROUND, The, lateral, flow, urine, lipoar...</td>\n",
       "    </tr>\n",
       "  </tbody>\n",
       "</table>\n",
       "</div>"
      ],
      "text/plain": [
       "                                                   title  \\\n",
       "2700   Internal control for real-time polymerase chai...   \n",
       "10324          Microsensor Arrays for Saliva Diagnostics   \n",
       "20078  The Prevalence of Common Respiratory Viruses i...   \n",
       "27446  Diagnostic assays for respiratory syncytial vi...   \n",
       "40840  Lateral flow urine lipoarabinomannan assay for...   \n",
       "\n",
       "                                                abstract publish_time  \\\n",
       "2700   BACKGROUND: Real-time reverse transcription po...   2017-04-06   \n",
       "10324  abstract: Optical fiber microarrays have been ...   2007-04-02   \n",
       "20078  Viral infections probably initiate a large per...   2007-09-02   \n",
       "27446  Respiratory syncytial virus (RSV) infection in...         2007   \n",
       "40840  BACKGROUND The lateral flow urine lipoarabinom...         2019   \n",
       "\n",
       "                                                     url  \\\n",
       "2700   https://www.ncbi.nlm.nih.gov/pmc/articles/PMC5...   \n",
       "10324  https://www.ncbi.nlm.nih.gov/pmc/articles/PMC7...   \n",
       "20078  https://www.ncbi.nlm.nih.gov/pmc/articles/PMC7...   \n",
       "27446  https://doi.org/10.1097/inf.0b013e318157da6f; ...   \n",
       "40840  https://doi.org/10.1002/14651858.cd011420.pub3...   \n",
       "\n",
       "                                                 authors  \\\n",
       "2700   Zambenedetti, Miriam Ribas; Pavoni, Daniela Pa...   \n",
       "10324  WALT, DAVID R.; BLICHARZ, TIMOTHY M.; HAYMAN, ...   \n",
       "20078  Hogg, James C.; Macek, Vasilija; Dakhama, Azze...   \n",
       "27446         Henrickson, Kelly J; Hall, Caroline Breese   \n",
       "40840  Bjerrum, Stephanie; Schiller, Ian; Dendukuri, ...   \n",
       "\n",
       "                                                   words  \n",
       "2700   [BACKGROUND, Real, time, reverse, transcriptio...  \n",
       "10324  [abstract, Optical, fiber, microarrays, have, ...  \n",
       "20078  [Viral, infections, probably, initiate, a, lar...  \n",
       "27446  [Respiratory, syncytial, virus, RSV, infection...  \n",
       "40840  [BACKGROUND, The, lateral, flow, urine, lipoar...  "
      ]
     },
     "execution_count": 49,
     "metadata": {},
     "output_type": "execute_result"
    }
   ],
   "source": [
    "#Articles that we have\n",
    "Q4.head(5)"
   ]
  },
  {
   "cell_type": "markdown",
   "metadata": {},
   "source": [
    "Online Search"
   ]
  },
  {
   "cell_type": "code",
   "execution_count": 52,
   "metadata": {
    "scrolled": false
   },
   "outputs": [
    {
     "name": "stdout",
     "output_type": "stream",
     "text": [
      "https://www.fda.gov/media/137651/download\n",
      "https://www.fda.gov/medical-devices/emergency-situations-medical-devices/faqs-testing-sars-cov-2\n",
      "https://www.fda.gov/medical-devices/emergency-situations-medical-devices/eua-authorized-serology-test-performance\n",
      "https://www.fda.gov/regulatory-information/search-fda-guidance-documents/policy-coronavirus-disease-2019-tests-during-public-health-emergency-revised\n",
      "https://www.fda.gov/medical-devices/workshops-conferences-medical-devices/virtual-town-hall-policy-diagnostics-testing-laboratories-certified-perform-high-complexity-testing\n",
      "https://www.sciencemag.org/news/2020/03/standard-coronavirus-test-if-available-works-well-can-new-diagnostics-help-pandemic\n",
      "https://www.cdc.gov/flu/professionals/diagnosis/table-nucleic-acid-detection.html\n",
      "https://www.nature.com/articles/d41587-020-00002-2\n",
      "https://www.nature.com/articles/s41587-020-0597-x\n",
      "https://www.ncbi.nlm.nih.gov/pmc/articles/PMC7197457/\n",
      "https://www.sciencedirect.com/science/article/pii/S2095177920302082\n",
      "https://www.technologynetworks.com/diagnostics/articles/a-point-of-care-crispr-based-covid-19-diagnostic-on-the-horizon-332794\n",
      "https://cen.acs.org/analytical-chemistry/diagnostics/Diagnosing-novel-coronavirus-leads-trade/98/i8\n",
      "https://abbott.mediaroom.com/2020-03-27-Abbott-Launches-Molecular-Point-of-Care-Test-to-Detect-Novel-Coronavirus-in-as-Little-as-Five-Minutes\n",
      "https://spectrum.ieee.org/the-human-os/biomedical/diagnostics/how-do-coronavirus-tests-work\n",
      "https://pubs.acs.org/doi/10.1021/acscentsci.0c00501\n",
      "https://www.molecular.abbott/us/en/products/infectious-disease/RealTime-SARS-CoV-2-Assay\n",
      "https://www.modernhealthcare.com/technology/labs-face-challenges-creating-diagnosis-testing-covid-19\n",
      "https://www.mdpi.com/2075-4418/10/3/165/htm\n",
      "https://www.coronavirustoday.com/coronavirus-tests\n"
     ]
    }
   ],
   "source": [
    "try: \n",
    "    from googlesearch import search \n",
    "except ImportError:  \n",
    "    print(\"Error/Not found\") \n",
    "### Browsing the sourses using different search terms: \n",
    "search4_1 = \"Diagnosing corona with Nucleic acid based tech\"\n",
    "\n",
    "\n",
    "##limit to the first 10 relevant links:\n",
    "for a in search(search4_1, tld=\"co.in\", num=20, stop=20, pause=2): \n",
    "    print(a)"
   ]
  },
  {
   "cell_type": "markdown",
   "metadata": {},
   "source": [
    "# 5/ Diagnosing SARS-COV-2 with antibodies"
   ]
  },
  {
   "cell_type": "code",
   "execution_count": 53,
   "metadata": {},
   "outputs": [],
   "source": [
    "#Create different sets with specialized terms  from our questions \n",
    "Q5_a = tablesAbstract[tablesAbstract['abstract'].str.contains('antibodies')]\n",
    "Q5_b = Q5_a[Q5_a['abstract'].str.contains('diagnosing')]"
   ]
  },
  {
   "cell_type": "code",
   "execution_count": 54,
   "metadata": {},
   "outputs": [
    {
     "data": {
      "text/plain": [
       "(15, 6)"
      ]
     },
     "execution_count": 54,
     "metadata": {},
     "output_type": "execute_result"
    }
   ],
   "source": [
    "#Concatenitng the dataframes into one table per question and dropping null value \n",
    "Q5 = pd.concat([Q5_b])\n",
    "Q5.dropna(inplace=True)\n",
    "Q5.shape"
   ]
  },
  {
   "cell_type": "code",
   "execution_count": 55,
   "metadata": {},
   "outputs": [
    {
     "data": {
      "text/html": [
       "<div>\n",
       "<style scoped>\n",
       "    .dataframe tbody tr th:only-of-type {\n",
       "        vertical-align: middle;\n",
       "    }\n",
       "\n",
       "    .dataframe tbody tr th {\n",
       "        vertical-align: top;\n",
       "    }\n",
       "\n",
       "    .dataframe thead th {\n",
       "        text-align: right;\n",
       "    }\n",
       "</style>\n",
       "<table border=\"1\" class=\"dataframe\">\n",
       "  <thead>\n",
       "    <tr style=\"text-align: right;\">\n",
       "      <th></th>\n",
       "      <th>title</th>\n",
       "      <th>abstract</th>\n",
       "      <th>publish_time</th>\n",
       "      <th>url</th>\n",
       "      <th>authors</th>\n",
       "      <th>words</th>\n",
       "    </tr>\n",
       "  </thead>\n",
       "  <tbody>\n",
       "    <tr>\n",
       "      <th>4807</th>\n",
       "      <td>Design and application of GB virus C (GBV-C) p...</td>\n",
       "      <td>The main objectives of the design of GB virus ...</td>\n",
       "      <td>2012-12-13</td>\n",
       "      <td>https://www.ncbi.nlm.nih.gov/pmc/articles/PMC7...</td>\n",
       "      <td>Fernández, Leticia; Bleda, M. José; Gómara, M....</td>\n",
       "      <td>[The, main, objectives, of, the, design, of, G...</td>\n",
       "    </tr>\n",
       "    <tr>\n",
       "      <th>7036</th>\n",
       "      <td>Multiagent imaging of inflammation and infecti...</td>\n",
       "      <td>Molecular imaging with single photon- and posi...</td>\n",
       "      <td>2013-11-23</td>\n",
       "      <td>https://www.ncbi.nlm.nih.gov/pmc/articles/PMC7...</td>\n",
       "      <td>Palestro, Christopher J.; Glaudemans, Andor W....</td>\n",
       "      <td>[Molecular, imaging, with, single, photon, and...</td>\n",
       "    </tr>\n",
       "    <tr>\n",
       "      <th>23884</th>\n",
       "      <td>Prevalence of HCV and/or HBV coinfection in Ir...</td>\n",
       "      <td>Aim: HIV-infected patients risk coinfection wi...</td>\n",
       "      <td>2020-04-24</td>\n",
       "      <td>https://www.ncbi.nlm.nih.gov/pmc/articles/PMC7...</td>\n",
       "      <td>Dehghani-Dehej, Farzaneh; Hosseini, Zinat; Mor...</td>\n",
       "      <td>[Aim, HIV, infected, patients, risk, coinfecti...</td>\n",
       "    </tr>\n",
       "    <tr>\n",
       "      <th>65618</th>\n",
       "      <td>CoV-AbDab: the Coronavirus Antibody Database</td>\n",
       "      <td>The emergence of a novel strain of betacoronav...</td>\n",
       "      <td>2020-05-15</td>\n",
       "      <td>https://doi.org/10.1101/2020.05.15.077313</td>\n",
       "      <td>Raybould, Matthew I. J.; Kovaltsuk, Aleksandr;...</td>\n",
       "      <td>[The, emergence, of, a, novel, strain, of, bet...</td>\n",
       "    </tr>\n",
       "    <tr>\n",
       "      <th>79292</th>\n",
       "      <td>Immunoassay of infectious agents.</td>\n",
       "      <td>Immunoassays have evolved for a broad range of...</td>\n",
       "      <td>2003</td>\n",
       "      <td>https://www.ncbi.nlm.nih.gov/pubmed/14579751/</td>\n",
       "      <td>Andreotti, Peter E; Ludwig, George V; Peruski,...</td>\n",
       "      <td>[Immunoassays, have, evolved, for, a, broad, r...</td>\n",
       "    </tr>\n",
       "  </tbody>\n",
       "</table>\n",
       "</div>"
      ],
      "text/plain": [
       "                                                   title  \\\n",
       "4807   Design and application of GB virus C (GBV-C) p...   \n",
       "7036   Multiagent imaging of inflammation and infecti...   \n",
       "23884  Prevalence of HCV and/or HBV coinfection in Ir...   \n",
       "65618       CoV-AbDab: the Coronavirus Antibody Database   \n",
       "79292                  Immunoassay of infectious agents.   \n",
       "\n",
       "                                                abstract publish_time  \\\n",
       "4807   The main objectives of the design of GB virus ...   2012-12-13   \n",
       "7036   Molecular imaging with single photon- and posi...   2013-11-23   \n",
       "23884  Aim: HIV-infected patients risk coinfection wi...   2020-04-24   \n",
       "65618  The emergence of a novel strain of betacoronav...   2020-05-15   \n",
       "79292  Immunoassays have evolved for a broad range of...         2003   \n",
       "\n",
       "                                                     url  \\\n",
       "4807   https://www.ncbi.nlm.nih.gov/pmc/articles/PMC7...   \n",
       "7036   https://www.ncbi.nlm.nih.gov/pmc/articles/PMC7...   \n",
       "23884  https://www.ncbi.nlm.nih.gov/pmc/articles/PMC7...   \n",
       "65618          https://doi.org/10.1101/2020.05.15.077313   \n",
       "79292      https://www.ncbi.nlm.nih.gov/pubmed/14579751/   \n",
       "\n",
       "                                                 authors  \\\n",
       "4807   Fernández, Leticia; Bleda, M. José; Gómara, M....   \n",
       "7036   Palestro, Christopher J.; Glaudemans, Andor W....   \n",
       "23884  Dehghani-Dehej, Farzaneh; Hosseini, Zinat; Mor...   \n",
       "65618  Raybould, Matthew I. J.; Kovaltsuk, Aleksandr;...   \n",
       "79292  Andreotti, Peter E; Ludwig, George V; Peruski,...   \n",
       "\n",
       "                                                   words  \n",
       "4807   [The, main, objectives, of, the, design, of, G...  \n",
       "7036   [Molecular, imaging, with, single, photon, and...  \n",
       "23884  [Aim, HIV, infected, patients, risk, coinfecti...  \n",
       "65618  [The, emergence, of, a, novel, strain, of, bet...  \n",
       "79292  [Immunoassays, have, evolved, for, a, broad, r...  "
      ]
     },
     "execution_count": 55,
     "metadata": {},
     "output_type": "execute_result"
    }
   ],
   "source": [
    "#Articles that we have\n",
    "Q5.head(5)"
   ]
  },
  {
   "cell_type": "markdown",
   "metadata": {},
   "source": [
    "Online Search"
   ]
  },
  {
   "cell_type": "code",
   "execution_count": 56,
   "metadata": {
    "scrolled": true
   },
   "outputs": [
    {
     "name": "stdout",
     "output_type": "stream",
     "text": [
      "https://www.cdc.gov/coronavirus/2019-ncov/testing/serology-overview.html\n",
      "https://www.cdc.gov/coronavirus/2019-ncov/lab/resources/antibody-tests.html\n",
      "https://www.cdc.gov/coronavirus/2019-ncov/lab/serology-testing.html\n",
      "https://www.cdc.gov/coronavirus/2019-ncov/php/open-america/laboratory.html\n",
      "https://www.cdc.gov/coronavirus/2019-ncov/symptoms-testing/testing.html\n",
      "https://www.cdc.gov/coronavirus/2019-ncov/testing/diagnostic-testing.html\n",
      "https://www.cdc.gov/coronavirus/2019-ncov/if-you-are-sick/index.html\n",
      "https://www.mayoclinic.org/diseases-conditions/coronavirus/expert-answers/covid-antibody-tests/faq-20484429\n",
      "https://www.mayoclinic.org/diseases-conditions/coronavirus/expert-answers/coronavirus-drugs/faq-20485627\n",
      "https://newsnetwork.mayoclinic.org/discussion/crucial-test-to-identify-those-who-have-recovered-from-covid-19-and-have-active-immunity/\n",
      "https://www.mayoclinic.org/tests-procedures/covid-19-antibody-testing/about/pac-20489696\n",
      "https://www.fda.gov/consumers/consumer-updates/coronavirus-testing-basics\n",
      "https://www.healthline.com/health-news/how-accurate-are-covid-19-diagnostic-and-antibody-tests\n",
      "https://www.cochrane.org/CD013652/INFECTN_what-diagnostic-accuracy-antibody-tests-detection-infection-covid-19-virus\n",
      "https://medicalxpress.com/news/2020-05-antibody-covid-.html\n",
      "https://www.mdanderson.org/cancerwise/7-things-to-know-about-coronavirus-COVID19-antibody-testing.h00-159381156.html\n",
      "https://www.vdh.virginia.gov/coronavirus/covid-19-testing/\n",
      "https://www.livescience.com/cdc-combined-covid-19-diagnostic-and-antibody-tests.html\n",
      "https://labtestsonline.org/news/new-guidelines-aim-improve-use-sars-cov-2-covid-19-antibody-tests\n",
      "http://www.centerforhealthsecurity.org/resources/COVID-19/200228-Serology-testing-COVID.pdf\n"
     ]
    }
   ],
   "source": [
    "try: \n",
    "    from googlesearch import search \n",
    "except ImportError:  \n",
    "    print(\"Error/Not found\") \n",
    "### Browsing the sourses using different search terms: \n",
    "search5_1 = \" Diagnosing corona with antibodies\"\n",
    "\n",
    "\n",
    "\n",
    "##limit to the first 10 relevant links:\n",
    "for a in search(search5_1, tld=\"co.in\", num=20, stop=20, pause=2): \n",
    "    print(a)"
   ]
  },
  {
   "cell_type": "markdown",
   "metadata": {},
   "source": [
    "# 6/ How does viral load relate to disease presentations and likelihood of a positive diagnostic test?"
   ]
  },
  {
   "cell_type": "code",
   "execution_count": 70,
   "metadata": {},
   "outputs": [],
   "source": [
    "#Create different sets with specialized terms  from our questions \n",
    "Q6_a = tablesAbstract[tablesAbstract['abstract'].str.contains('viral load')]\n",
    "Q6_b = Q6_a[Q6_a['abstract'].str.contains('disease presentation')]\n",
    "Q6_c = Q6_a[Q6_a['abstract'].str.contains('likelihood')]"
   ]
  },
  {
   "cell_type": "code",
   "execution_count": 71,
   "metadata": {},
   "outputs": [
    {
     "data": {
      "text/plain": [
       "(14, 6)"
      ]
     },
     "execution_count": 71,
     "metadata": {},
     "output_type": "execute_result"
    }
   ],
   "source": [
    "#Concatenitng the dataframes into one table per question and dropping null value \n",
    "Q6 = pd.concat([Q6_b,Q6_c])\n",
    "Q6.dropna(inplace=True)\n",
    "Q6.shape"
   ]
  },
  {
   "cell_type": "code",
   "execution_count": 72,
   "metadata": {},
   "outputs": [
    {
     "data": {
      "text/html": [
       "<div>\n",
       "<style scoped>\n",
       "    .dataframe tbody tr th:only-of-type {\n",
       "        vertical-align: middle;\n",
       "    }\n",
       "\n",
       "    .dataframe tbody tr th {\n",
       "        vertical-align: top;\n",
       "    }\n",
       "\n",
       "    .dataframe thead th {\n",
       "        text-align: right;\n",
       "    }\n",
       "</style>\n",
       "<table border=\"1\" class=\"dataframe\">\n",
       "  <thead>\n",
       "    <tr style=\"text-align: right;\">\n",
       "      <th></th>\n",
       "      <th>title</th>\n",
       "      <th>abstract</th>\n",
       "      <th>publish_time</th>\n",
       "      <th>url</th>\n",
       "      <th>authors</th>\n",
       "      <th>words</th>\n",
       "    </tr>\n",
       "  </thead>\n",
       "  <tbody>\n",
       "    <tr>\n",
       "      <th>64964</th>\n",
       "      <td>Shedding of infectious SARS-CoV-2 in symptomat...</td>\n",
       "      <td>Children are underrepresented in COVID-19 case...</td>\n",
       "      <td>2020-05-01</td>\n",
       "      <td>http://medrxiv.org/cgi/content/short/2020.04.2...</td>\n",
       "      <td>L'Huillier, A. G.; Torriani, G.; Pigny, F.; Ka...</td>\n",
       "      <td>[Children, are, underrepresented, in, COVID, 1...</td>\n",
       "    </tr>\n",
       "    <tr>\n",
       "      <th>123330</th>\n",
       "      <td>Association between high nasopharyngeal viral ...</td>\n",
       "      <td>BACKGROUND: Previous studies have shown that v...</td>\n",
       "      <td>2008-05-13</td>\n",
       "      <td>https://doi.org/10.1016/j.jcv.2008.03.029; htt...</td>\n",
       "      <td>Bosis, Samantha; Esposito, Susanna; Osterhaus,...</td>\n",
       "      <td>[BACKGROUND, Previous, studies, have, shown, t...</td>\n",
       "    </tr>\n",
       "    <tr>\n",
       "      <th>10757</th>\n",
       "      <td>A Mathematical Framework for Predicting Lifest...</td>\n",
       "      <td>Despite being similar in structure, functionin...</td>\n",
       "      <td>2020-04-29</td>\n",
       "      <td>https://www.ncbi.nlm.nih.gov/pmc/articles/PMC7...</td>\n",
       "      <td>Lange, Alexander</td>\n",
       "      <td>[Despite, being, similar, in, structure, funct...</td>\n",
       "    </tr>\n",
       "    <tr>\n",
       "      <th>22000</th>\n",
       "      <td>Blood-Borne Disease</td>\n",
       "      <td>The use of nucleic acid tests (NAT) has dramat...</td>\n",
       "      <td>2010-03-27</td>\n",
       "      <td>https://www.ncbi.nlm.nih.gov/pmc/articles/PMC7...</td>\n",
       "      <td>Dwyer, Dominic; Rawlinson, William</td>\n",
       "      <td>[The, use, of, nucleic, acid, tests, NAT, has,...</td>\n",
       "    </tr>\n",
       "    <tr>\n",
       "      <th>37512</th>\n",
       "      <td>ddPCR: a more accurate tool for SARS-CoV-2 det...</td>\n",
       "      <td>Quantitative real time PCR (RT-PCR) is widely ...</td>\n",
       "      <td>2020-05-22</td>\n",
       "      <td>https://doi.org/10.1080/22221751.2020.1772678;...</td>\n",
       "      <td>Suo, Tao; Liu, Xinjin; Feng, Jiangpeng; Guo, M...</td>\n",
       "      <td>[Quantitative, real, time, PCR, RT, PCR, is, w...</td>\n",
       "    </tr>\n",
       "  </tbody>\n",
       "</table>\n",
       "</div>"
      ],
      "text/plain": [
       "                                                    title  \\\n",
       "64964   Shedding of infectious SARS-CoV-2 in symptomat...   \n",
       "123330  Association between high nasopharyngeal viral ...   \n",
       "10757   A Mathematical Framework for Predicting Lifest...   \n",
       "22000                                 Blood-Borne Disease   \n",
       "37512   ddPCR: a more accurate tool for SARS-CoV-2 det...   \n",
       "\n",
       "                                                 abstract publish_time  \\\n",
       "64964   Children are underrepresented in COVID-19 case...   2020-05-01   \n",
       "123330  BACKGROUND: Previous studies have shown that v...   2008-05-13   \n",
       "10757   Despite being similar in structure, functionin...   2020-04-29   \n",
       "22000   The use of nucleic acid tests (NAT) has dramat...   2010-03-27   \n",
       "37512   Quantitative real time PCR (RT-PCR) is widely ...   2020-05-22   \n",
       "\n",
       "                                                      url  \\\n",
       "64964   http://medrxiv.org/cgi/content/short/2020.04.2...   \n",
       "123330  https://doi.org/10.1016/j.jcv.2008.03.029; htt...   \n",
       "10757   https://www.ncbi.nlm.nih.gov/pmc/articles/PMC7...   \n",
       "22000   https://www.ncbi.nlm.nih.gov/pmc/articles/PMC7...   \n",
       "37512   https://doi.org/10.1080/22221751.2020.1772678;...   \n",
       "\n",
       "                                                  authors  \\\n",
       "64964   L'Huillier, A. G.; Torriani, G.; Pigny, F.; Ka...   \n",
       "123330  Bosis, Samantha; Esposito, Susanna; Osterhaus,...   \n",
       "10757                                    Lange, Alexander   \n",
       "22000                  Dwyer, Dominic; Rawlinson, William   \n",
       "37512   Suo, Tao; Liu, Xinjin; Feng, Jiangpeng; Guo, M...   \n",
       "\n",
       "                                                    words  \n",
       "64964   [Children, are, underrepresented, in, COVID, 1...  \n",
       "123330  [BACKGROUND, Previous, studies, have, shown, t...  \n",
       "10757   [Despite, being, similar, in, structure, funct...  \n",
       "22000   [The, use, of, nucleic, acid, tests, NAT, has,...  \n",
       "37512   [Quantitative, real, time, PCR, RT, PCR, is, w...  "
      ]
     },
     "execution_count": 72,
     "metadata": {},
     "output_type": "execute_result"
    }
   ],
   "source": [
    "#Articles that we have\n",
    "Q6.head(5)"
   ]
  },
  {
   "cell_type": "markdown",
   "metadata": {},
   "source": [
    "Online Search"
   ]
  },
  {
   "cell_type": "code",
   "execution_count": 74,
   "metadata": {
    "scrolled": false
   },
   "outputs": [
    {
     "name": "stdout",
     "output_type": "stream",
     "text": [
      "https://www.cdc.gov/coronavirus/2019-ncov/hcp/clinical-guidance-management-patients.html\n",
      "https://www.who.int/news-room/commentaries/detail/criteria-for-releasing-covid-19-patients-from-isolation\n",
      "https://www.uptodate.com/contents/coronavirus-disease-2019-covid-19-epidemiology-virology-and-prevention\n",
      "https://www.thelancet.com/journals/laninf/article/PIIS1473-3099%2820%2930200-0/fulltext\n",
      "https://www.cebm.net/covid-19/sars-cov-2-viral-load-and-the-severity-of-covid-19/\n",
      "https://www.ncbi.nlm.nih.gov/pmc/articles/PMC7112410/\n",
      "https://www.ncbi.nlm.nih.gov/pmc/articles/PMC7036338/\n",
      "https://www.medrxiv.org/content/10.1101/2020.03.05.20030502v1\n",
      "https://www.infectiousdiseaseadvisor.com/home/topics/covid19/higher-sars-cov-2-nasopharyngeal-viral-load-less-severe-disease-in-infants-with-symptomatic-covid19/\n",
      "https://covid-19.sciensano.be/sites/default/files/Covid19/COVID-19_fact_sheet_ENG.pdf\n",
      "https://www.aruplab.com/news/4-21-2020/How-Accurate-Are-COVID-19-Tests\n",
      "https://www.uptodate.com/contents/coronavirus-disease-2019-covid-19-diagnosis?sectionName=INTRODUCTION&topicRef=126981&anchor=H4011005473&source=see_link\n",
      "https://www.nature.com/articles/d41586-020-00502-w\n",
      "https://www.nature.com/articles/d41586-020-01402-9\n",
      "https://www.nature.com/articles/d41586-020-00660-x\n",
      "https://www.nature.com/nature/articles?type=news\n",
      "https://www.who.int/news-room/commentaries/detail/criteria-for-releasing-covid-19-patients-from-isolation\n",
      "https://www.cdc.gov/coronavirus/2019-ncov/hcp/clinical-guidance-management-patients.html\n",
      "https://www.cnbc.com/2020/07/01/accuracy-of-coronavirus-tests-questioned-after-pga-golfer-tests-positive-and-then-negative.html\n",
      "https://www.mercurynews.com/coronavirus-false-test-results-with-the-push-to-screen-come-questions-of-accuracy\n"
     ]
    }
   ],
   "source": [
    "try: \n",
    "    from googlesearch import search \n",
    "except ImportError:  \n",
    "    print(\"Error/Not found\") \n",
    "### Browsing the sourses using different search terms: \n",
    "search6_1 = \"How does corona viral load relate to disease presentations \"\n",
    "search6_2 = \"How does corona viral load relate to likelihood of a positive diagnostic test\"\n",
    "\n",
    "\n",
    "##limit to the first 10 relevant links:\n",
    "for a in search(search6_1, tld=\"co.in\", num=10, stop=10, pause=2): \n",
    "    print(a)\n",
    "for a in search(search6_2, tld=\"co.in\", num=10, stop=10, pause=2): \n",
    "    print(a)"
   ]
  },
  {
   "cell_type": "code",
   "execution_count": null,
   "metadata": {},
   "outputs": [],
   "source": []
  }
 ],
 "metadata": {
  "kernelspec": {
   "display_name": "Python 3",
   "language": "python",
   "name": "python3"
  },
  "language_info": {
   "codemirror_mode": {
    "name": "ipython",
    "version": 3
   },
   "file_extension": ".py",
   "mimetype": "text/x-python",
   "name": "python",
   "nbconvert_exporter": "python",
   "pygments_lexer": "ipython3",
   "version": "3.7.3"
  }
 },
 "nbformat": 4,
 "nbformat_minor": 4
}
