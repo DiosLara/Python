{
 "cells": [
  {
   "cell_type": "code",
   "execution_count": 1,
   "metadata": {},
   "outputs": [],
   "source": [
    "# Importing the libraries \n",
    "import sys\n",
    "import numpy as np \n",
    "import pandas as pd \n",
    "import os "
   ]
  },
  {
   "cell_type": "markdown",
   "metadata": {},
   "source": [
    "### Table: ABSTRACTS"
   ]
  },
  {
   "cell_type": "code",
   "execution_count": 2,
   "metadata": {},
   "outputs": [
    {
     "name": "stderr",
     "output_type": "stream",
     "text": [
      "C:\\Users\\HP\\Anaconda3\\lib\\site-packages\\IPython\\core\\interactiveshell.py:3063: DtypeWarning: Columns (5,6,13,14,16) have mixed types.Specify dtype option on import or set low_memory=False.\n",
      "  interactivity=interactivity, compiler=compiler, result=result)\n"
     ]
    },
    {
     "name": "stdout",
     "output_type": "stream",
     "text": [
      "The number of articles are: 167470\n"
     ]
    }
   ],
   "source": [
    "#Import the information\n",
    "df=pd.read_csv('E:/NorthEastern University/XN-Hackathon Covid/Kaggle Data/metadata.csv') \n",
    "print('The number of articles are:',df.shape[0])"
   ]
  },
  {
   "cell_type": "code",
   "execution_count": 3,
   "metadata": {},
   "outputs": [],
   "source": [
    "#Select only title, abstract, date, link to the article, and authors\n",
    "tablesAbstract= df [['title', 'abstract', 'publish_time', 'url', 'authors']]"
   ]
  },
  {
   "cell_type": "code",
   "execution_count": 4,
   "metadata": {},
   "outputs": [
    {
     "name": "stderr",
     "output_type": "stream",
     "text": [
      "C:\\Users\\HP\\Anaconda3\\lib\\site-packages\\ipykernel_launcher.py:2: SettingWithCopyWarning: \n",
      "A value is trying to be set on a copy of a slice from a DataFrame.\n",
      "Try using .loc[row_indexer,col_indexer] = value instead\n",
      "\n",
      "See the caveats in the documentation: https://pandas.pydata.org/pandas-docs/stable/user_guide/indexing.html#returning-a-view-versus-a-copy\n",
      "  \n"
     ]
    },
    {
     "data": {
      "text/html": [
       "<div>\n",
       "<style scoped>\n",
       "    .dataframe tbody tr th:only-of-type {\n",
       "        vertical-align: middle;\n",
       "    }\n",
       "\n",
       "    .dataframe tbody tr th {\n",
       "        vertical-align: top;\n",
       "    }\n",
       "\n",
       "    .dataframe thead th {\n",
       "        text-align: right;\n",
       "    }\n",
       "</style>\n",
       "<table border=\"1\" class=\"dataframe\">\n",
       "  <thead>\n",
       "    <tr style=\"text-align: right;\">\n",
       "      <th></th>\n",
       "      <th>title</th>\n",
       "      <th>abstract</th>\n",
       "      <th>publish_time</th>\n",
       "      <th>url</th>\n",
       "      <th>authors</th>\n",
       "      <th>words</th>\n",
       "    </tr>\n",
       "  </thead>\n",
       "  <tbody>\n",
       "    <tr>\n",
       "      <th>0</th>\n",
       "      <td>Clinical features of culture-proven Mycoplasma...</td>\n",
       "      <td>OBJECTIVE: This retrospective chart review des...</td>\n",
       "      <td>2001-07-04</td>\n",
       "      <td>https://www.ncbi.nlm.nih.gov/pmc/articles/PMC3...</td>\n",
       "      <td>Madani, Tariq A; Al-Ghamdi, Aisha A</td>\n",
       "      <td>[OBJECTIVE, This, retrospective, chart, review...</td>\n",
       "    </tr>\n",
       "    <tr>\n",
       "      <th>1</th>\n",
       "      <td>Nitric oxide: a pro-inflammatory mediator in l...</td>\n",
       "      <td>Inflammatory diseases of the respiratory tract...</td>\n",
       "      <td>2000-08-15</td>\n",
       "      <td>https://www.ncbi.nlm.nih.gov/pmc/articles/PMC5...</td>\n",
       "      <td>Vliet, Albert van der; Eiserich, Jason P; Cros...</td>\n",
       "      <td>[Inflammatory, diseases, of, the, respiratory,...</td>\n",
       "    </tr>\n",
       "    <tr>\n",
       "      <th>2</th>\n",
       "      <td>Surfactant protein-D and pulmonary host defense</td>\n",
       "      <td>Surfactant protein-D (SP-D) participates in th...</td>\n",
       "      <td>2000-08-25</td>\n",
       "      <td>https://www.ncbi.nlm.nih.gov/pmc/articles/PMC5...</td>\n",
       "      <td>Crouch, Erika C</td>\n",
       "      <td>[Surfactant, protein, D, SP, D, participates, ...</td>\n",
       "    </tr>\n",
       "  </tbody>\n",
       "</table>\n",
       "</div>"
      ],
      "text/plain": [
       "                                               title  \\\n",
       "0  Clinical features of culture-proven Mycoplasma...   \n",
       "1  Nitric oxide: a pro-inflammatory mediator in l...   \n",
       "2    Surfactant protein-D and pulmonary host defense   \n",
       "\n",
       "                                            abstract publish_time  \\\n",
       "0  OBJECTIVE: This retrospective chart review des...   2001-07-04   \n",
       "1  Inflammatory diseases of the respiratory tract...   2000-08-15   \n",
       "2  Surfactant protein-D (SP-D) participates in th...   2000-08-25   \n",
       "\n",
       "                                                 url  \\\n",
       "0  https://www.ncbi.nlm.nih.gov/pmc/articles/PMC3...   \n",
       "1  https://www.ncbi.nlm.nih.gov/pmc/articles/PMC5...   \n",
       "2  https://www.ncbi.nlm.nih.gov/pmc/articles/PMC5...   \n",
       "\n",
       "                                             authors  \\\n",
       "0                Madani, Tariq A; Al-Ghamdi, Aisha A   \n",
       "1  Vliet, Albert van der; Eiserich, Jason P; Cros...   \n",
       "2                                    Crouch, Erika C   \n",
       "\n",
       "                                               words  \n",
       "0  [OBJECTIVE, This, retrospective, chart, review...  \n",
       "1  [Inflammatory, diseases, of, the, respiratory,...  \n",
       "2  [Surfactant, protein, D, SP, D, participates, ...  "
      ]
     },
     "execution_count": 4,
     "metadata": {},
     "output_type": "execute_result"
    }
   ],
   "source": [
    "#Seperate the words in the Abstract columns \n",
    "tablesAbstract['words']=  tablesAbstract.abstract.str.strip().str.split('[\\W_]+')\n",
    "tablesAbstract = tablesAbstract[tablesAbstract.words.str.len() > 0]\n",
    "                                        #rid of all the input that have the Words column less than 0 \n",
    "tablesAbstract.head(3)"
   ]
  },
  {
   "cell_type": "code",
   "execution_count": 5,
   "metadata": {},
   "outputs": [
    {
     "name": "stdout",
     "output_type": "stream",
     "text": [
      "The number of articles after reduction is: 122492\n"
     ]
    }
   ],
   "source": [
    "print('The number of articles after reduction is:', tablesAbstract.shape[0])"
   ]
  },
  {
   "cell_type": "markdown",
   "metadata": {},
   "source": [
    "# ==> We will analyze what the articles available in the dataset and then also search online resources for each questions "
   ]
  },
  {
   "cell_type": "markdown",
   "metadata": {},
   "source": [
    "# -------------------------------------------------------------------------------------------------------------"
   ]
  },
  {
   "cell_type": "markdown",
   "metadata": {},
   "source": [
    "Scraping the web using beautifulsoup4 and Google "
   ]
  },
  {
   "cell_type": "code",
   "execution_count": 6,
   "metadata": {},
   "outputs": [
    {
     "name": "stdout",
     "output_type": "stream",
     "text": [
      "Requirement already satisfied: google in c:\\users\\hp\\anaconda3\\lib\\site-packages (3.0.0)\n",
      "Requirement already satisfied: beautifulsoup4 in c:\\users\\hp\\anaconda3\\lib\\site-packages (from google) (4.9.0)\n",
      "Requirement already satisfied: soupsieve>1.2 in c:\\users\\hp\\anaconda3\\lib\\site-packages (from beautifulsoup4->google) (2.0)\n",
      "Note: you may need to restart the kernel to use updated packages.\n"
     ]
    }
   ],
   "source": [
    "pip install google"
   ]
  },
  {
   "cell_type": "code",
   "execution_count": 7,
   "metadata": {},
   "outputs": [
    {
     "name": "stdout",
     "output_type": "stream",
     "text": [
      "Requirement already satisfied: beautifulsoup4 in c:\\users\\hp\\anaconda3\\lib\\site-packages (4.9.0)Note: you may need to restart the kernel to use updated packages.\n",
      "Requirement already satisfied: soupsieve>1.2 in c:\\users\\hp\\anaconda3\\lib\\site-packages (from beautifulsoup4) (2.0)\n",
      "\n"
     ]
    }
   ],
   "source": [
    "pip install beautifulsoup4"
   ]
  },
  {
   "cell_type": "markdown",
   "metadata": {},
   "source": [
    "# 1/ Resources to support skilled nursing facilities and long term care facilities."
   ]
  },
  {
   "cell_type": "code",
   "execution_count": 23,
   "metadata": {},
   "outputs": [],
   "source": [
    "#Create different sets with specialized terms  from our questions \n",
    "Q1_a = tablesAbstract[tablesAbstract['abstract'].str.contains('nursing facilities')]\n",
    "Q1_b = tablesAbstract[tablesAbstract['abstract'].str.contains('care facilities')]\n",
    "Q1_c = Q1_b[Q1_b['abstract'].str.contains('resources')]"
   ]
  },
  {
   "cell_type": "code",
   "execution_count": 24,
   "metadata": {},
   "outputs": [
    {
     "data": {
      "text/plain": [
       "(56, 6)"
      ]
     },
     "execution_count": 24,
     "metadata": {},
     "output_type": "execute_result"
    }
   ],
   "source": [
    "#Concatenitng the dataframes into one table per question and dropping null value \n",
    "Q1 = pd.concat([Q1_a,Q1_c])\n",
    "Q1.dropna(inplace=True)\n",
    "Q1.shape"
   ]
  },
  {
   "cell_type": "code",
   "execution_count": 25,
   "metadata": {},
   "outputs": [
    {
     "data": {
      "text/html": [
       "<div>\n",
       "<style scoped>\n",
       "    .dataframe tbody tr th:only-of-type {\n",
       "        vertical-align: middle;\n",
       "    }\n",
       "\n",
       "    .dataframe tbody tr th {\n",
       "        vertical-align: top;\n",
       "    }\n",
       "\n",
       "    .dataframe thead th {\n",
       "        text-align: right;\n",
       "    }\n",
       "</style>\n",
       "<table border=\"1\" class=\"dataframe\">\n",
       "  <thead>\n",
       "    <tr style=\"text-align: right;\">\n",
       "      <th></th>\n",
       "      <th>title</th>\n",
       "      <th>abstract</th>\n",
       "      <th>publish_time</th>\n",
       "      <th>url</th>\n",
       "      <th>authors</th>\n",
       "      <th>words</th>\n",
       "    </tr>\n",
       "  </thead>\n",
       "  <tbody>\n",
       "    <tr>\n",
       "      <th>27204</th>\n",
       "      <td>The Hip Fracture Surgery in Elderly Patients (...</td>\n",
       "      <td>BACKGROUND Strategies to protect the brain fro...</td>\n",
       "      <td>2012</td>\n",
       "      <td>https://doi.org/10.1186/1745-6215-13-180; http...</td>\n",
       "      <td>Coburn, Mark; Sanders, Robert D; Maze, Mervyn;...</td>\n",
       "      <td>[BACKGROUND, Strategies, to, protect, the, bra...</td>\n",
       "    </tr>\n",
       "    <tr>\n",
       "      <th>28221</th>\n",
       "      <td>Effects of Postacute Multidisciplinary Rehabil...</td>\n",
       "      <td>OBJECTIVE Many older individuals receive rehab...</td>\n",
       "      <td>2019</td>\n",
       "      <td>https://doi.org/10.1016/j.apmr.2018.05.010; ht...</td>\n",
       "      <td>Verweij, Lotte; van de Korput, Eva; Daams, Joo...</td>\n",
       "      <td>[OBJECTIVE, Many, older, individuals, receive,...</td>\n",
       "    </tr>\n",
       "    <tr>\n",
       "      <th>31600</th>\n",
       "      <td>A home toolkit for primary prevention of influ...</td>\n",
       "      <td>An influenza pandemic can overwhelm the capaci...</td>\n",
       "      <td>2011</td>\n",
       "      <td>https://doi.org/10.1001/dmp.2011.78; https://w...</td>\n",
       "      <td>Finkelstein, Stan; Prakash, Shiva; Nigmatulina...</td>\n",
       "      <td>[An, influenza, pandemic, can, overwhelm, the,...</td>\n",
       "    </tr>\n",
       "    <tr>\n",
       "      <th>33359</th>\n",
       "      <td>Outbreak Investigation of COVID-19 Among Resid...</td>\n",
       "      <td>Importance Severe acute respiratory syndrome c...</td>\n",
       "      <td>2020-05-21</td>\n",
       "      <td>https://doi.org/10.1001/jamainternmed.2020.223...</td>\n",
       "      <td>Roxby, Alison C; Greninger, Alexander L; Hatfi...</td>\n",
       "      <td>[Importance, Severe, acute, respiratory, syndr...</td>\n",
       "    </tr>\n",
       "    <tr>\n",
       "      <th>63739</th>\n",
       "      <td>Assessment of Home-Time After Acute Ischemic S...</td>\n",
       "      <td>BACKGROUND AND PURPOSE Stroke survivors have i...</td>\n",
       "      <td>2016</td>\n",
       "      <td>https://doi.org/10.1161/strokeaha.115.011599; ...</td>\n",
       "      <td>Fonarow, Gregg C; Liang, Li; Thomas, Laine; Xi...</td>\n",
       "      <td>[BACKGROUND, AND, PURPOSE, Stroke, survivors, ...</td>\n",
       "    </tr>\n",
       "  </tbody>\n",
       "</table>\n",
       "</div>"
      ],
      "text/plain": [
       "                                                   title  \\\n",
       "27204  The Hip Fracture Surgery in Elderly Patients (...   \n",
       "28221  Effects of Postacute Multidisciplinary Rehabil...   \n",
       "31600  A home toolkit for primary prevention of influ...   \n",
       "33359  Outbreak Investigation of COVID-19 Among Resid...   \n",
       "63739  Assessment of Home-Time After Acute Ischemic S...   \n",
       "\n",
       "                                                abstract publish_time  \\\n",
       "27204  BACKGROUND Strategies to protect the brain fro...         2012   \n",
       "28221  OBJECTIVE Many older individuals receive rehab...         2019   \n",
       "31600  An influenza pandemic can overwhelm the capaci...         2011   \n",
       "33359  Importance Severe acute respiratory syndrome c...   2020-05-21   \n",
       "63739  BACKGROUND AND PURPOSE Stroke survivors have i...         2016   \n",
       "\n",
       "                                                     url  \\\n",
       "27204  https://doi.org/10.1186/1745-6215-13-180; http...   \n",
       "28221  https://doi.org/10.1016/j.apmr.2018.05.010; ht...   \n",
       "31600  https://doi.org/10.1001/dmp.2011.78; https://w...   \n",
       "33359  https://doi.org/10.1001/jamainternmed.2020.223...   \n",
       "63739  https://doi.org/10.1161/strokeaha.115.011599; ...   \n",
       "\n",
       "                                                 authors  \\\n",
       "27204  Coburn, Mark; Sanders, Robert D; Maze, Mervyn;...   \n",
       "28221  Verweij, Lotte; van de Korput, Eva; Daams, Joo...   \n",
       "31600  Finkelstein, Stan; Prakash, Shiva; Nigmatulina...   \n",
       "33359  Roxby, Alison C; Greninger, Alexander L; Hatfi...   \n",
       "63739  Fonarow, Gregg C; Liang, Li; Thomas, Laine; Xi...   \n",
       "\n",
       "                                                   words  \n",
       "27204  [BACKGROUND, Strategies, to, protect, the, bra...  \n",
       "28221  [OBJECTIVE, Many, older, individuals, receive,...  \n",
       "31600  [An, influenza, pandemic, can, overwhelm, the,...  \n",
       "33359  [Importance, Severe, acute, respiratory, syndr...  \n",
       "63739  [BACKGROUND, AND, PURPOSE, Stroke, survivors, ...  "
      ]
     },
     "execution_count": 25,
     "metadata": {},
     "output_type": "execute_result"
    }
   ],
   "source": [
    "#Articles that we have\n",
    "Q1.head(5)"
   ]
  },
  {
   "cell_type": "markdown",
   "metadata": {},
   "source": [
    "Online Search "
   ]
  },
  {
   "cell_type": "code",
   "execution_count": 26,
   "metadata": {},
   "outputs": [
    {
     "name": "stdout",
     "output_type": "stream",
     "text": [
      "https://www.cdc.gov/coronavirus/2019-ncov/hcp/long-term-care.html\n",
      "https://www.cdc.gov/coronavirus/2019-ncov/hcp/nursing-homes-responding.html\n",
      "https://www.cdc.gov/coronavirus/2019-ncov/hcp/nursing-homes-testing.html\n",
      "https://www.ahcancal.org/coronavirus\n",
      "https://www.cms.gov/files/document/covid-toolkit-states-mitigate-covid-19-nursing-homes.pdf\n",
      "https://www.cms.gov/outreach-education/partner-resources/coronavirus-covid-19-partner-toolkit\n",
      "https://www.maseniorcare.org/coronavirus-covid-19-information-and-resources\n",
      "https://www.whca.org/covid-19-resources/\n",
      "https://www.health.state.mn.us/diseases/coronavirus/hcp/ltctoolkit.pdf\n",
      "https://www.health.state.mn.us/diseases/coronavirus/hcp/ltc.html\n",
      "https://www.cdc.gov/coronavirus/2019-ncov/hcp/long-term-care.html\n",
      "https://www.cdc.gov/coronavirus/2019-ncov/hcp/nursing-homes-testing.html\n",
      "https://www.cdc.gov/coronavirus/2019-ncov/hcp/nursing-homes-responding.html\n",
      "https://www.doh.wa.gov/Emergencies/NovelCoronavirusOutbreak2020COVID19/HealthcareProviders/LongTermCareFacilities\n",
      "https://www.health.state.mn.us/diseases/coronavirus/hcp/ltc.html\n",
      "https://www.health.state.mn.us/diseases/coronavirus/hcp/ltctoolkit.pdf\n",
      "https://asprtracie.hhs.gov/technical-resources/121/covid-19-long-term-care-resources/99\n",
      "https://theconsumervoice.org/issues/other-issues-and-resources/covid-19\n",
      "https://hcahealthcare.com/covid-19/clinical-resources/support-for-long-term-care-facilities.dot\n",
      "https://www.whca.org/covid-19-resources/\n"
     ]
    }
   ],
   "source": [
    "try: \n",
    "    from googlesearch import search \n",
    "except ImportError:  \n",
    "    print(\"Error/Not found\") \n",
    "### Browsing the sourses using different search terms: \n",
    "search1_1 = \"corona resources to support skilled nursing facilities \"\n",
    "search1_2 = \"corona resources to support long term care facilities\"\n",
    "\n",
    "\n",
    "##limit to the first 10 relevant links:\n",
    "for a in search(search1_1, tld=\"co.in\", num=10, stop=10, pause=2): \n",
    "    print(a)\n",
    "for a in search(search1_2, tld=\"co.in\", num=10, stop=10, pause=2): \n",
    "    print(a)"
   ]
  },
  {
   "cell_type": "markdown",
   "metadata": {},
   "source": [
    "# 2/ Mobilization of surge medical staff to address shortages in overwhelmed communities\n"
   ]
  },
  {
   "cell_type": "code",
   "execution_count": 43,
   "metadata": {},
   "outputs": [],
   "source": [
    "#Create different sets with specialized terms  from our questions \n",
    "Q2_a = tablesAbstract[tablesAbstract['abstract'].str.contains('medical staff')]\n",
    "Q2_b = Q2_a[Q2_a['abstract'].str.contains('shortage')]"
   ]
  },
  {
   "cell_type": "code",
   "execution_count": 44,
   "metadata": {},
   "outputs": [
    {
     "data": {
      "text/plain": [
       "(11, 6)"
      ]
     },
     "execution_count": 44,
     "metadata": {},
     "output_type": "execute_result"
    }
   ],
   "source": [
    "#Concatenitng the dataframes into one table per question and dropping null value \n",
    "Q2 = pd.concat([Q2_b])\n",
    "Q2.dropna(inplace=True)\n",
    "Q2.shape"
   ]
  },
  {
   "cell_type": "code",
   "execution_count": 46,
   "metadata": {},
   "outputs": [
    {
     "data": {
      "text/html": [
       "<div>\n",
       "<style scoped>\n",
       "    .dataframe tbody tr th:only-of-type {\n",
       "        vertical-align: middle;\n",
       "    }\n",
       "\n",
       "    .dataframe tbody tr th {\n",
       "        vertical-align: top;\n",
       "    }\n",
       "\n",
       "    .dataframe thead th {\n",
       "        text-align: right;\n",
       "    }\n",
       "</style>\n",
       "<table border=\"1\" class=\"dataframe\">\n",
       "  <thead>\n",
       "    <tr style=\"text-align: right;\">\n",
       "      <th></th>\n",
       "      <th>title</th>\n",
       "      <th>abstract</th>\n",
       "      <th>publish_time</th>\n",
       "      <th>url</th>\n",
       "      <th>authors</th>\n",
       "      <th>words</th>\n",
       "    </tr>\n",
       "  </thead>\n",
       "  <tbody>\n",
       "    <tr>\n",
       "      <th>23414</th>\n",
       "      <td>Ethical rationale for better coordination of c...</td>\n",
       "      <td>Hundreds of clinical trials of potential treat...</td>\n",
       "      <td>2020-05-28</td>\n",
       "      <td>https://www.ncbi.nlm.nih.gov/pmc/articles/PMC7...</td>\n",
       "      <td>Bompart, Francois</td>\n",
       "      <td>[Hundreds, of, clinical, trials, of, potential...</td>\n",
       "    </tr>\n",
       "    <tr>\n",
       "      <th>42195</th>\n",
       "      <td>The Syrian conflict and infectious diseases.</td>\n",
       "      <td>The conflict in Syria is a big humanitarian em...</td>\n",
       "      <td>2016</td>\n",
       "      <td>https://doi.org/10.1080/14787210.2016.1177457;...</td>\n",
       "      <td>Ozaras, Resat; Leblebicioglu, Hakan; Sunbul, M...</td>\n",
       "      <td>[The, conflict, in, Syria, is, a, big, humanit...</td>\n",
       "    </tr>\n",
       "    <tr>\n",
       "      <th>53490</th>\n",
       "      <td>An international comparison analysis of reserv...</td>\n",
       "      <td>Coronavirus disease 19 (COVID-19) has become a...</td>\n",
       "      <td>2020-05-09</td>\n",
       "      <td>https://doi.org/10.5582/bst.2020.03093; https:...</td>\n",
       "      <td>Wang, Xu; Wu, Wenhui; Song, Peipei; He, Jiangj...</td>\n",
       "      <td>[Coronavirus, disease, 19, COVID, 19, has, bec...</td>\n",
       "    </tr>\n",
       "    <tr>\n",
       "      <th>63950</th>\n",
       "      <td>A telemedicine system for the monitoring of pr...</td>\n",
       "      <td>BACKGROUND Most coronavirus disease 2019 (COVI...</td>\n",
       "      <td>2020-06-21</td>\n",
       "      <td>https://doi.org/10.2196/19514; https://www.ncb...</td>\n",
       "      <td>Xu, Hui; Huang, Sufang; Qiu, Chun Martin; Liu,...</td>\n",
       "      <td>[BACKGROUND, Most, coronavirus, disease, 2019,...</td>\n",
       "    </tr>\n",
       "    <tr>\n",
       "      <th>64772</th>\n",
       "      <td>An Efficient Ethanol-Vacuum Method for the Dec...</td>\n",
       "      <td>A critical shortage of respirators, masks and ...</td>\n",
       "      <td>2020-04-16</td>\n",
       "      <td>http://medrxiv.org/cgi/content/short/2020.04.1...</td>\n",
       "      <td>Nazeeri, A. I.; Hilburn, I. A.; Wu, D.-A.; Moh...</td>\n",
       "      <td>[A, critical, shortage, of, respirators, masks...</td>\n",
       "    </tr>\n",
       "    <tr>\n",
       "      <th>69884</th>\n",
       "      <td>Management of Advanced Therapies in Parkinson'...</td>\n",
       "      <td>Background: Although the COVID-19 pandemic is ...</td>\n",
       "      <td>2020</td>\n",
       "      <td>https://doi.org/10.1002/mdc3.12965</td>\n",
       "      <td>Fasano, Alfonso; Antonini, Angelo; Katzenschla...</td>\n",
       "      <td>[Background, Although, the, COVID, 19, pandemi...</td>\n",
       "    </tr>\n",
       "    <tr>\n",
       "      <th>139291</th>\n",
       "      <td>Projecting the Target Quantity of Medical Staf...</td>\n",
       "      <td>As physicians and nurses are the main medical ...</td>\n",
       "      <td>2020-04-26</td>\n",
       "      <td>https://doi.org/10.3390/ijerph17092998; https:...</td>\n",
       "      <td>Hu, Jin-Li; Chang, Ming-Chung; Chung, Hsin-Jung</td>\n",
       "      <td>[As, physicians, and, nurses, are, the, main, ...</td>\n",
       "    </tr>\n",
       "    <tr>\n",
       "      <th>157299</th>\n",
       "      <td>Management of Advanced Therapies in Parkinson'...</td>\n",
       "      <td>Background: Although the COVID-19 pandemic is ...</td>\n",
       "      <td>2020</td>\n",
       "      <td>https://doi.org/10.1002/mdc3.12965; https://ww...</td>\n",
       "      <td>Fasano, Alfonso; Antonini, Angelo; Katzenschla...</td>\n",
       "      <td>[Background, Although, the, COVID, 19, pandemi...</td>\n",
       "    </tr>\n",
       "    <tr>\n",
       "      <th>163502</th>\n",
       "      <td>Fast Mass-Production of Medical Safety Shields...</td>\n",
       "      <td>COVID-19 pandemic provoked a number of restric...</td>\n",
       "      <td>2020-05-14</td>\n",
       "      <td>https://doi.org/10.3390/ijerph17103418; https:...</td>\n",
       "      <td>Kalyaev, Vladimir; Salimon, Alexey I.; Korsuns...</td>\n",
       "      <td>[COVID, 19, pandemic, provoked, a, number, of,...</td>\n",
       "    </tr>\n",
       "    <tr>\n",
       "      <th>164199</th>\n",
       "      <td>“Pairing assistance”: the effective way to sol...</td>\n",
       "      <td>The most terrifying thing about pandemic could...</td>\n",
       "      <td>2020-05-15</td>\n",
       "      <td>https://doi.org/10.1186/s12939-020-01190-8; ht...</td>\n",
       "      <td>Chen, Tianxiang; Wang, Ying; Hua, Lei</td>\n",
       "      <td>[The, most, terrifying, thing, about, pandemic...</td>\n",
       "    </tr>\n",
       "  </tbody>\n",
       "</table>\n",
       "</div>"
      ],
      "text/plain": [
       "                                                    title  \\\n",
       "23414   Ethical rationale for better coordination of c...   \n",
       "42195        The Syrian conflict and infectious diseases.   \n",
       "53490   An international comparison analysis of reserv...   \n",
       "63950   A telemedicine system for the monitoring of pr...   \n",
       "64772   An Efficient Ethanol-Vacuum Method for the Dec...   \n",
       "69884   Management of Advanced Therapies in Parkinson'...   \n",
       "139291  Projecting the Target Quantity of Medical Staf...   \n",
       "157299  Management of Advanced Therapies in Parkinson'...   \n",
       "163502  Fast Mass-Production of Medical Safety Shields...   \n",
       "164199  “Pairing assistance”: the effective way to sol...   \n",
       "\n",
       "                                                 abstract publish_time  \\\n",
       "23414   Hundreds of clinical trials of potential treat...   2020-05-28   \n",
       "42195   The conflict in Syria is a big humanitarian em...         2016   \n",
       "53490   Coronavirus disease 19 (COVID-19) has become a...   2020-05-09   \n",
       "63950   BACKGROUND Most coronavirus disease 2019 (COVI...   2020-06-21   \n",
       "64772   A critical shortage of respirators, masks and ...   2020-04-16   \n",
       "69884   Background: Although the COVID-19 pandemic is ...         2020   \n",
       "139291  As physicians and nurses are the main medical ...   2020-04-26   \n",
       "157299  Background: Although the COVID-19 pandemic is ...         2020   \n",
       "163502  COVID-19 pandemic provoked a number of restric...   2020-05-14   \n",
       "164199  The most terrifying thing about pandemic could...   2020-05-15   \n",
       "\n",
       "                                                      url  \\\n",
       "23414   https://www.ncbi.nlm.nih.gov/pmc/articles/PMC7...   \n",
       "42195   https://doi.org/10.1080/14787210.2016.1177457;...   \n",
       "53490   https://doi.org/10.5582/bst.2020.03093; https:...   \n",
       "63950   https://doi.org/10.2196/19514; https://www.ncb...   \n",
       "64772   http://medrxiv.org/cgi/content/short/2020.04.1...   \n",
       "69884                  https://doi.org/10.1002/mdc3.12965   \n",
       "139291  https://doi.org/10.3390/ijerph17092998; https:...   \n",
       "157299  https://doi.org/10.1002/mdc3.12965; https://ww...   \n",
       "163502  https://doi.org/10.3390/ijerph17103418; https:...   \n",
       "164199  https://doi.org/10.1186/s12939-020-01190-8; ht...   \n",
       "\n",
       "                                                  authors  \\\n",
       "23414                                   Bompart, Francois   \n",
       "42195   Ozaras, Resat; Leblebicioglu, Hakan; Sunbul, M...   \n",
       "53490   Wang, Xu; Wu, Wenhui; Song, Peipei; He, Jiangj...   \n",
       "63950   Xu, Hui; Huang, Sufang; Qiu, Chun Martin; Liu,...   \n",
       "64772   Nazeeri, A. I.; Hilburn, I. A.; Wu, D.-A.; Moh...   \n",
       "69884   Fasano, Alfonso; Antonini, Angelo; Katzenschla...   \n",
       "139291    Hu, Jin-Li; Chang, Ming-Chung; Chung, Hsin-Jung   \n",
       "157299  Fasano, Alfonso; Antonini, Angelo; Katzenschla...   \n",
       "163502  Kalyaev, Vladimir; Salimon, Alexey I.; Korsuns...   \n",
       "164199              Chen, Tianxiang; Wang, Ying; Hua, Lei   \n",
       "\n",
       "                                                    words  \n",
       "23414   [Hundreds, of, clinical, trials, of, potential...  \n",
       "42195   [The, conflict, in, Syria, is, a, big, humanit...  \n",
       "53490   [Coronavirus, disease, 19, COVID, 19, has, bec...  \n",
       "63950   [BACKGROUND, Most, coronavirus, disease, 2019,...  \n",
       "64772   [A, critical, shortage, of, respirators, masks...  \n",
       "69884   [Background, Although, the, COVID, 19, pandemi...  \n",
       "139291  [As, physicians, and, nurses, are, the, main, ...  \n",
       "157299  [Background, Although, the, COVID, 19, pandemi...  \n",
       "163502  [COVID, 19, pandemic, provoked, a, number, of,...  \n",
       "164199  [The, most, terrifying, thing, about, pandemic...  "
      ]
     },
     "execution_count": 46,
     "metadata": {},
     "output_type": "execute_result"
    }
   ],
   "source": [
    "#Articles that we have\n",
    "Q2.head(10)"
   ]
  },
  {
   "cell_type": "markdown",
   "metadata": {},
   "source": [
    "Online Search"
   ]
  },
  {
   "cell_type": "code",
   "execution_count": 48,
   "metadata": {},
   "outputs": [
    {
     "name": "stdout",
     "output_type": "stream",
     "text": [
      "https://www.npr.org/sections/health-shots/2020/03/09/813557328/scarcity-of-health-workers-a-new-concern-as-self-quarantining-spreads-with-virus\n",
      "https://www.nytimes.com/2020/03/12/world/europe/12italy-coronavirus-health-care.html\n",
      "https://www.fiercehealthcare.com/tech/himss-cancels-2020-global-health-conference-due-to-coronavirus\n",
      "https://jamanetwork.com/channels/health-forum/fullarticle/2763353\n",
      "https://jamanetwork.com/journals/jama/fullarticle/2763136\n",
      "https://www.statnews.com/2020/03/14/coronavirus-hospital-workers-present-sharply-different-pictures-of-preparedness/\n",
      "https://www.wsj.com/articles/if-we-fail-what-happens-to-you-all-one-doctors-life-on-the-coronavirus-front-lines-11583344415\n",
      "https://abcnews.go.com/Health/coronavirus-patients-surge-medical-students-rushed-practice-fight/story?id=69782734\n",
      "https://www.who.int/docs/default-source/coronaviruse/covid-strategy-update-14april2020.pdf?sfvrsn=29da3ba0_19\n",
      "https://www.washingtonpost.com/graphics/2020/investigations/coronavirus-hospitals-data/\n"
     ]
    }
   ],
   "source": [
    "try: \n",
    "    from googlesearch import search \n",
    "except ImportError:  \n",
    "    print(\"Error/Not found\") \n",
    "### Browsing the sourses using different search terms: \n",
    "search2_1 = \"corona mobilization of medical staff to address shortages in overwhelmed communities\"\n",
    "\n",
    "\n",
    "##limit to the first 10 relevant links:\n",
    "for a in search(search2_1, tld=\"co.in\", num=10, stop=10, pause=2): \n",
    "    print(a)"
   ]
  },
  {
   "cell_type": "markdown",
   "metadata": {},
   "source": [
    "# 3/ Age-adjusted mortality data for Acute Respiratory Distress Syndrome (ARDS) with/without other organ failure – particularly for viral etiologies"
   ]
  },
  {
   "cell_type": "code",
   "execution_count": 63,
   "metadata": {},
   "outputs": [],
   "source": [
    "#Create different sets with specialized terms  from our questions \n",
    "Q3_a = tablesAbstract[tablesAbstract['abstract'].str.contains('ARDS')]\n",
    "Q3_b = Q3_a[Q3_a['abstract'].str.contains('data')]"
   ]
  },
  {
   "cell_type": "code",
   "execution_count": 64,
   "metadata": {},
   "outputs": [
    {
     "data": {
      "text/plain": [
       "(229, 6)"
      ]
     },
     "execution_count": 64,
     "metadata": {},
     "output_type": "execute_result"
    }
   ],
   "source": [
    "#Concatenitng the dataframes into one table per question and dropping null value \n",
    "Q3 = pd.concat([Q3_b])\n",
    "Q3.dropna(inplace=True)\n",
    "Q3.shape"
   ]
  },
  {
   "cell_type": "code",
   "execution_count": 65,
   "metadata": {},
   "outputs": [
    {
     "data": {
      "text/html": [
       "<div>\n",
       "<style scoped>\n",
       "    .dataframe tbody tr th:only-of-type {\n",
       "        vertical-align: middle;\n",
       "    }\n",
       "\n",
       "    .dataframe tbody tr th {\n",
       "        vertical-align: top;\n",
       "    }\n",
       "\n",
       "    .dataframe thead th {\n",
       "        text-align: right;\n",
       "    }\n",
       "</style>\n",
       "<table border=\"1\" class=\"dataframe\">\n",
       "  <thead>\n",
       "    <tr style=\"text-align: right;\">\n",
       "      <th></th>\n",
       "      <th>title</th>\n",
       "      <th>abstract</th>\n",
       "      <th>publish_time</th>\n",
       "      <th>url</th>\n",
       "      <th>authors</th>\n",
       "      <th>words</th>\n",
       "    </tr>\n",
       "  </thead>\n",
       "  <tbody>\n",
       "    <tr>\n",
       "      <th>693</th>\n",
       "      <td>Pandemic A/H1N1v influenza 2009 in hospitalize...</td>\n",
       "      <td>BACKGROUND: During the 2009 influenza A/H1N1v ...</td>\n",
       "      <td>2011-11-07</td>\n",
       "      <td>https://www.ncbi.nlm.nih.gov/pmc/articles/PMC3...</td>\n",
       "      <td>Blumental, Sophie; Huisman, Elisabeth; Cornet,...</td>\n",
       "      <td>[BACKGROUND, During, the, 2009, influenza, A, ...</td>\n",
       "    </tr>\n",
       "    <tr>\n",
       "      <th>970</th>\n",
       "      <td>National intensive care unit bed capacity and ...</td>\n",
       "      <td>BACKGROUND: Primary health care delivery in th...</td>\n",
       "      <td>2012-09-01</td>\n",
       "      <td>https://www.ncbi.nlm.nih.gov/pmc/articles/PMC3...</td>\n",
       "      <td>Kwizera, Arthur; Dünser, Martin; Nakibuuka, Jane</td>\n",
       "      <td>[BACKGROUND, Primary, health, care, delivery, ...</td>\n",
       "    </tr>\n",
       "    <tr>\n",
       "      <th>1000</th>\n",
       "      <td>Relative cost and outcomes in the intensive ca...</td>\n",
       "      <td>BACKGROUND: Critical illness due to 2009 H1N1 ...</td>\n",
       "      <td>2012-08-28</td>\n",
       "      <td>https://www.ncbi.nlm.nih.gov/pmc/articles/PMC3...</td>\n",
       "      <td>Wiesen, Jonathan; Komara, John J; Walker, Este...</td>\n",
       "      <td>[BACKGROUND, Critical, illness, due, to, 2009,...</td>\n",
       "    </tr>\n",
       "    <tr>\n",
       "      <th>1182</th>\n",
       "      <td>Long-term quality of life in patients with acu...</td>\n",
       "      <td>INTRODUCTION: The purpose of the study was to ...</td>\n",
       "      <td>2012-10-19</td>\n",
       "      <td>https://www.ncbi.nlm.nih.gov/pmc/articles/PMC3...</td>\n",
       "      <td>Hodgson, Carol L; Hayes, Kate; Everard, Tori; ...</td>\n",
       "      <td>[INTRODUCTION, The, purpose, of, the, study, w...</td>\n",
       "    </tr>\n",
       "    <tr>\n",
       "      <th>1403</th>\n",
       "      <td>One-year mortality and predictors of death amo...</td>\n",
       "      <td>PURPOSE: Advances in supportive care and venti...</td>\n",
       "      <td>2014-01-17</td>\n",
       "      <td>https://www.ncbi.nlm.nih.gov/pmc/articles/PMC3...</td>\n",
       "      <td>Wang, Chen Yu; Calfee, Carolyn S.; Paul, Devon...</td>\n",
       "      <td>[PURPOSE, Advances, in, supportive, care, and,...</td>\n",
       "    </tr>\n",
       "  </tbody>\n",
       "</table>\n",
       "</div>"
      ],
      "text/plain": [
       "                                                  title  \\\n",
       "693   Pandemic A/H1N1v influenza 2009 in hospitalize...   \n",
       "970   National intensive care unit bed capacity and ...   \n",
       "1000  Relative cost and outcomes in the intensive ca...   \n",
       "1182  Long-term quality of life in patients with acu...   \n",
       "1403  One-year mortality and predictors of death amo...   \n",
       "\n",
       "                                               abstract publish_time  \\\n",
       "693   BACKGROUND: During the 2009 influenza A/H1N1v ...   2011-11-07   \n",
       "970   BACKGROUND: Primary health care delivery in th...   2012-09-01   \n",
       "1000  BACKGROUND: Critical illness due to 2009 H1N1 ...   2012-08-28   \n",
       "1182  INTRODUCTION: The purpose of the study was to ...   2012-10-19   \n",
       "1403  PURPOSE: Advances in supportive care and venti...   2014-01-17   \n",
       "\n",
       "                                                    url  \\\n",
       "693   https://www.ncbi.nlm.nih.gov/pmc/articles/PMC3...   \n",
       "970   https://www.ncbi.nlm.nih.gov/pmc/articles/PMC3...   \n",
       "1000  https://www.ncbi.nlm.nih.gov/pmc/articles/PMC3...   \n",
       "1182  https://www.ncbi.nlm.nih.gov/pmc/articles/PMC3...   \n",
       "1403  https://www.ncbi.nlm.nih.gov/pmc/articles/PMC3...   \n",
       "\n",
       "                                                authors  \\\n",
       "693   Blumental, Sophie; Huisman, Elisabeth; Cornet,...   \n",
       "970    Kwizera, Arthur; Dünser, Martin; Nakibuuka, Jane   \n",
       "1000  Wiesen, Jonathan; Komara, John J; Walker, Este...   \n",
       "1182  Hodgson, Carol L; Hayes, Kate; Everard, Tori; ...   \n",
       "1403  Wang, Chen Yu; Calfee, Carolyn S.; Paul, Devon...   \n",
       "\n",
       "                                                  words  \n",
       "693   [BACKGROUND, During, the, 2009, influenza, A, ...  \n",
       "970   [BACKGROUND, Primary, health, care, delivery, ...  \n",
       "1000  [BACKGROUND, Critical, illness, due, to, 2009,...  \n",
       "1182  [INTRODUCTION, The, purpose, of, the, study, w...  \n",
       "1403  [PURPOSE, Advances, in, supportive, care, and,...  "
      ]
     },
     "execution_count": 65,
     "metadata": {},
     "output_type": "execute_result"
    }
   ],
   "source": [
    "#Articles that we have\n",
    "Q3.head(5)"
   ]
  },
  {
   "cell_type": "markdown",
   "metadata": {},
   "source": [
    "Online Search"
   ]
  },
  {
   "cell_type": "code",
   "execution_count": 66,
   "metadata": {},
   "outputs": [
    {
     "name": "stdout",
     "output_type": "stream",
     "text": [
      "https://www.ncbi.nlm.nih.gov/pmc/articles/PMC5122485/\n",
      "https://pubmed.ncbi.nlm.nih.gov/27403914/\n",
      "https://journals.lww.com/md-journal/Fulltext/2015/10270/Incidence_and_Outcomes_of_Acute_Respiratory.48.aspx\n",
      "http://rc.rcjournal.com/content/62/1/113\n",
      "https://icm-experimental.springeropen.com/articles/10.1186/s40635-019-0270-1\n",
      "https://www.cebm.net/covid-19/are-there-risk-factors-and-preventative-interventions-for-acute-respiratory-distress-syndrome-ards-in-covid-19/\n",
      "https://www.nature.com/articles/s41598-018-31811-w\n",
      "https://europepmc.org/article/med/12163776\n",
      "https://www.uptodate.com/contents/acute-respiratory-distress-syndrome-prognosis-and-outcomes-in-adults\n",
      "https://www.medscape.com/answers/165139-43273/what-are-the-mortality-rates-for-acute-respiratory-distress-syndrome-ards\n"
     ]
    }
   ],
   "source": [
    "try: \n",
    "    from googlesearch import search \n",
    "except ImportError:  \n",
    "    print(\"Error/Not found\") \n",
    "### Browsing the sourses using different search terms: \n",
    "search3_1 = \"age-adjusted mortality data for ARDS\"\n",
    "\n",
    "\n",
    "\n",
    "\n",
    "##limit to the first 10 relevant links:\n",
    "for a in search(search3_1, tld=\"co.in\", num=10, stop=10, pause=2): \n",
    "    print(a)"
   ]
  },
  {
   "cell_type": "markdown",
   "metadata": {},
   "source": [
    "# 4/ Extracorporeal membrane oxygenation (ECMO) outcomes data of COVID-19 patients\n"
   ]
  },
  {
   "cell_type": "code",
   "execution_count": 70,
   "metadata": {},
   "outputs": [],
   "source": [
    "#Create different sets with specialized terms  from our questions \n",
    "Q4_a = tablesAbstract[tablesAbstract['abstract'].str.contains('ECMO')]\n",
    "Q4_b = Q4_a[Q4_a['abstract'].str.contains('data')]"
   ]
  },
  {
   "cell_type": "code",
   "execution_count": 71,
   "metadata": {},
   "outputs": [
    {
     "data": {
      "text/plain": [
       "(57, 6)"
      ]
     },
     "execution_count": 71,
     "metadata": {},
     "output_type": "execute_result"
    }
   ],
   "source": [
    "#Concatenitng the dataframes into one table per question and dropping null value \n",
    "Q4 = pd.concat([Q4_b])\n",
    "Q4.dropna(inplace=True)\n",
    "Q4.shape"
   ]
  },
  {
   "cell_type": "code",
   "execution_count": 72,
   "metadata": {},
   "outputs": [
    {
     "data": {
      "text/html": [
       "<div>\n",
       "<style scoped>\n",
       "    .dataframe tbody tr th:only-of-type {\n",
       "        vertical-align: middle;\n",
       "    }\n",
       "\n",
       "    .dataframe tbody tr th {\n",
       "        vertical-align: top;\n",
       "    }\n",
       "\n",
       "    .dataframe thead th {\n",
       "        text-align: right;\n",
       "    }\n",
       "</style>\n",
       "<table border=\"1\" class=\"dataframe\">\n",
       "  <thead>\n",
       "    <tr style=\"text-align: right;\">\n",
       "      <th></th>\n",
       "      <th>title</th>\n",
       "      <th>abstract</th>\n",
       "      <th>publish_time</th>\n",
       "      <th>url</th>\n",
       "      <th>authors</th>\n",
       "      <th>words</th>\n",
       "    </tr>\n",
       "  </thead>\n",
       "  <tbody>\n",
       "    <tr>\n",
       "      <th>1182</th>\n",
       "      <td>Long-term quality of life in patients with acu...</td>\n",
       "      <td>INTRODUCTION: The purpose of the study was to ...</td>\n",
       "      <td>2012-10-19</td>\n",
       "      <td>https://www.ncbi.nlm.nih.gov/pmc/articles/PMC3...</td>\n",
       "      <td>Hodgson, Carol L; Hayes, Kate; Everard, Tori; ...</td>\n",
       "      <td>[INTRODUCTION, The, purpose, of, the, study, w...</td>\n",
       "    </tr>\n",
       "    <tr>\n",
       "      <th>1512</th>\n",
       "      <td>Extracorporeal membrane oxygenation (ECMO) in ...</td>\n",
       "      <td>INTRODUCTION: H1N1 influenza can cause severe ...</td>\n",
       "      <td>2013-02-13</td>\n",
       "      <td>https://www.ncbi.nlm.nih.gov/pmc/articles/PMC4...</td>\n",
       "      <td>Zangrillo, Alberto; Biondi-Zoccai, Giuseppe; L...</td>\n",
       "      <td>[INTRODUCTION, H1N1, influenza, can, cause, se...</td>\n",
       "    </tr>\n",
       "    <tr>\n",
       "      <th>2025</th>\n",
       "      <td>Prolonged prone positioning under VV-ECMO is s...</td>\n",
       "      <td>BACKGROUND: Data are sparse regarding the effe...</td>\n",
       "      <td>2015-11-04</td>\n",
       "      <td>https://www.ncbi.nlm.nih.gov/pmc/articles/PMC4...</td>\n",
       "      <td>Kimmoun, Antoine; Roche, Sylvain; Bridey, Céli...</td>\n",
       "      <td>[BACKGROUND, Data, are, sparse, regarding, the...</td>\n",
       "    </tr>\n",
       "    <tr>\n",
       "      <th>2601</th>\n",
       "      <td>Transportation of patients on extracorporeal m...</td>\n",
       "      <td>BACKGROUND: Utilization of extracorporeal memb...</td>\n",
       "      <td>2017-02-07</td>\n",
       "      <td>https://www.ncbi.nlm.nih.gov/pmc/articles/PMC5...</td>\n",
       "      <td>Mendes, Pedro Vitale; de Albuquerque Gallo, Ce...</td>\n",
       "      <td>[BACKGROUND, Utilization, of, extracorporeal, ...</td>\n",
       "    </tr>\n",
       "    <tr>\n",
       "      <th>2791</th>\n",
       "      <td>36th International Symposium on Intensive Care...</td>\n",
       "      <td>P001 - Sepsis impairs the capillary response w...</td>\n",
       "      <td>2016-04-20</td>\n",
       "      <td>https://www.ncbi.nlm.nih.gov/pmc/articles/PMC5...</td>\n",
       "      <td>Bateman, R. M.; Sharpe, M. D.; Jagger, J. E.; ...</td>\n",
       "      <td>[P001, Sepsis, impairs, the, capillary, respon...</td>\n",
       "    </tr>\n",
       "  </tbody>\n",
       "</table>\n",
       "</div>"
      ],
      "text/plain": [
       "                                                  title  \\\n",
       "1182  Long-term quality of life in patients with acu...   \n",
       "1512  Extracorporeal membrane oxygenation (ECMO) in ...   \n",
       "2025  Prolonged prone positioning under VV-ECMO is s...   \n",
       "2601  Transportation of patients on extracorporeal m...   \n",
       "2791  36th International Symposium on Intensive Care...   \n",
       "\n",
       "                                               abstract publish_time  \\\n",
       "1182  INTRODUCTION: The purpose of the study was to ...   2012-10-19   \n",
       "1512  INTRODUCTION: H1N1 influenza can cause severe ...   2013-02-13   \n",
       "2025  BACKGROUND: Data are sparse regarding the effe...   2015-11-04   \n",
       "2601  BACKGROUND: Utilization of extracorporeal memb...   2017-02-07   \n",
       "2791  P001 - Sepsis impairs the capillary response w...   2016-04-20   \n",
       "\n",
       "                                                    url  \\\n",
       "1182  https://www.ncbi.nlm.nih.gov/pmc/articles/PMC3...   \n",
       "1512  https://www.ncbi.nlm.nih.gov/pmc/articles/PMC4...   \n",
       "2025  https://www.ncbi.nlm.nih.gov/pmc/articles/PMC4...   \n",
       "2601  https://www.ncbi.nlm.nih.gov/pmc/articles/PMC5...   \n",
       "2791  https://www.ncbi.nlm.nih.gov/pmc/articles/PMC5...   \n",
       "\n",
       "                                                authors  \\\n",
       "1182  Hodgson, Carol L; Hayes, Kate; Everard, Tori; ...   \n",
       "1512  Zangrillo, Alberto; Biondi-Zoccai, Giuseppe; L...   \n",
       "2025  Kimmoun, Antoine; Roche, Sylvain; Bridey, Céli...   \n",
       "2601  Mendes, Pedro Vitale; de Albuquerque Gallo, Ce...   \n",
       "2791  Bateman, R. M.; Sharpe, M. D.; Jagger, J. E.; ...   \n",
       "\n",
       "                                                  words  \n",
       "1182  [INTRODUCTION, The, purpose, of, the, study, w...  \n",
       "1512  [INTRODUCTION, H1N1, influenza, can, cause, se...  \n",
       "2025  [BACKGROUND, Data, are, sparse, regarding, the...  \n",
       "2601  [BACKGROUND, Utilization, of, extracorporeal, ...  \n",
       "2791  [P001, Sepsis, impairs, the, capillary, respon...  "
      ]
     },
     "execution_count": 72,
     "metadata": {},
     "output_type": "execute_result"
    }
   ],
   "source": [
    "#Articles that we have\n",
    "Q4.head(5)"
   ]
  },
  {
   "cell_type": "markdown",
   "metadata": {},
   "source": [
    "Online Search"
   ]
  },
  {
   "cell_type": "code",
   "execution_count": 73,
   "metadata": {},
   "outputs": [
    {
     "name": "stdout",
     "output_type": "stream",
     "text": [
      "https://www.elso.org/COVID19.aspx\n",
      "https://ccforum.biomedcentral.com/articles/10.1186/s13054-020-02925-3\n",
      "https://ccforum.biomedcentral.com/articles/10.1186/s13054-020-2840-8\n",
      "https://ccforum.biomedcentral.com/articles/10.1186/s13054-020-02979-3\n",
      "https://ccforum.biomedcentral.com/articles/10.1186/s13054-020-03047-6\n",
      "https://ccforum.biomedcentral.com/track/pdf/10.1186/s13054-020-2840-8\n",
      "https://www.uptodate.com/contents/coronavirus-disease-2019-covid-19-extracorporeal-membrane-oxygenation-ecmo\n",
      "https://www.ncbi.nlm.nih.gov/pmc/articles/PMC7118619/\n",
      "https://www.ncbi.nlm.nih.gov/pmc/articles/PMC7175783/\n",
      "https://labblog.uofmhealth.org/rounds/when-ventilators-dont-help-covid-19-patients-might\n"
     ]
    }
   ],
   "source": [
    "try: \n",
    "    from googlesearch import search \n",
    "except ImportError:  \n",
    "    print(\"Error/Not found\") \n",
    "### Browsing the sourses using different search terms: \n",
    "search4_1 = \"ECMO outcomes data of corona patients\"\n",
    "\n",
    "\n",
    "\n",
    "##limit to the first 10 relevant links:\n",
    "for a in search(search4_1, tld=\"co.in\", num=10, stop=10, pause=2): \n",
    "    print(a)"
   ]
  },
  {
   "cell_type": "markdown",
   "metadata": {},
   "source": [
    "# 5/ Outcomes data for COVID-19 after mechanical ventilation adjusted for age.\n"
   ]
  },
  {
   "cell_type": "code",
   "execution_count": 90,
   "metadata": {},
   "outputs": [],
   "source": [
    "#Create different sets with specialized terms  from our questions \n",
    "Q5_a = tablesAbstract[tablesAbstract['abstract'].str.contains('mechanical ventilation')]\n",
    "Q5_b = Q5_a[Q5_a['abstract'].str.contains('data')]\n",
    "Q5_c = Q5_b[Q5_b['abstract'].str.contains('adjusted')]"
   ]
  },
  {
   "cell_type": "code",
   "execution_count": 91,
   "metadata": {},
   "outputs": [
    {
     "data": {
      "text/plain": [
       "(37, 6)"
      ]
     },
     "execution_count": 91,
     "metadata": {},
     "output_type": "execute_result"
    }
   ],
   "source": [
    "#Concatenitng the dataframes into one table per question and dropping null value \n",
    "Q5 = pd.concat([Q5_c])\n",
    "Q5.dropna(inplace=True)\n",
    "Q5.shape"
   ]
  },
  {
   "cell_type": "code",
   "execution_count": 92,
   "metadata": {},
   "outputs": [
    {
     "data": {
      "text/html": [
       "<div>\n",
       "<style scoped>\n",
       "    .dataframe tbody tr th:only-of-type {\n",
       "        vertical-align: middle;\n",
       "    }\n",
       "\n",
       "    .dataframe tbody tr th {\n",
       "        vertical-align: top;\n",
       "    }\n",
       "\n",
       "    .dataframe thead th {\n",
       "        text-align: right;\n",
       "    }\n",
       "</style>\n",
       "<table border=\"1\" class=\"dataframe\">\n",
       "  <thead>\n",
       "    <tr style=\"text-align: right;\">\n",
       "      <th></th>\n",
       "      <th>title</th>\n",
       "      <th>abstract</th>\n",
       "      <th>publish_time</th>\n",
       "      <th>url</th>\n",
       "      <th>authors</th>\n",
       "      <th>words</th>\n",
       "    </tr>\n",
       "  </thead>\n",
       "  <tbody>\n",
       "    <tr>\n",
       "      <th>2791</th>\n",
       "      <td>36th International Symposium on Intensive Care...</td>\n",
       "      <td>P001 - Sepsis impairs the capillary response w...</td>\n",
       "      <td>2016-04-20</td>\n",
       "      <td>https://www.ncbi.nlm.nih.gov/pmc/articles/PMC5...</td>\n",
       "      <td>Bateman, R. M.; Sharpe, M. D.; Jagger, J. E.; ...</td>\n",
       "      <td>[P001, Sepsis, impairs, the, capillary, respon...</td>\n",
       "    </tr>\n",
       "    <tr>\n",
       "      <th>4261</th>\n",
       "      <td>Risk factors and outcomes of acute kidney inju...</td>\n",
       "      <td>BACKGROUND: There is a marked paucity of data ...</td>\n",
       "      <td>2019-12-10</td>\n",
       "      <td>https://www.ncbi.nlm.nih.gov/pmc/articles/PMC6...</td>\n",
       "      <td>Aylward, Ryan E.; van der Merwe, Elizabeth; Pa...</td>\n",
       "      <td>[BACKGROUND, There, is, a, marked, paucity, of...</td>\n",
       "    </tr>\n",
       "    <tr>\n",
       "      <th>4465</th>\n",
       "      <td>Variability in usual care fluid resuscitation ...</td>\n",
       "      <td>RATIONALE: There remains significant controver...</td>\n",
       "      <td>2020-01-28</td>\n",
       "      <td>https://www.ncbi.nlm.nih.gov/pmc/articles/PMC6...</td>\n",
       "      <td>Mansoori, Jason N.; Linde-Zwirble, Walter; Hou...</td>\n",
       "      <td>[RATIONALE, There, remains, significant, contr...</td>\n",
       "    </tr>\n",
       "    <tr>\n",
       "      <th>4626</th>\n",
       "      <td>Variables predicting weaning outcome in prolon...</td>\n",
       "      <td>BACKGROUND: Several studies have assessed pred...</td>\n",
       "      <td>2020-02-21</td>\n",
       "      <td>https://www.ncbi.nlm.nih.gov/pmc/articles/PMC7...</td>\n",
       "      <td>Ghiani, Alessandro; Paderewska, Joanna; Sainis...</td>\n",
       "      <td>[BACKGROUND, Several, studies, have, assessed,...</td>\n",
       "    </tr>\n",
       "    <tr>\n",
       "      <th>6972</th>\n",
       "      <td>Demographic profile and outcome analysis of a ...</td>\n",
       "      <td>Objective : To study the profile and outcome o...</td>\n",
       "      <td>2004</td>\n",
       "      <td>https://www.ncbi.nlm.nih.gov/pmc/articles/PMC7...</td>\n",
       "      <td>Khilnani, Praveen; Sarma, Devajit; Singh, Reet...</td>\n",
       "      <td>[Objective, To, study, the, profile, and, outc...</td>\n",
       "    </tr>\n",
       "  </tbody>\n",
       "</table>\n",
       "</div>"
      ],
      "text/plain": [
       "                                                  title  \\\n",
       "2791  36th International Symposium on Intensive Care...   \n",
       "4261  Risk factors and outcomes of acute kidney inju...   \n",
       "4465  Variability in usual care fluid resuscitation ...   \n",
       "4626  Variables predicting weaning outcome in prolon...   \n",
       "6972  Demographic profile and outcome analysis of a ...   \n",
       "\n",
       "                                               abstract publish_time  \\\n",
       "2791  P001 - Sepsis impairs the capillary response w...   2016-04-20   \n",
       "4261  BACKGROUND: There is a marked paucity of data ...   2019-12-10   \n",
       "4465  RATIONALE: There remains significant controver...   2020-01-28   \n",
       "4626  BACKGROUND: Several studies have assessed pred...   2020-02-21   \n",
       "6972  Objective : To study the profile and outcome o...         2004   \n",
       "\n",
       "                                                    url  \\\n",
       "2791  https://www.ncbi.nlm.nih.gov/pmc/articles/PMC5...   \n",
       "4261  https://www.ncbi.nlm.nih.gov/pmc/articles/PMC6...   \n",
       "4465  https://www.ncbi.nlm.nih.gov/pmc/articles/PMC6...   \n",
       "4626  https://www.ncbi.nlm.nih.gov/pmc/articles/PMC7...   \n",
       "6972  https://www.ncbi.nlm.nih.gov/pmc/articles/PMC7...   \n",
       "\n",
       "                                                authors  \\\n",
       "2791  Bateman, R. M.; Sharpe, M. D.; Jagger, J. E.; ...   \n",
       "4261  Aylward, Ryan E.; van der Merwe, Elizabeth; Pa...   \n",
       "4465  Mansoori, Jason N.; Linde-Zwirble, Walter; Hou...   \n",
       "4626  Ghiani, Alessandro; Paderewska, Joanna; Sainis...   \n",
       "6972  Khilnani, Praveen; Sarma, Devajit; Singh, Reet...   \n",
       "\n",
       "                                                  words  \n",
       "2791  [P001, Sepsis, impairs, the, capillary, respon...  \n",
       "4261  [BACKGROUND, There, is, a, marked, paucity, of...  \n",
       "4465  [RATIONALE, There, remains, significant, contr...  \n",
       "4626  [BACKGROUND, Several, studies, have, assessed,...  \n",
       "6972  [Objective, To, study, the, profile, and, outc...  "
      ]
     },
     "execution_count": 92,
     "metadata": {},
     "output_type": "execute_result"
    }
   ],
   "source": [
    "#Articles that we have\n",
    "Q5.head(5)"
   ]
  },
  {
   "cell_type": "markdown",
   "metadata": {},
   "source": [
    "Online Search"
   ]
  },
  {
   "cell_type": "code",
   "execution_count": 93,
   "metadata": {},
   "outputs": [
    {
     "name": "stdout",
     "output_type": "stream",
     "text": [
      "https://www.cdc.gov/mmwr/volumes/69/wr/mm6918e1.htm\n",
      "https://www.cdc.gov/mmwr/volumes/69/wr/mm6925a1.htm\n",
      "https://jamanetwork.com/journals/jama/fullarticle/2765184\n",
      "https://www.uptodate.com/contents/coronavirus-disease-2019-covid-19-critical-care-and-airway-management-issues\n",
      "https://www.ncbi.nlm.nih.gov/pmc/articles/PMC7328308/\n",
      "https://www.health.mil/Reference-Center/Technical-Documents/2020/03/24/DoD-COVID-19-Practice-Management-Guide\n",
      "https://www.washingtonpost.com/health/more-covid-19-patients-are-surviving-ventilators-in-the-icu/2020/07/03/2e3c3534-bbca-11ea-8cf5-9c1b8d7f84c6_story.html\n",
      "https://www.cidrap.umn.edu/news-perspective/2020/04/new-data-highlight-deadly-covid-19-impact-nyc\n",
      "https://anesthesiology.pubs.asahq.org/article.aspx?articleid=2763453\n",
      "https://www.thelancet.com/journals/lancet/article/PIIS0140-6736(20)31189-2/fulltext\n"
     ]
    }
   ],
   "source": [
    "try: \n",
    "    from googlesearch import search \n",
    "except ImportError:  \n",
    "    print(\"Error/Not found\") \n",
    "### Browsing the sourses using different search terms: \n",
    "search5_1 = \"outcomes data for COVID-19 after mechanical ventilation adjusted for age\"\n",
    "\n",
    "\n",
    "\n",
    "##limit to the first 10 relevant links:\n",
    "for a in search(search5_1, tld=\"co.in\", num=10, stop=10, pause=2): \n",
    "    print(a)"
   ]
  },
  {
   "cell_type": "code",
   "execution_count": null,
   "metadata": {},
   "outputs": [],
   "source": [
    "\n"
   ]
  },
  {
   "cell_type": "markdown",
   "metadata": {},
   "source": [
    "# 6/ Knowledge of the frequency, manifestations, and course of extrapulmonary manifestations of COVID-19, including, but not limited to, possible cardiomyopathy and cardiac arrest."
   ]
  },
  {
   "cell_type": "code",
   "execution_count": 102,
   "metadata": {},
   "outputs": [],
   "source": [
    "#Create different sets with specialized terms  from our questions \n",
    "Q6_a = tablesAbstract[tablesAbstract['abstract'].str.contains('corona')]\n",
    "Q6_b = Q5_a[Q5_a['abstract'].str.contains('frequency')]\n",
    "Q6_c = Q5_a[Q5_a['abstract'].str.contains('manifestations')]\n",
    "Q6_d = Q5_a[Q5_a['abstract'].str.contains('extrapulmonary manifestations')]"
   ]
  },
  {
   "cell_type": "code",
   "execution_count": 103,
   "metadata": {},
   "outputs": [
    {
     "data": {
      "text/plain": [
       "(1066, 6)"
      ]
     },
     "execution_count": 103,
     "metadata": {},
     "output_type": "execute_result"
    }
   ],
   "source": [
    "#Concatenitng the dataframes into one table per question and dropping null value \n",
    "Q6 = pd.concat([Q6_b,Q6_c,Q6_d])\n",
    "Q6.dropna(inplace=True)\n",
    "Q6.shape"
   ]
  },
  {
   "cell_type": "code",
   "execution_count": 104,
   "metadata": {},
   "outputs": [
    {
     "data": {
      "text/html": [
       "<div>\n",
       "<style scoped>\n",
       "    .dataframe tbody tr th:only-of-type {\n",
       "        vertical-align: middle;\n",
       "    }\n",
       "\n",
       "    .dataframe tbody tr th {\n",
       "        vertical-align: top;\n",
       "    }\n",
       "\n",
       "    .dataframe thead th {\n",
       "        text-align: right;\n",
       "    }\n",
       "</style>\n",
       "<table border=\"1\" class=\"dataframe\">\n",
       "  <thead>\n",
       "    <tr style=\"text-align: right;\">\n",
       "      <th></th>\n",
       "      <th>title</th>\n",
       "      <th>abstract</th>\n",
       "      <th>publish_time</th>\n",
       "      <th>url</th>\n",
       "      <th>authors</th>\n",
       "      <th>words</th>\n",
       "    </tr>\n",
       "  </thead>\n",
       "  <tbody>\n",
       "    <tr>\n",
       "      <th>815</th>\n",
       "      <td>Lack of Association between CLEC5A Gene Single...</td>\n",
       "      <td>Background. Kawasaki disease is characterized ...</td>\n",
       "      <td>2011-12-22</td>\n",
       "      <td>https://www.ncbi.nlm.nih.gov/pmc/articles/PMC3...</td>\n",
       "      <td>Yang, Ya-Ling; Chang, Wei-Pin; Hsu, Yu-Wen; Ch...</td>\n",
       "      <td>[Background, Kawasaki, disease, is, characteri...</td>\n",
       "    </tr>\n",
       "    <tr>\n",
       "      <th>847</th>\n",
       "      <td>DC-SIGN (CD209) Promoter −336 A/G (rs4804803) ...</td>\n",
       "      <td>Kawasaki disease (KD) is characterized by syst...</td>\n",
       "      <td>2012-05-02</td>\n",
       "      <td>https://www.ncbi.nlm.nih.gov/pmc/articles/PMC3...</td>\n",
       "      <td>Yu, Hong-Ren; Chang, Wei-Pin; Wang, Lin; Lin, ...</td>\n",
       "      <td>[Kawasaki, disease, KD, is, characterized, by,...</td>\n",
       "    </tr>\n",
       "    <tr>\n",
       "      <th>2791</th>\n",
       "      <td>36th International Symposium on Intensive Care...</td>\n",
       "      <td>P001 - Sepsis impairs the capillary response w...</td>\n",
       "      <td>2016-04-20</td>\n",
       "      <td>https://www.ncbi.nlm.nih.gov/pmc/articles/PMC5...</td>\n",
       "      <td>Bateman, R. M.; Sharpe, M. D.; Jagger, J. E.; ...</td>\n",
       "      <td>[P001, Sepsis, impairs, the, capillary, respon...</td>\n",
       "    </tr>\n",
       "    <tr>\n",
       "      <th>6773</th>\n",
       "      <td>Neuropathologische Befunde nach herzchirurgisc...</td>\n",
       "      <td>Neuropathological studies may contribute to th...</td>\n",
       "      <td>2003</td>\n",
       "      <td>https://www.ncbi.nlm.nih.gov/pmc/articles/PMC7...</td>\n",
       "      <td>Emmrich, P.; Hahn, J.; Ogunlade, V.; Geiger, K...</td>\n",
       "      <td>[Neuropathological, studies, may, contribute, ...</td>\n",
       "    </tr>\n",
       "    <tr>\n",
       "      <th>8175</th>\n",
       "      <td>Virus antibodies in the cerebrospinal fluid of...</td>\n",
       "      <td>The enzyme-linked immunosorbent assay (ELISA) ...</td>\n",
       "      <td>2003-03-18</td>\n",
       "      <td>https://www.ncbi.nlm.nih.gov/pmc/articles/PMC7...</td>\n",
       "      <td>Leinikki, Pauli; Shekarchi, Isabel; Iivanainen...</td>\n",
       "      <td>[The, enzyme, linked, immunosorbent, assay, EL...</td>\n",
       "    </tr>\n",
       "  </tbody>\n",
       "</table>\n",
       "</div>"
      ],
      "text/plain": [
       "                                                  title  \\\n",
       "815   Lack of Association between CLEC5A Gene Single...   \n",
       "847   DC-SIGN (CD209) Promoter −336 A/G (rs4804803) ...   \n",
       "2791  36th International Symposium on Intensive Care...   \n",
       "6773  Neuropathologische Befunde nach herzchirurgisc...   \n",
       "8175  Virus antibodies in the cerebrospinal fluid of...   \n",
       "\n",
       "                                               abstract publish_time  \\\n",
       "815   Background. Kawasaki disease is characterized ...   2011-12-22   \n",
       "847   Kawasaki disease (KD) is characterized by syst...   2012-05-02   \n",
       "2791  P001 - Sepsis impairs the capillary response w...   2016-04-20   \n",
       "6773  Neuropathological studies may contribute to th...         2003   \n",
       "8175  The enzyme-linked immunosorbent assay (ELISA) ...   2003-03-18   \n",
       "\n",
       "                                                    url  \\\n",
       "815   https://www.ncbi.nlm.nih.gov/pmc/articles/PMC3...   \n",
       "847   https://www.ncbi.nlm.nih.gov/pmc/articles/PMC3...   \n",
       "2791  https://www.ncbi.nlm.nih.gov/pmc/articles/PMC5...   \n",
       "6773  https://www.ncbi.nlm.nih.gov/pmc/articles/PMC7...   \n",
       "8175  https://www.ncbi.nlm.nih.gov/pmc/articles/PMC7...   \n",
       "\n",
       "                                                authors  \\\n",
       "815   Yang, Ya-Ling; Chang, Wei-Pin; Hsu, Yu-Wen; Ch...   \n",
       "847   Yu, Hong-Ren; Chang, Wei-Pin; Wang, Lin; Lin, ...   \n",
       "2791  Bateman, R. M.; Sharpe, M. D.; Jagger, J. E.; ...   \n",
       "6773  Emmrich, P.; Hahn, J.; Ogunlade, V.; Geiger, K...   \n",
       "8175  Leinikki, Pauli; Shekarchi, Isabel; Iivanainen...   \n",
       "\n",
       "                                                  words  \n",
       "815   [Background, Kawasaki, disease, is, characteri...  \n",
       "847   [Kawasaki, disease, KD, is, characterized, by,...  \n",
       "2791  [P001, Sepsis, impairs, the, capillary, respon...  \n",
       "6773  [Neuropathological, studies, may, contribute, ...  \n",
       "8175  [The, enzyme, linked, immunosorbent, assay, EL...  "
      ]
     },
     "execution_count": 104,
     "metadata": {},
     "output_type": "execute_result"
    }
   ],
   "source": [
    "#Articles that we have\n",
    "Q6.head(5)"
   ]
  },
  {
   "cell_type": "markdown",
   "metadata": {},
   "source": [
    "Online Search"
   ]
  },
  {
   "cell_type": "code",
   "execution_count": 105,
   "metadata": {},
   "outputs": [
    {
     "name": "stdout",
     "output_type": "stream",
     "text": [
      "https://www.ncbi.nlm.nih.gov/pmc/articles/PMC7149807/\n",
      "https://www.cdc.gov/coronavirus/2019-ncov/cases-updates/about-epidemiology/studying-the-diesease.html\n",
      "https://www.who.int/docs/default-source/coronaviruse/situation-reports/20200301-sitrep-41-covid-19.pdf?sfvrsn=6768306d_2\n",
      "https://www.who.int/docs/default-source/coronaviruse/who-china-joint-mission-on-covid-19-final-report.pdf\n",
      "https://en.as.com/en/2020/04/02/other_sports/1585843954_647025.html\n",
      "https://www.wpafb.af.mil/News/Article-Display/Article/2162707/afrl-scientists-investigate-can-microwaves-reduce-viability-of-airborne-coronav/\n",
      "https://www.nature.com/articles/d41586-020-00502-w\n",
      "https://www.researchgate.net/publication/339845573_Frequency_of_arrhythmia_in_novel_coronavirus_2019_infection\n",
      "https://www.health.gov.au/sites/default/files/documents/2020/03/coronavirus-covid-19-guidelines-for-outbreaks-in-residential-care-facilities.pdf\n",
      "https://www.ecdc.europa.eu/sites/default/files/documents/RRA-seventh-update-Outbreak-of-coronavirus-disease-COVID-19.pdf\n",
      "https://www.who.int/health-topics/coronavirus\n",
      "https://www.cdc.gov/coronavirus/2019-ncov/symptoms-testing/symptoms.html\n",
      "https://www.cdc.gov/coronavirus/2019-ncov/daily-life-coping/share-facts.html\n",
      "https://www.mayoclinic.org/diseases-conditions/coronavirus/symptoms-causes/syc-20479963\n",
      "https://www.mayoclinic.org/covid-19-self-assessment-tool\n",
      "https://www.mayoclinic.org/diseases-conditions/coronavirus/diagnosis-treatment/drc-20479976\n",
      "https://www.mayoclinic.org/diseases-conditions/coronavirus/expert-answers/coronavirus-unusual-symptoms/faq-20487367\n",
      "https://www.hopkinsmedicine.org/health/conditions-and-diseases/coronavirus/coronavirus-frequently-asked-questions\n",
      "https://www.cnn.com/2020/07/10/health/covid-19-symptoms-new-knowledge-wellness/index.html\n",
      "https://www.fhi.no/en/op/novel-coronavirus-facts-advice/facts-and-knowledge-about-covid-19/facts-about-novel-coronavirus/\n",
      "https://www.clinicalimaging.org/article/S0899-7071(20)30167-4/fulltext\n",
      "https://www.nature.com/articles/s41591-020-0968-3\n",
      "https://covid.oumy.com/question-set/kaggle/knowledge-of-the-frequency-manifestations-and-course-of-extrapulmonary-manifestations-of-covid-19-including-but-not-limi.html\n",
      "https://covid.oumy.com/question-set/kaggle-news/knowledge-of-the-frequency-manifestations-and-course-of-extrapulmonary-manifestations-of-covid-19-including-but-not-limi.html\n",
      "https://www.ncbi.nlm.nih.gov/pmc/articles/PMC7233216/\n",
      "https://www.ncbi.nlm.nih.gov/pmc/articles/PMC7182753/\n",
      "https://journals.lww.com/infectdis/Abstract/9000/Extrapulmonary_Manifestations_of_SARS_CoV_2__A.98805.aspx\n",
      "https://jamanetwork.com/journals/jamacardiology/fullarticle/2763846\n",
      "https://www.acpjournals.org/doi/10.7326/M13-2486\n",
      "https://onlinelibrary.wiley.com/doi/full/10.1002/jmv.26157\n"
     ]
    }
   ],
   "source": [
    "try: \n",
    "    from googlesearch import search \n",
    "except ImportError:  \n",
    "    print(\"Error/Not found\") \n",
    "### Browsing the sourses using different search terms: \n",
    "search6_1 = \"corona knowledge of the frequency\"\n",
    "search6_2 = \"corona knowledge of the manifestations\"\n",
    "search6_3 = \"corona knowledge of the course of extrapulmonary manifestations\"\n",
    "\n",
    "\n",
    "\n",
    "\n",
    "##limit to the first 10 relevant links:\n",
    "for a in search(search6_1, tld=\"co.in\", num=10, stop=10, pause=2): \n",
    "    print(a)\n",
    "for a in search(search6_2, tld=\"co.in\", num=10, stop=10, pause=2): \n",
    "    print(a)\n",
    "for a in search(search6_3, tld=\"co.in\", num=10, stop=10, pause=2): \n",
    "    print(a)"
   ]
  },
  {
   "cell_type": "markdown",
   "metadata": {},
   "source": [
    "# 7/ Application of regulatory standards (e.g., EUA, CLIA) and ability to adapt care to crisis standards of care level."
   ]
  },
  {
   "cell_type": "code",
   "execution_count": 128,
   "metadata": {},
   "outputs": [],
   "source": [
    "#Create different sets with specialized terms  from our questions \n",
    "Q7_a = tablesAbstract[tablesAbstract['abstract'].str.contains('regulatory standards')]\n",
    "Q7_b = tablesAbstract[tablesAbstract['abstract'].str.contains('crisis standard')]"
   ]
  },
  {
   "cell_type": "code",
   "execution_count": 129,
   "metadata": {},
   "outputs": [
    {
     "data": {
      "text/plain": [
       "(24, 6)"
      ]
     },
     "execution_count": 129,
     "metadata": {},
     "output_type": "execute_result"
    }
   ],
   "source": [
    "#Concatenitng the dataframes into one table per question and dropping null value \n",
    "Q7 = pd.concat([Q7_a,Q7_b])\n",
    "Q7.dropna(inplace=True)\n",
    "Q7.shape"
   ]
  },
  {
   "cell_type": "code",
   "execution_count": 130,
   "metadata": {},
   "outputs": [
    {
     "data": {
      "text/html": [
       "<div>\n",
       "<style scoped>\n",
       "    .dataframe tbody tr th:only-of-type {\n",
       "        vertical-align: middle;\n",
       "    }\n",
       "\n",
       "    .dataframe tbody tr th {\n",
       "        vertical-align: top;\n",
       "    }\n",
       "\n",
       "    .dataframe thead th {\n",
       "        text-align: right;\n",
       "    }\n",
       "</style>\n",
       "<table border=\"1\" class=\"dataframe\">\n",
       "  <thead>\n",
       "    <tr style=\"text-align: right;\">\n",
       "      <th></th>\n",
       "      <th>title</th>\n",
       "      <th>abstract</th>\n",
       "      <th>publish_time</th>\n",
       "      <th>url</th>\n",
       "      <th>authors</th>\n",
       "      <th>words</th>\n",
       "    </tr>\n",
       "  </thead>\n",
       "  <tbody>\n",
       "    <tr>\n",
       "      <th>14888</th>\n",
       "      <td>Airborne Precautions and Personal Protective E...</td>\n",
       "      <td>Airborne isolation of patients and use of resp...</td>\n",
       "      <td>2017-09-10</td>\n",
       "      <td>https://www.ncbi.nlm.nih.gov/pmc/articles/PMC7...</td>\n",
       "      <td>Sreeramoju, Pranavi V.; Cadena, Jose</td>\n",
       "      <td>[Airborne, isolation, of, patients, and, use, ...</td>\n",
       "    </tr>\n",
       "    <tr>\n",
       "      <th>20011</th>\n",
       "      <td>Sick Building Syndrome and Other Building-Rela...</td>\n",
       "      <td>Sick building syndrome (SBS) and building-rela...</td>\n",
       "      <td>2018-08-18</td>\n",
       "      <td>https://www.ncbi.nlm.nih.gov/pmc/articles/PMC7...</td>\n",
       "      <td>Nag, Pranab Kumar</td>\n",
       "      <td>[Sick, building, syndrome, SBS, and, building,...</td>\n",
       "    </tr>\n",
       "    <tr>\n",
       "      <th>62984</th>\n",
       "      <td>A beginner's guide to digital health for ambul...</td>\n",
       "      <td>Digital health technology is already playing a...</td>\n",
       "      <td>2015</td>\n",
       "      <td>https://doi.org/10.1097/jac.0000000000000067; ...</td>\n",
       "      <td>Salber, Patricia; Niksch, Alisa</td>\n",
       "      <td>[Digital, health, technology, is, already, pla...</td>\n",
       "    </tr>\n",
       "    <tr>\n",
       "      <th>114917</th>\n",
       "      <td>Enterovirus 71 vaccine: close but still far</td>\n",
       "      <td>Summary Background Enterovirus 71 (EV71), a me...</td>\n",
       "      <td>2010-09-30</td>\n",
       "      <td>https://api.elsevier.com/content/article/pii/S...</td>\n",
       "      <td>Zhang, Dingmei; Lu, Jiayuan; Lu, Jiahai</td>\n",
       "      <td>[Summary, Background, Enterovirus, 71, EV71, a...</td>\n",
       "    </tr>\n",
       "    <tr>\n",
       "      <th>120007</th>\n",
       "      <td>Integrating traditional Chinese medicines into...</td>\n",
       "      <td>Abstract Introduction In China, Traditional Ch...</td>\n",
       "      <td>2020-02-29</td>\n",
       "      <td>https://api.elsevier.com/content/article/pii/S...</td>\n",
       "      <td>Yao, Dongning; Hu, Hao; Harnett, Joanna E.; Un...</td>\n",
       "      <td>[Abstract, Introduction, In, China, Traditiona...</td>\n",
       "    </tr>\n",
       "  </tbody>\n",
       "</table>\n",
       "</div>"
      ],
      "text/plain": [
       "                                                    title  \\\n",
       "14888   Airborne Precautions and Personal Protective E...   \n",
       "20011   Sick Building Syndrome and Other Building-Rela...   \n",
       "62984   A beginner's guide to digital health for ambul...   \n",
       "114917        Enterovirus 71 vaccine: close but still far   \n",
       "120007  Integrating traditional Chinese medicines into...   \n",
       "\n",
       "                                                 abstract publish_time  \\\n",
       "14888   Airborne isolation of patients and use of resp...   2017-09-10   \n",
       "20011   Sick building syndrome (SBS) and building-rela...   2018-08-18   \n",
       "62984   Digital health technology is already playing a...         2015   \n",
       "114917  Summary Background Enterovirus 71 (EV71), a me...   2010-09-30   \n",
       "120007  Abstract Introduction In China, Traditional Ch...   2020-02-29   \n",
       "\n",
       "                                                      url  \\\n",
       "14888   https://www.ncbi.nlm.nih.gov/pmc/articles/PMC7...   \n",
       "20011   https://www.ncbi.nlm.nih.gov/pmc/articles/PMC7...   \n",
       "62984   https://doi.org/10.1097/jac.0000000000000067; ...   \n",
       "114917  https://api.elsevier.com/content/article/pii/S...   \n",
       "120007  https://api.elsevier.com/content/article/pii/S...   \n",
       "\n",
       "                                                  authors  \\\n",
       "14888                Sreeramoju, Pranavi V.; Cadena, Jose   \n",
       "20011                                   Nag, Pranab Kumar   \n",
       "62984                     Salber, Patricia; Niksch, Alisa   \n",
       "114917            Zhang, Dingmei; Lu, Jiayuan; Lu, Jiahai   \n",
       "120007  Yao, Dongning; Hu, Hao; Harnett, Joanna E.; Un...   \n",
       "\n",
       "                                                    words  \n",
       "14888   [Airborne, isolation, of, patients, and, use, ...  \n",
       "20011   [Sick, building, syndrome, SBS, and, building,...  \n",
       "62984   [Digital, health, technology, is, already, pla...  \n",
       "114917  [Summary, Background, Enterovirus, 71, EV71, a...  \n",
       "120007  [Abstract, Introduction, In, China, Traditiona...  "
      ]
     },
     "execution_count": 130,
     "metadata": {},
     "output_type": "execute_result"
    }
   ],
   "source": [
    "#Articles that we have\n",
    "Q7.head(5)"
   ]
  },
  {
   "cell_type": "markdown",
   "metadata": {},
   "source": [
    "Online Search"
   ]
  },
  {
   "cell_type": "code",
   "execution_count": 131,
   "metadata": {},
   "outputs": [
    {
     "name": "stdout",
     "output_type": "stream",
     "text": [
      "https://www.fda.gov/regulatory-information/search-fda-guidance-documents/policy-coronavirus-disease-2019-tests-during-public-health-emergency-revised\n",
      "https://www.fda.gov/news-events/press-announcements/coronavirus-covid-19-update-fda-provides-more-regulatory-relief-during-outbreak-continues-help\n",
      "https://www.sec.gov/news/press-release/2020-53\n",
      "https://www.usa.gov/coronavirus\n",
      "https://www.epa.gov/coronavirus\n",
      "https://www.epa.gov/coronavirus/disinfectant-use-and-coronavirus-covid-19\n",
      "https://www.epa.gov/coronavirus/guidance-cleaning-and-disinfecting-public-spaces-workplaces-businesses-schools-and-homes\n",
      "https://www.epa.gov/coronavirus/epa-guidance-disinfecting-cleaning-and-addressing-water-quality-challenges-related\n",
      "http://www.oecd.org/regreform/regulatory-policy/Regulatory-Quality-and-Coronavirus%20-(COVID-19)-web.pdf\n",
      "https://www.osha.gov/SLTC/covid-19/standards.html\n",
      "https://nam.edu/duty-to-plan-health-care-crisis-standards-of-care-and-novel-coronavirus-sars-cov-2/\n",
      "https://www.nursingworld.org/~496044/globalassets/practiceandpolicy/work-environment/health--safety/coronavirus/crisis-standards-of-care.pdf\n",
      "https://www.cdc.gov/coronavirus/2019-ncov/hcp/relief-healthcare-facilities.html\n",
      "https://www.health.state.mn.us/communities/ep/surge/crisis/hospital.html\n",
      "https://asprtracie.hhs.gov/technical-resources/112/covid-19-crisis-standards-of-care-resources/99\n",
      "https://asprtracie.hhs.gov/technical-resources/63/crisis-standards-of-care/0\n",
      "https://www.mhanet.com/mhaimages/COVID-19/A%20Framework%20for%20Managing%20the%202020%20COVID.pdf\n",
      "https://www.remm.nlm.gov/stdsofcare.htm\n",
      "https://www.nejm.org/doi/full/10.1056/NEJMp2005118\n",
      "https://health.ri.gov/publications/guidelines/crisis-standards-of-care.pdf\n"
     ]
    }
   ],
   "source": [
    "try: \n",
    "    from googlesearch import search \n",
    "except ImportError:  \n",
    "    print(\"Error/Not found\") \n",
    "### Browsing the sourses using different search terms: \n",
    "search7_1 = \"corona application of regulatory standards\"\n",
    "search7_2 = \"corona ability to adapt care to crisis standards of care level\"\n",
    "\n",
    "\n",
    "\n",
    "\n",
    "##limit to the first 10 relevant links:\n",
    "for a in search(search7_1, tld=\"co.in\", num=10, stop=10, pause=2): \n",
    "    print(a)\n",
    "for a in search(search7_2, tld=\"co.in\", num=10, stop=10, pause=2): \n",
    "    print(a)"
   ]
  },
  {
   "cell_type": "markdown",
   "metadata": {},
   "source": [
    "# 8/ Approaches for encouraging and facilitating the production of elastomeric respirators, which can save thousands of N95 masks."
   ]
  },
  {
   "cell_type": "code",
   "execution_count": 137,
   "metadata": {},
   "outputs": [],
   "source": [
    "#Create different sets with specialized terms  from our questions \n",
    "Q8_a = tablesAbstract[tablesAbstract['abstract'].str.contains('elastomeric respirators')]\n"
   ]
  },
  {
   "cell_type": "code",
   "execution_count": 138,
   "metadata": {},
   "outputs": [
    {
     "data": {
      "text/plain": [
       "(5, 6)"
      ]
     },
     "execution_count": 138,
     "metadata": {},
     "output_type": "execute_result"
    }
   ],
   "source": [
    "#Concatenitng the dataframes into one table per question and dropping null value \n",
    "Q8 = pd.concat([Q8_a])\n",
    "Q8.dropna(inplace=True)\n",
    "Q8.shape"
   ]
  },
  {
   "cell_type": "code",
   "execution_count": 139,
   "metadata": {},
   "outputs": [
    {
     "data": {
      "text/html": [
       "<div>\n",
       "<style scoped>\n",
       "    .dataframe tbody tr th:only-of-type {\n",
       "        vertical-align: middle;\n",
       "    }\n",
       "\n",
       "    .dataframe tbody tr th {\n",
       "        vertical-align: top;\n",
       "    }\n",
       "\n",
       "    .dataframe thead th {\n",
       "        text-align: right;\n",
       "    }\n",
       "</style>\n",
       "<table border=\"1\" class=\"dataframe\">\n",
       "  <thead>\n",
       "    <tr style=\"text-align: right;\">\n",
       "      <th></th>\n",
       "      <th>title</th>\n",
       "      <th>abstract</th>\n",
       "      <th>publish_time</th>\n",
       "      <th>url</th>\n",
       "      <th>authors</th>\n",
       "      <th>words</th>\n",
       "    </tr>\n",
       "  </thead>\n",
       "  <tbody>\n",
       "    <tr>\n",
       "      <th>26269</th>\n",
       "      <td>Respiratory Protection Considerations for Heal...</td>\n",
       "      <td>The COVID-19 pandemic has resulted in a surge ...</td>\n",
       "      <td>2020-04-22</td>\n",
       "      <td>https://doi.org/10.1089/hs.2020.0036; https://...</td>\n",
       "      <td>Friese, Christopher R; Veenema, Tener Goodwin;...</td>\n",
       "      <td>[The, COVID, 19, pandemic, has, resulted, in, ...</td>\n",
       "    </tr>\n",
       "    <tr>\n",
       "      <th>45975</th>\n",
       "      <td>High-Risk Aerosol-Generating Procedures in COV...</td>\n",
       "      <td>The correct selection and utilization of respi...</td>\n",
       "      <td>2020-05-12</td>\n",
       "      <td>https://doi.org/10.1177/0194599820927335; http...</td>\n",
       "      <td>Howard, Brittany E</td>\n",
       "      <td>[The, correct, selection, and, utilization, of...</td>\n",
       "    </tr>\n",
       "    <tr>\n",
       "      <th>64931</th>\n",
       "      <td>Modifying reusable elastomeric respirators to ...</td>\n",
       "      <td>The COVID-19 pandemic has caused a worldwide s...</td>\n",
       "      <td>2020-04-15</td>\n",
       "      <td>http://medrxiv.org/cgi/content/short/2020.04.1...</td>\n",
       "      <td>Liu, D. C. Y.; Koo, T. H.; Wong, J. K. K.; Won...</td>\n",
       "      <td>[The, COVID, 19, pandemic, has, caused, a, wor...</td>\n",
       "    </tr>\n",
       "    <tr>\n",
       "      <th>68461</th>\n",
       "      <td>Pneumask: Modified Full-Face Snorkel Masks as ...</td>\n",
       "      <td>Here we adapt and evaluate a full-face snorkel...</td>\n",
       "      <td>2020-04-29</td>\n",
       "      <td>http://medrxiv.org/cgi/content/short/2020.04.2...</td>\n",
       "      <td>Kroo, L.; Kothari, A.; Hannebelle, M.; Herring...</td>\n",
       "      <td>[Here, we, adapt, and, evaluate, a, full, face...</td>\n",
       "    </tr>\n",
       "    <tr>\n",
       "      <th>121076</th>\n",
       "      <td>Adapting re‐usable elastomeric respirators to ...</td>\n",
       "      <td>The COVID‐19 pandemic has increased the demand...</td>\n",
       "      <td>2020-05-26</td>\n",
       "      <td>https://doi.org/10.1111/anae.15108; https://ww...</td>\n",
       "      <td>Liu, D. C. Y.; Koo, T. H.; Wong, J. K. K.; Won...</td>\n",
       "      <td>[The, COVID, 19, pandemic, has, increased, the...</td>\n",
       "    </tr>\n",
       "  </tbody>\n",
       "</table>\n",
       "</div>"
      ],
      "text/plain": [
       "                                                    title  \\\n",
       "26269   Respiratory Protection Considerations for Heal...   \n",
       "45975   High-Risk Aerosol-Generating Procedures in COV...   \n",
       "64931   Modifying reusable elastomeric respirators to ...   \n",
       "68461   Pneumask: Modified Full-Face Snorkel Masks as ...   \n",
       "121076  Adapting re‐usable elastomeric respirators to ...   \n",
       "\n",
       "                                                 abstract publish_time  \\\n",
       "26269   The COVID-19 pandemic has resulted in a surge ...   2020-04-22   \n",
       "45975   The correct selection and utilization of respi...   2020-05-12   \n",
       "64931   The COVID-19 pandemic has caused a worldwide s...   2020-04-15   \n",
       "68461   Here we adapt and evaluate a full-face snorkel...   2020-04-29   \n",
       "121076  The COVID‐19 pandemic has increased the demand...   2020-05-26   \n",
       "\n",
       "                                                      url  \\\n",
       "26269   https://doi.org/10.1089/hs.2020.0036; https://...   \n",
       "45975   https://doi.org/10.1177/0194599820927335; http...   \n",
       "64931   http://medrxiv.org/cgi/content/short/2020.04.1...   \n",
       "68461   http://medrxiv.org/cgi/content/short/2020.04.2...   \n",
       "121076  https://doi.org/10.1111/anae.15108; https://ww...   \n",
       "\n",
       "                                                  authors  \\\n",
       "26269   Friese, Christopher R; Veenema, Tener Goodwin;...   \n",
       "45975                                  Howard, Brittany E   \n",
       "64931   Liu, D. C. Y.; Koo, T. H.; Wong, J. K. K.; Won...   \n",
       "68461   Kroo, L.; Kothari, A.; Hannebelle, M.; Herring...   \n",
       "121076  Liu, D. C. Y.; Koo, T. H.; Wong, J. K. K.; Won...   \n",
       "\n",
       "                                                    words  \n",
       "26269   [The, COVID, 19, pandemic, has, resulted, in, ...  \n",
       "45975   [The, correct, selection, and, utilization, of...  \n",
       "64931   [The, COVID, 19, pandemic, has, caused, a, wor...  \n",
       "68461   [Here, we, adapt, and, evaluate, a, full, face...  \n",
       "121076  [The, COVID, 19, pandemic, has, increased, the...  "
      ]
     },
     "execution_count": 139,
     "metadata": {},
     "output_type": "execute_result"
    }
   ],
   "source": [
    "#Articles that we have\n",
    "Q8.head(5)"
   ]
  },
  {
   "cell_type": "markdown",
   "metadata": {},
   "source": [
    "Online Search"
   ]
  },
  {
   "cell_type": "code",
   "execution_count": 140,
   "metadata": {},
   "outputs": [
    {
     "name": "stdout",
     "output_type": "stream",
     "text": [
      "https://www.cdc.gov/coronavirus/2019-ncov/hcp/elastomeric-respirators-strategy/index.html\n",
      "https://www.cdc.gov/coronavirus/2019-ncov/hcp/ppe-strategy/decontamination-reuse-respirators.html\n",
      "https://www.nytimes.com/2020/05/27/us/coronavirus-masks-elastomeric-respirators.html\n",
      "https://www.osha.gov/memos/2020-04-24/enforcement-guidance-decontamination-filtering-facepiece-respirators-healthcare\n",
      "https://www.fda.gov/media/136702/download\n",
      "https://www.ncbi.nlm.nih.gov/books/NBK540078/\n",
      "https://www.ncbi.nlm.nih.gov/books/NBK540069/\n",
      "https://www.nationalacademies.org/event/03-11-2020/docs/D012DA4393AD7B7552927F6DAB1465FE94C6F336266A\n",
      "https://covid.oumy.com/question-set/savanna-reid/how-can-the-production-of-reusable-elastomeric-respirators-be-scaled-up-to-replace-the-use-of-disposable-n95-face-masks.html\n",
      "https://www.ehstoday.com/covid19/article/21126288/osha-issues-respiratory-fit-guidance-during-covid19-outbreak\n"
     ]
    }
   ],
   "source": [
    "try: \n",
    "    from googlesearch import search \n",
    "except ImportError:  \n",
    "    print(\"Error/Not found\") \n",
    "### Browsing the sourses using different search terms: \n",
    "search8_1 = \"corona facilitating the production of elastomeric respirators\"\n",
    "\n",
    "\n",
    "\n",
    "##limit to the first 10 relevant links:\n",
    "for a in search(search8_1, tld=\"co.in\", num=10, stop=10, pause=2): \n",
    "    print(a)"
   ]
  },
  {
   "cell_type": "markdown",
   "metadata": {},
   "source": [
    "# 9/ Best telemedicine practices, barriers and faciitators, and specific actions to remove/expand them within and across state boundaries."
   ]
  },
  {
   "cell_type": "code",
   "execution_count": 153,
   "metadata": {},
   "outputs": [],
   "source": [
    "#Create different sets with specialized terms  from our questions \n",
    "Q9_a = tablesAbstract[tablesAbstract['abstract'].str.contains('telemedicine')]\n",
    "Q9_b = Q9_a[Q9_a['abstract'].str.contains('difficulties')]\n",
    "Q9_c = Q9_a[Q9_a['abstract'].str.contains('barriers')]\n",
    "Q9_d = Q9_a[Q9_a['abstract'].str.contains('actions')]\n",
    "Q9_e = Q9_a[Q9_a['abstract'].str.contains('expand')]"
   ]
  },
  {
   "cell_type": "code",
   "execution_count": 155,
   "metadata": {},
   "outputs": [
    {
     "data": {
      "text/plain": [
       "(68, 6)"
      ]
     },
     "execution_count": 155,
     "metadata": {},
     "output_type": "execute_result"
    }
   ],
   "source": [
    "#Concatenitng the dataframes into one table per question and dropping null value \n",
    "Q9 = pd.concat([Q9_b,Q9_c,Q9_d,Q9_e])\n",
    "Q9.dropna(inplace=True)\n",
    "Q9.shape"
   ]
  },
  {
   "cell_type": "code",
   "execution_count": 156,
   "metadata": {},
   "outputs": [
    {
     "data": {
      "text/html": [
       "<div>\n",
       "<style scoped>\n",
       "    .dataframe tbody tr th:only-of-type {\n",
       "        vertical-align: middle;\n",
       "    }\n",
       "\n",
       "    .dataframe tbody tr th {\n",
       "        vertical-align: top;\n",
       "    }\n",
       "\n",
       "    .dataframe thead th {\n",
       "        text-align: right;\n",
       "    }\n",
       "</style>\n",
       "<table border=\"1\" class=\"dataframe\">\n",
       "  <thead>\n",
       "    <tr style=\"text-align: right;\">\n",
       "      <th></th>\n",
       "      <th>title</th>\n",
       "      <th>abstract</th>\n",
       "      <th>publish_time</th>\n",
       "      <th>url</th>\n",
       "      <th>authors</th>\n",
       "      <th>words</th>\n",
       "    </tr>\n",
       "  </thead>\n",
       "  <tbody>\n",
       "    <tr>\n",
       "      <th>33210</th>\n",
       "      <td>Telemedicine from research to practice during ...</td>\n",
       "      <td>Covid-19 pandemic is creating collateral damag...</td>\n",
       "      <td>2020-04-24</td>\n",
       "      <td>https://doi.org/10.23736/s1973-9087.20.06331-5...</td>\n",
       "      <td>Negrini, Stefano; Kiekens, Carlotte; Bernetti,...</td>\n",
       "      <td>[Covid, 19, pandemic, is, creating, collateral...</td>\n",
       "    </tr>\n",
       "    <tr>\n",
       "      <th>46738</th>\n",
       "      <td>Pharmaceutical care in hospitalized patients. ...</td>\n",
       "      <td>During the pandemic caused by the SARS-CoV-2 v...</td>\n",
       "      <td>2020-06-12</td>\n",
       "      <td>https://doi.org/10.7399/fh.11513; https://www....</td>\n",
       "      <td>Sevilla-Sánchez, Daniel; Tuset-Creus, Montse</td>\n",
       "      <td>[During, the, pandemic, caused, by, the, SARS,...</td>\n",
       "    </tr>\n",
       "    <tr>\n",
       "      <th>51700</th>\n",
       "      <td>COVID-19 pandemic: mental health and beyond - ...</td>\n",
       "      <td>India is a de facto continent in the garb of a...</td>\n",
       "      <td>2020-05-21</td>\n",
       "      <td>https://doi.org/10.1017/ipm.2020.63; https://w...</td>\n",
       "      <td>Mukherjee, Abir; Bandopadhyay, Gargi; Chatterj...</td>\n",
       "      <td>[India, is, a, de, facto, continent, in, the, ...</td>\n",
       "    </tr>\n",
       "    <tr>\n",
       "      <th>70890</th>\n",
       "      <td>Application of Telemedicine During the Coronav...</td>\n",
       "      <td>Background: As COVID-19 has become a global pa...</td>\n",
       "      <td>2020-04-17</td>\n",
       "      <td>https://doi.org/10.1101/2020.04.14.20065664</td>\n",
       "      <td>Gao, Yelei; Liu, Rui; Zhou, Qi; Wang, Xingmei;...</td>\n",
       "      <td>[Background, As, COVID, 19, has, become, a, gl...</td>\n",
       "    </tr>\n",
       "    <tr>\n",
       "      <th>116807</th>\n",
       "      <td>Ensuring mental health care during the SARS-Co...</td>\n",
       "      <td>Abstract Objective: The lack of resources and ...</td>\n",
       "      <td>2020-04-22</td>\n",
       "      <td>https://www.sciencedirect.com/science/article/...</td>\n",
       "      <td>Chevance, A; Gourion, D; Hoertel, N; Llorca, P...</td>\n",
       "      <td>[Abstract, Objective, The, lack, of, resources...</td>\n",
       "    </tr>\n",
       "  </tbody>\n",
       "</table>\n",
       "</div>"
      ],
      "text/plain": [
       "                                                    title  \\\n",
       "33210   Telemedicine from research to practice during ...   \n",
       "46738   Pharmaceutical care in hospitalized patients. ...   \n",
       "51700   COVID-19 pandemic: mental health and beyond - ...   \n",
       "70890   Application of Telemedicine During the Coronav...   \n",
       "116807  Ensuring mental health care during the SARS-Co...   \n",
       "\n",
       "                                                 abstract publish_time  \\\n",
       "33210   Covid-19 pandemic is creating collateral damag...   2020-04-24   \n",
       "46738   During the pandemic caused by the SARS-CoV-2 v...   2020-06-12   \n",
       "51700   India is a de facto continent in the garb of a...   2020-05-21   \n",
       "70890   Background: As COVID-19 has become a global pa...   2020-04-17   \n",
       "116807  Abstract Objective: The lack of resources and ...   2020-04-22   \n",
       "\n",
       "                                                      url  \\\n",
       "33210   https://doi.org/10.23736/s1973-9087.20.06331-5...   \n",
       "46738   https://doi.org/10.7399/fh.11513; https://www....   \n",
       "51700   https://doi.org/10.1017/ipm.2020.63; https://w...   \n",
       "70890         https://doi.org/10.1101/2020.04.14.20065664   \n",
       "116807  https://www.sciencedirect.com/science/article/...   \n",
       "\n",
       "                                                  authors  \\\n",
       "33210   Negrini, Stefano; Kiekens, Carlotte; Bernetti,...   \n",
       "46738        Sevilla-Sánchez, Daniel; Tuset-Creus, Montse   \n",
       "51700   Mukherjee, Abir; Bandopadhyay, Gargi; Chatterj...   \n",
       "70890   Gao, Yelei; Liu, Rui; Zhou, Qi; Wang, Xingmei;...   \n",
       "116807  Chevance, A; Gourion, D; Hoertel, N; Llorca, P...   \n",
       "\n",
       "                                                    words  \n",
       "33210   [Covid, 19, pandemic, is, creating, collateral...  \n",
       "46738   [During, the, pandemic, caused, by, the, SARS,...  \n",
       "51700   [India, is, a, de, facto, continent, in, the, ...  \n",
       "70890   [Background, As, COVID, 19, has, become, a, gl...  \n",
       "116807  [Abstract, Objective, The, lack, of, resources...  "
      ]
     },
     "execution_count": 156,
     "metadata": {},
     "output_type": "execute_result"
    }
   ],
   "source": [
    "#Articles that we have\n",
    "Q9.head(5)"
   ]
  },
  {
   "cell_type": "markdown",
   "metadata": {},
   "source": [
    "Online Search"
   ]
  },
  {
   "cell_type": "code",
   "execution_count": 157,
   "metadata": {},
   "outputs": [
    {
     "name": "stdout",
     "output_type": "stream",
     "text": [
      "https://www.cdc.gov/coronavirus/2019-ncov/hcp/telehealth.html\n",
      "https://www.cdc.gov/coronavirus/2019-ncov/hcp/preparedness-resources.html\n",
      "https://www.aafp.org/patient-care/emergency/2019-coronavirus/telehealth.html\n",
      "https://www.medicaleconomics.com/view/coronavirus-practice-guide-part-2-crisis-could-boost-telemedicine-use\n",
      "https://www.acponline.org/practice-resources/covid-19-practice-management-resources/telehealth-coding-and-billing-during-covid-19\n",
      "https://www.nejm.org/doi/full/10.1056/nejmp2003539\n",
      "https://www.magmutual.com/learning/article/telehealth-practices-during-coronavirus-covid-19-outbreak/\n",
      "https://www.thenationalcouncil.org/wp-content/uploads/2020/03/Telehealth_Best_Practices.pdf?daf=375ateTbd56\n",
      "https://www.healthleadersmedia.com/clinical-care/coronavirus-ama-provides-quick-guide-establish-telemedicine-services\n",
      "https://www.aha.org/issue-landing-page/2020-03-24-coronavirus-covid-19-telehealth-and-virtual-care\n",
      "https://www.brookings.edu/research/removing-regulatory-barriers-to-telehealth-before-and-after-covid-19/\n",
      "https://www.cdc.gov/coronavirus/2019-ncov/hcp/telehealth.html\n",
      "https://www.ncbi.nlm.nih.gov/pmc/articles/PMC7059083/\n",
      "https://www.liebertpub.com/doi/abs/10.1089/tmj.2012.0201\n",
      "https://www.researchgate.net/publication/339401050_Barriers_and_Facilitators_That_Influence_Telemedicine-Based_Real-Time_Online_Consultation_at_Patients'_Homes_Systematic_Literature_Review\n",
      "https://www.researchgate.net/publication/266086811_Facilitators_and_Barriers_to_the_Adoption_of_Telehealth_in_Older_Adults_An_Integrative_Review\n",
      "https://www.beckershospitalreview.com/telehealth/6-telehealth-policy-barriers-to-watch-out-for.html\n",
      "https://www.ruralhealthinfo.org/topics/telehealth/resources\n",
      "https://europepmc.org/article/pmc/pmc4229699\n",
      "https://netrc.org/docs/COVID-19-Epidemic-Telehealth-Toolkit-NETRC-March-2020.pdf\n",
      "https://www.cdc.gov/coronavirus/2019-ncov/hcp/telehealth.html\n",
      "https://www.hhs.gov/coronavirus/telehealth/index.html\n",
      "https://www.brookings.edu/research/removing-regulatory-barriers-to-telehealth-before-and-after-covid-19/\n",
      "https://www.aafp.org/journals/fpm/blogs/gettingpaid/entry/coronavirus_testing_telehealth.html\n",
      "https://www.healthaffairs.org/do/10.1377/hblog20200715.454789/full\n",
      "https://www.kff.org/womens-health-policy/issue-brief/opportunities-and-barriers-for-telemedicine-in-the-u-s-during-the-covid-19-emergency-and-beyond/\n",
      "https://www.nytimes.com/2020/03/11/health/telemedicine-coronavirus.html\n",
      "https://www.medicare.gov/medicare-coronavirus\n",
      "https://www.psychiatry.org/psychiatrists/covid-19-coronavirus/practice-guidance-for-covid-19\n",
      "https://mhealthintelligence.com/news/experts-weigh-in-on-post-covid-19-telehealth-rules-and-policies\n"
     ]
    }
   ],
   "source": [
    "try: \n",
    "    from googlesearch import search \n",
    "except ImportError:  \n",
    "    print(\"Error/Not found\") \n",
    "### Browsing the sourses using different search terms: \n",
    "search9_1 = \"corona telemedicine practices\"\n",
    "search9_2 = \"corona telemedicine  barriers and faciitators\"\n",
    "search9_3 = \"corona  how to remove and expand  telemedicine \"\n",
    "\n",
    "\n",
    "##limit to the first 10 relevant links:\n",
    "for a in search(search9_1, tld=\"co.in\", num=10, stop=10, pause=2): \n",
    "    print(a)\n",
    "for a in search(search9_2, tld=\"co.in\", num=10, stop=10, pause=2): \n",
    "    print(a)\n",
    "for a in search(search9_3, tld=\"co.in\", num=10, stop=10, pause=2): \n",
    "    print(a)"
   ]
  },
  {
   "cell_type": "markdown",
   "metadata": {},
   "source": [
    "# 11/ Oral medications that might potentially work."
   ]
  },
  {
   "cell_type": "code",
   "execution_count": 183,
   "metadata": {},
   "outputs": [],
   "source": [
    "#Create different sets with specialized terms  from our questions \n",
    "Q10_a = tablesAbstract[tablesAbstract['abstract'].str.contains('corona')]\n",
    "Q10_b = Q10_a[Q10_a['abstract'].str.contains('oral')]"
   ]
  },
  {
   "cell_type": "code",
   "execution_count": 184,
   "metadata": {},
   "outputs": [
    {
     "data": {
      "text/plain": [
       "(962, 6)"
      ]
     },
     "execution_count": 184,
     "metadata": {},
     "output_type": "execute_result"
    }
   ],
   "source": [
    "#Concatenitng the dataframes into one table per question and dropping null value \n",
    "Q10 = pd.concat([Q10_b])\n",
    "Q10.dropna(inplace=True)\n",
    "Q10.shape"
   ]
  },
  {
   "cell_type": "code",
   "execution_count": 185,
   "metadata": {},
   "outputs": [
    {
     "data": {
      "text/html": [
       "<div>\n",
       "<style scoped>\n",
       "    .dataframe tbody tr th:only-of-type {\n",
       "        vertical-align: middle;\n",
       "    }\n",
       "\n",
       "    .dataframe tbody tr th {\n",
       "        vertical-align: top;\n",
       "    }\n",
       "\n",
       "    .dataframe thead th {\n",
       "        text-align: right;\n",
       "    }\n",
       "</style>\n",
       "<table border=\"1\" class=\"dataframe\">\n",
       "  <thead>\n",
       "    <tr style=\"text-align: right;\">\n",
       "      <th></th>\n",
       "      <th>title</th>\n",
       "      <th>abstract</th>\n",
       "      <th>publish_time</th>\n",
       "      <th>url</th>\n",
       "      <th>authors</th>\n",
       "      <th>words</th>\n",
       "    </tr>\n",
       "  </thead>\n",
       "  <tbody>\n",
       "    <tr>\n",
       "      <th>2089</th>\n",
       "      <td>Acute respiratory distress syndrome and acute ...</td>\n",
       "      <td>BACKGROUND: Influenza B virus infection is gen...</td>\n",
       "      <td>2016-01-04</td>\n",
       "      <td>https://www.ncbi.nlm.nih.gov/pmc/articles/PMC4...</td>\n",
       "      <td>Chang, Hsu-Liang; Hsu, Jui-Feng; Tsai, Ying-Mi...</td>\n",
       "      <td>[BACKGROUND, Influenza, B, virus, infection, i...</td>\n",
       "    </tr>\n",
       "    <tr>\n",
       "      <th>2791</th>\n",
       "      <td>36th International Symposium on Intensive Care...</td>\n",
       "      <td>P001 - Sepsis impairs the capillary response w...</td>\n",
       "      <td>2016-04-20</td>\n",
       "      <td>https://www.ncbi.nlm.nih.gov/pmc/articles/PMC5...</td>\n",
       "      <td>Bateman, R. M.; Sharpe, M. D.; Jagger, J. E.; ...</td>\n",
       "      <td>[P001, Sepsis, impairs, the, capillary, respon...</td>\n",
       "    </tr>\n",
       "    <tr>\n",
       "      <th>12355</th>\n",
       "      <td>Asthma Exacerbations and Risk of Emergency Dep...</td>\n",
       "      <td>BACKGROUND: In asthmatic children, 60–80% of e...</td>\n",
       "      <td>2017-10-04</td>\n",
       "      <td>https://www.ncbi.nlm.nih.gov/pmc/articles/PMC5...</td>\n",
       "      <td>Merckx, Joanna; Ducharme, Francine M; Quach, C...</td>\n",
       "      <td>[BACKGROUND, In, asthmatic, children, 60, 80, ...</td>\n",
       "    </tr>\n",
       "    <tr>\n",
       "      <th>12413</th>\n",
       "      <td>677. Using a Multisectoral One Health Approach...</td>\n",
       "      <td>BACKGROUND: Emerging and endemic zoonoses cont...</td>\n",
       "      <td>2018-11-26</td>\n",
       "      <td>https://www.ncbi.nlm.nih.gov/pmc/articles/PMC6...</td>\n",
       "      <td>Krishnasamy, Vikram; Behravesh, Casey Barton; ...</td>\n",
       "      <td>[BACKGROUND, Emerging, and, endemic, zoonoses,...</td>\n",
       "    </tr>\n",
       "    <tr>\n",
       "      <th>12415</th>\n",
       "      <td>2491. Post-Exposure Prophylaxis With Ribavirin...</td>\n",
       "      <td>BACKGROUND: In 2015, an outbreak of Middle Eas...</td>\n",
       "      <td>2018-11-26</td>\n",
       "      <td>https://www.ncbi.nlm.nih.gov/pmc/articles/PMC6...</td>\n",
       "      <td>Park, So Yeon; Lee, Jin Seo; Kim, Jungok; Joo,...</td>\n",
       "      <td>[BACKGROUND, In, 2015, an, outbreak, of, Middl...</td>\n",
       "    </tr>\n",
       "  </tbody>\n",
       "</table>\n",
       "</div>"
      ],
      "text/plain": [
       "                                                   title  \\\n",
       "2089   Acute respiratory distress syndrome and acute ...   \n",
       "2791   36th International Symposium on Intensive Care...   \n",
       "12355  Asthma Exacerbations and Risk of Emergency Dep...   \n",
       "12413  677. Using a Multisectoral One Health Approach...   \n",
       "12415  2491. Post-Exposure Prophylaxis With Ribavirin...   \n",
       "\n",
       "                                                abstract publish_time  \\\n",
       "2089   BACKGROUND: Influenza B virus infection is gen...   2016-01-04   \n",
       "2791   P001 - Sepsis impairs the capillary response w...   2016-04-20   \n",
       "12355  BACKGROUND: In asthmatic children, 60–80% of e...   2017-10-04   \n",
       "12413  BACKGROUND: Emerging and endemic zoonoses cont...   2018-11-26   \n",
       "12415  BACKGROUND: In 2015, an outbreak of Middle Eas...   2018-11-26   \n",
       "\n",
       "                                                     url  \\\n",
       "2089   https://www.ncbi.nlm.nih.gov/pmc/articles/PMC4...   \n",
       "2791   https://www.ncbi.nlm.nih.gov/pmc/articles/PMC5...   \n",
       "12355  https://www.ncbi.nlm.nih.gov/pmc/articles/PMC5...   \n",
       "12413  https://www.ncbi.nlm.nih.gov/pmc/articles/PMC6...   \n",
       "12415  https://www.ncbi.nlm.nih.gov/pmc/articles/PMC6...   \n",
       "\n",
       "                                                 authors  \\\n",
       "2089   Chang, Hsu-Liang; Hsu, Jui-Feng; Tsai, Ying-Mi...   \n",
       "2791   Bateman, R. M.; Sharpe, M. D.; Jagger, J. E.; ...   \n",
       "12355  Merckx, Joanna; Ducharme, Francine M; Quach, C...   \n",
       "12413  Krishnasamy, Vikram; Behravesh, Casey Barton; ...   \n",
       "12415  Park, So Yeon; Lee, Jin Seo; Kim, Jungok; Joo,...   \n",
       "\n",
       "                                                   words  \n",
       "2089   [BACKGROUND, Influenza, B, virus, infection, i...  \n",
       "2791   [P001, Sepsis, impairs, the, capillary, respon...  \n",
       "12355  [BACKGROUND, In, asthmatic, children, 60, 80, ...  \n",
       "12413  [BACKGROUND, Emerging, and, endemic, zoonoses,...  \n",
       "12415  [BACKGROUND, In, 2015, an, outbreak, of, Middl...  "
      ]
     },
     "execution_count": 185,
     "metadata": {},
     "output_type": "execute_result"
    }
   ],
   "source": [
    "#Articles that we have\n",
    "Q10.head(5)"
   ]
  },
  {
   "cell_type": "markdown",
   "metadata": {},
   "source": [
    "Online Search"
   ]
  },
  {
   "cell_type": "code",
   "execution_count": 186,
   "metadata": {},
   "outputs": [
    {
     "name": "stdout",
     "output_type": "stream",
     "text": [
      "https://www.goodrx.com/blog/coronavirus-treatments-on-the-way/\n",
      "https://www.sciencemag.org/news/2020/06/corticosteroid-drug-recently-shown-reduce-coronavirus-death-risk-could-run-out-experts\n",
      "https://www.washingtonpost.com/health/2020/07/16/hydroxychloroquine-studies-show-drug-is-not-effective-early-treatment-mild-covid-19/\n",
      "https://www.fda.gov/drugs/emergency-preparedness-drugs/coronavirus-covid-19-drugs\n",
      "https://www.fda.gov/drugs/coronavirus-covid-19-drugs/clinical-trial-conduct-during-covid-19-pandemic\n",
      "https://www.fda.gov/drugs/coronavirus-covid-19-drugs/registration-and-listing-assistance-non-traditional-manufacturers-hand-sanitizer-and-related-covid\n",
      "https://www.fda.gov/drugs/coronavirus-covid-19-drugs/bioequivalence-studies-submission-andas-during-covid-19-pandemic\n",
      "https://www.livescience.com/coronavirus-covid-19-treatments.html\n",
      "http://med.stanford.edu/news/all-news/2020/06/stanford-medicine-trial-tests-favipiravir-for-covid-19.html\n",
      "https://www.clinicaltrialsarena.com/analysis/coronavirus-mers-cov-drugs/\n"
     ]
    }
   ],
   "source": [
    "try: \n",
    "    from googlesearch import search \n",
    "except ImportError:  \n",
    "    print(\"Error/Not found\") \n",
    "### Browsing the sourses using different search terms: \n",
    "search10_1 = \"corona effective oral medications\"\n",
    "\n",
    "\n",
    "\n",
    "##limit to the first 10 relevant links:\n",
    "for a in search(search10_1, tld=\"co.in\", num=10, stop=10, pause=2): \n",
    "    print(a)"
   ]
  },
  {
   "cell_type": "markdown",
   "metadata": {},
   "source": [
    "# 11/ Use of AI in real-time health care delivery to evaluate interventions, risk factors, and outcomes in a way that could not be done manually."
   ]
  },
  {
   "cell_type": "code",
   "execution_count": 195,
   "metadata": {},
   "outputs": [],
   "source": [
    "#Create different sets with specialized terms  from our questions \n",
    "Q11_a = tablesAbstract[tablesAbstract['abstract'].str.contains('AI')]\n",
    "Q11_b = Q11_a[Q11_a['abstract'].str.contains('healthcare delivery')]\n"
   ]
  },
  {
   "cell_type": "code",
   "execution_count": 196,
   "metadata": {},
   "outputs": [
    {
     "data": {
      "text/plain": [
       "(7, 6)"
      ]
     },
     "execution_count": 196,
     "metadata": {},
     "output_type": "execute_result"
    }
   ],
   "source": [
    "#Concatenitng the dataframes into one table per question and dropping null value \n",
    "Q11 = pd.concat([Q11_b])\n",
    "Q11.dropna(inplace=True)\n",
    "Q11.shape"
   ]
  },
  {
   "cell_type": "code",
   "execution_count": 198,
   "metadata": {},
   "outputs": [
    {
     "data": {
      "text/html": [
       "<div>\n",
       "<style scoped>\n",
       "    .dataframe tbody tr th:only-of-type {\n",
       "        vertical-align: middle;\n",
       "    }\n",
       "\n",
       "    .dataframe tbody tr th {\n",
       "        vertical-align: top;\n",
       "    }\n",
       "\n",
       "    .dataframe thead th {\n",
       "        text-align: right;\n",
       "    }\n",
       "</style>\n",
       "<table border=\"1\" class=\"dataframe\">\n",
       "  <thead>\n",
       "    <tr style=\"text-align: right;\">\n",
       "      <th></th>\n",
       "      <th>title</th>\n",
       "      <th>abstract</th>\n",
       "      <th>publish_time</th>\n",
       "      <th>url</th>\n",
       "      <th>authors</th>\n",
       "      <th>words</th>\n",
       "    </tr>\n",
       "  </thead>\n",
       "  <tbody>\n",
       "    <tr>\n",
       "      <th>33083</th>\n",
       "      <td>Health workers' perceptions and experiences of...</td>\n",
       "      <td>BACKGROUND Mobile health (mHealth), refers to ...</td>\n",
       "      <td>2020-03-26</td>\n",
       "      <td>https://doi.org/10.1002/14651858.cd011942.pub2...</td>\n",
       "      <td>Odendaal, Willem A; Anstey Watkins, Jocelyn; L...</td>\n",
       "      <td>[BACKGROUND, Mobile, health, mHealth, refers, ...</td>\n",
       "    </tr>\n",
       "    <tr>\n",
       "      <th>35209</th>\n",
       "      <td>Delivery of health care for cardiovascular and...</td>\n",
       "      <td>BACKGROUND People living with HIV (PLHIV) in A...</td>\n",
       "      <td>2016</td>\n",
       "      <td>https://doi.org/10.1186/s13643-016-0241-5; htt...</td>\n",
       "      <td>Watkins, David A; Tulloch, Nathaniel L; Anders...</td>\n",
       "      <td>[BACKGROUND, People, living, with, HIV, PLHIV,...</td>\n",
       "    </tr>\n",
       "    <tr>\n",
       "      <th>127681</th>\n",
       "      <td>China-Africa Health Development Initiatives: B...</td>\n",
       "      <td>BACKGROUND AND INTRODUCTION: This review paper...</td>\n",
       "      <td>2016</td>\n",
       "      <td>https://www.ncbi.nlm.nih.gov/pubmed/28058199/</td>\n",
       "      <td>Tambo, Ernest; Ugwu, Chidiebere E.; Guan, Yayi...</td>\n",
       "      <td>[BACKGROUND, AND, INTRODUCTION, This, review, ...</td>\n",
       "    </tr>\n",
       "    <tr>\n",
       "      <th>135437</th>\n",
       "      <td>Community health workers in Ghana: the need fo...</td>\n",
       "      <td>From the 1970s to the 1990s, the WHO, United N...</td>\n",
       "      <td>2016-12-02</td>\n",
       "      <td>https://www.ncbi.nlm.nih.gov/pubmed/28588981/;...</td>\n",
       "      <td>Baatiema, Leonard; Sumah, Anthony Mwinkaara; T...</td>\n",
       "      <td>[From, the, 1970s, to, the, 1990s, the, WHO, U...</td>\n",
       "    </tr>\n",
       "    <tr>\n",
       "      <th>142634</th>\n",
       "      <td>Colon capsule endoscopy: an innovative method ...</td>\n",
       "      <td>AIM: The coronavirus pandemic has led to signi...</td>\n",
       "      <td>2020-06-02</td>\n",
       "      <td>https://doi.org/10.1111/codi.15134; https://ww...</td>\n",
       "      <td>MacLeod, C.; Wilson, P.; Watson, A. J. M.</td>\n",
       "      <td>[AIM, The, coronavirus, pandemic, has, led, to...</td>\n",
       "    </tr>\n",
       "  </tbody>\n",
       "</table>\n",
       "</div>"
      ],
      "text/plain": [
       "                                                    title  \\\n",
       "33083   Health workers' perceptions and experiences of...   \n",
       "35209   Delivery of health care for cardiovascular and...   \n",
       "127681  China-Africa Health Development Initiatives: B...   \n",
       "135437  Community health workers in Ghana: the need fo...   \n",
       "142634  Colon capsule endoscopy: an innovative method ...   \n",
       "\n",
       "                                                 abstract publish_time  \\\n",
       "33083   BACKGROUND Mobile health (mHealth), refers to ...   2020-03-26   \n",
       "35209   BACKGROUND People living with HIV (PLHIV) in A...         2016   \n",
       "127681  BACKGROUND AND INTRODUCTION: This review paper...         2016   \n",
       "135437  From the 1970s to the 1990s, the WHO, United N...   2016-12-02   \n",
       "142634  AIM: The coronavirus pandemic has led to signi...   2020-06-02   \n",
       "\n",
       "                                                      url  \\\n",
       "33083   https://doi.org/10.1002/14651858.cd011942.pub2...   \n",
       "35209   https://doi.org/10.1186/s13643-016-0241-5; htt...   \n",
       "127681      https://www.ncbi.nlm.nih.gov/pubmed/28058199/   \n",
       "135437  https://www.ncbi.nlm.nih.gov/pubmed/28588981/;...   \n",
       "142634  https://doi.org/10.1111/codi.15134; https://ww...   \n",
       "\n",
       "                                                  authors  \\\n",
       "33083   Odendaal, Willem A; Anstey Watkins, Jocelyn; L...   \n",
       "35209   Watkins, David A; Tulloch, Nathaniel L; Anders...   \n",
       "127681  Tambo, Ernest; Ugwu, Chidiebere E.; Guan, Yayi...   \n",
       "135437  Baatiema, Leonard; Sumah, Anthony Mwinkaara; T...   \n",
       "142634          MacLeod, C.; Wilson, P.; Watson, A. J. M.   \n",
       "\n",
       "                                                    words  \n",
       "33083   [BACKGROUND, Mobile, health, mHealth, refers, ...  \n",
       "35209   [BACKGROUND, People, living, with, HIV, PLHIV,...  \n",
       "127681  [BACKGROUND, AND, INTRODUCTION, This, review, ...  \n",
       "135437  [From, the, 1970s, to, the, 1990s, the, WHO, U...  \n",
       "142634  [AIM, The, coronavirus, pandemic, has, led, to...  "
      ]
     },
     "execution_count": 198,
     "metadata": {},
     "output_type": "execute_result"
    }
   ],
   "source": [
    "#Articles that we have\n",
    "Q11.head(5)"
   ]
  },
  {
   "cell_type": "markdown",
   "metadata": {},
   "source": [
    "Online Search"
   ]
  },
  {
   "cell_type": "code",
   "execution_count": 200,
   "metadata": {},
   "outputs": [
    {
     "name": "stdout",
     "output_type": "stream",
     "text": [
      "https://www.brookings.edu/blog/future-development/2020/06/16/ai-the-complex-solution-to-simplify-health-care/\n",
      "https://healthitanalytics.com/tag/artificial-intelligence\n",
      "https://www.nature.com/articles/s41591-020-0824-5?fbclid=IwAR31NPCdM20OULYgAYsOhXg0JZhPiaV9OGSImLUrqEVdOULLWchVoC2FbgY\n",
      "https://www.axios.com/coronavirus-artificial-intelligence-medicine-5aa9c365-1f98-4413-8ac9-d1e0cb6e8c85.html\n",
      "https://www.philips.com/a-w/about/news/archive/blogs/innovation-matters/2020/20200608-seven-ways-covid-19-is-accelerating-digital-transformation-in-healthcare.html\n",
      "https://hitconsultant.net/2020/06/11/the-new-normal-rethinking-healthcare-delivery-in-a-post-covid-world/\n",
      "https://www.cmswire.com/digital-experience/how-healthcare-organizations-have-tapped-ai-in-the-fight-against-covid-19/\n",
      "https://fpf.org/2020/05/07/artificial-intelligence-and-the-covid-19-pandemic/\n",
      "https://www.mckinsey.com/industries/healthcare-systems-and-services/our-insights/transforming-healthcare-with-ai\n",
      "https://www.optum.com/resources/library/machine-learning.html\n",
      "https://thehill.com/blogs/congress-blog/technology/493619-health-care-of-tomorrow-today-how-artificial-intelligence-is\n",
      "https://www.optum.com/resources/library/bringing-ai-healthcare.html\n",
      "https://www.mountsinai.org/about/newsroom/2020/mount-sinai-receives-microsoft-ai-for-health-grant-to-support-center-dedicated-to-data-science-discovery-for-covid19-pr\n",
      "https://www.ncbi.nlm.nih.gov/pmc/articles/PMC7287427/\n",
      "https://www.healthcareitnews.com/news/asia-pacific/beyond-covid-19-how-hospitals-can-prepare-new-normal\n",
      "https://www.internationalsos.com/client-magazines/in-this-issue-3/how-ai-is-transforming-the-future-of-healthcare\n",
      "https://www.weforum.org/agenda/2020/01/future-of-artificial-intelligence-healthcare-delivery/\n",
      "https://www.aha.org/center/emerging-issues/market-insights/ai\n",
      "https://builtin.com/artificial-intelligence/artificial-intelligence-healthcare\n",
      "https://www.beckershospitalreview.com/digital-transformation/10-big-advancements-in-healthcare-tech-during-the-pandemic.html\n"
     ]
    }
   ],
   "source": [
    "try: \n",
    "    from googlesearch import search \n",
    "except ImportError:  \n",
    "    print(\"Error/Not found\") \n",
    "### Browsing the sourses using different search terms: \n",
    "search11_1 = \"corona AI in real-time health care delivery\"\n",
    "\n",
    "\n",
    "##limit to the first 10 relevant links:\n",
    "for a in search(search11_1, tld=\"co.in\", num=20, stop=20, pause=2): \n",
    "    print(a)"
   ]
  },
  {
   "cell_type": "markdown",
   "metadata": {},
   "source": [
    "# 12/ Best practices and critical challenges and innovative solutions and technologies in hospital flow and organization, workforce protection, workforce allocation, community-based support resources, payment, and supply chain management to enhance capacity, efficiency, and outcomes."
   ]
  },
  {
   "cell_type": "code",
   "execution_count": 228,
   "metadata": {},
   "outputs": [],
   "source": [
    "#Create different sets with specialized terms  from our questions \n",
    "Q12_a = tablesAbstract[tablesAbstract['abstract'].str.contains('corona')]\n",
    "Q12_b = Q12_a[Q12_a['abstract'].str.contains('innovative solution')]\n",
    "Q12_c = Q12_a[Q12_a['abstract'].str.contains('challenges')]\n",
    "Q12_d = Q12_a[Q12_a['abstract'].str.contains('technologies')]\n",
    "Q12_e = Q12_a[Q12_a['abstract'].str.contains('best practices')]"
   ]
  },
  {
   "cell_type": "code",
   "execution_count": 229,
   "metadata": {},
   "outputs": [
    {
     "data": {
      "text/plain": [
       "(832, 6)"
      ]
     },
     "execution_count": 229,
     "metadata": {},
     "output_type": "execute_result"
    }
   ],
   "source": [
    "#Concatenitng the dataframes into one table per question and dropping null value \n",
    "Q12 = pd.concat([Q12_b,Q12_c,Q12_d,Q12_e])\n",
    "Q12.dropna(inplace=True)\n",
    "Q12.shape"
   ]
  },
  {
   "cell_type": "code",
   "execution_count": 230,
   "metadata": {},
   "outputs": [
    {
     "data": {
      "text/html": [
       "<div>\n",
       "<style scoped>\n",
       "    .dataframe tbody tr th:only-of-type {\n",
       "        vertical-align: middle;\n",
       "    }\n",
       "\n",
       "    .dataframe tbody tr th {\n",
       "        vertical-align: top;\n",
       "    }\n",
       "\n",
       "    .dataframe thead th {\n",
       "        text-align: right;\n",
       "    }\n",
       "</style>\n",
       "<table border=\"1\" class=\"dataframe\">\n",
       "  <thead>\n",
       "    <tr style=\"text-align: right;\">\n",
       "      <th></th>\n",
       "      <th>title</th>\n",
       "      <th>abstract</th>\n",
       "      <th>publish_time</th>\n",
       "      <th>url</th>\n",
       "      <th>authors</th>\n",
       "      <th>words</th>\n",
       "    </tr>\n",
       "  </thead>\n",
       "  <tbody>\n",
       "    <tr>\n",
       "      <th>37476</th>\n",
       "      <td>Ten Days to Implementation of 3D-Printed Masks...</td>\n",
       "      <td>The coronavirus disease 2019 (COVID-19) pandem...</td>\n",
       "      <td>2020-06-15</td>\n",
       "      <td>https://doi.org/10.2106/jbjs.20.00881; https:/...</td>\n",
       "      <td>Thomas, Claire N; Schroder, Lisa K; Cole, Peter A</td>\n",
       "      <td>[The, coronavirus, disease, 2019, COVID, 19, p...</td>\n",
       "    </tr>\n",
       "    <tr>\n",
       "      <th>60768</th>\n",
       "      <td>Rapid Validation of Telepathology by an Academ...</td>\n",
       "      <td>CONTEXT The coronavirus disease 19 (COVID-19) ...</td>\n",
       "      <td>2020-06-18</td>\n",
       "      <td>https://doi.org/10.5858/arpa.2020-0372-sa; htt...</td>\n",
       "      <td>Henriksen, Jonathan; Kolognizak, Teresa; Hough...</td>\n",
       "      <td>[CONTEXT, The, coronavirus, disease, 19, COVID...</td>\n",
       "    </tr>\n",
       "    <tr>\n",
       "      <th>94030</th>\n",
       "      <td>Splitting one ventilator for multiple patients...</td>\n",
       "      <td>Due to the recent coronavirus outbreak, many e...</td>\n",
       "      <td>2020-03-27</td>\n",
       "      <td>https://arxiv.org/pdf/2003.12349v2.pdf</td>\n",
       "      <td>Martinsen, T.; Tronstad, C.; Olsen, M.; Rossel...</td>\n",
       "      <td>[Due, to, the, recent, coronavirus, outbreak, ...</td>\n",
       "    </tr>\n",
       "    <tr>\n",
       "      <th>122349</th>\n",
       "      <td>Ultrasound Teleguidance to Reduce Healthcare W...</td>\n",
       "      <td>The global spread of coronavirus disease 2019 ...</td>\n",
       "      <td>2020-06-11</td>\n",
       "      <td>https://doi.org/10.1097/cce.0000000000000146</td>\n",
       "      <td>Gibson, Lauren E.; Low, Sarah A.; Bittner, Edw...</td>\n",
       "      <td>[The, global, spread, of, coronavirus, disease...</td>\n",
       "    </tr>\n",
       "    <tr>\n",
       "      <th>125438</th>\n",
       "      <td>Challenges faced by mental health providers an...</td>\n",
       "      <td>BACKGROUND: The novel coronavirus, SARS-CoV-2,...</td>\n",
       "      <td>2020-06-03</td>\n",
       "      <td>https://api.elsevier.com/content/article/pii/S...</td>\n",
       "      <td>Ojha, Rashi; Syed, Saba</td>\n",
       "      <td>[BACKGROUND, The, novel, coronavirus, SARS, Co...</td>\n",
       "    </tr>\n",
       "  </tbody>\n",
       "</table>\n",
       "</div>"
      ],
      "text/plain": [
       "                                                    title  \\\n",
       "37476   Ten Days to Implementation of 3D-Printed Masks...   \n",
       "60768   Rapid Validation of Telepathology by an Academ...   \n",
       "94030   Splitting one ventilator for multiple patients...   \n",
       "122349  Ultrasound Teleguidance to Reduce Healthcare W...   \n",
       "125438  Challenges faced by mental health providers an...   \n",
       "\n",
       "                                                 abstract publish_time  \\\n",
       "37476   The coronavirus disease 2019 (COVID-19) pandem...   2020-06-15   \n",
       "60768   CONTEXT The coronavirus disease 19 (COVID-19) ...   2020-06-18   \n",
       "94030   Due to the recent coronavirus outbreak, many e...   2020-03-27   \n",
       "122349  The global spread of coronavirus disease 2019 ...   2020-06-11   \n",
       "125438  BACKGROUND: The novel coronavirus, SARS-CoV-2,...   2020-06-03   \n",
       "\n",
       "                                                      url  \\\n",
       "37476   https://doi.org/10.2106/jbjs.20.00881; https:/...   \n",
       "60768   https://doi.org/10.5858/arpa.2020-0372-sa; htt...   \n",
       "94030              https://arxiv.org/pdf/2003.12349v2.pdf   \n",
       "122349       https://doi.org/10.1097/cce.0000000000000146   \n",
       "125438  https://api.elsevier.com/content/article/pii/S...   \n",
       "\n",
       "                                                  authors  \\\n",
       "37476   Thomas, Claire N; Schroder, Lisa K; Cole, Peter A   \n",
       "60768   Henriksen, Jonathan; Kolognizak, Teresa; Hough...   \n",
       "94030   Martinsen, T.; Tronstad, C.; Olsen, M.; Rossel...   \n",
       "122349  Gibson, Lauren E.; Low, Sarah A.; Bittner, Edw...   \n",
       "125438                            Ojha, Rashi; Syed, Saba   \n",
       "\n",
       "                                                    words  \n",
       "37476   [The, coronavirus, disease, 2019, COVID, 19, p...  \n",
       "60768   [CONTEXT, The, coronavirus, disease, 19, COVID...  \n",
       "94030   [Due, to, the, recent, coronavirus, outbreak, ...  \n",
       "122349  [The, global, spread, of, coronavirus, disease...  \n",
       "125438  [BACKGROUND, The, novel, coronavirus, SARS, Co...  "
      ]
     },
     "execution_count": 230,
     "metadata": {},
     "output_type": "execute_result"
    }
   ],
   "source": [
    "#Articles that we have\n",
    "Q12.head(5)"
   ]
  },
  {
   "cell_type": "markdown",
   "metadata": {},
   "source": [
    "Online Search"
   ]
  },
  {
   "cell_type": "code",
   "execution_count": 231,
   "metadata": {},
   "outputs": [
    {
     "name": "stdout",
     "output_type": "stream",
     "text": [
      "https://www.nationalacademies.org/news/2020/07/troubleshooting-the-pandemic-engineers-pitch-innovative-solutions-to-help-address-covid-19\n",
      "https://www.defense.gov/Explore/Features/Story/Article/2274539/shipyard-takes-on-innovative-solutions-during-covid-19/\n",
      "https://www.coronaca.gov/government/innovative-solutions\n",
      "https://www.brighamandwomens.org/covid-19/covid-19-research-and-innovation\n",
      "https://hdsi.uchicago.edu/covid-19-innovation-challenge/\n",
      "https://www.uchicagomedicine.org/forefront/cancer-articles/innovative-solutions-for-cancer-care-challenges-during-the-covid-pandemic\n",
      "https://www.coronainnovativesolutions.com/\n",
      "https://www.navy.mil/submit/display.asp?story_id=113489\n",
      "https://www.innovationsinhealthcare.org/covid-19-innovations-in-healthcare-responds/\n",
      "https://www.healthaffairs.org/do/10.1377/hblog20200513.980735/full/\n",
      "https://www.cdc.gov/coronavirus/2019-ncov/prevent-getting-sick/prevention.html\n",
      "https://www.cdc.gov/coronavirus/2019-ncov/downloads/workplace-school-and-home-guidance.pdf\n",
      "https://www.who.int/emergencies/diseases/novel-coronavirus-2019/advice-for-public\n",
      "https://www.who.int/covid19responsefund\n",
      "https://www.who.int/emergencies/diseases/novel-coronavirus-2019/advice-for-public/when-and-how-to-use-masks\n",
      "https://www.who.int/emergencies/diseases/novel-coronavirus-2019/advice-for-public/myth-busters\n",
      "https://www.who.int/emergencies/diseases/novel-coronavirus-2019/advice-for-public/healthy-parenting\n",
      "https://www.fema.gov/coronavirus/best-practices\n",
      "https://www.npr.org/sections/coronavirus-live-updates/2020/07/16/890752881/this-citys-coronavirus-safety-measures-could-become-best-practices\n",
      "https://www.fda.gov/food/food-safety-during-emergencies/best-practices-re-opening-retail-food-establishments-during-covid-19-pandemic\n",
      "https://www.uptodate.com/contents/coronavirus-disease-2019-covid-19-critical-care-and-airway-management-issues\n",
      "https://www.thelancet.com/journals/lanres/article/PIIS2213-2600(20)30161-2/fulltext\n",
      "https://www.ncbi.nlm.nih.gov/pmc/articles/PMC7165080/\n",
      "https://care.diabetesjournals.org/content/early/2020/05/20/dc20-0944\n",
      "https://www.pnas.org/content/early/2020/07/07/2006520117\n",
      "https://www.fda.gov/news-events/press-announcements/fda-takes-significant-step-coronavirus-response-efforts-issues-emergency-use-authorization-first\n",
      "https://blogs.edweek.org/edweek/finding_common_ground/2020/03/12_critical_issues_in_education_due_to_the_coronavirus.html\n",
      "https://jamanetwork.com/channels/health-forum/fullarticle/2768097\n",
      "https://jamanetwork.com/journals/jama/fullarticle/2760500\n",
      "https://www.sciencedirect.com/science/article/pii/S0048969720320453\n",
      "https://www.dnb.com/business-directory/company-profiles.corona_technologies_llc.43aa03f1fb615d0cf59cbb6ee1e4feb8.html\n",
      "https://in.linkedin.com/company/corona-technologies\n",
      "https://www.bbva.com/en/technology-against-coronavirus/\n",
      "https://www.nytimes.com/2020/06/16/business/fighting-covid-19-innovative-tech.html\n",
      "https://www.technologyreview.com/tag/coronavirus-covid-19-news/\n",
      "https://www.europarl.europa.eu/RegData/etudes/IDAN/2020/641543/EPRS_IDA(2020)641543_EN.pdf\n",
      "https://www.ecowatch.com/new-coronavirus-technology-2646041302.html\n",
      "https://www.forbes.com/sites/bernardmarr/2020/03/13/coronavirus-how-artificial-intelligence-data-science-and-technology-is-used-to-fight-the-pandemic/\n",
      "https://www.weforum.org/agenda/2020/06/8-technology-entrepreneurs-fighting-covid-19/\n",
      "https://www.weforum.org/agenda/2020/04/10-technology-trends-coronavirus-covid19-pandemic-robotics-telehealth/\n"
     ]
    }
   ],
   "source": [
    "try: \n",
    "    from googlesearch import search \n",
    "except ImportError:  \n",
    "    print(\"Error/Not found\") \n",
    "### Browsing the sourses using different search terms: \n",
    "search12_1 = \"corona innovative solutions\"\n",
    "search12_2 = \"corona best practices\"\n",
    "search12_3 = \"corona critical challenges\"\n",
    "search12_4 = \"corona technologies\"\n",
    "\n",
    "\n",
    "\n",
    "##limit to the first 10 relevant links:\n",
    "for a in search(search12_1, tld=\"co.in\", num=10, stop=10, pause=2): \n",
    "    print(a)\n",
    "for a in search(search12_2, tld=\"co.in\", num=10, stop=10, pause=2): \n",
    "    print(a)\n",
    "for a in search(search12_3, tld=\"co.in\", num=10, stop=10, pause=2): \n",
    "    print(a)\n",
    "for a in search(search12_4, tld=\"co.in\", num=10, stop=10, pause=2): \n",
    "    print(a)"
   ]
  },
  {
   "cell_type": "markdown",
   "metadata": {},
   "source": [
    "# 13/ Efforts to define the natural history of disease to inform clinical care, public health interventions, infection prevention control, transmission, and clinical trials"
   ]
  },
  {
   "cell_type": "code",
   "execution_count": 234,
   "metadata": {},
   "outputs": [],
   "source": [
    "#Create different sets with specialized terms  from our questions \n",
    "Q13_a = tablesAbstract[tablesAbstract['abstract'].str.contains('corona')]\n",
    "Q13_b = Q13_a[Q13_a['abstract'].str.contains('natural history')]"
   ]
  },
  {
   "cell_type": "code",
   "execution_count": 235,
   "metadata": {},
   "outputs": [
    {
     "data": {
      "text/plain": [
       "(47, 6)"
      ]
     },
     "execution_count": 235,
     "metadata": {},
     "output_type": "execute_result"
    }
   ],
   "source": [
    "#Concatenitng the dataframes into one table per question and dropping null value \n",
    "Q13 = pd.concat([Q13_b])\n",
    "Q13.dropna(inplace=True)\n",
    "Q13.shape"
   ]
  },
  {
   "cell_type": "code",
   "execution_count": 236,
   "metadata": {},
   "outputs": [
    {
     "data": {
      "text/html": [
       "<div>\n",
       "<style scoped>\n",
       "    .dataframe tbody tr th:only-of-type {\n",
       "        vertical-align: middle;\n",
       "    }\n",
       "\n",
       "    .dataframe tbody tr th {\n",
       "        vertical-align: top;\n",
       "    }\n",
       "\n",
       "    .dataframe thead th {\n",
       "        text-align: right;\n",
       "    }\n",
       "</style>\n",
       "<table border=\"1\" class=\"dataframe\">\n",
       "  <thead>\n",
       "    <tr style=\"text-align: right;\">\n",
       "      <th></th>\n",
       "      <th>title</th>\n",
       "      <th>abstract</th>\n",
       "      <th>publish_time</th>\n",
       "      <th>url</th>\n",
       "      <th>authors</th>\n",
       "      <th>words</th>\n",
       "    </tr>\n",
       "  </thead>\n",
       "  <tbody>\n",
       "    <tr>\n",
       "      <th>37722</th>\n",
       "      <td>\"Slowing the Spread and Minimizing the Impact ...</td>\n",
       "      <td>BACKGROUND COVID-19, a novel coronavirus origi...</td>\n",
       "      <td>2020-06-02</td>\n",
       "      <td>https://doi.org/10.1097/prs.0000000000007221; ...</td>\n",
       "      <td>Mackenzie, Ethan L; Poore, Samuel O</td>\n",
       "      <td>[BACKGROUND, COVID, 19, a, novel, coronavirus,...</td>\n",
       "    </tr>\n",
       "    <tr>\n",
       "      <th>39167</th>\n",
       "      <td>A Case of Postoperative Covid-19 Infection Aft...</td>\n",
       "      <td>While the focus of the medical community is on...</td>\n",
       "      <td>2020-04-21</td>\n",
       "      <td>https://doi.org/10.1532/hsf.3011; https://www....</td>\n",
       "      <td>Rescigno, Giuseppe; Firstenberg, Michael; Rude...</td>\n",
       "      <td>[While, the, focus, of, the, medical, communit...</td>\n",
       "    </tr>\n",
       "    <tr>\n",
       "      <th>46926</th>\n",
       "      <td>Diagnosis, Treatment, and Long-Term Management...</td>\n",
       "      <td>BACKGROUND Kawasaki disease is an acute vascul...</td>\n",
       "      <td>2017</td>\n",
       "      <td>https://doi.org/10.1161/cir.0000000000000484; ...</td>\n",
       "      <td>McCrindle, Brian W; Rowley, Anne H; Newburger,...</td>\n",
       "      <td>[BACKGROUND, Kawasaki, disease, is, an, acute,...</td>\n",
       "    </tr>\n",
       "    <tr>\n",
       "      <th>48065</th>\n",
       "      <td>Neuropathogenesis and Neurologic Manifestation...</td>\n",
       "      <td>Importance Severe acute respiratory syndrome c...</td>\n",
       "      <td>2020-05-29</td>\n",
       "      <td>https://doi.org/10.1001/jamaneurol.2020.2065; ...</td>\n",
       "      <td>Zubair, Adeel S; McAlpine, Lindsay S; Gardin, ...</td>\n",
       "      <td>[Importance, Severe, acute, respiratory, syndr...</td>\n",
       "    </tr>\n",
       "    <tr>\n",
       "      <th>60691</th>\n",
       "      <td>Convalescent plasma or hyperimmune immunoglobu...</td>\n",
       "      <td>BACKGROUND Convalescent plasma and hyperimmune...</td>\n",
       "      <td>2020-05-14</td>\n",
       "      <td>https://doi.org/10.1002/14651858.cd013600; htt...</td>\n",
       "      <td>Valk, Sarah J; Piechotta, Vanessa; Chai, Khai ...</td>\n",
       "      <td>[BACKGROUND, Convalescent, plasma, and, hyperi...</td>\n",
       "    </tr>\n",
       "  </tbody>\n",
       "</table>\n",
       "</div>"
      ],
      "text/plain": [
       "                                                   title  \\\n",
       "37722  \"Slowing the Spread and Minimizing the Impact ...   \n",
       "39167  A Case of Postoperative Covid-19 Infection Aft...   \n",
       "46926  Diagnosis, Treatment, and Long-Term Management...   \n",
       "48065  Neuropathogenesis and Neurologic Manifestation...   \n",
       "60691  Convalescent plasma or hyperimmune immunoglobu...   \n",
       "\n",
       "                                                abstract publish_time  \\\n",
       "37722  BACKGROUND COVID-19, a novel coronavirus origi...   2020-06-02   \n",
       "39167  While the focus of the medical community is on...   2020-04-21   \n",
       "46926  BACKGROUND Kawasaki disease is an acute vascul...         2017   \n",
       "48065  Importance Severe acute respiratory syndrome c...   2020-05-29   \n",
       "60691  BACKGROUND Convalescent plasma and hyperimmune...   2020-05-14   \n",
       "\n",
       "                                                     url  \\\n",
       "37722  https://doi.org/10.1097/prs.0000000000007221; ...   \n",
       "39167  https://doi.org/10.1532/hsf.3011; https://www....   \n",
       "46926  https://doi.org/10.1161/cir.0000000000000484; ...   \n",
       "48065  https://doi.org/10.1001/jamaneurol.2020.2065; ...   \n",
       "60691  https://doi.org/10.1002/14651858.cd013600; htt...   \n",
       "\n",
       "                                                 authors  \\\n",
       "37722                Mackenzie, Ethan L; Poore, Samuel O   \n",
       "39167  Rescigno, Giuseppe; Firstenberg, Michael; Rude...   \n",
       "46926  McCrindle, Brian W; Rowley, Anne H; Newburger,...   \n",
       "48065  Zubair, Adeel S; McAlpine, Lindsay S; Gardin, ...   \n",
       "60691  Valk, Sarah J; Piechotta, Vanessa; Chai, Khai ...   \n",
       "\n",
       "                                                   words  \n",
       "37722  [BACKGROUND, COVID, 19, a, novel, coronavirus,...  \n",
       "39167  [While, the, focus, of, the, medical, communit...  \n",
       "46926  [BACKGROUND, Kawasaki, disease, is, an, acute,...  \n",
       "48065  [Importance, Severe, acute, respiratory, syndr...  \n",
       "60691  [BACKGROUND, Convalescent, plasma, and, hyperi...  "
      ]
     },
     "execution_count": 236,
     "metadata": {},
     "output_type": "execute_result"
    }
   ],
   "source": [
    "#Articles that we have\n",
    "Q13.head(5)"
   ]
  },
  {
   "cell_type": "markdown",
   "metadata": {},
   "source": [
    "Online Search"
   ]
  },
  {
   "cell_type": "code",
   "execution_count": 238,
   "metadata": {},
   "outputs": [
    {
     "name": "stdout",
     "output_type": "stream",
     "text": [
      "https://www.thelancet.com/journals/lancet/article/PIIS0140-6736(20)30183-5/fulltext\n",
      "https://www.thelancet.com/journals/lancet/article/PIIS0140-6736(20)30183-5/fulltext#seccestitle70\n",
      "https://www.thelancet.com/journals/lancet/article/PIIS0140-6736(20)30183-5/fulltext#seccestitle80\n",
      "https://www.thelancet.com/journals/lancet/article/PIIS0140-6736(20)30183-5/fulltext#seccestitle170\n",
      "https://www.thelancet.com/journals/lancet/article/PIIS0140-6736(20)30183-5/fulltext#seccestitle180\n",
      "https://www.ncbi.nlm.nih.gov/books/NBK92483/\n",
      "https://www.ncbi.nlm.nih.gov/sites/books/NBK92483/\n",
      "https://www.nejm.org/doi/full/10.1056/NEJMc2013020\n",
      "https://www.nap.edu/read/10915/chapter/5\n",
      "https://www.cdc.gov/coronavirus/2019-ncov/hcp/clinical-guidance-management-patients.html\n",
      "https://www.sciencedirect.com/science/article/pii/S0753332220306867\n",
      "https://www.nature.com/articles/s41579-018-0118-9\n",
      "https://www.uptodate.com/contents/coronavirus-disease-2019-covid-19\n",
      "https://jamanetwork.com/journals/jama/fullarticle/2759815\n",
      "https://jvi.asm.org/content/79/2/1036/article-info\n",
      "https://www.researchgate.net/figure/Natural-history-and-management-of-recent-coronavirus-outbreaks-in-humans-CoV_fig1_338834518\n",
      "https://en.wikipedia.org/wiki/Coronavirus\n",
      "https://en.wikipedia.org/wiki/Coronavirus_disease_2019\n",
      "https://www.treatmentactiongroup.org/wp-content/uploads/2020/05/covid_19_epidemiology_final.pdf\n",
      "https://www.who.int/docs/default-source/coronaviruse/situation-reports/20200301-sitrep-41-covid-19.pdf?sfvrsn=6768306d_2\n"
     ]
    }
   ],
   "source": [
    "try: \n",
    "    from googlesearch import search \n",
    "except ImportError:  \n",
    "    print(\"Error/Not found\") \n",
    "### Browsing the sourses using different search terms: \n",
    "search13_1 = \"natural history of coronavirus\"\n",
    "\n",
    "\n",
    "\n",
    "##limit to the first 10 relevant links:\n",
    "for a in search(search13_1, tld=\"co.in\", num=20, stop=20, pause=2): \n",
    "    print(a)"
   ]
  },
  {
   "cell_type": "markdown",
   "metadata": {},
   "source": [
    "# 14/ Efforts to develop a core clinical outcome set to maximize usability of data across a range of trials"
   ]
  },
  {
   "cell_type": "code",
   "execution_count": 239,
   "metadata": {},
   "outputs": [],
   "source": [
    "#Create different sets with specialized terms  from our questions \n",
    "Q14_a = tablesAbstract[tablesAbstract['abstract'].str.contains('core clinical')]"
   ]
  },
  {
   "cell_type": "code",
   "execution_count": 240,
   "metadata": {},
   "outputs": [
    {
     "data": {
      "text/plain": [
       "(2, 6)"
      ]
     },
     "execution_count": 240,
     "metadata": {},
     "output_type": "execute_result"
    }
   ],
   "source": [
    "#Concatenitng the dataframes into one table per question and dropping null value \n",
    "Q14 = pd.concat([Q14_a])\n",
    "Q14.dropna(inplace=True)\n",
    "Q14.shape"
   ]
  },
  {
   "cell_type": "code",
   "execution_count": 241,
   "metadata": {},
   "outputs": [
    {
     "data": {
      "text/html": [
       "<div>\n",
       "<style scoped>\n",
       "    .dataframe tbody tr th:only-of-type {\n",
       "        vertical-align: middle;\n",
       "    }\n",
       "\n",
       "    .dataframe tbody tr th {\n",
       "        vertical-align: top;\n",
       "    }\n",
       "\n",
       "    .dataframe thead th {\n",
       "        text-align: right;\n",
       "    }\n",
       "</style>\n",
       "<table border=\"1\" class=\"dataframe\">\n",
       "  <thead>\n",
       "    <tr style=\"text-align: right;\">\n",
       "      <th></th>\n",
       "      <th>title</th>\n",
       "      <th>abstract</th>\n",
       "      <th>publish_time</th>\n",
       "      <th>url</th>\n",
       "      <th>authors</th>\n",
       "      <th>words</th>\n",
       "    </tr>\n",
       "  </thead>\n",
       "  <tbody>\n",
       "    <tr>\n",
       "      <th>52742</th>\n",
       "      <td>Continuing medical education during a pandemic...</td>\n",
       "      <td>The COVID-19 pandemic has affected healthcare ...</td>\n",
       "      <td>2020-05-13</td>\n",
       "      <td>https://doi.org/10.1136/postgradmedj-2020-1378...</td>\n",
       "      <td>Kanneganti, Abhiram; Sia, Ching-Hui; Ashokka, ...</td>\n",
       "      <td>[The, COVID, 19, pandemic, has, affected, heal...</td>\n",
       "    </tr>\n",
       "    <tr>\n",
       "      <th>124814</th>\n",
       "      <td>Chest computed tomography in children with COV...</td>\n",
       "      <td>BACKGROUND: Infection with COVID-19 is current...</td>\n",
       "      <td>2020-03-11</td>\n",
       "      <td>https://doi.org/10.1007/s00247-020-04656-7; ht...</td>\n",
       "      <td>Li, Wei; Cui, Huaqian; Li, Kunwei; Fang, Yijie...</td>\n",
       "      <td>[BACKGROUND, Infection, with, COVID, 19, is, c...</td>\n",
       "    </tr>\n",
       "  </tbody>\n",
       "</table>\n",
       "</div>"
      ],
      "text/plain": [
       "                                                    title  \\\n",
       "52742   Continuing medical education during a pandemic...   \n",
       "124814  Chest computed tomography in children with COV...   \n",
       "\n",
       "                                                 abstract publish_time  \\\n",
       "52742   The COVID-19 pandemic has affected healthcare ...   2020-05-13   \n",
       "124814  BACKGROUND: Infection with COVID-19 is current...   2020-03-11   \n",
       "\n",
       "                                                      url  \\\n",
       "52742   https://doi.org/10.1136/postgradmedj-2020-1378...   \n",
       "124814  https://doi.org/10.1007/s00247-020-04656-7; ht...   \n",
       "\n",
       "                                                  authors  \\\n",
       "52742   Kanneganti, Abhiram; Sia, Ching-Hui; Ashokka, ...   \n",
       "124814  Li, Wei; Cui, Huaqian; Li, Kunwei; Fang, Yijie...   \n",
       "\n",
       "                                                    words  \n",
       "52742   [The, COVID, 19, pandemic, has, affected, heal...  \n",
       "124814  [BACKGROUND, Infection, with, COVID, 19, is, c...  "
      ]
     },
     "execution_count": 241,
     "metadata": {},
     "output_type": "execute_result"
    }
   ],
   "source": [
    "#Articles that we have\n",
    "Q14.head(5)"
   ]
  },
  {
   "cell_type": "markdown",
   "metadata": {},
   "source": [
    "Online Search"
   ]
  },
  {
   "cell_type": "code",
   "execution_count": 243,
   "metadata": {},
   "outputs": [
    {
     "name": "stdout",
     "output_type": "stream",
     "text": [
      "https://www.sciencedirect.com/science/article/pii/S2095809920300424\n",
      "https://www.thelancet.com/journals/laninf/article/PIIS1473-3099(20)30483-7/fulltext\n",
      "https://www.thelancet.com/journals/laninf/article/PIIS1473-3099(20)30483-7/fulltext#seccestitle30\n",
      "https://www.thelancet.com/journals/laninf/article/PIIS1473-3099(20)30483-7/fulltext#seccestitle80\n",
      "https://www.thelancet.com/journals/laninf/article/PIIS1473-3099(20)30483-7/fulltext#seccestitle90\n",
      "https://coronavirus.tghn.org/covid-therapeutic-trials/covid-core-outcome-sets/\n",
      "https://www.researchgate.net/publication/340101982_Core_Outcome_Set_for_Clinical_Trials_on_Coronavirus_Disease_2019_COS-COVID\n",
      "https://www.frontiersin.org/articles/10.3389/fphar.2020.00781/full\n",
      "https://www.cochrane.org/news/covid-19-core-outcome-set-project-invitation-complete-survey-10-april-2020\n",
      "https://www.who.int/blueprint/priority-diseases/key-action/Roadmap-version-FINAL-for-WEB.pdf?ua=1\n",
      "https://www.medrxiv.org/content/10.1101/2020.03.04.20031401v1\n",
      "https://www.medrxiv.org/content/10.1101/2020.03.23.20041533v2\n",
      "https://www.fda.gov/drugs/news-events-human-drugs/public-meeting-cder-standard-core-sets-clinical-outcome-assessments-and-endpoints-grant-program-0\n",
      "http://www.comet-initiative.org/Studies/Details/1538\n",
      "https://www.unboundmedicine.com/medline/citation/32292626/Core_Outcome_Set_for_Clinical_Trials_on_Coronavirus_Disease_2019_(COS-COVID).\n",
      "https://search.bvsalud.org/global-literature-on-novel-coronavirus-2019-ncov/resource/en/covidwho-613298\n",
      "https://www.canada.ca/en/institutes-health-research/news/2020/03/government-of-canada-invests-27m-in-coronavirus-research--details-of-the-funded-projects.html\n",
      "https://www.nice.org.uk/covid-19/support-for-developers-of-medicinal-products-for-covid-19\n",
      "https://www.gilead.com/news-and-press/press-room/press-releases/2020/6/gilead-announces-results-from-phase-3-trial-of-remdesivir-in-patients-with-moderate-covid-19\n",
      "https://www.nejm.org/doi/full/10.1056/NEJMoa2002032\n"
     ]
    }
   ],
   "source": [
    "try: \n",
    "    from googlesearch import search \n",
    "except ImportError:  \n",
    "    print(\"Error/Not found\") \n",
    "### Browsing the sourses using different search terms: \n",
    "search14_1 = \"corona  develop a core clinical outcome\"\n",
    "\n",
    "\n",
    "\n",
    "##limit to the first 10 relevant links:\n",
    "for a in search(search14_1, tld=\"co.in\", num=20, stop=20, pause=2): \n",
    "    print(a)"
   ]
  },
  {
   "cell_type": "markdown",
   "metadata": {},
   "source": [
    "# 15/ Efforts to determine adjunctive and supportive interventions that can improve the clinical outcomes of infected patients (e.g. steroids, high flow oxygen)"
   ]
  },
  {
   "cell_type": "code",
   "execution_count": 255,
   "metadata": {},
   "outputs": [],
   "source": [
    "#Create different sets with specialized terms  from our questions \n",
    "Q15_a = tablesAbstract[tablesAbstract['abstract'].str.contains('supportive intervention')]\n",
    "Q15_b = tablesAbstract[tablesAbstract['abstract'].str.contains('adjunctive ')]"
   ]
  },
  {
   "cell_type": "code",
   "execution_count": 256,
   "metadata": {},
   "outputs": [
    {
     "data": {
      "text/plain": [
       "(240, 6)"
      ]
     },
     "execution_count": 256,
     "metadata": {},
     "output_type": "execute_result"
    }
   ],
   "source": [
    "#Concatenitng the dataframes into one table per question and dropping null value \n",
    "Q15 = pd.concat([Q15_a,Q15_b])\n",
    "Q15.dropna(inplace=True)\n",
    "Q15.shape"
   ]
  },
  {
   "cell_type": "code",
   "execution_count": 257,
   "metadata": {},
   "outputs": [
    {
     "data": {
      "text/html": [
       "<div>\n",
       "<style scoped>\n",
       "    .dataframe tbody tr th:only-of-type {\n",
       "        vertical-align: middle;\n",
       "    }\n",
       "\n",
       "    .dataframe tbody tr th {\n",
       "        vertical-align: top;\n",
       "    }\n",
       "\n",
       "    .dataframe thead th {\n",
       "        text-align: right;\n",
       "    }\n",
       "</style>\n",
       "<table border=\"1\" class=\"dataframe\">\n",
       "  <thead>\n",
       "    <tr style=\"text-align: right;\">\n",
       "      <th></th>\n",
       "      <th>title</th>\n",
       "      <th>abstract</th>\n",
       "      <th>publish_time</th>\n",
       "      <th>url</th>\n",
       "      <th>authors</th>\n",
       "      <th>words</th>\n",
       "    </tr>\n",
       "  </thead>\n",
       "  <tbody>\n",
       "    <tr>\n",
       "      <th>26290</th>\n",
       "      <td>Value of laparoscopic splenectomy as salvage t...</td>\n",
       "      <td>BACKGROUND/AIMS Recently, partial splenic arte...</td>\n",
       "      <td>2010</td>\n",
       "      <td>https://doi.org/10.1159/000320331; https://www...</td>\n",
       "      <td>Hashimoto, Naotaka; Akahoshi, Tomohiko; Tomika...</td>\n",
       "      <td>[BACKGROUND, AIMS, Recently, partial, splenic,...</td>\n",
       "    </tr>\n",
       "    <tr>\n",
       "      <th>33587</th>\n",
       "      <td>Current treatment approaches for COVID-19 and ...</td>\n",
       "      <td>COVID-19 is caused by SARS-CoV-2 which is a ne...</td>\n",
       "      <td>2020-06-03</td>\n",
       "      <td>https://doi.org/10.1016/j.transci.2020.102839;...</td>\n",
       "      <td>Li, Ying; Liu, Shanglong; Zhang, Shuchao; Ju, ...</td>\n",
       "      <td>[COVID, 19, is, caused, by, SARS, CoV, 2, whic...</td>\n",
       "    </tr>\n",
       "    <tr>\n",
       "      <th>36367</th>\n",
       "      <td>Measuring the success of interventions for car...</td>\n",
       "      <td>PURPOSE OF REVIEW The selection and applicatio...</td>\n",
       "      <td>2019</td>\n",
       "      <td>https://doi.org/10.1097/spc.0000000000000461; ...</td>\n",
       "      <td>Drummond, Maria; Johnston, Bridget; Quinn, Ter...</td>\n",
       "      <td>[PURPOSE, OF, REVIEW, The, selection, and, app...</td>\n",
       "    </tr>\n",
       "    <tr>\n",
       "      <th>123642</th>\n",
       "      <td>Current status of potential therapeutic candid...</td>\n",
       "      <td>As of April 15, 2020, the ongoing coronavirus ...</td>\n",
       "      <td>2020-04-22</td>\n",
       "      <td>https://www.ncbi.nlm.nih.gov/pubmed/32334062/;...</td>\n",
       "      <td>Zhang, Jiancheng; Xie, Bing; Hashimoto, Kenji</td>\n",
       "      <td>[As, of, April, 15, 2020, the, ongoing, corona...</td>\n",
       "    </tr>\n",
       "    <tr>\n",
       "      <th>145123</th>\n",
       "      <td>Caring for the carers: Advice for dealing with...</td>\n",
       "      <td>Hospital staff are at the frontline in the COV...</td>\n",
       "      <td>2020-06-08</td>\n",
       "      <td>https://www.ncbi.nlm.nih.gov/pubmed/32515084/;...</td>\n",
       "      <td>Ballesio, Andrea; Lombardo, Caterina; Lucidi, ...</td>\n",
       "      <td>[Hospital, staff, are, at, the, frontline, in,...</td>\n",
       "    </tr>\n",
       "  </tbody>\n",
       "</table>\n",
       "</div>"
      ],
      "text/plain": [
       "                                                    title  \\\n",
       "26290   Value of laparoscopic splenectomy as salvage t...   \n",
       "33587   Current treatment approaches for COVID-19 and ...   \n",
       "36367   Measuring the success of interventions for car...   \n",
       "123642  Current status of potential therapeutic candid...   \n",
       "145123  Caring for the carers: Advice for dealing with...   \n",
       "\n",
       "                                                 abstract publish_time  \\\n",
       "26290   BACKGROUND/AIMS Recently, partial splenic arte...         2010   \n",
       "33587   COVID-19 is caused by SARS-CoV-2 which is a ne...   2020-06-03   \n",
       "36367   PURPOSE OF REVIEW The selection and applicatio...         2019   \n",
       "123642  As of April 15, 2020, the ongoing coronavirus ...   2020-04-22   \n",
       "145123  Hospital staff are at the frontline in the COV...   2020-06-08   \n",
       "\n",
       "                                                      url  \\\n",
       "26290   https://doi.org/10.1159/000320331; https://www...   \n",
       "33587   https://doi.org/10.1016/j.transci.2020.102839;...   \n",
       "36367   https://doi.org/10.1097/spc.0000000000000461; ...   \n",
       "123642  https://www.ncbi.nlm.nih.gov/pubmed/32334062/;...   \n",
       "145123  https://www.ncbi.nlm.nih.gov/pubmed/32515084/;...   \n",
       "\n",
       "                                                  authors  \\\n",
       "26290   Hashimoto, Naotaka; Akahoshi, Tomohiko; Tomika...   \n",
       "33587   Li, Ying; Liu, Shanglong; Zhang, Shuchao; Ju, ...   \n",
       "36367   Drummond, Maria; Johnston, Bridget; Quinn, Ter...   \n",
       "123642      Zhang, Jiancheng; Xie, Bing; Hashimoto, Kenji   \n",
       "145123  Ballesio, Andrea; Lombardo, Caterina; Lucidi, ...   \n",
       "\n",
       "                                                    words  \n",
       "26290   [BACKGROUND, AIMS, Recently, partial, splenic,...  \n",
       "33587   [COVID, 19, is, caused, by, SARS, CoV, 2, whic...  \n",
       "36367   [PURPOSE, OF, REVIEW, The, selection, and, app...  \n",
       "123642  [As, of, April, 15, 2020, the, ongoing, corona...  \n",
       "145123  [Hospital, staff, are, at, the, frontline, in,...  "
      ]
     },
     "execution_count": 257,
     "metadata": {},
     "output_type": "execute_result"
    }
   ],
   "source": [
    "#Articles that we have\n",
    "Q15.head(5)"
   ]
  },
  {
   "cell_type": "markdown",
   "metadata": {},
   "source": [
    "Online Search"
   ]
  },
  {
   "cell_type": "code",
   "execution_count": 49,
   "metadata": {},
   "outputs": [
    {
     "name": "stdout",
     "output_type": "stream",
     "text": [
      "https://www.cdc.gov/infectioncontrol/guidelines/isolation/prevention.html\n",
      "https://www.ncbi.nlm.nih.gov/books/NBK2683/\n",
      "https://www.who.int/water_sanitation_health/medicalwaste/148to158.pdf?ua=1\n",
      "https://www.who.int/csr/resources/publications/whocdscsreph200212.pdf\n",
      "https://www.health.ny.gov/professionals/diseases/reporting/communicable/infection/95-14_vre_control_guidelines.htm\n",
      "https://www.cochrane.org/CD011621/protective-clothes-and-equipment-healthcare-workers-prevent-them-catching-coronavirus-and-other\n",
      "http://www.bccdc.ca/resource-gallery/Documents/Guidelines%20and%20Forms/Guidelines%20and%20Manuals/Epid/CD%20Manual/Chapter%203%20-%20IC/InfectionControl_GF_IC_In_Physician_Office.pdf\n",
      "https://www.halyardhealth.com/hai-watch/hai-threats-solutions/mrsa.aspx\n",
      "http://www.southernhealth.nhs.uk/EasysiteWeb/getresource.axd?AssetID=83283&type=full&servicetype=Inline&filename=/Management_of_Used_and_Infected_Linen_V2.pdf\n",
      "https://www.health.state.mn.us/facilities/patientsafety/infectioncontrol/pre/contact.html\n",
      "https://nhcps.com/10-steps-preventing-spread-infection-hospitals/?sa=X&ved=2ahUKEwj26-7Wi8vqAhVaHzQIHXZYBWEQ9QF6BAgHEAI\n",
      "https://nhcps.com/10-steps-preventing-spread-infection-hospitals/\n",
      "https://www.ncbi.nlm.nih.gov/pmc/articles/PMC3963198/\n",
      "https://www.ncbi.nlm.nih.gov/pmc/articles/PMC3963198/#idm140652065323648title\n",
      "https://www.ncbi.nlm.nih.gov/pmc/articles/PMC3963198/#sec1-1title\n",
      "https://www.ncbi.nlm.nih.gov/pmc/articles/PMC3963198/#sec1-2title\n",
      "https://www.ncbi.nlm.nih.gov/pmc/articles/PMC3963198/#sec1-5title\n",
      "https://www.cdc.gov/hai/prevent/prevention.html\n",
      "https://www.cdc.gov/infectioncontrol/index.html\n",
      "https://medlineplus.gov/infectioncontrol.html\n",
      "https://nhcps.com/10-steps-preventing-spread-infection-hospitals/\n",
      "https://www.ncbi.nlm.nih.gov/pmc/articles/PMC3963198/\n",
      "https://www.ncbi.nlm.nih.gov/pmc/articles/PMC3963198/#idm140652065323648title\n",
      "https://www.ncbi.nlm.nih.gov/pmc/articles/PMC3963198/#sec1-1title\n",
      "https://www.ncbi.nlm.nih.gov/pmc/articles/PMC3963198/#sec1-2title\n",
      "https://www.ncbi.nlm.nih.gov/pmc/articles/PMC3963198/#sec1-6title\n",
      "https://www.cdc.gov/hai/prevent/prevention.html\n",
      "https://www.cdc.gov/hai/prevent/infection-control-assessment-tools.html\n",
      "https://www.cdc.gov/hai/prevent/prevention_tools.html\n",
      "https://www.cdc.gov/hai/prevent/tap.html\n"
     ]
    }
   ],
   "source": [
    "try: \n",
    "    from googlesearch import search \n",
    "except ImportError:  \n",
    "    print(\"Error/Not found\") \n",
    "### Browsing the sourses using different search terms: \n",
    "search15_1 = \"outcomes data for COVID-19 after mechanical ventilation adjusted for age\"\n",
    "\n",
    "\n",
    "\n",
    "##limit to the first 10 relevant links:\n",
    "for a in search(search3_1, tld=\"co.in\", num=10, stop=10, pause=2): \n",
    "    print(a)"
   ]
  },
  {
   "cell_type": "code",
   "execution_count": null,
   "metadata": {},
   "outputs": [],
   "source": []
  }
 ],
 "metadata": {
  "kernelspec": {
   "display_name": "Python 3",
   "language": "python",
   "name": "python3"
  },
  "language_info": {
   "codemirror_mode": {
    "name": "ipython",
    "version": 3
   },
   "file_extension": ".py",
   "mimetype": "text/x-python",
   "name": "python",
   "nbconvert_exporter": "python",
   "pygments_lexer": "ipython3",
   "version": "3.7.3"
  }
 },
 "nbformat": 4,
 "nbformat_minor": 4
}
