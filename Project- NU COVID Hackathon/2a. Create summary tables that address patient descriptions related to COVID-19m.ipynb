{
 "cells": [
  {
   "cell_type": "code",
   "execution_count": 1,
   "metadata": {},
   "outputs": [],
   "source": [
    "# Importing the libraries \n",
    "import sys\n",
    "import numpy as np \n",
    "import pandas as pd \n",
    "import os "
   ]
  },
  {
   "cell_type": "markdown",
   "metadata": {},
   "source": [
    "### Table: ABSTRACTS"
   ]
  },
  {
   "cell_type": "code",
   "execution_count": 2,
   "metadata": {},
   "outputs": [
    {
     "name": "stderr",
     "output_type": "stream",
     "text": [
      "C:\\Users\\HP\\Anaconda3\\lib\\site-packages\\IPython\\core\\interactiveshell.py:3063: DtypeWarning: Columns (5,6,13,14,16) have mixed types.Specify dtype option on import or set low_memory=False.\n",
      "  interactivity=interactivity, compiler=compiler, result=result)\n"
     ]
    },
    {
     "name": "stdout",
     "output_type": "stream",
     "text": [
      "The number of articles are: 167470\n"
     ]
    }
   ],
   "source": [
    "#Import the information\n",
    "df=pd.read_csv('E:/NorthEastern University/XN-Hackathon Covid/Kaggle Data/metadata.csv') \n",
    "print('The number of articles are:',df.shape[0])"
   ]
  },
  {
   "cell_type": "code",
   "execution_count": 3,
   "metadata": {},
   "outputs": [],
   "source": [
    "#Select only title, abstract, date, link to the article, and authors\n",
    "tablesAbstract= df [['title', 'abstract', 'publish_time', 'url', 'authors']]"
   ]
  },
  {
   "cell_type": "code",
   "execution_count": 4,
   "metadata": {},
   "outputs": [
    {
     "name": "stderr",
     "output_type": "stream",
     "text": [
      "C:\\Users\\HP\\Anaconda3\\lib\\site-packages\\ipykernel_launcher.py:2: SettingWithCopyWarning: \n",
      "A value is trying to be set on a copy of a slice from a DataFrame.\n",
      "Try using .loc[row_indexer,col_indexer] = value instead\n",
      "\n",
      "See the caveats in the documentation: https://pandas.pydata.org/pandas-docs/stable/user_guide/indexing.html#returning-a-view-versus-a-copy\n",
      "  \n"
     ]
    },
    {
     "data": {
      "text/html": [
       "<div>\n",
       "<style scoped>\n",
       "    .dataframe tbody tr th:only-of-type {\n",
       "        vertical-align: middle;\n",
       "    }\n",
       "\n",
       "    .dataframe tbody tr th {\n",
       "        vertical-align: top;\n",
       "    }\n",
       "\n",
       "    .dataframe thead th {\n",
       "        text-align: right;\n",
       "    }\n",
       "</style>\n",
       "<table border=\"1\" class=\"dataframe\">\n",
       "  <thead>\n",
       "    <tr style=\"text-align: right;\">\n",
       "      <th></th>\n",
       "      <th>title</th>\n",
       "      <th>abstract</th>\n",
       "      <th>publish_time</th>\n",
       "      <th>url</th>\n",
       "      <th>authors</th>\n",
       "      <th>words</th>\n",
       "    </tr>\n",
       "  </thead>\n",
       "  <tbody>\n",
       "    <tr>\n",
       "      <th>0</th>\n",
       "      <td>Clinical features of culture-proven Mycoplasma...</td>\n",
       "      <td>OBJECTIVE: This retrospective chart review des...</td>\n",
       "      <td>2001-07-04</td>\n",
       "      <td>https://www.ncbi.nlm.nih.gov/pmc/articles/PMC3...</td>\n",
       "      <td>Madani, Tariq A; Al-Ghamdi, Aisha A</td>\n",
       "      <td>[OBJECTIVE, This, retrospective, chart, review...</td>\n",
       "    </tr>\n",
       "    <tr>\n",
       "      <th>1</th>\n",
       "      <td>Nitric oxide: a pro-inflammatory mediator in l...</td>\n",
       "      <td>Inflammatory diseases of the respiratory tract...</td>\n",
       "      <td>2000-08-15</td>\n",
       "      <td>https://www.ncbi.nlm.nih.gov/pmc/articles/PMC5...</td>\n",
       "      <td>Vliet, Albert van der; Eiserich, Jason P; Cros...</td>\n",
       "      <td>[Inflammatory, diseases, of, the, respiratory,...</td>\n",
       "    </tr>\n",
       "    <tr>\n",
       "      <th>2</th>\n",
       "      <td>Surfactant protein-D and pulmonary host defense</td>\n",
       "      <td>Surfactant protein-D (SP-D) participates in th...</td>\n",
       "      <td>2000-08-25</td>\n",
       "      <td>https://www.ncbi.nlm.nih.gov/pmc/articles/PMC5...</td>\n",
       "      <td>Crouch, Erika C</td>\n",
       "      <td>[Surfactant, protein, D, SP, D, participates, ...</td>\n",
       "    </tr>\n",
       "  </tbody>\n",
       "</table>\n",
       "</div>"
      ],
      "text/plain": [
       "                                               title  \\\n",
       "0  Clinical features of culture-proven Mycoplasma...   \n",
       "1  Nitric oxide: a pro-inflammatory mediator in l...   \n",
       "2    Surfactant protein-D and pulmonary host defense   \n",
       "\n",
       "                                            abstract publish_time  \\\n",
       "0  OBJECTIVE: This retrospective chart review des...   2001-07-04   \n",
       "1  Inflammatory diseases of the respiratory tract...   2000-08-15   \n",
       "2  Surfactant protein-D (SP-D) participates in th...   2000-08-25   \n",
       "\n",
       "                                                 url  \\\n",
       "0  https://www.ncbi.nlm.nih.gov/pmc/articles/PMC3...   \n",
       "1  https://www.ncbi.nlm.nih.gov/pmc/articles/PMC5...   \n",
       "2  https://www.ncbi.nlm.nih.gov/pmc/articles/PMC5...   \n",
       "\n",
       "                                             authors  \\\n",
       "0                Madani, Tariq A; Al-Ghamdi, Aisha A   \n",
       "1  Vliet, Albert van der; Eiserich, Jason P; Cros...   \n",
       "2                                    Crouch, Erika C   \n",
       "\n",
       "                                               words  \n",
       "0  [OBJECTIVE, This, retrospective, chart, review...  \n",
       "1  [Inflammatory, diseases, of, the, respiratory,...  \n",
       "2  [Surfactant, protein, D, SP, D, participates, ...  "
      ]
     },
     "execution_count": 4,
     "metadata": {},
     "output_type": "execute_result"
    }
   ],
   "source": [
    "#Seperate the words in the Abstract columns \n",
    "tablesAbstract['words']=  tablesAbstract.abstract.str.strip().str.split('[\\W_]+')\n",
    "tablesAbstract = tablesAbstract[tablesAbstract.words.str.len() > 0]\n",
    "                                        #rid of all the input that have the Words column less than 0 \n",
    "tablesAbstract.head(3)"
   ]
  },
  {
   "cell_type": "code",
   "execution_count": 5,
   "metadata": {},
   "outputs": [
    {
     "name": "stdout",
     "output_type": "stream",
     "text": [
      "The number of articles after reduction is: 122492\n"
     ]
    }
   ],
   "source": [
    "print('The number of articles after reduction is:', tablesAbstract.shape[0])"
   ]
  },
  {
   "cell_type": "markdown",
   "metadata": {},
   "source": [
    "# ==> We will analyze what the articles available in the dataset and then also search online resources for each questions "
   ]
  },
  {
   "cell_type": "markdown",
   "metadata": {},
   "source": [
    "# -------------------------------------------------------------------------------------------------------------"
   ]
  },
  {
   "cell_type": "markdown",
   "metadata": {},
   "source": [
    "Scraping the web using beautifulsoup4 and Google "
   ]
  },
  {
   "cell_type": "code",
   "execution_count": 27,
   "metadata": {},
   "outputs": [
    {
     "name": "stdout",
     "output_type": "stream",
     "text": [
      "Requirement already satisfied: google in c:\\users\\hp\\anaconda3\\lib\\site-packages (3.0.0)Note: you may need to restart the kernel to use updated packages.\n",
      "\n",
      "Requirement already satisfied: beautifulsoup4 in c:\\users\\hp\\anaconda3\\lib\\site-packages (from google) (4.9.0)\n",
      "Requirement already satisfied: soupsieve>1.2 in c:\\users\\hp\\anaconda3\\lib\\site-packages (from beautifulsoup4->google) (2.0)\n"
     ]
    }
   ],
   "source": [
    "pip install google"
   ]
  },
  {
   "cell_type": "code",
   "execution_count": 28,
   "metadata": {},
   "outputs": [
    {
     "name": "stdout",
     "output_type": "stream",
     "text": [
      "Requirement already satisfied: beautifulsoup4 in c:\\users\\hp\\anaconda3\\lib\\site-packages (4.9.0)\n",
      "Requirement already satisfied: soupsieve>1.2 in c:\\users\\hp\\anaconda3\\lib\\site-packages (from beautifulsoup4) (2.0)\n",
      "Note: you may need to restart the kernel to use updated packages.\n"
     ]
    }
   ],
   "source": [
    "pip install beautifulsoup4"
   ]
  },
  {
   "cell_type": "markdown",
   "metadata": {},
   "source": [
    "# 1/ Range of incubation periods for the disease in humans (and how this varies across age and health status) and how long individuals are contagious, even after recovery.'"
   ]
  },
  {
   "cell_type": "code",
   "execution_count": 20,
   "metadata": {},
   "outputs": [],
   "source": [
    "#Create different sets with specialized terms  from our questions \n",
    "Q1_a = tablesAbstract[tablesAbstract['abstract'].str.contains('incubation period')]\n",
    "Q1_c = tablesAbstract[tablesAbstract['abstract'].str.contains('contagious')]\n",
    "Q1_d = tablesAbstract[tablesAbstract['abstract'].str.contains('after recovery')]"
   ]
  },
  {
   "cell_type": "code",
   "execution_count": 24,
   "metadata": {},
   "outputs": [
    {
     "data": {
      "text/plain": [
       "(1539, 6)"
      ]
     },
     "execution_count": 24,
     "metadata": {},
     "output_type": "execute_result"
    }
   ],
   "source": [
    "#Concatenitng the dataframes into one table per question and dropping null value \n",
    "Q1 = pd.concat([Q1_a,Q1_c,Q1_d])\n",
    "Q1.dropna(inplace=True)\n",
    "Q1.shape"
   ]
  },
  {
   "cell_type": "code",
   "execution_count": 25,
   "metadata": {},
   "outputs": [
    {
     "data": {
      "text/html": [
       "<div>\n",
       "<style scoped>\n",
       "    .dataframe tbody tr th:only-of-type {\n",
       "        vertical-align: middle;\n",
       "    }\n",
       "\n",
       "    .dataframe tbody tr th {\n",
       "        vertical-align: top;\n",
       "    }\n",
       "\n",
       "    .dataframe thead th {\n",
       "        text-align: right;\n",
       "    }\n",
       "</style>\n",
       "<table border=\"1\" class=\"dataframe\">\n",
       "  <thead>\n",
       "    <tr style=\"text-align: right;\">\n",
       "      <th></th>\n",
       "      <th>title</th>\n",
       "      <th>abstract</th>\n",
       "      <th>publish_time</th>\n",
       "      <th>url</th>\n",
       "      <th>authors</th>\n",
       "      <th>words</th>\n",
       "    </tr>\n",
       "  </thead>\n",
       "  <tbody>\n",
       "    <tr>\n",
       "      <th>1122</th>\n",
       "      <td>The Impact of Model Building on the Transmissi...</td>\n",
       "      <td>BACKGROUND: The way we formulate a mathematica...</td>\n",
       "      <td>2013-04-12</td>\n",
       "      <td>https://www.ncbi.nlm.nih.gov/pmc/articles/PMC3...</td>\n",
       "      <td>Ejima, Keisuke; Aihara, Kazuyuki; Nishiura, Hi...</td>\n",
       "      <td>[BACKGROUND, The, way, we, formulate, a, mathe...</td>\n",
       "    </tr>\n",
       "    <tr>\n",
       "      <th>1320</th>\n",
       "      <td>Investigation of serum protein profiles in scr...</td>\n",
       "      <td>BACKGROUND: Classical scrapie in sheep is a fa...</td>\n",
       "      <td>2013-11-14</td>\n",
       "      <td>https://www.ncbi.nlm.nih.gov/pmc/articles/PMC3...</td>\n",
       "      <td>Meling, Siv; Kvalheim, Olav M; Arneberg, Reida...</td>\n",
       "      <td>[BACKGROUND, Classical, scrapie, in, sheep, is...</td>\n",
       "    </tr>\n",
       "    <tr>\n",
       "      <th>1327</th>\n",
       "      <td>Incubation periods of viral gastroenteritis: a...</td>\n",
       "      <td>BACKGROUND: Accurate knowledge of incubation p...</td>\n",
       "      <td>2013-09-25</td>\n",
       "      <td>https://www.ncbi.nlm.nih.gov/pmc/articles/PMC3...</td>\n",
       "      <td>Lee, Rachel M; Lessler, Justin; Lee, Rose A; R...</td>\n",
       "      <td>[BACKGROUND, Accurate, knowledge, of, incubati...</td>\n",
       "    </tr>\n",
       "    <tr>\n",
       "      <th>2175</th>\n",
       "      <td>Understanding Spatio-Temporal Variability in t...</td>\n",
       "      <td>Andalusia (Southern Spain) is considered one o...</td>\n",
       "      <td>2016-03-10</td>\n",
       "      <td>https://www.ncbi.nlm.nih.gov/pmc/articles/PMC4...</td>\n",
       "      <td>Napp, S.; Allepuz, A.; Purse, B. V.; Casal, J....</td>\n",
       "      <td>[Andalusia, Southern, Spain, is, considered, o...</td>\n",
       "    </tr>\n",
       "    <tr>\n",
       "      <th>2516</th>\n",
       "      <td>The Epidemiology of Hand, Foot and Mouth Disea...</td>\n",
       "      <td>CONTEXT: Hand, foot and mouth disease (HFMD) i...</td>\n",
       "      <td>2016-06-03</td>\n",
       "      <td>https://www.ncbi.nlm.nih.gov/pmc/articles/PMC5...</td>\n",
       "      <td>Koh, Wee Ming; Bogich, Tiffany; Siegel, Karen;...</td>\n",
       "      <td>[CONTEXT, Hand, foot, and, mouth, disease, HFM...</td>\n",
       "    </tr>\n",
       "  </tbody>\n",
       "</table>\n",
       "</div>"
      ],
      "text/plain": [
       "                                                  title  \\\n",
       "1122  The Impact of Model Building on the Transmissi...   \n",
       "1320  Investigation of serum protein profiles in scr...   \n",
       "1327  Incubation periods of viral gastroenteritis: a...   \n",
       "2175  Understanding Spatio-Temporal Variability in t...   \n",
       "2516  The Epidemiology of Hand, Foot and Mouth Disea...   \n",
       "\n",
       "                                               abstract publish_time  \\\n",
       "1122  BACKGROUND: The way we formulate a mathematica...   2013-04-12   \n",
       "1320  BACKGROUND: Classical scrapie in sheep is a fa...   2013-11-14   \n",
       "1327  BACKGROUND: Accurate knowledge of incubation p...   2013-09-25   \n",
       "2175  Andalusia (Southern Spain) is considered one o...   2016-03-10   \n",
       "2516  CONTEXT: Hand, foot and mouth disease (HFMD) i...   2016-06-03   \n",
       "\n",
       "                                                    url  \\\n",
       "1122  https://www.ncbi.nlm.nih.gov/pmc/articles/PMC3...   \n",
       "1320  https://www.ncbi.nlm.nih.gov/pmc/articles/PMC3...   \n",
       "1327  https://www.ncbi.nlm.nih.gov/pmc/articles/PMC3...   \n",
       "2175  https://www.ncbi.nlm.nih.gov/pmc/articles/PMC4...   \n",
       "2516  https://www.ncbi.nlm.nih.gov/pmc/articles/PMC5...   \n",
       "\n",
       "                                                authors  \\\n",
       "1122  Ejima, Keisuke; Aihara, Kazuyuki; Nishiura, Hi...   \n",
       "1320  Meling, Siv; Kvalheim, Olav M; Arneberg, Reida...   \n",
       "1327  Lee, Rachel M; Lessler, Justin; Lee, Rose A; R...   \n",
       "2175  Napp, S.; Allepuz, A.; Purse, B. V.; Casal, J....   \n",
       "2516  Koh, Wee Ming; Bogich, Tiffany; Siegel, Karen;...   \n",
       "\n",
       "                                                  words  \n",
       "1122  [BACKGROUND, The, way, we, formulate, a, mathe...  \n",
       "1320  [BACKGROUND, Classical, scrapie, in, sheep, is...  \n",
       "1327  [BACKGROUND, Accurate, knowledge, of, incubati...  \n",
       "2175  [Andalusia, Southern, Spain, is, considered, o...  \n",
       "2516  [CONTEXT, Hand, foot, and, mouth, disease, HFM...  "
      ]
     },
     "execution_count": 25,
     "metadata": {},
     "output_type": "execute_result"
    }
   ],
   "source": [
    "#Articles that we have\n",
    "Q1.head(5)"
   ]
  },
  {
   "cell_type": "markdown",
   "metadata": {},
   "source": [
    "Online Search "
   ]
  },
  {
   "cell_type": "code",
   "execution_count": 30,
   "metadata": {},
   "outputs": [
    {
     "name": "stdout",
     "output_type": "stream",
     "text": [
      "https://www.who.int/docs/default-source/coronaviruse/situation-reports/20200402-sitrep-73-covid-19.pdf?sfvrsn=5ae25bc7_6\n",
      "https://www.ncbi.nlm.nih.gov/pmc/articles/PMC7014672/\n",
      "https://www.ncbi.nlm.nih.gov/pmc/articles/PMC7014672/#idm139990794530880title\n",
      "https://www.ncbi.nlm.nih.gov/pmc/articles/PMC7014672/#__sec2title\n",
      "https://www.ncbi.nlm.nih.gov/pmc/articles/PMC7014672/#__sec3title\n",
      "https://www.ncbi.nlm.nih.gov/pmc/articles/PMC7014672/#__sec4title\n",
      "https://www.ncbi.nlm.nih.gov/pmc/articles/PMC7081172/\n",
      "https://www.ncbi.nlm.nih.gov/pmc/articles/PMC7081172/#__sec11title\n",
      "https://www.ncbi.nlm.nih.gov/pmc/articles/PMC7081172/#__sec15title\n",
      "https://www.ncbi.nlm.nih.gov/pmc/articles/PMC7081172/#__sec16title\n",
      "https://www.cdc.gov/coronavirus/2019-ncov/hcp/faq.html\n",
      "https://www.npr.org/sections/health-shots/2020/04/13/833412729/how-long-does-it-take-to-recover-from-covid-19-and-how-long-are-you-infectious\n",
      "https://www.livescience.com/coronavirus-spread-after-recovery.html\n",
      "https://www.statnews.com/2020/03/09/people-shed-high-levels-of-coronavirus-study-finds-but-most-are-likely-not-infectious-after-recovery-begins/\n",
      "https://www.healthline.com/health-news/people-reinfected-with-covid-19-werent-infectious\n",
      "https://medical.mit.edu/covid-19-updates/2020/06/recovery-covid-19-how-long-someone-contagious\n",
      "https://theconversation.com/how-long-are-you-infectious-when-you-have-coronavirus-135295\n",
      "https://bgr.com/2020/05/25/coronavirus-recovery-time-how-long-is-coronavirus-contagious/\n",
      "https://www.zmescience.com/science/coronavirus-patients-contagious-period-35234234/\n",
      "https://www.forbes.com/sites/brucelee/2020/04/21/covid-19-coronavirus-how-long-are-you-contagious-and-do-symptoms-last/\n"
     ]
    }
   ],
   "source": [
    "try: \n",
    "    from googlesearch import search \n",
    "except ImportError:  \n",
    "    print(\"Error/Not found\") \n",
    "### Browsing the sourses using different search terms: \n",
    "search1_1 = \"Corona Range of incubation periods\"\n",
    "search1_2 = \"corona how long individuals are contagious even after recovery\"\n",
    "\n",
    "\n",
    "##limit to the first 10 relevant links:\n",
    "for a in search(search1_1, tld=\"co.in\", num=10, stop=10, pause=2): \n",
    "    print(a)\n",
    "for a in search(search1_2, tld=\"co.in\", num=10, stop=10, pause=2): \n",
    "    print(a)"
   ]
  },
  {
   "cell_type": "markdown",
   "metadata": {},
   "source": [
    "# 2/ Length of viral shedding after illness onset"
   ]
  },
  {
   "cell_type": "code",
   "execution_count": 43,
   "metadata": {},
   "outputs": [],
   "source": [
    "#Create different sets with specialized terms  from our questions \n",
    "Q2_a = tablesAbstract[tablesAbstract['abstract'].str.contains('viral shedding')]\n",
    "Q2_b = Q2_a[Q2_a['abstract'].str.contains('length')]"
   ]
  },
  {
   "cell_type": "code",
   "execution_count": 44,
   "metadata": {},
   "outputs": [
    {
     "data": {
      "text/plain": [
       "(11, 6)"
      ]
     },
     "execution_count": 44,
     "metadata": {},
     "output_type": "execute_result"
    }
   ],
   "source": [
    "#Concatenitng the dataframes into one table per question and dropping null value \n",
    "Q2 = pd.concat([Q2_b])\n",
    "Q2.dropna(inplace=True)\n",
    "Q2.shape"
   ]
  },
  {
   "cell_type": "code",
   "execution_count": 46,
   "metadata": {},
   "outputs": [
    {
     "data": {
      "text/html": [
       "<div>\n",
       "<style scoped>\n",
       "    .dataframe tbody tr th:only-of-type {\n",
       "        vertical-align: middle;\n",
       "    }\n",
       "\n",
       "    .dataframe tbody tr th {\n",
       "        vertical-align: top;\n",
       "    }\n",
       "\n",
       "    .dataframe thead th {\n",
       "        text-align: right;\n",
       "    }\n",
       "</style>\n",
       "<table border=\"1\" class=\"dataframe\">\n",
       "  <thead>\n",
       "    <tr style=\"text-align: right;\">\n",
       "      <th></th>\n",
       "      <th>title</th>\n",
       "      <th>abstract</th>\n",
       "      <th>publish_time</th>\n",
       "      <th>url</th>\n",
       "      <th>authors</th>\n",
       "      <th>words</th>\n",
       "    </tr>\n",
       "  </thead>\n",
       "  <tbody>\n",
       "    <tr>\n",
       "      <th>51549</th>\n",
       "      <td>Pathogenesis of porcine epidemic diarrhea viru...</td>\n",
       "      <td>Porcine epidemic diarrhea virus (PEDV) is asso...</td>\n",
       "      <td>2014</td>\n",
       "      <td>https://doi.org/10.1016/j.vetmic.2014.09.002; ...</td>\n",
       "      <td>Madson, D M; Magstadt, D R; Arruda, P H E; Hoa...</td>\n",
       "      <td>[Porcine, epidemic, diarrhea, virus, PEDV, is,...</td>\n",
       "    </tr>\n",
       "    <tr>\n",
       "      <th>66800</th>\n",
       "      <td>The Outcome Impact of Early vs Late HFNC Oxyge...</td>\n",
       "      <td>Coronavirus disease-2019 (COVID-19) has rapidl...</td>\n",
       "      <td>2020-05-26</td>\n",
       "      <td>http://medrxiv.org/cgi/content/short/2020.05.2...</td>\n",
       "      <td>Deng, L.; Lei, S.; Jiang, F.; Lubarsky, D. A.;...</td>\n",
       "      <td>[Coronavirus, disease, 2019, COVID, 19, has, r...</td>\n",
       "    </tr>\n",
       "    <tr>\n",
       "      <th>67664</th>\n",
       "      <td>Core warming of coronavirus disease 2019 (COVI...</td>\n",
       "      <td>Background: Coronavirus disease 2019 (COVID-19...</td>\n",
       "      <td>2020-04-06</td>\n",
       "      <td>http://medrxiv.org/cgi/content/short/2020.04.0...</td>\n",
       "      <td>Bonfanti, N.; Gundert, E.; Goff, K.; Drewry, A...</td>\n",
       "      <td>[Background, Coronavirus, disease, 2019, COVID...</td>\n",
       "    </tr>\n",
       "    <tr>\n",
       "      <th>129774</th>\n",
       "      <td>Longitudinal study of age-specific pattern of ...</td>\n",
       "      <td>BACKGROUND: Bats are natural reservoirs for se...</td>\n",
       "      <td>2018-02-20</td>\n",
       "      <td>https://doi.org/10.1186/s12985-018-0950-6; htt...</td>\n",
       "      <td>Wacharapluesadee, Supaporn; Duengkae, Prateep;...</td>\n",
       "      <td>[BACKGROUND, Bats, are, natural, reservoirs, f...</td>\n",
       "    </tr>\n",
       "    <tr>\n",
       "      <th>138102</th>\n",
       "      <td>Factors associated with duration of viral shed...</td>\n",
       "      <td>Abstract Objectives To investigate factors ass...</td>\n",
       "      <td>2020-05-17</td>\n",
       "      <td>https://doi.org/10.1016/j.ijid.2020.05.045; ht...</td>\n",
       "      <td>Qi, Lin; Yang, Yong; Jiang, Dixuan; Tu, Chao; ...</td>\n",
       "      <td>[Abstract, Objectives, To, investigate, factor...</td>\n",
       "    </tr>\n",
       "    <tr>\n",
       "      <th>138291</th>\n",
       "      <td>A preliminary evaluation on the efficacy of oz...</td>\n",
       "      <td>Currently, coronavirus disease 2019 (COVID‐19)...</td>\n",
       "      <td>2020-05-21</td>\n",
       "      <td>https://www.ncbi.nlm.nih.gov/pubmed/32437014/;...</td>\n",
       "      <td>Zheng, Zhishui; Dong, Minglin; Hu, Ke</td>\n",
       "      <td>[Currently, coronavirus, disease, 2019, COVID,...</td>\n",
       "    </tr>\n",
       "    <tr>\n",
       "      <th>140231</th>\n",
       "      <td>Display of Porcine Epidemic Diarrhea Virus Spi...</td>\n",
       "      <td>A new variant of the porcine epidemic diarrhea...</td>\n",
       "      <td>2018-06-27</td>\n",
       "      <td>https://doi.org/10.3390/v10070346; https://www...</td>\n",
       "      <td>Chang, Chia-Yu; Hsu, Wei-Ting; Chao, Yu-Chan; ...</td>\n",
       "      <td>[A, new, variant, of, the, porcine, epidemic, ...</td>\n",
       "    </tr>\n",
       "    <tr>\n",
       "      <th>149574</th>\n",
       "      <td>Persistent detection of SARS-CoV-2 RNA in pati...</td>\n",
       "      <td>BACKGROUND: Current guidelines for returning h...</td>\n",
       "      <td>2020-05-30</td>\n",
       "      <td>https://www.sciencedirect.com/science/article/...</td>\n",
       "      <td>Gombar, Saurabh; Chang, Marcello; Hogan, Cathe...</td>\n",
       "      <td>[BACKGROUND, Current, guidelines, for, returni...</td>\n",
       "    </tr>\n",
       "    <tr>\n",
       "      <th>150577</th>\n",
       "      <td>A Comparison Between Chinese Children Infected...</td>\n",
       "      <td>OBJECTIVES: To compare the clinical and labora...</td>\n",
       "      <td>2020-06-18</td>\n",
       "      <td>https://www.ncbi.nlm.nih.gov/pubmed/32565097/;...</td>\n",
       "      <td>Xiong, Xiaoli; Chua, Gilbert T.; Chi, Shuiqing...</td>\n",
       "      <td>[OBJECTIVES, To, compare, the, clinical, and, ...</td>\n",
       "    </tr>\n",
       "    <tr>\n",
       "      <th>152883</th>\n",
       "      <td>Evaluation and Comparison of the Pathogenicity...</td>\n",
       "      <td>A genogroup 2b (G2b) porcine epidemic diarrhea...</td>\n",
       "      <td>2017-05-19</td>\n",
       "      <td>https://doi.org/10.3390/v9050121; https://www....</td>\n",
       "      <td>Chang, Yen-Chen; Kao, Chi-Fei; Chang, Chia-Yu;...</td>\n",
       "      <td>[A, genogroup, 2b, G2b, porcine, epidemic, dia...</td>\n",
       "    </tr>\n",
       "  </tbody>\n",
       "</table>\n",
       "</div>"
      ],
      "text/plain": [
       "                                                    title  \\\n",
       "51549   Pathogenesis of porcine epidemic diarrhea viru...   \n",
       "66800   The Outcome Impact of Early vs Late HFNC Oxyge...   \n",
       "67664   Core warming of coronavirus disease 2019 (COVI...   \n",
       "129774  Longitudinal study of age-specific pattern of ...   \n",
       "138102  Factors associated with duration of viral shed...   \n",
       "138291  A preliminary evaluation on the efficacy of oz...   \n",
       "140231  Display of Porcine Epidemic Diarrhea Virus Spi...   \n",
       "149574  Persistent detection of SARS-CoV-2 RNA in pati...   \n",
       "150577  A Comparison Between Chinese Children Infected...   \n",
       "152883  Evaluation and Comparison of the Pathogenicity...   \n",
       "\n",
       "                                                 abstract publish_time  \\\n",
       "51549   Porcine epidemic diarrhea virus (PEDV) is asso...         2014   \n",
       "66800   Coronavirus disease-2019 (COVID-19) has rapidl...   2020-05-26   \n",
       "67664   Background: Coronavirus disease 2019 (COVID-19...   2020-04-06   \n",
       "129774  BACKGROUND: Bats are natural reservoirs for se...   2018-02-20   \n",
       "138102  Abstract Objectives To investigate factors ass...   2020-05-17   \n",
       "138291  Currently, coronavirus disease 2019 (COVID‐19)...   2020-05-21   \n",
       "140231  A new variant of the porcine epidemic diarrhea...   2018-06-27   \n",
       "149574  BACKGROUND: Current guidelines for returning h...   2020-05-30   \n",
       "150577  OBJECTIVES: To compare the clinical and labora...   2020-06-18   \n",
       "152883  A genogroup 2b (G2b) porcine epidemic diarrhea...   2017-05-19   \n",
       "\n",
       "                                                      url  \\\n",
       "51549   https://doi.org/10.1016/j.vetmic.2014.09.002; ...   \n",
       "66800   http://medrxiv.org/cgi/content/short/2020.05.2...   \n",
       "67664   http://medrxiv.org/cgi/content/short/2020.04.0...   \n",
       "129774  https://doi.org/10.1186/s12985-018-0950-6; htt...   \n",
       "138102  https://doi.org/10.1016/j.ijid.2020.05.045; ht...   \n",
       "138291  https://www.ncbi.nlm.nih.gov/pubmed/32437014/;...   \n",
       "140231  https://doi.org/10.3390/v10070346; https://www...   \n",
       "149574  https://www.sciencedirect.com/science/article/...   \n",
       "150577  https://www.ncbi.nlm.nih.gov/pubmed/32565097/;...   \n",
       "152883  https://doi.org/10.3390/v9050121; https://www....   \n",
       "\n",
       "                                                  authors  \\\n",
       "51549   Madson, D M; Magstadt, D R; Arruda, P H E; Hoa...   \n",
       "66800   Deng, L.; Lei, S.; Jiang, F.; Lubarsky, D. A.;...   \n",
       "67664   Bonfanti, N.; Gundert, E.; Goff, K.; Drewry, A...   \n",
       "129774  Wacharapluesadee, Supaporn; Duengkae, Prateep;...   \n",
       "138102  Qi, Lin; Yang, Yong; Jiang, Dixuan; Tu, Chao; ...   \n",
       "138291              Zheng, Zhishui; Dong, Minglin; Hu, Ke   \n",
       "140231  Chang, Chia-Yu; Hsu, Wei-Ting; Chao, Yu-Chan; ...   \n",
       "149574  Gombar, Saurabh; Chang, Marcello; Hogan, Cathe...   \n",
       "150577  Xiong, Xiaoli; Chua, Gilbert T.; Chi, Shuiqing...   \n",
       "152883  Chang, Yen-Chen; Kao, Chi-Fei; Chang, Chia-Yu;...   \n",
       "\n",
       "                                                    words  \n",
       "51549   [Porcine, epidemic, diarrhea, virus, PEDV, is,...  \n",
       "66800   [Coronavirus, disease, 2019, COVID, 19, has, r...  \n",
       "67664   [Background, Coronavirus, disease, 2019, COVID...  \n",
       "129774  [BACKGROUND, Bats, are, natural, reservoirs, f...  \n",
       "138102  [Abstract, Objectives, To, investigate, factor...  \n",
       "138291  [Currently, coronavirus, disease, 2019, COVID,...  \n",
       "140231  [A, new, variant, of, the, porcine, epidemic, ...  \n",
       "149574  [BACKGROUND, Current, guidelines, for, returni...  \n",
       "150577  [OBJECTIVES, To, compare, the, clinical, and, ...  \n",
       "152883  [A, genogroup, 2b, G2b, porcine, epidemic, dia...  "
      ]
     },
     "execution_count": 46,
     "metadata": {},
     "output_type": "execute_result"
    }
   ],
   "source": [
    "#Articles that we have\n",
    "Q2.head(10)"
   ]
  },
  {
   "cell_type": "markdown",
   "metadata": {},
   "source": [
    "Online Search"
   ]
  },
  {
   "cell_type": "code",
   "execution_count": 48,
   "metadata": {},
   "outputs": [
    {
     "name": "stdout",
     "output_type": "stream",
     "text": [
      "https://en.wikipedia.org/wiki/Coronavirus_disease_2019\n",
      "https://www.medscape.com/answers/2500114-197467/what-is-the-duration-of-viral-shedding-in-persons-with-coronavirus-disease-2019-covid-19\n",
      "https://www.cdc.gov/coronavirus/2019-ncov/hcp/faq.html\n",
      "https://academic.oup.com/cid/article/doi/10.1093/cid/ciaa451/5821307\n",
      "https://academic.oup.com/cid/article/doi/10.1093/cid/ciaa451/5821307#204412509\n",
      "https://academic.oup.com/cid/article/doi/10.1093/cid/ciaa451/5821307#204412512\n",
      "https://academic.oup.com/cid/article/doi/10.1093/cid/ciaa451/5821307#204412516\n",
      "https://academic.oup.com/cid/article/doi/10.1093/cid/ciaa451/5821307#204412522\n",
      "https://www.nature.com/articles/s41591-020-0869-5\n",
      "https://www.cidrap.umn.edu/news-perspective/2020/05/evidence-prolonged-covid-19-virus-shedding-noted-china\n",
      "https://www.ijidonline.com/article/S1201-9712(20)30352-0/fulltext\n",
      "https://www.who.int/news-room/commentaries/detail/criteria-for-releasing-covid-19-patients-from-isolation\n",
      "http://www.ecdc.europa.eu/sites/default/files/documents/COVID-19-Discharge-criteria.pdf\n",
      "https://www.ncbi.nlm.nih.gov/pmc/articles/PMC7289725/\n",
      "https://www.hopkinsguides.com/hopkins/view/Johns_Hopkins_ABX_Guide/540747/all/Coronavirus_COVID_19__SARS_CoV_2_\n",
      "https://www.medrxiv.org/content/10.1101/2020.06.08.20125310v1\n",
      "https://www.aaojournal.org/article/S0161-6420(20)30311-0/pdf\n",
      "https://www.news-medical.net/news/20200515/Viral-shedding-among-pre-symptomatic-COVID-19-patients-finds-study.aspx\n",
      "https://journals.lww.com/pidj/fulltext/2020/07000/symptomatic_infection_is_associated_with_prolonged.3.aspx\n",
      "https://www.statnews.com/2020/03/09/people-shed-high-levels-of-coronavirus-study-finds-but-most-are-likely-not-infectious-after-recovery-begins/\n"
     ]
    }
   ],
   "source": [
    "try: \n",
    "    from googlesearch import search \n",
    "except ImportError:  \n",
    "    print(\"Error/Not found\") \n",
    "### Browsing the sourses using different search terms: \n",
    "search2_1 = \"Length of viral shedding corona\"\n",
    "\n",
    "\n",
    "##limit to the first 10 relevant links:\n",
    "for a in search(search2_1, tld=\"co.in\", num=20, stop=20, pause=2): \n",
    "    print(a)"
   ]
  },
  {
   "cell_type": "markdown",
   "metadata": {},
   "source": [
    "# 3/ Incubation period across different age groups"
   ]
  },
  {
   "cell_type": "code",
   "execution_count": 52,
   "metadata": {},
   "outputs": [],
   "source": [
    "#Create different sets with specialized terms  from our questions \n",
    "Q3_a = tablesAbstract[tablesAbstract['abstract'].str.contains('incubation period')]\n",
    "Q3_b = Q3_a[Q3_a['abstract'].str.contains('age', 'corona')]"
   ]
  },
  {
   "cell_type": "code",
   "execution_count": 54,
   "metadata": {},
   "outputs": [
    {
     "data": {
      "text/plain": [
       "(280, 6)"
      ]
     },
     "execution_count": 54,
     "metadata": {},
     "output_type": "execute_result"
    }
   ],
   "source": [
    "#Concatenitng the dataframes into one table per question and dropping null value \n",
    "Q3 = pd.concat([Q3_b])\n",
    "Q3.dropna(inplace=True)\n",
    "Q3.shape"
   ]
  },
  {
   "cell_type": "code",
   "execution_count": 55,
   "metadata": {},
   "outputs": [
    {
     "data": {
      "text/html": [
       "<div>\n",
       "<style scoped>\n",
       "    .dataframe tbody tr th:only-of-type {\n",
       "        vertical-align: middle;\n",
       "    }\n",
       "\n",
       "    .dataframe tbody tr th {\n",
       "        vertical-align: top;\n",
       "    }\n",
       "\n",
       "    .dataframe thead th {\n",
       "        text-align: right;\n",
       "    }\n",
       "</style>\n",
       "<table border=\"1\" class=\"dataframe\">\n",
       "  <thead>\n",
       "    <tr style=\"text-align: right;\">\n",
       "      <th></th>\n",
       "      <th>title</th>\n",
       "      <th>abstract</th>\n",
       "      <th>publish_time</th>\n",
       "      <th>url</th>\n",
       "      <th>authors</th>\n",
       "      <th>words</th>\n",
       "    </tr>\n",
       "  </thead>\n",
       "  <tbody>\n",
       "    <tr>\n",
       "      <th>1320</th>\n",
       "      <td>Investigation of serum protein profiles in scr...</td>\n",
       "      <td>BACKGROUND: Classical scrapie in sheep is a fa...</td>\n",
       "      <td>2013-11-14</td>\n",
       "      <td>https://www.ncbi.nlm.nih.gov/pmc/articles/PMC3...</td>\n",
       "      <td>Meling, Siv; Kvalheim, Olav M; Arneberg, Reida...</td>\n",
       "      <td>[BACKGROUND, Classical, scrapie, in, sheep, is...</td>\n",
       "    </tr>\n",
       "    <tr>\n",
       "      <th>2175</th>\n",
       "      <td>Understanding Spatio-Temporal Variability in t...</td>\n",
       "      <td>Andalusia (Southern Spain) is considered one o...</td>\n",
       "      <td>2016-03-10</td>\n",
       "      <td>https://www.ncbi.nlm.nih.gov/pmc/articles/PMC4...</td>\n",
       "      <td>Napp, S.; Allepuz, A.; Purse, B. V.; Casal, J....</td>\n",
       "      <td>[Andalusia, Southern, Spain, is, considered, o...</td>\n",
       "    </tr>\n",
       "    <tr>\n",
       "      <th>2516</th>\n",
       "      <td>The Epidemiology of Hand, Foot and Mouth Disea...</td>\n",
       "      <td>CONTEXT: Hand, foot and mouth disease (HFMD) i...</td>\n",
       "      <td>2016-06-03</td>\n",
       "      <td>https://www.ncbi.nlm.nih.gov/pmc/articles/PMC5...</td>\n",
       "      <td>Koh, Wee Ming; Bogich, Tiffany; Siegel, Karen;...</td>\n",
       "      <td>[CONTEXT, Hand, foot, and, mouth, disease, HFM...</td>\n",
       "    </tr>\n",
       "    <tr>\n",
       "      <th>2819</th>\n",
       "      <td>New hydrazonoindolin-2-ones: Synthesis, explor...</td>\n",
       "      <td>The synthesis and molecular characterization o...</td>\n",
       "      <td>2017-07-25</td>\n",
       "      <td>https://www.ncbi.nlm.nih.gov/pmc/articles/PMC5...</td>\n",
       "      <td>Attia, Mohamed I.; Eldehna, Wagdy M.; Afifi, S...</td>\n",
       "      <td>[The, synthesis, and, molecular, characterizat...</td>\n",
       "    </tr>\n",
       "    <tr>\n",
       "      <th>3101</th>\n",
       "      <td>The temporal distribution of new H7N9 avian in...</td>\n",
       "      <td>In this study, estimates of the growth rate of...</td>\n",
       "      <td>2018-03-06</td>\n",
       "      <td>https://www.ncbi.nlm.nih.gov/pmc/articles/PMC5...</td>\n",
       "      <td>Guo, Zuiyuan; Xiao, Dan; Li, Dongli; Wang, Yay...</td>\n",
       "      <td>[In, this, study, estimates, of, the, growth, ...</td>\n",
       "    </tr>\n",
       "  </tbody>\n",
       "</table>\n",
       "</div>"
      ],
      "text/plain": [
       "                                                  title  \\\n",
       "1320  Investigation of serum protein profiles in scr...   \n",
       "2175  Understanding Spatio-Temporal Variability in t...   \n",
       "2516  The Epidemiology of Hand, Foot and Mouth Disea...   \n",
       "2819  New hydrazonoindolin-2-ones: Synthesis, explor...   \n",
       "3101  The temporal distribution of new H7N9 avian in...   \n",
       "\n",
       "                                               abstract publish_time  \\\n",
       "1320  BACKGROUND: Classical scrapie in sheep is a fa...   2013-11-14   \n",
       "2175  Andalusia (Southern Spain) is considered one o...   2016-03-10   \n",
       "2516  CONTEXT: Hand, foot and mouth disease (HFMD) i...   2016-06-03   \n",
       "2819  The synthesis and molecular characterization o...   2017-07-25   \n",
       "3101  In this study, estimates of the growth rate of...   2018-03-06   \n",
       "\n",
       "                                                    url  \\\n",
       "1320  https://www.ncbi.nlm.nih.gov/pmc/articles/PMC3...   \n",
       "2175  https://www.ncbi.nlm.nih.gov/pmc/articles/PMC4...   \n",
       "2516  https://www.ncbi.nlm.nih.gov/pmc/articles/PMC5...   \n",
       "2819  https://www.ncbi.nlm.nih.gov/pmc/articles/PMC5...   \n",
       "3101  https://www.ncbi.nlm.nih.gov/pmc/articles/PMC5...   \n",
       "\n",
       "                                                authors  \\\n",
       "1320  Meling, Siv; Kvalheim, Olav M; Arneberg, Reida...   \n",
       "2175  Napp, S.; Allepuz, A.; Purse, B. V.; Casal, J....   \n",
       "2516  Koh, Wee Ming; Bogich, Tiffany; Siegel, Karen;...   \n",
       "2819  Attia, Mohamed I.; Eldehna, Wagdy M.; Afifi, S...   \n",
       "3101  Guo, Zuiyuan; Xiao, Dan; Li, Dongli; Wang, Yay...   \n",
       "\n",
       "                                                  words  \n",
       "1320  [BACKGROUND, Classical, scrapie, in, sheep, is...  \n",
       "2175  [Andalusia, Southern, Spain, is, considered, o...  \n",
       "2516  [CONTEXT, Hand, foot, and, mouth, disease, HFM...  \n",
       "2819  [The, synthesis, and, molecular, characterizat...  \n",
       "3101  [In, this, study, estimates, of, the, growth, ...  "
      ]
     },
     "execution_count": 55,
     "metadata": {},
     "output_type": "execute_result"
    }
   ],
   "source": [
    "#Articles that we have\n",
    "Q3.head(5)"
   ]
  },
  {
   "cell_type": "markdown",
   "metadata": {},
   "source": [
    "Online Search"
   ]
  },
  {
   "cell_type": "code",
   "execution_count": 57,
   "metadata": {},
   "outputs": [
    {
     "name": "stdout",
     "output_type": "stream",
     "text": [
      "https://www.ncbi.nlm.nih.gov/pmc/articles/PMC7280705/\n",
      "https://www.ncbi.nlm.nih.gov/pmc/articles/PMC7280705/#agm212114-sec-0005title\n",
      "https://www.ncbi.nlm.nih.gov/pmc/articles/PMC7280705/#agm212114-sec-0006title\n",
      "https://www.ncbi.nlm.nih.gov/pmc/articles/PMC7280705/#agm212114-sec-0010title\n",
      "https://www.ncbi.nlm.nih.gov/pmc/articles/PMC7280705/#agm212114-sec-0011title\n",
      "https://www.ncbi.nlm.nih.gov/pmc/articles/PMC7014672/\n",
      "https://www.ncbi.nlm.nih.gov/pmc/articles/PMC7014672/#idm139990794530880title\n",
      "https://www.ncbi.nlm.nih.gov/pmc/articles/PMC7014672/#__sec2title\n",
      "https://www.ncbi.nlm.nih.gov/pmc/articles/PMC7014672/#__sec3title\n",
      "https://www.ncbi.nlm.nih.gov/pmc/articles/PMC7014672/#__sec4title\n",
      "https://onlinelibrary.wiley.com/doi/pdf/10.1002/agm2.12114\n",
      "https://onlinelibrary.wiley.com/doi/abs/10.1002/agm2.12114\n",
      "https://www.medrxiv.org/content/10.1101/2020.04.14.20065896v1\n",
      "https://www.medrxiv.org/content/10.1101/2020.05.20.20108340v1.full.pdf\n",
      "https://www.who.int/news-room/commentaries/detail/transmission-of-sars-cov-2-implications-for-infection-prevention-precautions\n",
      "https://www.cdc.gov/coronavirus/2019-ncov/faq.html\n",
      "https://www.cdc.gov/coronavirus/2019-ncov/hcp/clinical-guidance-management-patients.html\n",
      "https://www.worldometers.info/coronavirus/coronavirus-incubation-period/\n",
      "https://jidc.org/index.php/journal/article/download/32379707/2227/\n",
      "https://www.acpjournals.org/doi/10.7326/M20-0504\n"
     ]
    }
   ],
   "source": [
    "try: \n",
    "    from googlesearch import search \n",
    "except ImportError:  \n",
    "    print(\"Error/Not found\") \n",
    "### Browsing the sourses using different search terms: \n",
    "search3_1 = \"corona Incubation period different age groups\"\n",
    "\n",
    "\n",
    "##limit to the first 10 relevant links:\n",
    "for a in search(search3_1, tld=\"co.in\", num=20, stop=20, pause=2): \n",
    "    print(a)"
   ]
  },
  {
   "cell_type": "markdown",
   "metadata": {},
   "source": [
    "# 4/ Proportion of patients who were asymptomatic\n"
   ]
  },
  {
   "cell_type": "code",
   "execution_count": 72,
   "metadata": {},
   "outputs": [],
   "source": [
    "#Create different sets with specialized terms  from our questions \n",
    "Q4_a = tablesAbstract[tablesAbstract['abstract'].str.contains('asymptomatic patients', )]\n"
   ]
  },
  {
   "cell_type": "code",
   "execution_count": 73,
   "metadata": {},
   "outputs": [
    {
     "data": {
      "text/plain": [
       "(179, 6)"
      ]
     },
     "execution_count": 73,
     "metadata": {},
     "output_type": "execute_result"
    }
   ],
   "source": [
    "#Concatenitng the dataframes into one table per question and dropping null value \n",
    "Q4 = pd.concat([Q4_a])\n",
    "Q4.dropna(inplace=True)\n",
    "Q4.shape"
   ]
  },
  {
   "cell_type": "code",
   "execution_count": 69,
   "metadata": {
    "scrolled": false
   },
   "outputs": [
    {
     "data": {
      "text/html": [
       "<div>\n",
       "<style scoped>\n",
       "    .dataframe tbody tr th:only-of-type {\n",
       "        vertical-align: middle;\n",
       "    }\n",
       "\n",
       "    .dataframe tbody tr th {\n",
       "        vertical-align: top;\n",
       "    }\n",
       "\n",
       "    .dataframe thead th {\n",
       "        text-align: right;\n",
       "    }\n",
       "</style>\n",
       "<table border=\"1\" class=\"dataframe\">\n",
       "  <thead>\n",
       "    <tr style=\"text-align: right;\">\n",
       "      <th></th>\n",
       "      <th>title</th>\n",
       "      <th>abstract</th>\n",
       "      <th>publish_time</th>\n",
       "      <th>url</th>\n",
       "      <th>authors</th>\n",
       "      <th>words</th>\n",
       "    </tr>\n",
       "  </thead>\n",
       "  <tbody>\n",
       "    <tr>\n",
       "      <th>1855</th>\n",
       "      <td>Ebola Risk Perception in Germany, 2014</td>\n",
       "      <td>Ebola virus disease (EVD) outbreaks have occur...</td>\n",
       "      <td>2015-06-28</td>\n",
       "      <td>https://www.ncbi.nlm.nih.gov/pmc/articles/PMC4...</td>\n",
       "      <td>Rübsamen, Nicole; Castell, Stefanie; Horn, Joh...</td>\n",
       "      <td>[Ebola, virus, disease, EVD, outbreaks, have, ...</td>\n",
       "    </tr>\n",
       "    <tr>\n",
       "      <th>3181</th>\n",
       "      <td>Respiratory syncytial virus evaluation among a...</td>\n",
       "      <td>BACKGROUND: The respiratory syncytial virus (R...</td>\n",
       "      <td>2018-02-04</td>\n",
       "      <td>https://www.ncbi.nlm.nih.gov/pmc/articles/PMC5...</td>\n",
       "      <td>Moreira, Luciana Peniche; Watanabe, Aripuana S...</td>\n",
       "      <td>[BACKGROUND, The, respiratory, syncytial, viru...</td>\n",
       "    </tr>\n",
       "    <tr>\n",
       "      <th>4078</th>\n",
       "      <td>Clinical correlation of influenza and respirat...</td>\n",
       "      <td>Acute respiratory tract infections are a major...</td>\n",
       "      <td>2019-09-03</td>\n",
       "      <td>https://www.ncbi.nlm.nih.gov/pmc/articles/PMC6...</td>\n",
       "      <td>Hijano, Diego R.; Brazelton de Cardenas, Jessi...</td>\n",
       "      <td>[Acute, respiratory, tract, infections, are, a...</td>\n",
       "    </tr>\n",
       "    <tr>\n",
       "      <th>4499</th>\n",
       "      <td>Sexual forms obtained in a continuous in vitro...</td>\n",
       "      <td>BACKGROUND: The epidemiological control of mal...</td>\n",
       "      <td>2020-02-03</td>\n",
       "      <td>https://www.ncbi.nlm.nih.gov/pmc/articles/PMC6...</td>\n",
       "      <td>Ararat-Sarria, Monica; Prado, Cesar Camilo; Ca...</td>\n",
       "      <td>[BACKGROUND, The, epidemiological, control, of...</td>\n",
       "    </tr>\n",
       "    <tr>\n",
       "      <th>6066</th>\n",
       "      <td>Antiphospholipidantikörpersyndrom</td>\n",
       "      <td>□ BACKGROUND: Antiphospholipid antibodies comp...</td>\n",
       "      <td>1999</td>\n",
       "      <td>https://www.ncbi.nlm.nih.gov/pmc/articles/PMC7...</td>\n",
       "      <td>Schmidt, Rüdiger; Scheuermann, Ernst-Heinrich;...</td>\n",
       "      <td>[, BACKGROUND, Antiphospholipid, antibodies, c...</td>\n",
       "    </tr>\n",
       "  </tbody>\n",
       "</table>\n",
       "</div>"
      ],
      "text/plain": [
       "                                                  title  \\\n",
       "1855             Ebola Risk Perception in Germany, 2014   \n",
       "3181  Respiratory syncytial virus evaluation among a...   \n",
       "4078  Clinical correlation of influenza and respirat...   \n",
       "4499  Sexual forms obtained in a continuous in vitro...   \n",
       "6066                  Antiphospholipidantikörpersyndrom   \n",
       "\n",
       "                                               abstract publish_time  \\\n",
       "1855  Ebola virus disease (EVD) outbreaks have occur...   2015-06-28   \n",
       "3181  BACKGROUND: The respiratory syncytial virus (R...   2018-02-04   \n",
       "4078  Acute respiratory tract infections are a major...   2019-09-03   \n",
       "4499  BACKGROUND: The epidemiological control of mal...   2020-02-03   \n",
       "6066  □ BACKGROUND: Antiphospholipid antibodies comp...         1999   \n",
       "\n",
       "                                                    url  \\\n",
       "1855  https://www.ncbi.nlm.nih.gov/pmc/articles/PMC4...   \n",
       "3181  https://www.ncbi.nlm.nih.gov/pmc/articles/PMC5...   \n",
       "4078  https://www.ncbi.nlm.nih.gov/pmc/articles/PMC6...   \n",
       "4499  https://www.ncbi.nlm.nih.gov/pmc/articles/PMC6...   \n",
       "6066  https://www.ncbi.nlm.nih.gov/pmc/articles/PMC7...   \n",
       "\n",
       "                                                authors  \\\n",
       "1855  Rübsamen, Nicole; Castell, Stefanie; Horn, Joh...   \n",
       "3181  Moreira, Luciana Peniche; Watanabe, Aripuana S...   \n",
       "4078  Hijano, Diego R.; Brazelton de Cardenas, Jessi...   \n",
       "4499  Ararat-Sarria, Monica; Prado, Cesar Camilo; Ca...   \n",
       "6066  Schmidt, Rüdiger; Scheuermann, Ernst-Heinrich;...   \n",
       "\n",
       "                                                  words  \n",
       "1855  [Ebola, virus, disease, EVD, outbreaks, have, ...  \n",
       "3181  [BACKGROUND, The, respiratory, syncytial, viru...  \n",
       "4078  [Acute, respiratory, tract, infections, are, a...  \n",
       "4499  [BACKGROUND, The, epidemiological, control, of...  \n",
       "6066  [, BACKGROUND, Antiphospholipid, antibodies, c...  "
      ]
     },
     "execution_count": 69,
     "metadata": {},
     "output_type": "execute_result"
    }
   ],
   "source": [
    "#Articles that we have\n",
    "Q4.head(5)"
   ]
  },
  {
   "cell_type": "markdown",
   "metadata": {},
   "source": [
    "Online Search"
   ]
  },
  {
   "cell_type": "code",
   "execution_count": 75,
   "metadata": {
    "scrolled": true
   },
   "outputs": [
    {
     "name": "stdout",
     "output_type": "stream",
     "text": [
      "http://med.stanford.edu/content/dam/sm/id/documents/COVID/AsymptCOVID_TransmissionShip.pdf\n",
      "https://www.cebm.net/covid-19/covid-19-what-proportion-are-asymptomatic/\n",
      "http://www.advisory.com/daily-briefing/2020/06/01/asymptomatic-patients\n",
      "https://globalbiodefense.com/2020/06/30/whole-town-study-reveals-large-percentage-of-asymptomatic-covid-19-cases/\n",
      "https://www.cdc.gov/coronavirus/2019-ncov/hcp/planning-scenarios.html\n",
      "https://www.cdc.gov/coronavirus/2019-ncov/hcp/clinical-guidance-management-patients.html\n",
      "https://www.washingtonpost.com/outlook/2020/04/20/we-tested-all-our-patients-covid-19-found-lots-asymptomatic-cases/\n",
      "https://www.sciencedaily.com/releases/2020/06/200612172208.htm\n",
      "https://www.healthline.com/health-news/50-percent-of-people-with-covid19-not-aware-have-virus\n",
      "https://jamanetwork.com/journals/jamanetworkopen/fullarticle/2766237\n",
      "https://www.thecut.com/article/coronavirus-asymptomatic-carriers.html\n",
      "https://www.statnews.com/2020/06/09/who-comments-asymptomatic-spread-covid-19/\n",
      "https://www.who.int/docs/default-source/coronaviruse/situation-reports/20200306-sitrep-46-covid-19.pdf?sfvrsn=96b04adf_4\n",
      "https://www.who.int/news-room/commentaries/detail/transmission-of-sars-cov-2-implications-for-infection-prevention-precautions\n",
      "https://www.sciencealert.com/can-people-spread-the-coronavirus-if-they-don-t-have-symptoms\n",
      "https://www.ijidonline.com/article/S1201-9712(20)30487-2/pdf\n",
      "https://www.fox8live.com/2020/07/02/covid-study-shows-infectious-people-were-asymptomatic/\n",
      "https://www.nature.com/articles/s41591-020-0965-6\n",
      "https://www.cidrap.umn.edu/news-perspective/2020/04/study-many-asymptomatic-covid-19-cases-undetected\n",
      "https://www.nbcnews.com/health/health-news/asymptomatic-covid-19-cases-may-be-more-common-suspected-n1215481\n"
     ]
    }
   ],
   "source": [
    "try: \n",
    "    from googlesearch import search \n",
    "except ImportError:  \n",
    "    print(\"Error/Not found\") \n",
    "### Browsing the sourses using different search terms: \n",
    "search4_1 = \"corona Proportion of patients who were asymptomatic\"\n",
    "\n",
    "\n",
    "\n",
    "##limit to the first 10 relevant links:\n",
    "for a in search(search4_1, tld=\"co.in\", num=20, stop=20, pause=2): \n",
    "    print(a)"
   ]
  },
  {
   "cell_type": "code",
   "execution_count": null,
   "metadata": {},
   "outputs": [],
   "source": [
    "\n"
   ]
  },
  {
   "cell_type": "markdown",
   "metadata": {},
   "source": [
    "# 6/ Pediatric patients who were asymptomatic\n"
   ]
  },
  {
   "cell_type": "code",
   "execution_count": 80,
   "metadata": {},
   "outputs": [],
   "source": [
    "#Create different sets with specialized terms  from our questions \n",
    "Q6_a = tablesAbstract[tablesAbstract['abstract'].str.contains('asymptomatic patients' )]\n",
    "Q6_b = Q6_a[Q6_a['abstract'].str.contains('pediatric')]"
   ]
  },
  {
   "cell_type": "code",
   "execution_count": 81,
   "metadata": {},
   "outputs": [
    {
     "data": {
      "text/plain": [
       "(12, 6)"
      ]
     },
     "execution_count": 81,
     "metadata": {},
     "output_type": "execute_result"
    }
   ],
   "source": [
    "#Concatenitng the dataframes into one table per question and dropping null value \n",
    "Q6 = pd.concat([Q6_b])\n",
    "Q6.dropna(inplace=True)\n",
    "Q6.shape"
   ]
  },
  {
   "cell_type": "code",
   "execution_count": 82,
   "metadata": {
    "scrolled": true
   },
   "outputs": [
    {
     "data": {
      "text/html": [
       "<div>\n",
       "<style scoped>\n",
       "    .dataframe tbody tr th:only-of-type {\n",
       "        vertical-align: middle;\n",
       "    }\n",
       "\n",
       "    .dataframe tbody tr th {\n",
       "        vertical-align: top;\n",
       "    }\n",
       "\n",
       "    .dataframe thead th {\n",
       "        text-align: right;\n",
       "    }\n",
       "</style>\n",
       "<table border=\"1\" class=\"dataframe\">\n",
       "  <thead>\n",
       "    <tr style=\"text-align: right;\">\n",
       "      <th></th>\n",
       "      <th>title</th>\n",
       "      <th>abstract</th>\n",
       "      <th>publish_time</th>\n",
       "      <th>url</th>\n",
       "      <th>authors</th>\n",
       "      <th>words</th>\n",
       "    </tr>\n",
       "  </thead>\n",
       "  <tbody>\n",
       "    <tr>\n",
       "      <th>4078</th>\n",
       "      <td>Clinical correlation of influenza and respirat...</td>\n",
       "      <td>Acute respiratory tract infections are a major...</td>\n",
       "      <td>2019-09-03</td>\n",
       "      <td>https://www.ncbi.nlm.nih.gov/pmc/articles/PMC6...</td>\n",
       "      <td>Hijano, Diego R.; Brazelton de Cardenas, Jessi...</td>\n",
       "      <td>[Acute, respiratory, tract, infections, are, a...</td>\n",
       "    </tr>\n",
       "    <tr>\n",
       "      <th>38568</th>\n",
       "      <td>Severe Acute Respiratory Syndrome Coronavirus ...</td>\n",
       "      <td>Importance The current rapid worldwide spread ...</td>\n",
       "      <td>2020-04-22</td>\n",
       "      <td>https://doi.org/10.1001/jamapediatrics.2020.14...</td>\n",
       "      <td>Castagnoli, Riccardo; Votto, Martina; Licari, ...</td>\n",
       "      <td>[Importance, The, current, rapid, worldwide, s...</td>\n",
       "    </tr>\n",
       "    <tr>\n",
       "      <th>39245</th>\n",
       "      <td>Esophageal Inlet Patch: An Under-Recognized Ca...</td>\n",
       "      <td>OBJECTIVES To determine the incidence of inlet...</td>\n",
       "      <td>2016</td>\n",
       "      <td>https://doi.org/10.1016/j.jpeds.2016.05.059; h...</td>\n",
       "      <td>Di Nardo, Giovanni; Cremon, Cesare; Bertelli, ...</td>\n",
       "      <td>[OBJECTIVES, To, determine, the, incidence, of...</td>\n",
       "    </tr>\n",
       "    <tr>\n",
       "      <th>62845</th>\n",
       "      <td>Systemic Immunosuppressive Therapy for Inflamm...</td>\n",
       "      <td>BACKGROUND/OBJECTIVES The COVID-19 pandemic ha...</td>\n",
       "      <td>2020-04-22</td>\n",
       "      <td>https://doi.org/10.1111/pde.14202; https://www...</td>\n",
       "      <td>Reynolds, Sean D; Mathur, Anubhav N; Chiu, Yvo...</td>\n",
       "      <td>[BACKGROUND, OBJECTIVES, The, COVID, 19, pande...</td>\n",
       "    </tr>\n",
       "    <tr>\n",
       "      <th>82493</th>\n",
       "      <td>Laparoscopic management for prenatally diagnos...</td>\n",
       "      <td>PURPOSE The aim of this study was to validate ...</td>\n",
       "      <td>2016</td>\n",
       "      <td>https://www.ncbi.nlm.nih.gov/pubmed/26935547/</td>\n",
       "      <td>Matsumoto, Mariko; Urushihara, Naoto; Fukumoto...</td>\n",
       "      <td>[PURPOSE, The, aim, of, this, study, was, to, ...</td>\n",
       "    </tr>\n",
       "  </tbody>\n",
       "</table>\n",
       "</div>"
      ],
      "text/plain": [
       "                                                   title  \\\n",
       "4078   Clinical correlation of influenza and respirat...   \n",
       "38568  Severe Acute Respiratory Syndrome Coronavirus ...   \n",
       "39245  Esophageal Inlet Patch: An Under-Recognized Ca...   \n",
       "62845  Systemic Immunosuppressive Therapy for Inflamm...   \n",
       "82493  Laparoscopic management for prenatally diagnos...   \n",
       "\n",
       "                                                abstract publish_time  \\\n",
       "4078   Acute respiratory tract infections are a major...   2019-09-03   \n",
       "38568  Importance The current rapid worldwide spread ...   2020-04-22   \n",
       "39245  OBJECTIVES To determine the incidence of inlet...         2016   \n",
       "62845  BACKGROUND/OBJECTIVES The COVID-19 pandemic ha...   2020-04-22   \n",
       "82493  PURPOSE The aim of this study was to validate ...         2016   \n",
       "\n",
       "                                                     url  \\\n",
       "4078   https://www.ncbi.nlm.nih.gov/pmc/articles/PMC6...   \n",
       "38568  https://doi.org/10.1001/jamapediatrics.2020.14...   \n",
       "39245  https://doi.org/10.1016/j.jpeds.2016.05.059; h...   \n",
       "62845  https://doi.org/10.1111/pde.14202; https://www...   \n",
       "82493      https://www.ncbi.nlm.nih.gov/pubmed/26935547/   \n",
       "\n",
       "                                                 authors  \\\n",
       "4078   Hijano, Diego R.; Brazelton de Cardenas, Jessi...   \n",
       "38568  Castagnoli, Riccardo; Votto, Martina; Licari, ...   \n",
       "39245  Di Nardo, Giovanni; Cremon, Cesare; Bertelli, ...   \n",
       "62845  Reynolds, Sean D; Mathur, Anubhav N; Chiu, Yvo...   \n",
       "82493  Matsumoto, Mariko; Urushihara, Naoto; Fukumoto...   \n",
       "\n",
       "                                                   words  \n",
       "4078   [Acute, respiratory, tract, infections, are, a...  \n",
       "38568  [Importance, The, current, rapid, worldwide, s...  \n",
       "39245  [OBJECTIVES, To, determine, the, incidence, of...  \n",
       "62845  [BACKGROUND, OBJECTIVES, The, COVID, 19, pande...  \n",
       "82493  [PURPOSE, The, aim, of, this, study, was, to, ...  "
      ]
     },
     "execution_count": 82,
     "metadata": {},
     "output_type": "execute_result"
    }
   ],
   "source": [
    "#Articles that we have\n",
    "Q6.head(5)"
   ]
  },
  {
   "cell_type": "markdown",
   "metadata": {},
   "source": [
    "Online Search"
   ]
  },
  {
   "cell_type": "code",
   "execution_count": 83,
   "metadata": {
    "scrolled": false
   },
   "outputs": [
    {
     "name": "stdout",
     "output_type": "stream",
     "text": [
      "https://www.uptodate.com/contents/coronavirus-disease-2019-covid-19-clinical-manifestations-and-diagnosis-in-children\n",
      "https://www.cdc.gov/coronavirus/2019-ncov/hcp/pediatric-hcp.html\n",
      "https://www.cdc.gov/coronavirus/2019-ncov/hcp/clinical-guidance-management-patients.html\n",
      "https://www.aappublications.org/news/2020/03/16/coronavirus031620\n",
      "https://www.ncbi.nlm.nih.gov/pmc/articles/PMC7195294/\n",
      "https://www.ncbi.nlm.nih.gov/pmc/articles/PMC7195294/#abs0010title\n",
      "https://www.ncbi.nlm.nih.gov/pmc/articles/PMC7195294/#sec0010title\n",
      "https://www.ncbi.nlm.nih.gov/pmc/articles/PMC7195294/#sec0025title\n",
      "https://www.ncbi.nlm.nih.gov/pmc/articles/PMC7195294/#sec0040title\n",
      "https://www.cbsnews.com/news/coronavirus-children-pediatrician-80-percent-asymptomatic/\n",
      "https://www.thelancet.com/journals/eclinm/article/PIIS2589-5370(20)30177-2/fulltext\n",
      "https://www.thelancet.com/journals/laninf/article/PIIS1473-3099(20)30198-5/fulltext\n",
      "https://www.huffpost.com/entry/how-common-asymptomatic-spread-coronavirus-kids_l_5ee17de4c5b65a7f2d9896a5\n",
      "https://www.acpjournals.org/doi/10.7326/M20-3012\n",
      "https://www.nytimes.com/2020/05/05/health/coronavirus-children-transmission-school.html\n",
      "https://www.newswise.com/articles/universal-preoperative-covid-19-screening-improves-safety-by-identifying-otherwise-asymptomatic-pediatric-surgical-patients\n",
      "https://coronavirusexplained.ukri.org/en/article/und0008/\n",
      "https://www.nejm.org/doi/full/10.1056/NEJMc2005073\n",
      "https://www.cidrap.umn.edu/news-perspective/2020/03/childrens-covid-19-risks-unique-chinese-studies-find\n",
      "https://www.publichealthontario.ca/-/media/documents/ncov/what-we-know-children-feb-21-2020.pdf?la=en\n"
     ]
    }
   ],
   "source": [
    "try: \n",
    "    from googlesearch import search \n",
    "except ImportError:  \n",
    "    print(\"Error/Not found\") \n",
    "### Browsing the sourses using different search terms: \n",
    "search6_1 = \"corona Pediatric patients asymptomaticc\"\n",
    "\n",
    "\n",
    "\n",
    "##limit to the first 10 relevant links:\n",
    "for a in search(search6_1, tld=\"co.in\", num=20, stop=20, pause=2): \n",
    "    print(a)"
   ]
  },
  {
   "cell_type": "markdown",
   "metadata": {},
   "source": [
    "# 7/ Asymptomatic transmission during incubation\n"
   ]
  },
  {
   "cell_type": "code",
   "execution_count": 87,
   "metadata": {},
   "outputs": [],
   "source": [
    "#Create different sets with specialized terms  from our questions \n",
    "Q7_a = tablesAbstract[tablesAbstract['abstract'].str.contains('incubation ' )]\n",
    "Q7_b = Q7_a[Q7_a['abstract'].str.contains('asymptomatic transmission')]"
   ]
  },
  {
   "cell_type": "code",
   "execution_count": 88,
   "metadata": {},
   "outputs": [
    {
     "data": {
      "text/plain": [
       "(7, 6)"
      ]
     },
     "execution_count": 88,
     "metadata": {},
     "output_type": "execute_result"
    }
   ],
   "source": [
    "#Concatenitng the dataframes into one table per question and dropping null value \n",
    "Q7 = pd.concat([Q7_b])\n",
    "Q7.dropna(inplace=True)\n",
    "Q7.shape"
   ]
  },
  {
   "cell_type": "code",
   "execution_count": 89,
   "metadata": {
    "scrolled": false
   },
   "outputs": [
    {
     "data": {
      "text/html": [
       "<div>\n",
       "<style scoped>\n",
       "    .dataframe tbody tr th:only-of-type {\n",
       "        vertical-align: middle;\n",
       "    }\n",
       "\n",
       "    .dataframe tbody tr th {\n",
       "        vertical-align: top;\n",
       "    }\n",
       "\n",
       "    .dataframe thead th {\n",
       "        text-align: right;\n",
       "    }\n",
       "</style>\n",
       "<table border=\"1\" class=\"dataframe\">\n",
       "  <thead>\n",
       "    <tr style=\"text-align: right;\">\n",
       "      <th></th>\n",
       "      <th>title</th>\n",
       "      <th>abstract</th>\n",
       "      <th>publish_time</th>\n",
       "      <th>url</th>\n",
       "      <th>authors</th>\n",
       "      <th>words</th>\n",
       "    </tr>\n",
       "  </thead>\n",
       "  <tbody>\n",
       "    <tr>\n",
       "      <th>1122</th>\n",
       "      <td>The Impact of Model Building on the Transmissi...</td>\n",
       "      <td>BACKGROUND: The way we formulate a mathematica...</td>\n",
       "      <td>2013-04-12</td>\n",
       "      <td>https://www.ncbi.nlm.nih.gov/pmc/articles/PMC3...</td>\n",
       "      <td>Ejima, Keisuke; Aihara, Kazuyuki; Nishiura, Hi...</td>\n",
       "      <td>[BACKGROUND, The, way, we, formulate, a, mathe...</td>\n",
       "    </tr>\n",
       "    <tr>\n",
       "      <th>35154</th>\n",
       "      <td>What We Learned about COVID-19 So Far? Notes f...</td>\n",
       "      <td>The novel coronavirus pandemic poses a major g...</td>\n",
       "      <td>2020-05-01</td>\n",
       "      <td>https://doi.org/10.5152/turkthoracj.2020.20052...</td>\n",
       "      <td>Akyıl, Fatma Tokgöz; Karadoğan, Dilek; Gürkan,...</td>\n",
       "      <td>[The, novel, coronavirus, pandemic, poses, a, ...</td>\n",
       "    </tr>\n",
       "    <tr>\n",
       "      <th>64846</th>\n",
       "      <td>Epidemiological parameters of coronavirus dise...</td>\n",
       "      <td>Background The outbreak of coronavirus disease...</td>\n",
       "      <td>2020-03-24</td>\n",
       "      <td>https://doi.org/10.1101/2020.03.21.20040329</td>\n",
       "      <td>Ma, Shujuan; Zhang, Jiayue; Zeng, Minyan; Yun,...</td>\n",
       "      <td>[Background, The, outbreak, of, coronavirus, d...</td>\n",
       "    </tr>\n",
       "    <tr>\n",
       "      <th>65579</th>\n",
       "      <td>A systematic review and meta-analysis reveals ...</td>\n",
       "      <td>Background: The incubation period of SARS-CoV-...</td>\n",
       "      <td>2020-06-22</td>\n",
       "      <td>http://medrxiv.org/cgi/content/short/2020.06.2...</td>\n",
       "      <td>Wei, Y.; Wei, L.; Liu, Y.; Huang, L.; Shen, S....</td>\n",
       "      <td>[Background, The, incubation, period, of, SARS...</td>\n",
       "    </tr>\n",
       "    <tr>\n",
       "      <th>67515</th>\n",
       "      <td>Transmission of corona virus disease 2019 duri...</td>\n",
       "      <td>Background: The ongoing outbreak of novel coro...</td>\n",
       "      <td>2020-03-08</td>\n",
       "      <td>https://doi.org/10.1101/2020.03.06.20031955</td>\n",
       "      <td>Xia, Wei; Liao, Jiaqiang; Li, Chunhui; Li, Yua...</td>\n",
       "      <td>[Background, The, ongoing, outbreak, of, novel...</td>\n",
       "    </tr>\n",
       "  </tbody>\n",
       "</table>\n",
       "</div>"
      ],
      "text/plain": [
       "                                                   title  \\\n",
       "1122   The Impact of Model Building on the Transmissi...   \n",
       "35154  What We Learned about COVID-19 So Far? Notes f...   \n",
       "64846  Epidemiological parameters of coronavirus dise...   \n",
       "65579  A systematic review and meta-analysis reveals ...   \n",
       "67515  Transmission of corona virus disease 2019 duri...   \n",
       "\n",
       "                                                abstract publish_time  \\\n",
       "1122   BACKGROUND: The way we formulate a mathematica...   2013-04-12   \n",
       "35154  The novel coronavirus pandemic poses a major g...   2020-05-01   \n",
       "64846  Background The outbreak of coronavirus disease...   2020-03-24   \n",
       "65579  Background: The incubation period of SARS-CoV-...   2020-06-22   \n",
       "67515  Background: The ongoing outbreak of novel coro...   2020-03-08   \n",
       "\n",
       "                                                     url  \\\n",
       "1122   https://www.ncbi.nlm.nih.gov/pmc/articles/PMC3...   \n",
       "35154  https://doi.org/10.5152/turkthoracj.2020.20052...   \n",
       "64846        https://doi.org/10.1101/2020.03.21.20040329   \n",
       "65579  http://medrxiv.org/cgi/content/short/2020.06.2...   \n",
       "67515        https://doi.org/10.1101/2020.03.06.20031955   \n",
       "\n",
       "                                                 authors  \\\n",
       "1122   Ejima, Keisuke; Aihara, Kazuyuki; Nishiura, Hi...   \n",
       "35154  Akyıl, Fatma Tokgöz; Karadoğan, Dilek; Gürkan,...   \n",
       "64846  Ma, Shujuan; Zhang, Jiayue; Zeng, Minyan; Yun,...   \n",
       "65579  Wei, Y.; Wei, L.; Liu, Y.; Huang, L.; Shen, S....   \n",
       "67515  Xia, Wei; Liao, Jiaqiang; Li, Chunhui; Li, Yua...   \n",
       "\n",
       "                                                   words  \n",
       "1122   [BACKGROUND, The, way, we, formulate, a, mathe...  \n",
       "35154  [The, novel, coronavirus, pandemic, poses, a, ...  \n",
       "64846  [Background, The, outbreak, of, coronavirus, d...  \n",
       "65579  [Background, The, incubation, period, of, SARS...  \n",
       "67515  [Background, The, ongoing, outbreak, of, novel...  "
      ]
     },
     "execution_count": 89,
     "metadata": {},
     "output_type": "execute_result"
    }
   ],
   "source": [
    "#Articles that we have\n",
    "Q7.head(5)"
   ]
  },
  {
   "cell_type": "markdown",
   "metadata": {},
   "source": [
    "Online Search"
   ]
  },
  {
   "cell_type": "code",
   "execution_count": 90,
   "metadata": {
    "scrolled": false
   },
   "outputs": [
    {
     "name": "stdout",
     "output_type": "stream",
     "text": [
      "https://www.cdc.gov/coronavirus/2019-ncov/hcp/faq.html\n",
      "https://www.cdc.gov/coronavirus/2019-ncov/hcp/clinical-guidance-management-patients.html\n",
      "https://www.who.int/docs/default-source/coronaviruse/situation-reports/20200402-sitrep-73-Covid-19.pdf\n",
      "https://www.sciencedirect.com/science/article/pii/S0163445320301171\n",
      "https://www.contagionlive.com/news/case-study-shows-asymptomatic-transmission-of-covid19-in-china\n",
      "https://www.acc.org/latest-in-cardiology/journal-scans/2020/05/11/15/18/the-incubation-period-of-coronavirus-disease\n",
      "https://pubmed.ncbi.nlm.nih.gov/32283156/\n",
      "https://coronavirusexplained.ukri.org/en/article/und0006/\n",
      "https://www.canada.ca/en/public-health/services/diseases/2019-novel-coronavirus-infection/health-professionals/assumptions.html\n",
      "https://www.reuters.com/article/us-health-coronavirus-asymptomatic-expla/explainer-are-asymptomatic-covid-19-patients-safe-or-silent-carriers-idUSKBN23A21S\n",
      "https://www.publichealthontario.ca/-/media/documents/ncov/what-we-know-jan-30-2020.pdf?la=en\n",
      "https://www.publichealthontario.ca/-/media/documents/ncov/covid-wwksf/what-we-know-communicable-period-mar-27-2020.pdf?la=en\n",
      "https://www.journalofinfection.com/article/S0163-4453(20)30117-1/abstract\n",
      "https://www.health.gov.au/sites/default/files/documents/2020/03/coronavirus-covid-19-information-for-clinicians.pdf\n",
      "https://www.worldometers.info/coronavirus/coronavirus-incubation-period/\n",
      "https://www.nejm.org/doi/full/10.1056/NEJMc2001468\n",
      "https://www.nature.com/articles/s41591-020-0869-5\n",
      "https://abcnews.go.com/Health/asymptomatic-transmission-coronavirus/story?id=69901758\n",
      "https://jamanetwork.com/journals/jama/fullarticle/2762028\n",
      "https://www.the-scientist.com/news-opinion/scientists-zero-in-on-the-novel-coronavirus-incubation-period--67045\n"
     ]
    }
   ],
   "source": [
    "try: \n",
    "    from googlesearch import search \n",
    "except ImportError:  \n",
    "    print(\"Error/Not found\") \n",
    "### Browsing the sourses using different search terms: \n",
    "search7_1 = \"corona Asymptomatic transmission during incubation\"\n",
    "\n",
    "\n",
    "\n",
    "##limit to the first 10 relevant links:\n",
    "for a in search(search7_1, tld=\"co.in\", num=20, stop=20, pause=2): \n",
    "    print(a)"
   ]
  },
  {
   "cell_type": "markdown",
   "metadata": {},
   "source": [
    "# 8/ Natural history of the virus from an infected person"
   ]
  },
  {
   "cell_type": "code",
   "execution_count": 106,
   "metadata": {},
   "outputs": [],
   "source": [
    "#Create different sets with specialized terms  from our questions \n",
    "Q8_a = tablesAbstract[tablesAbstract['abstract'].str.contains('history')]\n",
    "Q8_b = Q8_a[Q8_a['abstract'].str.contains('infected','patient')]"
   ]
  },
  {
   "cell_type": "code",
   "execution_count": 107,
   "metadata": {},
   "outputs": [
    {
     "data": {
      "text/plain": [
       "(343, 6)"
      ]
     },
     "execution_count": 107,
     "metadata": {},
     "output_type": "execute_result"
    }
   ],
   "source": [
    "#Concatenitng the dataframes into one table per question and dropping null value \n",
    "Q8 = pd.concat([Q8_b])\n",
    "Q8.dropna(inplace=True)\n",
    "Q8.shape"
   ]
  },
  {
   "cell_type": "code",
   "execution_count": 108,
   "metadata": {
    "scrolled": false
   },
   "outputs": [
    {
     "data": {
      "text/html": [
       "<div>\n",
       "<style scoped>\n",
       "    .dataframe tbody tr th:only-of-type {\n",
       "        vertical-align: middle;\n",
       "    }\n",
       "\n",
       "    .dataframe tbody tr th {\n",
       "        vertical-align: top;\n",
       "    }\n",
       "\n",
       "    .dataframe thead th {\n",
       "        text-align: right;\n",
       "    }\n",
       "</style>\n",
       "<table border=\"1\" class=\"dataframe\">\n",
       "  <thead>\n",
       "    <tr style=\"text-align: right;\">\n",
       "      <th></th>\n",
       "      <th>title</th>\n",
       "      <th>abstract</th>\n",
       "      <th>publish_time</th>\n",
       "      <th>url</th>\n",
       "      <th>authors</th>\n",
       "      <th>words</th>\n",
       "    </tr>\n",
       "  </thead>\n",
       "  <tbody>\n",
       "    <tr>\n",
       "      <th>450</th>\n",
       "      <td>Human Anti-Plague Monoclonal Antibodies Protec...</td>\n",
       "      <td>Yersinia pestis is the etiologic agent of plag...</td>\n",
       "      <td>2010-10-13</td>\n",
       "      <td>https://www.ncbi.nlm.nih.gov/pmc/articles/PMC2...</td>\n",
       "      <td>Xiao, Xiaodong; Zhu, Zhongyu; Dankmeyer, Jenni...</td>\n",
       "      <td>[Yersinia, pestis, is, the, etiologic, agent, ...</td>\n",
       "    </tr>\n",
       "    <tr>\n",
       "      <th>1632</th>\n",
       "      <td>Interferon Lambda: Opportunities, Risks, and U...</td>\n",
       "      <td>Innate immunity is key to the fight against th...</td>\n",
       "      <td>2014-10-31</td>\n",
       "      <td>https://www.ncbi.nlm.nih.gov/pmc/articles/PMC4...</td>\n",
       "      <td>Laidlaw, Stephen M.; Dustin, Lynn B.</td>\n",
       "      <td>[Innate, immunity, is, key, to, the, fight, ag...</td>\n",
       "    </tr>\n",
       "    <tr>\n",
       "      <th>1745</th>\n",
       "      <td>Successful use of extracorporeal membrane oxyg...</td>\n",
       "      <td>INTRODUCTION: We report a case of an adult pat...</td>\n",
       "      <td>2014-11-21</td>\n",
       "      <td>https://www.ncbi.nlm.nih.gov/pmc/articles/PMC4...</td>\n",
       "      <td>Samalavicius, Robertas; Serpytis, Mindaugas; R...</td>\n",
       "      <td>[INTRODUCTION, We, report, a, case, of, an, ad...</td>\n",
       "    </tr>\n",
       "    <tr>\n",
       "      <th>2304</th>\n",
       "      <td>Sepsis and cytomegalovirus: foes or conspirators?</td>\n",
       "      <td>Cytomegalovirus (CMV) reactivation in non-immu...</td>\n",
       "      <td>2015-03-19</td>\n",
       "      <td>https://www.ncbi.nlm.nih.gov/pmc/articles/PMC4...</td>\n",
       "      <td>Mansfield, Sara; Grießl, Marion; Gutknecht, Mi...</td>\n",
       "      <td>[Cytomegalovirus, CMV, reactivation, in, non, ...</td>\n",
       "    </tr>\n",
       "    <tr>\n",
       "      <th>2400</th>\n",
       "      <td>Building Ventilation as an Effective Disease I...</td>\n",
       "      <td>Emerging diseases may spread rapidly through d...</td>\n",
       "      <td>2016-09-09</td>\n",
       "      <td>https://www.ncbi.nlm.nih.gov/pmc/articles/PMC5...</td>\n",
       "      <td>Gao, Xiaolei; Wei, Jianjian; Lei, Hao; Xu, Pen...</td>\n",
       "      <td>[Emerging, diseases, may, spread, rapidly, thr...</td>\n",
       "    </tr>\n",
       "  </tbody>\n",
       "</table>\n",
       "</div>"
      ],
      "text/plain": [
       "                                                  title  \\\n",
       "450   Human Anti-Plague Monoclonal Antibodies Protec...   \n",
       "1632  Interferon Lambda: Opportunities, Risks, and U...   \n",
       "1745  Successful use of extracorporeal membrane oxyg...   \n",
       "2304  Sepsis and cytomegalovirus: foes or conspirators?   \n",
       "2400  Building Ventilation as an Effective Disease I...   \n",
       "\n",
       "                                               abstract publish_time  \\\n",
       "450   Yersinia pestis is the etiologic agent of plag...   2010-10-13   \n",
       "1632  Innate immunity is key to the fight against th...   2014-10-31   \n",
       "1745  INTRODUCTION: We report a case of an adult pat...   2014-11-21   \n",
       "2304  Cytomegalovirus (CMV) reactivation in non-immu...   2015-03-19   \n",
       "2400  Emerging diseases may spread rapidly through d...   2016-09-09   \n",
       "\n",
       "                                                    url  \\\n",
       "450   https://www.ncbi.nlm.nih.gov/pmc/articles/PMC2...   \n",
       "1632  https://www.ncbi.nlm.nih.gov/pmc/articles/PMC4...   \n",
       "1745  https://www.ncbi.nlm.nih.gov/pmc/articles/PMC4...   \n",
       "2304  https://www.ncbi.nlm.nih.gov/pmc/articles/PMC4...   \n",
       "2400  https://www.ncbi.nlm.nih.gov/pmc/articles/PMC5...   \n",
       "\n",
       "                                                authors  \\\n",
       "450   Xiao, Xiaodong; Zhu, Zhongyu; Dankmeyer, Jenni...   \n",
       "1632               Laidlaw, Stephen M.; Dustin, Lynn B.   \n",
       "1745  Samalavicius, Robertas; Serpytis, Mindaugas; R...   \n",
       "2304  Mansfield, Sara; Grießl, Marion; Gutknecht, Mi...   \n",
       "2400  Gao, Xiaolei; Wei, Jianjian; Lei, Hao; Xu, Pen...   \n",
       "\n",
       "                                                  words  \n",
       "450   [Yersinia, pestis, is, the, etiologic, agent, ...  \n",
       "1632  [Innate, immunity, is, key, to, the, fight, ag...  \n",
       "1745  [INTRODUCTION, We, report, a, case, of, an, ad...  \n",
       "2304  [Cytomegalovirus, CMV, reactivation, in, non, ...  \n",
       "2400  [Emerging, diseases, may, spread, rapidly, thr...  "
      ]
     },
     "execution_count": 108,
     "metadata": {},
     "output_type": "execute_result"
    }
   ],
   "source": [
    "#Articles that we have\n",
    "Q8.head(5)"
   ]
  },
  {
   "cell_type": "markdown",
   "metadata": {},
   "source": [
    "Online Search"
   ]
  },
  {
   "cell_type": "code",
   "execution_count": 109,
   "metadata": {
    "scrolled": true
   },
   "outputs": [
    {
     "name": "stdout",
     "output_type": "stream",
     "text": [
      "https://www.cdc.gov/coronavirus/2019-ncov/hcp/faq.html\n",
      "https://www.cdc.gov/coronavirus/2019-ncov/hcp/clinical-guidance-management-patients.html\n",
      "https://www.who.int/docs/default-source/coronaviruse/situation-reports/20200402-sitrep-73-Covid-19.pdf\n",
      "https://www.sciencedirect.com/science/article/pii/S0163445320301171\n",
      "https://www.contagionlive.com/news/case-study-shows-asymptomatic-transmission-of-covid19-in-china\n",
      "https://www.acc.org/latest-in-cardiology/journal-scans/2020/05/11/15/18/the-incubation-period-of-coronavirus-disease\n",
      "https://pubmed.ncbi.nlm.nih.gov/32283156/\n",
      "https://coronavirusexplained.ukri.org/en/article/und0006/\n",
      "https://www.canada.ca/en/public-health/services/diseases/2019-novel-coronavirus-infection/health-professionals/assumptions.html\n",
      "https://www.reuters.com/article/us-health-coronavirus-asymptomatic-expla/explainer-are-asymptomatic-covid-19-patients-safe-or-silent-carriers-idUSKBN23A21S\n",
      "https://www.publichealthontario.ca/-/media/documents/ncov/what-we-know-jan-30-2020.pdf?la=en\n",
      "https://www.publichealthontario.ca/-/media/documents/ncov/covid-wwksf/what-we-know-communicable-period-mar-27-2020.pdf?la=en\n",
      "https://www.journalofinfection.com/article/S0163-4453(20)30117-1/abstract\n",
      "https://www.health.gov.au/sites/default/files/documents/2020/03/coronavirus-covid-19-information-for-clinicians.pdf\n",
      "https://www.worldometers.info/coronavirus/coronavirus-incubation-period/\n",
      "https://www.nejm.org/doi/full/10.1056/NEJMc2001468\n",
      "https://www.nature.com/articles/s41591-020-0869-5\n",
      "https://abcnews.go.com/Health/asymptomatic-transmission-coronavirus/story?id=69901758\n",
      "https://jamanetwork.com/journals/jama/fullarticle/2762028\n",
      "https://www.the-scientist.com/news-opinion/scientists-zero-in-on-the-novel-coronavirus-incubation-period--67045\n"
     ]
    }
   ],
   "source": [
    "try: \n",
    "    from googlesearch import search \n",
    "except ImportError:  \n",
    "    print(\"Error/Not found\") \n",
    "### Browsing the sourses using different search terms: \n",
    "search8_1 = \"corona Asymptomatic transmission during incubation\"\n",
    "\n",
    "\n",
    "\n",
    "##limit to the first 10 relevant links:\n",
    "for a in search(search8_1, tld=\"co.in\", num=20, stop=20, pause=2): \n",
    "    print(a)"
   ]
  },
  {
   "cell_type": "markdown",
   "metadata": {},
   "source": [
    "# 9/ What is the median, longest viral shedding duration?"
   ]
  },
  {
   "cell_type": "code",
   "execution_count": 113,
   "metadata": {},
   "outputs": [],
   "source": [
    "#Create different sets with specialized terms  from our questions \n",
    "Q9_a = tablesAbstract[tablesAbstract['abstract'].str.contains('viral shedding')]\n",
    "Q9_b = Q9_a[Q9_a['abstract'].str.contains('duration')]"
   ]
  },
  {
   "cell_type": "code",
   "execution_count": 114,
   "metadata": {},
   "outputs": [
    {
     "data": {
      "text/plain": [
       "(87, 6)"
      ]
     },
     "execution_count": 114,
     "metadata": {},
     "output_type": "execute_result"
    }
   ],
   "source": [
    "#Concatenitng the dataframes into one table per question and dropping null value \n",
    "Q9 = pd.concat([Q9_b])\n",
    "Q9.dropna(inplace=True)\n",
    "Q9.shape"
   ]
  },
  {
   "cell_type": "code",
   "execution_count": 115,
   "metadata": {
    "scrolled": false
   },
   "outputs": [
    {
     "data": {
      "text/html": [
       "<div>\n",
       "<style scoped>\n",
       "    .dataframe tbody tr th:only-of-type {\n",
       "        vertical-align: middle;\n",
       "    }\n",
       "\n",
       "    .dataframe tbody tr th {\n",
       "        vertical-align: top;\n",
       "    }\n",
       "\n",
       "    .dataframe thead th {\n",
       "        text-align: right;\n",
       "    }\n",
       "</style>\n",
       "<table border=\"1\" class=\"dataframe\">\n",
       "  <thead>\n",
       "    <tr style=\"text-align: right;\">\n",
       "      <th></th>\n",
       "      <th>title</th>\n",
       "      <th>abstract</th>\n",
       "      <th>publish_time</th>\n",
       "      <th>url</th>\n",
       "      <th>authors</th>\n",
       "      <th>words</th>\n",
       "    </tr>\n",
       "  </thead>\n",
       "  <tbody>\n",
       "    <tr>\n",
       "      <th>1571</th>\n",
       "      <td>Evaluation of oseltamivir prophylaxis regimens...</td>\n",
       "      <td>OBJECTIVES: The emergence of the pandemic infl...</td>\n",
       "      <td>2014-05-19</td>\n",
       "      <td>https://www.ncbi.nlm.nih.gov/pmc/articles/PMC4...</td>\n",
       "      <td>Oh, Ding Yuan; Lowther, Sue; McCaw, James M.; ...</td>\n",
       "      <td>[OBJECTIVES, The, emergence, of, the, pandemic...</td>\n",
       "    </tr>\n",
       "    <tr>\n",
       "      <th>6815</th>\n",
       "      <td>Characterization of viral genomic mutations in...</td>\n",
       "      <td>Since February 2013, human infections with the...</td>\n",
       "      <td>2019-07-13</td>\n",
       "      <td>https://www.ncbi.nlm.nih.gov/pmc/articles/PMC7...</td>\n",
       "      <td>Chen, Renke; Zou, Qianda; Xie, Guoliang; Yu, F...</td>\n",
       "      <td>[Since, February, 2013, human, infections, wit...</td>\n",
       "    </tr>\n",
       "    <tr>\n",
       "      <th>13241</th>\n",
       "      <td>Transmission Dynamics of Respiratory Viruses i...</td>\n",
       "      <td>BACKGROUND: Human coronaviruses (HCoVs), rhino...</td>\n",
       "      <td>2017-10-04</td>\n",
       "      <td>https://www.ncbi.nlm.nih.gov/pmc/articles/PMC7...</td>\n",
       "      <td>Lewnard, Joseph; Chen, Wei-Ju; Milzman, Jacque...</td>\n",
       "      <td>[BACKGROUND, Human, coronaviruses, HCoVs, rhin...</td>\n",
       "    </tr>\n",
       "    <tr>\n",
       "      <th>19171</th>\n",
       "      <td>Herausforderungen in der Seuchenkontrolle und ...</td>\n",
       "      <td>BACKGROUND: The pandemic phase 3—mitigation—by...</td>\n",
       "      <td>2020-03-30</td>\n",
       "      <td>https://www.ncbi.nlm.nih.gov/pmc/articles/PMC7...</td>\n",
       "      <td>Weigl, Josef</td>\n",
       "      <td>[BACKGROUND, The, pandemic, phase, 3, mitigati...</td>\n",
       "    </tr>\n",
       "    <tr>\n",
       "      <th>31257</th>\n",
       "      <td>Molecular characterization of a respiratory sy...</td>\n",
       "      <td>In 2011 and 2012, a large outbreak of respirat...</td>\n",
       "      <td>2013</td>\n",
       "      <td>https://doi.org/10.1128/jcm.02151-12; https://...</td>\n",
       "      <td>Geis, Steffen; Prifert, Christiane; Weissbrich...</td>\n",
       "      <td>[In, 2011, and, 2012, a, large, outbreak, of, ...</td>\n",
       "    </tr>\n",
       "  </tbody>\n",
       "</table>\n",
       "</div>"
      ],
      "text/plain": [
       "                                                   title  \\\n",
       "1571   Evaluation of oseltamivir prophylaxis regimens...   \n",
       "6815   Characterization of viral genomic mutations in...   \n",
       "13241  Transmission Dynamics of Respiratory Viruses i...   \n",
       "19171  Herausforderungen in der Seuchenkontrolle und ...   \n",
       "31257  Molecular characterization of a respiratory sy...   \n",
       "\n",
       "                                                abstract publish_time  \\\n",
       "1571   OBJECTIVES: The emergence of the pandemic infl...   2014-05-19   \n",
       "6815   Since February 2013, human infections with the...   2019-07-13   \n",
       "13241  BACKGROUND: Human coronaviruses (HCoVs), rhino...   2017-10-04   \n",
       "19171  BACKGROUND: The pandemic phase 3—mitigation—by...   2020-03-30   \n",
       "31257  In 2011 and 2012, a large outbreak of respirat...         2013   \n",
       "\n",
       "                                                     url  \\\n",
       "1571   https://www.ncbi.nlm.nih.gov/pmc/articles/PMC4...   \n",
       "6815   https://www.ncbi.nlm.nih.gov/pmc/articles/PMC7...   \n",
       "13241  https://www.ncbi.nlm.nih.gov/pmc/articles/PMC7...   \n",
       "19171  https://www.ncbi.nlm.nih.gov/pmc/articles/PMC7...   \n",
       "31257  https://doi.org/10.1128/jcm.02151-12; https://...   \n",
       "\n",
       "                                                 authors  \\\n",
       "1571   Oh, Ding Yuan; Lowther, Sue; McCaw, James M.; ...   \n",
       "6815   Chen, Renke; Zou, Qianda; Xie, Guoliang; Yu, F...   \n",
       "13241  Lewnard, Joseph; Chen, Wei-Ju; Milzman, Jacque...   \n",
       "19171                                       Weigl, Josef   \n",
       "31257  Geis, Steffen; Prifert, Christiane; Weissbrich...   \n",
       "\n",
       "                                                   words  \n",
       "1571   [OBJECTIVES, The, emergence, of, the, pandemic...  \n",
       "6815   [Since, February, 2013, human, infections, wit...  \n",
       "13241  [BACKGROUND, Human, coronaviruses, HCoVs, rhin...  \n",
       "19171  [BACKGROUND, The, pandemic, phase, 3, mitigati...  \n",
       "31257  [In, 2011, and, 2012, a, large, outbreak, of, ...  "
      ]
     },
     "execution_count": 115,
     "metadata": {},
     "output_type": "execute_result"
    }
   ],
   "source": [
    "#Articles that we have\n",
    "Q9.head(5)"
   ]
  },
  {
   "cell_type": "markdown",
   "metadata": {},
   "source": [
    "Online Search"
   ]
  },
  {
   "cell_type": "code",
   "execution_count": 116,
   "metadata": {
    "scrolled": false
   },
   "outputs": [
    {
     "name": "stdout",
     "output_type": "stream",
     "text": [
      "https://en.wikipedia.org/wiki/Coronavirus_disease_2019\n",
      "https://www.medscape.com/answers/2500114-197467/what-is-the-duration-of-viral-shedding-in-persons-with-coronavirus-disease-2019-covid-19\n",
      "https://www.hopkinsguides.com/hopkins/view/Johns_Hopkins_ABX_Guide/540747/all/Coronavirus_COVID_19__SARS_CoV_2_\n",
      "https://www.hopkinsguides.com/hopkins/view/Message_Center_-_Hopkins_Guides/2015007/all/COVID_19:_Are_We_Getting_Ahead_\n",
      "https://www.hopkinsguides.com/hopkins/view/Johns_Hopkins_ABX_Guide/540143/all/Coronavirus\n",
      "https://www.hopkinsguides.com/hopkins/view/Johns_Hopkins_ABX_Guide/540748/all/Hydroxychloroquine\n",
      "https://www.cdc.gov/coronavirus/2019-ncov/hcp/faq.html\n",
      "https://www.cdc.gov/coronavirus/2019-ncov/hcp/clinical-guidance-management-patients.html\n",
      "https://www.who.int/news-room/commentaries/detail/criteria-for-releasing-covid-19-patients-from-isolation\n",
      "https://www.nature.com/articles/s41591-020-0869-5\n",
      "https://academic.oup.com/cid/article/doi/10.1093/cid/ciaa451/5821307\n",
      "https://www.cidrap.umn.edu/news-perspective/2020/05/evidence-prolonged-covid-19-virus-shedding-noted-china\n",
      "http://www.ecdc.europa.eu/sites/default/files/documents/COVID-19-Discharge-criteria.pdf\n",
      "https://www.ijidonline.com/article/S1201-9712(20)30352-0/fulltext\n",
      "https://www.ncbi.nlm.nih.gov/pmc/articles/PMC7237903/\n",
      "https://erj.ersjournals.com/content/early/2020/05/07/13993003.01190-2020\n",
      "https://www.cebm.net/covid-19/sars-cov-2-viral-load-and-the-severity-of-covid-19/\n",
      "https://www.uptodate.com/contents/coronavirus-disease-2019-covid-19-epidemiology-virology-and-prevention\n",
      "https://www.medrxiv.org/content/10.1101/2020.06.08.20125310v1\n",
      "https://www.nejm.org/doi/full/10.1056/nejme2009758\n"
     ]
    }
   ],
   "source": [
    "try: \n",
    "    from googlesearch import search \n",
    "except ImportError:  \n",
    "    print(\"Error/Not found\") \n",
    "### Browsing the sourses using different search terms: \n",
    "search9_1 = \"corona average duration viral shedding\"\n",
    "search9_2 = \"corona longest duration viral shedding\"\n",
    "\n",
    "\n",
    "##limit to the first 10 relevant links:\n",
    "for a in search(search9_1, tld=\"co.in\", num=10, stop=10, pause=2): \n",
    "    print(a)\n",
    "for a in search(search9_2, tld=\"co.in\", num=10, stop=10, pause=2): \n",
    "    print(a)"
   ]
  },
  {
   "cell_type": "markdown",
   "metadata": {},
   "source": [
    "# 11/ Manifestations of COVID-19 including but not limited to possible cardiomyopathy and cardiac arrest\n"
   ]
  },
  {
   "cell_type": "code",
   "execution_count": 117,
   "metadata": {},
   "outputs": [],
   "source": [
    "#Create different sets with specialized terms  from our questions \n",
    "Q11_a = tablesAbstract[tablesAbstract['abstract'].str.contains('manifestation')]\n",
    "Q11_b = Q11_a[Q11_a['abstract'].str.contains('cardiomyopathy', 'cardiac arrest')]"
   ]
  },
  {
   "cell_type": "code",
   "execution_count": 118,
   "metadata": {},
   "outputs": [
    {
     "data": {
      "text/plain": [
       "(18, 6)"
      ]
     },
     "execution_count": 118,
     "metadata": {},
     "output_type": "execute_result"
    }
   ],
   "source": [
    "#Concatenitng the dataframes into one table per question and dropping null value \n",
    "Q11 = pd.concat([Q11_b])\n",
    "Q11.dropna(inplace=True)\n",
    "Q11.shape"
   ]
  },
  {
   "cell_type": "code",
   "execution_count": 119,
   "metadata": {
    "scrolled": false
   },
   "outputs": [
    {
     "data": {
      "text/html": [
       "<div>\n",
       "<style scoped>\n",
       "    .dataframe tbody tr th:only-of-type {\n",
       "        vertical-align: middle;\n",
       "    }\n",
       "\n",
       "    .dataframe tbody tr th {\n",
       "        vertical-align: top;\n",
       "    }\n",
       "\n",
       "    .dataframe thead th {\n",
       "        text-align: right;\n",
       "    }\n",
       "</style>\n",
       "<table border=\"1\" class=\"dataframe\">\n",
       "  <thead>\n",
       "    <tr style=\"text-align: right;\">\n",
       "      <th></th>\n",
       "      <th>title</th>\n",
       "      <th>abstract</th>\n",
       "      <th>publish_time</th>\n",
       "      <th>url</th>\n",
       "      <th>authors</th>\n",
       "      <th>words</th>\n",
       "    </tr>\n",
       "  </thead>\n",
       "  <tbody>\n",
       "    <tr>\n",
       "      <th>628</th>\n",
       "      <td>Unusual association of ST-T abnormalities, myo...</td>\n",
       "      <td>INTRODUCTION: Myocarditis is rarely reported a...</td>\n",
       "      <td>2011-07-14</td>\n",
       "      <td>https://www.ncbi.nlm.nih.gov/pmc/articles/PMC3...</td>\n",
       "      <td>Chan, Karen; Meek, David; Chakravorty, Indranil</td>\n",
       "      <td>[INTRODUCTION, Myocarditis, is, rarely, report...</td>\n",
       "    </tr>\n",
       "    <tr>\n",
       "      <th>5286</th>\n",
       "      <td>Clinical aspects of virus/immune myocarditis</td>\n",
       "      <td>Although a cause-and-effect relationship betwe...</td>\n",
       "      <td>1985</td>\n",
       "      <td>https://www.ncbi.nlm.nih.gov/pmc/articles/PMC7...</td>\n",
       "      <td>O'Connell, John B.; Robinson, John A.; Gunnar,...</td>\n",
       "      <td>[Although, a, cause, and, effect, relationship...</td>\n",
       "    </tr>\n",
       "    <tr>\n",
       "      <th>11470</th>\n",
       "      <td>Systemic lupus erythematosus presenting with s...</td>\n",
       "      <td>INTRODUCTION: Systemic lupus erythematosus is ...</td>\n",
       "      <td>2020-01-29</td>\n",
       "      <td>https://www.ncbi.nlm.nih.gov/pmc/articles/PMC7...</td>\n",
       "      <td>Herath, H. M. M. T. B.; Kulatunga, Aruna</td>\n",
       "      <td>[INTRODUCTION, Systemic, lupus, erythematosus,...</td>\n",
       "    </tr>\n",
       "    <tr>\n",
       "      <th>16267</th>\n",
       "      <td>Myocarditis</td>\n",
       "      <td>Viruses are the most common cause of myocardit...</td>\n",
       "      <td>2007</td>\n",
       "      <td>https://www.ncbi.nlm.nih.gov/pmc/articles/PMC7...</td>\n",
       "      <td>Mason, Jay W.; Trehan, Sanjeev; Renlund, Dale G.</td>\n",
       "      <td>[Viruses, are, the, most, common, cause, of, m...</td>\n",
       "    </tr>\n",
       "    <tr>\n",
       "      <th>30984</th>\n",
       "      <td>Endocrinopathy and Aging in Ferrets.</td>\n",
       "      <td>Ferrets have become more popular as household ...</td>\n",
       "      <td>2016</td>\n",
       "      <td>https://doi.org/10.1177/0300985815623621; http...</td>\n",
       "      <td>Bakthavatchalu, V; Muthupalani, S; Marini, R P...</td>\n",
       "      <td>[Ferrets, have, become, more, popular, as, hou...</td>\n",
       "    </tr>\n",
       "  </tbody>\n",
       "</table>\n",
       "</div>"
      ],
      "text/plain": [
       "                                                   title  \\\n",
       "628    Unusual association of ST-T abnormalities, myo...   \n",
       "5286        Clinical aspects of virus/immune myocarditis   \n",
       "11470  Systemic lupus erythematosus presenting with s...   \n",
       "16267                                        Myocarditis   \n",
       "30984               Endocrinopathy and Aging in Ferrets.   \n",
       "\n",
       "                                                abstract publish_time  \\\n",
       "628    INTRODUCTION: Myocarditis is rarely reported a...   2011-07-14   \n",
       "5286   Although a cause-and-effect relationship betwe...         1985   \n",
       "11470  INTRODUCTION: Systemic lupus erythematosus is ...   2020-01-29   \n",
       "16267  Viruses are the most common cause of myocardit...         2007   \n",
       "30984  Ferrets have become more popular as household ...         2016   \n",
       "\n",
       "                                                     url  \\\n",
       "628    https://www.ncbi.nlm.nih.gov/pmc/articles/PMC3...   \n",
       "5286   https://www.ncbi.nlm.nih.gov/pmc/articles/PMC7...   \n",
       "11470  https://www.ncbi.nlm.nih.gov/pmc/articles/PMC7...   \n",
       "16267  https://www.ncbi.nlm.nih.gov/pmc/articles/PMC7...   \n",
       "30984  https://doi.org/10.1177/0300985815623621; http...   \n",
       "\n",
       "                                                 authors  \\\n",
       "628      Chan, Karen; Meek, David; Chakravorty, Indranil   \n",
       "5286   O'Connell, John B.; Robinson, John A.; Gunnar,...   \n",
       "11470           Herath, H. M. M. T. B.; Kulatunga, Aruna   \n",
       "16267   Mason, Jay W.; Trehan, Sanjeev; Renlund, Dale G.   \n",
       "30984  Bakthavatchalu, V; Muthupalani, S; Marini, R P...   \n",
       "\n",
       "                                                   words  \n",
       "628    [INTRODUCTION, Myocarditis, is, rarely, report...  \n",
       "5286   [Although, a, cause, and, effect, relationship...  \n",
       "11470  [INTRODUCTION, Systemic, lupus, erythematosus,...  \n",
       "16267  [Viruses, are, the, most, common, cause, of, m...  \n",
       "30984  [Ferrets, have, become, more, popular, as, hou...  "
      ]
     },
     "execution_count": 119,
     "metadata": {},
     "output_type": "execute_result"
    }
   ],
   "source": [
    "#Articles that we have\n",
    "Q11.head(5)"
   ]
  },
  {
   "cell_type": "markdown",
   "metadata": {},
   "source": [
    "Online Search"
   ]
  },
  {
   "cell_type": "code",
   "execution_count": 120,
   "metadata": {
    "scrolled": false
   },
   "outputs": [
    {
     "name": "stdout",
     "output_type": "stream",
     "text": [
      "https://www.cdc.gov/coronavirus/2019-ncov/symptoms-testing/symptoms.html\n",
      "https://www.mayoclinic.org/diseases-conditions/coronavirus/symptoms-causes/syc-20479963\n",
      "https://www.mayoclinic.org/diseases-conditions/coronavirus/expert-answers/coronavirus-unusual-symptoms/faq-20487367\n",
      "https://www.mayoclinic.org/covid-19-self-assessment-tool\n",
      "https://www.mayoclinic.org/diseases-conditions/coronavirus/in-depth/coronavirus-mask/art-20485449\n",
      "https://www.mayoclinic.org/diseases-conditions/coronavirus/expert-answers/covid-antibody-tests/faq-20484429\n",
      "https://www.mayoclinic.org/diseases-conditions/coronavirus/expert-answers/sex-and-coronavirus/faq-20486572\n",
      "https://www.mayoclinic.org/diseases-conditions/coronavirus/in-depth/coping-with-coronavirus-grief/art-20486392\n",
      "https://www.webmd.com/lung/covid-19-symptoms\n",
      "https://www.m.webmd.com/coronavirus/mobile-health-check-coronavirus/default.htm\n",
      "https://khn.org/news/mysterious-heart-damage-not-just-lung-troubles-befalling-covid-19-patients/\n",
      "https://www.acc.org/latest-in-cardiology/journal-scans/2020/06/29/13/29/covid-19-kills-at-home?utm_medium=email_digest&utm_campaign=clinical_topics&utm_source=clinical_topics\n",
      "https://www.heartrhythmjournal.com/article/S1547-5271(20)30594-4/fulltext\n",
      "https://www.heartrhythmjournal.com/article/S1547-5271(20)30594-4/fulltext#secsectitle0045\n",
      "https://www.heartrhythmjournal.com/article/S1547-5271(20)30594-4/fulltext#secsectitle0050\n",
      "https://www.heartrhythmjournal.com/article/S1547-5271(20)30594-4/fulltext#secsectitle0075\n",
      "https://www.heartrhythmjournal.com/article/S1547-5271(20)30594-4/fulltext#secsectitle0085\n",
      "https://www.ahajournals.org/doi/10.1161/CIRCULATIONAHA.120.048951\n",
      "https://www.tctmd.com/news/cardiac-arrests-have-soared-worldwide-how-was-covid-19-blame\n",
      "https://www.escardio.org/Education/COVID-19-and-Cardiology\n"
     ]
    }
   ],
   "source": [
    "try: \n",
    "    from googlesearch import search \n",
    "except ImportError:  \n",
    "    print(\"Error/Not found\") \n",
    "### Browsing the sourses using different search terms: \n",
    "search11_1 = \"Manifestations of COVID-19\"\n",
    "search11_2 = \" COVID-19 cardiomyopathy and cardiac arrest\"\n",
    "\n",
    "\n",
    "##limit to the first 10 relevant links:\n",
    "for a in search(search11_1, tld=\"co.in\", num=10, stop=10, pause=2): \n",
    "    print(a)\n",
    "for a in search(search11_2, tld=\"co.in\", num=10, stop=10, pause=2): \n",
    "    print(a)"
   ]
  },
  {
   "cell_type": "code",
   "execution_count": null,
   "metadata": {},
   "outputs": [],
   "source": []
  }
 ],
 "metadata": {
  "kernelspec": {
   "display_name": "Python 3",
   "language": "python",
   "name": "python3"
  },
  "language_info": {
   "codemirror_mode": {
    "name": "ipython",
    "version": 3
   },
   "file_extension": ".py",
   "mimetype": "text/x-python",
   "name": "python",
   "nbconvert_exporter": "python",
   "pygments_lexer": "ipython3",
   "version": "3.7.3"
  }
 },
 "nbformat": 4,
 "nbformat_minor": 4
}
