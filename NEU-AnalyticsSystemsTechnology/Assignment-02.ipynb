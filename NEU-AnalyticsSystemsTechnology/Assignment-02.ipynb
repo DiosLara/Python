{
 "cells": [
  {
   "cell_type": "markdown",
   "metadata": {},
   "source": [
    "#### Week 2 Assignments (Total 10 points)"
   ]
  },
  {
   "cell_type": "markdown",
   "metadata": {},
   "source": [
    "#### 1. Stat Function ( 2 points)\n",
    "\n"
   ]
  },
  {
   "cell_type": "markdown",
   "metadata": {},
   "source": [
    "Write a function that accepts a list of real numbers and calculates standard deviation , mean , median and mode of the given list and test your function with the following input.\n",
    "\n",
    "input_list = [78.4,98.6,123.8,23.3,89.7,67.5,119.6,90,78,23.6,123.8,37.9,56.7]"
   ]
  },
  {
   "cell_type": "markdown",
   "metadata": {},
   "source": [
    "#### 2.  Mapping Function to Iterables (3 Points)"
   ]
  },
  {
   "cell_type": "markdown",
   "metadata": {},
   "source": [
    "Write a function that takes any email string (user@domain.xxx) as the input , and returns the domain name of the given email. (Hint: Consider regular expression package by using the command import re.)\n",
    "\n",
    "For example : \n",
    "\n",
    "1. Input : prabas@northeastern.edu , Output: northeastern\n",
    "2. Input : xxx@gmail.com , Output: gmail\n",
    "\n",
    "\n",
    "and Map this function using map() function for the given list of emails as below.\n",
    "\n",
    "\n",
    "email_list  = [student@northeastern.edu , senator@us.gov , employee@amazon.com , people@socailsite.net]\n"
   ]
  },
  {
   "cell_type": "markdown",
   "metadata": {},
   "source": [
    "###### 3. Pandas DataFrames (7 points) includes 2 extra points"
   ]
  },
  {
   "cell_type": "markdown",
   "metadata": {},
   "source": [
    "Load the following datasets into Pandas dataframes by using your favorite format the data is available (csv , json , xml or any other format the data is available)\n",
    "\n",
    "\n",
    "Dataset1: https://data.seattle.gov/Transportation/Road-Weather-Information-Stations/egc4-d24i/data\n",
    "\n",
    "1. Find the average for RoadSurfaceTemperature and AirTemeprature (2 points)\n",
    "2. List the unique station names ( 2 points)\n",
    "3. Find the count of records for each station (3 points)\n",
    "\n"
   ]
  },
  {
   "cell_type": "markdown",
   "metadata": {},
   "source": [
    "# 1"
   ]
  },
  {
   "cell_type": "code",
   "execution_count": 63,
   "metadata": {},
   "outputs": [
    {
     "name": "stdout",
     "output_type": "stream",
     "text": [
      "The standard deviation is: 35.06\n",
      "The mean is: 77.23\n",
      "The mean is: 123.8\n",
      "The median is: 78.4\n"
     ]
    }
   ],
   "source": [
    "import numpy as np\n",
    "import statistics as st\n",
    "\n",
    "input_list = [78.4,98.6,123.8,23.3,89.7,67.5,119.6,90,78,23.6,123.8,37.9,56.7]\n",
    "\n",
    "\n",
    "\n",
    "#Import the Statistic library and use the stdev function to find the standard deviation \n",
    "def standard_deviation (a):\n",
    "    x = st.stdev(a)\n",
    "    return x;\n",
    "print (\"The standard deviation is:\", round(standard_deviation(input_list),2))\n",
    "\n",
    "\n",
    "#Import the Statistic library and use the stdev function to find the mean\n",
    "def mean1 (a):\n",
    "    x = st.mean(a)\n",
    "    return x;\n",
    "print (\"The mean is:\", round(mean(input_list),2))\n",
    "\n",
    "\n",
    "\n",
    "#Import the Statistic library and use the stdev function to find the mode \n",
    "def mode1 (a):\n",
    "    x = st.mode(a)\n",
    "    return x;\n",
    "print (\"The mean is:\", round(mode1(input_list),2))\n",
    "\n",
    "\n",
    "#Import the Statistic library and use the stdev function to find the median  \n",
    "def median1 (a):\n",
    "    x = st.median(a)\n",
    "    return x;\n",
    "print (\"The median is:\", round(median1(input_list),2))\n"
   ]
  },
  {
   "cell_type": "markdown",
   "metadata": {},
   "source": [
    "# 2"
   ]
  },
  {
   "cell_type": "code",
   "execution_count": 66,
   "metadata": {},
   "outputs": [
    {
     "name": "stdout",
     "output_type": "stream",
     "text": [
      "The list of domain is: ['northeastern', 'us', 'amazon', 'socailsite']\n"
     ]
    }
   ],
   "source": [
    "email_list  = ['student@northeastern.edu' , 'senator@us.gov' , 'employee@amazon.com' , 'people@socailsite.net']\n",
    "\n",
    "#The input would be string. We seperate them by @ first take the number 1 then split by dot, take the number 0. Then use the map with func is the get_domain and iterables is the email list   \n",
    "def get_domain(email):\n",
    "    return email.split('@')[1].split('.')[0]\n",
    "\n",
    "res = list(map(get_domain, email_list))\n",
    "print('The list of domain is:', res)"
   ]
  },
  {
   "cell_type": "markdown",
   "metadata": {},
   "source": [
    "# 3"
   ]
  },
  {
   "cell_type": "code",
   "execution_count": 93,
   "metadata": {},
   "outputs": [
    {
     "name": "stdout",
     "output_type": "stream",
     "text": [
      "The mean of RoadSurfaceTemperature value is: 46.905\n",
      "The mean of AirTemperature value is: 47.249\n",
      "The mean of unique station names are: ['AlbroPlaceAirportWay', 'MagnoliaBridge', 'SpokaneSwingBridge', 'RooseveltWay_NE80thSt', '35thAveSW_SWMyrtleSt', 'HarborAveUpperNorthBridge', 'AuroraBridge', 'NE45StViaduct']\n"
     ]
    }
   ],
   "source": [
    "import pandas as pd \n",
    "import statistics as st\n",
    "\n",
    "df= pd.read_csv('C:/Users/HP/Desktop/NorthEastern University/Analytics Systems Technology/Week 2 Introduction to data analysis tools (Data extraction)/0.Project/Road_Weather_Information_Stations.csv')\n",
    "\n",
    "#Take the values of the RoadSurfaceTemperature and AirTemperature and use the mean function to find the mean  \n",
    "#Find the average for RoadSurfaceTemperature and AirTemperature (2 points)\n",
    "rst= df['RoadSurfaceTemperature'].mean()\n",
    "print('The mean of RoadSurfaceTemperature value is:' ,round(rst,3))\n",
    "at= df['AirTemperature'].mean()\n",
    "print('The mean of AirTemperature value is:' ,round(at,3))"
   ]
  },
  {
   "cell_type": "code",
   "execution_count": 95,
   "metadata": {},
   "outputs": [
    {
     "name": "stdout",
     "output_type": "stream",
     "text": [
      "The unique station names are: ['AlbroPlaceAirportWay', 'MagnoliaBridge', 'SpokaneSwingBridge', 'RooseveltWay_NE80thSt', '35thAveSW_SWMyrtleSt', 'HarborAveUpperNorthBridge', 'AuroraBridge', 'NE45StViaduct']\n"
     ]
    }
   ],
   "source": [
    "#Use the set(iterable) function to get the distinct valriable of the StationName column \n",
    "unique_name= list(set(df.StationName))\n",
    "print('The unique station names are:',unique_name)"
   ]
  },
  {
   "cell_type": "code",
   "execution_count": 107,
   "metadata": {},
   "outputs": [
    {
     "name": "stdout",
     "output_type": "stream",
     "text": [
      "Station  AlbroPlaceAirportWay:  3552 records\n",
      "Station  MagnoliaBridge:  3584 records\n",
      "Station  SpokaneSwingBridge:  3565 records\n",
      "Station  RooseveltWay_NE80thSt:  3550 records\n",
      "Station  35thAveSW_SWMyrtleSt:  3595 records\n",
      "Station  HarborAveUpperNorthBridge:  3550 records\n",
      "Station  AuroraBridge:  3552 records\n",
      "Station  NE45StViaduct:  3580 records\n"
     ]
    }
   ],
   "source": [
    "#Set the occurences= p and a is the list version of the StationName dataframe. Use the for loop through the unique_name above and we see that the occurences will be replaced with the records that the name pop up \n",
    "occurences =0\n",
    "a=list(df.StationName)\n",
    "for name in unique_name:\n",
    "    occurences = a.count(name)\n",
    "    print(\"Station  %s:  %a records\"%(name,occurences))"
   ]
  },
  {
   "cell_type": "code",
   "execution_count": null,
   "metadata": {},
   "outputs": [],
   "source": []
  }
 ],
 "metadata": {
  "kernelspec": {
   "display_name": "Python 3",
   "language": "python",
   "name": "python3"
  },
  "language_info": {
   "codemirror_mode": {
    "name": "ipython",
    "version": 3
   },
   "file_extension": ".py",
   "mimetype": "text/x-python",
   "name": "python",
   "nbconvert_exporter": "python",
   "pygments_lexer": "ipython3",
   "version": "3.7.3"
  }
 },
 "nbformat": 4,
 "nbformat_minor": 2
}
